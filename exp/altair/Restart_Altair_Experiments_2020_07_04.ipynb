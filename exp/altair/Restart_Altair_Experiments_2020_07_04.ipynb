{
 "nbformat": 4,
 "nbformat_minor": 0,
 "metadata": {
  "colab": {
   "name": "Restart - Altair Experiments - 2020-07-04",
   "provenance": [],
   "collapsed_sections": [],
   "authorship_tag": "ABX9TyOApdbAQS6aGb4ZlQ+Iy/uF",
   "include_colab_link": true
  },
  "kernelspec": {
   "name": "",
   "display_name": ""
  }
 },
 "cells": [
  {
   "cell_type": "markdown",
   "metadata": {
    "id": "view-in-github",
    "colab_type": "text"
   },
   "source": [
    "<a href=\"https://colab.research.google.com/github/restartus/covid-projection/blob/rich-demo/model/altair/Restart_Altair_Experiments_2020_07_04.ipynb\" target=\"_parent\"><img src=\"https://colab.research.google.com/assets/colab-badge.svg\" alt=\"Open In Colab\"/></a>"
   ]
  },
  {
   "cell_type": "markdown",
   "metadata": {
    "id": "qktPJzUdaWjs",
    "colab_type": "text"
   },
   "source": [
    "# Altair Tutorial\n",
    "\n",
    "[Altair tutorial](https://altair-viz.github.io/altair-tutorial/README.html) is a good way to learn things."
   ]
  },
  {
   "cell_type": "code",
   "metadata": {
    "id": "T-BO5Y88aJjJ",
    "colab_type": "code",
    "colab": {}
   },
   "source": [
    "import altair as alt\n",
    "from vega_datasets import data"
   ],
   "execution_count": null,
   "outputs": []
  },
  {
   "cell_type": "code",
   "metadata": {
    "id": "4fH_s2bAaM5n",
    "colab_type": "code",
    "colab": {}
   },
   "source": [
    "cars = data.cars()"
   ],
   "execution_count": null,
   "outputs": []
  },
  {
   "cell_type": "code",
   "metadata": {
    "id": "NPgPHH2jaNmW",
    "colab_type": "code",
    "colab": {
     "base_uri": "https://localhost:8080/",
     "height": 343
    },
    "outputId": "0dfcb895-8ffb-4cf2-fdb4-17918a54a12e"
   },
   "source": [
    "cars.head()"
   ],
   "execution_count": null,
   "outputs": []
  },
  {
   "cell_type": "code",
   "metadata": {
    "id": "rWvVoVGocm6l",
    "colab_type": "code",
    "colab": {
     "base_uri": "https://localhost:8080/",
     "height": 83
    },
    "outputId": "993e7c59-8ba3-48cb-9c87-8834e3093b4b"
   },
   "source": [
    "alt.Chart(cars).mark_point().encode(x='Miles_per_Gallon')"
   ],
   "execution_count": null,
   "outputs": []
  },
  {
   "cell_type": "code",
   "metadata": {
    "id": "TpPv9-sPdmlZ",
    "colab_type": "code",
    "colab": {
     "base_uri": "https://localhost:8080/",
     "height": 341
    },
    "outputId": "b5beae7b-fe55-4b18-d79e-cc7002efb1d3"
   },
   "source": [
    "alt.Chart(cars).mark_tick().encode(y='Horsepower')"
   ],
   "execution_count": null,
   "outputs": []
  },
  {
   "cell_type": "code",
   "metadata": {
    "id": "UAMwvQI5dz6E",
    "colab_type": "code",
    "colab": {
     "base_uri": "https://localhost:8080/",
     "height": 368
    },
    "outputId": "901a8f1b-52cd-4f0e-c417-19bb551fd38c"
   },
   "source": [
    "# Now a 2-D chart just specifies x and y\n",
    "alt.Chart(cars).mark_point().encode(y='Horsepower', x='Miles_per_Gallon')"
   ],
   "execution_count": null,
   "outputs": []
  },
  {
   "cell_type": "code",
   "metadata": {
    "id": "k9oulH3Aet2s",
    "colab_type": "code",
    "colab": {
     "base_uri": "https://localhost:8080/",
     "height": 368
    },
    "outputId": "7b7b51a3-4dd4-47fd-c0bd-e3ed63380d65"
   },
   "source": [
    "# Panning and zooming with interactive as another modifer in the chain\n",
    "alt.Chart(cars).mark_point().encode(x='Displacement', y='Horsepower').interactive()"
   ],
   "execution_count": null,
   "outputs": []
  },
  {
   "cell_type": "code",
   "metadata": {
    "id": "sBFEn2spe0nc",
    "colab_type": "code",
    "colab": {
     "base_uri": "https://localhost:8080/",
     "height": 368
    },
    "outputId": "3bd266c4-8820-4219-ba52-c2e140c5d25e"
   },
   "source": [
    "# Now we can use color as another dimension\n",
    "alt.Chart(cars).mark_point().encode(x='Miles_per_Gallon', y='Horsepower', color='Origin')"
   ],
   "execution_count": null,
   "outputs": []
  },
  {
   "cell_type": "markdown",
   "metadata": {
    "id": "R9qDfznIkIlW",
    "colab_type": "text"
   },
   "source": [
    "    # Now tell Altair that the values are ordina\n",
    "    alt.Chart(cars).mark_point().encode(x='Miles_per_Gallon', y='Horsepower', color='Cylinders:=O'"
   ]
  },
  {
   "cell_type": "markdown",
   "metadata": {
    "id": "BE6lyDV9k2qE",
    "colab_type": "text"
   },
   "source": [
    ""
   ]
  },
  {
   "cell_type": "code",
   "metadata": {
    "id": "YBJXc7Auk3FP",
    "colab_type": "code",
    "colab": {
     "base_uri": "https://localhost:8080/",
     "height": 368
    },
    "outputId": "eca6526b-81c9-4141-b86e-e6dc5b42ec83"
   },
   "source": [
    "alt.Chart(cars).mark_point().encode(x='Miles_per_Gallon', y='Displacement', color='Cylinders:O')"
   ],
   "execution_count": null,
   "outputs": []
  },
  {
   "cell_type": "markdown",
   "metadata": {
    "id": "D2J5xnR5ntid",
    "colab_type": "text"
   },
   "source": [
    "# Using some of our data"
   ]
  },
  {
   "cell_type": "code",
   "metadata": {
    "id": "r2JiqCGen4OM",
    "colab_type": "code",
    "colab": {
     "base_uri": "https://localhost:8080/",
     "height": 323
    },
    "outputId": "cb588e23-2fa1-4eb0-a41e-3621a82df6ef"
   },
   "source": [
    "import numpy as np\n",
    "import pandas as pd\n",
    "\n",
    "class Model():\n",
    "  label = { \"Level\" : [\"Essential\", \"Non-essential\"],\n",
    "             \"Resource\" : [\"N95 Medical\", \"N95\", \"ASTM 3 Mask\", \"ASTM 2 Mask\", \"Mask\", \"Gloves\", \"Gowns\", \"Goggles\"],\n",
    "            }\n",
    "  dim = { \"n\": 7,\n",
    "         \"l\": 2}\n",
    "class Resource():\n",
    "  foo = np.array([[123, 2313, 34543, 4343, 556, 208, 34, 43453],\n",
    "                 [345, 34234, 2343,8787, 8778, 4545, 3454, 423]])\n",
    "  def __init__(self, model):\n",
    "    self.demand_ln_arr = np.array([[500, 14, 1030, 1232, 234, 341, 1234, 343],\n",
    "                                   [12, 34, 56, 1232, 10343, 234, 9090, 32343]])\n",
    "    self.demand_ln_df = pd.DataFrame(self.foo,\n",
    "                            index=model.label[\"Level\"],\n",
    "                            columns=model.label[\"Resource\"])\n",
    "    self.demand_ln_df.index.name = \"Level\"\n",
    "\n",
    "model = Model()\n",
    "res = Resource(model)\n",
    "print(f\"{res.demand_ln_df}\")\n",
    "res.demand_ln_arr\n",
    "\n",
    "# https://altair-viz.github.io/user_guide/data.html\n",
    "# https://stackoverflow.com/questions/18022845/pandas-index-column-title-or-name\n",
    "res.demand_ln_df.shape\n",
    "res.demand_ln_df.ndim\n",
    "res.demand_ln_df.index\n",
    "# res.demand_ln_df.index.name=\"Level\"\n",
    "res.demand_ln_df.rename_axis(index='Level', inplace=True)\n",
    "print(f'{res.demand_ln_df}')\n",
    "res.demand_ln_df.shape\n",
    "res.demand_ln_df.reset_index()\n",
    "print(f'{res.demand_ln_df.reset_index()}')"
   ],
   "execution_count": null,
   "outputs": []
  },
  {
   "cell_type": "code",
   "metadata": {
    "id": "ySqkPmh2qtAh",
    "colab_type": "code",
    "colab": {
     "base_uri": "https://localhost:8080/",
     "height": 103
    },
    "outputId": "f59c7e5e-cd11-4159-bfa4-159e749ef4df"
   },
   "source": [
    "# https://pbpython.com/altair-intro.html\n",
    "# :Q is quantitiatve, :O is ordinal\n",
    "alt.Chart(res.demand_ln_df.reset_index()).mark_point().encode(x='N95 Medical:Q', y='Level')"
   ],
   "execution_count": null,
   "outputs": []
  },
  {
   "cell_type": "code",
   "metadata": {
    "id": "Ct3sPiD-0Jls",
    "colab_type": "code",
    "colab": {}
   },
   "source": [
    "# Pandas melt to convert from wide from to long form\n",
    "# https://altair-viz.github.io/user_guide/data.html\n",
    "d = res.demand_ln_df\n",
    "d.columns\n",
    "d.index.name=\"Level\"\n",
    "d=d.reset_index()"
   ],
   "execution_count": null,
   "outputs": []
  },
  {
   "cell_type": "code",
   "metadata": {
    "id": "fbpqW-zU0sH6",
    "colab_type": "code",
    "colab": {}
   },
   "source": [
    "# https://pandas.pydata.org/pandas-docs/stable/reference/api/pandas.DataFrame.melt.html\n",
    "d.melt(id_vars=['Level'])\n",
    "# https://altair-viz.github.io/user_guide/data.html\n",
    "dmelt=d.melt('Level', var_name='Resource', value_name='Units')\n",
    "\n",
    "# alt.Chart(res.demand_ln_df.melt()).mark_bar().encode(x='variable', y='value')"
   ],
   "execution_count": null,
   "outputs": []
  },
  {
   "cell_type": "code",
   "metadata": {
    "id": "iIMp-M819gls",
    "colab_type": "code",
    "colab": {
     "base_uri": "https://localhost:8080/",
     "height": 135
    },
    "outputId": "0122c037-991a-49b3-ef19-b3c113e65a06"
   },
   "source": [
    "# https://altair-viz.github.io/getting_started/starting.html\n",
    "# This takes the level and spreads all the units across it\n",
    "# in long form data, there are value columns (in this case only one)\n",
    "# and a bunch of index column in this case there are two\n",
    "# So this generates a one dimensional\n",
    "alt.Chart(dmelt).mark_point().encode(x=\"Level\")"
   ],
   "execution_count": null,
   "outputs": []
  },
  {
   "cell_type": "code",
   "metadata": {
    "id": "RAIaIUiU_gjZ",
    "colab_type": "code",
    "colab": {
     "base_uri": "https://localhost:8080/",
     "height": 421
    },
    "outputId": "833baaf9-36fa-4d57-d95e-232ef5bf2f3f"
   },
   "source": [
    "alt.Chart(dmelt).mark_bar().encode(x=\"Resource\", y=\"Units\")"
   ],
   "execution_count": null,
   "outputs": []
  },
  {
   "cell_type": "code",
   "metadata": {
    "id": "TxpSUXroANAv",
    "colab_type": "code",
    "colab": {
     "base_uri": "https://localhost:8080/",
     "height": 328
    },
    "outputId": "85c24744-aaf3-43c4-e40d-ee152cd83315"
   },
   "source": [
    "# https://altair-viz.github.io/getting_started/starting.htm\n",
    "import pandas as pd\n",
    "data = pd.DataFrame({'a': list('CCCDDDEEE'),\n",
    "                     'b': [2, 7, 4, 1, 2, 6, 8, 4, 7]})\n",
    "data"
   ],
   "execution_count": null,
   "outputs": []
  },
  {
   "cell_type": "code",
   "metadata": {
    "id": "p2NtkrVVAnUV",
    "colab_type": "code",
    "colab": {
     "base_uri": "https://localhost:8080/",
     "height": 366
    },
    "outputId": "be932e61-c79f-49a8-aada-88b986d4a780"
   },
   "source": [
    "alt.Chart(data).mark_point().encode(x='a', y='b')"
   ],
   "execution_count": null,
   "outputs": []
  },
  {
   "cell_type": "code",
   "metadata": {
    "id": "t6CyO-UPCjTd",
    "colab_type": "code",
    "colab": {
     "base_uri": "https://localhost:8080/",
     "height": 468
    },
    "outputId": "adb14b01-9123-4a9b-eba0-30f96e54fe62"
   },
   "source": [
    "# https://altair-viz.github.io/gallery/grouped_bar_chart.html\n",
    "alt.Chart(dmelt).mark_bar().encode(\n",
    "    x='Level',\n",
    "    y='Units',\n",
    "    color='Level',\n",
    "    column='Resource'\n",
    ")"
   ],
   "execution_count": null,
   "outputs": []
  },
  {
   "cell_type": "code",
   "metadata": {
    "id": "Owxf3PPVEXkU",
    "colab_type": "code",
    "colab": {
     "base_uri": "https://localhost:8080/",
     "height": 420
    },
    "outputId": "2bc639af-6bb5-409a-98d1-f87eb1e36e98"
   },
   "source": [
    "# Combo hard are easy\n",
    "# just have a base then encode from there\n",
    "# with different y values\n",
    "# https://altair-viz.github.io/gallery/bar_and_line_with_dual_axis.html\n",
    "chart = alt.Chart(dmelt).encode(x='Level')\n",
    "# Note how easy it is to just add more properties\n",
    "column_chart = chart.mark_bar().encode(column='Resource', y='Units', color=\"Level\")\n",
    "bar = chart.mark_bar().encode(y='Units')\n",
    "# https://altair-viz.github.io/gallery/bar_chart_with_mean_line.html\n",
    "# note you cannot do this for things with columns as in column_chart\n",
    "line = chart.mark_line(color='red').encode(y='mean(Units)')\n",
    "(bar + line).properties(width=600)\n"
   ],
   "execution_count": null,
   "outputs": []
  },
  {
   "cell_type": "code",
   "metadata": {
    "id": "yN5yie9tHWb6",
    "colab_type": "code",
    "colab": {
     "base_uri": "https://localhost:8080/",
     "height": 468
    },
    "outputId": "d05a3219-60b4-49a5-deb8-69b05e0795e3"
   },
   "source": [
    "column_chart = chart.mark_bar().encode(column='Resource', y='Units', color=\"Level\")\n",
    "column_chart"
   ],
   "execution_count": null,
   "outputs": []
  },
  {
   "cell_type": "code",
   "metadata": {
    "id": "KfPTXWNaIxsp",
    "colab_type": "code",
    "colab": {
     "base_uri": "https://localhost:8080/",
     "height": 468
    },
    "outputId": "ba91338c-b94a-47a8-cd20-ef3745ff8e6a"
   },
   "source": [
    "# https://altair-viz.github.io/gallery/bar_rounded.html\n",
    "chart.mark_bar(cornerRadiusTopLeft=3,\n",
    "              cornerRadiusTopRight=3\n",
    ").encode(\n",
    "    x='Level',\n",
    "    y=\"Units\",\n",
    "    column='Resource',\n",
    "    color='Level'\n",
    ")"
   ],
   "execution_count": null,
   "outputs": []
  },
  {
   "cell_type": "code",
   "metadata": {
    "id": "8gjKhWEjJdkb",
    "colab_type": "code",
    "colab": {
     "base_uri": "https://localhost:8080/",
     "height": 176
    },
    "outputId": "d27358ef-f181-4260-ea00-d82ad634d012"
   },
   "source": [
    "# https://altair-viz.github.io/gallery/percentage_of_total.html\n",
    "# doing math inside altair \n",
    "# https://altair-viz.github.io/user_guide/transform/joinaggregate.html\n",
    "# We are creating a new column of data, so we perform\n",
    "# an aggregation and then join it to the original dataset in place\n",
    "alt.Chart(dmelt).transform_joinaggregate(\n",
    "    TotalUnits = 'sum(Units)'\n",
    "    ).transform_calculate(\n",
    "        PercentOfTotal='datum.Units / datum.TotalUnits'\n",
    "    ).mark_bar().encode(\n",
    "        x='PercentOfTotal:Q',\n",
    "        y='Level',\n",
    "        column='Resource'  \n",
    "    )"
   ],
   "execution_count": null,
   "outputs": []
  },
  {
   "cell_type": "code",
   "metadata": {
    "id": "Tp7G-xDRM6U6",
    "colab_type": "code",
    "colab": {
     "base_uri": "https://localhost:8080/",
     "height": 135
    },
    "outputId": "dd7c1f95-506f-436e-a7d9-431809b7f994"
   },
   "source": [
    "# https://altair-viz.github.io/user_guide/transform/calculate.html\n",
    "# https://github.com/altair-viz/altair/pull/215\n",
    "# The above is quite messy because you are passing strings\n",
    "# And are using vega-lite underneath\n",
    "from altair import expr, datum\n",
    "\n",
    "data = expr"
   ],
   "execution_count": null,
   "outputs": []
  }
 ]
}
