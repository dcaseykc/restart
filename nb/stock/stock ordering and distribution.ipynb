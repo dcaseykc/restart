{
 "cells": [
  {
   "cell_type": "code",
   "execution_count": null,
   "metadata": {},
   "outputs": [],
   "source": [
    "import numpy as np\n",
    "import pandas as pd\n",
    "import random as r\n",
    "import math\n",
    "\n",
    "import matplotlib.pyplot as plot"
   ]
  },
  {
   "cell_type": "code",
   "execution_count": 4,
   "metadata": {},
   "outputs": [],
   "source": [
    "#define sets\n",
    "\n",
    "#set of items\n",
    "\n",
    "I = [\"Masks (N95)\",\n",
    "\"Masks (Surgical)\",\n",
    "\"Nitrile Gloves (Public Safety)\",\n",
    "\"Nitrile Gloves (General Use)\",\n",
    "\"Surgical gowns\",\n",
    "\"Disinfectant Wipes\",\n",
    "\"Antimicrobial (PAWS) Wipes\",\n",
    "\"Hand Sanitizer (12oz or equiv)\",\n",
    "\"Purell (1200 ml stand refill)\",\n",
    "\"Thermometers\",\n",
    "\"Isopropyl Alcohol (16oz or equiv)\",\n",
    "\"Hand Soap\",\n",
    "\"Tyvek Suits w/hoods\",\n",
    "\"Tyvek Suits\",\n",
    "\"Facial Tissue\",\n",
    "\"Masks (Cloth)\",\n",
    "\"Goggles\",\n",
    "\"Face Shields\",\n",
    "\"Toilet Paper\"]\n",
    "\n",
    "J = [\"FAS-Centralized\",\n",
    "\"SFD\",\n",
    "\"SPD\",\n",
    "\"Parks\",\n",
    "\"SPU\",\n",
    "\"SDOT\",\n",
    "\"SDCI\",\n",
    "\"Libraries\",\n",
    "\"SeaIT\",\n",
    "\"Seattle Ctr\",\n",
    "\"SCL\"  \n",
    "]"
   ]
  },
  {
   "cell_type": "code",
   "execution_count": null,
   "metadata": {},
   "outputs": [],
   "source": [
    "#id directories\n",
    "data_dir = '/Users/chelseagreene/Desktop/Academic/PhD/ResearchAssistanship/Projects/RestartPartners/TestData'\n",
    "results_dir = '/Users/chelseagreene/Desktop/Academic/PhD/ResearchAssistanship/Projects/RestartPartners/TestResults'"
   ]
  },
  {
   "cell_type": "code",
   "execution_count": null,
   "metadata": {},
   "outputs": [],
   "source": [
    "#read in data\n",
    "os.chdir(data_dir)\n",
    "\n",
    "demand_df = pd.read_csv('demand.csv')\n",
    "supply_df = pd.read_csv('supply_df.csv')"
   ]
  }
 ],
 "metadata": {
  "kernelspec": {
   "display_name": "Python 3",
   "language": "python",
   "name": "python3"
  },
  "language_info": {
   "codemirror_mode": {
    "name": "ipython",
    "version": 3
   },
   "file_extension": ".py",
   "mimetype": "text/x-python",
   "name": "python",
   "nbconvert_exporter": "python",
   "pygments_lexer": "ipython3",
   "version": "3.7.3"
  }
 },
 "nbformat": 4,
 "nbformat_minor": 4
}
