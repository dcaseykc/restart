{
 "cells": [
  {
   "cell_type": "code",
   "execution_count": null,
   "metadata": {},
   "outputs": [],
   "source": [
    "import os\n",
    "import pandas as pd\n",
    "import numpy as np\n",
    "from util import load_dataframe"
   ]
  },
  {
   "cell_type": "code",
   "execution_count": null,
   "metadata": {},
   "outputs": [],
   "source": [
    "DF_PATH = os.environ['HOME'] + '/ws/git/src/extern/data/ingestion/covid-surge-who.h5'\n",
    "RES_LIST = ['Level', 'N95 + Mask', 'N95', 'ASTM 3 Mask', 'ASTM 1-2 Mask', 'Non ASTM Mask', 'Face Shield', 'Gowns', 'Gloves', 'Shoe Covers']\n",
    "df = load_dataframe(DF_PATH)\n",
    "\n",
    "def format_res(df):\n",
    "    df.columns = df.iloc[5]\n",
    "    df = df.iloc[6:13]\n",
    "    df = df[RES_LIST]\n",
    "    df = df.fillna(0)\n",
    "    return df\n",
    "\n",
    "def df_to_arr(df):\n",
    "    arr = np.array(df)\n",
    "    arr_labs = list(df.columns)\n",
    "    return arr_labs, arr"
   ]
  },
  {
   "cell_type": "code",
   "execution_count": null,
   "metadata": {},
   "outputs": [],
   "source": [
    "arr_labs, arr = df_to_arr(format_res(df))"
   ]
  },
  {
   "cell_type": "code",
   "execution_count": null,
   "metadata": {},
   "outputs": [],
   "source": [
    "format_res(df)"
   ]
  }
 ],
 "metadata": {
  "kernelspec": {
   "display_name": "",
   "language": "python",
   "name": ""
  },
  "language_info": {
   "codemirror_mode": {
    "name": "ipython",
    "version": 3
   },
   "file_extension": ".py",
   "mimetype": "text/x-python",
   "name": "python",
   "nbconvert_exporter": "python",
   "pygments_lexer": "ipython3",
   "version": "3.8.5"
  }
 },
 "nbformat": 4,
 "nbformat_minor": 4
}
