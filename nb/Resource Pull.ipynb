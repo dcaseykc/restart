{
 "cells": [
  {
   "cell_type": "code",
   "execution_count": 28,
   "metadata": {},
   "outputs": [],
   "source": [
    "import os\n",
    "import pandas as pd\n",
    "import numpy as np\n",
    "from util import load_dataframe"
   ]
  },
  {
   "cell_type": "code",
   "execution_count": 34,
   "metadata": {},
   "outputs": [],
   "source": [
    "DF_PATH = os.environ['HOME'] + '/ws/git/src/extern/data/ingestion/covid-surge-who.h5'\n",
    "RES_LIST = ['Level', 'N95 + Mask', 'N95', 'ASTM 3 Mask', 'ASTM 1-2 Mask', 'Non ASTM Mask', 'Face Shield', 'Gowns', 'Gloves', 'Shoe Covers']\n",
    "df = load_dataframe(DF_PATH)\n",
    "\n",
    "def format_res(df):\n",
    "    df.columns = df.iloc[5]\n",
    "    df = df.iloc[6:15]\n",
    "    df = df[RES_LIST]\n",
    "    df = df.fillna(0)\n",
    "    return df\n",
    "\n",
    "def df_to_arr(df):\n",
    "    arr = np.array(df)\n",
    "    arr_labs = list(df.columns)\n",
    "    return arr_labs, arr"
   ]
  },
  {
   "cell_type": "code",
   "execution_count": 35,
   "metadata": {},
   "outputs": [],
   "source": [
    "arr_labs, arr = df_to_arr(format_res(df))"
   ]
  },
  {
   "cell_type": "code",
   "execution_count": 36,
   "metadata": {},
   "outputs": [
    {
     "name": "stdout",
     "output_type": "stream",
     "text": [
      "['Level', 'N95 + Mask', 'N95', 'ASTM 3 Mask', 'ASTM 1-2 Mask', 'Non ASTM Mask', 'Face Shield', 'Gowns', 'Gloves', 'Shoe Covers']\n",
      "[[0.00000000e+00 0.00000000e+00 0.00000000e+00 0.00000000e+00\n",
      "  0.00000000e+00 0.00000000e+00 0.00000000e+00 0.00000000e+00\n",
      "  0.00000000e+00 0.00000000e+00]\n",
      " [1.00000000e+00 0.00000000e+00 0.00000000e+00 0.00000000e+00\n",
      "  0.00000000e+00 1.00000000e+00 2.00000000e-02 1.00000000e-02\n",
      "  5.00000000e-01 0.00000000e+00]\n",
      " [2.00000000e+00 0.00000000e+00 0.00000000e+00 0.00000000e+00\n",
      "  0.00000000e+00 2.00000000e+00 4.00000000e-02 2.00000000e-02\n",
      "  1.00000000e+00 0.00000000e+00]\n",
      " [3.00000000e+00 0.00000000e+00 0.00000000e+00 0.00000000e+00\n",
      "  1.00000000e+00 2.00000000e+00 8.00000000e-02 3.00000000e-02\n",
      "  2.00000000e+00 5.00000000e-02]\n",
      " [4.00000000e+00 0.00000000e+00 5.00000000e-02 1.00000000e+00\n",
      "  0.00000000e+00 3.00000000e+00 1.20000000e-01 4.50000000e-02\n",
      "  4.00000000e+00 2.00000000e-01]\n",
      " [5.00000000e+00 0.00000000e+00 1.00000000e-01 2.00000000e+00\n",
      "  1.00000000e+00 0.00000000e+00 1.80000000e-01 1.50000000e+00\n",
      "  8.00000000e+00 4.00000000e-01]\n",
      " [6.00000000e+00 1.18105882e+00 0.00000000e+00 3.51458824e+00\n",
      "  1.50000000e+00 5.00000000e-02 2.70000000e-01 2.57364706e+00\n",
      "  1.20000000e+01 6.00000000e-01]\n",
      " [7.00000000e+00 0.00000000e+00 0.00000000e+00 0.00000000e+00\n",
      "  0.00000000e+00 0.00000000e+00 0.00000000e+00 0.00000000e+00\n",
      "  0.00000000e+00 0.00000000e+00]\n",
      " [0.00000000e+00 1.81058824e-01 0.00000000e+00 5.14588235e-01\n",
      "  0.00000000e+00 0.00000000e+00 0.00000000e+00 1.07364706e+00\n",
      "  0.00000000e+00 0.00000000e+00]]\n"
     ]
    }
   ],
   "source": [
    "print(arr_labs)\n",
    "print(arr)"
   ]
  },
  {
   "cell_type": "code",
   "execution_count": null,
   "metadata": {},
   "outputs": [],
   "source": []
  }
 ],
 "metadata": {
  "kernelspec": {
   "display_name": "Python 3",
   "language": "python",
   "name": "python3"
  },
  "language_info": {
   "codemirror_mode": {
    "name": "ipython",
    "version": 3
   },
   "file_extension": ".py",
   "mimetype": "text/x-python",
   "name": "python",
   "nbconvert_exporter": "python",
   "pygments_lexer": "ipython3",
   "version": "3.8.5"
  }
 },
 "nbformat": 4,
 "nbformat_minor": 4
}
