{
 "cells": [
  {
   "cell_type": "markdown",
   "metadata": {
    "slideshow": {
     "slide_type": "slide"
    }
   },
   "source": [
    "# Washington Public Safety Preliminary Analysis\n",
    "## 8 September 2020\n",
    "\n",
    "As part of the Fall preparation sprint, we spent the last ten days analyzing what it will take to beat the infection decisively this fall. There are three fundamental ideas:\n",
    "1. Backstop. Have a backstop that protects hospitals in the unlikely event, they outstrip their ability to procure the right resources. They are our last line of defense against the infection.\n",
    "2. Purchasing Cooperative. For smaller groups that have funds, but who can benefit from the aggregation of supply. This will protect an important group that is upstream of hospitals.\n",
    "3. Protecting the most vulnerable. The infection starts at this front line. We need to defend the most vulnerable against the infection. Not only does this reduce the disease burden, it also increases employment and takes the pressure off our relief efforts. Winning upstream, winning at the front lines, that is the key to victory.\n",
    "\n",
    "Questions and edits to rich@restart.us and lucas@restart.us"
   ]
  },
  {
   "cell_type": "code",
   "execution_count": 15,
   "metadata": {},
   "outputs": [],
   "source": [
    "import sys\n",
    "import bqplot\n",
    "import pandas as pd\n",
    "import ipywidgets as widgets\n",
    "from restart import RestartModel\n",
    "from restart.util import set_config, to_df, to_sheet, display_population, format_population, format_cells\n",
    "from bqplot import pyplot as plt\n",
    "\n",
    "\n",
    "chart_colors = [\"#77AADD\", \"#99DDFF\", \"#44BB99\", \"#BBCC33\", \"#AAAA00\", \"#EEDD88\",\n",
    "                \"#EE8866\", \"#FFAABB\", \"#DDDDDD\", \"#000000\"]\n",
    "\n",
    "def generate_bar(df, title=\"\", scientific_notation=False, small_xlabel=False):\n",
    "    fig = plt.figure(title=title)\n",
    "    x_vals = df.index.values.tolist()\n",
    "    if len(x_vals) > 5:\n",
    "        small_xlabel=True\n",
    "    x_titles = []\n",
    "    for val in x_vals:\n",
    "        if len(val.split(' ')) < 3:\n",
    "            x_titles.append(val)\n",
    "        else:\n",
    "            x_titles.append(\" \".join(val.split(' ')[:2]))\n",
    "    bar_chart = plt.bar(x=x_titles,\n",
    "                        y=df,\n",
    "                        colors=chart_colors[:df.index.values.size])\n",
    "    if small_xlabel:\n",
    "        fig.axes[0].tick_style = {\"font-size\": \"6\"}\n",
    "    if not scientific_notation:\n",
    "        fig.axes[1].tick_format = \".1f\"\n",
    "    return fig\n",
    "\n",
    "def generate_group_bar(df, title=\"\", scientific_notation=False):\n",
    "    fig = plt.figure(title=title)\n",
    "    bar_chart = plt.bar(x=df.columns.values.tolist(),\n",
    "                        y=df,\n",
    "                        labels=df.index.values.tolist(),\n",
    "                        display_legend=False,\n",
    "                        type=\"grouped\",\n",
    "                        colors=chart_colors[:df.index.values.size])\n",
    "    if df.columns.name:\n",
    "        plt.xlabel(df.columns.name.rsplit(\" \", 1)[0])\n",
    "    plt.ylim(0, np.amax(df.values))\n",
    "    if not scientific_notation:\n",
    "        fig.axes[1].tick_format = \".1f\"\n",
    "    return fig\n",
    "\n",
    "def generate_scatter(df, title=\"\", scientific_notation=False, small_xlabel=True):\n",
    "    fig = plt.figure(title=title)\n",
    "    x_vals = df.index.values.tolist()\n",
    "    if len(x_vals) > 5:\n",
    "        small_xlabel=True\n",
    "    x_titles = []\n",
    "    for val in x_vals:\n",
    "        if len(val.split(' ')) < 3:\n",
    "            x_titles.append(val)\n",
    "        else:\n",
    "            x_titles.append(\" \".join(val.split(' ')[:2]))\n",
    "    scatter = plt.scatter(x=x_titles, y=df)\n",
    "    \n",
    "    if small_xlabel:\n",
    "        fig.axes[0].tick_style = {\"font-size\": \"6\"}\n",
    "    if not scientific_notation:\n",
    "        fig.axes[1].tick_format = \".1f\"\n",
    "    return fig\n",
    "    \n",
    "def generate_stacked_bar(df, title=\"\", scientific_notation=False):\n",
    "    fig = plt.figure(title=title)\n",
    "    \n",
    "    bar_chart = plt.bar(x=df.columns.values.tolist(),\n",
    "                        y=df,\n",
    "                        labels=df.index.values.tolist(),\n",
    "                        display_legend=False,\n",
    "                        type=\"stacked\",\n",
    "                        colors=chart_colors[:df.index.values.size])\n",
    "    if df.columns.name:\n",
    "        plt.xlabel(df.columns.name.rsplit(\" \", 1)[0])\n",
    "    plt.ylim(0, np.amax(df.values))\n",
    "    if not scientific_notation:\n",
    "        fig.axes[1].tick_format = \".1f\"\n",
    "    return fig\n",
    "\n",
    "def generate_separate_bar_list(df, scientific_notation=False, small_xlabel=False): # returns list, NOT widget\n",
    "    bar_list = []\n",
    "    for col in df.columns: # .values.tolist()\n",
    "        bar_list.append(generate_bar(df[col][df[col] != 0], title=col, scientific_notation=scientific_notation, small_xlabel=small_xlabel))\n",
    "    return bar_list\n",
    "\n",
    "def generate_separate_scatter_list(df, scientific_notation=False, small_xlabel=False): # returns list, NOT widget\n",
    "    scatter_list = []\n",
    "    for col in df.columns: # .values.tolist()\n",
    "        scatter_list.append(generate_scatter(df[col][df[col] != 0], title=col, scientific_notation=scientific_notation, small_xlabel=small_xlabel))\n",
    "    return scatter_list\n",
    "\n",
    "def generate_html_legend(df, colors=chart_colors, table=True, font_size=13):\n",
    "    name = df.index.name.rsplit(\" \", 1)[0]\n",
    "    html_string = f\"<div style='font-size:{font_size}px; font-family:helvetica'><b style='font-weight:bold'>{name}</b>\"\n",
    "    indices = df.index.values\n",
    "    if table:\n",
    "        html_string += \"<table><tr>\"\n",
    "        for i in range(0, indices.size):\n",
    "            if i % 2 == 0:\n",
    "                index_num = int(i / 2)\n",
    "            else:\n",
    "                index_num = int(i / 2 + indices.size / 2)\n",
    "            html_string += f\"<td style='padding:0 5px'><span style='color:{colors[index_num]}'>█</span> {indices[index_num]}</td>\"\n",
    "            if i % 2 != 0:\n",
    "                html_string += \"</tr><tr>\"\n",
    "        html_string += \"</tr></table>\"\n",
    "    else:\n",
    "        for_count = 0\n",
    "        for string in indices:\n",
    "            if for_count == 0:\n",
    "                html_string += \"<br>\"\n",
    "            else:\n",
    "                html_string += \"&emsp;\"\n",
    "            html_string += f\"<span style='color:{colors[for_count]}'>█</span> {string}\"\n",
    "            for_count += 1\n",
    "    html_string += \"</div>\"\n",
    "    return widgets.HTML(html_string)\n",
    "\n",
    "def generate_group_bar_legend(df, title=\"\", scientific_notation=False, legend_table=True):\n",
    "    chart = generate_group_bar(df, title=title, scientific_notation=scientific_notation)\n",
    "    legend = generate_html_legend(df, table=legend_table)\n",
    "    return widgets.VBox([chart, legend])\n",
    "\n",
    "def generate_stacked_bar_legend(df, title=\"\", scientific_notation=False, legend_table=True):\n",
    "    chart = generate_stacked_bar(df, title=title, scientific_notation=scientific_notation)\n",
    "    legend = generate_html_legend(df, table=legend_table)\n",
    "    return widgets.VBox([chart, legend])"
   ]
  },
  {
   "cell_type": "markdown",
   "metadata": {
    "slideshow": {
     "slide_type": "slide"
    }
   },
   "source": [
    "# Public Safety Groupings (for Des)\n",
    "These include EMTs, firefighters, and other public safety officers. A detailed breakdown of SOC codes can be seen below."
   ]
  },
  {
   "cell_type": "code",
   "execution_count": 28,
   "metadata": {},
   "outputs": [
    {
     "data": {
      "application/vnd.jupyter.widget-view+json": {
       "model_id": "bda424bf3b2a432ba5dae3b4f8dda19f",
       "version_major": 2,
       "version_minor": 0
      },
      "text/plain": [
       "VBox(children=(IntSlider(value=30, continuous_update=False, description='Days', max=120, min=1), Output()))"
      ]
     },
     "metadata": {},
     "output_type": "display_data"
    }
   ],
   "source": [
    "config = set_config('../restart')\n",
    "restart = RestartModel(\n",
    "    config='wa_groups',\n",
    "    population='oes',\n",
    "    state='Washington',\n",
    "    subpop='wa_groupings'\n",
    ")\n",
    "\n",
    "model = restart.model\n",
    "model.inventory.set_average_orders_per_period(model.demand.demand_by_popsum1_total_rp1n_tc)\n",
    "\n",
    "slider = widgets.IntSlider(min=1, max=120, value=30, description = \"Days\", continuous_update=False)\n",
    "\n",
    "def dashboard(backstop):\n",
    "    set_stock(backstop)\n",
    "    \n",
    "def display_stock(df):\n",
    "    df = df.round()\n",
    "    index_name = \"Population\"\n",
    "    headers = ['EMTs', 'Firefighters', 'Other Public Safety']\n",
    "    df.insert(loc=0, column=index_name, value=headers)\n",
    "    sheet = to_sheet(df)\n",
    "    format_cells(sheet)\n",
    "    sheet.row_headers = False\n",
    "    display(sheet)\n",
    "    \n",
    "def set_stock(backstop):\n",
    "    backstop = [backstop]\n",
    "    model.inventory.order(model.inventory.inv_by_popsum1_total_rp1n_tc)\n",
    "    model.inventory.set_min_in_periods(backstop)\n",
    "    display_stock(model.inventory.inv_by_popsum1_total_rp1n_tc.df)\n",
    "    \n",
    "wa_burn_sheet = format_population(to_sheet(model.demand.demand_per_unit_map_dn_um.df))\n",
    "pop = format_population(to_sheet(model.population.population_pP_tr.df))\n",
    "    \n",
    "out = widgets.interactive_output(dashboard, {'backstop': slider})\n",
    "\n",
    "widgets.VBox([slider, out])"
   ]
  },
  {
   "cell_type": "code",
   "execution_count": 29,
   "metadata": {},
   "outputs": [
    {
     "data": {
      "application/vnd.jupyter.widget-view+json": {
       "model_id": "691d05a5445a49ce9a7e63a294542e93",
       "version_major": 2,
       "version_minor": 0
      },
      "text/plain": [
       "Sheet(cells=(Cell(column_end=0, column_start=0, numeric_format='0,000', read_only=True, row_end=6, row_start=0…"
      ]
     },
     "metadata": {},
     "output_type": "display_data"
    }
   ],
   "source": [
    "sum_df = restart.model.population.pop_to_popsum1_per_unit_map_pp1_us.df\n",
    "display_population(to_sheet(sum_df))"
   ]
  },
  {
   "cell_type": "markdown",
   "metadata": {},
   "source": [
    "# Washington Grouping Analysis\n",
    "\n",
    "# Group 1: Backstop to Large Providers\n",
    "These are the large hospitals and other facilities that take care of our sickest patients. With the fall, we will face the difficult challenge of both the flu season and the recurrence of COVID-19 as the climate worsens and people move indoors.\n",
    "\n",
    "This group will provide most of their own PPE, disinfection and other resources with the state acting as a backstop in extreme emergencies. Given the exponential nature of infection, we need this backstop because even the best predictions have a large variance. For example, if the disease doubles every week, then even a two week error in estimate will increase PPE requirements in COVID wards by 4x.\n",
    "\n",
    "# Group 2: Aggregate Demand of Smaller Providers\n",
    "\n",
    "This second group consists of several different populations\n",
    "\n",
    "- Smaller health care providers such as hospitals with 299 beds or less\n",
    "- long-term care providers and nursing homes\n",
    "- behavioral health facilities\n",
    "- dentists\n",
    "- morticians\n",
    "- Federally Qualified Health Centers [FQHC](https://www.hrsa.gov/opa/eligibility-and-registration/health-centers/fqhc/index.html) community health providers\n",
    "- public health organizations,\n",
    "- tribal clinics\n",
    "- independent physician practices\n",
    "- First responders including EMOs, police, fire\n",
    "\n",
    "We use two different methods to estimate these populations. More detailed surveys and census methods are also possible, so consider these methods as ways to get a broad measure of the scope of the problem. \n",
    "\n",
    "## Employee Classification (SOC) Analysis\n",
    "\n",
    "SOC codes starting with \"29-\", \"31-\", and \"33-\" refer to, respectively, healthcare occupations, healthcare support occupations, and protection services. We estimate of the percentage of healthcare workers or healthcare-support workers fall into the Group 2 category, and simply scale all the numbers by that amount. It seems like a safe assumption that all the protection services would fall into this group. \n",
    "\n",
    "This analysis provides the stockpile that you would need to 100% cover the group for 30 days. A key policy decision is the size of the back stop needed. If you want to cover 50% of the demand for 30 days, then the figures would be half that.\n"
   ]
  },
  {
   "cell_type": "code",
   "execution_count": 30,
   "metadata": {},
   "outputs": [
    {
     "data": {
      "application/vnd.jupyter.widget-view+json": {
       "model_id": "501ee7103e4b43e8baa1b7347ac308b1",
       "version_major": 2,
       "version_minor": 0
      },
      "text/plain": [
       "VBox(children=(IntSlider(value=30, continuous_update=False, description='Days', max=120, min=1), Output()))"
      ]
     },
     "metadata": {},
     "output_type": "display_data"
    }
   ],
   "source": [
    "import numpy as np\n",
    "import ipysheet\n",
    "import ipywidgets as widgets\n",
    "from ipywidgets import Layout\n",
    "\n",
    "config = set_config('config/default')\n",
    "restart = RestartModel(population='oes', state='Washington', subpop='wa_tier2_opt1')\n",
    "model = restart.model\n",
    "model.inventory.set_average_orders_per_period(model.demand.demand_by_popsum1_total_rp1n_tc)\n",
    "\n",
    "slider = widgets.IntSlider(min=1, max=120, value=30, description = \"Days\", continuous_update=False)\n",
    "\n",
    "def dashboard(backstop):\n",
    "    set_stock(backstop)\n",
    "    \n",
    "def display_stock(df):\n",
    "    df = df.round()\n",
    "    index_name = \"Population\"\n",
    "    headers = ['Essential', 'Non-Essential']\n",
    "    df.insert(loc=0, column=index_name, value=headers)\n",
    "    sheet = to_sheet(df)\n",
    "    format_cells(sheet)\n",
    "    sheet.row_headers = False\n",
    "    display(sheet)\n",
    "    \n",
    "def set_stock(backstop):\n",
    "    backstop = [backstop]\n",
    "    model.inventory.order(model.inventory.inv_by_popsum1_total_rp1n_tc)\n",
    "    model.inventory.set_min_in_periods(backstop)\n",
    "    display_stock(model.inventory.inv_by_popsum1_total_rp1n_tc.df)\n",
    "    \n",
    "wa_burn_sheet = format_population(to_sheet(model.demand.demand_per_unit_map_dn_um.df))\n",
    "pop = format_population(to_sheet(model.population.population_pP_tr.df))\n",
    "    \n",
    "out = widgets.interactive_output(dashboard, {'backstop': slider})\n",
    "\n",
    "widgets.VBox([slider, out])"
   ]
  },
  {
   "cell_type": "markdown",
   "metadata": {},
   "source": [
    "Burn rate assumptions and a detailed population breakdown"
   ]
  },
  {
   "cell_type": "code",
   "execution_count": 31,
   "metadata": {},
   "outputs": [
    {
     "data": {
      "application/vnd.jupyter.widget-view+json": {
       "model_id": "c011cc8b656f42fe978ceb44f954f466",
       "version_major": 2,
       "version_minor": 0
      },
      "text/plain": [
       "VBox(children=(Sheet(cells=(Cell(column_end=0, column_start=0, numeric_format='0,000', read_only=True, row_end…"
      ]
     },
     "metadata": {},
     "output_type": "display_data"
    }
   ],
   "source": [
    "wa_burn_sheet = format_population(to_sheet(model.demand.demand_per_unit_map_dn_um.df))\n",
    "pop = format_population(to_sheet(model.population.population_pP_tr.df))\n",
    "\n",
    "widgets.VBox([wa_burn_sheet, pop])"
   ]
  },
  {
   "cell_type": "markdown",
   "metadata": {},
   "source": [
    "Mapping of population to essential vs. non-essential workers"
   ]
  },
  {
   "cell_type": "code",
   "execution_count": 32,
   "metadata": {},
   "outputs": [
    {
     "data": {
      "application/vnd.jupyter.widget-view+json": {
       "model_id": "e3cb86b647f24356b6d51f0545fc8818",
       "version_major": 2,
       "version_minor": 0
      },
      "text/plain": [
       "Sheet(cells=(Cell(column_end=0, column_start=0, numeric_format=None, row_end=86, row_start=0, squeeze_row=Fals…"
      ]
     },
     "metadata": {},
     "output_type": "display_data"
    }
   ],
   "source": [
    "essential_arr = restart.model.population.pop_to_popsum1_per_unit_map_pp1_us.array\n",
    "population_labels = list(restart.model.population.pop_to_popsum1_per_unit_map_pp1_us.df.index)\n",
    "\n",
    "\n",
    "essential_list = []\n",
    "\n",
    "for row in essential_arr:\n",
    "    if row[0] == 1:\n",
    "        essential_list.append('Y')\n",
    "    else:\n",
    "        essential_list.append('N')\n",
    "\n",
    "essential_df = pd.DataFrame(essential_list)\n",
    "essential_df.insert(loc=0, column='Population', value=population_labels)\n",
    "essential_df.columns = ['Population', 'Essential Worker']\n",
    "essential_sheet = to_sheet(essential_df)\n",
    "essential_sheet.row_headers = False\n",
    "\n",
    "essential_sheet"
   ]
  },
  {
   "cell_type": "markdown",
   "metadata": {},
   "source": [
    "### Note on specific SOC codes used in Analysis\n",
    "\n",
    "The main assumption here is that we are going to include certain groups as part of the coding for Group 2 this would include, a subset of occupations in these groups. Note that there is some overlap here because this is a list of all occupations and some percentage of these work in Group 1. These can of course all be modified, but this is the basis for the \"quick\" pull done here:\n",
    "\n",
    "| OCC Category  | SOC Code |\n",
    "| :- | -: |\n",
    "| OCC Category 29 | SOC Code |\n",
    "| Dental Hygienists | 29-1292 |   \n",
    "| EMTs and Paramedics | 29-2040 |\n",
    "| Family Medicine Physicians | 29-1215 | \n",
    "| Respiratory Therapists | 29-1126 |\n",
    "| Psychiatrists | 29-1223 |\n",
    "| Audiologists | 29-1181 |\n",
    "| Pediatricians | 29-1221 |\n",
    "| Psychiatric Technicians | 29-2052 |\n",
    "\n",
    "| OCC Category 31 | SOC Code |\n",
    "| :- | -: |\n",
    "| Home Health and Personal Care Aides | 31-1120 |\n",
    "| Nursing Assistants | 31-1131   |\n",
    "| Morticians, Undertakers, and Funeral Arrangers |  39-4031 |\n",
    "| Orderlies | 31-1132 |\n",
    "| Psychiatric Aides | 31-1133  |\n",
    "| Dental Assistants | 31-9091 |\n",
    "\n",
    "| OCC Category 33 and 39 | SOC Code |\n",
    "| :- | -: |\n",
    "| Firefighters |  33-2011 |\n",
    "| Correctional Officers and Jailers |  33-3012 |\n",
    "| Detectives and Criminal Investigators |  33-3021  |\n",
    "| Transportation Security Screeners | 33-9093 |\n",
    "| Parking Enforcement Workers | 33-3041   |\n",
    "| Police and Sheriff’s Patrol officers | 33-3051 |\n",
    "| Embalmers |  39-4011 |\n"
   ]
  },
  {
   "cell_type": "markdown",
   "metadata": {},
   "source": [
    "Pulling from these pre-defined codes, this is the resulting analysis:"
   ]
  },
  {
   "cell_type": "code",
   "execution_count": 33,
   "metadata": {},
   "outputs": [
    {
     "data": {
      "application/vnd.jupyter.widget-view+json": {
       "model_id": "8ddb7504731d4a1fb8ec3bd9d588116b",
       "version_major": 2,
       "version_minor": 0
      },
      "text/plain": [
       "VBox(children=(IntSlider(value=30, continuous_update=False, description='Days', max=120, min=1), Output()))"
      ]
     },
     "metadata": {},
     "output_type": "display_data"
    }
   ],
   "source": [
    "config = set_config('config/default')\n",
    "restart = RestartModel(population='oes', state='Washington', subpop='wa_tier2_opt2')\n",
    "model = restart.model\n",
    "model.inventory.set_average_orders_per_period(model.demand.demand_by_popsum1_total_rp1n_tc)\n",
    "\n",
    "slider = widgets.IntSlider(min=1, max=120, value=30, description = \"Days\", continuous_update=False)\n",
    "\n",
    "def dashboard(backstop):\n",
    "    set_stock(backstop)\n",
    "    \n",
    "def display_stock(df):\n",
    "    df = df.round()\n",
    "    index_name = \"Population\"\n",
    "    headers = ['Essential', 'Non-Essential']\n",
    "    df.insert(loc=0, column=index_name, value=headers)\n",
    "    sheet = to_sheet(df)\n",
    "    format_cells(sheet)\n",
    "    sheet.row_headers = False\n",
    "    display(sheet)\n",
    "    \n",
    "def set_stock(backstop):\n",
    "    backstop = [backstop]\n",
    "    model.inventory.order(model.inventory.inv_by_popsum1_total_rp1n_tc)\n",
    "    model.inventory.set_min_in_periods(backstop)\n",
    "    display_stock(model.inventory.inv_by_popsum1_total_rp1n_tc.df)\n",
    "    \n",
    "wa_burn_sheet = format_population(to_sheet(model.demand.demand_per_unit_map_dn_um.df))\n",
    "pop = format_population(to_sheet(model.population.population_pP_tr.df))\n",
    "    \n",
    "out = widgets.interactive_output(dashboard, {'backstop': slider})\n",
    "\n",
    "widgets.VBox([slider, out])"
   ]
  },
  {
   "cell_type": "markdown",
   "metadata": {},
   "source": [
    "Burn rates and population breakdown:"
   ]
  },
  {
   "cell_type": "code",
   "execution_count": 34,
   "metadata": {},
   "outputs": [
    {
     "data": {
      "application/vnd.jupyter.widget-view+json": {
       "model_id": "b26f1fa280c5406780b11c97102133de",
       "version_major": 2,
       "version_minor": 0
      },
      "text/plain": [
       "VBox(children=(Sheet(cells=(Cell(column_end=0, column_start=0, numeric_format='0,000', read_only=True, row_end…"
      ]
     },
     "metadata": {},
     "output_type": "display_data"
    }
   ],
   "source": [
    "widgets.VBox([wa_burn_sheet, pop])"
   ]
  }
 ],
 "metadata": {
  "celltoolbar": "Slideshow",
  "kernelspec": {
   "display_name": "Python 3",
   "language": "python",
   "name": "python3"
  },
  "language_info": {
   "codemirror_mode": {
    "name": "ipython",
    "version": 3
   },
   "file_extension": ".py",
   "mimetype": "text/x-python",
   "name": "python",
   "nbconvert_exporter": "python",
   "pygments_lexer": "ipython3",
   "version": "3.8.5"
  }
 },
 "nbformat": 4,
 "nbformat_minor": 4
}
