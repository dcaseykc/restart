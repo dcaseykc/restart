{
 "cells": [
  {
   "cell_type": "markdown",
   "metadata": {},
   "source": [
    "# California PPE Projections \n",
    "## Editable View\n",
    "This document provides direct access to the underlying data informing the projections. In addition to using sliders to adjust stockpile days, you can edit burn rate assumptions and rerun the model on the spot.\n",
    "\n",
    "We provide detailed annotations of how to adjust model parameters for readers that might not have experience in programming or the Python programming language. However, if you do have a programming background, we expose our source code here for even more interactivity and editability."
   ]
  },
  {
   "cell_type": "markdown",
   "metadata": {},
   "source": [
    "## Importing Python packages and defining basic interactivity functions"
   ]
  },
  {
   "cell_type": "code",
   "execution_count": 332,
   "metadata": {},
   "outputs": [],
   "source": [
    "import os\n",
    "import sys\n",
    "import qgrid\n",
    "import pathlib\n",
    "import restart\n",
    "import numpy as np\n",
    "import pandas as pd\n",
    "from ipywidgets import widgets\n",
    "from restart import RestartModel\n",
    "from restart import Data\n",
    "from restart_datasets import data\n",
    "from IPython.display import Javascript, display\n",
    "from restart.util import set_config, to_df, to_sheet, display_population, format_population, format_cells\n",
    "from restart_datasets import data\n",
    "import ipywidgets as widgets\n",
    "import bqplot\n",
    "from bqplot import pyplot as plt\n",
    "\n",
    "qgrid.set_grid_option('forceFitColumns', False)\n",
    "PATH = pathlib.Path(restart.__file__).parent.absolute()\n",
    "chart_colors = [\"#77AADD\", \"#99DDFF\", \"#44BB99\", \"#BBCC33\", \"#AAAA00\", \"#EEDD88\",\n",
    "                \"#EE8866\", \"#FFAABB\", \"#DDDDDD\", \"#000000\"]\n",
    "\n",
    "def run_all(ev):\n",
    "    display(Javascript('IPython.notebook.execute_cell_range(IPython.notebook.get_selected_index()+1, \\\n",
    "                        IPython.notebook.ncells())'))\n",
    "    \n",
    "def create_run_button(description):\n",
    "    button = widgets.Button(description=description)\n",
    "    button.on_click(run_all)\n",
    "    return button\n",
    "\n",
    "def generate_pie_chart(df, title=\"\", show_decimal=False):\n",
    "    fig=plt.figure(title=title)\n",
    "    \n",
    "    pie_chart = plt.pie(sizes=df.values.tolist(),\n",
    "                        labels=df.index.values.tolist(),\n",
    "                        display_labels=\"outside\",\n",
    "                        colors=chart_colors[:df.index.values.size],\n",
    "                        display_values=True)\n",
    "    if not show_decimal:\n",
    "        pie_chart.values_format = \"0\"\n",
    "    return fig\n",
    "\n",
    "def generate_bar(df, title=\"\", scientific_notation=False, small_xlabel=False):\n",
    "    fig = plt.figure(title=title)\n",
    "    x_vals = df.index.values.tolist()\n",
    "    if len(x_vals) > 5:\n",
    "        small_xlabel=True\n",
    "    x_titles = []\n",
    "    for val in x_vals:\n",
    "        if len(val.split(' ')) < 3:\n",
    "            x_titles.append(val)\n",
    "        else:\n",
    "            x_titles.append(\" \".join(val.split(' ')[:2]))\n",
    "    bar_chart = plt.bar(x=x_titles,\n",
    "                        y=df,\n",
    "                        colors=chart_colors[:df.index.values.size])\n",
    "    if small_xlabel:\n",
    "        fig.axes[0].tick_style = {\"font-size\": \"6\"}\n",
    "    if not scientific_notation:\n",
    "        fig.axes[1].tick_format = \".1f\"\n",
    "    return fig\n",
    "\n",
    "def generate_group_bar(df, title=\"\", scientific_notation=False):\n",
    "    fig = plt.figure(title=title)\n",
    "    bar_chart = plt.bar(x=df.columns.values.tolist(),\n",
    "                        y=df,\n",
    "                        labels=df.index.values.tolist(),\n",
    "                        display_legend=False,\n",
    "                        type=\"grouped\",\n",
    "                        colors=chart_colors[:df.index.values.size])\n",
    "    if df.columns.name:\n",
    "        plt.xlabel(df.columns.name.rsplit(\" \", 1)[0])\n",
    "    plt.ylim(0, np.amax(df.values))\n",
    "    if not scientific_notation:\n",
    "        fig.axes[1].tick_format = \".1f\"\n",
    "    return fig\n",
    "\n",
    "def generate_scatter(df, title=\"\", scientific_notation=False, small_xlabel=True):\n",
    "    fig = plt.figure(title=title)\n",
    "    x_vals = df.index.values.tolist()\n",
    "    if len(x_vals) > 5:\n",
    "        small_xlabel=True\n",
    "    x_titles = []\n",
    "    for val in x_vals:\n",
    "        if len(val.split(' ')) < 3:\n",
    "            x_titles.append(val)\n",
    "        else:\n",
    "            x_titles.append(\" \".join(val.split(' ')[:2]))\n",
    "    scatter = plt.scatter(x=x_titles, y=df)\n",
    "    \n",
    "    if small_xlabel:\n",
    "        fig.axes[0].tick_style = {\"font-size\": \"6\"}\n",
    "    if not scientific_notation:\n",
    "        fig.axes[1].tick_format = \".1f\"\n",
    "    return fig\n",
    "    \n",
    "def generate_stacked_bar(df, title=\"\", scientific_notation=False):\n",
    "    fig = plt.figure(title=title)\n",
    "    \n",
    "    bar_chart = plt.bar(x=df.columns.values.tolist(),\n",
    "                        y=df,\n",
    "                        labels=df.index.values.tolist(),\n",
    "                        display_legend=False,\n",
    "                        type=\"stacked\",\n",
    "                        colors=chart_colors[:df.index.values.size])\n",
    "    if df.columns.name:\n",
    "        plt.xlabel(df.columns.name.rsplit(\" \", 1)[0])\n",
    "    plt.ylim(0, np.amax(df.values))\n",
    "    if not scientific_notation:\n",
    "        fig.axes[1].tick_format = \".1f\"\n",
    "    return fig\n",
    "\n",
    "def generate_separate_bar_list(df, scientific_notation=False, small_xlabel=False): # returns list, NOT widget\n",
    "    bar_list = []\n",
    "    for col in df.columns: # .values.tolist()\n",
    "        bar_list.append(generate_bar(df[col][df[col] != 0], title=col, scientific_notation=scientific_notation, small_xlabel=small_xlabel))\n",
    "    return bar_list\n",
    "\n",
    "def generate_separate_scatter_list(df, scientific_notation=False, small_xlabel=False): # returns list, NOT widget\n",
    "    scatter_list = []\n",
    "    for col in df.columns: # .values.tolist()\n",
    "        scatter_list.append(generate_scatter(df[col][df[col] != 0], title=col, scientific_notation=scientific_notation, small_xlabel=small_xlabel))\n",
    "    return scatter_list\n",
    "\n",
    "def generate_html_legend(df, colors=chart_colors, table=True, font_size=13):\n",
    "    name = df.index.name.rsplit(\" \", 1)[0]\n",
    "    html_string = f\"<div style='font-size:{font_size}px; font-family:helvetica'><b style='font-weight:bold'>{name}</b>\"\n",
    "    indices = df.index.values\n",
    "    if table:\n",
    "        html_string += \"<table><tr>\"\n",
    "        for i in range(0, indices.size):\n",
    "            if i % 2 == 0:\n",
    "                index_num = int(i / 2)\n",
    "            else:\n",
    "                index_num = int(i / 2 + indices.size / 2)\n",
    "            html_string += f\"<td style='padding:0 5px'><span style='color:{colors[index_num]}'>█</span> {indices[index_num]}</td>\"\n",
    "            if i % 2 != 0:\n",
    "                html_string += \"</tr><tr>\"\n",
    "        html_string += \"</tr></table>\"\n",
    "    else:\n",
    "        for_count = 0\n",
    "        for string in indices:\n",
    "            if for_count == 0:\n",
    "                html_string += \"<br>\"\n",
    "            else:\n",
    "                html_string += \"&emsp;\"\n",
    "            html_string += f\"<span style='color:{colors[for_count]}'>█</span> {string}\"\n",
    "            for_count += 1\n",
    "    html_string += \"</div>\"\n",
    "    return widgets.HTML(html_string)\n",
    "\n",
    "def generate_group_bar_legend(df, title=\"\", scientific_notation=False, legend_table=True):\n",
    "    chart = generate_group_bar(df, title=title, scientific_notation=scientific_notation)\n",
    "    legend = generate_html_legend(df, table=legend_table)\n",
    "    return widgets.VBox([chart, legend])\n",
    "\n",
    "def generate_stacked_bar_legend(df, title=\"\", scientific_notation=False, legend_table=True):\n",
    "    chart = generate_stacked_bar(df, title=title, scientific_notation=scientific_notation)\n",
    "    legend = generate_html_legend(df, table=legend_table)\n",
    "    return widgets.VBox([chart, legend])"
   ]
  },
  {
   "cell_type": "markdown",
   "metadata": {},
   "source": [
    "## Generating model"
   ]
  },
  {
   "cell_type": "code",
   "execution_count": 333,
   "metadata": {},
   "outputs": [],
   "source": [
    "config = set_config(os.path.join(PATH, 'config/ca-vent'))\n",
    "restart = RestartModel(config='ca-vent', population='dict')\n",
    "model = restart.model\n",
    "\n",
    "burn_df = model.demand.demand_per_unit_map_dn_um.df\n",
    "burn_df.index.name = \"Population\"\n",
    "\n",
    "burn_rates = qgrid.show_grid(burn_df)"
   ]
  },
  {
   "cell_type": "markdown",
   "metadata": {},
   "source": [
    "# Editable Burn Rates\n",
    "Click on any of the cells below to adjust burn rate assumptions. When you're done, click the `Run Model` button and the updated model will be generated."
   ]
  },
  {
   "cell_type": "code",
   "execution_count": 334,
   "metadata": {},
   "outputs": [
    {
     "data": {
      "application/vnd.jupyter.widget-view+json": {
       "model_id": "df2753921dd941e9878497983d206795",
       "version_major": 2,
       "version_minor": 0
      },
      "text/plain": [
       "Button(description='Run Model', style=ButtonStyle())"
      ]
     },
     "metadata": {},
     "output_type": "display_data"
    },
    {
     "data": {
      "application/vnd.jupyter.widget-view+json": {
       "model_id": "70e3e6ec3c824a28a6e95b519012752c",
       "version_major": 2,
       "version_minor": 0
      },
      "text/plain": [
       "VBox(children=(QgridWidget(grid_options={'fullWidthRows': True, 'syncColumnCellResize': True, 'forceFitColumns…"
      ]
     },
     "metadata": {},
     "output_type": "display_data"
    }
   ],
   "source": [
    "display(create_run_button(\"Run Model\"))\n",
    "widgets.VBox([burn_rates])"
   ]
  },
  {
   "cell_type": "code",
   "execution_count": 335,
   "metadata": {},
   "outputs": [
    {
     "data": {
      "application/vnd.jupyter.widget-view+json": {
       "model_id": "001f9f0e129b4c2695e94fef7647a1b4",
       "version_major": 2,
       "version_minor": 0
      },
      "text/plain": [
       "VBox(children=(FloatSlider(value=0.95, continuous_update=False, description='CR', max=0.99, min=0.7, step=0.01…"
      ]
     },
     "metadata": {},
     "output_type": "display_data"
    }
   ],
   "source": [
    "import ipywidgets as widgets\n",
    "from scipy.stats import norm\n",
    "import math\n",
    "\n",
    "# get updated burn rates\n",
    "model.demand.adjust_burn(burn_rates.get_changed_df().to_numpy())\n",
    "\n",
    "# charting \n",
    "burn_chart = generate_group_bar_legend(model.demand.demand_per_unit_map_dn_um.df)\n",
    "\n",
    "def triangular(a,b,c):\n",
    "    return math.sqrt( ((a*a + b*b + c*c) - a*b - a*c - b*c) / 18 )\n",
    "\n",
    "ca_epi_df = data.epi_ranges()\n",
    "ca_epi_df.set_index('Model', drop=True, inplace=True)\n",
    "\n",
    "ca_epi_df = ca_epi_df * 4.12\n",
    "ca_epi_df.columns = ['Population Low', 'Population Mid', 'Population High']\n",
    "ca_stdev = ca_epi_df.apply(\n",
    "    lambda row: triangular(\n",
    "        row['Population Mid'],\n",
    "        row['Population Low'], \n",
    "        row['Population High']\n",
    "    ), axis=1\n",
    ")\n",
    "\n",
    "ca_epi_df['Population Mean'] = ca_epi_df.mean(axis=1)\n",
    "\n",
    "ca_epi_df['Population SD'] = ca_stdev\n",
    "\n",
    "\n",
    "def calc_eoq(df, cr):\n",
    "    Z=norm.ppf(cr)\n",
    "    df['Adjusted Population'] = df['Population Mean'] + (Z * df['Population SD'])\n",
    "    return df\n",
    "\n",
    "def display_ca_eoq(cr, days):\n",
    "    # calculate the hospitalization EOQ\n",
    "    epi = calc_eoq(ca_epi_df, cr)\n",
    "    eoq_df = 0.243 * epi\n",
    "    # adjusting the non-COVID patients\n",
    "    eoq_sheet = to_sheet(eoq_df)\n",
    "    display_population(eoq_sheet, round=True)\n",
    "    # calculate stockpile projections\n",
    "    preds_df = Data(\n",
    "        \"demand_by_pop_total_pn_tc\", config)\n",
    "    preds_df.array = (model.demand.demand_by_pop_per_person_pn_uc.array.T * ca_epi_df[\"Adjusted Population\"].to_numpy().T).T\n",
    "    preds_df.array *= days\n",
    "    preds_df.df.drop(['Ventilators'], axis=1, inplace=True)\n",
    "    preds_sheet = to_sheet(preds_df.df)\n",
    "    chart = generate_group_bar_legend(preds_df.df, scientific_notation=True)\n",
    "    display_population(preds_sheet, round=True)\n",
    "    display(chart)\n",
    "    \n",
    "ca_burn_sheet = format_population(to_sheet(model.demand.demand_per_unit_map_dn_um.df))\n",
    "\n",
    "ca_cr_slider = widgets.FloatSlider(min=0.70,max=0.99,step=0.01,value=0.95, continuous_update=False, description=\"CR\")\n",
    "ca_day_slider = widgets.IntSlider(min=1, max=120, value=30, continuous_update=False, description=\"Days\")\n",
    "ca_out = widgets.interactive_output(display_ca_eoq, {'cr': ca_cr_slider, 'days': ca_day_slider})\n",
    "widgets.VBox([ca_cr_slider, ca_day_slider, ca_out, burn_chart])"
   ]
  },
  {
   "cell_type": "markdown",
   "metadata": {},
   "source": [
    "## OES"
   ]
  },
  {
   "cell_type": "code",
   "execution_count": 348,
   "metadata": {},
   "outputs": [],
   "source": [
    "oes_restart = RestartModel(\n",
    "    population='oes',\n",
    "    state='California',\n",
    "    subpop='healthcare')\n",
    "oes_model = oes_restart.model\n",
    "\n",
    "oes_burn_df = oes_model.demand.demand_per_unit_map_dn_um.df\n",
    "oes_burn_df.index.name = \"Population\"\n",
    "oes_burn_chart = generate_group_bar_legend(oes_model.demand.demand_per_unit_map_dn_um.df)\n",
    "\n",
    "oes_burn_rates = qgrid.show_grid(oes_burn_df)"
   ]
  },
  {
   "cell_type": "code",
   "execution_count": 349,
   "metadata": {},
   "outputs": [
    {
     "data": {
      "application/vnd.jupyter.widget-view+json": {
       "model_id": "7191c405862b416bba2589c6c3d66fa1",
       "version_major": 2,
       "version_minor": 0
      },
      "text/plain": [
       "Button(description='Run Model', style=ButtonStyle())"
      ]
     },
     "metadata": {},
     "output_type": "display_data"
    },
    {
     "data": {
      "application/vnd.jupyter.widget-view+json": {
       "model_id": "cd2a30e3ed5d4038a58bf97d9c50e2da",
       "version_major": 2,
       "version_minor": 0
      },
      "text/plain": [
       "VBox(children=(QgridWidget(grid_options={'fullWidthRows': True, 'syncColumnCellResize': True, 'forceFitColumns…"
      ]
     },
     "metadata": {},
     "output_type": "display_data"
    }
   ],
   "source": [
    "display(create_run_button(\"Run Model\"))\n",
    "widgets.VBox([oes_burn_rates])"
   ]
  },
  {
   "cell_type": "code",
   "execution_count": 346,
   "metadata": {},
   "outputs": [
    {
     "data": {
      "application/vnd.jupyter.widget-view+json": {
       "model_id": "238f9fd2aa5442f285557f12a1ee05ee",
       "version_major": 2,
       "version_minor": 0
      },
      "text/plain": [
       "VBox(children=(IntSlider(value=30, continuous_update=False, description='Days', max=120, min=1), Output(), VBo…"
      ]
     },
     "metadata": {},
     "output_type": "display_data"
    }
   ],
   "source": [
    "oes_model.demand.adjust_burn(oes_burn_rates.get_changed_df().to_numpy())\n",
    "oes_slider = widgets.IntSlider(min=1, max=120, value=30, description = \"Days\", continuous_update=False)\n",
    "\n",
    "def dashboard(backstop):\n",
    "    set_stock(backstop)\n",
    "    \n",
    "def display_stock(df):\n",
    "    df_round = df.round()\n",
    "    index_name = \"Population\"\n",
    "    headers = ['Essential', 'Non-Essential']\n",
    "    df_round.insert(loc=0, column=index_name, value=headers)\n",
    "    sheet = to_sheet(df_round)\n",
    "    format_cells(sheet)\n",
    "    sheet.row_headers = False\n",
    "    df_chart = df\n",
    "    df_chart.index = df_chart.index.get_level_values(1)\n",
    "    chart = generate_group_bar_legend(df_chart, scientific_notation=True)\n",
    "    display(sheet)\n",
    "    display(chart)\n",
    "    \n",
    "def set_stock(backstop):\n",
    "    oes_model.inventory.set_average_orders_per_period(oes_model.demand.demand_by_popsum1_total_rp1n_tc)\n",
    "    backstop = [backstop]\n",
    "    oes_model.inventory.order(oes_model.inventory.inv_by_popsum1_total_rp1n_tc)\n",
    "    oes_model.inventory.set_min_in_periods(backstop)\n",
    "    display_stock(oes_model.inventory.inv_by_popsum1_total_rp1n_tc.df)\n",
    "    \n",
    "oes_pop = format_population(to_sheet(oes_model.population.population_pP_tr.df))\n",
    "oes_out = widgets.interactive_output(dashboard, {'backstop': oes_slider})\n",
    "\n",
    "widgets.VBox([oes_slider, oes_out, oes_burn_chart])"
   ]
  },
  {
   "cell_type": "code",
   "execution_count": 351,
   "metadata": {},
   "outputs": [],
   "source": [
    "jhu_config = set_config(os.path.join(PATH, 'config/jhu'))\n",
    "jhu_restart = RestartModel(config='jhu', population='dict')\n",
    "jhu_model = jhu_restart.model\n",
    "\n",
    "jhu_burn_df = jhu_model.demand.demand_per_unit_map_dn_um.df\n",
    "jhu_burn_df.index.name = \"Population\"\n",
    "jhu_burn_chart = generate_group_bar_legend(jhu_model.demand.demand_per_unit_map_dn_um.df)\n",
    "\n",
    "jhu_burn_rates = qgrid.show_grid(jhu_burn_df)"
   ]
  },
  {
   "cell_type": "code",
   "execution_count": 353,
   "metadata": {},
   "outputs": [
    {
     "data": {
      "application/vnd.jupyter.widget-view+json": {
       "model_id": "34dc020f1a144260a1354673604b03c8",
       "version_major": 2,
       "version_minor": 0
      },
      "text/plain": [
       "Button(description='Run Model', style=ButtonStyle())"
      ]
     },
     "metadata": {},
     "output_type": "display_data"
    },
    {
     "data": {
      "application/vnd.jupyter.widget-view+json": {
       "model_id": "6577c87e1af54e22a66e0f6da59ec32a",
       "version_major": 2,
       "version_minor": 0
      },
      "text/plain": [
       "VBox(children=(QgridWidget(grid_options={'fullWidthRows': True, 'syncColumnCellResize': True, 'forceFitColumns…"
      ]
     },
     "metadata": {},
     "output_type": "display_data"
    }
   ],
   "source": [
    "display(create_run_button(\"Run Model\"))\n",
    "widgets.VBox([jhu_burn_rates])"
   ]
  },
  {
   "cell_type": "code",
   "execution_count": 356,
   "metadata": {},
   "outputs": [
    {
     "data": {
      "application/vnd.jupyter.widget-view+json": {
       "model_id": "e60b337a0ef4439289d064d7caefdd68",
       "version_major": 2,
       "version_minor": 0
      },
      "text/plain": [
       "VBox(children=(FloatSlider(value=0.95, continuous_update=False, description='CR', max=0.99, min=0.7, step=0.01…"
      ]
     },
     "metadata": {},
     "output_type": "display_data"
    }
   ],
   "source": [
    "jhu_model.demand.adjust_burn(jhu_burn_rates.get_changed_df().to_numpy())\n",
    "\n",
    "jhu_epi_df = data.epi_ranges()\n",
    "jhu_epi_df.set_index('Model', drop=True, inplace=True)\n",
    "jhu_epi_df.drop(['CA Projected Non-COVID Patients'], axis=0, inplace=True)\n",
    "\n",
    "# adjusting so it's in terms of population, since we're not doing vents here\n",
    "jhu_epi_df = jhu_epi_df * 4.12\n",
    "jhu_epi_df.columns = ['Population Low', 'Population Mid', 'Population High']\n",
    "jhu_stdev = jhu_epi_df.apply(\n",
    "    lambda row: triangular(\n",
    "        row['Population Mid'],\n",
    "        row['Population Low'], \n",
    "        row['Population High']\n",
    "    ), axis=1\n",
    ")\n",
    "\n",
    "jhu_epi_df['Population Mean'] = jhu_epi_df.mean(axis=1)\n",
    "\n",
    "jhu_epi_df['Population SD'] = jhu_stdev\n",
    "\n",
    "\n",
    "def calc_eoq(df, cr):\n",
    "    Z=norm.ppf(cr)\n",
    "    df['Adjusted Population'] = df['Population Mean'] + (Z * df['Population SD'])\n",
    "    return df\n",
    "\n",
    "def display_jhu_eoq(cr, days):\n",
    "    # calculate the hospitalization EOQ\n",
    "    epi = calc_eoq(jhu_epi_df, cr)\n",
    "    eoq_df = 0.243 * epi\n",
    "    # adjusting the non-COVID patients\n",
    "    eoq_sheet = to_sheet(eoq_df)\n",
    "    display_population(eoq_sheet, round=True)\n",
    "    # calculate stockpile projections\n",
    "    preds_df = Data(\n",
    "        \"demand_by_pop_total_pn_tc\", jhu_config)\n",
    "    preds_df.array = (jhu_model.demand.demand_by_pop_per_person_pn_uc.array.T * jhu_epi_df[\"Adjusted Population\"].to_numpy().T).T\n",
    "    preds_df.array *= days\n",
    "    preds_df.df.rename({'Glove Pairs': 'Gloves'}, axis=1, inplace=True)\n",
    "    preds_sheet = to_sheet(preds_df.df)\n",
    "    chart = generate_group_bar_legend(preds_df.df, scientific_notation=True)\n",
    "    display_population(preds_sheet, round=True)\n",
    "    display(chart)\n",
    "    \n",
    "jhu_burn_sheet = format_population(to_sheet(jhu_model.demand.demand_per_unit_map_dn_um.df))\n",
    "\n",
    "jhu_cr_slider = widgets.FloatSlider(min=0.70,max=0.99,step=0.01,value=0.95, continuous_update=False, description=\"CR\")\n",
    "jhu_day_slider = widgets.IntSlider(min=1, max=120, value=30, continuous_update=False, description=\"Days\")\n",
    "jhu_out = widgets.interactive_output(display_jhu_eoq, {'cr': jhu_cr_slider, 'days': jhu_day_slider})\n",
    "widgets.VBox([jhu_cr_slider, jhu_day_slider, jhu_out, jhu_burn_chart])"
   ]
  }
 ],
 "metadata": {
  "kernelspec": {
   "display_name": "Python 3",
   "language": "python",
   "name": "python3"
  },
  "language_info": {
   "codemirror_mode": {
    "name": "ipython",
    "version": 3
   },
   "file_extension": ".py",
   "mimetype": "text/x-python",
   "name": "python",
   "nbconvert_exporter": "python",
   "pygments_lexer": "ipython3",
   "version": "3.8.5"
  }
 },
 "nbformat": 4,
 "nbformat_minor": 4
}
