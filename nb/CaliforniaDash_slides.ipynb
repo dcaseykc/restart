{
 "cells": [
  {
   "cell_type": "markdown",
   "metadata": {
    "slideshow": {
     "slide_type": "slide"
    }
   },
   "source": [
    "# COVID Incremental Ventilator Requirements"
   ]
  },
  {
   "cell_type": "code",
   "execution_count": 1,
   "metadata": {},
   "outputs": [
    {
     "ename": "ModuleNotFoundError",
     "evalue": "No module named 'bqplot'",
     "output_type": "error",
     "traceback": [
      "\u001b[0;31m---------------------------------------------------------------------------\u001b[0m",
      "\u001b[0;31mModuleNotFoundError\u001b[0m                       Traceback (most recent call last)",
      "\u001b[0;32m<ipython-input-1-b68af63994e6>\u001b[0m in \u001b[0;36m<module>\u001b[0;34m\u001b[0m\n\u001b[1;32m      5\u001b[0m \u001b[0;32mfrom\u001b[0m \u001b[0mrestart\u001b[0m \u001b[0;32mimport\u001b[0m \u001b[0mData\u001b[0m\u001b[0;34m\u001b[0m\u001b[0;34m\u001b[0m\u001b[0m\n\u001b[1;32m      6\u001b[0m \u001b[0;32mfrom\u001b[0m \u001b[0mrestart\u001b[0m\u001b[0;34m.\u001b[0m\u001b[0mutil\u001b[0m \u001b[0;32mimport\u001b[0m \u001b[0mset_config\u001b[0m\u001b[0;34m,\u001b[0m \u001b[0mto_df\u001b[0m\u001b[0;34m,\u001b[0m \u001b[0mto_sheet\u001b[0m\u001b[0;34m,\u001b[0m \u001b[0mdisplay_population\u001b[0m\u001b[0;34m,\u001b[0m \u001b[0mformat_population\u001b[0m\u001b[0;34m\u001b[0m\u001b[0;34m\u001b[0m\u001b[0m\n\u001b[0;32m----> 7\u001b[0;31m \u001b[0;32mimport\u001b[0m \u001b[0mbqplot\u001b[0m\u001b[0;34m\u001b[0m\u001b[0;34m\u001b[0m\u001b[0m\n\u001b[0m\u001b[1;32m      8\u001b[0m \u001b[0;32mfrom\u001b[0m \u001b[0mbqplot\u001b[0m \u001b[0;32mimport\u001b[0m \u001b[0mpyplot\u001b[0m \u001b[0;32mas\u001b[0m \u001b[0mplt\u001b[0m\u001b[0;34m\u001b[0m\u001b[0;34m\u001b[0m\u001b[0m\n",
      "\u001b[0;31mModuleNotFoundError\u001b[0m: No module named 'bqplot'"
     ]
    }
   ],
   "source": [
    "import sys\n",
    "import pandas as pd\n",
    "import numpy as np\n",
    "from restart import RestartModel\n",
    "from restart import Data\n",
    "from restart.util import set_config, to_df, to_sheet, display_population, format_population\n",
    "import bqplot\n",
    "from bqplot import pyplot as plt"
   ]
  },
  {
   "cell_type": "markdown",
   "metadata": {
    "slideshow": {
     "slide_type": "skip"
    }
   },
   "source": [
    "## Methodology Overview and Assumptions (for Rich to Vet)\n",
    "\n",
    "Quick overview of the current state of this document: the notebook code here walks you through the methodology and assumptions made, and then the very last cell is an `ipyvuetify` implementation of everything so it hopefully looks pretty. That might be a good place for you to put the final documentation. Also, if you run `voila` on this notebook with the template `vuetify-default` (you might need to `pip install voila-vuetify`), then it won't display any of the stuff not in that cell. \n",
    "\n",
    "Code to fetch the IHME and MIT numbers is in `src/extern/data/epidemiological` (written by Ethan). He has mentioned that the MIT projections have a peak in August and are monotically decreasing ever since, so maybe we should drop those. \n",
    "\n",
    "In addition, various RAND and CAN scenarios were pulled manually directly from the CalCat website and placed into the model, using the upper bounds. Some of these should probably be pruned out, as (by design) they are unrealistically high and then we're also taking an upper bound on top of that. We use the hack of representing these demands in our population module. \n",
    "\n",
    "Also, I think it might be a good idea to just ditch the California non-COVID projection and burn rates as it causes a few issues:\n",
    "    \n",
    "   1. There's the issue of us not having ventilator burn rates for non-COVID patients, so it's kind of awkward to have a `0` in that spot.\n",
    "   2. There's no upper or lower bounds on it, so it doesn't fit very nicely into the range scheme\n",
    "   3. The CHA burn rate estimates are pretty back of the envelope"
   ]
  },
  {
   "cell_type": "code",
   "execution_count": 34,
   "metadata": {},
   "outputs": [],
   "source": [
    "config = set_config('../config/ca-vent')\n",
    "restart = NoteCompose(configdir='../config/ca-vent', population='dict')\n",
    "population = restart.model.population\n",
    "resource = restart.model.resource\n",
    "demand = restart.model.demand\n",
    "# chart_colors = [\"red\", \"blue\", \"yellow\", \"purple\", \"green\", \"orange\",\"pink\", \"cyan\",\n",
    "#                 \"magenta\", \"maroon\", \"chartreuse\", \"navy\", \"salmon\", \"turquoise\"]\n",
    "# chart_colors = [\"#332288\", \"#88CCEE\", \"#44AA99\", \"#117733\", \"#999933\", \"#DDCC77\", #tol muted\n",
    "#                 \"#CC6677\", \"#882255\", \"#AA4499\"]\n",
    "# chart_colors = [\"#000000\", \"#E69F00\", \"#56B4E9\", \"#009E73\", \"#F0E442\", \"#0072B2\", #wong\n",
    "#                 \"#D55E00\", \"#CC79A7\"]\n",
    "chart_colors = [\"#77AADD\", \"#99DDFF\", \"#44BB99\", \"#BBCC33\", \"#AAAA00\", \"#EEDD88\",\n",
    "                \"#EE8866\", \"#FFAABB\", \"DDDDDD\"]\n",
    "\n",
    "def generate_group_bar(df, title=\"\"):\n",
    "    fig=plt.figure(title=title)\n",
    "    \n",
    "    bar_chart = plt.bar(x=df.columns.values.tolist(),\n",
    "                        y=df,\n",
    "                        labels=df.index.values.tolist(),\n",
    "                        display_legend=True)\n",
    "    bar_chart.type = \"grouped\"\n",
    "    bar_chart.colors = [\"red\", \"blue\", \"yellow\", \"purple\", \"green\", \"orange\",\"pink\", \"cyan\",\n",
    "                        \"magenta\", \"maroon\", \"chartreuse\", \"navy\", \"salmon\", \"turquoise\"][:df.index.values.size]\n",
    "                        # trimmed to length of indexes (up to fourteen distinct colors)\n",
    "    if df.columns.name:\n",
    "        plt.xlabel(df.columns.name.rsplit(\" \", 1)[0])\n",
    "        # rsplit removes last \"word\"\n",
    "    plt.ylabel(\"Count\")\n",
    "    plt.ylim(0, np.amax(df.values))\n",
    "    fig.axes[1].tick_format = \"0.0f\"\n",
    "    # fig.axes[0].offset = {\"value\": [0, 0.5]}\n",
    "    # fig.axes[0].label_location = \"end\"\n",
    "    # fig.axes[0].tick_style = {\"text-align\": \"center\"}\n",
    "    \n",
    "    # fig.legend_style = {\"fill\": \"white\", \"width\": 240}\n",
    "    \n",
    "    return fig\n",
    "\n",
    "def generate_stacked_bar(df, title=\"\"):\n",
    "    fig=plt.figure(title=title)\n",
    "    \n",
    "    bar_chart = plt.bar(x=df.columns.values.tolist(),\n",
    "                        y=df,\n",
    "                        labels=df.index.values.tolist(),\n",
    "                        display_legend=False)\n",
    "    bar_chart.type = \"stacked\"\n",
    "    bar_chart.colors = chart_colors[:df.index.values.size]\n",
    "                        # trimmed to length of indexes (up to fourteen distinct colors)\n",
    "    if df.columns.name:\n",
    "        plt.xlabel(df.columns.name.rsplit(\" \", 1)[0])\n",
    "        # rsplit removes last \"word\"\n",
    "    plt.ylim(0, np.amax(df.values))\n",
    "    fig.axes[1].tick_format = \"0.0f\"\n",
    "    return fig\n",
    "\n",
    "def generate_boxplot(df, title=\"\"):\n",
    "    ''''''\n",
    "\n",
    "def generate_html_legend(df, colors=chart_colors, table=True, font_size=13):\n",
    "    name = df.index.name.rsplit(\" \", 1)[0]\n",
    "    html_string = f\"<div style='font-size:{font_size}px; font-family:helvetica'><b style='font-weight:bold'>{name}</b>\"\n",
    "    indices = df.index.values\n",
    "    if table:\n",
    "        html_string += \"<table><tr>\"\n",
    "        for i in range(0, indices.size):\n",
    "            if i % 2 == 0:\n",
    "                index_num = int(i / 2)\n",
    "            else:\n",
    "                index_num = int(i / 2 + indices.size / 2)\n",
    "            html_string += f\"<td style='padding:0 5px'><span style='color:{colors[index_num]}'>█</span> {indices[index_num]}</td>\"\n",
    "            if i % 2 != 0:\n",
    "                html_string += \"</tr><tr>\"\n",
    "        html_string += \"</tr></table>\"\n",
    "    else:\n",
    "        for_count = 0\n",
    "        for string in indices:\n",
    "            html_string += f\"<br><span style='color:{colors[for_count]}'>█</span> {string}\"\n",
    "            for_count += 1\n",
    "    html_string += \"</div>\"\n",
    "    return widgets.HTML(html_string)\n",
    "\n",
    "def generate_group_bar_legend(df, title=\"\"):\n",
    "    chart = generate_group_bar(df, title=title)\n",
    "    legend = generate_html_legend(df, table=True)\n",
    "    return widgets.VBox([chart, legend])\n",
    "\n",
    "def generate_stacked_bar_legend(df, title=\"\"):\n",
    "    chart = generate_stacked_bar(df, title=title)\n",
    "    legend = generate_html_legend(df, table=True)\n",
    "    return widgets.VBox([chart, legend])"
   ]
  },
  {
   "cell_type": "markdown",
   "metadata": {
    "slideshow": {
     "slide_type": "slide"
    }
   },
   "source": [
    "**These are the burn rates**"
   ]
  },
  {
   "cell_type": "code",
   "execution_count": 35,
   "metadata": {},
   "outputs": [
    {
     "data": {
      "application/vnd.jupyter.widget-view+json": {
       "model_id": "af6df9b60e044c90b2723925be9a3124",
       "version_major": 2,
       "version_minor": 0
      },
      "text/plain": [
       "Sheet(cells=(Cell(column_end=0, column_start=0, numeric_format='0,000', read_only=True, row_end=1, row_start=0…"
      ]
     },
     "metadata": {},
     "output_type": "display_data"
    },
    {
     "data": {
      "application/vnd.jupyter.widget-view+json": {
       "model_id": "07e28a93a34242e9a2e1436f1f1b99fb",
       "version_major": 2,
       "version_minor": 0
      },
      "text/plain": [
       "VBox(children=(Figure(axes=[Axis(label='Resource', scale=OrdinalScale()), Axis(orientation='vertical', scale=L…"
      ]
     },
     "metadata": {},
     "output_type": "display_data"
    }
   ],
   "source": [
    "burn_sheet = format_population(to_sheet(demand.demand_per_unit_map_dn_um.df))\n",
    "burn_chart = generate_stacked_bar_legend(demand.demand_per_unit_map_dn_um.df)\n",
    "display(burn_sheet)\n",
    "display(burn_chart)"
   ]
  },
  {
   "cell_type": "markdown",
   "metadata": {
    "slideshow": {
     "slide_type": "skip"
    }
   },
   "source": [
    "The only thing not from the CHA memo is the ventilator burn rate, which comes from IHME. They simply estimate ICU demand as 27% of all COVID hospitalizations, and make the assumption that 90% of COVID ICU patients will need to go on vent, so (0.27)(0.9) = 0.243. \n",
    "\n",
    "The rest of the burn rates are derived from the CHA memo (and this model replicates the PPE projections in that memo). I'm a bit uncomfortable with the burn rates - when you scale them to the IHME projections, for example, it's about 2.5 million N95 masks *per day* - that's definitely unrealistic. They *are* pretty much straight from the horse's mouth, but it might be wise for us to be clear about the source so that, as an organization, we're a bit insulated from them."
   ]
  },
  {
   "cell_type": "markdown",
   "metadata": {
    "slideshow": {
     "slide_type": "slide"
    }
   },
   "source": [
    "Below are the population estimates we're using, and then also the resulting projections. I've added a range dimension, but not all patient projections contain ranges. In these cases I do the horrible thing of just giving one exponential on either side of the mean. If this assumption is not acceptable, I've also included a version without the range calculations. Note that these are all **daily totals** - we can't simply do a scalar multiply by the number of days we're projecting for since some of these are reusable and some aren't (namely the ventilators). \n",
    "\n",
    "First are the calculations with no ranges, using an upper bound (or if only one number is given, just that one number)."
   ]
  },
  {
   "cell_type": "code",
   "execution_count": 39,
   "metadata": {
    "scrolled": false,
    "slideshow": {
     "slide_type": "slide"
    }
   },
   "outputs": [
    {
     "data": {
      "application/vnd.jupyter.widget-view+json": {
       "model_id": "23e9d50ac08642218c5cad38ffa1b7c6",
       "version_major": 2,
       "version_minor": 0
      },
      "text/plain": [
       "Sheet(cells=(Cell(column_end=0, column_start=0, numeric_format='0,000', read_only=True, row_end=7, row_start=0…"
      ]
     },
     "metadata": {},
     "output_type": "display_data"
    },
    {
     "data": {
      "application/vnd.jupyter.widget-view+json": {
       "model_id": "2598a62500aa494797158ab58594ac39",
       "version_major": 2,
       "version_minor": 0
      },
      "text/plain": [
       "Sheet(cells=(Cell(column_end=0, column_start=0, numeric_format='0,000', read_only=True, row_end=7, row_start=0…"
      ]
     },
     "metadata": {},
     "output_type": "display_data"
    }
   ],
   "source": [
    "import ipywidgets as widgets\n",
    "pop_sheet = format_population(to_sheet(population.population_pP_tr.df), round=True)\n",
    "daily_sheet = format_population(to_sheet(demand.demand_by_pop_total_pn_tc.df), round=True)\n",
    "daily_chart = generate_group_bar(demand.demand_by_pop_total_pn_tc.df)\n",
    "\n",
    "display(pop_sheet, daily_sheet)"
   ]
  },
  {
   "cell_type": "code",
   "execution_count": 16,
   "metadata": {
    "slideshow": {
     "slide_type": "slide"
    }
   },
   "outputs": [
    {
     "data": {
      "application/vnd.jupyter.widget-view+json": {
       "model_id": "22df7aceb48e42ef95a815de2130c690",
       "version_major": 2,
       "version_minor": 0
      },
      "text/plain": [
       "VBox(children=(Figure(axes=[Axis(label='Resource', scale=OrdinalScale(), side='bottom'), Axis(orientation='ver…"
      ]
     },
     "metadata": {},
     "output_type": "display_data"
    }
   ],
   "source": [
    "display(daily_chart)"
   ]
  },
  {
   "cell_type": "markdown",
   "metadata": {
    "slideshow": {
     "slide_type": "slide"
    }
   },
   "source": [
    "Next is the same model but with the added range dimension. Use the slider to adjust the confidence interval, and the projections will automatically update. Note how some of the models (with my extremely questionable lower/upper bound assumptions) give us some alarmingly high projections for ventilators."
   ]
  },
  {
   "cell_type": "code",
   "execution_count": null,
   "metadata": {
    "scrolled": false,
    "slideshow": {
     "slide_type": "subslide"
    }
   },
   "outputs": [
    {
     "data": {
      "application/vnd.jupyter.widget-view+json": {
       "model_id": "9d30cd32429d40fc805237d1af7a9f35",
       "version_major": 2,
       "version_minor": 0
      },
      "text/plain": [
       "VBox(children=(FloatSlider(value=0.95, continuous_update=False, description='CR', max=0.99, min=0.7, step=0.01…"
      ]
     },
     "metadata": {},
     "output_type": "display_data"
    }
   ],
   "source": [
    "import ipywidgets as widgets\n",
    "from scipy.stats import norm\n",
    "import math\n",
    "\n",
    "def triangular(a,b,c):\n",
    "    return math.sqrt( ((a*a + b*b + c*c) - a*b - a*c - b*c) / 18 )\n",
    "\n",
    "\n",
    "epi_df = pd.read_csv('epi_ranges.csv',index_col='Model')\n",
    "stdev = epi_df.apply(\n",
    "    lambda row: triangular(\n",
    "        row['Vent Mid'],\n",
    "        row['Vent Low'], \n",
    "        row['Vent High']\n",
    "    ), axis=1\n",
    ")\n",
    "\n",
    "epi_df['Vent Mean'] = epi_df.mean(axis=1)\n",
    "\n",
    "epi_df['Vent SD'] = stdev\n",
    "\n",
    "\n",
    "def calc_eoq(df, cr):\n",
    "    Z=norm.ppf(cr)\n",
    "    df['Vent EOQ'] = df['Vent Mean'] + (Z * df['Vent SD'])\n",
    "    return df\n",
    "\n",
    "def display_eoq(cr):\n",
    "    # calculate the hospitalization EOQ\n",
    "    epi = calc_eoq(epi_df, cr)\n",
    "    eoq_df = 0.243 * epi\n",
    "    # adjusting the non-COVID patients\n",
    "    eoq_df.loc['CA Projected Non-COVID Patients', 'Vent EOQ'] = 0\n",
    "    eoq_sheet = to_sheet(eoq_df)\n",
    "    display_population(eoq_sheet, round=True)\n",
    "    display(generate_group_bar(eoq_df))\n",
    "    # calculate stockpile projections\n",
    "    preds_df = Data(\n",
    "        \"demand_by_pop_total_pn_tc\", config)\n",
    "    preds_df.array = (demand.demand_by_pop_per_person_pn_uc.array.T * epi_df[\"Vent EOQ\"].to_numpy().T).T\n",
    "    preds_df.df.columns = [f\"Vent EOQ at CR={cr}\", 'N95 Masks', 'Surgical Masks', 'PAPR', 'Gowns', 'Coveralls', 'Gloves']\n",
    "    preds_sheet = to_sheet(preds_df.df)\n",
    "    display_population(preds_sheet, round=True)\n",
    "    display(generate_group_bar(preds_df.df))\n",
    "\n",
    "slider = widgets.FloatSlider(min=0.70,max=0.99,step=0.01,value=0.95, continuous_update=False, description=\"CR\")\n",
    "out = widgets.interactive_output(display_eoq, {'cr': slider})\n",
    "widgets.VBox([slider, out])"
   ]
  },
  {
   "cell_type": "markdown",
   "metadata": {
    "slideshow": {
     "slide_type": "slide"
    }
   },
   "source": [
    "And then this is a rough go at a Vuetify UI - I'll make this prettier and we can package the write-up nicely inside here once that's done."
   ]
  },
  {
   "cell_type": "code",
   "execution_count": 11,
   "metadata": {},
   "outputs": [
    {
     "data": {
      "application/vnd.jupyter.widget-view+json": {
       "model_id": "7ed426b8a55d45939168fb3715a2279a",
       "version_major": 2,
       "version_minor": 0
      },
      "text/plain": [
       "Tabs(children=[Tab(children=['Home']), Tab(children=['Projected Patients']), Tab(children=['Burn Rates']), Tab…"
      ]
     },
     "metadata": {},
     "output_type": "display_data"
    }
   ],
   "source": [
    "import ipyvuetify as v\n",
    "v.theme.themes.light.primary = 'colors.teal'\n",
    "\n",
    "v.Tabs(_metadata={'mount_id': 'content-main'}, children=[\n",
    "    v.Tab(children=['Home']),\n",
    "    v.Tab(children=['Projected Patients']),\n",
    "    v.Tab(children=['Burn Rates']),\n",
    "    v.TabItem(children=[\n",
    "        v.Layout(column=True, wrap=True, align_left=True, children=[\n",
    "            v.Card(xs12=True, lg6=True, xl4=True, children=[\n",
    "                v.CardTitle(primary_title=True, class_='headline', children=[\"Covid Incremental Ventilator Requirements\"]),\n",
    "                v.CardText(children=[\n",
    "                    \"Hospitalizations due to COVID at a peak surge were projected using several different models. \\\n",
    "                     From this figure, the number of patients requiring ICU care and an invasive ventilator using \\\n",
    "                     IHME figures. The remaining resources were projected using CHA burn rate assumptions.\" \n",
    "                ])\n",
    "            ]),\n",
    "            slider, out\n",
    "        ])\n",
    "    ]),\n",
    "    v.TabItem(children=[\n",
    "        v.Layout(column=True, wrap=True, align_left=True, children=[\n",
    "            v.Card(xs12=True, lg6=True, xl4=True, children=[\n",
    "                v.CardTitle(primary_title=True, class_='headline', children=[\"Population\"]),\n",
    "                v.CardSubtitle(children=[\"Projected Patients\"]),\n",
    "                pop_sheet\n",
    "            ])\n",
    "        ])\n",
    "    ]),\n",
    "    v.TabItem(children=[\n",
    "        v.Layout(column=True, wrap=True, align_left=True, children=[\n",
    "            v.Card(xs12=True, lg6=True, x14=True, children=[\n",
    "                v.CardTitle(primary_title=True, class_='headline', children=[\"Burn Rates\"]),\n",
    "                v.CardSubtitle(children=[\"Per Capita Resource Demand\"]),\n",
    "                burn_sheet,\n",
    "                burn_chart\n",
    "            ])\n",
    "        ])\n",
    "    ])\n",
    "])"
   ]
  }
 ],
 "metadata": {
  "celltoolbar": "Slideshow",
  "kernelspec": {
   "display_name": "Python 3",
   "language": "python",
   "name": "python3"
  },
  "language_info": {
   "codemirror_mode": {
    "name": "ipython",
    "version": 3
   },
   "file_extension": ".py",
   "mimetype": "text/x-python",
   "name": "python",
   "nbconvert_exporter": "python",
   "pygments_lexer": "ipython3",
   "version": "3.8.5"
  }
 },
 "nbformat": 4,
 "nbformat_minor": 4
}
