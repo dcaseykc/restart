{
 "cells": [
  {
   "cell_type": "markdown",
   "metadata": {},
   "source": [
    "# Model Dependency Graph\n",
    "\n",
    "Trying to provide a clear roadmap of how all the classes call each other. Right now I just have the population module done.\n",
    "\n",
    "DAG constructed using GraphViz."
   ]
  },
  {
   "cell_type": "code",
   "execution_count": null,
   "metadata": {},
   "outputs": [],
   "source": [
    "from graphviz import Digraph\n",
    "dag = Digraph('Main', node_attr={'shape': 'oval'})\n",
    "\n",
    "dag.node('M', 'Main()')\n",
    "dag.node('Mo', 'Model()')\n",
    "dag.edge('Mo', 'M')\n",
    "\n",
    "# larger classes\n",
    "with dag.subgraph(name='model') as c:\n",
    "    c.node('P', 'Population()')\n",
    "    c.node('C', 'Consumption()')\n",
    "    c.edges([('P', 'Mo'), ('C', 'Mo')])\n",
    "    c.edge('P', 'C', label='\\l[df, np*, list*]')\n",
    "    \n",
    "# population_oes subclasses\n",
    "with dag.subgraph(name='oes') as c:\n",
    "    c.node('po', 'PopulationOES()')\n",
    "    c.node('o', 'oes.yaml')\n",
    "    c.node('i', 'data/ingestion')\n",
    "    c.edge('o', 'po', label=' h5')\n",
    "    c.edges([('i', 'o')])\n",
    "    c.edge('po', 'P', label=' [df, np, list]')\n",
    "\n",
    "# population_dict subclasses\n",
    "with dag.subgraph(name='dict') as c:\n",
    "    c.node('pd', 'PopulationDict()')\n",
    "    c.node('dy', 'data.yaml')\n",
    "    c.node('lb', 'model.yaml')\n",
    "    c.edge('lb', 'pd', label=' Dict')\n",
    "    c.edge('dy', 'pd', label='\\lDict')\n",
    "    c.edge('pd', 'P', label='df')\n"
   ]
  },
  {
   "cell_type": "markdown",
   "metadata": {},
   "source": [
    "The current dependency map for the population module looks like this. Note that a `*` denotes variables that may or may not be passed."
   ]
  },
  {
   "cell_type": "code",
   "execution_count": null,
   "metadata": {
    "scrolled": false
   },
   "outputs": [],
   "source": [
    "display(dag)"
   ]
  },
  {
   "cell_type": "markdown",
   "metadata": {},
   "source": [
    "The biggest problem we have right now is that we decide whether to call `PopulationOES()` vs. `PopulationDict()` by passing a `type` parameter from the command line, but the `Consumption()` class doesn't know this type. With test data the mapping between population and protection levels has to be dynamically calculated and passed as a tuple of `np.ndarray` and `list` but `PopulationDict()` doesn't pass these parameters. For now I've hacked PopulationDict() so that it works, but upon some more significant redesigning I'm sure a more elegant solution exists."
   ]
  }
 ],
 "metadata": {
  "kernelspec": {
   "display_name": "",
   "language": "python",
   "name": ""
  },
  "language_info": {
   "codemirror_mode": {
    "name": "ipython",
    "version": 3
   },
   "file_extension": ".py",
   "mimetype": "text/x-python",
   "name": "python",
   "nbconvert_exporter": "python",
   "pygments_lexer": "ipython3",
   "version": "3.8.5"
  }
 },
 "nbformat": 4,
 "nbformat_minor": 4
}
