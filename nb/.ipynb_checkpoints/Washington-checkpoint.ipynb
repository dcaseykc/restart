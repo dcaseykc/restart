{
 "cells": [
  {
   "cell_type": "markdown",
   "metadata": {},
   "source": [
    "# Washington Group 1, 2 and 3 Preliminary Analysis\n",
    "## 20 August 2020\n",
    "\n",
    "As part of the Fall preparation sprint, we spent the last ten days analyzing what it will take to beat the infection decisively this fall. There are three fundamental ideas:\n",
    "1. Backstop. Have a backstop that protects hospitals in the unlikely event, they outstrip their ability to procure the right resources. They are our last line of defense against the infection.\n",
    "2. Purchasing Cooperative. For smaller groups that have funds, but who can benefit from the aggregation of supply. This will protect an important group that is upstream of hospitals.\n",
    "3. Protecting the most vulnerable. The infection starts at this front line. We need to defend the most vulnerable against the infection. Not only does this reduce the disease burden, it also increases employment and takes the pressure off our relief efforts. Winning upstream, winning at the front lines, that is the key to victory.\n",
    "\n",
    "Questions and edits to rich@restart.us and lucas@restart.us"
   ]
  },
  {
   "cell_type": "code",
   "execution_count": 1,
   "metadata": {},
   "outputs": [],
   "source": [
    "import sys\n",
    "import pandas as pd\n",
    "sys.path.append('../src')\n",
    "from restart import NoteCompose\n",
    "from util import set_config"
   ]
  },
  {
   "cell_type": "markdown",
   "metadata": {},
   "source": [
    "# Group 1 Backstop to Large Providers\n",
    "These are the large hospitals and other facilities that take care of our sickest patients. With the fall, we will face the difficult challenge of both the flu season and the recurrence of COVID-19 as the climate worsens and people move indoors.\n",
    "\n",
    "This group will provide most of their own PPE, disinfection and other resources with the state acting as a backstop in extreme emergencies. Given the exponential nature of infection, we need this backstop because even the best predictions have a large variance. For example, if the disease doubles every week, then even a two week error in estimate will increase PPE requirements in COVID wards by 4x.\n",
    "\n",
    "# Group 2 Aggregate Demand of Smaller Providers\n",
    "\n",
    "This second group consists of several different populations\n",
    "\n",
    "- Smaller health care providers such as hospitals with 299 beds or less\n",
    "- long-term care providers and nursing homes\n",
    "- behavioral health facilities\n",
    "- dentists\n",
    "- morticians\n",
    "- Federally Qualified Health Centers [FQHC](https://www.hrsa.gov/opa/eligibility-and-registration/health-centers/fqhc/index.html) community health providers\n",
    "- public health organizations,\n",
    "- tribal clinics\n",
    "- independent physician practices\n",
    "- First responders including EMOs, police, fire\n",
    "\n",
    "We use two different methods to estimate these populations. More detailed surveys and census methods are also possible, so consider these methods as ways to get a broad measure of the scope of the problem. \n",
    "\n",
    "## Employee Classification (SOC) Analysis\n",
    "\n",
    "SOC codes starting with \"29-\", \"31-\", and \"33-\" refer to, respectively, healthcare occupations, healthcare support occupations, and protection services. We estimate of the percentage of healthcare workers or healthcare-support workers fall into the Group 2 category, and simply scale all the numbers by that amount. It seems like a safe assumption that all the protection services would fall into this group. \n",
    "\n",
    "This analysis provides the stockpile that you would need to 100% cover the group for 30 days. A key policy decision is the size of the back stop needed. If you want to cover 50% of the demand for 30 days, then the figures would be half that.\n"
   ]
  },
  {
   "cell_type": "code",
   "execution_count": 2,
   "metadata": {},
   "outputs": [],
   "source": [
    "import numpy as np\n",
    "import ipysheet\n",
    "import ipywidgets as widgets\n",
    "from ipywidgets import Layout\n",
    "\n",
    "def display_format(sheet, money=False):\n",
    "    df = to_df(sheet)\n",
    "    index_name = 'Population'\n",
    "    headers = list(df.index)\n",
    "    df.insert(loc=0, column=index_name, value=headers)\n",
    "    sheet = ipysheet.pandas_loader.from_dataframe(df)\n",
    "    if money is True:\n",
    "        format_money(sheet)\n",
    "    elif money is False:\n",
    "        format_cells(sheet)\n",
    "    sheet.row_headers = False\n",
    "    display(sheet)\n",
    "    \n",
    "def to_df(sheet):\n",
    "    return ipysheet.pandas_loader.to_dataframe(sheet)\n",
    "\n",
    "def to_sheet(df):\n",
    "    return ipysheet.pandas_loader.from_dataframe(df)\n",
    "\n",
    "def format_cells(sheet):\n",
    "    for cell in sheet.cells:\n",
    "        setattr(cell, 'read_only', True)\n",
    "        setattr(cell, 'numeric_format', '0,000')\n",
    "        \n",
    "def format_money(sheet):\n",
    "    for cell in sheet.cells:\n",
    "        setattr(cell, 'read_only', True)\n",
    "        setattr(cell, 'numeric_format', '$0,000')\n",
    "        \n",
    "def to_sheet(df):\n",
    "    return ipysheet.pandas_loader.from_dataframe(df)\n",
    "\n",
    "def set_stock(days):\n",
    "    resource.demand(resource.inventory_ln_df)\n",
    "    resource.set_inv_min(demand.level_total_demand_ln_df, days)\n",
    "    stockpile = to_sheet(resource.inventory_ln_df)\n",
    "    stockpile_cost_df = resource.inventory_ln_df.multiply(resource.cost_ln_df).round()\n",
    "    stockpile_cost = to_sheet(stockpile_cost_df)\n",
    "    display_format(stockpile)\n",
    "    display_format(stockpile_cost, money=True)\n",
    "    population_out = to_sheet(population.detail_pd_df)\n",
    "    display_format(population_out)"
   ]
  },
  {
   "cell_type": "code",
   "execution_count": 3,
   "metadata": {},
   "outputs": [
    {
     "data": {
      "application/vnd.jupyter.widget-view+json": {
       "model_id": "5f758fdc7b804992bd971c7185e214d5",
       "version_major": 2,
       "version_minor": 0
      },
      "text/plain": [
       "interactive(children=(IntSlider(value=30, description='days', max=90, min=-30), Output()), _dom_classes=('widg…"
      ]
     },
     "metadata": {},
     "output_type": "display_data"
    },
    {
     "data": {
      "text/plain": [
       "<function __main__.set_stock(days)>"
      ]
     },
     "execution_count": 3,
     "metadata": {},
     "output_type": "execute_result"
    }
   ],
   "source": [
    "config = set_config('../src')\n",
    "restart = NoteCompose(configdir='../src/', population='oes', demand='washington', subpop='wa_tier2_opt1', state='Washington')\n",
    "population = restart.model.population\n",
    "resource = restart.model.resource\n",
    "demand = restart.model.demand\n",
    "\n",
    "widgets.interact(set_stock, days=30)"
   ]
  },
  {
   "cell_type": "code",
   "execution_count": 4,
   "metadata": {},
   "outputs": [
    {
     "data": {
      "application/vnd.jupyter.widget-view+json": {
       "model_id": "3c7d8c9f3f644588b371a301dcc9d4be",
       "version_major": 2,
       "version_minor": 0
      },
      "text/plain": [
       "Sheet(cells=(Cell(choice=[], column_end=0, column_start=0, numeric_format=None, row_end=86, row_start=0, squee…"
      ]
     },
     "metadata": {},
     "output_type": "display_data"
    }
   ],
   "source": [
    "essential_arr = restart.model.demand.level_pl_df.to_numpy()\n",
    "population_labels = list(restart.model.demand.level_pl_df.index)\n",
    "\n",
    "essential_list = []\n",
    "\n",
    "for row in essential_arr:\n",
    "    if row[0] == 1:\n",
    "        essential_list.append('Y')\n",
    "    else:\n",
    "        essential_list.append('N')\n",
    "\n",
    "essential_df = pd.DataFrame(essential_list)\n",
    "essential_df.insert(loc=0, column='Population', value=population_labels)\n",
    "essential_df.columns = ['Population', 'Essential Worker']\n",
    "essential_sheet = to_sheet(essential_df)\n",
    "essential_sheet.row_headers = False\n",
    "\n",
    "essential_sheet"
   ]
  },
  {
   "cell_type": "markdown",
   "metadata": {},
   "source": [
    "### Note on specific SOC codes used in Analysis\n",
    "\n",
    "The main assumption here is that we are going to include certain groups as part of the coding for Group 2 this would include, a subset of occupations in these groups. Note that there is some overlap here because this is a list of all occupations and some percentage of these work in Group 1. These can of course all be modified, but this is the basis for the \"quick\" pull done here:\n",
    "\n",
    "| OCC Category  | SOC Code |\n",
    "| :- | -: |\n",
    "| OCC Category 29 | SOC Code |\n",
    "| Dental Hygienists | 29-1292 |   \n",
    "| EMTs and Paramedics | 29-2040 |\n",
    "| Family Medicine Physicians | 29-1215 | \n",
    "| Respiratory Therapists | 29-1126 |\n",
    "| Psychiatrists | 29-1223 |\n",
    "| Audiologists | 29-1181 |\n",
    "| Pediatricians | 29-1221 |\n",
    "| Psychiatric Technicians | 29-2052 |\n",
    "\n",
    "| OCC Category 31 | SOC Code |\n",
    "| :- | -: |\n",
    "| Home Health and Personal Care Aides | 31-1120 |\n",
    "| Nursing Assistants | 31-1131   |\n",
    "| Morticians, Undertakers, and Funeral Arrangers |  39-4031 |\n",
    "| Orderlies | 31-1132 |\n",
    "| Psychiatric Aides | 31-1133  |\n",
    "| Dental Assistants | 31-9091 |\n",
    "\n",
    "| OCC Category 33 and 39 | SOC Code |\n",
    "| :- | -: |\n",
    "| Firefighters |  33-2011 |\n",
    "| Correctional Officers and Jailers |  33-3012 |\n",
    "| Detectives and Criminal Investigators |  33-3021  |\n",
    "| Transportation Security Screeners | 33-9093 |\n",
    "| Parking Enforcement Workers | 33-3041   |\n",
    "| Police and Sheriff’s Patrol officers | 33-3051 |\n",
    "| Transit and Railroad Police | 33-3052 |\n",
    "| Embalmers |  39-4011 |\n"
   ]
  },
  {
   "cell_type": "code",
   "execution_count": 5,
   "metadata": {},
   "outputs": [
    {
     "data": {
      "application/vnd.jupyter.widget-view+json": {
       "model_id": "b308b9e8ad444262aceab05d9193ce86",
       "version_major": 2,
       "version_minor": 0
      },
      "text/plain": [
       "interactive(children=(IntSlider(value=30, description='days', max=90, min=-30), Output()), _dom_classes=('widg…"
      ]
     },
     "metadata": {},
     "output_type": "display_data"
    },
    {
     "data": {
      "text/plain": [
       "<function __main__.set_stock(days)>"
      ]
     },
     "execution_count": 5,
     "metadata": {},
     "output_type": "execute_result"
    }
   ],
   "source": [
    "restart = NoteCompose(configdir='../src/', population='oes', demand='washington', subpop='wa_tier2_opt2', state='Washington')\n",
    "population = restart.model.population\n",
    "resource = restart.model.resource\n",
    "demand = restart.model.demand\n",
    "\n",
    "widgets.interact(set_stock, days=30)"
   ]
  },
  {
   "cell_type": "markdown",
   "metadata": {},
   "source": [
    "# Vulnerable Populations \n",
    "\n",
    "These figures are very preliminary and are derived by initial census data gathered by Group 3. Overall they cover these populations (with caveats noted):\n",
    "\n",
    "- Aging and Long-term Support. This is the total count of Long Term Care and also aging. We have another figure for just Long Term care of 120K, so there are some differences here. Also some of these may be able to pay.\n",
    "- Developmentally Disabled. Some of the staff is captured in the Group 2 figures as there are job classes here that overlap and we will have to figure out which belong in Group 2 and which in Group 3 (eg not enough funds to pay)\n",
    "- Low Income and Poverty. This is the largest figure of clients with nealry 1.8M. The staff does not count social assistance groups that are providing support here so that staff is under counted.\n",
    "- Child Communites and Staff. This is a subset of school children\n",
    "- Behavioral Health. We also have some overlap here in the staff with Group 2 that we need to exclude.\n",
    "- Agricultural Community. This is mainly workers and some have materials and others do not. Also there are other programs that may cover them."
   ]
  },
  {
   "cell_type": "code",
   "execution_count": 6,
   "metadata": {
    "scrolled": false
   },
   "outputs": [
    {
     "data": {
      "application/vnd.jupyter.widget-view+json": {
       "model_id": "28edead40ede433d8f7c71adb399ccfa",
       "version_major": 2,
       "version_minor": 0
      },
      "text/plain": [
       "interactive(children=(IntSlider(value=30, description='days', max=90, min=-30), Output()), _dom_classes=('widg…"
      ]
     },
     "metadata": {},
     "output_type": "display_data"
    },
    {
     "data": {
      "text/plain": [
       "<function __main__.set_stock(days)>"
      ]
     },
     "execution_count": 6,
     "metadata": {},
     "output_type": "execute_result"
    }
   ],
   "source": [
    "restart = NoteCompose(configdir='../config/vuln', population='dict', demand='dict')\n",
    "population = restart.model.population\n",
    "resource = restart.model.resource\n",
    "demand = restart.model.demand\n",
    "\n",
    "widgets.interact(set_stock, days=30)"
   ]
  },
  {
   "cell_type": "code",
   "execution_count": null,
   "metadata": {},
   "outputs": [],
   "source": []
  }
 ],
 "metadata": {
  "kernelspec": {
   "display_name": "Python 3",
   "language": "python",
   "name": "python3"
  },
  "language_info": {
   "codemirror_mode": {
    "name": "ipython",
    "version": 3
   },
   "file_extension": ".py",
   "mimetype": "text/x-python",
   "name": "python",
   "nbconvert_exporter": "python",
   "pygments_lexer": "ipython3",
   "version": "3.8.5"
  }
 },
 "nbformat": 4,
 "nbformat_minor": 4
}
