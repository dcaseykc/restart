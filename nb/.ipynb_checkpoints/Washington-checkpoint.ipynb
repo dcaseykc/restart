{
 "cells": [
  {
   "cell_type": "markdown",
   "metadata": {},
   "source": [
    "# Washington Public Safety Preliminary Analysis\n",
    "## 8 September 2020\n",
    "\n",
    "As part of the Fall preparation sprint, we spent the last ten days analyzing what it will take to beat the infection decisively this fall. There are three fundamental ideas:\n",
    "1. Backstop. Have a backstop that protects hospitals in the unlikely event, they outstrip their ability to procure the right resources. They are our last line of defense against the infection.\n",
    "2. Purchasing Cooperative. For smaller groups that have funds, but who can benefit from the aggregation of supply. This will protect an important group that is upstream of hospitals.\n",
    "3. Protecting the most vulnerable. The infection starts at this front line. We need to defend the most vulnerable against the infection. Not only does this reduce the disease burden, it also increases employment and takes the pressure off our relief efforts. Winning upstream, winning at the front lines, that is the key to victory.\n",
    "\n",
    "Questions and edits to rich@restart.us and lucas@restart.us"
   ]
  },
  {
   "cell_type": "code",
   "execution_count": 1,
   "metadata": {},
   "outputs": [],
   "source": [
    "import sys\n",
    "import pandas as pd\n",
    "import ipywidgets as widgets\n",
    "from restart.restart import RestartModel\n",
    "from restart.src.util import set_config, to_df, to_sheet, display_population, format_population, format_cells"
   ]
  },
  {
   "cell_type": "markdown",
   "metadata": {},
   "source": [
    "# Public Safety Groupings (for Des)\n",
    "These include EMTs, firefighters, and other public safety officers. A detailed breakdown of SOC codes can be seen below."
   ]
  },
  {
   "cell_type": "code",
   "execution_count": 2,
   "metadata": {},
   "outputs": [
    {
     "data": {
      "application/vnd.jupyter.widget-view+json": {
       "model_id": "6f4b5bf4551d4ccf9a87c6a8667acd46",
       "version_major": 2,
       "version_minor": 0
      },
      "text/plain": [
       "VBox(children=(IntSlider(value=30, continuous_update=False, description='Days', max=120, min=1), Output()))"
      ]
     },
     "metadata": {},
     "output_type": "display_data"
    }
   ],
   "source": [
    "ps_config = set_config('../config/wa_groups')\n",
    "ps = RestartModel(configdir='../config/wa_groups', population='oes', state='Washington', subpop='wa_groupings')\n",
    "ps_model = ps.model\n",
    "ps_model.inventory.set_average_orders_per_period(ps_model.demand.demand_by_popsum1_total_rp1n_tc)\n",
    "\n",
    "ps_slider = widgets.IntSlider(min=1, max=120, value=30, description = \"Days\", continuous_update=False)\n",
    "\n",
    "def dashboard(backstop):\n",
    "    set_stock_ps(backstop)\n",
    "    \n",
    "def display_stock(df):\n",
    "    df = df.round()\n",
    "    index_name = \"Population\"\n",
    "    headers = ['EMTs', 'Firefighters', 'Other Public Safety']\n",
    "    df.insert(loc=0, column=index_name, value=headers)\n",
    "    sheet = to_sheet(df)\n",
    "    format_cells(sheet)\n",
    "    sheet.row_headers = False\n",
    "    display(sheet)\n",
    "    \n",
    "def set_stock_ps(backstop):\n",
    "    backstop = [backstop]\n",
    "    ps_model.inventory.order(ps_model.inventory.inv_by_popsum1_total_rp1n_tc)\n",
    "    ps_model.inventory.set_min_in_periods(backstop)\n",
    "    display_stock(ps_model.inventory.inv_by_popsum1_total_rp1n_tc.df)\n",
    "    \n",
    "wa_burn_sheet = format_population(to_sheet(ps_model.demand.demand_per_unit_map_dn_um.df))\n",
    "pop = format_population(to_sheet(ps_model.population.population_pP_tr.df))\n",
    "    \n",
    "ps_out = widgets.interactive_output(dashboard, {'backstop': ps_slider})\n",
    "\n",
    "widgets.VBox([ps_slider, ps_out])"
   ]
  },
  {
   "cell_type": "code",
   "execution_count": 3,
   "metadata": {},
   "outputs": [],
   "source": [
    "ps_sum_df = ps_model.population.pop_to_popsum1_per_unit_map_pp1_us.df\n",
    "ps_sheet = format_population(to_sheet(ps_sum_df))"
   ]
  },
  {
   "cell_type": "markdown",
   "metadata": {},
   "source": [
    "# Washington Grouping Analysis\n",
    "\n",
    "# Group 1: Backstop to Large Providers\n",
    "These are the large hospitals and other facilities that take care of our sickest patients. With the fall, we will face the difficult challenge of both the flu season and the recurrence of COVID-19 as the climate worsens and people move indoors.\n",
    "\n",
    "This group will provide most of their own PPE, disinfection and other resources with the state acting as a backstop in extreme emergencies. Given the exponential nature of infection, we need this backstop because even the best predictions have a large variance. For example, if the disease doubles every week, then even a two week error in estimate will increase PPE requirements in COVID wards by 4x.\n",
    "\n",
    "# Group 2: Aggregate Demand of Smaller Providers\n",
    "\n",
    "This second group consists of several different populations\n",
    "\n",
    "- Smaller health care providers such as hospitals with 299 beds or less\n",
    "- long-term care providers and nursing homes\n",
    "- behavioral health facilities\n",
    "- dentists\n",
    "- morticians\n",
    "- Federally Qualified Health Centers [FQHC](https://www.hrsa.gov/opa/eligibility-and-registration/health-centers/fqhc/index.html) community health providers\n",
    "- public health organizations,\n",
    "- tribal clinics\n",
    "- independent physician practices\n",
    "- First responders including EMOs, police, fire\n",
    "\n",
    "We use two different methods to estimate these populations. More detailed surveys and census methods are also possible, so consider these methods as ways to get a broad measure of the scope of the problem. \n",
    "\n",
    "## Employee Classification (SOC) Analysis\n",
    "\n",
    "SOC codes starting with \"29-\", \"31-\", and \"33-\" refer to, respectively, healthcare occupations, healthcare support occupations, and protection services. We estimate of the percentage of healthcare workers or healthcare-support workers fall into the Group 2 category, and simply scale all the numbers by that amount. It seems like a safe assumption that all the protection services would fall into this group. \n",
    "\n",
    "This analysis provides the stockpile that you would need to 100% cover the group for 30 days. A key policy decision is the size of the back stop needed. If you want to cover 50% of the demand for 30 days, then the figures would be half that.\n"
   ]
  },
  {
   "cell_type": "code",
   "execution_count": 4,
   "metadata": {},
   "outputs": [
    {
     "data": {
      "application/vnd.jupyter.widget-view+json": {
       "model_id": "e9c58e5be2994ce68638afc67fc27ce8",
       "version_major": 2,
       "version_minor": 0
      },
      "text/plain": [
       "VBox(children=(IntSlider(value=30, continuous_update=False, description='Days', max=120, min=1), Output()))"
      ]
     },
     "metadata": {},
     "output_type": "display_data"
    }
   ],
   "source": [
    "import numpy as np\n",
    "import ipysheet\n",
    "import ipywidgets as widgets\n",
    "from ipywidgets import Layout\n",
    "\n",
    "opt1_config = set_config('../restart')\n",
    "opt1 = RestartModel(configdir='../restart', population='oes', state='Washington', subpop='wa_tier2_opt1')\n",
    "opt1_model = opt1.model\n",
    "opt1_model.inventory.set_average_orders_per_period(opt1_model.demand.demand_by_popsum1_total_rp1n_tc)\n",
    "\n",
    "opt1_slider = widgets.IntSlider(min=1, max=120, value=30, description = \"Days\", continuous_update=False)\n",
    "\n",
    "def opt1_dashboard(backstop):\n",
    "    set_opt1_stock(backstop)\n",
    "    \n",
    "def display_opt1_stock(df):\n",
    "    df = df.round()\n",
    "    index_name = \"Population\"\n",
    "    headers = ['Essential', 'Non-Essential']\n",
    "    df.insert(loc=0, column=index_name, value=headers)\n",
    "    sheet = to_sheet(df)\n",
    "    format_cells(sheet)\n",
    "    sheet.row_headers = False\n",
    "    display(sheet)\n",
    "    \n",
    "def set_opt1_stock(backstop):\n",
    "    backstop = [backstop]\n",
    "    opt1_model.inventory.order(opt1_model.inventory.inv_by_popsum1_total_rp1n_tc)\n",
    "    opt1_model.inventory.set_min_in_periods(backstop)\n",
    "    display_opt1_stock(opt1_model.inventory.inv_by_popsum1_total_rp1n_tc.df)\n",
    "    \n",
    "opt1_pop = format_population(to_sheet(opt1_model.population.population_pP_tr.df))\n",
    "    \n",
    "opt1_out = widgets.interactive_output(opt1_dashboard, {'backstop': opt1_slider})\n",
    "\n",
    "widgets.VBox([opt1_slider, opt1_out])"
   ]
  },
  {
   "cell_type": "markdown",
   "metadata": {},
   "source": [
    "Burn rate assumptions and a detailed population breakdown"
   ]
  },
  {
   "cell_type": "markdown",
   "metadata": {},
   "source": [
    "Mapping of population to essential vs. non-essential workers"
   ]
  },
  {
   "cell_type": "markdown",
   "metadata": {},
   "source": [
    "### Note on specific SOC codes used in Analysis\n",
    "\n",
    "The main assumption here is that we are going to include certain groups as part of the coding for Group 2 this would include, a subset of occupations in these groups. Note that there is some overlap here because this is a list of all occupations and some percentage of these work in Group 1. These can of course all be modified, but this is the basis for the \"quick\" pull done here:\n",
    "\n",
    "| OCC Category  | SOC Code |\n",
    "| :- | -: |\n",
    "| OCC Category 29 | SOC Code |\n",
    "| Dental Hygienists | 29-1292 |   \n",
    "| EMTs and Paramedics | 29-2040 |\n",
    "| Family Medicine Physicians | 29-1215 | \n",
    "| Respiratory Therapists | 29-1126 |\n",
    "| Psychiatrists | 29-1223 |\n",
    "| Audiologists | 29-1181 |\n",
    "| Pediatricians | 29-1221 |\n",
    "| Psychiatric Technicians | 29-2052 |\n",
    "\n",
    "| OCC Category 31 | SOC Code |\n",
    "| :- | -: |\n",
    "| Home Health and Personal Care Aides | 31-1120 |\n",
    "| Nursing Assistants | 31-1131   |\n",
    "| Morticians, Undertakers, and Funeral Arrangers |  39-4031 |\n",
    "| Orderlies | 31-1132 |\n",
    "| Psychiatric Aides | 31-1133  |\n",
    "| Dental Assistants | 31-9091 |\n",
    "\n",
    "| OCC Category 33 and 39 | SOC Code |\n",
    "| :- | -: |\n",
    "| Firefighters |  33-2011 |\n",
    "| Correctional Officers and Jailers |  33-3012 |\n",
    "| Detectives and Criminal Investigators |  33-3021  |\n",
    "| Transportation Security Screeners | 33-9093 |\n",
    "| Parking Enforcement Workers | 33-3041   |\n",
    "| Police and Sheriff’s Patrol officers | 33-3051 |\n",
    "| Embalmers |  39-4011 |\n"
   ]
  },
  {
   "cell_type": "markdown",
   "metadata": {},
   "source": [
    "Pulling from these pre-defined codes, this is the resulting analysis:"
   ]
  },
  {
   "cell_type": "code",
   "execution_count": 5,
   "metadata": {},
   "outputs": [
    {
     "data": {
      "application/vnd.jupyter.widget-view+json": {
       "model_id": "afe64678c6c9479b8662fb1381983006",
       "version_major": 2,
       "version_minor": 0
      },
      "text/plain": [
       "VBox(children=(IntSlider(value=30, continuous_update=False, description='Days', max=120, min=1), Output()))"
      ]
     },
     "metadata": {},
     "output_type": "display_data"
    }
   ],
   "source": [
    "config = set_config('../restart')\n",
    "opt2 = RestartModel(configdir='../restart', population='oes', state='Washington', subpop='wa_tier2_opt2')\n",
    "opt2_model = opt2.model\n",
    "opt2_model.inventory.set_average_orders_per_period(opt2_model.demand.demand_by_popsum1_total_rp1n_tc)\n",
    "\n",
    "opt2_slider = widgets.IntSlider(min=1, max=120, value=30, description = \"Days\", continuous_update=False)\n",
    "\n",
    "def opt2_dashboard(backstop):\n",
    "    set_opt2_stock(backstop)\n",
    "    \n",
    "def display_opt2_stock(df):\n",
    "    df = df.round()\n",
    "    index_name = \"Population\"\n",
    "    headers = ['Essential', 'Non-Essential']\n",
    "    df.insert(loc=0, column=index_name, value=headers)\n",
    "    sheet = to_sheet(df)\n",
    "    format_cells(sheet)\n",
    "    sheet.row_headers = False\n",
    "    display(sheet)\n",
    "    \n",
    "def set_opt2_stock(backstop):\n",
    "    backstop = [backstop]\n",
    "    opt2_model.inventory.order(opt2_model.inventory.inv_by_popsum1_total_rp1n_tc)\n",
    "    opt2_model.inventory.set_min_in_periods(backstop)\n",
    "    display_opt2_stock(opt2_model.inventory.inv_by_popsum1_total_rp1n_tc.df)\n",
    "    \n",
    "opt2_pop = format_population(to_sheet(opt2_model.population.population_pP_tr.df))\n",
    "    \n",
    "opt2_out = widgets.interactive_output(opt2_dashboard, {'backstop': opt2_slider})\n",
    "\n",
    "widgets.VBox([opt2_slider, opt2_out])"
   ]
  },
  {
   "cell_type": "markdown",
   "metadata": {},
   "source": [
    "Burn rates and population breakdown:"
   ]
  },
  {
   "cell_type": "code",
   "execution_count": 6,
   "metadata": {},
   "outputs": [
    {
     "data": {
      "application/vnd.jupyter.widget-view+json": {
       "model_id": "8c54216edbe0429d8392b480abc04bcf",
       "version_major": 2,
       "version_minor": 0
      },
      "text/plain": [
       "VBox(children=(Sheet(cells=(Cell(column_end=0, column_start=0, numeric_format='0,000', read_only=True, row_end…"
      ]
     },
     "metadata": {},
     "output_type": "display_data"
    }
   ],
   "source": [
    "widgets.VBox([wa_burn_sheet, pop])"
   ]
  },
  {
   "cell_type": "code",
   "execution_count": 7,
   "metadata": {},
   "outputs": [
    {
     "data": {
      "application/vnd.jupyter.widget-view+json": {
       "model_id": "cef9179a8c0542c78c1ae83a2f65017e",
       "version_major": 2,
       "version_minor": 0
      },
      "text/plain": [
       "Tabs(children=[Tab(children=['Public Safety Analysis']), Tab(children=['Grouping Analysis 1']), Tab(children=[…"
      ]
     },
     "metadata": {},
     "output_type": "display_data"
    }
   ],
   "source": [
    "import ipyvuetify as v\n",
    "\n",
    "v.Tabs(_metadata={'mount_id': 'content-main'}, children=[\n",
    "    v.Tab(children=['Public Safety Analysis']),\n",
    "    v.Tab(children=['Grouping Analysis 1']),\n",
    "    v.Tab(children=['Grouping Analysis 2']),\n",
    "    v.TabItem(children=[\n",
    "        v.Layout(column=True, wrap=True, align_left=True, children=[\n",
    "            v.Card(xs12=True, lg6=True, xl4=True, children=[\n",
    "                v.CardTitle(primary_title=True, class_='headline', children=[\"Public Safety Analysis\"]),\n",
    "                v.CardText(children=[\n",
    "                    \"SOC codes for public safety workers. A detailed breakdown of SOC codes can be seen below. \\\n",
    "                     Adjust the slider to dynamically adjust the days of stockpile required.\" \n",
    "                ]),\n",
    "                ps_slider, ps_out, ps_sheet,\n",
    "                v.CardText(children=[\n",
    "                    \"Burn rate assumptions. Soon you will be able to edit these and dynamically update the model \\\n",
    "                     in realtime. For now, if you'd like to change any of these assumptions let us know and we \\\n",
    "                     can quickly do that for you.\"\n",
    "                ]),\n",
    "                wa_burn_sheet\n",
    "            ]),\n",
    "            \n",
    "        ])\n",
    "    ]),\n",
    "    v.TabItem(children=[\n",
    "        v.Layout(column=True, wrap=True, align_left=True, children=[\n",
    "            v.Card(xs12=True, lg6=True, xl4=True, children=[\n",
    "                v.CardTitle(primary_title=True, class_='headline', children=[\"Grouping Analysis 1\"]),\n",
    "                v.CardSubtitle(children=[\"Two Grouping Methods\"]),\n",
    "                v.CardText(children=[\n",
    "                    \"SOC codes starting with 29, 31-, and 33- refer to, respectively, \\\n",
    "                     healthcare occupations, healthcare support occupations, and protection services. \\\n",
    "                     We estimate of the percentage of healthcare workers or healthcare-support workers \\\n",
    "                     fall into the Group 2 category, and simply scale all the numbers by that amount. \\\n",
    "                     It seems like a safe assumption that all the protection services would fall into this group. \\\n",
    "                     This analysis provides the stockpile that you would need to 100% cover the group for \\\n",
    "                     30 days. A key policy decision is the size of the back stop needed.\"\n",
    "                ]),\n",
    "                opt1_slider, opt1_out, opt1_pop\n",
    "            ])\n",
    "        ])\n",
    "    ]),\n",
    "    v.TabItem(children=[\n",
    "        v.Layout(column=True, wrap=True, align_left=True, children=[\n",
    "            v.Card(xs12=True, lg6=True, xl4=True, children=[\n",
    "                v.CardTitle(primary_title=True, class_='headline', children=[\"Grouping Analysis 2\"]),\n",
    "                v.CardSubtitle(children=[\"Two Grouping Methods\"]),\n",
    "                v.CardText(children=[\n",
    "                    \"Using specific SOC codes to target the desired population.\"\n",
    "                ]),\n",
    "                opt2_slider, opt2_out, opt2_pop\n",
    "            ])\n",
    "        ])\n",
    "    ]),  \n",
    "])"
   ]
  }
 ],
 "metadata": {
  "kernelspec": {
   "display_name": "Python 3",
   "language": "python",
   "name": "python3"
  },
  "language_info": {
   "codemirror_mode": {
    "name": "ipython",
    "version": 3
   },
   "file_extension": ".py",
   "mimetype": "text/x-python",
   "name": "python",
   "nbconvert_exporter": "python",
   "pygments_lexer": "ipython3",
   "version": "3.8.5"
  }
 },
 "nbformat": 4,
 "nbformat_minor": 4
}
