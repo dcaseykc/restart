{
 "cells": [
  {
   "cell_type": "markdown",
   "metadata": {},
   "source": [
    "# California COVID Incremental Ventilator Requirements\n",
    "## Restart Partners\n",
    "August 28, 2020, lucas@restart.us, ethan@restart.us, david@restart.us, rich@restart.us"
   ]
  },
  {
   "cell_type": "code",
   "execution_count": 2,
   "metadata": {},
   "outputs": [],
   "source": [
    "import sys\n",
    "import pandas as pd\n",
    "import numpy as np\n",
    "sys.path.append('../src')\n",
    "from restart import NoteCompose\n",
    "from data import Data\n",
    "from util import set_config, to_df, to_sheet, display_population, format_population\n",
    "import bqplot\n",
    "from bqplot import pyplot as plt"
   ]
  },
  {
   "cell_type": "markdown",
   "metadata": {},
   "source": [
    "## Executive Summary\n",
    "\n",
    "Forecasting for the future Fall 2020 is difficult. This is a quick survey of the available data. We have looked through both CalCat and our other models. Here are the challenges:\n",
    "\n",
    "1. Long-term hospitalizations have high error bands. We are looking at estimates of hospitalizations that is months in the future. Given the exponential spread of COVID-19, even being off slightly now can result in very large changes. As an example, if we have uncontrolled infection that doubles every week, in three weeks, we could 8x the infection of today.\n",
    "2. We are using historical rates of ventilator usage (based on IHME assumptions). These rates change ventilator requires substantially. And the population that gets sick changes the rates at which patients enter the ICU. IMHE currently uses a 90% ventilator use of ICU patients and a 27% rate that patients enter the ICU. These are very conservative figures.\n",
    "3. The Uncertainty for this infection is very high. Even the traditional 95% uncertainty range is very hard to estimate because we are modeling an infection that has little historical data and we do now know how compliance will be in the future. These forecasts are heavily dependent on social behavior which is inherently hard to model.\n",
    "\n",
    "Given all this, we have modeled a few figures and provided a calculator where you can examine assumptions:\n",
    "1. When we look at forecast bands such as with IHME, RAND or COVID Action Network (CAN) data, we assume a \"triangle distribution\" that is we assume we do not go above their high forecast. In reality, there is an unknown probability that we can have breakthrough, so we should take those high figures as optimistic and you may want to have a buffer against the high figure.\n",
    "2. Given this, the estimates show a large high-end range of 9-17K ventilators required. However, if the parameters are incorrect, then we could easily exceed those figures. Obviously these figures are much higher that the 1.5K ventilators that is the current peak, but all the models show the potential for widespread infection in the fall. And this does not model other uses of ventilators. it is only for incremental COVID demand.\n",
    "3. Finally, the allocation of ventilators can also be off and given the large geographic area that is California, it is possible to have enough ventilators, but they are in the wrong places. That makes having a buffer even more important."
   ]
  },
  {
   "cell_type": "code",
   "execution_count": 3,
   "metadata": {},
   "outputs": [],
   "source": [
    "config = set_config('../config/ca-vent')\n",
    "restart = NoteCompose(configdir='../config/ca-vent', population='dict')\n",
    "population = restart.model.population\n",
    "resource = restart.model.resource\n",
    "demand = restart.model.demand\n",
    "def generate_group_bar(df, title=\"Chart\"):\n",
    "    fig=plt.figure(title=title)\n",
    "    \n",
    "    bar_chart = plt.bar(x=df.columns.values.tolist(),\n",
    "                        y=df,\n",
    "                        labels=df.index.values.tolist(),\n",
    "                        display_legend=True)\n",
    "    bar_chart.type = \"grouped\"\n",
    "    bar_chart.colors = [\"red\", \"blue\", \"yellow\", \"purple\", \"green\", \"orange\",\"pink\", \"cyan\",\n",
    "                        \"magenta\", \"maroon\", \"chartreuse\", \"navy\", \"salmon\", \"turquoise\"][:df.index.values.size]\n",
    "                        # trimmed to length of indexes (up to fourteen distinct colors)\n",
    "    if df.columns.name:\n",
    "        plt.xlabel(df.columns.name.rsplit(\" \", 1)[0])\n",
    "        # rsplit removes last \"word\"\n",
    "    plt.ylabel(\"Count\")\n",
    "    plt.ylim(0, np.amax(df.values))\n",
    "    return fig"
   ]
  },
  {
   "cell_type": "markdown",
   "metadata": {},
   "source": [
    "**These are the burn rates**"
   ]
  },
  {
   "cell_type": "code",
   "execution_count": 4,
   "metadata": {},
   "outputs": [
    {
     "data": {
      "application/vnd.jupyter.widget-view+json": {
<<<<<<< HEAD
       "model_id": "18690fac8e2e4d9a81e6be906d3b076e",
=======
       "model_id": "b60280c3e8c44c9d8d167b4400f64463",
>>>>>>> Added bqplot charts to CaliforniaDash.ipynb
       "version_major": 2,
       "version_minor": 0
      },
      "text/plain": [
       "Sheet(cells=(Cell(choice=[], column_end=0, column_start=0, numeric_format='0,000', read_only=True, row_end=1, …"
      ]
     },
     "metadata": {},
     "output_type": "display_data"
    },
    {
     "data": {
      "application/vnd.jupyter.widget-view+json": {
       "model_id": "a02624a3928641c584272e265ab98089",
       "version_major": 2,
       "version_minor": 0
      },
      "text/plain": [
       "Figure(axes=[Axis(label='Resource', scale=OrdinalScale()), Axis(label='Count', orientation='vertical', scale=L…"
      ]
     },
     "metadata": {},
     "output_type": "display_data"
    }
   ],
   "source": [
    "burn_sheet = format_population(to_sheet(demand.demand_per_unit_map_dn_um.df))\n",
    "burn_chart = generate_group_bar(demand.demand_per_unit_map_dn_um.df)\n",
    "display(burn_sheet)\n",
    "display(burn_chart)"
   ]
  },
  {
   "cell_type": "markdown",
   "metadata": {},
   "source": [
    "While we have burn rates from the CHA memo, we not yet have an estimate for use of ventilators. They simply estimate ICU demand as 27% of all COVID hospitalizations, and make the assumption that 90% of COVID ICU patients will need to go on vent, so (0.27)(0.9) = 0.243. \n",
    "\n",
    "The rest of the burn rates are derived from the CHA memo (and this model replicates the PPE projections in that memo). These are different from other burn rates we have acquired, so we need to study the differences and report back to CDPH.\n",
    "\n",
    "When we can, we add range data, but the table above are the point estimates of burn rates. In the real world, there is an error band"
   ]
  },
  {
   "cell_type": "code",
   "execution_count": 5,
   "metadata": {
    "scrolled": true
   },
   "outputs": [
    {
     "data": {
      "application/vnd.jupyter.widget-view+json": {
<<<<<<< HEAD
       "model_id": "84e5b21044854bc9ac3f05c9908c506c",
=======
       "model_id": "bfb3fd81626b45daad7a2fa0f4729d86",
>>>>>>> Added bqplot charts to CaliforniaDash.ipynb
       "version_major": 2,
       "version_minor": 0
      },
      "text/plain": [
       "VBox(children=(Sheet(cells=(Cell(choice=[], column_end=0, column_start=0, numeric_format='0,000', read_only=Tr…"
      ]
     },
     "metadata": {},
     "output_type": "display_data"
    }
   ],
   "source": [
    "import ipywidgets as widgets\n",
    "pop_sheet = format_population(to_sheet(population.population_pP_tr.df), round=True)\n",
    "daily_sheet = format_population(to_sheet(demand.demand_by_pop_total_pn_tc.df), round=True)\n",
    "daily_chart = generate_group_bar(demand.demand_by_pop_total_pn_tc.df)\n",
    "\n",
    "widgets.VBox([pop_sheet, daily_sheet, daily_chart])"
   ]
  },
  {
   "cell_type": "markdown",
   "metadata": {},
   "source": [
    "The above table show projections of patient count. The CA Projected is from an early memo in the spring of potential spring surge and we do not use this for our analysis. The IHME, MIT, RAND and Covid Action netowrk figures are peaks for the coming fall and are their \"best guess estimates\". These are again subject to different population behavior and also make assumptions about how the disease progresses, so you need to take them with a large grain of salt.\n",
    "\n",
    "However, if we just use these midpoint estimates, the IMHE estimate show the need for 8K ventilators at peak this fall. \n",
    "\n",
    "Next is the same model but with the added range dimension. Use the slider to adjust the confidence interval, and the projections will automatically update. The above model does not take into consideration the high pound estimates which are the 95% uncertainty given the model assumptions.\n",
    "\n",
    "So there are two other methods for looking at the data:\n",
    "1. Take the high estimate and use it\n",
    "2. Take a buffer against the high estimate. For instance, with the RAND estimate, doubling it would mean 20K ventilators are required. Remember that a double of ventilators protects against one unexpected doubling. If doubling time is 7 days, it buys 7 more days before the infection overloads the system. \n",
    "\n",
    "See the analysis below where you can change some of the assumptions:"
   ]
  },
  {
   "cell_type": "code",
<<<<<<< HEAD
   "execution_count": 7,
   "metadata": {
    "scrolled": true
   },
=======
   "execution_count": 5,
   "metadata": {},
>>>>>>> Added bqplot charts to CaliforniaDash.ipynb
   "outputs": [
    {
     "data": {
      "application/vnd.jupyter.widget-view+json": {
<<<<<<< HEAD
       "model_id": "f9dc4da4ef7942758310ff0580f12069",
=======
       "model_id": "8d1c6ee5143c44c8a1c8991e3f997e92",
>>>>>>> Added bqplot charts to CaliforniaDash.ipynb
       "version_major": 2,
       "version_minor": 0
      },
      "text/plain": [
       "VBox(children=(FloatSlider(value=0.95, continuous_update=False, description='CR', max=0.99, min=0.7, step=0.01…"
      ]
     },
     "metadata": {},
     "output_type": "display_data"
    }
   ],
   "source": [
    "import ipywidgets as widgets\n",
    "from scipy.stats import norm\n",
    "import math\n",
    "\n",
    "def triangular(a,b,c):\n",
    "    return math.sqrt( ((a*a + b*b + c*c) - a*b - a*c - b*c) / 18 )\n",
    "\n",
    "\n",
    "epi_df = pd.read_csv('epi_ranges.csv',index_col='Model')\n",
    "stdev = epi_df.apply(\n",
    "    lambda row: triangular(\n",
    "        row['Vent Mid'],\n",
    "        row['Vent Low'], \n",
    "        row['Vent High']\n",
    "    ), axis=1\n",
    ")\n",
    "\n",
    "epi_df['Vent Mean'] = epi_df.mean(axis=1)\n",
    "\n",
    "epi_df['Vent SD'] = stdev\n",
    "\n",
    "\n",
    "def calc_eoq(df, cr):\n",
    "    Z=norm.ppf(cr)\n",
    "    df['Vent EOQ'] = df['Vent Mean'] + (Z * df['Vent SD'])\n",
    "    return df\n",
    "\n",
    "def display_eoq(cr):\n",
    "    # calculate the hospitalization EOQ\n",
    "    epi = calc_eoq(epi_df, cr)\n",
    "    eoq_df = 0.243 * epi\n",
    "    # adjusting the non-COVID patients\n",
    "    eoq_df.loc['CA Projected Non-COVID Patients', 'Vent EOQ'] = 0\n",
    "    eoq_sheet = to_sheet(eoq_df)\n",
    "    display_population(eoq_sheet, round=True)\n",
    "    display(generate_group_bar(eoq_df))\n",
    "    # calculate stockpile projections\n",
    "    preds_df = Data(\n",
    "        \"demand_by_pop_total_pn_tc\", config)\n",
    "    preds_df.array = (demand.demand_by_pop_per_person_pn_uc.array.T * epi_df[\"Vent EOQ\"].to_numpy().T).T\n",
    "    preds_df.df.columns = [f\"Vent EOQ at CR={cr}\", 'N95 Masks', 'Surgical Masks', 'PAPR', 'Gowns', 'Coveralls', 'Gloves']\n",
    "    preds_sheet = to_sheet(preds_df.df)\n",
    "    display_population(preds_sheet, round=True)\n",
    "    display(generate_group_bar(preds_df.df))\n",
    "\n",
    "slider = widgets.FloatSlider(min=0.70,max=0.99,step=0.01,value=0.95, continuous_update=False, description=\"CR\")\n",
    "out = widgets.interactive_output(display_eoq, {'cr': slider})\n",
    "widgets.VBox([slider, out])"
   ]
  },
  {
   "cell_type": "markdown",
   "metadata": {},
   "source": [
    "In the analysis above, you can see the sensitivty issues:\n",
    "\n",
    "1. The high 95% estimate for these is in `Vent High` and shows that IMHE projects 8K while RAND projects 12-13K and CAN assumes 18K required.\n",
    "2. If you want a lower level, then adjust the CR to whateven factor and in `Vent EOQ` you can see that projection\n",
    "3. In this analysis we assume that we will never need more than `Vent High`, but this is a modeling assumption. The actual infection could easily exceed this if the disease changes or if the social actions are not consitent with the model."
   ]
  },
  {
   "cell_type": "code",
<<<<<<< HEAD
   "execution_count": 8,
=======
   "execution_count": 6,
>>>>>>> Added bqplot charts to CaliforniaDash.ipynb
   "metadata": {},
   "outputs": [
    {
     "data": {
      "application/vnd.jupyter.widget-view+json": {
<<<<<<< HEAD
       "model_id": "f221c503e8194ffab2830c6c5987b137",
=======
       "model_id": "7b5b9510663c46d3bfd29fe1613fa5ab",
>>>>>>> Added bqplot charts to CaliforniaDash.ipynb
       "version_major": 2,
       "version_minor": 0
      },
      "text/plain": [
       "Tabs(children=[Tab(children=['Home']), Tab(children=['Projected Patients']), Tab(children=['Burn Rates']), Tab…"
      ]
     },
     "metadata": {},
     "output_type": "display_data"
    }
   ],
   "source": [
    "import ipyvuetify as v\n",
    "v.theme.themes.light.primary = 'colors.teal'\n",
    "\n",
    "v.Tabs(_metadata={'mount_id': 'content-main'}, children=[\n",
    "    v.Tab(children=['Home']),\n",
    "    v.Tab(children=['Projected Patients']),\n",
    "    v.Tab(children=['Burn Rates']),\n",
    "    v.TabItem(children=[\n",
    "        v.Layout(column=True, wrap=True, align_left=True, children=[\n",
    "            v.Card(xs12=True, lg6=True, xl4=True, children=[\n",
    "                v.CardTitle(primary_title=True, class_='headline', children=[\"Covid Incremental Ventilator Requirements\"]),\n",
    "                v.CardText(children=[\n",
    "                    \"Hospitalizations due to COVID at a peak surge were projected using several different models. \\\n",
    "                     From this figure, the number of patients requiring ICU care and an invasive ventilator using \\\n",
    "                     IHME figures. The remaining resources were projected using CHA burn rate assumptions.\" \n",
    "                ])\n",
    "            ]),\n",
    "            slider, out\n",
    "        ])\n",
    "    ]),\n",
    "    v.TabItem(children=[\n",
    "        v.Layout(column=True, wrap=True, align_left=True, children=[\n",
    "            v.Card(xs12=True, lg6=True, xl4=True, children=[\n",
    "                v.CardTitle(primary_title=True, class_='headline', children=[\"Population\"]),\n",
    "                v.CardSubtitle(children=[\"Projected Patients\"]),\n",
    "                pop_sheet\n",
    "            ])\n",
    "        ])\n",
    "    ]),\n",
    "    v.TabItem(children=[\n",
    "        v.Layout(column=True, wrap=True, align_left=True, children=[\n",
    "            v.Card(xs12=True, lg6=True, x14=True, children=[\n",
    "                v.CardTitle(primary_title=True, class_='headline', children=[\"Burn Rates\"]),\n",
    "                v.CardSubtitle(children=[\"Per Capita Resource Demand\"]),\n",
    "                burn_sheet,\n",
    "                burn_chart\n",
    "            ])\n",
    "        ])\n",
    "    ])\n",
    "])"
   ]
  },
  {
   "cell_type": "markdown",
   "metadata": {},
   "source": [
    "## Comparison with the spring\n",
    "The final point is that peak ventilator use in the fall was 1.5K according to IMHE. So these figures represent a significant increase from the Spring infection. It is extremely hard to predict what will happen, so the best option is continue looking at the data and hopefully be able to adjust orders as the problems come into view."
   ]
  }
 ],
 "metadata": {
  "kernelspec": {
   "display_name": "Python 3",
   "language": "python",
   "name": "python3"
  },
  "language_info": {
   "codemirror_mode": {
    "name": "ipython",
    "version": 3
   },
   "file_extension": ".py",
   "mimetype": "text/x-python",
   "name": "python",
   "nbconvert_exporter": "python",
   "pygments_lexer": "ipython3",
   "version": "3.8.5"
  }
 },
 "nbformat": 4,
 "nbformat_minor": 4
}
