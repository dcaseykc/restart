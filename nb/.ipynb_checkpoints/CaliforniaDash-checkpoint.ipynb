{
 "cells": [
  {
   "cell_type": "markdown",
   "metadata": {},
   "source": [
    "# COVID Incremental Ventilator Requirements"
   ]
  },
  {
   "cell_type": "code",
   "execution_count": 1,
   "metadata": {},
   "outputs": [],
   "source": [
    "import sys\n",
    "import pandas as pd\n",
    "sys.path.append('../src')\n",
    "from restart import NoteCompose\n",
    "from util import set_config, to_df, to_sheet, display_population, format_population"
   ]
  },
  {
   "cell_type": "markdown",
   "metadata": {},
   "source": [
    "## Methodology Overview and Assumptions (for Rich to Vet)\n",
    "\n",
    "The below code is written by Ethan and fetches the maximum IHME and MIT projections. Although Ethan has mentioned that the MIT projections have a peak in August and are monotically decreasing ever since, so maybe we should drop those. "
   ]
  },
  {
   "cell_type": "code",
   "execution_count": 2,
   "metadata": {},
   "outputs": [
    {
     "name": "stdout",
     "output_type": "stream",
     "text": [
      "IHME Max COVID Patients Needing ICU Bed is 9510.090576915507\n",
      "IHME Max COVID Patients Needing Hospital Bed is 34111.174893982796\n",
      "IHME Max COVID Patients Needing Ventilation is 8526.03863184152\n",
      "MIT Max COVID Patients Active Hospitalized is 25268\n",
      "MIT Max COVID Patients Needing Ventilation is 4357\n"
     ]
    }
   ],
   "source": [
    "# read IHME data into dataframe\n",
    "dfihmen = pd.read_csv('../../data/epidemiological/global/IHME/Reference_Hospitalization_All_Locs.csv')\n",
    "\n",
    "# filter dataframe for California only\n",
    "dfihmen = dfihmen.loc[dfihmen['location_name'] == 'California']\n",
    "\n",
    "# Find maximum forecasted number of covid patients needing ICU beds \n",
    "max_icuIHME = (dfihmen.loc[dfihmen['ICUbed_upper'] == max(dfihmen['ICUbed_upper'])].reset_index())['ICUbed_upper'][0]\n",
    "max_bedIHME = (dfihmen.loc[dfihmen['allbed_upper'] == max(dfihmen['allbed_upper'])].reset_index())['allbed_upper'][0]\n",
    "max_ventIHME = (dfihmen.loc[dfihmen['InvVen_upper'] == max(dfihmen['InvVen_upper'])].reset_index())['InvVen_upper'][0]\n",
    "print('IHME Max COVID Patients Needing ICU Bed is ' + str(max_icuIHME))\n",
    "print('IHME Max COVID Patients Needing Hospital Bed is ' +str(max_bedIHME))\n",
    "print('IHME Max COVID Patients Needing Ventilation is ' + str(max_ventIHME))\n",
    "\n",
    "# read MIT CA data into dataframe\n",
    "dfmit = pd.read_csv('../../data/epidemiological/us/forecasts/MIT/state/hospital/MIT_state_CA_hospitalproj.csv')\n",
    "\n",
    "# Find maximum forecasted number of active ventilated and hospitalized covid patients\n",
    "max_ventMIT = dfmit.loc[dfmit['Active Ventilated'] == max(dfmit['Active Ventilated'])]['Active Ventilated'][0]\n",
    "max_hospMIT = dfmit.loc[dfmit['Active Hospitalized'] == max(dfmit['Active Hospitalized'])]['Active Hospitalized'][0]\n",
    "print('MIT Max COVID Patients Active Hospitalized is ' + str(max_hospMIT))\n",
    "print('MIT Max COVID Patients Needing Ventilation is ' + str(max_ventMIT))"
   ]
  },
  {
   "cell_type": "markdown",
   "metadata": {},
   "source": [
    "Now to actually instantiate the model. The IHME and MIT max COVID patients needing a hospital bed figures were placed into `config.yaml` (the old `config.yaml` lives in `../config/old-v2.3` and we'll probably go back to using that again after this is done). In addition, various RAND and CAN scenarios were pulled manually directly from the CalCat website and placed into the model, using the upper bounds. Some of these should probably be pruned out, as (by design) some are unrealistically high and then we're also taking an upper bound on top of that. We use the hack of representing these demands in our population module. "
   ]
  },
  {
   "cell_type": "code",
   "execution_count": 7,
   "metadata": {},
   "outputs": [],
   "source": [
    "config = set_config('../src')\n",
    "restart = NoteCompose(configdir='../src/', population='dict')\n",
    "population = restart.model.population\n",
    "resource = restart.model.resource\n",
    "demand = restart.model.demand"
   ]
  },
  {
   "cell_type": "markdown",
   "metadata": {},
   "source": [
    "**The core assumptions are in the burn rates.** I'll walk through how a couple of these are derived, but first here are the burn rates. "
   ]
  },
  {
   "cell_type": "code",
   "execution_count": 8,
   "metadata": {},
   "outputs": [
    {
     "data": {
      "application/vnd.jupyter.widget-view+json": {
       "model_id": "b7290eee57e14eda8771bc38ad23735f",
       "version_major": 2,
       "version_minor": 0
      },
      "text/plain": [
       "Sheet(cells=(Cell(choice=[], column_end=0, column_start=0, numeric_format='0,000', read_only=True, row_end=1, …"
      ]
     },
     "metadata": {},
     "output_type": "display_data"
    }
   ],
   "source": [
    "burn_sheet = format_population(to_sheet(demand.demand_per_unit_map_dn_um.df))\n",
    "burn_sheet"
   ]
  },
  {
   "cell_type": "markdown",
   "metadata": {},
   "source": [
    "The only thing not from the CHA memo is the ventilator burn rate, which comes from IHME. They simply estimate ICU demand as 27% of all COVID hospitalizations, and make the assumption that 90% of COVID ICU patients will need to go on vent, so (0.27)(0.9) = 0.243. \n",
    "\n",
    "As for the rest, they give us logic like, for N95 masks, we can assume 3 staff visits per hour per infected COVID patient, each requiring 1 mask. So (3)(24) = 72 masks per day per COVID patient. There's no good way of estimating the non-COVID ventilator burn rate, though, so that is zeroed out. We'll want to be clear about specifying that's not actually a zero, but that we just don't have the data.\n",
    "\n",
    "One bit of validation is that the projections we get for the PPE match the California memo.\n",
    "\n",
    "I'm a bit uncomfortable with the burn rates - when you scale them to the IHME projections, for example, it's about 2.5 million N95 masks *per day* - that's definitely unrealistic. They *are* pretty much straight from the horse's mouth, but it might be wise for us to be clear about the source so that, as an organization, we're a bit insulated from them.\n",
    "\n",
    "Below are the population estimates we're using, and then also the resulting projections. Note that these are all **daily totals** - we can't simply do a scalar multiply by the number of days we're projecting for since some of these are reusable and some aren't (namely the ventilators). "
   ]
  },
  {
   "cell_type": "code",
   "execution_count": 9,
   "metadata": {},
   "outputs": [
    {
     "data": {
      "application/vnd.jupyter.widget-view+json": {
       "model_id": "010b837d06334c89a7e4aa5b5ea060bf",
       "version_major": 2,
       "version_minor": 0
      },
      "text/plain": [
       "VBox(children=(Sheet(cells=(Cell(choice=[], column_end=0, column_start=0, numeric_format='0,000', read_only=Tr…"
      ]
     },
     "metadata": {},
     "output_type": "display_data"
    }
   ],
   "source": [
    "import ipywidgets as widgets\n",
    "pop_sheet = format_population(to_sheet(population.population_pP_tr.df), round=True)\n",
    "daily_sheet = format_population(to_sheet(demand.demand_by_pop_total_pn_tc.df), round=True)\n",
    "\n",
    "widgets.VBox([pop_sheet, daily_sheet])"
   ]
  },
  {
   "cell_type": "markdown",
   "metadata": {},
   "source": [
    "And then this is a rough go at a Vuetify UI - I'll make this prettier and we can package the write-up nicely inside here once that's done."
   ]
  },
  {
   "cell_type": "code",
   "execution_count": 10,
   "metadata": {},
   "outputs": [
    {
     "data": {
      "application/vnd.jupyter.widget-view+json": {
       "model_id": "8e1af36c1d0e4a06a35c26aecdf15533",
       "version_major": 2,
       "version_minor": 0
      },
      "text/plain": [
       "Tabs(children=[Tab(children=['Home']), Tab(children=['Projected Patients']), Tab(children=['Daily Demand']), T…"
      ]
     },
     "metadata": {},
     "output_type": "display_data"
    }
   ],
   "source": [
    "import ipyvuetify as v\n",
    "v.theme.themes.light.primary = 'colors.teal'\n",
    "\n",
    "v.Tabs(_metadata={'mount_id': 'content-main'}, children=[\n",
    "    v.Tab(children=['Home']),\n",
    "    v.Tab(children=['Projected Patients']),\n",
    "    v.Tab(children=['Daily Demand']),\n",
    "    v.Tab(children=['Burn Rates']),\n",
    "    v.TabItem(children = [\n",
    "        v.Html(tag='h1', children=['COVID Incremental Ventilator Requirements']),\n",
    "        v.Html(tag='p', children=[\n",
    "            \"We project that a purchase of additional ventilators is not necessary. In our stockpile analysis we used several different models, including the CHA PPE projections, IHME COVID surge predictions, and MIT COVID surge predictions. The maximum projected ventilator need we found was 8,289, based on the IHME surge predictions.\"\n",
    "        ])\n",
    "    ]),\n",
    "    v.TabItem(children=[\n",
    "        v.Layout(column=True, wrap=True, align_left=True, children=[\n",
    "            v.Card(xs12=True, lg6=True, xl4=True, children=[\n",
    "                v.CardTitle(primary_title=True, class_='headline', children=[\"Population\"]),\n",
    "                v.CardSubtitle(children=[\"Projected Patients\"]),\n",
    "                pop_sheet\n",
    "            ])\n",
    "        ])\n",
    "    ]),\n",
    "    v.TabItem(children=[\n",
    "        v.Layout(column=True, wrap=True, align_left=True, children=[\n",
    "            v.Card(xs12=True, lg6=True, x14=True, children=[\n",
    "                v.CardTitle(primary_title=True, class_='headline', children=[\"Demand\"]),\n",
    "                v.CardSubtitle(children=[\"Daily Resource Demand\"]),\n",
    "                daily_sheet\n",
    "            ])\n",
    "        ])\n",
    "    ]),\n",
    "    v.TabItem(children=[\n",
    "        v.Layout(column=True, wrap=True, align_left=True, children=[\n",
    "            v.Card(xs12=True, lg6=True, x14=True, children=[\n",
    "                v.CardTitle(primary_title=True, class_='headline', children=[\"Burn Rates\"]),\n",
    "                v.CardSubtitle(children=[\"Per Capita Resource Demand\"]),\n",
    "                burn_sheet\n",
    "            ])\n",
    "        ])\n",
    "    ])\n",
    "])"
   ]
  }
 ],
 "metadata": {
  "kernelspec": {
   "display_name": "Python 3",
   "language": "python",
   "name": "python3"
  },
  "language_info": {
   "codemirror_mode": {
    "name": "ipython",
    "version": 3
   },
   "file_extension": ".py",
   "mimetype": "text/x-python",
   "name": "python",
   "nbconvert_exporter": "python",
   "pygments_lexer": "ipython3",
   "version": "3.8.5"
  }
 },
 "nbformat": 4,
 "nbformat_minor": 4
}
