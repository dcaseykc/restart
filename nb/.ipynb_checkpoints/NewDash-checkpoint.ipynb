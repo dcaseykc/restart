{
 "cells": [
  {
   "cell_type": "code",
   "execution_count": null,
   "metadata": {},
   "outputs": [],
   "source": [
    "import sys\n",
    "import pandas as pd\n",
    "sys.path.append('../src')\n",
    "from restart import NoteCompose\n",
    "from data import Data\n",
    "from util import set_config, to_df, to_sheet, display_population, format_population"
   ]
  },
  {
   "cell_type": "code",
   "execution_count": null,
   "metadata": {},
   "outputs": [],
   "source": [
    "import ipywidgets as widgets\n",
    "\n",
    "state_box = widgets.Text(\n",
    "    value='California',\n",
    "    placeholder='Enter a US State',\n",
    "    description='State:',\n",
    "    disabled=False\n",
    ")\n",
    "\n",
    "county_box = widgets.Text(\n",
    "    value='Santa Cruz',\n",
    "    placeholder='Enter a US County',\n",
    "    description='County:',\n",
    "    disabled=False\n",
    ")"
   ]
  },
  {
   "cell_type": "code",
   "execution_count": null,
   "metadata": {},
   "outputs": [],
   "source": [
    "config = set_config('../config/ca-v2.2')\n",
    "restart = NoteCompose(configdir='../config/ca-v2.2', population='oes', state='California')\n",
    "\n",
    "def dashboard(state, county):\n",
    "    if len(state) == 0:\n",
    "        state = None\n",
    "    if len(county) == 0:\n",
    "        county = None\n",
    "    restart.set_model(state=state, county=county)\n",
    "    population = restart.model.population\n",
    "    resource = restart.model.resource\n",
    "    demand = restart.model.demand\n",
    "    display(population.population_pP_tr.df)\n",
    "    \n",
    "out = widgets.interactive_output(dashboard, {'state': state_box, 'county': county_box})\n",
    "\n",
    "widgets.VBox([state_box, county_box, out])"
   ]
  },
  {
   "cell_type": "code",
   "execution_count": null,
   "metadata": {},
   "outputs": [],
   "source": []
  }
 ],
 "metadata": {
  "kernelspec": {
   "display_name": "Python 3",
   "language": "python",
   "name": "python3"
  },
  "language_info": {
   "codemirror_mode": {
    "name": "ipython",
    "version": 3
   },
   "file_extension": ".py",
   "mimetype": "text/x-python",
   "name": "python",
   "nbconvert_exporter": "python",
   "pygments_lexer": "ipython3",
   "version": "3.8.5"
  }
 },
 "nbformat": 4,
 "nbformat_minor": 4
}
