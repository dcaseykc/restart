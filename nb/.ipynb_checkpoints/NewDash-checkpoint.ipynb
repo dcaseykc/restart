{
 "cells": [
  {
   "cell_type": "code",
   "execution_count": 44,
   "metadata": {},
   "outputs": [],
   "source": [
    "import sys\n",
    "import pandas as pd\n",
    "sys.path.append('../src')\n",
    "from restart import NoteCompose\n",
    "from data import Data\n",
    "from util import set_config, to_df, to_sheet, display_population, format_population, format_cells"
   ]
  },
  {
   "cell_type": "code",
   "execution_count": 53,
   "metadata": {},
   "outputs": [],
   "source": [
    "import ipywidgets as widgets\n",
    "\n",
    "state_box = widgets.Text(\n",
    "    placeholder='Enter a US State',\n",
    "    description='State:',\n",
    ")\n",
    "\n",
    "county_box = widgets.Text(\n",
    "    placeholder='Enter a US County',\n",
    "    description='County:',\n",
    ")\n",
    "\n",
    "button = widgets.Button(description=\"Update Model\")"
   ]
  },
  {
   "cell_type": "code",
   "execution_count": 54,
   "metadata": {},
   "outputs": [
    {
     "data": {
      "application/vnd.jupyter.widget-view+json": {
       "model_id": "01e74387e10e48439010c446dfba7d00",
       "version_major": 2,
       "version_minor": 0
      },
      "text/plain": [
       "VBox(children=(Text(value='', description='State:', placeholder='Enter a US State'), Text(value='', descriptio…"
      ]
     },
     "metadata": {},
     "output_type": "display_data"
    }
   ],
   "source": [
    "config = set_config('../src')\n",
    "restart = NoteCompose(configdir='../src', population='oes', state='California')\n",
    "model = restart.model\n",
    "model.inventory.set_average_orders_per_period(model.demand.demand_by_popsum1_total_rp1n_tc)\n",
    "\n",
    "slider = widgets.IntSlider(value=30, continuous_update=False)\n",
    "\n",
    "def dashboard(state, county, backstop):\n",
    "    if len(state) == 0:\n",
    "        state = None\n",
    "    if len(county) == 0:\n",
    "        county = None\n",
    "    restart.set_model(state=state, county=county)\n",
    "    set_stock(backstop)\n",
    "    \n",
    "def display_stock(df):\n",
    "    df = df.round()\n",
    "    index_name = \"Population\"\n",
    "    headers = ['Essential', 'Non-Essential']\n",
    "    df.insert(loc=0, column=index_name, value=headers)\n",
    "    sheet = to_sheet(df)\n",
    "    format_cells(sheet)\n",
    "    sheet.row_headers = False\n",
    "    display(sheet)\n",
    "    \n",
    "def set_stock(backstop):\n",
    "    backstop = [backstop]\n",
    "    model.inventory.order(model.inventory.inv_by_popsum1_total_rp1n_tc)\n",
    "    model.inventory.set_min_in_periods(backstop)\n",
    "    display_stock(model.inventory.inv_by_popsum1_total_rp1n_tc.df)\n",
    "    \n",
    "out = widgets.interactive_output(dashboard, {'state': state_box, 'county': county_box, 'backstop': slider})\n",
    "\n",
    "widgets.VBox([state_box, county_box, slider, out])"
   ]
  }
 ],
 "metadata": {
  "kernelspec": {
   "display_name": "Python 3",
   "language": "python",
   "name": "python3"
  },
  "language_info": {
   "codemirror_mode": {
    "name": "ipython",
    "version": 3
   },
   "file_extension": ".py",
   "mimetype": "text/x-python",
   "name": "python",
   "nbconvert_exporter": "python",
   "pygments_lexer": "ipython3",
   "version": "3.8.5"
  }
 },
 "nbformat": 4,
 "nbformat_minor": 4
}
