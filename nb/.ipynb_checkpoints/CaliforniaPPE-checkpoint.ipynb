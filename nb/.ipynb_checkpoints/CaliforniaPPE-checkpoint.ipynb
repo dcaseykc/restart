{
 "cells": [
  {
   "cell_type": "markdown",
   "metadata": {},
   "source": [
    "# California PPE Projections\n",
    "\n",
    "## California Burn Rates\n",
    "\n",
    "Burn rates taken from the CHA memo."
   ]
  },
  {
   "cell_type": "code",
   "execution_count": 7,
   "metadata": {},
   "outputs": [
    {
     "ename": "SyntaxError",
     "evalue": "unmatched '}' (<ipython-input-7-d28f5451c487>, line 8)",
     "output_type": "error",
     "traceback": [
      "\u001b[0;36m  File \u001b[0;32m\"<ipython-input-7-d28f5451c487>\"\u001b[0;36m, line \u001b[0;32m8\u001b[0m\n\u001b[0;31m    config = set_config('../config/ca-vent')}\u001b[0m\n\u001b[0m                                            ^\u001b[0m\n\u001b[0;31mSyntaxError\u001b[0m\u001b[0;31m:\u001b[0m unmatched '}'\n"
     ]
    }
   ],
   "source": [
    "import sys\n",
    "import pandas as pd\n",
    "import numpy as np\n",
    "from restart import RestartModel\n",
    "from restart import Data\n",
    "from restart.util import set_config, to_df, to_sheet, display_population, format_population, format_cells\n",
    "\n",
    "config = set_config('../config/ca-vent')}\n",
    "restart = RestartModel(config_dir='../config/ca-vent', population='dict')\n",
    "model = restart.model\n",
    "\n",
    "burn_sheet = format_population(to_sheet(model.demand.demand_per_unit_map_dn_um.df))\n",
    "display(burn_sheet)"
   ]
  },
  {
   "cell_type": "code",
   "execution_count": 8,
   "metadata": {
    "scrolled": true
   },
   "outputs": [
    {
     "data": {
      "application/vnd.jupyter.widget-view+json": {
       "model_id": "f361877840d0491396b45679f1af2179",
       "version_major": 2,
       "version_minor": 0
      },
      "text/plain": [
       "VBox(children=(FloatSlider(value=0.95, continuous_update=False, description='CR', max=0.99, min=0.7, step=0.01…"
      ]
     },
     "metadata": {},
     "output_type": "display_data"
    }
   ],
   "source": [
    "import ipywidgets as widgets\n",
    "from scipy.stats import norm\n",
    "import math\n",
    "\n",
    "def triangular(a,b,c):\n",
    "    return math.sqrt( ((a*a + b*b + c*c) - a*b - a*c - b*c) / 18 )\n",
    "\n",
    "\n",
    "ca_epi_df = pd.read_csv('epi_ranges.csv',index_col='Model')\n",
    "stdev = ca_epi_df.apply(\n",
    "    lambda row: triangular(\n",
    "        row['Vent Mid'],\n",
    "        row['Vent Low'], \n",
    "        row['Vent High']\n",
    "    ), axis=1\n",
    ")\n",
    "\n",
    "ca_epi_df['Vent Mean'] = ca_epi_df.mean(axis=1)\n",
    "\n",
    "ca_epi_df['Vent SD'] = stdev\n",
    "\n",
    "\n",
    "def calc_eoq(df, cr):\n",
    "    Z=norm.ppf(cr)\n",
    "    df['Vent EOQ'] = df['Vent Mean'] + (Z * df['Vent SD'])\n",
    "    return df\n",
    "\n",
    "def display_eoq(cr, days):\n",
    "    # calculate the hospitalization EOQ\n",
    "    epi = calc_eoq(ca_epi_df, cr)\n",
    "    eoq_df = 0.243 * epi\n",
    "    # adjusting the non-COVID patients\n",
    "    eoq_df.loc['CA Projected Non-COVID Patients', 'Vent EOQ'] = 0\n",
    "    eoq_df.drop(['CA Projected Non-COVID Patients'], axis=0, inplace=True)\n",
    "    eoq_sheet = to_sheet(eoq_df)\n",
    "    display_population(eoq_sheet, round=True)\n",
    "    # calculate stockpile projections\n",
    "    preds_df = Data(\n",
    "        \"demand_by_pop_total_pn_tc\", config)\n",
    "    preds_df.array = (model.demand.demand_by_pop_per_person_pn_uc.array.T * ca_epi_df[\"Vent EOQ\"].to_numpy().T).T\n",
    "    preds_df.array *= days\n",
    "    preds_df.df.drop(['Ventilators', 'Surgical Masks'], axis=1, inplace=True)\n",
    "    preds_df.df.drop(['CA Projected Non-COVID Surge Patients'], axis=0, inplace=True)\n",
    "    preds_sheet = to_sheet(preds_df.df)\n",
    "    display_population(preds_sheet, round=True)\n",
    "\n",
    "cr_slider = widgets.FloatSlider(min=0.70,max=0.99,step=0.01,value=0.95, continuous_update=False, description=\"CR\")\n",
    "day_slider = widgets.IntSlider(min=1, max=120, value=30, continuous_update=False, description=\"Days\")\n",
    "out = widgets.interactive_output(display_eoq, {'cr': cr_slider, 'days': day_slider})\n",
    "widgets.VBox([cr_slider, day_slider, out])"
   ]
  },
  {
   "cell_type": "markdown",
   "metadata": {},
   "source": [
    "## OES Projections\n",
    "\n",
    "Using WA tiering system, BLS OES population statistics, and WA burn rate assumptions."
   ]
  },
  {
   "cell_type": "code",
   "execution_count": 9,
   "metadata": {},
   "outputs": [
    {
     "data": {
      "application/vnd.jupyter.widget-view+json": {
       "model_id": "177dd2b6a5b1424a8429326f53da742b",
       "version_major": 2,
       "version_minor": 0
      },
      "text/plain": [
       "VBox(children=(IntSlider(value=30, continuous_update=False, description='Days', max=120, min=1), Output()))"
      ]
     },
     "metadata": {},
     "output_type": "display_data"
    }
   ],
   "source": [
    "oes_config = set_config('../restart')\n",
    "oes_restart = RestartModel(\n",
    "    config_dir='../restart',\n",
    "    data_dir='../../data/ingestion',\n",
    "    population='oes',\n",
    "    state='California',\n",
    "    subpop='healthcare')\n",
    "oes_model = oes_restart.model\n",
    "oes_model.inventory.set_average_orders_per_period(oes_model.demand.demand_by_popsum1_total_rp1n_tc)\n",
    "\n",
    "oes_slider = widgets.IntSlider(min=1, max=120, value=30, description = \"Days\", continuous_update=False)\n",
    "\n",
    "def dashboard(backstop):\n",
    "    set_stock(backstop)\n",
    "    \n",
    "def display_stock(df):\n",
    "    df = df.round()\n",
    "    index_name = \"Population\"\n",
    "    headers = ['Essential', 'Non-Essential']\n",
    "    df.insert(loc=0, column=index_name, value=headers)\n",
    "    sheet = to_sheet(df)\n",
    "    format_cells(sheet)\n",
    "    sheet.row_headers = False\n",
    "    display(sheet)\n",
    "    \n",
    "def set_stock(backstop):\n",
    "    backstop = [backstop]\n",
    "    oes_model.inventory.order(oes_model.inventory.inv_by_popsum1_total_rp1n_tc)\n",
    "    oes_model.inventory.set_min_in_periods(backstop)\n",
    "    display_stock(oes_model.inventory.inv_by_popsum1_total_rp1n_tc.df)\n",
    "    \n",
    "wa_burn_sheet = format_population(to_sheet(oes_model.demand.demand_per_unit_map_dn_um.df))\n",
    "oes_pop = format_population(to_sheet(oes_model.population.population_pP_tr.df))\n",
    "    \n",
    "oes_out = widgets.interactive_output(dashboard, {'backstop': oes_slider})\n",
    "\n",
    "widgets.VBox([oes_slider, oes_out])"
   ]
  },
  {
   "cell_type": "markdown",
   "metadata": {},
   "source": [
    "## JHU Burn Rates\n",
    "\n",
    "### ICU Assumptions\n",
    "\n",
    "Gloves: 2 gloves for each of 170 changes per patient per day. This assumes a change with each patient encounter, as per normal practice by all healthcare workers.\n",
    "\n",
    "Gowns: Assumes that COVID patients are cohorted and that a single gown is worn for 4 hours by each healthcare worker assigned to the COVID cohort, unless it becomes visibly soiled. Accounting for all the various healthcare workers involved in the care of an ICU patient, 20 changes per patient per day.\n",
    "\n",
    "Simple masks: Assumes that COVID patients are cohorted and that a single mask is worn for 4 hours by each healthcare worker assigned to the COVID cohort, unless it becomes visibly soiled. 10 changes per patient per day.\n",
    "\n",
    "N95 respirators: Assumes that COVID patients are cohorted and that a single mask is worn for 4 hours by each healthcare worker assigned to the COVID cohort, unless it becomes visibly soiled. N95s are used only by healthcare workers in proximity (3 feet) to COVID patients. 6 changes per patient per day.\n",
    "\n",
    "### Non-ICU Assumptions\n",
    "\n",
    "Gloves: 2 gloves for each of 80 changes per patient per day. This assumes a change with each patient encounter, as per normal practice by all healthcare workers.\n",
    "\n",
    "Gowns: Assumes that COVID patients are cohorted and that a single gown is worn for 4 hours by each healthcare worker assigned to the COVID cohort, unless it becomes visibly soiled. 20 changes per patient per day.\n",
    "\n",
    "Simple masks: Assumes that COVID patients are cohorted and that a single mask is worn for 4 hours by each healthcare worker assigned to the COVID cohort, unless it becomes visibly soiled. 10 changes per patient per day.\n",
    "\n",
    "N95 respirators: Respirators worn only for nebulizer treatments, intubations, and other aerosol-generating procedures. An average of 2.6 changes per patient per day.\n",
    "\n",
    "### Daily Burn Rates\n",
    "\n",
    "Let `n` be the number of hospital COVID patients. IHME assumption is that 27% of patients will go to ICU.\n",
    "\n",
    "Gloves (g): \n",
    "\n",
    "`g = (0.27n)(85) + (0.73n)(40) = 52.15 pairs per patient per day`\n",
    "\n",
    "Gowns: (G): \n",
    "\n",
    "`G = 20n = 20 gowns per patient per day`\n",
    "\n",
    "Simple masks (m): \n",
    "\n",
    "`m = 10n = 10 masks per patient per day`\n",
    "\n",
    "N95 Respirators (M): \n",
    "\n",
    "`M = (0.27n)(6) + (0.73n)(2.6) = 3.52 N95 masks per patient per day`\n",
    "\n",
    "\n",
    "\n"
   ]
  },
  {
   "cell_type": "code",
   "execution_count": 12,
   "metadata": {},
   "outputs": [
    {
     "data": {
      "application/vnd.jupyter.widget-view+json": {
       "model_id": "64213c9f0ca8472a8f8a16edd8ce7220",
       "version_major": 2,
       "version_minor": 0
      },
      "text/plain": [
       "VBox(children=(FloatSlider(value=0.95, continuous_update=False, description='CR', max=0.99, min=0.7, step=0.01…"
      ]
     },
     "metadata": {},
     "output_type": "display_data"
    }
   ],
   "source": [
    "jhu_config = set_config('../config/jhu')\n",
    "jhu_restart = RestartModel(config_dir='../config/jhu', population='dict')\n",
    "jhu_model = jhu_restart.model\n",
    "\n",
    "epi_df = pd.read_csv('epi_ranges.csv',index_col='Model')\n",
    "epi_df.drop(['CA Projected Non-COVID Patients'], axis=0, inplace=True)\n",
    "\n",
    "# adjusting so it's in terms of population, since we're not doing vents here\n",
    "epi_df = epi_df * 4.12\n",
    "epi_df.columns = ['Population Low', 'Population Mid', 'Population High']\n",
    "stdev = epi_df.apply(\n",
    "    lambda row: triangular(\n",
    "        row['Population Mid'],\n",
    "        row['Population Low'], \n",
    "        row['Population High']\n",
    "    ), axis=1\n",
    ")\n",
    "\n",
    "epi_df['Population Mean'] = epi_df.mean(axis=1)\n",
    "\n",
    "epi_df['Population SD'] = stdev\n",
    "\n",
    "\n",
    "def calc_eoq(df, cr):\n",
    "    Z=norm.ppf(cr)\n",
    "    df['Adjusted Population'] = df['Population Mean'] + (Z * df['Population SD'])\n",
    "    return df\n",
    "\n",
    "def display_eoq(cr, days):\n",
    "    # calculate the hospitalization EOQ\n",
    "    epi = calc_eoq(epi_df, cr)\n",
    "    eoq_df = 0.243 * epi\n",
    "    # adjusting the non-COVID patients\n",
    "    eoq_sheet = to_sheet(eoq_df)\n",
    "    display_population(eoq_sheet, round=True)\n",
    "    # calculate stockpile projections\n",
    "    preds_df = Data(\n",
    "        \"demand_by_pop_total_pn_tc\", jhu_config)\n",
    "    preds_df.array = (jhu_model.demand.demand_by_pop_per_person_pn_uc.array.T * epi_df[\"Adjusted Population\"].to_numpy().T).T\n",
    "    preds_df.array *= days\n",
    "    preds_sheet = to_sheet(preds_df.df)\n",
    "    display_population(preds_sheet, round=True)\n",
    "    \n",
    "jhu_burn_sheet  = format_population(to_sheet(jhu_model.demand.demand_per_unit_map_dn_um.df))\n",
    "\n",
    "jhu_cr_slider = widgets.FloatSlider(min=0.70,max=0.99,step=0.01,value=0.95, continuous_update=False, description=\"CR\")\n",
    "jhu_day_slider = widgets.IntSlider(min=1, max=120, value=30, continuous_update=False, description=\"Days\")\n",
    "jhu_out = widgets.interactive_output(display_eoq, {'cr': jhu_cr_slider, 'days': jhu_day_slider})\n",
    "widgets.VBox([jhu_cr_slider, jhu_day_slider, jhu_out])"
   ]
  },
  {
   "cell_type": "code",
   "execution_count": 13,
   "metadata": {},
   "outputs": [
    {
     "data": {
      "application/vnd.jupyter.widget-view+json": {
       "model_id": "2b04bf13d550425ebc90dcb10f82b2b9",
       "version_major": 2,
       "version_minor": 0
      },
      "text/plain": [
       "Tabs(children=[Tab(children=['Vent Analysis']), Tab(children=['Population']), Tab(children=['Burn Rates']), Ta…"
      ]
     },
     "metadata": {},
     "output_type": "display_data"
    }
   ],
   "source": [
    "import ipyvuetify as v\n",
    "v.theme.themes.light.primary = 'colors.teal'\n",
    "\n",
    "v.Tabs(_metadata={'mount_id': 'content-main'}, children=[\n",
    "    v.Tab(children=['Vent Analysis']),\n",
    "    v.Tab(children=['Population']),\n",
    "    v.Tab(children=['Burn Rates']),\n",
    "    v.TabItem(children=[\n",
    "        v.Layout(column=True, wrap=True, align_left=True, children=[\n",
    "            v.Card(xs12=True, lg6=True, xl4=True, children=[\n",
    "                v.CardTitle(primary_title=True, class_='headline', children=[\"Covid Incremental Ventilator Requirements\"]),\n",
    "                v.CardText(children=[\n",
    "                    \"Vent + PPE analysis with CA burn rates:\"\n",
    "                ]),\n",
    "                cr_slider, day_slider, out,\n",
    "                v.CardText(children=[\n",
    "                    \"PPE and population analysis with JHU burn rates:\"\n",
    "                ]),\n",
    "                jhu_cr_slider, jhu_day_slider, jhu_out,\n",
    "                v.CardText(children=[\n",
    "                    \"PPE and population analysis with OES population and WA burn rates:\"\n",
    "                ]),\n",
    "                oes_slider, oes_out,\n",
    "            ]),\n",
    "                \n",
    "        ])\n",
    "    ]),\n",
    "    v.TabItem(children=[\n",
    "        v.Layout(column=True, wrap=True, align_left=True, children=[\n",
    "            v.Card(xs12=True, lg6=True, xl4=True, children=[\n",
    "                v.CardTitle(primary_title=True, class_='headline', children=[\"BLS Population with High Granularity\"]),\n",
    "                v.CardText(children=[\n",
    "                    \"OES Population\"\n",
    "                ]),\n",
    "                oes_pop\n",
    "            ])\n",
    "                \n",
    "        ])\n",
    "    ]),\n",
    "    v.TabItem(children=[\n",
    "        v.Layout(column=True, wrap=True, align_left=True, children=[\n",
    "            v.Card(xs12=True, lg6=True, x14=True, children=[\n",
    "                v.CardTitle(primary_title=True, class_='headline', children=[\"Burn Rates\"]),\n",
    "                v.CardSubtitle(children=[\"Per Capita Resource Demand: CA Assumptions\"]),\n",
    "                burn_sheet,\n",
    "                v.CardSubtitle(children=[\"Per Capita Resource Demand: JHU Assumptions\"]),\n",
    "                jhu_burn_sheet,\n",
    "                v.CardSubtitle(children=[\"Per Capita Resource Demand: WA Assumptions\"]),\n",
    "                wa_burn_sheet,\n",
    "            ])\n",
    "        ])\n",
    "    ])\n",
    "])"
   ]
  }
 ],
 "metadata": {
  "kernelspec": {
   "display_name": "Python 3",
   "language": "python",
   "name": "python3"
  },
  "language_info": {
   "codemirror_mode": {
    "name": "ipython",
    "version": 3
   },
   "file_extension": ".py",
   "mimetype": "text/x-python",
   "name": "python",
   "nbconvert_exporter": "python",
   "pygments_lexer": "ipython3",
   "version": "3.8.5"
  }
 },
 "nbformat": 4,
 "nbformat_minor": 4
}
