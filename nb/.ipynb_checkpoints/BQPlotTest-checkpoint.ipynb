{
 "cells": [
  {
   "cell_type": "code",
   "execution_count": null,
   "metadata": {},
   "outputs": [],
   "source": [
    "import bqplot\n",
    "from bqplot import pyplot as plt\n",
    "\n",
    "import pandas as pd\n",
    "import numpy as np\n",
    "\n",
    "import sys\n",
    "import ipywidgets as widgets\n",
    "sys.path.append('../src')\n",
    "from restart import NoteCompose\n",
    "from util import set_config, to_df, to_sheet, display_population, format_population\n",
    "\n",
    "config = set_config('../src')\n",
    "restart = NoteCompose(configdir='../src/', population='oes', state='California')\n",
    "population = restart.model.population\n",
    "resource = restart.model.resource\n",
    "demand = restart.model.demand"
   ]
  },
  {
   "cell_type": "code",
   "execution_count": null,
   "metadata": {
    "scrolled": false
   },
   "outputs": [],
   "source": [
    "print(\"DISPLAY demand.demand_per_unit_map_dn_um.df\\n\")\n",
    "print(demand.demand_per_unit_map_dn_um.df)\n",
    "print(\"\\n\")\n",
    "print(demand.demand_per_unit_map_dn_um.df.index)\n",
    "print(demand.demand_per_unit_map_dn_um.df.columns)\n",
    "print(demand.demand_per_unit_map_dn_um.df.values)\n",
    "print(\"\\n\")\n",
    "df_reset = demand.demand_per_unit_map_dn_um.df.reset_index()\n",
    "df_melt = df_reset.melt(id_vars=demand.demand_per_unit_map_dn_um.df.index.name, value_name=\"Count\")\n",
    "print(df_melt)"
   ]
  },
  {
   "cell_type": "code",
   "execution_count": null,
   "metadata": {
    "scrolled": false
   },
   "outputs": [],
   "source": [
    "df = demand.demand_per_unit_map_dn_um.df\n",
    "def generate_group_bar(df, title=\"Chart\"):\n",
    "    fig=plt.figure(title=title)\n",
    "    \n",
    "    bar_chart = plt.bar(x=df.columns.values.tolist(),\n",
    "                        y=df,\n",
    "                        labels=df.index.values.tolist(),\n",
    "                        display_legend=True)\n",
    "    bar_chart.type = \"grouped\"\n",
    "    bar_chart.colors = [\"red\", \"blue\", \"yellow\", \"purple\", \"green\", \"orange\",\"pink\", \"cyan\",\n",
    "                        \"magenta\", \"maroon\", \"chartreuse\", \"navy\", \"salmon\", \"turquoise\"][:df.index.values.size]\n",
    "                        # trimmed to length of indexes (up to fourteen distinct colors)\n",
    "    plt.xlabel(df.columns.name.rsplit(\" \", 1)[0])\n",
    "    # rsplit removes last \"word\"\n",
    "    plt.ylabel(\"Count\")\n",
    "    plt.ylim(0, np.amax(df.values))\n",
    "    return fig\n",
    "\n",
    "generate_group_bar(df, \"Demand\")\n",
    "plt.show()"
   ]
  },
  {
   "cell_type": "code",
   "execution_count": null,
   "metadata": {},
   "outputs": [],
   "source": [
    "df_reset = demand.demand_per_unit_map_dn_um.df.reset_index()\n",
    "df_melt = df_reset.melt(id_vars=df.index.name, value_name=\"Count\")"
   ]
  },
  {
   "cell_type": "code",
   "execution_count": null,
   "metadata": {},
   "outputs": [],
   "source": [
    "generate_group_bar(demand.demand_per_unit_map_dn_um.df, \"Demand\")"
   ]
  }
 ],
 "metadata": {
  "kernelspec": {
   "display_name": "",
   "language": "python",
   "name": ""
  },
  "language_info": {
   "codemirror_mode": {
    "name": "ipython",
    "version": 3
   },
   "file_extension": ".py",
   "mimetype": "text/x-python",
   "name": "python",
   "nbconvert_exporter": "python",
   "pygments_lexer": "ipython3",
   "version": "3.8.5"
  }
 },
 "nbformat": 4,
 "nbformat_minor": 4
}
