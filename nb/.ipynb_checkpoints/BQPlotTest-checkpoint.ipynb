{
 "cells": [
  {
   "cell_type": "code",
   "execution_count": 1,
   "metadata": {},
   "outputs": [],
   "source": [
    "import bqplot\n",
    "from bqplot import pyplot as plt\n",
    "\n",
    "import pandas as pd\n",
    "import numpy as np\n",
    "\n",
    "import sys\n",
    "import ipywidgets as widgets\n",
    "sys.path.append('../src')\n",
    "from restart import NoteCompose\n",
    "from util import set_config, to_df, to_sheet, display_population, format_population\n",
    "\n",
    "config = set_config('../src')\n",
    "restart = NoteCompose(configdir='../src/', population='oes', state='California')\n",
    "population = restart.model.population\n",
    "resource = restart.model.resource\n",
    "demand = restart.model.demand"
   ]
  },
  {
   "cell_type": "code",
   "execution_count": 2,
   "metadata": {
    "scrolled": false
   },
   "outputs": [
    {
     "name": "stdout",
     "output_type": "stream",
     "text": [
      "DISPLAY demand.demand_per_unit_map_dn_um.df\n",
      "\n",
      "Resource (n)             N95 Surgical  N95 Non-surgical  ASTM 3 Mask  \\\n",
      "Demand for Resource (d)                                                \n",
      "WA0                              0.00              0.00         0.00   \n",
      "WA1                              0.00              0.00         0.00   \n",
      "WA2                              0.00              0.00         0.00   \n",
      "WA3                              0.00              0.00         0.00   \n",
      "WA4                              0.00              0.05         1.00   \n",
      "WA5                              0.00              1.00         2.00   \n",
      "WA6                              1.18              0.00         4.03   \n",
      "\n",
      "Resource (n)             ASTM 1-2 Mask  Non ASTM Mask  Face Shield  Gowns  \\\n",
      "Demand for Resource (d)                                                     \n",
      "WA0                                0.0           0.00         0.00   0.00   \n",
      "WA1                                0.0           1.00         0.02   0.01   \n",
      "WA2                                0.0           2.00         0.04   0.02   \n",
      "WA3                                1.0           2.00         0.08   0.03   \n",
      "WA4                                0.0           3.00         0.12   0.05   \n",
      "WA5                                1.0           0.00         0.18   1.50   \n",
      "WA6                                1.0           0.05         0.27   3.65   \n",
      "\n",
      "Resource (n)             Gloves  Shoe Covers  \n",
      "Demand for Resource (d)                       \n",
      "WA0                         0.0         0.00  \n",
      "WA1                         0.5         0.00  \n",
      "WA2                         1.0         0.00  \n",
      "WA3                         2.0         0.05  \n",
      "WA4                         4.0         0.20  \n",
      "WA5                         8.0         0.40  \n",
      "WA6                        12.0         0.60  \n",
      "\n",
      "\n",
      "Index(['WA0', 'WA1', 'WA2', 'WA3', 'WA4', 'WA5', 'WA6'], dtype='object', name='Demand for Resource (d)')\n",
      "Index(['N95 Surgical', 'N95 Non-surgical', 'ASTM 3 Mask', 'ASTM 1-2 Mask',\n",
      "       'Non ASTM Mask', 'Face Shield', 'Gowns', 'Gloves', 'Shoe Covers'],\n",
      "      dtype='object', name='Resource (n)')\n",
      "[[0.00e+00 0.00e+00 0.00e+00 0.00e+00 0.00e+00 0.00e+00 0.00e+00 0.00e+00\n",
      "  0.00e+00]\n",
      " [0.00e+00 0.00e+00 0.00e+00 0.00e+00 1.00e+00 2.00e-02 1.00e-02 5.00e-01\n",
      "  0.00e+00]\n",
      " [0.00e+00 0.00e+00 0.00e+00 0.00e+00 2.00e+00 4.00e-02 2.00e-02 1.00e+00\n",
      "  0.00e+00]\n",
      " [0.00e+00 0.00e+00 0.00e+00 1.00e+00 2.00e+00 8.00e-02 3.00e-02 2.00e+00\n",
      "  5.00e-02]\n",
      " [0.00e+00 5.00e-02 1.00e+00 0.00e+00 3.00e+00 1.20e-01 5.00e-02 4.00e+00\n",
      "  2.00e-01]\n",
      " [0.00e+00 1.00e+00 2.00e+00 1.00e+00 0.00e+00 1.80e-01 1.50e+00 8.00e+00\n",
      "  4.00e-01]\n",
      " [1.18e+00 0.00e+00 4.03e+00 1.00e+00 5.00e-02 2.70e-01 3.65e+00 1.20e+01\n",
      "  6.00e-01]]\n",
      "\n",
      "\n",
      "   Demand for Resource (d)  Resource (n)  Count\n",
      "0                      WA0  N95 Surgical   0.00\n",
      "1                      WA1  N95 Surgical   0.00\n",
      "2                      WA2  N95 Surgical   0.00\n",
      "3                      WA3  N95 Surgical   0.00\n",
      "4                      WA4  N95 Surgical   0.00\n",
      "..                     ...           ...    ...\n",
      "58                     WA2   Shoe Covers   0.00\n",
      "59                     WA3   Shoe Covers   0.05\n",
      "60                     WA4   Shoe Covers   0.20\n",
      "61                     WA5   Shoe Covers   0.40\n",
      "62                     WA6   Shoe Covers   0.60\n",
      "\n",
      "[63 rows x 3 columns]\n"
     ]
    }
   ],
   "source": [
    "print(\"DISPLAY demand.demand_per_unit_map_dn_um.df\\n\")\n",
    "print(demand.demand_per_unit_map_dn_um.df)\n",
    "print(\"\\n\")\n",
    "print(demand.demand_per_unit_map_dn_um.df.index)\n",
    "print(demand.demand_per_unit_map_dn_um.df.columns)\n",
    "print(demand.demand_per_unit_map_dn_um.df.values)\n",
    "print(\"\\n\")\n",
    "df_reset = demand.demand_per_unit_map_dn_um.df.reset_index()\n",
    "df_melt = df_reset.melt(id_vars=demand.demand_per_unit_map_dn_um.df.index.name, value_name=\"Count\")\n",
    "print(df_melt)"
   ]
  },
  {
   "cell_type": "code",
   "execution_count": 3,
   "metadata": {
    "scrolled": false
   },
   "outputs": [
    {
     "data": {
      "application/vnd.jupyter.widget-view+json": {
       "model_id": "f4e0300cc4034f43b9eaa9089ee6a198",
       "version_major": 2,
       "version_minor": 0
      },
      "text/plain": [
       "VBox(children=(Figure(axes=[Axis(label='Resource', scale=OrdinalScale()), Axis(label='Count', orientation='ver…"
      ]
     },
     "metadata": {},
     "output_type": "display_data"
    }
   ],
   "source": [
    "df = demand.demand_per_unit_map_dn_um.df\n",
    "def generate_group_bar(df, title=\"Chart\"):\n",
    "    fig=plt.figure(title=title)\n",
    "    \n",
    "    bar_chart = plt.bar(x=df.columns.values.tolist(),\n",
    "                        y=df,\n",
    "                        labels=df.index.values.tolist(),\n",
    "                        display_legend=True)\n",
    "    bar_chart.type = \"grouped\"\n",
    "    bar_chart.colors = [\"red\", \"blue\", \"yellow\", \"purple\", \"green\", \"orange\",\"pink\", \"cyan\",\n",
    "                        \"magenta\", \"maroon\", \"chartreuse\", \"navy\", \"salmon\", \"turquoise\"][:df.index.values.size]\n",
    "                        # trimmed to length of indexes (up to fourteen distinct colors)\n",
    "    plt.xlabel(df.columns.name.rsplit(\" \", 1)[0])\n",
    "    # rsplit removes last \"word\"\n",
    "    plt.ylabel(\"Count\")\n",
    "    plt.ylim(0, np.amax(df.values))\n",
    "    return fig\n",
    "\n",
    "generate_group_bar(df, \"Demand\")\n",
    "plt.show()"
   ]
  },
  {
   "cell_type": "code",
   "execution_count": 4,
   "metadata": {},
   "outputs": [],
   "source": [
    "df_reset = demand.demand_per_unit_map_dn_um.df.reset_index()\n",
    "df_melt = df_reset.melt(id_vars=df.index.name, value_name=\"Count\")"
   ]
  },
  {
   "cell_type": "code",
   "execution_count": 5,
   "metadata": {},
   "outputs": [
    {
     "data": {
      "application/vnd.jupyter.widget-view+json": {
       "model_id": "f7b5d504c59e4ba6b5551125f57bab15",
       "version_major": 2,
       "version_minor": 0
      },
      "text/plain": [
       "Figure(axes=[Axis(label='Resource', scale=OrdinalScale()), Axis(label='Count', orientation='vertical', scale=L…"
      ]
     },
     "metadata": {},
     "output_type": "display_data"
    }
   ],
   "source": [
    "generate_group_bar(demand.demand_per_unit_map_dn_um.df, \"Demand\")"
   ]
  }
 ],
 "metadata": {
  "kernelspec": {
   "display_name": "Python 3",
   "language": "python",
   "name": "python3"
  },
  "language_info": {
   "codemirror_mode": {
    "name": "ipython",
    "version": 3
   },
   "file_extension": ".py",
   "mimetype": "text/x-python",
   "name": "python",
   "nbconvert_exporter": "python",
   "pygments_lexer": "ipython3",
   "version": "3.8.5"
  }
 },
 "nbformat": 4,
 "nbformat_minor": 4
}
