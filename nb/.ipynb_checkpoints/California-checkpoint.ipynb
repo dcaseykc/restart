{
 "cells": [
  {
   "cell_type": "code",
   "execution_count": 54,
   "metadata": {},
   "outputs": [],
   "source": [
    "import sys\n",
    "import pandas as pd\n",
    "sys.path.append('../src')\n",
    "from restart import NoteCompose\n",
    "from data import Data\n",
    "from util import set_config, to_df, to_sheet, display_population, format_population, format_cells"
   ]
  },
  {
   "cell_type": "code",
   "execution_count": 55,
   "metadata": {},
   "outputs": [],
   "source": [
    "def boot_model(state, county):\n",
    "    config = set_config('../src')\n",
    "    restart = NoteCompose(configdir='../src', population='oes', state=state, county=county)\n",
    "    model = restart.model\n",
    "    model.inventory.set_average_orders_per_period(model.demand.demand_by_popsum1_total_rp1n_tc)\n",
    "    return model\n",
    "\n",
    "def display_stock(df):\n",
    "    df = df.round()\n",
    "    index_name = \"Population\"\n",
    "    headers = ['Essential', 'Non-Essential']\n",
    "    df.insert(loc=0, column=index_name, value=headers)\n",
    "    sheet = to_sheet(df)\n",
    "    format_cells(sheet)\n",
    "    sheet.row_headers = False\n",
    "    display(sheet)\n",
    "    \n",
    "def set_stock(backstop):\n",
    "    backstop = [backstop]\n",
    "    model.inventory.order(model.inventory.inv_by_popsum1_total_rp1n_tc)\n",
    "    model.inventory.set_min_in_periods(backstop)\n",
    "    display_stock(model.inventory.inv_by_popsum1_total_rp1n_tc.df)"
   ]
  },
  {
   "cell_type": "code",
   "execution_count": 61,
   "metadata": {},
   "outputs": [],
   "source": [
    "import ipywidgets as widgets\n",
    "\n",
    "state = \"California\"\n",
    "county = None\n",
    "model = boot_model(state, county)\n",
    "slider = widgets.IntSlider(min=1, max=120, value=30, description=\"Days\", continuous_update=False)\n",
    "out = widgets.interactive_output(set_stock, {'backstop': slider})\n",
    "\n",
    "# population details \n",
    "pop_attr_sheet = format_population(to_sheet(model.population.population_pP_tr.df))\n",
    "\n",
    "# burn rates\n",
    "burn_rate_sheet = to_sheet(model.demand.demand_per_unit_map_dn_um.df)"
   ]
  },
  {
   "cell_type": "code",
   "execution_count": 67,
   "metadata": {},
   "outputs": [
    {
     "data": {
      "application/vnd.jupyter.widget-view+json": {
       "model_id": "67a9b2c8f6bc4aa8b108f0b1dbd84f7d",
       "version_major": 2,
       "version_minor": 0
      },
      "text/plain": [
       "VBox(children=(FloatSlider(value=0.95, continuous_update=False, description='CR', max=0.99, min=0.7, step=0.01…"
      ]
     },
     "metadata": {},
     "output_type": "display_data"
    }
   ],
   "source": [
    "from scipy.stats import norm\n",
    "import math\n",
    "\n",
    "def triangular(a,b,c):\n",
    "    return math.sqrt( ((a*a + b*b + c*c) - a*b - a*c - b*c) ) / 18 \n",
    "                     \n",
    "def calc_eoq(df, cr):\n",
    "    Z=norm.ppf(cr)\n",
    "    df['Adjusted Population'] = df['Population Mean'] + (Z * df['Population SD'])\n",
    "    return df\n",
    "\n",
    "def display_eoq(cr, days):\n",
    "    # calculate the hospitalization EOQ\n",
    "    epi = calc_eoq(epi_df, cr)\n",
    "    eoq_df = 0.243 * epi\n",
    "    # adjusting the non-COVID patients\n",
    "    eoq_sheet = to_sheet(eoq_df)\n",
    "    display_population(eoq_sheet, round=True)\n",
    "    # calculate stockpile projections\n",
    "    preds_df = Data(\n",
    "        \"demand_by_pop_total_pn_tc\", jhu_config)\n",
    "    preds_df.array = (jhu_model.demand.demand_by_pop_per_person_pn_uc.array.T * epi_df[\"Adjusted Population\"].to_numpy().T).T\n",
    "    preds_df.array *= days\n",
    "    preds_sheet = to_sheet(preds_df.df)\n",
    "    display_population(preds_sheet, round=True)\n",
    "                     \n",
    "jhu_config = set_config('../config/jhu')\n",
    "jhu_restart = NoteCompose(configdir='../config/jhu', population='dict')\n",
    "jhu_model = jhu_restart.model\n",
    "\n",
    "epi_df = pd.read_csv('epi_ranges.csv',index_col='Model')\n",
    "epi_df.drop(['CA Projected Non-COVID Patients'], axis=0, inplace=True)\n",
    "\n",
    "# adjusting so it's in terms of population, since we're not doing vents here\n",
    "epi_df = epi_df * 4.12\n",
    "epi_df.columns = ['Population Low', 'Population Mid', 'Population High']\n",
    "stdev = epi_df.apply(\n",
    "    lambda row: triangular(\n",
    "        row['Population Mid'],\n",
    "        row['Population Low'], \n",
    "        row['Population High']\n",
    "    ), axis=1\n",
    ")\n",
    "\n",
    "epi_df['Population Mean'] = epi_df.mean(axis=1)\n",
    "\n",
    "epi_df['Population SD'] = stdev\n",
    "\n",
    "jhu_burn = format_population(to_sheet(jhu_model.demand.demand_per_unit_map_dn_um.df))\n",
    "\n",
    "cr_slider = widgets.FloatSlider(min=0.70,max=0.99,step=0.01,value=0.95, continuous_update=False, description=\"CR\")\n",
    "day_slider = widgets.IntSlider(min=1, max=120, value=30, continuous_update=False, description=\"Days\")\n",
    "jhu_out = widgets.interactive_output(display_eoq, {'cr': cr_slider, 'days': day_slider})\n",
    "widgets.VBox([cr_slider, day_slider, jhu_out])"
   ]
  },
  {
   "cell_type": "code",
   "execution_count": 68,
   "metadata": {},
   "outputs": [
    {
     "data": {
      "application/vnd.jupyter.widget-view+json": {
       "model_id": "5ea17d2d02594b22940b7a537977e44f",
       "version_major": 2,
       "version_minor": 0
      },
      "text/plain": [
       "Tabs(children=[Tab(children=['Home']), Tab(children=['Population Details']), Tab(children=['Burn Rates']), Tab…"
      ]
     },
     "metadata": {},
     "output_type": "display_data"
    }
   ],
   "source": [
    "import ipyvuetify as v\n",
    "v.theme.themes.light.primary = 'colors.teal'\n",
    "\n",
    "v.Tabs(_metadata={'mount_id': 'content-main'}, children=[\n",
    "    v.Tab(children=['Home']),\n",
    "    v.Tab(children=['Population Details']),\n",
    "    v.Tab(children=['Burn Rates']),\n",
    "    v.TabItem(children=[\n",
    "        v.Layout(column=True, wrap=True, align_left=True, children=[\n",
    "            v.Card(xs12=True, lg6=True, xl4=True, children=[\n",
    "                v.CardTitle(primary_title=True, class_='headline', children=[f\"Stockpile Projections: {state}\"]),\n",
    "                v.CardText(children=[\n",
    "                    \"Projected stockpile requirements given a population and time period. Adjust the slider to \\\n",
    "                     adjust the days of stockpile.\"\n",
    "                ]),\n",
    "                v.CardText(children=[\n",
    "                    \"OES model with WA burn rate assumptions:\"\n",
    "                ]),\n",
    "                slider, out,\n",
    "                v.CardText(children=[\n",
    "                    \"Ensemble epidemiological predictions with JHU burn rate assumptions:\"\n",
    "                ]),\n",
    "                cr_slider, day_slider, jhu_out\n",
    "            ]),\n",
    "        ])\n",
    "    ]),\n",
    "    v.TabItem(children=[\n",
    "        v.Layout(column=True, wrap=True, align_center=True, children=[\n",
    "            v.Card(xs12=True, lg6=True, xl4=True, children=[\n",
    "                v.CardTitle(primary_title=True, class_='headline', children=[\"Population Details\"]),\n",
    "                v.CardSubtitle(children=[\"Attributes of the selected populations\"]),\n",
    "                pop_attr_sheet\n",
    "            ])\n",
    "        ])\n",
    "    ]),\n",
    "    v.TabItem(children=[\n",
    "        v.Layout(column=True, wrap=True, align_center=True, children=[\n",
    "            v.Card(xs12=True, lg6=True, x14=True, children=[\n",
    "                v.CardTitle(primary_title=True, class_='headline', children=[\"Burn Rates\"]),\n",
    "                v.CardSubtitle(children=[\"Resource consumption per day\"]),\n",
    "                v.CardSubtitle(children=[\"WA Burn Rates\"]),\n",
    "                burn_rate_sheet,\n",
    "                v.CardSubtitle(children=[\"JHU Burn Rates\"]),\n",
    "                jhu_burn\n",
    "            ])\n",
    "        ])\n",
    "    ])\n",
    "])"
   ]
  },
  {
   "cell_type": "code",
   "execution_count": null,
   "metadata": {},
   "outputs": [],
   "source": []
  }
 ],
 "metadata": {
  "kernelspec": {
   "display_name": "Python 3",
   "language": "python",
   "name": "python3"
  },
  "language_info": {
   "codemirror_mode": {
    "name": "ipython",
    "version": 3
   },
   "file_extension": ".py",
   "mimetype": "text/x-python",
   "name": "python",
   "nbconvert_exporter": "python",
   "pygments_lexer": "ipython3",
   "version": "3.8.5"
  }
 },
 "nbformat": 4,
 "nbformat_minor": 4
}
