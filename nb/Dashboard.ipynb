{
 "cells": [
  {
   "cell_type": "markdown",
   "metadata": {},
   "source": [
    "# COVID-19 Decision Stockpile Analysis\n",
    "To use the surge model, change the slider for stockpile days and the table below will change to indicate minimum inventory required.\n",
    "\n",
    "Use caution when interpreting these numbers"
   ]
  },
  {
   "cell_type": "code",
   "execution_count": null,
   "metadata": {},
   "outputs": [],
   "source": [
    "import pandas as pd\n",
    "import ipywidgets as widgets\n",
    "import sys\n",
    "\n",
    "sys.path.append('../src')\n",
    "from restart import NoteCompose\n",
    "from output import Output\n",
    "from ipywidgets import Layout\n",
    "\n",
    "from util import set_config\n",
    "\n",
    "import ipysheet\n",
    "import numpy as np\n",
    "\n",
    "import altair as alt\n",
    "\n",
    "def display_sheet(sheet):\n",
    "    df = to_df(sheet)\n",
    "    index_name = df.index.name\n",
    "    headers = list(df.index)\n",
    "    df.insert(loc=0, column=index_name, value=headers)\n",
    "    sheet = ipysheet.pandas_loader.from_dataframe(df)\n",
    "    sheet.layout = Layout(max_height='300px', overflow_y='scroll')\n",
    "    sheet.row_headers = False\n",
    "    return sheet\n",
    "\n",
    "def to_sheet(df):\n",
    "    return ipysheet.pandas_loader.from_dataframe(df)\n",
    "\n",
    "def to_df(sheet):\n",
    "    return ipysheet.pandas_loader.to_dataframe(sheet)\n",
    "\n",
    "def read_only(sheet):\n",
    "    for cell in sheet.cells:\n",
    "        setattr(cell, 'read_only', True)\n",
    "\n",
    "def to_config(sheet):\n",
    "    new_config['Data']['Demand m']['Level to Resource mn'] = np.array(to_df(sheet)).tolist()\n",
    "    return new_config\n",
    "    \n",
    "def on_change(change): \n",
    "    new_sheet = sheet\n",
    "    \n",
    "def visualize_data(df, x=None, y=None, spacing=20):\n",
    "    \"\"\"Visualize data.\n",
    "\n",
    "    Charting for the dashboard\n",
    "    \"\"\"\n",
    "    df.index.name = \"Label\" if None else df.index.name\n",
    "    # first reset the index to get it to be a column\n",
    "    # using melt to get column form\n",
    "    df_reset = df.reset_index()\n",
    "    # https://pandas.pydata.org/pandas-docs/stable/reference/api/pandas.melt.html\n",
    "    # if value_vars are not specified then unpivote everything\n",
    "    # Note Units is used already, so need a different name\n",
    "    df_melt = df_reset.melt(id_vars=df.index.name, value_name=\"Count\")\n",
    "\n",
    "    # for single values\n",
    "    # http://scrapingauthority.com/pandas-dataframe-filtering/\n",
    "    # https://realnitinworks.netlify.app/check-object-iterability.html?utm_campaign=News&utm_medium=Community&utm_source=DataCamp.com\n",
    "\n",
    "    # TODO: implement filtering\n",
    "    # df_filter_x = df_melt[df_melt[df.index.name].isin(x)]\n",
    "    # st.dataframe(df_filter_x)\n",
    "    # try:\n",
    "    #  iter(y_axis)\n",
    "    # df_filter_xy = df_filter_x[df_filter_x[df.columns.name].isin(y_axis)]\n",
    "    # except TypeError:\n",
    "    # df_filter_xy = df_filter_x[df_filter_x[df.columns.name] == y_axis]\n",
    "    # df_filter_xy = df_filter_x[df_filter_x[df.columns.name].isin(y)]\n",
    "    # st.dataframe(df_filter_xy)\n",
    "\n",
    "    # Since this was published, there are more parameters for interactive\n",
    "    # https://towardsdatascience.com/quickly-build-and-deploy-an-application-with-streamlit-988ca08c7e83\n",
    "    # https://towardsdatascience.com/interactive-election-visualisations-with-altair-85c4c3a306f9\n",
    "    # https://altair-viz.github.io/user_guide/encoding.html\n",
    "    mapping = [\n",
    "        [\"x\", alt.X],\n",
    "        [\"column\", alt.Column],\n",
    "        [\"color\", alt.Color],\n",
    "        [\"size\", alt.Size],\n",
    "    ]\n",
    "    # make the Y axis the last column which in narrow form is always\n",
    "    # the data\n",
    "    y = df_melt.columns[-1]\n",
    "    y_alt = y + \":Q\"\n",
    "    encoding = {\"y\": alt.Y(y_alt)}\n",
    "\n",
    "    for col in range(0, df_melt.shape[1] - 1):\n",
    "        var = df_melt.columns[col]\n",
    "        # tricky, but add to the encoding dictionary\n",
    "        # using the first item which is a string\n",
    "        # Then the second is the function in Altair\n",
    "        # to be called with which creates the right object\n",
    "        title = var.rsplit(\" \", 1)[0]\n",
    "        # rsplit cuts off last word\n",
    "        # don't render title for x axis\n",
    "        if col == 0:\n",
    "            encoding[mapping[col][0]] = mapping[col][1](\n",
    "                var + \":N\", title=None\n",
    "            )\n",
    "            # title=None makes Pop Level l invisible\n",
    "            encoding[mapping[col + 2][0]] = mapping[col][1](var + \":N\", title=title)\n",
    "        # increase spacing & cut off var name for columns\n",
    "        elif col == 1:\n",
    "            encoding[mapping[col][0]] = mapping[col][1](\n",
    "                var + \":N\", spacing=spacing, title=title\n",
    "            )\n",
    "            # encoding[mapping[col + 1][0]] = mapping[col][1](var + \":N\", title=title)\n",
    "        # default configuration for color and size\n",
    "        else:\n",
    "            encoding[mapping[col + 1][0]] = mapping[col][1](var + \":N\")\n",
    "    return alt.Chart(df_melt, encoding=encoding).mark_bar()"
   ]
  },
  {
   "cell_type": "markdown",
   "metadata": {},
   "source": [
    "## Bootstrap the Model\n",
    "Select the parameters here to initialize the model (not implemented)"
   ]
  },
  {
   "cell_type": "code",
   "execution_count": null,
   "metadata": {},
   "outputs": [],
   "source": [
    "config = set_config('../src')\n",
    "restart = NoteCompose(configdir='../src', population='oes', state='California', demand='washington')\n",
    "population = restart.model.population\n",
    "resource = restart.model.resource\n",
    "demand = restart.model.demand"
   ]
  },
  {
   "cell_type": "markdown",
   "metadata": {},
   "source": [
    "## Inventory Calculations"
   ]
  },
  {
   "cell_type": "code",
   "execution_count": null,
   "metadata": {},
   "outputs": [],
   "source": [
    "def set_stock(days):\n",
    "    resource.demand(resource.inventory_ln_df)\n",
    "    resource.set_inv_min(demand.level_total_demand_ln_df, days)\n",
    "    stockpile = to_sheet(resource.inventory_ln_df)\n",
    "    sheet = display_sheet(stockpile)\n",
    "    display(sheet)\n",
    "    display(visualize_data(resource.inventory_ln_df, spacing=30))\n",
    "widgets.interact(set_stock, days=30, continuous_update=False)"
   ]
  },
  {
   "cell_type": "markdown",
   "metadata": {},
   "source": [
    "## Editable Burn Rates\n",
    "These are burn rates per day for each resource, based on Washington protection level."
   ]
  },
  {
   "cell_type": "code",
   "execution_count": null,
   "metadata": {},
   "outputs": [],
   "source": [
    "def update_burn_rate_chart(a):\n",
    "    edited_df = to_df(burn)\n",
    "    edited_df.columns = burn_df.columns\n",
    "    edited_df.index = burn_df.index\n",
    "    chart_out.clear_output(wait=True)\n",
    "    with chart_out:\n",
    "        display(visualize_data(edited_df, spacing = 15))\n",
    "burn_df = demand.demand_per_unit_map_dn_um.df\n",
    "burn = to_sheet(burn_df)\n",
    "burn_widget = widgets.VBox([burn])\n",
    "button_widget = widgets.Button(description=\"Update Chart\")\n",
    "button_widget.on_click(update_burn_rate_chart)\n",
    "chart_out = widgets.Output()\n",
    "\n",
    "display(burn_widget)\n",
    "display(button_widget)\n",
    "display(chart_out)\n",
    "\n",
    "update_burn_rate_chart(None)"
   ]
  },
  {
   "cell_type": "markdown",
   "metadata": {},
   "source": [
    "## Population Details\n",
    "Right now the only population attribute is size, but there will be more."
   ]
  },
  {
   "cell_type": "code",
   "execution_count": null,
   "metadata": {},
   "outputs": [],
   "source": [
    "pop_df = population.detail_pd_df\n",
    "pop = to_sheet(pop_df)\n",
    "read_only(pop)\n",
    "\n",
    "display_pop = display_sheet(pop)\n",
    "display(widgets.VBox([display_pop]))\n",
    "display(visualize_data(pop_df))"
   ]
  },
  {
   "cell_type": "markdown",
   "metadata": {},
   "source": [
    "## Population Levels\n",
    "Protection levels for the given population."
   ]
  },
  {
   "cell_type": "code",
   "execution_count": null,
   "metadata": {},
   "outputs": [],
   "source": [
    "level_df = population.level_pm_df\n",
    "\n",
    "levels = to_sheet(level_df)\n",
    "levels.stretch_headers = 'none'\n",
    "read_only(levels)\n",
    "\n",
    "display(widgets.VBox([display_sheet(levels)]))\n",
    "# display(visualize_data(level_df)) # too many rows"
   ]
  },
  {
   "cell_type": "markdown",
   "metadata": {},
   "source": [
    "# Population Demand per Resource\n",
    "The daily burn rates of all resources for each subpopulation"
   ]
  },
  {
   "cell_type": "code",
   "execution_count": null,
   "metadata": {},
   "outputs": [],
   "source": [
    "demand_pn_df = demand.demand_pn_df\n",
    "demand_sheet = to_sheet(demand_pn_df)\n",
    "read_only(demand_sheet)\n",
    "\n",
    "display(widgets.VBox([display_sheet(demand_sheet)]))\n",
    "# visualize_data(demand_pn_df) # too many rows"
   ]
  },
  {
   "cell_type": "markdown",
   "metadata": {},
   "source": [
    "## Experimenting with Vuetify"
   ]
  },
  {
   "cell_type": "code",
   "execution_count": null,
   "metadata": {},
   "outputs": [],
   "source": [
    "# import ipyvuetify as v\n",
    "\n",
    "# vslider = v.Slider(value=30, thumb_label=True, min=0, max=120)\n",
    "# vslider\n",
    "\n",
    "# v.Container(children = [\n",
    "#     display_sheet(demand_sheet)\n",
    "# ])"
   ]
  },
  {
   "cell_type": "code",
   "execution_count": null,
   "metadata": {},
   "outputs": [],
   "source": [
    "import ipywidgets as widgets\n",
    "sheet = ipysheet.sheet(rows=3, columns=2, column_headers=False, row_headers=False)\n",
    "cell_a = ipysheet.cell(0, 1, 1, label_left='a')\n",
    "cell_b = ipysheet.cell(1, 1, 2, label_left='b')\n",
    "cell_sum = ipysheet.cell(2, 1, 3, label_left='sum', read_only=True)\n",
    "\n",
    "# create a slider linked to cell a\n",
    "slider = widgets.FloatSlider(min=-10, max=10, description='a')\n",
    "widgets.jslink((cell_a, 'value'), (slider, 'value'))\n",
    "\n",
    "# changes in a or b should trigger this function\n",
    "def calculate(change):\n",
    "    cell_sum.value = cell_a.value + cell_b.value\n",
    "\n",
    "sheet.cells.observe(calculate, 'value')\n",
    "\n",
    "\n",
    "widgets.VBox([sheet, slider])"
   ]
  }
 ],
 "metadata": {
  "kernelspec": {
   "display_name": "",
   "language": "python",
   "name": ""
  },
  "language_info": {
   "codemirror_mode": {
    "name": "ipython",
    "version": 3
   },
   "file_extension": ".py",
   "mimetype": "text/x-python",
   "name": "python",
   "nbconvert_exporter": "python",
   "pygments_lexer": "ipython3",
   "version": "3.8.5"
  }
 },
 "nbformat": 4,
 "nbformat_minor": 4
}
