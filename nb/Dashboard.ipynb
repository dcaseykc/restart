{
 "cells": [
  {
   "cell_type": "markdown",
   "metadata": {},
   "source": [
    "# COVID-19 Decision Stockpile Analysis\n",
    "To use the surge model, change the slider for stockpile days and the table below will change to indicate minimum inventory required.\n",
    "\n",
    "Use caution when interpreting these numbers"
   ]
  },
  {
   "cell_type": "code",
   "execution_count": 1,
   "metadata": {},
   "outputs": [],
   "source": [
    "import pandas as pd\n",
    "import ipywidgets as widgets\n",
    "import sys\n",
    "\n",
    "sys.path.append('../src')\n",
    "from restart import NoteCompose\n",
    "from output import Output\n",
    "from ipywidgets import Layout\n",
    "\n",
    "from util import set_config\n",
    "\n",
    "import ipysheet\n",
    "import numpy as np\n",
    "\n",
    "import altair as alt\n",
    "\n",
    "def display_sheet(sheet):\n",
    "    df = to_df(sheet)\n",
    "    index_name = df.index.name\n",
    "    headers = list(df.index)\n",
    "    df.insert(loc=0, column=index_name, value=headers)\n",
    "    sheet = ipysheet.pandas_loader.from_dataframe(df)\n",
    "    sheet.layout = Layout(max_height='300px', overflow_y='scroll')\n",
    "    sheet.row_headers = False\n",
    "    return sheet\n",
    "\n",
    "def to_sheet(df):\n",
    "    return ipysheet.pandas_loader.from_dataframe(df)\n",
    "\n",
    "def to_df(sheet):\n",
    "    return ipysheet.pandas_loader.to_dataframe(sheet)\n",
    "\n",
    "def read_only(sheet):\n",
    "    for cell in sheet.cells:\n",
    "        setattr(cell, 'read_only', True)\n",
    "\n",
    "def to_config(sheet):\n",
    "    new_config['Data']['Demand m']['Level to Resource mn'] = np.array(to_df(sheet)).tolist()\n",
    "    return new_config\n",
    "    \n",
    "def on_change(change): \n",
    "    new_sheet = sheet\n",
    "    \n",
    "def visualize_data(df, x=None, y=None, spacing=20):\n",
    "    \"\"\"Visualize data.\n",
    "\n",
    "    Charting for the dashboard\n",
    "    \"\"\"\n",
    "    df.index.name = \"Label\" if None else df.index.name\n",
    "    # first reset the index to get it to be a column\n",
    "    # using melt to get column form\n",
    "    df_reset = df.reset_index()\n",
    "    # https://pandas.pydata.org/pandas-docs/stable/reference/api/pandas.melt.html\n",
    "    # if value_vars are not specified then unpivote everything\n",
    "    # Note Units is used already, so need a different name\n",
    "    df_melt = df_reset.melt(id_vars=df.index.name, value_name=\"Count\")\n",
    "\n",
    "    # for single values\n",
    "    # http://scrapingauthority.com/pandas-dataframe-filtering/\n",
    "    # https://realnitinworks.netlify.app/check-object-iterability.html?utm_campaign=News&utm_medium=Community&utm_source=DataCamp.com\n",
    "\n",
    "    # TODO: implement filtering\n",
    "    # df_filter_x = df_melt[df_melt[df.index.name].isin(x)]\n",
    "    # st.dataframe(df_filter_x)\n",
    "    # try:\n",
    "    #  iter(y_axis)\n",
    "    # df_filter_xy = df_filter_x[df_filter_x[df.columns.name].isin(y_axis)]\n",
    "    # except TypeError:\n",
    "    # df_filter_xy = df_filter_x[df_filter_x[df.columns.name] == y_axis]\n",
    "    # df_filter_xy = df_filter_x[df_filter_x[df.columns.name].isin(y)]\n",
    "    # st.dataframe(df_filter_xy)\n",
    "\n",
    "    # Since this was published, there are more parameters for interactive\n",
    "    # https://towardsdatascience.com/quickly-build-and-deploy-an-application-with-streamlit-988ca08c7e83\n",
    "    # https://towardsdatascience.com/interactive-election-visualisations-with-altair-85c4c3a306f9\n",
    "    # https://altair-viz.github.io/user_guide/encoding.html\n",
    "    mapping = [\n",
    "        [\"x\", alt.X],\n",
    "        [\"column\", alt.Column],\n",
    "        [\"color\", alt.Color],\n",
    "        [\"size\", alt.Size],\n",
    "    ]\n",
    "    # make the Y axis the last column which in narrow form is always\n",
    "    # the data\n",
    "    y = df_melt.columns[-1]\n",
    "    y_alt = y + \":Q\"\n",
    "    encoding = {\"y\": alt.Y(y_alt)}\n",
    "\n",
    "    for col in range(0, df_melt.shape[1] - 1):\n",
    "        var = df_melt.columns[col]\n",
    "        # tricky, but add to the encoding dictionary\n",
    "        # using the first item which is a string\n",
    "        # Then the second is the function in Altair\n",
    "        # to be called with which creates the right object\n",
    "        title = var.rsplit(\" \", 1)[0]\n",
    "        # rsplit cuts off last word\n",
    "        # don't render title for x axis\n",
    "        if col == 0:\n",
    "            encoding[mapping[col][0]] = mapping[col][1](\n",
    "                var + \":N\", title=None\n",
    "            )\n",
    "            # title=None makes Pop Level l invisible\n",
    "            encoding[mapping[col + 2][0]] = mapping[col][1](var + \":N\", title=title)\n",
    "        # increase spacing & cut off var name for columns\n",
    "        elif col == 1:\n",
    "            encoding[mapping[col][0]] = mapping[col][1](\n",
    "                var + \":N\", spacing=spacing, title=title\n",
    "            )\n",
    "            # encoding[mapping[col + 1][0]] = mapping[col][1](var + \":N\", title=title)\n",
    "        # default configuration for color and size\n",
    "        else:\n",
    "            encoding[mapping[col + 1][0]] = mapping[col][1](var + \":N\")\n",
    "    return alt.Chart(df_melt, encoding=encoding).mark_bar()"
   ]
  },
  {
   "cell_type": "markdown",
   "metadata": {},
   "source": [
    "## Bootstrap the Model\n",
    "Select the parameters here to initialize the model (not implemented)"
   ]
  },
  {
   "cell_type": "code",
   "execution_count": 2,
   "metadata": {},
   "outputs": [],
   "source": [
    "config = set_config('../src')\n",
    "restart = NoteCompose(configdir='../src', population='oes', state='California', demand='washington')\n",
    "population = restart.model.population\n",
    "resource = restart.model.resource\n",
    "demand = restart.model.demand"
   ]
  },
  {
   "cell_type": "markdown",
   "metadata": {},
   "source": [
    "## Inventory Calculations"
   ]
  },
  {
   "cell_type": "code",
   "execution_count": 3,
   "metadata": {},
   "outputs": [
    {
     "data": {
      "application/vnd.jupyter.widget-view+json": {
       "model_id": "e241474219514cf98d235e2831bc46eb",
       "version_major": 2,
       "version_minor": 0
      },
      "text/plain": [
       "interactive(children=(IntSlider(value=30, description='days', max=90, min=-30), Output()), _dom_classes=('widg…"
      ]
     },
     "metadata": {},
     "output_type": "display_data"
    },
    {
     "data": {
      "text/plain": [
       "<function __main__.set_stock(days)>"
      ]
     },
     "execution_count": 3,
     "metadata": {},
     "output_type": "execute_result"
    }
   ],
   "source": [
    "def set_stock(days):\n",
    "    resource.demand(resource.inventory_ln_df)\n",
    "    resource.set_inv_min(demand.level_total_demand_ln_df, days)\n",
    "    stockpile = to_sheet(resource.inventory_ln_df)\n",
    "    sheet = display_sheet(stockpile)\n",
    "    display(sheet)\n",
    "    display(visualize_data(resource.inventory_ln_df, spacing=30))\n",
    "widgets.interact(set_stock, days=30, continuous_update=False)"
   ]
  },
  {
   "cell_type": "markdown",
   "metadata": {},
   "source": [
    "## Editable Burn Rates\n",
    "These are burn rates per day for each resource, based on Washington protection level."
   ]
  },
  {
   "cell_type": "code",
   "execution_count": 7,
   "metadata": {},
   "outputs": [
    {
     "data": {
      "application/vnd.jupyter.widget-view+json": {
       "model_id": "bbdf27e58bd843098a072fc06c1f6f01",
       "version_major": 2,
       "version_minor": 0
      },
      "text/plain": [
       "VBox(children=(Sheet(cells=(Cell(choice=[], column_end=0, column_start=0, row_end=6, row_start=0, squeeze_row=…"
      ]
     },
     "metadata": {},
     "output_type": "display_data"
    },
    {
     "data": {
      "application/vnd.jupyter.widget-view+json": {
       "model_id": "f5bdf67250164a138bc6d717c9af0675",
       "version_major": 2,
       "version_minor": 0
      },
      "text/plain": [
       "Button(description='Update Chart', style=ButtonStyle())"
      ]
     },
     "metadata": {},
     "output_type": "display_data"
    },
    {
     "data": {
      "application/vnd.jupyter.widget-view+json": {
       "model_id": "0fa4510c02b746508c88640f47c46891",
       "version_major": 2,
       "version_minor": 0
      },
      "text/plain": [
       "Output()"
      ]
     },
     "metadata": {},
     "output_type": "display_data"
    }
   ],
   "source": [
    "def update_burn_rate_chart(a):\n",
    "    edited_df = to_df(burn)\n",
    "    edited_df.columns = burn_df.columns\n",
    "    edited_df.index = burn_df.index\n",
    "    chart_out.clear_output(wait=True)\n",
    "    with chart_out:\n",
    "        display(visualize_data(edited_df, spacing = 15))\n",
    "burn_df = demand.demand_per_unit_map_dn_um.df\n",
    "burn = to_sheet(burn_df)\n",
    "burn_widget = widgets.VBox([burn])\n",
    "button_widget = widgets.Button(description=\"Update Chart\")\n",
    "button_widget.on_click(update_burn_rate_chart)\n",
    "chart_out = widgets.Output()\n",
    "\n",
    "display(burn_widget)\n",
    "display(button_widget)\n",
    "display(chart_out)\n",
    "\n",
    "update_burn_rate_chart(None)"
   ]
  },
  {
   "cell_type": "markdown",
   "metadata": {},
   "source": [
    "## Population Details\n",
    "Right now the only population attribute is size, but there will be more."
   ]
  },
  {
   "cell_type": "code",
   "execution_count": 5,
   "metadata": {},
   "outputs": [
    {
     "data": {
      "application/vnd.jupyter.widget-view+json": {
       "model_id": "c6529374b0bc40f9aa0037d4931f22f3",
       "version_major": 2,
       "version_minor": 0
      },
      "text/plain": [
       "VBox(children=(Sheet(cells=(Cell(choice=[], column_end=0, column_start=0, numeric_format=None, row_end=774, ro…"
      ]
     },
     "metadata": {},
     "output_type": "display_data"
    },
    {
     "data": {
      "text/html": [
       "\n",
       "<div id=\"altair-viz-a0f6550534074d6e8562b866a6fc2025\"></div>\n",
       "<script type=\"text/javascript\">\n",
       "  (function(spec, embedOpt){\n",
       "    let outputDiv = document.currentScript.previousElementSibling;\n",
       "    if (outputDiv.id !== \"altair-viz-a0f6550534074d6e8562b866a6fc2025\") {\n",
       "      outputDiv = document.getElementById(\"altair-viz-a0f6550534074d6e8562b866a6fc2025\");\n",
       "    }\n",
       "    const paths = {\n",
       "      \"vega\": \"https://cdn.jsdelivr.net/npm//vega@5?noext\",\n",
       "      \"vega-lib\": \"https://cdn.jsdelivr.net/npm//vega-lib?noext\",\n",
       "      \"vega-lite\": \"https://cdn.jsdelivr.net/npm//vega-lite@4.8.1?noext\",\n",
       "      \"vega-embed\": \"https://cdn.jsdelivr.net/npm//vega-embed@6?noext\",\n",
       "    };\n",
       "\n",
       "    function loadScript(lib) {\n",
       "      return new Promise(function(resolve, reject) {\n",
       "        var s = document.createElement('script');\n",
       "        s.src = paths[lib];\n",
       "        s.async = true;\n",
       "        s.onload = () => resolve(paths[lib]);\n",
       "        s.onerror = () => reject(`Error loading script: ${paths[lib]}`);\n",
       "        document.getElementsByTagName(\"head\")[0].appendChild(s);\n",
       "      });\n",
       "    }\n",
       "\n",
       "    function showError(err) {\n",
       "      outputDiv.innerHTML = `<div class=\"error\" style=\"color:red;\">${err}</div>`;\n",
       "      throw err;\n",
       "    }\n",
       "\n",
       "    function displayChart(vegaEmbed) {\n",
       "      vegaEmbed(outputDiv, spec, embedOpt)\n",
       "        .catch(err => showError(`Javascript Error: ${err.message}<br>This usually means there's a typo in your chart specification. See the javascript console for the full traceback.`));\n",
       "    }\n",
       "\n",
       "    if(typeof define === \"function\" && define.amd) {\n",
       "      requirejs.config({paths});\n",
       "      require([\"vega-embed\"], displayChart, err => showError(`Error loading script: ${err.message}`));\n",
       "    } else if (typeof vegaEmbed === \"function\") {\n",
       "      displayChart(vegaEmbed);\n",
       "    } else {\n",
       "      loadScript(\"vega\")\n",
       "        .then(() => loadScript(\"vega-lite\"))\n",
       "        .then(() => loadScript(\"vega-embed\"))\n",
       "        .catch(showError)\n",
       "        .then(() => displayChart(vegaEmbed));\n",
       "    }\n",
       "  })({\"config\": {\"view\": {\"continuousWidth\": 400, \"continuousHeight\": 300}}, \"data\": {\"name\": \"data-894af7967786f61193271c6b95bf791f\"}, \"mark\": \"bar\", \"encoding\": {\"y\": {\"type\": \"quantitative\", \"field\": \"Count\"}, \"x\": {\"type\": \"nominal\", \"field\": \"Population p\", \"title\": null}, \"color\": {\"type\": \"nominal\", \"field\": \"Population p\", \"title\": \"Population\"}, \"column\": {\"type\": \"nominal\", \"field\": \"Pop Detail d\", \"spacing\": 20, \"title\": \"Pop Detail\"}}, \"$schema\": \"https://vega.github.io/schema/vega-lite/v4.8.1.json\", \"datasets\": {\"data-894af7967786f61193271c6b95bf791f\": [{\"Population p\": \"Chief Executives\", \"Pop Detail d\": \"Size\", \"Count\": 31730}, {\"Population p\": \"General and Operations Managers\", \"Pop Detail d\": \"Size\", \"Count\": 259550}, {\"Population p\": \"Legislators\", \"Pop Detail d\": \"Size\", \"Count\": 3190}, {\"Population p\": \"Advertising and Promotions Managers\", \"Pop Detail d\": \"Size\", \"Count\": 2670}, {\"Population p\": \"Marketing Managers\", \"Pop Detail d\": \"Size\", \"Count\": 40900}, {\"Population p\": \"Sales Managers\", \"Pop Detail d\": \"Size\", \"Count\": 80610}, {\"Population p\": \"Public Relations and Fundraising Managers\", \"Pop Detail d\": \"Size\", \"Count\": 9210}, {\"Population p\": \"Administrative Services and Facilities Managers\", \"Pop Detail d\": \"Size\", \"Count\": 41650}, {\"Population p\": \"Computer and Information Systems Managers\", \"Pop Detail d\": \"Size\", \"Count\": 75700}, {\"Population p\": \"Financial Managers\", \"Pop Detail d\": \"Size\", \"Count\": 92060}, {\"Population p\": \"Industrial Production Managers\", \"Pop Detail d\": \"Size\", \"Count\": 20770}, {\"Population p\": \"Purchasing Managers\", \"Pop Detail d\": \"Size\", \"Count\": 7830}, {\"Population p\": \"Transportation, Storage, and Distribution Managers\", \"Pop Detail d\": \"Size\", \"Count\": 19430}, {\"Population p\": \"Human Resources Managers\", \"Pop Detail d\": \"Size\", \"Count\": 21600}, {\"Population p\": \"Training and Development Managers\", \"Pop Detail d\": \"Size\", \"Count\": 5180}, {\"Population p\": \"Farmers, Ranchers, and Other Agricultural Managers\", \"Pop Detail d\": \"Size\", \"Count\": 1490}, {\"Population p\": \"Construction Managers\", \"Pop Detail d\": \"Size\", \"Count\": 32830}, {\"Population p\": \"Education and Childcare Administrators, Preschool and Daycare\", \"Pop Detail d\": \"Size\", \"Count\": 7420}, {\"Population p\": \"Education Administrators, Kindergarten through Secondary\", \"Pop Detail d\": \"Size\", \"Count\": 24540}, {\"Population p\": \"Education Administrators, Postsecondary\", \"Pop Detail d\": \"Size\", \"Count\": 11670}, {\"Population p\": \"Architectural and Engineering Managers\", \"Pop Detail d\": \"Size\", \"Count\": 34140}, {\"Population p\": \"Food Service Managers\", \"Pop Detail d\": \"Size\", \"Count\": 40440}, {\"Population p\": \"Gambling Managers\", \"Pop Detail d\": \"Size\", \"Count\": 690}, {\"Population p\": \"Lodging Managers\", \"Pop Detail d\": \"Size\", \"Count\": 4290}, {\"Population p\": \"Medical and Health Services Managers\", \"Pop Detail d\": \"Size\", \"Count\": 36940}, {\"Population p\": \"Postmasters and Mail Superintendents\", \"Pop Detail d\": \"Size\", \"Count\": 790}, {\"Population p\": \"Property, Real Estate, and Community Association Managers\", \"Pop Detail d\": \"Size\", \"Count\": 37870}, {\"Population p\": \"Emergency Management Directors\", \"Pop Detail d\": \"Size\", \"Count\": 760}, {\"Population p\": \"Funeral Home Managers\", \"Pop Detail d\": \"Size\", \"Count\": 650}, {\"Population p\": \"Personal Service Managers, All Other; Entertainment and Recreation Managers, Except Gambling; and Managers, All Other\", \"Pop Detail d\": \"Size\", \"Count\": 69780}, {\"Population p\": \"Buyers and Purchasing Agents\", \"Pop Detail d\": \"Size\", \"Count\": 45970}, {\"Population p\": \"Insurance Appraisers, Auto Damage\", \"Pop Detail d\": \"Size\", \"Count\": 2340}, {\"Population p\": \"Compliance Officers\", \"Pop Detail d\": \"Size\", \"Count\": 39250}, {\"Population p\": \"Cost Estimators\", \"Pop Detail d\": \"Size\", \"Count\": 27130}, {\"Population p\": \"Human Resources Specialists\", \"Pop Detail d\": \"Size\", \"Count\": 71130}, {\"Population p\": \"Farm Labor Contractors\", \"Pop Detail d\": \"Size\", \"Count\": 130}, {\"Population p\": \"Labor Relations Specialists\", \"Pop Detail d\": \"Size\", \"Count\": 7860}, {\"Population p\": \"Logisticians\", \"Pop Detail d\": \"Size\", \"Count\": 23020}, {\"Population p\": \"Management Analysts\", \"Pop Detail d\": \"Size\", \"Count\": 103970}, {\"Population p\": \"Meeting, Convention, and Event Planners\", \"Pop Detail d\": \"Size\", \"Count\": 17020}, {\"Population p\": \"Fundraisers\", \"Pop Detail d\": \"Size\", \"Count\": 9400}, {\"Population p\": \"Compensation, Benefits, and Job Analysis Specialists\", \"Pop Detail d\": \"Size\", \"Count\": 10630}, {\"Population p\": \"Training and Development Specialists\", \"Pop Detail d\": \"Size\", \"Count\": 29600}, {\"Population p\": \"Market Research Analysts and Marketing Specialists\", \"Pop Detail d\": \"Size\", \"Count\": 98760}, {\"Population p\": \"Project Management Specialists and Business Operations Specialists, All Other\", \"Pop Detail d\": \"Size\", \"Count\": 209160}, {\"Population p\": \"Accountants and Auditors\", \"Pop Detail d\": \"Size\", \"Count\": 148500}, {\"Population p\": \"Property Appraisers and Assessors\", \"Pop Detail d\": \"Size\", \"Count\": 4760}, {\"Population p\": \"Budget Analysts\", \"Pop Detail d\": \"Size\", \"Count\": 6030}, {\"Population p\": \"Credit Analysts\", \"Pop Detail d\": \"Size\", \"Count\": 8130}, {\"Population p\": \"Personal Financial Advisors\", \"Pop Detail d\": \"Size\", \"Count\": 25910}, {\"Population p\": \"Insurance Underwriters\", \"Pop Detail d\": \"Size\", \"Count\": 9110}, {\"Population p\": \"Financial Examiners\", \"Pop Detail d\": \"Size\", \"Count\": 5130}, {\"Population p\": \"Credit Counselors\", \"Pop Detail d\": \"Size\", \"Count\": 3520}, {\"Population p\": \"Loan Officers\", \"Pop Detail d\": \"Size\", \"Count\": 34740}, {\"Population p\": \"Tax Examiners and Collectors, and Revenue Agents\", \"Pop Detail d\": \"Size\", \"Count\": 8300}, {\"Population p\": \"Tax Preparers\", \"Pop Detail d\": \"Size\", \"Count\": 8910}, {\"Population p\": \"Financial and Investment Analysts, Financial Risk Specialists, and Financial Specialists, All Other\", \"Pop Detail d\": \"Size\", \"Count\": 58810}, {\"Population p\": \"Computer Systems Analysts\", \"Pop Detail d\": \"Size\", \"Count\": 64260}, {\"Population p\": \"Information Security Analysts\", \"Pop Detail d\": \"Size\", \"Count\": 9200}, {\"Population p\": \"Computer and Information Research Scientists\", \"Pop Detail d\": \"Size\", \"Count\": 7370}, {\"Population p\": \"Computer Network Support Specialists\", \"Pop Detail d\": \"Size\", \"Count\": 16860}, {\"Population p\": \"Computer User Support Specialists\", \"Pop Detail d\": \"Size\", \"Count\": 81230}, {\"Population p\": \"Computer Network Architects\", \"Pop Detail d\": \"Size\", \"Count\": 18210}, {\"Population p\": \"Network and Computer Systems Administrators\", \"Pop Detail d\": \"Size\", \"Count\": 33630}, {\"Population p\": \"Database Administrators and Architects\", \"Pop Detail d\": \"Size\", \"Count\": 13530}, {\"Population p\": \"Computer Programmers\", \"Pop Detail d\": \"Size\", \"Count\": 24400}, {\"Population p\": \"Software Developers and Software Quality Assurance Analysts and Testers\", \"Pop Detail d\": \"Size\", \"Count\": 249620}, {\"Population p\": \"Web Developers and Digital Interface Designers\", \"Pop Detail d\": \"Size\", \"Count\": 20920}, {\"Population p\": \"Computer Occupations, All Other\", \"Pop Detail d\": \"Size\", \"Count\": 83270}, {\"Population p\": \"Actuaries\", \"Pop Detail d\": \"Size\", \"Count\": 1630}, {\"Population p\": \"Mathematicians\", \"Pop Detail d\": \"Size\", \"Count\": 550}, {\"Population p\": \"Operations Research Analysts\", \"Pop Detail d\": \"Size\", \"Count\": 10000}, {\"Population p\": \"Statisticians\", \"Pop Detail d\": \"Size\", \"Count\": 4930}, {\"Population p\": \"Data Scientists and Mathematical Science Occupations, All Other\", \"Pop Detail d\": \"Size\", \"Count\": 4690}, {\"Population p\": \"Architects, Except Landscape and Naval\", \"Pop Detail d\": \"Size\", \"Count\": 14480}, {\"Population p\": \"Landscape Architects\", \"Pop Detail d\": \"Size\", \"Count\": 2510}, {\"Population p\": \"Cartographers and Photogrammetrists\", \"Pop Detail d\": \"Size\", \"Count\": 860}, {\"Population p\": \"Surveyors\", \"Pop Detail d\": \"Size\", \"Count\": 4260}, {\"Population p\": \"Aerospace Engineers\", \"Pop Detail d\": \"Size\", \"Count\": 11440}, {\"Population p\": \"Agricultural Engineers\", \"Pop Detail d\": \"Size\", \"Count\": 180}, {\"Population p\": \"Bioengineers and Biomedical Engineers\", \"Pop Detail d\": \"Size\", \"Count\": 2540}, {\"Population p\": \"Chemical Engineers\", \"Pop Detail d\": \"Size\", \"Count\": 2020}, {\"Population p\": \"Civil Engineers\", \"Pop Detail d\": \"Size\", \"Count\": 49090}, {\"Population p\": \"Computer Hardware Engineers\", \"Pop Detail d\": \"Size\", \"Count\": 19940}, {\"Population p\": \"Electrical Engineers\", \"Pop Detail d\": \"Size\", \"Count\": 25370}, {\"Population p\": \"Electronics Engineers, Except Computer\", \"Pop Detail d\": \"Size\", \"Count\": 27110}, {\"Population p\": \"Environmental Engineers\", \"Pop Detail d\": \"Size\", \"Count\": 8640}, {\"Population p\": \"Health and Safety Engineers, Except Mining Safety Engineers and Inspectors\", \"Pop Detail d\": \"Size\", \"Count\": 2190}, {\"Population p\": \"Industrial Engineers\", \"Pop Detail d\": \"Size\", \"Count\": 26800}, {\"Population p\": \"Marine Engineers and Naval Architects\", \"Pop Detail d\": \"Size\", \"Count\": 280}, {\"Population p\": \"Materials Engineers\", \"Pop Detail d\": \"Size\", \"Count\": 2550}, {\"Population p\": \"Mechanical Engineers\", \"Pop Detail d\": \"Size\", \"Count\": 27830}, {\"Population p\": \"Mining and Geological Engineers, Including Mining Safety Engineers\", \"Pop Detail d\": \"Size\", \"Count\": 550}, {\"Population p\": \"Nuclear Engineers\", \"Pop Detail d\": \"Size\", \"Count\": 510}, {\"Population p\": \"Petroleum Engineers\", \"Pop Detail d\": \"Size\", \"Count\": 2440}, {\"Population p\": \"Engineers, All Other\", \"Pop Detail d\": \"Size\", \"Count\": 25740}, {\"Population p\": \"Architectural and Civil Drafters\", \"Pop Detail d\": \"Size\", \"Count\": 13390}, {\"Population p\": \"Electrical and Electronics Drafters\", \"Pop Detail d\": \"Size\", \"Count\": 3480}, {\"Population p\": \"Mechanical Drafters\", \"Pop Detail d\": \"Size\", \"Count\": 5260}, {\"Population p\": \"Drafters, All Other\", \"Pop Detail d\": \"Size\", \"Count\": 1660}, {\"Population p\": \"Aerospace Engineering and Operations Technologists and Technicians\", \"Pop Detail d\": \"Size\", \"Count\": 2220}, {\"Population p\": \"Civil Engineering Technologists and Technicians\", \"Pop Detail d\": \"Size\", \"Count\": 8050}, {\"Population p\": \"Electrical and Electronic Engineering Technologists and Technicians\", \"Pop Detail d\": \"Size\", \"Count\": 23380}, {\"Population p\": \"Electro-Mechanical and Mechatronics Technologists and Technicians\", \"Pop Detail d\": \"Size\", \"Count\": 2370}, {\"Population p\": \"Environmental Engineering Technologists and Technicians\", \"Pop Detail d\": \"Size\", \"Count\": 3560}, {\"Population p\": \"Industrial Engineering Technologists and Technicians\", \"Pop Detail d\": \"Size\", \"Count\": 4570}, {\"Population p\": \"Mechanical Engineering Technologists and Technicians\", \"Pop Detail d\": \"Size\", \"Count\": 3470}, {\"Population p\": \"Surveying and Mapping Technicians\", \"Pop Detail d\": \"Size\", \"Count\": 4110}, {\"Population p\": \"Calibration Technologists and Technicians and Engineering Technologists and Technicians, Except Drafters, All Other\", \"Pop Detail d\": \"Size\", \"Count\": 11810}, {\"Population p\": \"Food Scientists and Technologists\", \"Pop Detail d\": \"Size\", \"Count\": 1980}, {\"Population p\": \"Soil and Plant Scientists\", \"Pop Detail d\": \"Size\", \"Count\": 2580}, {\"Population p\": \"Biochemists and Biophysicists\", \"Pop Detail d\": \"Size\", \"Count\": 5610}, {\"Population p\": \"Microbiologists\", \"Pop Detail d\": \"Size\", \"Count\": 3470}, {\"Population p\": \"Zoologists and Wildlife Biologists\", \"Pop Detail d\": \"Size\", \"Count\": 2140}, {\"Population p\": \"Biological Scientists, All Other\", \"Pop Detail d\": \"Size\", \"Count\": 10650}, {\"Population p\": \"Conservation Scientists\", \"Pop Detail d\": \"Size\", \"Count\": 1760}, {\"Population p\": \"Foresters\", \"Pop Detail d\": \"Size\", \"Count\": 730}, {\"Population p\": \"Epidemiologists\", \"Pop Detail d\": \"Size\", \"Count\": 720}, {\"Population p\": \"Medical Scientists, Except Epidemiologists\", \"Pop Detail d\": \"Size\", \"Count\": 23460}, {\"Population p\": \"Life Scientists, All Other\", \"Pop Detail d\": \"Size\", \"Count\": 1300}, {\"Population p\": \"Astronomers\", \"Pop Detail d\": \"Size\", \"Count\": 360}, {\"Population p\": \"Physicists\", \"Pop Detail d\": \"Size\", \"Count\": 1950}, {\"Population p\": \"Atmospheric and Space Scientists\", \"Pop Detail d\": \"Size\", \"Count\": 830}, {\"Population p\": \"Chemists\", \"Pop Detail d\": \"Size\", \"Count\": 10130}, {\"Population p\": \"Materials Scientists\", \"Pop Detail d\": \"Size\", \"Count\": 670}, {\"Population p\": \"Environmental Scientists and Specialists, Including Health\", \"Pop Detail d\": \"Size\", \"Count\": 14380}, {\"Population p\": \"Geoscientists, Except Hydrologists and Geographers\", \"Pop Detail d\": \"Size\", \"Count\": 4660}, {\"Population p\": \"Hydrologists\", \"Pop Detail d\": \"Size\", \"Count\": 930}, {\"Population p\": \"Physical Scientists, All Other\", \"Pop Detail d\": \"Size\", \"Count\": 1850}, {\"Population p\": \"Economists\", \"Pop Detail d\": \"Size\", \"Count\": 1810}, {\"Population p\": \"Survey Researchers\", \"Pop Detail d\": \"Size\", \"Count\": 860}, {\"Population p\": \"Clinical, Counseling, and School Psychologists\", \"Pop Detail d\": \"Size\", \"Count\": 16960}, {\"Population p\": \"Industrial-Organizational Psychologists\", \"Pop Detail d\": \"Size\", \"Count\": 40}, {\"Population p\": \"Sociologists\", \"Pop Detail d\": \"Size\", \"Count\": 1020}, {\"Population p\": \"Urban and Regional Planners\", \"Pop Detail d\": \"Size\", \"Count\": 7980}, {\"Population p\": \"Anthropologists and Archeologists\", \"Pop Detail d\": \"Size\", \"Count\": 1610}, {\"Population p\": \"Geographers\", \"Pop Detail d\": \"Size\", \"Count\": 110}, {\"Population p\": \"Historians\", \"Pop Detail d\": \"Size\", \"Count\": 240}, {\"Population p\": \"Political Scientists\", \"Pop Detail d\": \"Size\", \"Count\": 140}, {\"Population p\": \"Social Scientists and Related Workers, All Other\", \"Pop Detail d\": \"Size\", \"Count\": 4150}, {\"Population p\": \"Agricultural and Food Science Technicians\", \"Pop Detail d\": \"Size\", \"Count\": 4170}, {\"Population p\": \"Biological Technicians\", \"Pop Detail d\": \"Size\", \"Count\": 9740}, {\"Population p\": \"Chemical Technicians\", \"Pop Detail d\": \"Size\", \"Count\": 6510}, {\"Population p\": \"Environmental Science and Protection Technicians, Including Health\", \"Pop Detail d\": \"Size\", \"Count\": 5830}, {\"Population p\": \"Geological and Hydrologic Technicians\", \"Pop Detail d\": \"Size\", \"Count\": 1490}, {\"Population p\": \"Nuclear Technicians\", \"Pop Detail d\": \"Size\", \"Count\": 110}, {\"Population p\": \"Social Science Research Assistants\", \"Pop Detail d\": \"Size\", \"Count\": 2470}, {\"Population p\": \"Forest and Conservation Technicians\", \"Pop Detail d\": \"Size\", \"Count\": 4060}, {\"Population p\": \"Forensic Science Technicians\", \"Pop Detail d\": \"Size\", \"Count\": 2150}, {\"Population p\": \"Life, Physical, and Social Science Technicians, All Other\", \"Pop Detail d\": \"Size\", \"Count\": 8520}, {\"Population p\": \"Occupational Health and Safety Specialists\", \"Pop Detail d\": \"Size\", \"Count\": 8430}, {\"Population p\": \"Occupational Health and Safety Technicians\", \"Pop Detail d\": \"Size\", \"Count\": 1700}, {\"Population p\": \"Educational, Guidance, and Career Counselors and Advisors\", \"Pop Detail d\": \"Size\", \"Count\": 32650}, {\"Population p\": \"Marriage and Family Therapists\", \"Pop Detail d\": \"Size\", \"Count\": 31710}, {\"Population p\": \"Rehabilitation Counselors\", \"Pop Detail d\": \"Size\", \"Count\": 15210}, {\"Population p\": \"Substance Abuse, Behavioral Disorder, and Mental Health Counselors\", \"Pop Detail d\": \"Size\", \"Count\": 32380}, {\"Population p\": \"Counselors, All Other\", \"Pop Detail d\": \"Size\", \"Count\": 5300}, {\"Population p\": \"Child, Family, and School Social Workers\", \"Pop Detail d\": \"Size\", \"Count\": 32630}, {\"Population p\": \"Healthcare Social Workers\", \"Pop Detail d\": \"Size\", \"Count\": 19020}, {\"Population p\": \"Mental Health and Substance Abuse Social Workers\", \"Pop Detail d\": \"Size\", \"Count\": 14970}, {\"Population p\": \"Social Workers, All Other\", \"Pop Detail d\": \"Size\", \"Count\": 12210}, {\"Population p\": \"Health Education Specialists\", \"Pop Detail d\": \"Size\", \"Count\": 7230}, {\"Population p\": \"Probation Officers and Correctional Treatment Specialists\", \"Pop Detail d\": \"Size\", \"Count\": 13390}, {\"Population p\": \"Social and Human Service Assistants\", \"Pop Detail d\": \"Size\", \"Count\": 53690}, {\"Population p\": \"Community Health Workers\", \"Pop Detail d\": \"Size\", \"Count\": 5720}, {\"Population p\": \"Community and Social Service Specialists, All Other\", \"Pop Detail d\": \"Size\", \"Count\": 16630}, {\"Population p\": \"Clergy\", \"Pop Detail d\": \"Size\", \"Count\": 6610}, {\"Population p\": \"Directors, Religious Activities and Education\", \"Pop Detail d\": \"Size\", \"Count\": 3120}, {\"Population p\": \"Religious Workers, All Other\", \"Pop Detail d\": \"Size\", \"Count\": 1430}, {\"Population p\": \"Lawyers\", \"Pop Detail d\": \"Size\", \"Count\": 83750}, {\"Population p\": \"Judicial Law Clerks\", \"Pop Detail d\": \"Size\", \"Count\": 3060}, {\"Population p\": \"Administrative Law Judges, Adjudicators, and Hearing Officers\", \"Pop Detail d\": \"Size\", \"Count\": 1800}, {\"Population p\": \"Arbitrators, Mediators, and Conciliators\", \"Pop Detail d\": \"Size\", \"Count\": 560}, {\"Population p\": \"Judges, Magistrate Judges, and Magistrates\", \"Pop Detail d\": \"Size\", \"Count\": 1690}, {\"Population p\": \"Paralegals and Legal Assistants\", \"Pop Detail d\": \"Size\", \"Count\": 35040}, {\"Population p\": \"Title Examiners, Abstractors, and Searchers\", \"Pop Detail d\": \"Size\", \"Count\": 3510}, {\"Population p\": \"Legal Support Workers, All Other\", \"Pop Detail d\": \"Size\", \"Count\": 8140}, {\"Population p\": \"Business Teachers, Postsecondary\", \"Pop Detail d\": \"Size\", \"Count\": 5470}, {\"Population p\": \"Computer Science Teachers, Postsecondary\", \"Pop Detail d\": \"Size\", \"Count\": 2200}, {\"Population p\": \"Mathematical Science Teachers, Postsecondary\", \"Pop Detail d\": \"Size\", \"Count\": 5460}, {\"Population p\": \"Architecture Teachers, Postsecondary\", \"Pop Detail d\": \"Size\", \"Count\": 440}, {\"Population p\": \"Engineering Teachers, Postsecondary\", \"Pop Detail d\": \"Size\", \"Count\": 2470}, {\"Population p\": \"Agricultural Sciences Teachers, Postsecondary\", \"Pop Detail d\": \"Size\", \"Count\": 330}, {\"Population p\": \"Biological Science Teachers, Postsecondary\", \"Pop Detail d\": \"Size\", \"Count\": 3590}, {\"Population p\": \"Forestry and Conservation Science Teachers, Postsecondary\", \"Pop Detail d\": \"Size\", \"Count\": 110}, {\"Population p\": \"Atmospheric, Earth, Marine, and Space Sciences Teachers, Postsecondary\", \"Pop Detail d\": \"Size\", \"Count\": 1420}, {\"Population p\": \"Chemistry Teachers, Postsecondary\", \"Pop Detail d\": \"Size\", \"Count\": 1620}, {\"Population p\": \"Environmental Science Teachers, Postsecondary\", \"Pop Detail d\": \"Size\", \"Count\": 580}, {\"Population p\": \"Physics Teachers, Postsecondary\", \"Pop Detail d\": \"Size\", \"Count\": 910}, {\"Population p\": \"Anthropology and Archeology Teachers, Postsecondary\", \"Pop Detail d\": \"Size\", \"Count\": 620}, {\"Population p\": \"Area, Ethnic, and Cultural Studies Teachers, Postsecondary\", \"Pop Detail d\": \"Size\", \"Count\": 1120}, {\"Population p\": \"Economics Teachers, Postsecondary\", \"Pop Detail d\": \"Size\", \"Count\": 690}, {\"Population p\": \"Geography Teachers, Postsecondary\", \"Pop Detail d\": \"Size\", \"Count\": 250}, {\"Population p\": \"Political Science Teachers, Postsecondary\", \"Pop Detail d\": \"Size\", \"Count\": 1010}, {\"Population p\": \"Psychology Teachers, Postsecondary\", \"Pop Detail d\": \"Size\", \"Count\": 4980}, {\"Population p\": \"Sociology Teachers, Postsecondary\", \"Pop Detail d\": \"Size\", \"Count\": 910}, {\"Population p\": \"Social Sciences Teachers, Postsecondary, All Other\", \"Pop Detail d\": \"Size\", \"Count\": 2050}, {\"Population p\": \"Health Specialties Teachers, Postsecondary\", \"Pop Detail d\": \"Size\", \"Count\": 9180}, {\"Population p\": \"Nursing Instructors and Teachers, Postsecondary\", \"Pop Detail d\": \"Size\", \"Count\": 3970}, {\"Population p\": \"Education Teachers, Postsecondary\", \"Pop Detail d\": \"Size\", \"Count\": 3170}, {\"Population p\": \"Library Science Teachers, Postsecondary\", \"Pop Detail d\": \"Size\", \"Count\": 270}, {\"Population p\": \"Criminal Justice and Law Enforcement Teachers, Postsecondary\", \"Pop Detail d\": \"Size\", \"Count\": 1250}, {\"Population p\": \"Law Teachers, Postsecondary\", \"Pop Detail d\": \"Size\", \"Count\": 1540}, {\"Population p\": \"Social Work Teachers, Postsecondary\", \"Pop Detail d\": \"Size\", \"Count\": 480}, {\"Population p\": \"Art, Drama, and Music Teachers, Postsecondary\", \"Pop Detail d\": \"Size\", \"Count\": 9990}, {\"Population p\": \"Communications Teachers, Postsecondary\", \"Pop Detail d\": \"Size\", \"Count\": 2170}, {\"Population p\": \"English Language and Literature Teachers, Postsecondary\", \"Pop Detail d\": \"Size\", \"Count\": 6820}, {\"Population p\": \"Foreign Language and Literature Teachers, Postsecondary\", \"Pop Detail d\": \"Size\", \"Count\": 3040}, {\"Population p\": \"History Teachers, Postsecondary\", \"Pop Detail d\": \"Size\", \"Count\": 1380}, {\"Population p\": \"Philosophy and Religion Teachers, Postsecondary\", \"Pop Detail d\": \"Size\", \"Count\": 2940}, {\"Population p\": \"Family and Consumer Sciences Teachers, Postsecondary\", \"Pop Detail d\": \"Size\", \"Count\": 280}, {\"Population p\": \"Recreation and Fitness Studies Teachers, Postsecondary\", \"Pop Detail d\": \"Size\", \"Count\": 2150}, {\"Population p\": \"Career/Technical Education Teachers, Postsecondary\", \"Pop Detail d\": \"Size\", \"Count\": 10540}, {\"Population p\": \"Postsecondary Teachers, All Other\", \"Pop Detail d\": \"Size\", \"Count\": 68650}, {\"Population p\": \"Preschool Teachers, Except Special Education\", \"Pop Detail d\": \"Size\", \"Count\": 53290}, {\"Population p\": \"Kindergarten Teachers, Except Special Education\", \"Pop Detail d\": \"Size\", \"Count\": 9870}, {\"Population p\": \"Elementary School Teachers, Except Special Education\", \"Pop Detail d\": \"Size\", \"Count\": 164910}, {\"Population p\": \"Middle School Teachers, Except Special and Career/Technical Education\", \"Pop Detail d\": \"Size\", \"Count\": 39780}, {\"Population p\": \"Career/Technical Education Teachers, Middle School\", \"Pop Detail d\": \"Size\", \"Count\": 360}, {\"Population p\": \"Secondary School Teachers, Except Special and Career/Technical Education\", \"Pop Detail d\": \"Size\", \"Count\": 109840}, {\"Population p\": \"Career/Technical Education Teachers, Secondary School\", \"Pop Detail d\": \"Size\", \"Count\": 3100}, {\"Population p\": \"Special Education Teachers, Preschool\", \"Pop Detail d\": \"Size\", \"Count\": 660}, {\"Population p\": \"Special Education Teachers, Kindergarten and Elementary School\", \"Pop Detail d\": \"Size\", \"Count\": 15320}, {\"Population p\": \"Special Education Teachers, Middle School\", \"Pop Detail d\": \"Size\", \"Count\": 3010}, {\"Population p\": \"Special Education Teachers, Secondary School\", \"Pop Detail d\": \"Size\", \"Count\": 9750}, {\"Population p\": \"Special Education Teachers, All Other\", \"Pop Detail d\": \"Size\", \"Count\": 7420}, {\"Population p\": \"Adult Basic Education, Adult Secondary Education, and English as a Second Language Instructors\", \"Pop Detail d\": \"Size\", \"Count\": 8670}, {\"Population p\": \"Self-Enrichment Teachers\", \"Pop Detail d\": \"Size\", \"Count\": 32210}, {\"Population p\": \"Substitute Teachers, Short-Term\", \"Pop Detail d\": \"Size\", \"Count\": 103210}, {\"Population p\": \"Tutors and Teachers and Instructors, All Other\", \"Pop Detail d\": \"Size\", \"Count\": 69720}, {\"Population p\": \"Archivists\", \"Pop Detail d\": \"Size\", \"Count\": 520}, {\"Population p\": \"Curators\", \"Pop Detail d\": \"Size\", \"Count\": 1320}, {\"Population p\": \"Museum Technicians and Conservators\", \"Pop Detail d\": \"Size\", \"Count\": 2030}, {\"Population p\": \"Librarians and Media Collections Specialists\", \"Pop Detail d\": \"Size\", \"Count\": 10300}, {\"Population p\": \"Library Technicians\", \"Pop Detail d\": \"Size\", \"Count\": 11220}, {\"Population p\": \"Farm and Home Management Educators\", \"Pop Detail d\": \"Size\", \"Count\": 90}, {\"Population p\": \"Instructional Coordinators\", \"Pop Detail d\": \"Size\", \"Count\": 20910}, {\"Population p\": \"Teaching Assistants, Postsecondary\", \"Pop Detail d\": \"Size\", \"Count\": 23920}, {\"Population p\": \"Teaching Assistants, Except Postsecondary\", \"Pop Detail d\": \"Size\", \"Count\": 163260}, {\"Population p\": \"Educational Instruction and Library Workers, All Other\", \"Pop Detail d\": \"Size\", \"Count\": 35680}, {\"Population p\": \"Art Directors\", \"Pop Detail d\": \"Size\", \"Count\": 8300}, {\"Population p\": \"Craft Artists\", \"Pop Detail d\": \"Size\", \"Count\": 430}, {\"Population p\": \"Fine Artists, Including Painters, Sculptors, and Illustrators\", \"Pop Detail d\": \"Size\", \"Count\": 2220}, {\"Population p\": \"Special Effects Artists and Animators\", \"Pop Detail d\": \"Size\", \"Count\": 11910}, {\"Population p\": \"Artists and Related Workers, All Other\", \"Pop Detail d\": \"Size\", \"Count\": 620}, {\"Population p\": \"Commercial and Industrial Designers\", \"Pop Detail d\": \"Size\", \"Count\": 3910}, {\"Population p\": \"Fashion Designers\", \"Pop Detail d\": \"Size\", \"Count\": 7180}, {\"Population p\": \"Floral Designers\", \"Pop Detail d\": \"Size\", \"Count\": 4640}, {\"Population p\": \"Graphic Designers\", \"Pop Detail d\": \"Size\", \"Count\": 29060}, {\"Population p\": \"Interior Designers\", \"Pop Detail d\": \"Size\", \"Count\": 9420}, {\"Population p\": \"Merchandise Displayers and Window Trimmers\", \"Pop Detail d\": \"Size\", \"Count\": 18910}, {\"Population p\": \"Set and Exhibit Designers\", \"Pop Detail d\": \"Size\", \"Count\": 3020}, {\"Population p\": \"Designers, All Other\", \"Pop Detail d\": \"Size\", \"Count\": 2410}, {\"Population p\": \"Actors\", \"Pop Detail d\": \"Size\", \"Count\": 19470}, {\"Population p\": \"Producers and Directors\", \"Pop Detail d\": \"Size\", \"Count\": 33610}, {\"Population p\": \"Athletes and Sports Competitors\", \"Pop Detail d\": \"Size\", \"Count\": 730}, {\"Population p\": \"Coaches and Scouts\", \"Pop Detail d\": \"Size\", \"Count\": 26340}, {\"Population p\": \"Umpires, Referees, and Other Sports Officials\", \"Pop Detail d\": \"Size\", \"Count\": 2160}, {\"Population p\": \"Dancers\", \"Pop Detail d\": \"Size\", \"Count\": 1400}, {\"Population p\": \"Choreographers\", \"Pop Detail d\": \"Size\", \"Count\": 320}, {\"Population p\": \"Music Directors and Composers\", \"Pop Detail d\": \"Size\", \"Count\": 870}, {\"Population p\": \"Musicians and Singers\", \"Pop Detail d\": \"Size\", \"Count\": 5890}, {\"Population p\": \"Miscellaneous Entertainers and Performers, Sports and Related Workers\", \"Pop Detail d\": \"Size\", \"Count\": 2530}, {\"Population p\": \"Broadcast Announcers and Radio Disc Jockeys\", \"Pop Detail d\": \"Size\", \"Count\": 2920}, {\"Population p\": \"News Analysts, Reporters, and Journalists\", \"Pop Detail d\": \"Size\", \"Count\": 4500}, {\"Population p\": \"Public Relations Specialists\", \"Pop Detail d\": \"Size\", \"Count\": 26700}, {\"Population p\": \"Editors\", \"Pop Detail d\": \"Size\", \"Count\": 11700}, {\"Population p\": \"Technical Writers\", \"Pop Detail d\": \"Size\", \"Count\": 6650}, {\"Population p\": \"Writers and Authors\", \"Pop Detail d\": \"Size\", \"Count\": 7840}, {\"Population p\": \"Interpreters and Translators\", \"Pop Detail d\": \"Size\", \"Count\": 8050}, {\"Population p\": \"Court Reporters and Simultaneous Captioners\", \"Pop Detail d\": \"Size\", \"Count\": 2150}, {\"Population p\": \"Media and Communication Workers, All Other\", \"Pop Detail d\": \"Size\", \"Count\": 8610}, {\"Population p\": \"Audio and Video Technicians\", \"Pop Detail d\": \"Size\", \"Count\": 13610}, {\"Population p\": \"Broadcast Technicians\", \"Pop Detail d\": \"Size\", \"Count\": 3750}, {\"Population p\": \"Sound Engineering Technicians\", \"Pop Detail d\": \"Size\", \"Count\": 4160}, {\"Population p\": \"Photographers\", \"Pop Detail d\": \"Size\", \"Count\": 6600}, {\"Population p\": \"Camera Operators, Television, Video, and Film\", \"Pop Detail d\": \"Size\", \"Count\": 4380}, {\"Population p\": \"Film and Video Editors\", \"Pop Detail d\": \"Size\", \"Count\": 10520}, {\"Population p\": \"Lighting Technicians and Media and Communication Equipment Workers, All Other\", \"Pop Detail d\": \"Size\", \"Count\": 10350}, {\"Population p\": \"Chiropractors\", \"Pop Detail d\": \"Size\", \"Count\": 3250}, {\"Population p\": \"Dentists, General\", \"Pop Detail d\": \"Size\", \"Count\": 16220}, {\"Population p\": \"Oral and Maxillofacial Surgeons\", \"Pop Detail d\": \"Size\", \"Count\": 690}, {\"Population p\": \"Orthodontists\", \"Pop Detail d\": \"Size\", \"Count\": 420}, {\"Population p\": \"Dentists, All Other Specialists\", \"Pop Detail d\": \"Size\", \"Count\": 420}, {\"Population p\": \"Dietitians and Nutritionists\", \"Pop Detail d\": \"Size\", \"Count\": 7880}, {\"Population p\": \"Optometrists\", \"Pop Detail d\": \"Size\", \"Count\": 4270}, {\"Population p\": \"Pharmacists\", \"Pop Detail d\": \"Size\", \"Count\": 32150}, {\"Population p\": \"Physician Assistants\", \"Pop Detail d\": \"Size\", \"Count\": 10890}, {\"Population p\": \"Podiatrists\", \"Pop Detail d\": \"Size\", \"Count\": 1020}, {\"Population p\": \"Occupational Therapists\", \"Pop Detail d\": \"Size\", \"Count\": 10060}, {\"Population p\": \"Physical Therapists\", \"Pop Detail d\": \"Size\", \"Count\": 21730}, {\"Population p\": \"Radiation Therapists\", \"Pop Detail d\": \"Size\", \"Count\": 1160}, {\"Population p\": \"Recreational Therapists\", \"Pop Detail d\": \"Size\", \"Count\": 1580}, {\"Population p\": \"Respiratory Therapists\", \"Pop Detail d\": \"Size\", \"Count\": 16650}, {\"Population p\": \"Speech-Language Pathologists\", \"Pop Detail d\": \"Size\", \"Count\": 14980}, {\"Population p\": \"Exercise Physiologists\", \"Pop Detail d\": \"Size\", \"Count\": 480}, {\"Population p\": \"Therapists, All Other\", \"Pop Detail d\": \"Size\", \"Count\": 810}, {\"Population p\": \"Veterinarians\", \"Pop Detail d\": \"Size\", \"Count\": 7380}, {\"Population p\": \"Registered Nurses\", \"Pop Detail d\": \"Size\", \"Count\": 302770}, {\"Population p\": \"Nurse Anesthetists\", \"Pop Detail d\": \"Size\", \"Count\": 1270}, {\"Population p\": \"Nurse Midwives\", \"Pop Detail d\": \"Size\", \"Count\": 690}, {\"Population p\": \"Nurse Practitioners\", \"Pop Detail d\": \"Size\", \"Count\": 13900}, {\"Population p\": \"Audiologists\", \"Pop Detail d\": \"Size\", \"Count\": 950}, {\"Population p\": \"Anesthesiologists\", \"Pop Detail d\": \"Size\", \"Count\": 3850}, {\"Population p\": \"Family Medicine Physicians\", \"Pop Detail d\": \"Size\", \"Count\": 11050}, {\"Population p\": \"General Internal Medicine Physicians\", \"Pop Detail d\": \"Size\", \"Count\": 3410}, {\"Population p\": \"Obstetricians and Gynecologists\", \"Pop Detail d\": \"Size\", \"Count\": 1540}, {\"Population p\": \"Pediatricians, General\", \"Pop Detail d\": \"Size\", \"Count\": 3160}, {\"Population p\": \"Psychiatrists\", \"Pop Detail d\": \"Size\", \"Count\": 3560}, {\"Population p\": \"Physicians, All Other; and Ophthalmologists, Except Pediatric\", \"Pop Detail d\": \"Size\", \"Count\": 32070}, {\"Population p\": \"Surgeons, Except Ophthalmologists\", \"Pop Detail d\": \"Size\", \"Count\": 3650}, {\"Population p\": \"Dental Hygienists\", \"Pop Detail d\": \"Size\", \"Count\": 23320}, {\"Population p\": \"Acupuncturists and Healthcare Diagnosing or Treating Practitioners, All Other\", \"Pop Detail d\": \"Size\", \"Count\": 4950}, {\"Population p\": \"Clinical Laboratory Technologists and Technicians\", \"Pop Detail d\": \"Size\", \"Count\": 27220}, {\"Population p\": \"Cardiovascular Technologists and Technicians\", \"Pop Detail d\": \"Size\", \"Count\": 4830}, {\"Population p\": \"Diagnostic Medical Sonographers\", \"Pop Detail d\": \"Size\", \"Count\": 6650}, {\"Population p\": \"Nuclear Medicine Technologists\", \"Pop Detail d\": \"Size\", \"Count\": 1330}, {\"Population p\": \"Radiologic Technologists and Technicians\", \"Pop Detail d\": \"Size\", \"Count\": 17390}, {\"Population p\": \"Magnetic Resonance Imaging Technologists\", \"Pop Detail d\": \"Size\", \"Count\": 3150}, {\"Population p\": \"Emergency Medical Technicians and Paramedics\", \"Pop Detail d\": \"Size\", \"Count\": 21990}, {\"Population p\": \"Dietetic Technicians\", \"Pop Detail d\": \"Size\", \"Count\": 5270}, {\"Population p\": \"Pharmacy Technicians\", \"Pop Detail d\": \"Size\", \"Count\": 36560}, {\"Population p\": \"Psychiatric Technicians\", \"Pop Detail d\": \"Size\", \"Count\": 9490}, {\"Population p\": \"Surgical Technologists\", \"Pop Detail d\": \"Size\", \"Count\": 9480}, {\"Population p\": \"Veterinary Technologists and Technicians\", \"Pop Detail d\": \"Size\", \"Count\": 9750}, {\"Population p\": \"Ophthalmic Medical Technicians\", \"Pop Detail d\": \"Size\", \"Count\": 3760}, {\"Population p\": \"Licensed Practical and Licensed Vocational Nurses\", \"Pop Detail d\": \"Size\", \"Count\": 67590}, {\"Population p\": \"Opticians, Dispensing\", \"Pop Detail d\": \"Size\", \"Count\": 8050}, {\"Population p\": \"Orthotists and Prosthetists\", \"Pop Detail d\": \"Size\", \"Count\": 850}, {\"Population p\": \"Hearing Aid Specialists\", \"Pop Detail d\": \"Size\", \"Count\": 750}, {\"Population p\": \"Medical Dosimetrists, Medical Records Specialists, and Health Technologists and Technicians, All Other\", \"Pop Detail d\": \"Size\", \"Count\": 40900}, {\"Population p\": \"Athletic Trainers\", \"Pop Detail d\": \"Size\", \"Count\": 1270}, {\"Population p\": \"Home Health and Personal Care Aides\", \"Pop Detail d\": \"Size\", \"Count\": 595760}, {\"Population p\": \"Nursing Assistants\", \"Pop Detail d\": \"Size\", \"Count\": 100190}, {\"Population p\": \"Orderlies\", \"Pop Detail d\": \"Size\", \"Count\": 3780}, {\"Population p\": \"Psychiatric Aides\", \"Pop Detail d\": \"Size\", \"Count\": 1220}, {\"Population p\": \"Occupational Therapy Assistants\", \"Pop Detail d\": \"Size\", \"Count\": 2640}, {\"Population p\": \"Occupational Therapy Aides\", \"Pop Detail d\": \"Size\", \"Count\": 670}, {\"Population p\": \"Physical Therapist Assistants\", \"Pop Detail d\": \"Size\", \"Count\": 5750}, {\"Population p\": \"Physical Therapist Aides\", \"Pop Detail d\": \"Size\", \"Count\": 7220}, {\"Population p\": \"Massage Therapists\", \"Pop Detail d\": \"Size\", \"Count\": 16330}, {\"Population p\": \"Dental Assistants\", \"Pop Detail d\": \"Size\", \"Count\": 56840}, {\"Population p\": \"Medical Assistants\", \"Pop Detail d\": \"Size\", \"Count\": 96850}, {\"Population p\": \"Medical Equipment Preparers\", \"Pop Detail d\": \"Size\", \"Count\": 7510}, {\"Population p\": \"Medical Transcriptionists\", \"Pop Detail d\": \"Size\", \"Count\": 5270}, {\"Population p\": \"Pharmacy Aides\", \"Pop Detail d\": \"Size\", \"Count\": 8820}, {\"Population p\": \"Veterinary Assistants and Laboratory Animal Caretakers\", \"Pop Detail d\": \"Size\", \"Count\": 12360}, {\"Population p\": \"Phlebotomists\", \"Pop Detail d\": \"Size\", \"Count\": 12860}, {\"Population p\": \"Healthcare Support Workers, All Other\", \"Pop Detail d\": \"Size\", \"Count\": 11640}, {\"Population p\": \"First-Line Supervisors of Correctional Officers\", \"Pop Detail d\": \"Size\", \"Count\": 4820}, {\"Population p\": \"First-Line Supervisors of Police and Detectives\", \"Pop Detail d\": \"Size\", \"Count\": 4930}, {\"Population p\": \"First-Line Supervisors of Firefighting and Prevention Workers\", \"Pop Detail d\": \"Size\", \"Count\": 3000}, {\"Population p\": \"Miscellaneous First-Line Supervisors, Protective Service Workers\", \"Pop Detail d\": \"Size\", \"Count\": 10480}, {\"Population p\": \"Firefighters\", \"Pop Detail d\": \"Size\", \"Count\": 33780}, {\"Population p\": \"Fire Inspectors and Investigators\", \"Pop Detail d\": \"Size\", \"Count\": 680}, {\"Population p\": \"Forest Fire Inspectors and Prevention Specialists\", \"Pop Detail d\": \"Size\", \"Count\": 390}, {\"Population p\": \"Correctional Officers and Jailers\", \"Pop Detail d\": \"Size\", \"Count\": 36090}, {\"Population p\": \"Detectives and Criminal Investigators\", \"Pop Detail d\": \"Size\", \"Count\": 11810}, {\"Population p\": \"Fish and Game Wardens\", \"Pop Detail d\": \"Size\", \"Count\": 350}, {\"Population p\": \"Parking Enforcement Workers\", \"Pop Detail d\": \"Size\", \"Count\": 1160}, {\"Population p\": \"Police and Sheriff's Patrol Officers\", \"Pop Detail d\": \"Size\", \"Count\": 72380}, {\"Population p\": \"Transit and Railroad Police\", \"Pop Detail d\": \"Size\", \"Count\": 610}, {\"Population p\": \"Animal Control Workers\", \"Pop Detail d\": \"Size\", \"Count\": 1360}, {\"Population p\": \"Private Detectives and Investigators\", \"Pop Detail d\": \"Size\", \"Count\": 3390}, {\"Population p\": \"Gambling Surveillance Officers and Gambling Investigators\", \"Pop Detail d\": \"Size\", \"Count\": 1120}, {\"Population p\": \"Security Guards\", \"Pop Detail d\": \"Size\", \"Count\": 162850}, {\"Population p\": \"Crossing Guards and Flaggers\", \"Pop Detail d\": \"Size\", \"Count\": 5980}, {\"Population p\": \"Lifeguards, Ski Patrol, and Other Recreational Protective Service Workers\", \"Pop Detail d\": \"Size\", \"Count\": 15610}, {\"Population p\": \"School Bus Monitors and Protective Service Workers, All Other\", \"Pop Detail d\": \"Size\", \"Count\": 26330}, {\"Population p\": \"Chefs and Head Cooks\", \"Pop Detail d\": \"Size\", \"Count\": 21370}, {\"Population p\": \"First-Line Supervisors of Food Preparation and Serving Workers\", \"Pop Detail d\": \"Size\", \"Count\": 95590}, {\"Population p\": \"Cooks, Fast Food\", \"Pop Detail d\": \"Size\", \"Count\": 120240}, {\"Population p\": \"Cooks, Institution and Cafeteria\", \"Pop Detail d\": \"Size\", \"Count\": 24900}, {\"Population p\": \"Cooks, Private Household\", \"Pop Detail d\": \"Size\", \"Count\": 180}, {\"Population p\": \"Cooks, Restaurant\", \"Pop Detail d\": \"Size\", \"Count\": 179050}, {\"Population p\": \"Cooks, Short Order\", \"Pop Detail d\": \"Size\", \"Count\": 19420}, {\"Population p\": \"Cooks, All Other\", \"Pop Detail d\": \"Size\", \"Count\": 4990}, {\"Population p\": \"Food Preparation Workers\", \"Pop Detail d\": \"Size\", \"Count\": 109410}, {\"Population p\": \"Bartenders\", \"Pop Detail d\": \"Size\", \"Count\": 70880}, {\"Population p\": \"Fast Food and Counter Workers\", \"Pop Detail d\": \"Size\", \"Count\": 436540}, {\"Population p\": \"Waiters and Waitresses\", \"Pop Detail d\": \"Size\", \"Count\": 289160}, {\"Population p\": \"Food Servers, Nonrestaurant\", \"Pop Detail d\": \"Size\", \"Count\": 25560}, {\"Population p\": \"Dining Room and Cafeteria Attendants and Bartender Helpers\", \"Pop Detail d\": \"Size\", \"Count\": 75960}, {\"Population p\": \"Dishwashers\", \"Pop Detail d\": \"Size\", \"Count\": 83340}, {\"Population p\": \"Hosts and Hostesses, Restaurant, Lounge, and Coffee Shop\", \"Pop Detail d\": \"Size\", \"Count\": 47330}, {\"Population p\": \"Food Preparation and Serving Related Workers, All Other\", \"Pop Detail d\": \"Size\", \"Count\": 23580}, {\"Population p\": \"First-Line Supervisors of Housekeeping and Janitorial Workers\", \"Pop Detail d\": \"Size\", \"Count\": 13320}, {\"Population p\": \"First-Line Supervisors of Landscaping, Lawn Service, and Groundskeeping Workers\", \"Pop Detail d\": \"Size\", \"Count\": 10110}, {\"Population p\": \"Janitors and Cleaners, Except Maids and Housekeeping Cleaners\", \"Pop Detail d\": \"Size\", \"Count\": 232970}, {\"Population p\": \"Maids and Housekeeping Cleaners\", \"Pop Detail d\": \"Size\", \"Count\": 101370}, {\"Population p\": \"Pest Control Workers\", \"Pop Detail d\": \"Size\", \"Count\": 10240}, {\"Population p\": \"Landscaping and Groundskeeping Workers\", \"Pop Detail d\": \"Size\", \"Count\": 106550}, {\"Population p\": \"Pesticide Handlers, Sprayers, and Applicators, Vegetation\", \"Pop Detail d\": \"Size\", \"Count\": 2400}, {\"Population p\": \"Tree Trimmers and Pruners\", \"Pop Detail d\": \"Size\", \"Count\": 8520}, {\"Population p\": \"Grounds Maintenance Workers, All Other\", \"Pop Detail d\": \"Size\", \"Count\": 2260}, {\"Population p\": \"First-Line Supervisors of Gambling Services Workers\", \"Pop Detail d\": \"Size\", \"Count\": 4110}, {\"Population p\": \"First-Line Supervisors of Personal Service and Entertainment and Recreation Workers, Except Gambling Services\", \"Pop Detail d\": \"Size\", \"Count\": 28130}, {\"Population p\": \"Animal Trainers\", \"Pop Detail d\": \"Size\", \"Count\": 1980}, {\"Population p\": \"Animal Caretakers\", \"Pop Detail d\": \"Size\", \"Count\": 22530}, {\"Population p\": \"Gambling Dealers\", \"Pop Detail d\": \"Size\", \"Count\": 16050}, {\"Population p\": \"Gambling and Sports Book Writers and Runners\", \"Pop Detail d\": \"Size\", \"Count\": 1620}, {\"Population p\": \"Gambling Service Workers, All Other\", \"Pop Detail d\": \"Size\", \"Count\": 1760}, {\"Population p\": \"Motion Picture Projectionists\", \"Pop Detail d\": \"Size\", \"Count\": 380}, {\"Population p\": \"Ushers, Lobby Attendants, and Ticket Takers\", \"Pop Detail d\": \"Size\", \"Count\": 17470}, {\"Population p\": \"Amusement and Recreation Attendants\", \"Pop Detail d\": \"Size\", \"Count\": 52540}, {\"Population p\": \"Costume Attendants\", \"Pop Detail d\": \"Size\", \"Count\": 2220}, {\"Population p\": \"Locker Room, Coatroom, and Dressing Room Attendants\", \"Pop Detail d\": \"Size\", \"Count\": 2220}, {\"Population p\": \"Entertainment Attendants and Related Workers, All Other\", \"Pop Detail d\": \"Size\", \"Count\": 760}, {\"Population p\": \"Embalmers\", \"Pop Detail d\": \"Size\", \"Count\": 490}, {\"Population p\": \"Funeral Attendants\", \"Pop Detail d\": \"Size\", \"Count\": 2060}, {\"Population p\": \"Morticians, Undertakers, and Funeral Arrangers\", \"Pop Detail d\": \"Size\", \"Count\": 1230}, {\"Population p\": \"Barbers\", \"Pop Detail d\": \"Size\", \"Count\": 830}, {\"Population p\": \"Hairdressers, Hairstylists, and Cosmetologists\", \"Pop Detail d\": \"Size\", \"Count\": 37210}, {\"Population p\": \"Makeup Artists, Theatrical and Performance\", \"Pop Detail d\": \"Size\", \"Count\": 1720}, {\"Population p\": \"Manicurists and Pedicurists\", \"Pop Detail d\": \"Size\", \"Count\": 23590}, {\"Population p\": \"Shampooers\", \"Pop Detail d\": \"Size\", \"Count\": 420}, {\"Population p\": \"Skincare Specialists\", \"Pop Detail d\": \"Size\", \"Count\": 8480}, {\"Population p\": \"Baggage Porters and Bellhops\", \"Pop Detail d\": \"Size\", \"Count\": 5570}, {\"Population p\": \"Concierges\", \"Pop Detail d\": \"Size\", \"Count\": 4360}, {\"Population p\": \"Tour and Travel Guides\", \"Pop Detail d\": \"Size\", \"Count\": 5930}, {\"Population p\": \"Childcare Workers\", \"Pop Detail d\": \"Size\", \"Count\": 55430}, {\"Population p\": \"Exercise Trainers and Group Fitness Instructors\", \"Pop Detail d\": \"Size\", \"Count\": 41460}, {\"Population p\": \"Recreation Workers\", \"Pop Detail d\": \"Size\", \"Count\": 48360}, {\"Population p\": \"Residential Advisors\", \"Pop Detail d\": \"Size\", \"Count\": 8350}, {\"Population p\": \"Crematory Operators and Personal Care and Service Workers, All Other\", \"Pop Detail d\": \"Size\", \"Count\": 4620}, {\"Population p\": \"First-Line Supervisors of Retail Sales Workers\", \"Pop Detail d\": \"Size\", \"Count\": 116620}, {\"Population p\": \"First-Line Supervisors of Non-Retail Sales Workers\", \"Pop Detail d\": \"Size\", \"Count\": 24580}, {\"Population p\": \"Cashiers\", \"Pop Detail d\": \"Size\", \"Count\": 431140}, {\"Population p\": \"Gambling Change Persons and Booth Cashiers\", \"Pop Detail d\": \"Size\", \"Count\": 2890}, {\"Population p\": \"Counter and Rental Clerks\", \"Pop Detail d\": \"Size\", \"Count\": 82980}, {\"Population p\": \"Parts Salespersons\", \"Pop Detail d\": \"Size\", \"Count\": 26140}, {\"Population p\": \"Retail Salespersons\", \"Pop Detail d\": \"Size\", \"Count\": 418900}, {\"Population p\": \"Advertising Sales Agents\", \"Pop Detail d\": \"Size\", \"Count\": 16880}, {\"Population p\": \"Insurance Sales Agents\", \"Pop Detail d\": \"Size\", \"Count\": 41900}, {\"Population p\": \"Securities, Commodities, and Financial Services Sales Agents\", \"Pop Detail d\": \"Size\", \"Count\": 57210}, {\"Population p\": \"Travel Agents\", \"Pop Detail d\": \"Size\", \"Count\": 8780}, {\"Population p\": \"Sales Representatives of Services, Except Advertising, Insurance, Financial Services, and Travel\", \"Pop Detail d\": \"Size\", \"Count\": 134040}, {\"Population p\": \"Sales Representatives, Wholesale and Manufacturing, Technical and Scientific Products\", \"Pop Detail d\": \"Size\", \"Count\": 39230}, {\"Population p\": \"Sales Representatives, Wholesale and Manufacturing, Except Technical and Scientific Products\", \"Pop Detail d\": \"Size\", \"Count\": 147310}, {\"Population p\": \"Demonstrators and Product Promoters\", \"Pop Detail d\": \"Size\", \"Count\": 17570}, {\"Population p\": \"Models\", \"Pop Detail d\": \"Size\", \"Count\": 290}, {\"Population p\": \"Real Estate Brokers\", \"Pop Detail d\": \"Size\", \"Count\": 6320}, {\"Population p\": \"Real Estate Sales Agents\", \"Pop Detail d\": \"Size\", \"Count\": 9750}, {\"Population p\": \"Sales Engineers\", \"Pop Detail d\": \"Size\", \"Count\": 11440}, {\"Population p\": \"Telemarketers\", \"Pop Detail d\": \"Size\", \"Count\": 11790}, {\"Population p\": \"Door-to-Door Sales Workers, News and Street Vendors, and Related Workers\", \"Pop Detail d\": \"Size\", \"Count\": 1790}, {\"Population p\": \"Sales and Related Workers, All Other\", \"Pop Detail d\": \"Size\", \"Count\": 29030}, {\"Population p\": \"First-Line Supervisors of Office and Administrative Support Workers\", \"Pop Detail d\": \"Size\", \"Count\": 167310}, {\"Population p\": \"Switchboard Operators, Including Answering Service\", \"Pop Detail d\": \"Size\", \"Count\": 11960}, {\"Population p\": \"Telephone Operators\", \"Pop Detail d\": \"Size\", \"Count\": 580}, {\"Population p\": \"Bill and Account Collectors\", \"Pop Detail d\": \"Size\", \"Count\": 20350}, {\"Population p\": \"Billing and Posting Clerks\", \"Pop Detail d\": \"Size\", \"Count\": 52010}, {\"Population p\": \"Bookkeeping, Accounting, and Auditing Clerks\", \"Pop Detail d\": \"Size\", \"Count\": 180050}, {\"Population p\": \"Gambling Cage Workers\", \"Pop Detail d\": \"Size\", \"Count\": 2320}, {\"Population p\": \"Payroll and Timekeeping Clerks\", \"Pop Detail d\": \"Size\", \"Count\": 21740}, {\"Population p\": \"Procurement Clerks\", \"Pop Detail d\": \"Size\", \"Count\": 7070}, {\"Population p\": \"Tellers\", \"Pop Detail d\": \"Size\", \"Count\": 41140}, {\"Population p\": \"Financial Clerks, All Other\", \"Pop Detail d\": \"Size\", \"Count\": 4480}, {\"Population p\": \"Brokerage Clerks\", \"Pop Detail d\": \"Size\", \"Count\": 4670}, {\"Population p\": \"Correspondence Clerks\", \"Pop Detail d\": \"Size\", \"Count\": 1240}, {\"Population p\": \"Court, Municipal, and License Clerks\", \"Pop Detail d\": \"Size\", \"Count\": 12220}, {\"Population p\": \"Credit Authorizers, Checkers, and Clerks\", \"Pop Detail d\": \"Size\", \"Count\": 2150}, {\"Population p\": \"Customer Service Representatives\", \"Pop Detail d\": \"Size\", \"Count\": 208600}, {\"Population p\": \"Eligibility Interviewers, Government Programs\", \"Pop Detail d\": \"Size\", \"Count\": 21160}, {\"Population p\": \"File Clerks\", \"Pop Detail d\": \"Size\", \"Count\": 12950}, {\"Population p\": \"Hotel, Motel, and Resort Desk Clerks\", \"Pop Detail d\": \"Size\", \"Count\": 26560}, {\"Population p\": \"Interviewers, Except Eligibility and Loan\", \"Pop Detail d\": \"Size\", \"Count\": 19450}, {\"Population p\": \"Library Assistants, Clerical\", \"Pop Detail d\": \"Size\", \"Count\": 8610}, {\"Population p\": \"Loan Interviewers and Clerks\", \"Pop Detail d\": \"Size\", \"Count\": 18840}, {\"Population p\": \"New Accounts Clerks\", \"Pop Detail d\": \"Size\", \"Count\": 2890}, {\"Population p\": \"Order Clerks\", \"Pop Detail d\": \"Size\", \"Count\": 30150}, {\"Population p\": \"Human Resources Assistants, Except Payroll and Timekeeping\", \"Pop Detail d\": \"Size\", \"Count\": 13150}, {\"Population p\": \"Receptionists and Information Clerks\", \"Pop Detail d\": \"Size\", \"Count\": 95470}, {\"Population p\": \"Reservation and Transportation Ticket Agents and Travel Clerks\", \"Pop Detail d\": \"Size\", \"Count\": 15970}, {\"Population p\": \"Information and Record Clerks, All Other\", \"Pop Detail d\": \"Size\", \"Count\": 21630}, {\"Population p\": \"Cargo and Freight Agents\", \"Pop Detail d\": \"Size\", \"Count\": 13670}, {\"Population p\": \"Couriers and Messengers\", \"Pop Detail d\": \"Size\", \"Count\": 9410}, {\"Population p\": \"Public Safety Telecommunicators\", \"Pop Detail d\": \"Size\", \"Count\": 6850}, {\"Population p\": \"Dispatchers, Except Police, Fire, and Ambulance\", \"Pop Detail d\": \"Size\", \"Count\": 20850}, {\"Population p\": \"Meter Readers, Utilities\", \"Pop Detail d\": \"Size\", \"Count\": 1600}, {\"Population p\": \"Postal Service Clerks\", \"Pop Detail d\": \"Size\", \"Count\": 7400}, {\"Population p\": \"Postal Service Mail Carriers\", \"Pop Detail d\": \"Size\", \"Count\": 33730}, {\"Population p\": \"Postal Service Mail Sorters, Processors, and Processing Machine Operators\", \"Pop Detail d\": \"Size\", \"Count\": 12210}, {\"Population p\": \"Production, Planning, and Expediting Clerks\", \"Pop Detail d\": \"Size\", \"Count\": 52540}, {\"Population p\": \"Shipping, Receiving, and Inventory Clerks\", \"Pop Detail d\": \"Size\", \"Count\": 88910}, {\"Population p\": \"Weighers, Measurers, Checkers, and Samplers, Recordkeeping\", \"Pop Detail d\": \"Size\", \"Count\": 10940}, {\"Population p\": \"Executive Secretaries and Executive Administrative Assistants\", \"Pop Detail d\": \"Size\", \"Count\": 65800}, {\"Population p\": \"Legal Secretaries and Administrative Assistants\", \"Pop Detail d\": \"Size\", \"Count\": 26710}, {\"Population p\": \"Medical Secretaries and Administrative Assistants\", \"Pop Detail d\": \"Size\", \"Count\": 95120}, {\"Population p\": \"Secretaries and Administrative Assistants, Except Legal, Medical, and Executive\", \"Pop Detail d\": \"Size\", \"Count\": 227540}, {\"Population p\": \"Data Entry Keyers\", \"Pop Detail d\": \"Size\", \"Count\": 18290}, {\"Population p\": \"Word Processors and Typists\", \"Pop Detail d\": \"Size\", \"Count\": 7610}, {\"Population p\": \"Desktop Publishers\", \"Pop Detail d\": \"Size\", \"Count\": 690}, {\"Population p\": \"Insurance Claims and Policy Processing Clerks\", \"Pop Detail d\": \"Size\", \"Count\": 37710}, {\"Population p\": \"Mail Clerks and Mail Machine Operators, Except Postal Service\", \"Pop Detail d\": \"Size\", \"Count\": 6020}, {\"Population p\": \"Office Clerks, General\", \"Pop Detail d\": \"Size\", \"Count\": 333940}, {\"Population p\": \"Office Machine Operators, Except Computer\", \"Pop Detail d\": \"Size\", \"Count\": 5480}, {\"Population p\": \"Proofreaders and Copy Markers\", \"Pop Detail d\": \"Size\", \"Count\": 860}, {\"Population p\": \"Statistical Assistants\", \"Pop Detail d\": \"Size\", \"Count\": 1100}, {\"Population p\": \"Office and Administrative Support Workers, All Other\", \"Pop Detail d\": \"Size\", \"Count\": 44450}, {\"Population p\": \"First-Line Supervisors of Farming, Fishing, and Forestry Workers\", \"Pop Detail d\": \"Size\", \"Count\": 7450}, {\"Population p\": \"Agricultural Inspectors\", \"Pop Detail d\": \"Size\", \"Count\": 2090}, {\"Population p\": \"Animal Breeders\", \"Pop Detail d\": \"Size\", \"Count\": 160}, {\"Population p\": \"Graders and Sorters, Agricultural Products\", \"Pop Detail d\": \"Size\", \"Count\": 8310}, {\"Population p\": \"Agricultural Equipment Operators\", \"Pop Detail d\": \"Size\", \"Count\": 6880}, {\"Population p\": \"Farmworkers and Laborers, Crop, Nursery, and Greenhouse\", \"Pop Detail d\": \"Size\", \"Count\": 201440}, {\"Population p\": \"Farmworkers, Farm, Ranch, and Aquacultural Animals\", \"Pop Detail d\": \"Size\", \"Count\": 2410}, {\"Population p\": \"Agricultural Workers, All Other\", \"Pop Detail d\": \"Size\", \"Count\": 1550}, {\"Population p\": \"Forest and Conservation Workers\", \"Pop Detail d\": \"Size\", \"Count\": 2000}, {\"Population p\": \"Fallers\", \"Pop Detail d\": \"Size\", \"Count\": 330}, {\"Population p\": \"Logging Equipment Operators\", \"Pop Detail d\": \"Size\", \"Count\": 1090}, {\"Population p\": \"Log Graders and Scalers\", \"Pop Detail d\": \"Size\", \"Count\": 180}, {\"Population p\": \"Logging Workers, All Other\", \"Pop Detail d\": \"Size\", \"Count\": 90}, {\"Population p\": \"First-Line Supervisors of Construction Trades and Extraction Workers\", \"Pop Detail d\": \"Size\", \"Count\": 57530}, {\"Population p\": \"Boilermakers\", \"Pop Detail d\": \"Size\", \"Count\": 570}, {\"Population p\": \"Brickmasons and Blockmasons\", \"Pop Detail d\": \"Size\", \"Count\": 3260}, {\"Population p\": \"Stonemasons\", \"Pop Detail d\": \"Size\", \"Count\": 3560}, {\"Population p\": \"Carpenters\", \"Pop Detail d\": \"Size\", \"Count\": 106300}, {\"Population p\": \"Carpet Installers\", \"Pop Detail d\": \"Size\", \"Count\": 5700}, {\"Population p\": \"Floor Layers, Except Carpet, Wood, and Hard Tiles\", \"Pop Detail d\": \"Size\", \"Count\": 4590}, {\"Population p\": \"Floor Sanders and Finishers\", \"Pop Detail d\": \"Size\", \"Count\": 570}, {\"Population p\": \"Tile and Stone Setters\", \"Pop Detail d\": \"Size\", \"Count\": 7230}, {\"Population p\": \"Cement Masons and Concrete Finishers\", \"Pop Detail d\": \"Size\", \"Count\": 28170}, {\"Population p\": \"Terrazzo Workers and Finishers\", \"Pop Detail d\": \"Size\", \"Count\": 330}, {\"Population p\": \"Construction Laborers\", \"Pop Detail d\": \"Size\", \"Count\": 101900}, {\"Population p\": \"Paving, Surfacing, and Tamping Equipment Operators\", \"Pop Detail d\": \"Size\", \"Count\": 2870}, {\"Population p\": \"Pile Driver Operators\", \"Pop Detail d\": \"Size\", \"Count\": 390}, {\"Population p\": \"Operating Engineers and Other Construction Equipment Operators\", \"Pop Detail d\": \"Size\", \"Count\": 28450}, {\"Population p\": \"Drywall and Ceiling Tile Installers\", \"Pop Detail d\": \"Size\", \"Count\": 31430}, {\"Population p\": \"Tapers\", \"Pop Detail d\": \"Size\", \"Count\": 6830}, {\"Population p\": \"Electricians\", \"Pop Detail d\": \"Size\", \"Count\": 72870}, {\"Population p\": \"Glaziers\", \"Pop Detail d\": \"Size\", \"Count\": 6470}, {\"Population p\": \"Insulation Workers, Floor, Ceiling, and Wall\", \"Pop Detail d\": \"Size\", \"Count\": 2020}, {\"Population p\": \"Painters, Construction and Maintenance\", \"Pop Detail d\": \"Size\", \"Count\": 38510}, {\"Population p\": \"Pipelayers\", \"Pop Detail d\": \"Size\", \"Count\": 2380}, {\"Population p\": \"Plumbers, Pipefitters, and Steamfitters\", \"Pop Detail d\": \"Size\", \"Count\": 47360}, {\"Population p\": \"Plasterers and Stucco Masons\", \"Pop Detail d\": \"Size\", \"Count\": 8610}, {\"Population p\": \"Reinforcing Iron and Rebar Workers\", \"Pop Detail d\": \"Size\", \"Count\": 2330}, {\"Population p\": \"Roofers\", \"Pop Detail d\": \"Size\", \"Count\": 18900}, {\"Population p\": \"Sheet Metal Workers\", \"Pop Detail d\": \"Size\", \"Count\": 12410}, {\"Population p\": \"Structural Iron and Steel Workers\", \"Pop Detail d\": \"Size\", \"Count\": 9950}, {\"Population p\": \"Solar Photovoltaic Installers\", \"Pop Detail d\": \"Size\", \"Count\": 4970}, {\"Population p\": \"Helpers--Brickmasons, Blockmasons, Stonemasons, and Tile and Marble Setters\", \"Pop Detail d\": \"Size\", \"Count\": 4400}, {\"Population p\": \"Helpers--Carpenters\", \"Pop Detail d\": \"Size\", \"Count\": 3500}, {\"Population p\": \"Helpers--Electricians\", \"Pop Detail d\": \"Size\", \"Count\": 4740}, {\"Population p\": \"Helpers--Painters, Paperhangers, Plasterers, and Stucco Masons\", \"Pop Detail d\": \"Size\", \"Count\": 2040}, {\"Population p\": \"Helpers--Pipelayers, Plumbers, Pipefitters, and Steamfitters\", \"Pop Detail d\": \"Size\", \"Count\": 3400}, {\"Population p\": \"Helpers--Roofers\", \"Pop Detail d\": \"Size\", \"Count\": 990}, {\"Population p\": \"Helpers, Construction Trades, All Other\", \"Pop Detail d\": \"Size\", \"Count\": 3140}, {\"Population p\": \"Construction and Building Inspectors\", \"Pop Detail d\": \"Size\", \"Count\": 10320}, {\"Population p\": \"Elevator and Escalator Installers and Repairers\", \"Pop Detail d\": \"Size\", \"Count\": 2740}, {\"Population p\": \"Fence Erectors\", \"Pop Detail d\": \"Size\", \"Count\": 3490}, {\"Population p\": \"Hazardous Materials Removal Workers\", \"Pop Detail d\": \"Size\", \"Count\": 6240}, {\"Population p\": \"Highway Maintenance Workers\", \"Pop Detail d\": \"Size\", \"Count\": 6480}, {\"Population p\": \"Rail-Track Laying and Maintenance Equipment Operators\", \"Pop Detail d\": \"Size\", \"Count\": 240}, {\"Population p\": \"Septic Tank Servicers and Sewer Pipe Cleaners\", \"Pop Detail d\": \"Size\", \"Count\": 2570}, {\"Population p\": \"Miscellaneous Construction and Related Workers\", \"Pop Detail d\": \"Size\", \"Count\": 3030}, {\"Population p\": \"Derrick Operators, Oil and Gas\", \"Pop Detail d\": \"Size\", \"Count\": 890}, {\"Population p\": \"Rotary Drill Operators, Oil and Gas\", \"Pop Detail d\": \"Size\", \"Count\": 1680}, {\"Population p\": \"Service Unit Operators, Oil and Gas\", \"Pop Detail d\": \"Size\", \"Count\": 2340}, {\"Population p\": \"Excavating and Loading Machine and Dragline Operators, Surface Mining\", \"Pop Detail d\": \"Size\", \"Count\": 2300}, {\"Population p\": \"Continuous Mining Machine Operators\", \"Pop Detail d\": \"Size\", \"Count\": 650}, {\"Population p\": \"Loading and Moving Machine Operators, Underground Mining\", \"Pop Detail d\": \"Size\", \"Count\": 50}, {\"Population p\": \"Rock Splitters, Quarry\", \"Pop Detail d\": \"Size\", \"Count\": 100}, {\"Population p\": \"Roustabouts, Oil and Gas\", \"Pop Detail d\": \"Size\", \"Count\": 1350}, {\"Population p\": \"Helpers--Extraction Workers\", \"Pop Detail d\": \"Size\", \"Count\": 1100}, {\"Population p\": \"Earth Drillers, Except Oil and Gas; and Explosives Workers, Ordnance Handling Experts, and Blasters\", \"Pop Detail d\": \"Size\", \"Count\": 2430}, {\"Population p\": \"Underground Mining Machine Operators and Extraction Workers, All Other\", \"Pop Detail d\": \"Size\", \"Count\": 530}, {\"Population p\": \"First-Line Supervisors of Mechanics, Installers, and Repairers\", \"Pop Detail d\": \"Size\", \"Count\": 40350}, {\"Population p\": \"Computer, Automated Teller, and Office Machine Repairers\", \"Pop Detail d\": \"Size\", \"Count\": 10600}, {\"Population p\": \"Radio, Cellular, and Tower Equipment Installers and Repairers\", \"Pop Detail d\": \"Size\", \"Count\": 990}, {\"Population p\": \"Telecommunications Equipment Installers and Repairers, Except Line Installers\", \"Pop Detail d\": \"Size\", \"Count\": 26340}, {\"Population p\": \"Avionics Technicians\", \"Pop Detail d\": \"Size\", \"Count\": 1620}, {\"Population p\": \"Electric Motor, Power Tool, and Related Repairers\", \"Pop Detail d\": \"Size\", \"Count\": 1250}, {\"Population p\": \"Electrical and Electronics Installers and Repairers, Transportation Equipment\", \"Pop Detail d\": \"Size\", \"Count\": 1160}, {\"Population p\": \"Electrical and Electronics Repairers, Commercial and Industrial Equipment\", \"Pop Detail d\": \"Size\", \"Count\": 5190}, {\"Population p\": \"Electrical and Electronics Repairers, Powerhouse, Substation, and Relay\", \"Pop Detail d\": \"Size\", \"Count\": 1420}, {\"Population p\": \"Electronic Equipment Installers and Repairers, Motor Vehicles\", \"Pop Detail d\": \"Size\", \"Count\": 1880}, {\"Population p\": \"Audiovisual Equipment Installers and Repairers\", \"Pop Detail d\": \"Size\", \"Count\": 1280}, {\"Population p\": \"Security and Fire Alarm Systems Installers\", \"Pop Detail d\": \"Size\", \"Count\": 8440}, {\"Population p\": \"Aircraft Mechanics and Service Technicians\", \"Pop Detail d\": \"Size\", \"Count\": 13800}, {\"Population p\": \"Automotive Body and Related Repairers\", \"Pop Detail d\": \"Size\", \"Count\": 12940}, {\"Population p\": \"Automotive Glass Installers and Repairers\", \"Pop Detail d\": \"Size\", \"Count\": 2340}, {\"Population p\": \"Automotive Service Technicians and Mechanics\", \"Pop Detail d\": \"Size\", \"Count\": 66270}, {\"Population p\": \"Bus and Truck Mechanics and Diesel Engine Specialists\", \"Pop Detail d\": \"Size\", \"Count\": 22330}, {\"Population p\": \"Farm Equipment Mechanics and Service Technicians\", \"Pop Detail d\": \"Size\", \"Count\": 3680}, {\"Population p\": \"Mobile Heavy Equipment Mechanics, Except Engines\", \"Pop Detail d\": \"Size\", \"Count\": 12980}, {\"Population p\": \"Motorboat Mechanics and Service Technicians\", \"Pop Detail d\": \"Size\", \"Count\": 1690}, {\"Population p\": \"Motorcycle Mechanics\", \"Pop Detail d\": \"Size\", \"Count\": 1430}, {\"Population p\": \"Outdoor Power Equipment and Other Small Engine Mechanics\", \"Pop Detail d\": \"Size\", \"Count\": 2200}, {\"Population p\": \"Bicycle Repairers\", \"Pop Detail d\": \"Size\", \"Count\": 3460}, {\"Population p\": \"Recreational Vehicle Service Technicians\", \"Pop Detail d\": \"Size\", \"Count\": 1810}, {\"Population p\": \"Tire Repairers and Changers\", \"Pop Detail d\": \"Size\", \"Count\": 10940}, {\"Population p\": \"Mechanical Door Repairers\", \"Pop Detail d\": \"Size\", \"Count\": 2140}, {\"Population p\": \"Control and Valve Installers and Repairers, Except Mechanical Door\", \"Pop Detail d\": \"Size\", \"Count\": 3990}, {\"Population p\": \"Heating, Air Conditioning, and Refrigeration Mechanics and Installers\", \"Pop Detail d\": \"Size\", \"Count\": 29650}, {\"Population p\": \"Home Appliance Repairers\", \"Pop Detail d\": \"Size\", \"Count\": 2180}, {\"Population p\": \"Industrial Machinery Mechanics\", \"Pop Detail d\": \"Size\", \"Count\": 27170}, {\"Population p\": \"Maintenance Workers, Machinery\", \"Pop Detail d\": \"Size\", \"Count\": 6740}, {\"Population p\": \"Millwrights\", \"Pop Detail d\": \"Size\", \"Count\": 2710}, {\"Population p\": \"Electrical Power-Line Installers and Repairers\", \"Pop Detail d\": \"Size\", \"Count\": 6730}, {\"Population p\": \"Telecommunications Line Installers and Repairers\", \"Pop Detail d\": \"Size\", \"Count\": 14760}, {\"Population p\": \"Camera and Photographic Equipment Repairers\", \"Pop Detail d\": \"Size\", \"Count\": 610}, {\"Population p\": \"Medical Equipment Repairers\", \"Pop Detail d\": \"Size\", \"Count\": 5210}, {\"Population p\": \"Musical Instrument Repairers and Tuners\", \"Pop Detail d\": \"Size\", \"Count\": 930}, {\"Population p\": \"Watch and Clock Repairers\", \"Pop Detail d\": \"Size\", \"Count\": 400}, {\"Population p\": \"Precision Instrument and Equipment Repairers, All Other\", \"Pop Detail d\": \"Size\", \"Count\": 1960}, {\"Population p\": \"Maintenance and Repair Workers, General\", \"Pop Detail d\": \"Size\", \"Count\": 135160}, {\"Population p\": \"Wind Turbine Service Technicians\", \"Pop Detail d\": \"Size\", \"Count\": 480}, {\"Population p\": \"Coin, Vending, and Amusement Machine Servicers and Repairers\", \"Pop Detail d\": \"Size\", \"Count\": 3000}, {\"Population p\": \"Commercial Divers\", \"Pop Detail d\": \"Size\", \"Count\": 390}, {\"Population p\": \"Locksmiths and Safe Repairers\", \"Pop Detail d\": \"Size\", \"Count\": 2290}, {\"Population p\": \"Riggers\", \"Pop Detail d\": \"Size\", \"Count\": 2350}, {\"Population p\": \"Signal and Track Switch Repairers\", \"Pop Detail d\": \"Size\", \"Count\": 280}, {\"Population p\": \"Helpers--Installation, Maintenance, and Repair Workers\", \"Pop Detail d\": \"Size\", \"Count\": 10190}, {\"Population p\": \"Installation, Maintenance, and Repair Workers, All Other\", \"Pop Detail d\": \"Size\", \"Count\": 21640}, {\"Population p\": \"First-Line Supervisors of Production and Operating Workers\", \"Pop Detail d\": \"Size\", \"Count\": 49390}, {\"Population p\": \"Aircraft Structure, Surfaces, Rigging, and Systems Assemblers\", \"Pop Detail d\": \"Size\", \"Count\": 3120}, {\"Population p\": \"Coil Winders, Tapers, and Finishers\", \"Pop Detail d\": \"Size\", \"Count\": 1340}, {\"Population p\": \"Electrical, Electronic, and Electromechanical Assemblers, Except Coil Winders, Tapers, and Finishers\", \"Pop Detail d\": \"Size\", \"Count\": 41520}, {\"Population p\": \"Engine and Other Machine Assemblers\", \"Pop Detail d\": \"Size\", \"Count\": 1690}, {\"Population p\": \"Structural Metal Fabricators and Fitters\", \"Pop Detail d\": \"Size\", \"Count\": 5430}, {\"Population p\": \"Fiberglass Laminators and Fabricators\", \"Pop Detail d\": \"Size\", \"Count\": 1270}, {\"Population p\": \"Miscellaneous Assemblers and Fabricators\", \"Pop Detail d\": \"Size\", \"Count\": 110380}, {\"Population p\": \"Bakers\", \"Pop Detail d\": \"Size\", \"Count\": 23580}, {\"Population p\": \"Butchers and Meat Cutters\", \"Pop Detail d\": \"Size\", \"Count\": 24010}, {\"Population p\": \"Meat, Poultry, and Fish Cutters and Trimmers\", \"Pop Detail d\": \"Size\", \"Count\": 8000}, {\"Population p\": \"Slaughterers and Meat Packers\", \"Pop Detail d\": \"Size\", \"Count\": 4980}, {\"Population p\": \"Food and Tobacco Roasting, Baking, and Drying Machine Operators and Tenders\", \"Pop Detail d\": \"Size\", \"Count\": 1900}, {\"Population p\": \"Food Batchmakers\", \"Pop Detail d\": \"Size\", \"Count\": 17380}, {\"Population p\": \"Food Cooking Machine Operators and Tenders\", \"Pop Detail d\": \"Size\", \"Count\": 3660}, {\"Population p\": \"Food Processing Workers, All Other\", \"Pop Detail d\": \"Size\", \"Count\": 6200}, {\"Population p\": \"Extruding and Drawing Machine Setters, Operators, and Tenders, Metal and Plastic\", \"Pop Detail d\": \"Size\", \"Count\": 5490}, {\"Population p\": \"Forging Machine Setters, Operators, and Tenders, Metal and Plastic\", \"Pop Detail d\": \"Size\", \"Count\": 1610}, {\"Population p\": \"Rolling Machine Setters, Operators, and Tenders, Metal and Plastic\", \"Pop Detail d\": \"Size\", \"Count\": 1250}, {\"Population p\": \"Cutting, Punching, and Press Machine Setters, Operators, and Tenders, Metal and Plastic\", \"Pop Detail d\": \"Size\", \"Count\": 11800}, {\"Population p\": \"Drilling and Boring Machine Tool Setters, Operators, and Tenders, Metal and Plastic\", \"Pop Detail d\": \"Size\", \"Count\": 1890}, {\"Population p\": \"Grinding, Lapping, Polishing, and Buffing Machine Tool Setters, Operators, and Tenders, Metal and Plastic\", \"Pop Detail d\": \"Size\", \"Count\": 8180}, {\"Population p\": \"Lathe and Turning Machine Tool Setters, Operators, and Tenders, Metal and Plastic\", \"Pop Detail d\": \"Size\", \"Count\": 3060}, {\"Population p\": \"Milling and Planing Machine Setters, Operators, and Tenders, Metal and Plastic\", \"Pop Detail d\": \"Size\", \"Count\": 2390}, {\"Population p\": \"Machinists\", \"Pop Detail d\": \"Size\", \"Count\": 36120}, {\"Population p\": \"Metal-Refining Furnace Operators and Tenders\", \"Pop Detail d\": \"Size\", \"Count\": 460}, {\"Population p\": \"Pourers and Casters, Metal\", \"Pop Detail d\": \"Size\", \"Count\": 490}, {\"Population p\": \"Model Makers, Metal and Plastic\", \"Pop Detail d\": \"Size\", \"Count\": 300}, {\"Population p\": \"Patternmakers, Metal and Plastic\", \"Pop Detail d\": \"Size\", \"Count\": 50}, {\"Population p\": \"Foundry Mold and Coremakers\", \"Pop Detail d\": \"Size\", \"Count\": 600}, {\"Population p\": \"Molding, Coremaking, and Casting Machine Setters, Operators, and Tenders, Metal and Plastic\", \"Pop Detail d\": \"Size\", \"Count\": 7920}, {\"Population p\": \"Multiple Machine Tool Setters, Operators, and Tenders, Metal and Plastic\", \"Pop Detail d\": \"Size\", \"Count\": 5890}, {\"Population p\": \"Tool and Die Makers\", \"Pop Detail d\": \"Size\", \"Count\": 2700}, {\"Population p\": \"Welders, Cutters, Solderers, and Brazers\", \"Pop Detail d\": \"Size\", \"Count\": 28980}, {\"Population p\": \"Welding, Soldering, and Brazing Machine Setters, Operators, and Tenders\", \"Pop Detail d\": \"Size\", \"Count\": 2790}, {\"Population p\": \"Heat Treating Equipment Setters, Operators, and Tenders, Metal and Plastic\", \"Pop Detail d\": \"Size\", \"Count\": 1100}, {\"Population p\": \"Layout Workers, Metal and Plastic\", \"Pop Detail d\": \"Size\", \"Count\": 440}, {\"Population p\": \"Plating Machine Setters, Operators, and Tenders, Metal and Plastic\", \"Pop Detail d\": \"Size\", \"Count\": 5690}, {\"Population p\": \"Tool Grinders, Filers, and Sharpeners\", \"Pop Detail d\": \"Size\", \"Count\": 680}, {\"Population p\": \"Metal Workers and Plastic Workers, All Other\", \"Pop Detail d\": \"Size\", \"Count\": 2090}, {\"Population p\": \"Prepress Technicians and Workers\", \"Pop Detail d\": \"Size\", \"Count\": 3470}, {\"Population p\": \"Printing Press Operators\", \"Pop Detail d\": \"Size\", \"Count\": 14860}, {\"Population p\": \"Print Binding and Finishing Workers\", \"Pop Detail d\": \"Size\", \"Count\": 3790}, {\"Population p\": \"Laundry and Dry-Cleaning Workers\", \"Pop Detail d\": \"Size\", \"Count\": 16540}, {\"Population p\": \"Pressers, Textile, Garment, and Related Materials\", \"Pop Detail d\": \"Size\", \"Count\": 6560}, {\"Population p\": \"Sewing Machine Operators\", \"Pop Detail d\": \"Size\", \"Count\": 22800}, {\"Population p\": \"Shoe and Leather Workers and Repairers\", \"Pop Detail d\": \"Size\", \"Count\": 1180}, {\"Population p\": \"Shoe Machine Operators and Tenders\", \"Pop Detail d\": \"Size\", \"Count\": 70}, {\"Population p\": \"Sewers, Hand\", \"Pop Detail d\": \"Size\", \"Count\": 720}, {\"Population p\": \"Tailors, Dressmakers, and Custom Sewers\", \"Pop Detail d\": \"Size\", \"Count\": 3350}, {\"Population p\": \"Textile Bleaching and Dyeing Machine Operators and Tenders\", \"Pop Detail d\": \"Size\", \"Count\": 1420}, {\"Population p\": \"Textile Cutting Machine Setters, Operators, and Tenders\", \"Pop Detail d\": \"Size\", \"Count\": 1300}, {\"Population p\": \"Textile Knitting and Weaving Machine Setters, Operators, and Tenders\", \"Pop Detail d\": \"Size\", \"Count\": 1290}, {\"Population p\": \"Textile Winding, Twisting, and Drawing Out Machine Setters, Operators, and Tenders\", \"Pop Detail d\": \"Size\", \"Count\": 370}, {\"Population p\": \"Extruding and Forming Machine Setters, Operators, and Tenders, Synthetic and Glass Fibers\", \"Pop Detail d\": \"Size\", \"Count\": 720}, {\"Population p\": \"Fabric and Apparel Patternmakers\", \"Pop Detail d\": \"Size\", \"Count\": 1590}, {\"Population p\": \"Upholsterers\", \"Pop Detail d\": \"Size\", \"Count\": 2760}, {\"Population p\": \"Textile, Apparel, and Furnishings Workers, All Other\", \"Pop Detail d\": \"Size\", \"Count\": 1620}, {\"Population p\": \"Cabinetmakers and Bench Carpenters\", \"Pop Detail d\": \"Size\", \"Count\": 9260}, {\"Population p\": \"Furniture Finishers\", \"Pop Detail d\": \"Size\", \"Count\": 1510}, {\"Population p\": \"Sawing Machine Setters, Operators, and Tenders, Wood\", \"Pop Detail d\": \"Size\", \"Count\": 2950}, {\"Population p\": \"Woodworking Machine Setters, Operators, and Tenders, Except Sawing\", \"Pop Detail d\": \"Size\", \"Count\": 4280}, {\"Population p\": \"Woodworkers, All Other\", \"Pop Detail d\": \"Size\", \"Count\": 950}, {\"Population p\": \"Power Distributors and Dispatchers\", \"Pop Detail d\": \"Size\", \"Count\": 1150}, {\"Population p\": \"Power Plant Operators\", \"Pop Detail d\": \"Size\", \"Count\": 3820}, {\"Population p\": \"Stationary Engineers and Boiler Operators\", \"Pop Detail d\": \"Size\", \"Count\": 3270}, {\"Population p\": \"Water and Wastewater Treatment Plant and System Operators\", \"Pop Detail d\": \"Size\", \"Count\": 11400}, {\"Population p\": \"Chemical Plant and System Operators\", \"Pop Detail d\": \"Size\", \"Count\": 1560}, {\"Population p\": \"Gas Plant Operators\", \"Pop Detail d\": \"Size\", \"Count\": 890}, {\"Population p\": \"Petroleum Pump System Operators, Refinery Operators, and Gaugers\", \"Pop Detail d\": \"Size\", \"Count\": 4360}, {\"Population p\": \"Plant and System Operators, All Other\", \"Pop Detail d\": \"Size\", \"Count\": 1590}, {\"Population p\": \"Chemical Equipment Operators and Tenders\", \"Pop Detail d\": \"Size\", \"Count\": 3570}, {\"Population p\": \"Separating, Filtering, Clarifying, Precipitating, and Still Machine Setters, Operators, and Tenders\", \"Pop Detail d\": \"Size\", \"Count\": 8810}, {\"Population p\": \"Crushing, Grinding, and Polishing Machine Setters, Operators, and Tenders\", \"Pop Detail d\": \"Size\", \"Count\": 3130}, {\"Population p\": \"Grinding and Polishing Workers, Hand\", \"Pop Detail d\": \"Size\", \"Count\": 3770}, {\"Population p\": \"Mixing and Blending Machine Setters, Operators, and Tenders\", \"Pop Detail d\": \"Size\", \"Count\": 12200}, {\"Population p\": \"Cutters and Trimmers, Hand\", \"Pop Detail d\": \"Size\", \"Count\": 1690}, {\"Population p\": \"Cutting and Slicing Machine Setters, Operators, and Tenders\", \"Pop Detail d\": \"Size\", \"Count\": 4220}, {\"Population p\": \"Extruding, Forming, Pressing, and Compacting Machine Setters, Operators, and Tenders\", \"Pop Detail d\": \"Size\", \"Count\": 4960}, {\"Population p\": \"Furnace, Kiln, Oven, Drier, and Kettle Operators and Tenders\", \"Pop Detail d\": \"Size\", \"Count\": 830}, {\"Population p\": \"Inspectors, Testers, Sorters, Samplers, and Weighers\", \"Pop Detail d\": \"Size\", \"Count\": 58360}, {\"Population p\": \"Jewelers and Precious Stone and Metal Workers\", \"Pop Detail d\": \"Size\", \"Count\": 2660}, {\"Population p\": \"Dental Laboratory Technicians\", \"Pop Detail d\": \"Size\", \"Count\": 4960}, {\"Population p\": \"Medical Appliance Technicians\", \"Pop Detail d\": \"Size\", \"Count\": 1350}, {\"Population p\": \"Ophthalmic Laboratory Technicians\", \"Pop Detail d\": \"Size\", \"Count\": 3290}, {\"Population p\": \"Packaging and Filling Machine Operators and Tenders\", \"Pop Detail d\": \"Size\", \"Count\": 47860}, {\"Population p\": \"Painting, Coating, and Decorating Workers\", \"Pop Detail d\": \"Size\", \"Count\": 1200}, {\"Population p\": \"Coating, Painting, and Spraying Machine Setters, Operators, and Tenders\", \"Pop Detail d\": \"Size\", \"Count\": 12960}, {\"Population p\": \"Semiconductor Processing Technicians\", \"Pop Detail d\": \"Size\", \"Count\": 5010}, {\"Population p\": \"Photographic Process Workers and Processing Machine Operators\", \"Pop Detail d\": \"Size\", \"Count\": 2180}, {\"Population p\": \"Computer Numerically Controlled Tool Operators\", \"Pop Detail d\": \"Size\", \"Count\": 13140}, {\"Population p\": \"Computer Numerically Controlled Tool Programmers\", \"Pop Detail d\": \"Size\", \"Count\": 2690}, {\"Population p\": \"Adhesive Bonding Machine Operators and Tenders\", \"Pop Detail d\": \"Size\", \"Count\": 990}, {\"Population p\": \"Cleaning, Washing, and Metal Pickling Equipment Operators and Tenders\", \"Pop Detail d\": \"Size\", \"Count\": 1980}, {\"Population p\": \"Cooling and Freezing Equipment Operators and Tenders\", \"Pop Detail d\": \"Size\", \"Count\": 1280}, {\"Population p\": \"Etchers and Engravers\", \"Pop Detail d\": \"Size\", \"Count\": 790}, {\"Population p\": \"Molders, Shapers, and Casters, Except Metal and Plastic\", \"Pop Detail d\": \"Size\", \"Count\": 4690}, {\"Population p\": \"Paper Goods Machine Setters, Operators, and Tenders\", \"Pop Detail d\": \"Size\", \"Count\": 5460}, {\"Population p\": \"Tire Builders\", \"Pop Detail d\": \"Size\", \"Count\": 310}, {\"Population p\": \"Helpers--Production Workers\", \"Pop Detail d\": \"Size\", \"Count\": 26810}, {\"Population p\": \"Production Workers, All Other\", \"Pop Detail d\": \"Size\", \"Count\": 27860}, {\"Population p\": \"Aircraft Cargo Handling Supervisors\", \"Pop Detail d\": \"Size\", \"Count\": 1140}, {\"Population p\": \"First-Line Supervisors of Transportation and Material Moving Workers, Except Aircraft Cargo Handling Supervisors\", \"Pop Detail d\": \"Size\", \"Count\": 50040}, {\"Population p\": \"Airline Pilots, Copilots, and Flight Engineers\", \"Pop Detail d\": \"Size\", \"Count\": 10340}, {\"Population p\": \"Commercial Pilots\", \"Pop Detail d\": \"Size\", \"Count\": 4030}, {\"Population p\": \"Air Traffic Controllers\", \"Pop Detail d\": \"Size\", \"Count\": 2210}, {\"Population p\": \"Airfield Operations Specialists\", \"Pop Detail d\": \"Size\", \"Count\": 1830}, {\"Population p\": \"Flight Attendants\", \"Pop Detail d\": \"Size\", \"Count\": 16540}, {\"Population p\": \"Ambulance Drivers and Attendants, Except Emergency Medical Technicians\", \"Pop Detail d\": \"Size\", \"Count\": 1310}, {\"Population p\": \"Driver/Sales Workers\", \"Pop Detail d\": \"Size\", \"Count\": 43980}, {\"Population p\": \"Heavy and Tractor-Trailer Truck Drivers\", \"Pop Detail d\": \"Size\", \"Count\": 146730}, {\"Population p\": \"Light Truck Drivers\", \"Pop Detail d\": \"Size\", \"Count\": 110370}, {\"Population p\": \"Bus Drivers, Transit and Intercity\", \"Pop Detail d\": \"Size\", \"Count\": 30750}, {\"Population p\": \"Passenger Vehicle Drivers, Except Bus Drivers, Transit and Intercity\", \"Pop Detail d\": \"Size\", \"Count\": 56120}, {\"Population p\": \"Motor Vehicle Operators, All Other\", \"Pop Detail d\": \"Size\", \"Count\": 5590}, {\"Population p\": \"Locomotive Engineers\", \"Pop Detail d\": \"Size\", \"Count\": 1770}, {\"Population p\": \"Rail Yard Engineers, Dinkey Operators, and Hostlers\", \"Pop Detail d\": \"Size\", \"Count\": 890}, {\"Population p\": \"Railroad Brake, Signal, and Switch Operators and Locomotive Firers\", \"Pop Detail d\": \"Size\", \"Count\": 420}, {\"Population p\": \"Railroad Conductors and Yardmasters\", \"Pop Detail d\": \"Size\", \"Count\": 1660}, {\"Population p\": \"Subway and Streetcar Operators\", \"Pop Detail d\": \"Size\", \"Count\": 1730}, {\"Population p\": \"Rail Transportation Workers, All Other\", \"Pop Detail d\": \"Size\", \"Count\": 610}, {\"Population p\": \"Sailors and Marine Oilers\", \"Pop Detail d\": \"Size\", \"Count\": 1700}, {\"Population p\": \"Captains, Mates, and Pilots of Water Vessels\", \"Pop Detail d\": \"Size\", \"Count\": 1790}, {\"Population p\": \"Motorboat Operators\", \"Pop Detail d\": \"Size\", \"Count\": 70}, {\"Population p\": \"Ship Engineers\", \"Pop Detail d\": \"Size\", \"Count\": 310}, {\"Population p\": \"Bridge and Lock Tenders\", \"Pop Detail d\": \"Size\", \"Count\": 50}, {\"Population p\": \"Parking Attendants\", \"Pop Detail d\": \"Size\", \"Count\": 23580}, {\"Population p\": \"Automotive and Watercraft Service Attendants\", \"Pop Detail d\": \"Size\", \"Count\": 6760}, {\"Population p\": \"Traffic Technicians\", \"Pop Detail d\": \"Size\", \"Count\": 690}, {\"Population p\": \"Transportation Inspectors\", \"Pop Detail d\": \"Size\", \"Count\": 3080}, {\"Population p\": \"Passenger Attendants\", \"Pop Detail d\": \"Size\", \"Count\": 3960}, {\"Population p\": \"Aircraft Service Attendants and Transportation Workers, All Other\", \"Pop Detail d\": \"Size\", \"Count\": 2120}, {\"Population p\": \"Conveyor Operators and Tenders\", \"Pop Detail d\": \"Size\", \"Count\": 2180}, {\"Population p\": \"Crane and Tower Operators\", \"Pop Detail d\": \"Size\", \"Count\": 3530}, {\"Population p\": \"Dredge Operators\", \"Pop Detail d\": \"Size\", \"Count\": 90}, {\"Population p\": \"Industrial Truck and Tractor Operators\", \"Pop Detail d\": \"Size\", \"Count\": 64760}, {\"Population p\": \"Cleaners of Vehicles and Equipment\", \"Pop Detail d\": \"Size\", \"Count\": 59010}, {\"Population p\": \"Laborers and Freight, Stock, and Material Movers, Hand\", \"Pop Detail d\": \"Size\", \"Count\": 393460}, {\"Population p\": \"Machine Feeders and Offbearers\", \"Pop Detail d\": \"Size\", \"Count\": 7350}, {\"Population p\": \"Packers and Packagers, Hand\", \"Pop Detail d\": \"Size\", \"Count\": 98280}, {\"Population p\": \"Stockers and Order Fillers\", \"Pop Detail d\": \"Size\", \"Count\": 263730}, {\"Population p\": \"Pump Operators, Except Wellhead Pumpers\", \"Pop Detail d\": \"Size\", \"Count\": 450}, {\"Population p\": \"Wellhead Pumpers\", \"Pop Detail d\": \"Size\", \"Count\": 180}, {\"Population p\": \"Refuse and Recyclable Material Collectors\", \"Pop Detail d\": \"Size\", \"Count\": 13640}, {\"Population p\": \"Tank Car, Truck, and Ship Loaders\", \"Pop Detail d\": \"Size\", \"Count\": 870}, {\"Population p\": \"Material Moving Workers, All Other\", \"Pop Detail d\": \"Size\", \"Count\": 11890}, {\"Population p\": \"Uncounted Healthcare Practitioners and Technical Occupations\", \"Pop Detail d\": \"Size\", \"Count\": 6470}, {\"Population p\": \"Uncounted Building and Grounds Cleaning and Maintenance Occupations\", \"Pop Detail d\": \"Size\", \"Count\": 1220}, {\"Population p\": \"Uncounted Construction and Extraction Occupations\", \"Pop Detail d\": \"Size\", \"Count\": 1460}, {\"Population p\": \"Uncounted Farming, Fishing, and Forestry Occupations\", \"Pop Detail d\": \"Size\", \"Count\": 70}, {\"Population p\": \"Uncounted Installation, Maintenance, and Repair Occupations\", \"Pop Detail d\": \"Size\", \"Count\": 770}, {\"Population p\": \"Uncounted Production Occupations\", \"Pop Detail d\": \"Size\", \"Count\": 550}, {\"Population p\": \"Uncounted Architecture and Engineering Occupations\", \"Pop Detail d\": \"Size\", \"Count\": 10}, {\"Population p\": \"Uncounted Transportation and Material Moving Occupations\", \"Pop Detail d\": \"Size\", \"Count\": 1610}, {\"Population p\": \"Uncounted Office and Administrative Support Occupations\", \"Pop Detail d\": \"Size\", \"Count\": 550}, {\"Population p\": \"Uncounted Life, Physical, and Social Science Occupations\", \"Pop Detail d\": \"Size\", \"Count\": 2100}, {\"Population p\": \"Uncounted Business and Financial Operations Occupations\", \"Pop Detail d\": \"Size\", \"Count\": 35750}, {\"Population p\": \"Uncounted Management Occupations\", \"Pop Detail d\": \"Size\", \"Count\": 53740}, {\"Population p\": \"Uncounted Protective Service Occupations\", \"Pop Detail d\": \"Size\", \"Count\": 6150}]}}, {\"mode\": \"vega-lite\"});\n",
       "</script>"
      ],
      "text/plain": [
       "alt.Chart(...)"
      ]
     },
     "metadata": {},
     "output_type": "display_data"
    }
   ],
   "source": [
    "pop_df = population.detail_pd_df\n",
    "pop = to_sheet(pop_df)\n",
    "read_only(pop)\n",
    "\n",
    "display_pop = display_sheet(pop)\n",
    "display(widgets.VBox([display_pop]))\n",
    "display(visualize_data(pop_df))"
   ]
  },
  {
   "cell_type": "markdown",
   "metadata": {},
   "source": [
    "## Population Levels\n",
    "Protection levels for the given population."
   ]
  },
  {
   "cell_type": "code",
   "execution_count": 6,
   "metadata": {},
   "outputs": [
    {
     "data": {
      "application/vnd.jupyter.widget-view+json": {
       "model_id": "c4833df648184f9bbfc0c08aac2209f5",
       "version_major": 2,
       "version_minor": 0
      },
      "text/plain": [
       "VBox(children=(Sheet(cells=(Cell(choice=[], column_end=0, column_start=0, numeric_format=None, row_end=774, ro…"
      ]
     },
     "metadata": {},
     "output_type": "display_data"
    }
   ],
   "source": [
    "level_df = population.level_pm_df\n",
    "\n",
    "levels = to_sheet(level_df)\n",
    "levels.stretch_headers = 'none'\n",
    "read_only(levels)\n",
    "\n",
    "display(widgets.VBox([display_sheet(levels)]))\n",
    "# display(visualize_data(level_df)) # too many rows"
   ]
  },
  {
   "cell_type": "markdown",
   "metadata": {},
   "source": [
    "# Population Demand per Resource\n",
    "The daily burn rates of all resources for each subpopulation"
   ]
  },
  {
   "cell_type": "code",
   "execution_count": 7,
   "metadata": {},
   "outputs": [
    {
     "data": {
      "application/vnd.jupyter.widget-view+json": {
       "model_id": "4a3a44f95ac34e21ae08e753345f38f8",
       "version_major": 2,
       "version_minor": 0
      },
      "text/plain": [
       "VBox(children=(Sheet(cells=(Cell(choice=[], column_end=0, column_start=0, numeric_format=None, row_end=774, ro…"
      ]
     },
     "metadata": {},
     "output_type": "display_data"
    }
   ],
   "source": [
    "demand_pn_df = demand.demand_pn_df\n",
    "demand_sheet = to_sheet(demand_pn_df)\n",
    "read_only(demand_sheet)\n",
    "\n",
    "display(widgets.VBox([display_sheet(demand_sheet)]))\n",
    "# visualize_data(demand_pn_df) # too many rows"
   ]
  },
  {
   "cell_type": "markdown",
   "metadata": {},
   "source": [
    "## Experimenting with Vuetify"
   ]
  },
  {
   "cell_type": "code",
   "execution_count": 8,
   "metadata": {},
   "outputs": [],
   "source": [
    "# import ipyvuetify as v\n",
    "\n",
    "# vslider = v.Slider(value=30, thumb_label=True, min=0, max=120)\n",
    "# vslider\n",
    "\n",
    "# v.Container(children = [\n",
    "#     display_sheet(demand_sheet)\n",
    "# ])"
   ]
  },
  {
   "cell_type": "code",
   "execution_count": null,
   "metadata": {},
   "outputs": [],
   "source": [
    "import ipywidgets as widgets\n",
    "sheet = ipysheet.sheet(rows=3, columns=2, column_headers=False, row_headers=False)\n",
    "cell_a = ipysheet.cell(0, 1, 1, label_left='a')\n",
    "cell_b = ipysheet.cell(1, 1, 2, label_left='b')\n",
    "cell_sum = ipysheet.cell(2, 1, 3, label_left='sum', read_only=True)\n",
    "\n",
    "# create a slider linked to cell a\n",
    "slider = widgets.FloatSlider(min=-10, max=10, description='a')\n",
    "widgets.jslink((cell_a, 'value'), (slider, 'value'))\n",
    "\n",
    "# changes in a or b should trigger this function\n",
    "def calculate(change):\n",
    "    cell_sum.value = cell_a.value + cell_b.value\n",
    "\n",
    "sheet.cells.observe(calculate, 'value')\n",
    "\n",
    "\n",
    "widgets.VBox([sheet, slider])"
   ]
  }
 ],
 "metadata": {
  "kernelspec": {
   "display_name": "Python 3",
   "language": "python",
   "name": "python3"
  },
  "language_info": {
   "codemirror_mode": {
    "name": "ipython",
    "version": 3
   },
   "file_extension": ".py",
   "mimetype": "text/x-python",
   "name": "python",
   "nbconvert_exporter": "python",
   "pygments_lexer": "ipython3",
   "version": "3.8.5"
  }
 },
 "nbformat": 4,
 "nbformat_minor": 4
}
