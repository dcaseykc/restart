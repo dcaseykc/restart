{
 "cells": [
  {
   "cell_type": "markdown",
   "metadata": {},
   "source": [
    "# COVID-19 Decision Stockpile Analysis\n",
    "To use the surge model, change the slider for stockpile days and the table below will change to indicate minimum inventory required.\n",
    "\n",
    "Use caution when interpreting these numbers"
   ]
  },
  {
   "cell_type": "code",
   "execution_count": 7,
   "metadata": {},
   "outputs": [],
   "source": [
    "import pandas as pd\n",
    "import ipywidgets as widgets\n",
    "import sys\n",
    "\n",
    "sys.path.append('../src')\n",
    "from restart import NoteCompose\n",
    "from output import Output\n",
    "from ipywidgets import Layout\n",
    "\n",
    "from util import set_config\n",
    "\n",
    "import ipysheet\n",
    "import numpy\n",
    "\n",
    "def display_sheet(sheet):\n",
    "    df = to_df(sheet)\n",
    "    index_name = df.index.name\n",
    "    headers = list(df.index)\n",
    "    df.insert(loc=0, column=index_name, value=headers)\n",
    "    sheet = ipysheet.pandas_loader.from_dataframe(df)\n",
    "    sheet.layout = Layout(max_height='300px', overflow_y='scroll')\n",
    "    sheet.row_headers = False\n",
    "    return sheet\n",
    "\n",
    "def to_sheet(df):\n",
    "    return ipysheet.pandas_loader.from_dataframe(df)\n",
    "\n",
    "def to_df(sheet):\n",
    "    return ipysheet.pandas_loader.to_dataframe(sheet)\n",
    "\n",
    "def read_only(sheet):\n",
    "    for cell in sheet.cells:\n",
    "        setattr(cell, 'read_only', True)\n",
    "\n",
    "def to_config(sheet):\n",
    "    new_config['Data']['Demand m']['Level to Resource mn'] = np.array(to_df(sheet)).tolist()\n",
    "    return new_config\n",
    "    \n",
    "def on_change(change): \n",
    "    new_sheet = sheet"
   ]
  },
  {
   "cell_type": "markdown",
   "metadata": {},
   "source": [
    "## Bootstrap the Model\n",
    "Select the parameters here to initialize the model (not implemented)"
   ]
  },
  {
   "cell_type": "code",
   "execution_count": 8,
   "metadata": {},
   "outputs": [],
   "source": [
    "config = set_config('../src')\n",
    "restart = NoteCompose(configdir='../src', population='oes', state='California', demand='washington')\n",
    "population = restart.model.population\n",
    "resource = restart.model.resource\n",
    "demand = restart.model.demand"
   ]
  },
  {
   "cell_type": "markdown",
   "metadata": {},
   "source": [
    "## Inventory Calculations"
   ]
  },
  {
   "cell_type": "code",
   "execution_count": 9,
   "metadata": {},
   "outputs": [
    {
     "data": {
      "application/vnd.jupyter.widget-view+json": {
       "model_id": "622e9a71bd2d4dc1a17942b5a00d9ac0",
       "version_major": 2,
       "version_minor": 0
      },
      "text/plain": [
       "interactive(children=(IntSlider(value=30, description='days', max=90, min=-30), Output()), _dom_classes=('widg…"
      ]
     },
     "metadata": {},
     "output_type": "display_data"
    },
    {
     "data": {
      "text/plain": [
       "<function __main__.set_stock(days)>"
      ]
     },
     "execution_count": 9,
     "metadata": {},
     "output_type": "execute_result"
    }
   ],
   "source": [
    "def set_stock(days):\n",
    "    resource.demand(resource.inventory_ln_df)\n",
    "    resource.set_inv_min(demand.level_total_demand_ln_df, days)\n",
    "    stockpile = to_sheet(resource.inventory_ln_df)\n",
    "    sheet = display_sheet(stockpile)\n",
    "    display(sheet)\n",
    "    \n",
    "widgets.interact(set_stock, days=30, continuous_update=False)"
   ]
  },
  {
   "cell_type": "markdown",
   "metadata": {},
   "source": [
    "## Editable Burn Rates\n",
    "These are burn rates per day for each resource, based on Washington protection level."
   ]
  },
  {
   "cell_type": "code",
   "execution_count": 10,
   "metadata": {},
   "outputs": [
    {
     "data": {
      "application/vnd.jupyter.widget-view+json": {
       "model_id": "066266d81499476c8ee3785589b28826",
       "version_major": 2,
       "version_minor": 0
      },
      "text/plain": [
       "VBox(children=(Sheet(cells=(Cell(choice=[], column_end=0, column_start=0, row_end=6, row_start=0, squeeze_row=…"
      ]
     },
     "metadata": {},
     "output_type": "display_data"
    }
   ],
   "source": [
    "burn_df = demand.level_to_res_mn_df\n",
    "burn = to_sheet(burn_df)\n",
    "\n",
    "widgets.VBox([burn])"
   ]
  },
  {
   "cell_type": "markdown",
   "metadata": {},
   "source": [
    "## Population Details\n",
    "Right now the only population attribute is size, but there will be more."
   ]
  },
  {
   "cell_type": "code",
   "execution_count": 11,
   "metadata": {},
   "outputs": [
    {
     "data": {
      "application/vnd.jupyter.widget-view+json": {
       "model_id": "76d2a06d8b624718802d304f504ab20c",
       "version_major": 2,
       "version_minor": 0
      },
      "text/plain": [
       "VBox(children=(Sheet(cells=(Cell(choice=[], column_end=0, column_start=0, numeric_format=None, row_end=774, ro…"
      ]
     },
     "metadata": {},
     "output_type": "display_data"
    }
   ],
   "source": [
    "pop_df = population.detail_pd_df\n",
    "pop = to_sheet(pop_df)\n",
    "read_only(pop)\n",
    "\n",
    "display_pop = display_sheet(pop)\n",
    "widgets.VBox([display_pop])"
   ]
  },
  {
   "cell_type": "markdown",
   "metadata": {},
   "source": [
    "## Population Levels\n",
    "Protection levels for the given population."
   ]
  },
  {
   "cell_type": "code",
   "execution_count": 12,
   "metadata": {},
   "outputs": [
    {
     "data": {
      "application/vnd.jupyter.widget-view+json": {
       "model_id": "deb4fc4e6b56452d98f925fb69d40b01",
       "version_major": 2,
       "version_minor": 0
      },
      "text/plain": [
       "VBox(children=(Sheet(cells=(Cell(choice=[], column_end=0, column_start=0, numeric_format=None, row_end=774, ro…"
      ]
     },
     "metadata": {},
     "output_type": "display_data"
    }
   ],
   "source": [
    "level_df = population.level_pm_df\n",
    "\n",
    "levels = to_sheet(level_df)\n",
    "levels.stretch_headers = 'none'\n",
    "read_only(levels)\n",
    "\n",
    "widgets.VBox([display_sheet(levels)])"
   ]
  },
  {
   "cell_type": "markdown",
   "metadata": {},
   "source": [
    "# Population Demand per Resource\n",
    "The daily burn rates of all resources for each subpopulation"
   ]
  },
  {
   "cell_type": "code",
   "execution_count": 13,
   "metadata": {},
   "outputs": [
    {
     "data": {
      "application/vnd.jupyter.widget-view+json": {
       "model_id": "5fe1be4d0ec04f089bcd095ff48d8f86",
       "version_major": 2,
       "version_minor": 0
      },
      "text/plain": [
       "VBox(children=(Sheet(cells=(Cell(choice=[], column_end=0, column_start=0, numeric_format=None, row_end=774, ro…"
      ]
     },
     "metadata": {},
     "output_type": "display_data"
    }
   ],
   "source": [
    "demand_pn_df = demand.demand_pn_df\n",
    "demand_sheet = to_sheet(demand_pn_df)\n",
    "read_only(demand_sheet)\n",
    "\n",
    "widgets.VBox([display_sheet(demand_sheet)])"
   ]
  },
  {
   "cell_type": "markdown",
   "metadata": {},
   "source": [
    "## Experimenting with Vuetify"
   ]
  },
  {
   "cell_type": "code",
   "execution_count": 1,
   "metadata": {},
   "outputs": [],
   "source": [
    "# import ipyvuetify as v\n",
    "\n",
    "# vslider = v.Slider(value=30, thumb_label=True, min=0, max=120)\n",
    "# vslider\n",
    "\n",
    "# v.Container(children = [\n",
    "#     display_sheet(demand_sheet)\n",
    "# ])"
   ]
  }
 ],
 "metadata": {
  "kernelspec": {
   "display_name": "Python 3",
   "language": "python",
   "name": "python3"
  },
  "language_info": {
   "codemirror_mode": {
    "name": "ipython",
    "version": 3
   },
   "file_extension": ".py",
   "mimetype": "text/x-python",
   "name": "python",
   "nbconvert_exporter": "python",
   "pygments_lexer": "ipython3",
   "version": "3.8.5"
  }
 },
 "nbformat": 4,
 "nbformat_minor": 4
}
