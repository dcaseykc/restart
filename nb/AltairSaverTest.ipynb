{
 "cells": [
  {
   "cell_type": "code",
   "execution_count": 1,
   "metadata": {},
   "outputs": [
    {
     "ename": "ModuleNotFoundError",
     "evalue": "No module named 'altair'",
     "output_type": "error",
     "traceback": [
      "\u001b[0;31m\u001b[0m",
      "\u001b[0;31mModuleNotFoundError\u001b[0mTraceback (most recent call last)",
      "\u001b[0;32m<ipython-input-1-06ec54362f05>\u001b[0m in \u001b[0;36m<module>\u001b[0;34m\u001b[0m\n\u001b[1;32m      1\u001b[0m \u001b[0;32mimport\u001b[0m \u001b[0msys\u001b[0m\u001b[0;34m\u001b[0m\u001b[0;34m\u001b[0m\u001b[0m\n\u001b[1;32m      2\u001b[0m \u001b[0;32mimport\u001b[0m \u001b[0mpandas\u001b[0m \u001b[0;32mas\u001b[0m \u001b[0mpd\u001b[0m\u001b[0;34m\u001b[0m\u001b[0;34m\u001b[0m\u001b[0m\n\u001b[0;32m----> 3\u001b[0;31m \u001b[0;32mimport\u001b[0m \u001b[0maltair\u001b[0m \u001b[0;32mas\u001b[0m \u001b[0malt\u001b[0m\u001b[0;34m\u001b[0m\u001b[0;34m\u001b[0m\u001b[0m\n\u001b[0m\u001b[1;32m      4\u001b[0m \u001b[0;32mimport\u001b[0m \u001b[0mipywidgets\u001b[0m \u001b[0;32mas\u001b[0m \u001b[0mwidgets\u001b[0m\u001b[0;34m\u001b[0m\u001b[0;34m\u001b[0m\u001b[0m\n\u001b[1;32m      5\u001b[0m \u001b[0msys\u001b[0m\u001b[0;34m.\u001b[0m\u001b[0mpath\u001b[0m\u001b[0;34m.\u001b[0m\u001b[0mappend\u001b[0m\u001b[0;34m(\u001b[0m\u001b[0;34m'../src'\u001b[0m\u001b[0;34m)\u001b[0m\u001b[0;34m\u001b[0m\u001b[0;34m\u001b[0m\u001b[0m\n",
      "\u001b[0;31mModuleNotFoundError\u001b[0m: No module named 'altair'"
     ]
    }
   ],
   "source": [
    "import sys\n",
    "import pandas as pd\n",
    "import altair as alt\n",
    "import ipywidgets as widgets\n",
    "sys.path.append('../src')\n",
    "from restart import NoteCompose\n",
    "from util import set_config, to_df, to_sheet, display_population, format_population\n",
    "\n",
    "config = set_config('../src')\n",
    "restart = NoteCompose(configdir='../src/', population='oes', state='California')\n",
    "population = restart.model.population\n",
    "resource = restart.model.resource\n",
    "demand = restart.model.demand\n",
    "\n",
    "def visualize_data(df, x=None, y=None, spacing=20):\n",
    "    df.index.name = \"Label\" if None else df.index.name\n",
    "    df_reset = df.reset_index()\n",
    "    df_melt = df_reset.melt(id_vars=df.index.name, value_name=\"Count\")\n",
    "    mapping = [\n",
    "        [\"x\", alt.X],\n",
    "        [\"column\", alt.Column],\n",
    "        [\"color\", alt.Color],\n",
    "        [\"size\", alt.Size],\n",
    "    ]\n",
    "    y = df_melt.columns[-1]\n",
    "    y_alt = y + \":Q\"\n",
    "    encoding = {\"y\": alt.Y(y_alt)}\n",
    "\n",
    "    for col in range(0, df_melt.shape[1] - 1):\n",
    "        var = df_melt.columns[col]\n",
    "        title = var.rsplit(\" \", 1)[0]\n",
    "        if col == 0:\n",
    "            encoding[mapping[col][0]] = mapping[col][1](\n",
    "                var + \":N\", title=None\n",
    "            )\n",
    "            encoding[mapping[col + 2][0]] = mapping[col][1](var + \":N\", title=title)\n",
    "        elif col == 1:\n",
    "            encoding[mapping[col][0]] = mapping[col][1](\n",
    "                var + \":N\", spacing=spacing, title=title\n",
    "            )\n",
    "        else:\n",
    "            encoding[mapping[col + 1][0]] = mapping[col][1](var + \":N\")\n",
    "    return alt.Chart(df_melt, encoding=encoding).mark_bar()\n",
    "\n",
    "# Relevant Links for Altair Renderer Framework:\n",
    "#  - https://altair-viz.github.io/user_guide/display_frontends.html#altair-s-renderer-framework\n",
    "#  - https://altair-viz.github.io/user_guide/display_frontends.html#renderer-api\n",
    "#  - https://altair-viz.github.io/user_guide/custom_renderers.html\n",
    "# Seemingly Relevant Stack Overflow Post:\n",
    "#  - https://stackoverflow.com/questions/62601904/altair-saver-valueerror-unsupported-format-png\n",
    "# altair_saver Image Rendering Installation Info:\n",
    "#  - https://github.com/altair-viz/altair_saver#additional-requirements"
   ]
  },
  {
   "cell_type": "code",
   "execution_count": null,
   "metadata": {},
   "outputs": [],
   "source": [
    "chart = visualize_data(demand.demand_per_unit_map_dn_um.df)\n",
    "\n",
    "alt.renderers.enable(\"default\") #works\n",
    "\n",
    "display(chart)\n",
    "\n",
    "alt.renderers.enable(\"altair_saver\", fmts=[\"svg\"]) #doesn't work\n",
    "\n",
    "display(chart)"
   ]
  }
 ],
 "metadata": {
  "kernelspec": {
   "display_name": "Python 3",
   "language": "python",
   "name": "python3"
  },
  "language_info": {
   "codemirror_mode": {
    "name": "ipython",
    "version": 3
   },
   "file_extension": ".py",
   "mimetype": "text/x-python",
   "name": "python",
   "nbconvert_exporter": "python",
   "pygments_lexer": "ipython3",
   "version": "3.8.5"
  }
 },
 "nbformat": 4,
 "nbformat_minor": 4
}
