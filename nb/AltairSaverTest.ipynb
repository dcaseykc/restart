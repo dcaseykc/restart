{
 "cells": [
  {
   "cell_type": "code",
   "execution_count": 1,
   "metadata": {},
   "outputs": [],
   "source": [
    "import sys\n",
    "import pandas as pd\n",
    "import altair as alt\n",
    "import ipywidgets as widgets\n",
    "sys.path.append('../src')\n",
    "from restart import NoteCompose\n",
    "from util import set_config, to_df, to_sheet, display_population, format_population\n",
    "\n",
    "config = set_config('../src')\n",
    "restart = NoteCompose(configdir='../src/', population='oes', state='California')\n",
    "population = restart.model.population\n",
    "resource = restart.model.resource\n",
    "demand = restart.model.demand\n",
    "\n",
    "def visualize_data(df, x=None, y=None, spacing=20):\n",
    "    df.index.name = \"Label\" if None else df.index.name\n",
    "    df_reset = df.reset_index()\n",
    "    df_melt = df_reset.melt(id_vars=df.index.name, value_name=\"Count\")\n",
    "    mapping = [\n",
    "        [\"x\", alt.X],\n",
    "        [\"column\", alt.Column],\n",
    "        [\"color\", alt.Color],\n",
    "        [\"size\", alt.Size],\n",
    "    ]\n",
    "    y = df_melt.columns[-1]\n",
    "    y_alt = y + \":Q\"\n",
    "    encoding = {\"y\": alt.Y(y_alt)}\n",
    "\n",
    "    for col in range(0, df_melt.shape[1] - 1):\n",
    "        var = df_melt.columns[col]\n",
    "        title = var.rsplit(\" \", 1)[0]\n",
    "        if col == 0:\n",
    "            encoding[mapping[col][0]] = mapping[col][1](\n",
    "                var + \":N\", title=None\n",
    "            )\n",
    "            encoding[mapping[col + 2][0]] = mapping[col][1](var + \":N\", title=title)\n",
    "        elif col == 1:\n",
    "            encoding[mapping[col][0]] = mapping[col][1](\n",
    "                var + \":N\", spacing=spacing, title=title\n",
    "            )\n",
    "        else:\n",
    "            encoding[mapping[col + 1][0]] = mapping[col][1](var + \":N\")\n",
    "    return alt.Chart(df_melt, encoding=encoding).mark_bar()\n",
    "\n",
    "# Relevant Links for Altair Renderer Framework:\n",
    "#  - https://altair-viz.github.io/user_guide/display_frontends.html#altair-s-renderer-framework\n",
    "#  - https://altair-viz.github.io/user_guide/display_frontends.html#renderer-api\n",
    "#  - https://altair-viz.github.io/user_guide/custom_renderers.html\n",
    "# Seemingly Relevant Stack Overflow Post:\n",
    "#  - https://stackoverflow.com/questions/62601904/altair-saver-valueerror-unsupported-format-png\n",
    "# altair_saver Image Rendering Installation Info:\n",
    "#  - https://github.com/altair-viz/altair_saver#additional-requirements"
   ]
  },
  {
   "cell_type": "code",
   "execution_count": 2,
   "metadata": {},
   "outputs": [
    {
     "data": {
      "text/html": [
       "\n",
       "<div id=\"altair-viz-f9490c88e7a745b68765e99cdae4c5a8\"></div>\n",
       "<script type=\"text/javascript\">\n",
       "  (function(spec, embedOpt){\n",
       "    let outputDiv = document.currentScript.previousElementSibling;\n",
       "    if (outputDiv.id !== \"altair-viz-f9490c88e7a745b68765e99cdae4c5a8\") {\n",
       "      outputDiv = document.getElementById(\"altair-viz-f9490c88e7a745b68765e99cdae4c5a8\");\n",
       "    }\n",
       "    const paths = {\n",
       "      \"vega\": \"https://cdn.jsdelivr.net/npm//vega@5?noext\",\n",
       "      \"vega-lib\": \"https://cdn.jsdelivr.net/npm//vega-lib?noext\",\n",
       "      \"vega-lite\": \"https://cdn.jsdelivr.net/npm//vega-lite@4.8.1?noext\",\n",
       "      \"vega-embed\": \"https://cdn.jsdelivr.net/npm//vega-embed@6?noext\",\n",
       "    };\n",
       "\n",
       "    function loadScript(lib) {\n",
       "      return new Promise(function(resolve, reject) {\n",
       "        var s = document.createElement('script');\n",
       "        s.src = paths[lib];\n",
       "        s.async = true;\n",
       "        s.onload = () => resolve(paths[lib]);\n",
       "        s.onerror = () => reject(`Error loading script: ${paths[lib]}`);\n",
       "        document.getElementsByTagName(\"head\")[0].appendChild(s);\n",
       "      });\n",
       "    }\n",
       "\n",
       "    function showError(err) {\n",
       "      outputDiv.innerHTML = `<div class=\"error\" style=\"color:red;\">${err}</div>`;\n",
       "      throw err;\n",
       "    }\n",
       "\n",
       "    function displayChart(vegaEmbed) {\n",
       "      vegaEmbed(outputDiv, spec, embedOpt)\n",
       "        .catch(err => showError(`Javascript Error: ${err.message}<br>This usually means there's a typo in your chart specification. See the javascript console for the full traceback.`));\n",
       "    }\n",
       "\n",
       "    if(typeof define === \"function\" && define.amd) {\n",
       "      requirejs.config({paths});\n",
       "      require([\"vega-embed\"], displayChart, err => showError(`Error loading script: ${err.message}`));\n",
       "    } else if (typeof vegaEmbed === \"function\") {\n",
       "      displayChart(vegaEmbed);\n",
       "    } else {\n",
       "      loadScript(\"vega\")\n",
       "        .then(() => loadScript(\"vega-lite\"))\n",
       "        .then(() => loadScript(\"vega-embed\"))\n",
       "        .catch(showError)\n",
       "        .then(() => displayChart(vegaEmbed));\n",
       "    }\n",
       "  })({\"config\": {\"view\": {\"continuousWidth\": 400, \"continuousHeight\": 300}}, \"data\": {\"name\": \"data-efc3c27fd0c735105b710df34194ce38\"}, \"mark\": \"bar\", \"encoding\": {\"y\": {\"type\": \"quantitative\", \"field\": \"Count\"}, \"x\": {\"type\": \"nominal\", \"field\": \"Demand for Resource (d)\", \"title\": null}, \"color\": {\"type\": \"nominal\", \"field\": \"Demand for Resource (d)\", \"title\": \"Demand for Resource\"}, \"column\": {\"type\": \"nominal\", \"field\": \"Resource (n)\", \"spacing\": 20, \"title\": \"Resource\"}}, \"$schema\": \"https://vega.github.io/schema/vega-lite/v4.8.1.json\", \"datasets\": {\"data-efc3c27fd0c735105b710df34194ce38\": [{\"Demand for Resource (d)\": \"WA0\", \"Resource (n)\": \"N95 Surgical\", \"Count\": 0.0}, {\"Demand for Resource (d)\": \"WA1\", \"Resource (n)\": \"N95 Surgical\", \"Count\": 0.0}, {\"Demand for Resource (d)\": \"WA2\", \"Resource (n)\": \"N95 Surgical\", \"Count\": 0.0}, {\"Demand for Resource (d)\": \"WA3\", \"Resource (n)\": \"N95 Surgical\", \"Count\": 0.0}, {\"Demand for Resource (d)\": \"WA4\", \"Resource (n)\": \"N95 Surgical\", \"Count\": 0.0}, {\"Demand for Resource (d)\": \"WA5\", \"Resource (n)\": \"N95 Surgical\", \"Count\": 0.0}, {\"Demand for Resource (d)\": \"WA6\", \"Resource (n)\": \"N95 Surgical\", \"Count\": 1.18}, {\"Demand for Resource (d)\": \"WA0\", \"Resource (n)\": \"N95 Non-surgical\", \"Count\": 0.0}, {\"Demand for Resource (d)\": \"WA1\", \"Resource (n)\": \"N95 Non-surgical\", \"Count\": 0.0}, {\"Demand for Resource (d)\": \"WA2\", \"Resource (n)\": \"N95 Non-surgical\", \"Count\": 0.0}, {\"Demand for Resource (d)\": \"WA3\", \"Resource (n)\": \"N95 Non-surgical\", \"Count\": 0.0}, {\"Demand for Resource (d)\": \"WA4\", \"Resource (n)\": \"N95 Non-surgical\", \"Count\": 0.05}, {\"Demand for Resource (d)\": \"WA5\", \"Resource (n)\": \"N95 Non-surgical\", \"Count\": 1.0}, {\"Demand for Resource (d)\": \"WA6\", \"Resource (n)\": \"N95 Non-surgical\", \"Count\": 0.0}, {\"Demand for Resource (d)\": \"WA0\", \"Resource (n)\": \"ASTM 3 Mask\", \"Count\": 0.0}, {\"Demand for Resource (d)\": \"WA1\", \"Resource (n)\": \"ASTM 3 Mask\", \"Count\": 0.0}, {\"Demand for Resource (d)\": \"WA2\", \"Resource (n)\": \"ASTM 3 Mask\", \"Count\": 0.0}, {\"Demand for Resource (d)\": \"WA3\", \"Resource (n)\": \"ASTM 3 Mask\", \"Count\": 0.0}, {\"Demand for Resource (d)\": \"WA4\", \"Resource (n)\": \"ASTM 3 Mask\", \"Count\": 1.0}, {\"Demand for Resource (d)\": \"WA5\", \"Resource (n)\": \"ASTM 3 Mask\", \"Count\": 2.0}, {\"Demand for Resource (d)\": \"WA6\", \"Resource (n)\": \"ASTM 3 Mask\", \"Count\": 4.03}, {\"Demand for Resource (d)\": \"WA0\", \"Resource (n)\": \"ASTM 1-2 Mask\", \"Count\": 0.0}, {\"Demand for Resource (d)\": \"WA1\", \"Resource (n)\": \"ASTM 1-2 Mask\", \"Count\": 0.0}, {\"Demand for Resource (d)\": \"WA2\", \"Resource (n)\": \"ASTM 1-2 Mask\", \"Count\": 0.0}, {\"Demand for Resource (d)\": \"WA3\", \"Resource (n)\": \"ASTM 1-2 Mask\", \"Count\": 1.0}, {\"Demand for Resource (d)\": \"WA4\", \"Resource (n)\": \"ASTM 1-2 Mask\", \"Count\": 0.0}, {\"Demand for Resource (d)\": \"WA5\", \"Resource (n)\": \"ASTM 1-2 Mask\", \"Count\": 1.0}, {\"Demand for Resource (d)\": \"WA6\", \"Resource (n)\": \"ASTM 1-2 Mask\", \"Count\": 1.0}, {\"Demand for Resource (d)\": \"WA0\", \"Resource (n)\": \"Non ASTM Mask\", \"Count\": 0.0}, {\"Demand for Resource (d)\": \"WA1\", \"Resource (n)\": \"Non ASTM Mask\", \"Count\": 1.0}, {\"Demand for Resource (d)\": \"WA2\", \"Resource (n)\": \"Non ASTM Mask\", \"Count\": 2.0}, {\"Demand for Resource (d)\": \"WA3\", \"Resource (n)\": \"Non ASTM Mask\", \"Count\": 2.0}, {\"Demand for Resource (d)\": \"WA4\", \"Resource (n)\": \"Non ASTM Mask\", \"Count\": 3.0}, {\"Demand for Resource (d)\": \"WA5\", \"Resource (n)\": \"Non ASTM Mask\", \"Count\": 0.0}, {\"Demand for Resource (d)\": \"WA6\", \"Resource (n)\": \"Non ASTM Mask\", \"Count\": 0.05}, {\"Demand for Resource (d)\": \"WA0\", \"Resource (n)\": \"Face Shield\", \"Count\": 0.0}, {\"Demand for Resource (d)\": \"WA1\", \"Resource (n)\": \"Face Shield\", \"Count\": 0.02}, {\"Demand for Resource (d)\": \"WA2\", \"Resource (n)\": \"Face Shield\", \"Count\": 0.04}, {\"Demand for Resource (d)\": \"WA3\", \"Resource (n)\": \"Face Shield\", \"Count\": 0.08}, {\"Demand for Resource (d)\": \"WA4\", \"Resource (n)\": \"Face Shield\", \"Count\": 0.12}, {\"Demand for Resource (d)\": \"WA5\", \"Resource (n)\": \"Face Shield\", \"Count\": 0.18}, {\"Demand for Resource (d)\": \"WA6\", \"Resource (n)\": \"Face Shield\", \"Count\": 0.27}, {\"Demand for Resource (d)\": \"WA0\", \"Resource (n)\": \"Gowns\", \"Count\": 0.0}, {\"Demand for Resource (d)\": \"WA1\", \"Resource (n)\": \"Gowns\", \"Count\": 0.01}, {\"Demand for Resource (d)\": \"WA2\", \"Resource (n)\": \"Gowns\", \"Count\": 0.02}, {\"Demand for Resource (d)\": \"WA3\", \"Resource (n)\": \"Gowns\", \"Count\": 0.03}, {\"Demand for Resource (d)\": \"WA4\", \"Resource (n)\": \"Gowns\", \"Count\": 0.05}, {\"Demand for Resource (d)\": \"WA5\", \"Resource (n)\": \"Gowns\", \"Count\": 1.5}, {\"Demand for Resource (d)\": \"WA6\", \"Resource (n)\": \"Gowns\", \"Count\": 3.65}, {\"Demand for Resource (d)\": \"WA0\", \"Resource (n)\": \"Gloves\", \"Count\": 0.0}, {\"Demand for Resource (d)\": \"WA1\", \"Resource (n)\": \"Gloves\", \"Count\": 0.5}, {\"Demand for Resource (d)\": \"WA2\", \"Resource (n)\": \"Gloves\", \"Count\": 1.0}, {\"Demand for Resource (d)\": \"WA3\", \"Resource (n)\": \"Gloves\", \"Count\": 2.0}, {\"Demand for Resource (d)\": \"WA4\", \"Resource (n)\": \"Gloves\", \"Count\": 4.0}, {\"Demand for Resource (d)\": \"WA5\", \"Resource (n)\": \"Gloves\", \"Count\": 8.0}, {\"Demand for Resource (d)\": \"WA6\", \"Resource (n)\": \"Gloves\", \"Count\": 12.0}, {\"Demand for Resource (d)\": \"WA0\", \"Resource (n)\": \"Shoe Covers\", \"Count\": 0.0}, {\"Demand for Resource (d)\": \"WA1\", \"Resource (n)\": \"Shoe Covers\", \"Count\": 0.0}, {\"Demand for Resource (d)\": \"WA2\", \"Resource (n)\": \"Shoe Covers\", \"Count\": 0.0}, {\"Demand for Resource (d)\": \"WA3\", \"Resource (n)\": \"Shoe Covers\", \"Count\": 0.05}, {\"Demand for Resource (d)\": \"WA4\", \"Resource (n)\": \"Shoe Covers\", \"Count\": 0.2}, {\"Demand for Resource (d)\": \"WA5\", \"Resource (n)\": \"Shoe Covers\", \"Count\": 0.4}, {\"Demand for Resource (d)\": \"WA6\", \"Resource (n)\": \"Shoe Covers\", \"Count\": 0.6}]}}, {\"mode\": \"vega-lite\"});\n",
       "</script>"
      ],
      "text/plain": [
       "alt.Chart(...)"
      ]
     },
     "metadata": {},
     "output_type": "display_data"
    },
    {
     "ename": "ValueError",
     "evalue": "No enabled saver found that supports format='svg'",
     "output_type": "error",
     "traceback": [
      "\u001b[0;31m---------------------------------------------------------------------------\u001b[0m",
      "\u001b[0;31mValueError\u001b[0m                                Traceback (most recent call last)",
      "\u001b[0;32m~/.local/share/virtualenvs/src-mxPuNKaL/lib/python3.8/site-packages/IPython/core/formatters.py\u001b[0m in \u001b[0;36m__call__\u001b[0;34m(self, obj, include, exclude)\u001b[0m\n\u001b[1;32m    968\u001b[0m \u001b[0;34m\u001b[0m\u001b[0m\n\u001b[1;32m    969\u001b[0m             \u001b[0;32mif\u001b[0m \u001b[0mmethod\u001b[0m \u001b[0;32mis\u001b[0m \u001b[0;32mnot\u001b[0m \u001b[0;32mNone\u001b[0m\u001b[0;34m:\u001b[0m\u001b[0;34m\u001b[0m\u001b[0;34m\u001b[0m\u001b[0m\n\u001b[0;32m--> 970\u001b[0;31m                 \u001b[0;32mreturn\u001b[0m \u001b[0mmethod\u001b[0m\u001b[0;34m(\u001b[0m\u001b[0minclude\u001b[0m\u001b[0;34m=\u001b[0m\u001b[0minclude\u001b[0m\u001b[0;34m,\u001b[0m \u001b[0mexclude\u001b[0m\u001b[0;34m=\u001b[0m\u001b[0mexclude\u001b[0m\u001b[0;34m)\u001b[0m\u001b[0;34m\u001b[0m\u001b[0;34m\u001b[0m\u001b[0m\n\u001b[0m\u001b[1;32m    971\u001b[0m             \u001b[0;32mreturn\u001b[0m \u001b[0;32mNone\u001b[0m\u001b[0;34m\u001b[0m\u001b[0;34m\u001b[0m\u001b[0m\n\u001b[1;32m    972\u001b[0m         \u001b[0;32melse\u001b[0m\u001b[0;34m:\u001b[0m\u001b[0;34m\u001b[0m\u001b[0;34m\u001b[0m\u001b[0m\n",
      "\u001b[0;32m~/.local/share/virtualenvs/src-mxPuNKaL/lib/python3.8/site-packages/altair/vegalite/v4/api.py\u001b[0m in \u001b[0;36m_repr_mimebundle_\u001b[0;34m(self, include, exclude)\u001b[0m\n\u001b[1;32m   1652\u001b[0m             \u001b[0;32mreturn\u001b[0m \u001b[0;34m{\u001b[0m\u001b[0;34m}\u001b[0m\u001b[0;34m\u001b[0m\u001b[0;34m\u001b[0m\u001b[0m\n\u001b[1;32m   1653\u001b[0m         \u001b[0;32melse\u001b[0m\u001b[0;34m:\u001b[0m\u001b[0;34m\u001b[0m\u001b[0;34m\u001b[0m\u001b[0m\n\u001b[0;32m-> 1654\u001b[0;31m             \u001b[0;32mreturn\u001b[0m \u001b[0mrenderers\u001b[0m\u001b[0;34m.\u001b[0m\u001b[0mget\u001b[0m\u001b[0;34m(\u001b[0m\u001b[0;34m)\u001b[0m\u001b[0;34m(\u001b[0m\u001b[0mdct\u001b[0m\u001b[0;34m)\u001b[0m\u001b[0;34m\u001b[0m\u001b[0;34m\u001b[0m\u001b[0m\n\u001b[0m\u001b[1;32m   1655\u001b[0m \u001b[0;34m\u001b[0m\u001b[0m\n\u001b[1;32m   1656\u001b[0m     \u001b[0;32mdef\u001b[0m \u001b[0mdisplay\u001b[0m\u001b[0;34m(\u001b[0m\u001b[0mself\u001b[0m\u001b[0;34m,\u001b[0m \u001b[0mrenderer\u001b[0m\u001b[0;34m=\u001b[0m\u001b[0mUndefined\u001b[0m\u001b[0;34m,\u001b[0m \u001b[0mtheme\u001b[0m\u001b[0;34m=\u001b[0m\u001b[0mUndefined\u001b[0m\u001b[0;34m,\u001b[0m \u001b[0mactions\u001b[0m\u001b[0;34m=\u001b[0m\u001b[0mUndefined\u001b[0m\u001b[0;34m,\u001b[0m \u001b[0;34m**\u001b[0m\u001b[0mkwargs\u001b[0m\u001b[0;34m)\u001b[0m\u001b[0;34m:\u001b[0m\u001b[0;34m\u001b[0m\u001b[0;34m\u001b[0m\u001b[0m\n",
      "\u001b[0;32m~/.local/share/virtualenvs/src-mxPuNKaL/lib/python3.8/site-packages/toolz/functoolz.py\u001b[0m in \u001b[0;36m__call__\u001b[0;34m(self, *args, **kwargs)\u001b[0m\n\u001b[1;32m    301\u001b[0m     \u001b[0;32mdef\u001b[0m \u001b[0m__call__\u001b[0m\u001b[0;34m(\u001b[0m\u001b[0mself\u001b[0m\u001b[0;34m,\u001b[0m \u001b[0;34m*\u001b[0m\u001b[0margs\u001b[0m\u001b[0;34m,\u001b[0m \u001b[0;34m**\u001b[0m\u001b[0mkwargs\u001b[0m\u001b[0;34m)\u001b[0m\u001b[0;34m:\u001b[0m\u001b[0;34m\u001b[0m\u001b[0;34m\u001b[0m\u001b[0m\n\u001b[1;32m    302\u001b[0m         \u001b[0;32mtry\u001b[0m\u001b[0;34m:\u001b[0m\u001b[0;34m\u001b[0m\u001b[0;34m\u001b[0m\u001b[0m\n\u001b[0;32m--> 303\u001b[0;31m             \u001b[0;32mreturn\u001b[0m \u001b[0mself\u001b[0m\u001b[0;34m.\u001b[0m\u001b[0m_partial\u001b[0m\u001b[0;34m(\u001b[0m\u001b[0;34m*\u001b[0m\u001b[0margs\u001b[0m\u001b[0;34m,\u001b[0m \u001b[0;34m**\u001b[0m\u001b[0mkwargs\u001b[0m\u001b[0;34m)\u001b[0m\u001b[0;34m\u001b[0m\u001b[0;34m\u001b[0m\u001b[0m\n\u001b[0m\u001b[1;32m    304\u001b[0m         \u001b[0;32mexcept\u001b[0m \u001b[0mTypeError\u001b[0m \u001b[0;32mas\u001b[0m \u001b[0mexc\u001b[0m\u001b[0;34m:\u001b[0m\u001b[0;34m\u001b[0m\u001b[0;34m\u001b[0m\u001b[0m\n\u001b[1;32m    305\u001b[0m             \u001b[0;32mif\u001b[0m \u001b[0mself\u001b[0m\u001b[0;34m.\u001b[0m\u001b[0m_should_curry\u001b[0m\u001b[0;34m(\u001b[0m\u001b[0margs\u001b[0m\u001b[0;34m,\u001b[0m \u001b[0mkwargs\u001b[0m\u001b[0;34m,\u001b[0m \u001b[0mexc\u001b[0m\u001b[0;34m)\u001b[0m\u001b[0;34m:\u001b[0m\u001b[0;34m\u001b[0m\u001b[0;34m\u001b[0m\u001b[0m\n",
      "\u001b[0;32m~/.local/share/virtualenvs/src-mxPuNKaL/lib/python3.8/site-packages/altair_saver/_core.py\u001b[0m in \u001b[0;36mrender\u001b[0;34m(chart, fmts, mode, embed_options, method, **kwargs)\u001b[0m\n\u001b[1;32m    253\u001b[0m \u001b[0;34m\u001b[0m\u001b[0m\n\u001b[1;32m    254\u001b[0m     \u001b[0;32mfor\u001b[0m \u001b[0mfmt\u001b[0m \u001b[0;32min\u001b[0m \u001b[0mfmts\u001b[0m\u001b[0;34m:\u001b[0m\u001b[0;34m\u001b[0m\u001b[0;34m\u001b[0m\u001b[0m\n\u001b[0;32m--> 255\u001b[0;31m         \u001b[0mSaver\u001b[0m \u001b[0;34m=\u001b[0m \u001b[0m_select_saver\u001b[0m\u001b[0;34m(\u001b[0m\u001b[0mmethod\u001b[0m\u001b[0;34m,\u001b[0m \u001b[0mmode\u001b[0m\u001b[0;34m=\u001b[0m\u001b[0mmode\u001b[0m\u001b[0;34m,\u001b[0m \u001b[0mfmt\u001b[0m\u001b[0;34m=\u001b[0m\u001b[0mfmt\u001b[0m\u001b[0;34m)\u001b[0m\u001b[0;34m\u001b[0m\u001b[0;34m\u001b[0m\u001b[0m\n\u001b[0m\u001b[1;32m    256\u001b[0m         \u001b[0msaver\u001b[0m \u001b[0;34m=\u001b[0m \u001b[0mSaver\u001b[0m\u001b[0;34m(\u001b[0m\u001b[0mspec\u001b[0m\u001b[0;34m,\u001b[0m \u001b[0mmode\u001b[0m\u001b[0;34m=\u001b[0m\u001b[0mmode\u001b[0m\u001b[0;34m,\u001b[0m \u001b[0membed_options\u001b[0m\u001b[0;34m=\u001b[0m\u001b[0membed_options\u001b[0m\u001b[0;34m,\u001b[0m \u001b[0;34m**\u001b[0m\u001b[0mkwargs\u001b[0m\u001b[0;34m)\u001b[0m\u001b[0;34m\u001b[0m\u001b[0;34m\u001b[0m\u001b[0m\n\u001b[1;32m    257\u001b[0m         \u001b[0mmimebundle\u001b[0m\u001b[0;34m.\u001b[0m\u001b[0mupdate\u001b[0m\u001b[0;34m(\u001b[0m\u001b[0msaver\u001b[0m\u001b[0;34m.\u001b[0m\u001b[0mmimebundle\u001b[0m\u001b[0;34m(\u001b[0m\u001b[0mfmt\u001b[0m\u001b[0;34m)\u001b[0m\u001b[0;34m)\u001b[0m\u001b[0;34m\u001b[0m\u001b[0;34m\u001b[0m\u001b[0m\n",
      "\u001b[0;32m~/.local/share/virtualenvs/src-mxPuNKaL/lib/python3.8/site-packages/altair_saver/_core.py\u001b[0m in \u001b[0;36m_select_saver\u001b[0;34m(method, mode, fmt, fp)\u001b[0m\n\u001b[1;32m     67\u001b[0m             \u001b[0;32mif\u001b[0m \u001b[0ms\u001b[0m\u001b[0;34m.\u001b[0m\u001b[0menabled\u001b[0m\u001b[0;34m(\u001b[0m\u001b[0;34m)\u001b[0m \u001b[0;32mand\u001b[0m \u001b[0mfmt\u001b[0m \u001b[0;32min\u001b[0m \u001b[0ms\u001b[0m\u001b[0;34m.\u001b[0m\u001b[0mvalid_formats\u001b[0m\u001b[0;34m[\u001b[0m\u001b[0mmode\u001b[0m\u001b[0;34m]\u001b[0m\u001b[0;34m:\u001b[0m\u001b[0;34m\u001b[0m\u001b[0;34m\u001b[0m\u001b[0m\n\u001b[1;32m     68\u001b[0m                 \u001b[0;32mreturn\u001b[0m \u001b[0ms\u001b[0m\u001b[0;34m\u001b[0m\u001b[0;34m\u001b[0m\u001b[0m\n\u001b[0;32m---> 69\u001b[0;31m         \u001b[0;32mraise\u001b[0m \u001b[0mValueError\u001b[0m\u001b[0;34m(\u001b[0m\u001b[0;34mf\"No enabled saver found that supports format={fmt!r}\"\u001b[0m\u001b[0;34m)\u001b[0m\u001b[0;34m\u001b[0m\u001b[0;34m\u001b[0m\u001b[0m\n\u001b[0m\u001b[1;32m     70\u001b[0m     \u001b[0;32melse\u001b[0m\u001b[0;34m:\u001b[0m\u001b[0;34m\u001b[0m\u001b[0;34m\u001b[0m\u001b[0m\n\u001b[1;32m     71\u001b[0m         \u001b[0;32mraise\u001b[0m \u001b[0mValueError\u001b[0m\u001b[0;34m(\u001b[0m\u001b[0;34mf\"Unrecognized method: {method}\"\u001b[0m\u001b[0;34m)\u001b[0m\u001b[0;34m\u001b[0m\u001b[0;34m\u001b[0m\u001b[0m\n",
      "\u001b[0;31mValueError\u001b[0m: No enabled saver found that supports format='svg'"
     ]
    },
    {
     "data": {
      "text/plain": [
       "alt.Chart(...)"
      ]
     },
     "metadata": {},
     "output_type": "display_data"
    }
   ],
   "source": [
    "chart = visualize_data(demand.demand_per_unit_map_dn_um.df)\n",
    "\n",
    "alt.renderers.enable(\"default\") #works\n",
    "\n",
    "display(chart)\n",
    "\n",
    "alt.renderers.enable(\"altair_saver\", fmts=[\"svg\"]) #doesn't work\n",
    "\n",
    "display(chart)"
   ]
  }
 ],
 "metadata": {
  "kernelspec": {
   "display_name": "Python 3",
   "language": "python",
   "name": "python3"
  },
  "language_info": {
   "codemirror_mode": {
    "name": "ipython",
    "version": 3
   },
   "file_extension": ".py",
   "mimetype": "text/x-python",
   "name": "python",
   "nbconvert_exporter": "python",
   "pygments_lexer": "ipython3",
   "version": "3.8.5"
  }
 },
 "nbformat": 4,
 "nbformat_minor": 4
}
