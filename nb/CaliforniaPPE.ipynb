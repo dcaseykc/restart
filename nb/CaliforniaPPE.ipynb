{
 "cells": [
  {
   "cell_type": "markdown",
   "metadata": {
    "slideshow": {
     "slide_type": "slide"
    }
   },
   "source": [
    "# California PPE Projections"
   ]
  },
  {
   "cell_type": "markdown",
   "metadata": {
    "slideshow": {
     "slide_type": "slide"
    }
   },
   "source": [
    "## California Burn Rates\n",
    "\n",
    "Burn rates extrapolated from CHA memo. For example, CA assumes N95 are single use per covid patient, and 3 staff visits per hour per COVID patient, so (24)(3) = 72 N95 masks per patient per day.\n",
    "\n",
    "Small, reasonable changes in assumption can drastically change burn rates by up to 20X. For example, JHU assumes 6 N95 changes per patient per day for ICU patients, and 2.6 for non-ICU. So with the IHME assumption that 27% of patients go to the ICU, (0.27)(6) + (0.73)(2.6) = 3.52 N95 masks per patient per day."
   ]
  },
  {
   "cell_type": "code",
   "execution_count": 1,
   "metadata": {},
   "outputs": [],
   "source": [
    "import os\n",
    "import pathlib\n",
    "import restart\n",
    "\n",
    "# need this ugly variable for now to directly access config\n",
    "PATH = pathlib.Path(restart.__file__).parent.absolute()"
   ]
  },
  {
   "cell_type": "code",
   "execution_count": 2,
   "metadata": {
    "slideshow": {
     "slide_type": "subslide"
    }
   },
   "outputs": [
    {
     "data": {
      "application/vnd.jupyter.widget-view+json": {
       "model_id": "322906bd0e7e43f79645b1f941ec6442",
       "version_major": 2,
       "version_minor": 0
      },
      "text/plain": [
       "Sheet(cells=(Cell(column_end=0, column_start=0, numeric_format='0,000', read_only=True, row_end=1, row_start=0…"
      ]
     },
     "metadata": {},
     "output_type": "display_data"
    },
    {
     "data": {
      "application/vnd.jupyter.widget-view+json": {
       "model_id": "72351d3cfe134c869e7fca68ad75adc2",
       "version_major": 2,
       "version_minor": 0
      },
      "text/plain": [
       "VBox(children=(Figure(axes=[Axis(label='Resource', scale=OrdinalScale()), Axis(orientation='vertical', scale=L…"
      ]
     },
     "metadata": {},
     "output_type": "display_data"
    }
   ],
   "source": [
    "import sys\n",
    "import pandas as pd\n",
    "import numpy as np\n",
    "from restart import RestartModel\n",
    "from restart import Data\n",
    "from restart.util import set_config, to_df, to_sheet, display_population, format_population, format_cells\n",
    "from restart_datasets import data\n",
    "import ipywidgets as widgets\n",
    "import bqplot\n",
    "from bqplot import pyplot as plt\n",
    "\n",
    "config = set_config(os.path.join(PATH, 'config/ca-vent'))\n",
    "restart = RestartModel(config='ca-vent', population='dict')\n",
    "model = restart.model\n",
    "chart_colors = [\"#77AADD\", \"#99DDFF\", \"#44BB99\", \"#BBCC33\", \"#AAAA00\", \"#EEDD88\",\n",
    "                \"#EE8866\", \"#FFAABB\", \"#DDDDDD\", \"#000000\"]\n",
    "\n",
    "def generate_pie_chart(df, title=\"\", show_decimal=False):\n",
    "    fig=plt.figure(title=title)\n",
    "    \n",
    "    pie_chart = plt.pie(sizes=df.values.tolist(),\n",
    "                        labels=df.index.values.tolist(),\n",
    "                        display_labels=\"outside\",\n",
    "                        colors=chart_colors[:df.index.values.size],\n",
    "                        display_values=True)\n",
    "    if not show_decimal:\n",
    "        pie_chart.values_format = \"0\"\n",
    "    return fig\n",
    "\n",
    "def generate_bar(df, title=\"\", scientific_notation=False, small_xlabel=False):\n",
    "    fig = plt.figure(title=title)\n",
    "    x_vals = df.index.values.tolist()\n",
    "    if len(x_vals) > 5:\n",
    "        small_xlabel=True\n",
    "    x_titles = []\n",
    "    for val in x_vals:\n",
    "        if len(val.split(' ')) < 3:\n",
    "            x_titles.append(val)\n",
    "        else:\n",
    "            x_titles.append(\" \".join(val.split(' ')[:2]))\n",
    "    bar_chart = plt.bar(x=x_titles,\n",
    "                        y=df,\n",
    "                        colors=chart_colors[:df.index.values.size])\n",
    "    if small_xlabel:\n",
    "        fig.axes[0].tick_style = {\"font-size\": \"6\"}\n",
    "    if not scientific_notation:\n",
    "        fig.axes[1].tick_format = \".1f\"\n",
    "    return fig\n",
    "\n",
    "def generate_group_bar(df, title=\"\", scientific_notation=False):\n",
    "    fig = plt.figure(title=title)\n",
    "    bar_chart = plt.bar(x=df.columns.values.tolist(),\n",
    "                        y=df,\n",
    "                        labels=df.index.values.tolist(),\n",
    "                        display_legend=False,\n",
    "                        type=\"grouped\",\n",
    "                        colors=chart_colors[:df.index.values.size])\n",
    "    if df.columns.name:\n",
    "        plt.xlabel(df.columns.name.rsplit(\" \", 1)[0])\n",
    "    plt.ylim(0, np.amax(df.values))\n",
    "    if not scientific_notation:\n",
    "        fig.axes[1].tick_format = \".1f\"\n",
    "    return fig\n",
    "\n",
    "def generate_scatter(df, title=\"\", scientific_notation=False, small_xlabel=True):\n",
    "    fig = plt.figure(title=title)\n",
    "    x_vals = df.index.values.tolist()\n",
    "    if len(x_vals) > 5:\n",
    "        small_xlabel=True\n",
    "    x_titles = []\n",
    "    for val in x_vals:\n",
    "        if len(val.split(' ')) < 3:\n",
    "            x_titles.append(val)\n",
    "        else:\n",
    "            x_titles.append(\" \".join(val.split(' ')[:2]))\n",
    "    scatter = plt.scatter(x=x_titles, y=df)\n",
    "    \n",
    "    if small_xlabel:\n",
    "        fig.axes[0].tick_style = {\"font-size\": \"6\"}\n",
    "    if not scientific_notation:\n",
    "        fig.axes[1].tick_format = \".1f\"\n",
    "    return fig\n",
    "    \n",
    "def generate_stacked_bar(df, title=\"\", scientific_notation=False):\n",
    "    fig = plt.figure(title=title)\n",
    "    \n",
    "    bar_chart = plt.bar(x=df.columns.values.tolist(),\n",
    "                        y=df,\n",
    "                        labels=df.index.values.tolist(),\n",
    "                        display_legend=False,\n",
    "                        type=\"stacked\",\n",
    "                        colors=chart_colors[:df.index.values.size])\n",
    "    if df.columns.name:\n",
    "        plt.xlabel(df.columns.name.rsplit(\" \", 1)[0])\n",
    "    plt.ylim(0, np.amax(df.values))\n",
    "    if not scientific_notation:\n",
    "        fig.axes[1].tick_format = \".1f\"\n",
    "    return fig\n",
    "\n",
    "def generate_separate_bar_list(df, scientific_notation=False, small_xlabel=False): # returns list, NOT widget\n",
    "    bar_list = []\n",
    "    for col in df.columns: # .values.tolist()\n",
    "        bar_list.append(generate_bar(df[col][df[col] != 0], title=col, scientific_notation=scientific_notation, small_xlabel=small_xlabel))\n",
    "    return bar_list\n",
    "\n",
    "def generate_separate_scatter_list(df, scientific_notation=False, small_xlabel=False): # returns list, NOT widget\n",
    "    scatter_list = []\n",
    "    for col in df.columns: # .values.tolist()\n",
    "        scatter_list.append(generate_scatter(df[col][df[col] != 0], title=col, scientific_notation=scientific_notation, small_xlabel=small_xlabel))\n",
    "    return scatter_list\n",
    "\n",
    "def generate_html_legend(df, colors=chart_colors, table=True, font_size=13):\n",
    "    name = df.index.name.rsplit(\" \", 1)[0]\n",
    "    html_string = f\"<div style='font-size:{font_size}px; font-family:helvetica'><b style='font-weight:bold'>{name}</b>\"\n",
    "    indices = df.index.values\n",
    "    if table:\n",
    "        html_string += \"<table><tr>\"\n",
    "        for i in range(0, indices.size):\n",
    "            if i % 2 == 0:\n",
    "                index_num = int(i / 2)\n",
    "            else:\n",
    "                index_num = int(i / 2 + indices.size / 2)\n",
    "            html_string += f\"<td style='padding:0 5px'><span style='color:{colors[index_num]}'>█</span> {indices[index_num]}</td>\"\n",
    "            if i % 2 != 0:\n",
    "                html_string += \"</tr><tr>\"\n",
    "        html_string += \"</tr></table>\"\n",
    "    else:\n",
    "        for_count = 0\n",
    "        for string in indices:\n",
    "            if for_count == 0:\n",
    "                html_string += \"<br>\"\n",
    "            else:\n",
    "                html_string += \"&emsp;\"\n",
    "            html_string += f\"<span style='color:{colors[for_count]}'>█</span> {string}\"\n",
    "            for_count += 1\n",
    "    html_string += \"</div>\"\n",
    "    return widgets.HTML(html_string)\n",
    "\n",
    "def generate_group_bar_legend(df, title=\"\", scientific_notation=False, legend_table=True):\n",
    "    chart = generate_group_bar(df, title=title, scientific_notation=scientific_notation)\n",
    "    legend = generate_html_legend(df, table=legend_table)\n",
    "    return widgets.VBox([chart, legend])\n",
    "\n",
    "def generate_stacked_bar_legend(df, title=\"\", scientific_notation=False, legend_table=True):\n",
    "    chart = generate_stacked_bar(df, title=title, scientific_notation=scientific_notation)\n",
    "    legend = generate_html_legend(df, table=legend_table)\n",
    "    return widgets.VBox([chart, legend])\n",
    "\n",
    "burn_sheet = format_population(to_sheet(model.demand.demand_per_unit_map_dn_um.df))\n",
    "burn_chart = generate_group_bar_legend(model.demand.demand_per_unit_map_dn_um.df)\n",
    "display(burn_sheet)\n",
    "display(burn_chart)"
   ]
  },
  {
   "cell_type": "markdown",
   "metadata": {
    "slideshow": {
     "slide_type": "slide"
    }
   },
   "source": [
    "## California Stockpile Projections\n",
    "Based on an ensemble of differing epidemiological models."
   ]
  },
  {
   "cell_type": "code",
   "execution_count": 3,
   "metadata": {
    "scrolled": false,
    "slideshow": {
     "slide_type": "-"
    }
   },
   "outputs": [
    {
     "data": {
      "application/vnd.jupyter.widget-view+json": {
       "model_id": "093abd6b3a0f47d7b6825b3498675acf",
       "version_major": 2,
       "version_minor": 0
      },
      "text/plain": [
       "VBox(children=(FloatSlider(value=0.95, continuous_update=False, description='CR', max=0.99, min=0.7, step=0.01…"
      ]
     },
     "metadata": {},
     "output_type": "display_data"
    }
   ],
   "source": [
    "import ipywidgets as widgets\n",
    "from scipy.stats import norm\n",
    "import math\n",
    "\n",
    "def triangular(a,b,c):\n",
    "    return math.sqrt( ((a*a + b*b + c*c) - a*b - a*c - b*c) / 18 )\n",
    "\n",
    "ca_epi_df = data.epi_ranges()\n",
    "ca_epi_df.set_index('Model', drop=True, inplace=True)\n",
    "\n",
    "# ca_epi_df.drop(['CA Projected Non-COVID Patients'], axis=0, inplace=True)\n",
    "\n",
    "# adjusting so it's in terms of population, since we're not doing vents here\n",
    "ca_epi_df = ca_epi_df * 4.12\n",
    "ca_epi_df.columns = ['Population Low', 'Population Mid', 'Population High']\n",
    "ca_stdev = ca_epi_df.apply(\n",
    "    lambda row: triangular(\n",
    "        row['Population Mid'],\n",
    "        row['Population Low'], \n",
    "        row['Population High']\n",
    "    ), axis=1\n",
    ")\n",
    "\n",
    "ca_epi_df['Population Mean'] = ca_epi_df.mean(axis=1)\n",
    "\n",
    "ca_epi_df['Population SD'] = ca_stdev\n",
    "\n",
    "\n",
    "def calc_eoq(df, cr):\n",
    "    Z=norm.ppf(cr)\n",
    "    df['Adjusted Population'] = df['Population Mean'] + (Z * df['Population SD'])\n",
    "    return df\n",
    "\n",
    "def display_ca_eoq(cr, days):\n",
    "    # calculate the hospitalization EOQ\n",
    "    epi = calc_eoq(ca_epi_df, cr)\n",
    "    eoq_df = 0.243 * epi\n",
    "    # adjusting the non-COVID patients\n",
    "    eoq_sheet = to_sheet(eoq_df)\n",
    "    display_population(eoq_sheet, round=True)\n",
    "    # calculate stockpile projections\n",
    "    preds_df = Data(\n",
    "        \"demand_by_pop_total_pn_tc\", config)\n",
    "    preds_df.array = (model.demand.demand_by_pop_per_person_pn_uc.array.T * ca_epi_df[\"Adjusted Population\"].to_numpy().T).T\n",
    "    preds_df.array *= days\n",
    "    preds_df.df.drop(['Ventilators'], axis=1, inplace=True)\n",
    "    preds_sheet = to_sheet(preds_df.df)\n",
    "    chart = generate_group_bar_legend(preds_df.df, scientific_notation=True)\n",
    "    display_population(preds_sheet, round=True)\n",
    "    display(chart)\n",
    "    \n",
    "ca_burn_sheet = format_population(to_sheet(model.demand.demand_per_unit_map_dn_um.df))\n",
    "\n",
    "ca_cr_slider = widgets.FloatSlider(min=0.70,max=0.99,step=0.01,value=0.95, continuous_update=False, description=\"CR\")\n",
    "ca_day_slider = widgets.IntSlider(min=1, max=120, value=30, continuous_update=False, description=\"Days\")\n",
    "ca_out = widgets.interactive_output(display_ca_eoq, {'cr': ca_cr_slider, 'days': ca_day_slider})\n",
    "widgets.VBox([ca_cr_slider, ca_day_slider, ca_out])"
   ]
  },
  {
   "cell_type": "markdown",
   "metadata": {
    "slideshow": {
     "slide_type": "slide"
    }
   },
   "source": [
    "## OES Projections\n",
    "\n",
    "Using WA tiering system, BLS OES population statistics, and WA burn rate assumptions."
   ]
  },
  {
   "cell_type": "code",
   "execution_count": 4,
   "metadata": {
    "scrolled": false,
    "slideshow": {
     "slide_type": "subslide"
    }
   },
   "outputs": [
    {
     "data": {
      "application/vnd.jupyter.widget-view+json": {
       "model_id": "e01f1866f4ea4811af03db7651842c4f",
       "version_major": 2,
       "version_minor": 0
      },
      "text/plain": [
       "VBox(children=(IntSlider(value=30, continuous_update=False, description='Days', max=120, min=1), Output()))"
      ]
     },
     "metadata": {},
     "output_type": "display_data"
    }
   ],
   "source": [
    "oes_config = set_config('config/default')\n",
    "oes_restart = RestartModel(\n",
    "    population='oes',\n",
    "    state='California',\n",
    "    subpop='healthcare')\n",
    "oes_model = oes_restart.model\n",
    "\n",
    "\n",
    "oes_slider = widgets.IntSlider(min=1, max=120, value=30, description = \"Days\", continuous_update=False)\n",
    "\n",
    "def dashboard(backstop):\n",
    "    set_stock(backstop)\n",
    "    \n",
    "def display_stock(df):\n",
    "    df_round = df.round()\n",
    "    index_name = \"Population\"\n",
    "    headers = ['Essential', 'Non-Essential']\n",
    "    df_round.insert(loc=0, column=index_name, value=headers)\n",
    "    sheet = to_sheet(df_round)\n",
    "    format_cells(sheet)\n",
    "    sheet.row_headers = False\n",
    "    df_chart = df\n",
    "    df_chart.index = df_chart.index.get_level_values(1)\n",
    "    chart = generate_group_bar_legend(df_chart, scientific_notation=True)\n",
    "    display(sheet)\n",
    "    display(chart)\n",
    "    \n",
    "def set_stock(backstop):\n",
    "    oes_model.inventory.set_average_orders_per_period(oes_model.demand.demand_by_popsum1_total_rp1n_tc)\n",
    "    backstop = [backstop]\n",
    "    oes_model.inventory.order(oes_model.inventory.inv_by_popsum1_total_rp1n_tc)\n",
    "    oes_model.inventory.set_min_in_periods(backstop)\n",
    "    display_stock(oes_model.inventory.inv_by_popsum1_total_rp1n_tc.df)\n",
    "    \n",
    "wa_burn_sheet = format_population(to_sheet(oes_model.demand.demand_per_unit_map_dn_um.df))\n",
    "oes_pop = format_population(to_sheet(oes_model.population.population_pP_tr.df))\n",
    "    \n",
    "oes_out = widgets.interactive_output(dashboard, {'backstop': oes_slider})\n",
    "\n",
    "widgets.VBox([oes_slider, oes_out])"
   ]
  },
  {
   "cell_type": "code",
   "execution_count": 7,
   "metadata": {},
   "outputs": [],
   "source": [
    "import qgrid\n",
    "qgrid.set_grid_option('forceFitColumns', False)\n",
    "pd.set_option('max_colwidth', 600)\n",
    "# ran following terminal commands to get this to work\n",
    "# jupyter nbextension enable --py --sys-prefix qgrid\n",
    "# jupyter nbextension enable --py --sys-prefix widgetsnbextension\n",
    "test_config = set_config('config/default')\n",
    "test_restart = RestartModel(\n",
    "    population='oes',\n",
    "    state='California',\n",
    "    subpop='healthcare')\n",
    "test_model = test_restart.model\n",
    "test_model.inventory.set_average_orders_per_period(test_model.demand.demand_by_popsum1_total_rp1n_tc)\n",
    "test_demand = test_model.demand.demand_per_unit_map_dn_um.df\n",
    "# test_demand.columns = (['N95 Surg', 'N95 NonSurg', 'ASTM 3', 'ASTM 1-2', 'Non-ASTM', 'Face Shield', 'Gowns', 'Gloves', 'Shoe Covers'])\n",
    "test_demand.index.name = 'Level'\n",
    "qgrid_widget = qgrid.show_grid(test_demand)"
   ]
  },
  {
   "cell_type": "code",
   "execution_count": 8,
   "metadata": {},
   "outputs": [
    {
     "data": {
      "application/vnd.jupyter.widget-view+json": {
       "model_id": "317c9eac887047a69571a25dd7df252b",
       "version_major": 2,
       "version_minor": 0
      },
      "text/plain": [
       "VBox(children=(QgridWidget(grid_options={'fullWidthRows': True, 'syncColumnCellResize': True, 'forceFitColumns…"
      ]
     },
     "metadata": {},
     "output_type": "display_data"
    }
   ],
   "source": [
    "def handler(cell_edited, qgrid_widget):\n",
    "    test_model.demand.adjust_burn(qgrid_widget.get_changed_df().to_numpy())\n",
    "    test_model.inventory.set_average_orders_per_period(test_model.demand.demand_by_popsum1_total_rp1n_tc)\n",
    "    test_model.inventory.order(test_model.inventory.inv_by_popsum1_total_rp1n_tc)\n",
    "    backstop = [30]\n",
    "    test_model.inventory.set_min_in_periods(backstop)\n",
    "    # display_stock(test_model.inventory.inv_by_popsum1_total_rp1n_tc.df)\n",
    "\n",
    "qgrid_widget.on('cell_edited', handler)\n",
    "\n",
    "widgets.VBox([qgrid_widget, to_sheet(test_model.inventory.inv_by_popsum1_total_rp1n_tc.df)])\n",
    "    "
   ]
  },
  {
   "cell_type": "code",
   "execution_count": null,
   "metadata": {},
   "outputs": [],
   "source": []
  },
  {
   "cell_type": "code",
   "execution_count": 7,
   "metadata": {},
   "outputs": [
    {
     "ename": "SyntaxError",
     "evalue": "invalid syntax (<ipython-input-7-162bda5c9064>, line 12)",
     "output_type": "error",
     "traceback": [
      "\u001b[0;36m  File \u001b[0;32m\"<ipython-input-7-162bda5c9064>\"\u001b[0;36m, line \u001b[0;32m12\u001b[0m\n\u001b[0;31m    update_model(test_model.demand.demand_by_popsum1_total_rp1n_tc.array)\u001b[0m\n\u001b[0m    ^\u001b[0m\n\u001b[0;31mSyntaxError\u001b[0m\u001b[0;31m:\u001b[0m invalid syntax\n"
     ]
    }
   ],
   "source": [
    "def update_model(sheet):\n",
    "    new_demand = []\n",
    "    for i, cell in enumerate(sheet.cells):\n",
    "        new_demand.append(cell.value)\n",
    "    sheet = ipysheet.numpy_loader.from_array(new_demand)\n",
    "    print(sheet)\n",
    "        \n",
    "for cell in test_demand.cells:\n",
    "    cell.observe(update_model)\n",
    "\n",
    "out = widgets.interactive_output(update_model\n",
    "update_model(test_model.demand.demand_by_popsum1_total_rp1n_tc.array)\n",
    "test_demand"
   ]
  },
  {
   "cell_type": "markdown",
   "metadata": {
    "slideshow": {
     "slide_type": "slide"
    }
   },
   "source": [
    "## JHU Burn Rates\n",
    "\n",
    "### ICU Assumptions\n",
    "\n",
    "Gloves: 2 gloves for each of 170 changes per patient per day. This assumes a change with each patient encounter, as per normal practice by all healthcare workers.\n",
    "\n",
    "Gowns: Assumes that COVID patients are cohorted and that a single gown is worn for 4 hours by each healthcare worker assigned to the COVID cohort, unless it becomes visibly soiled. Accounting for all the various healthcare workers involved in the care of an ICU patient, 20 changes per patient per day.\n",
    "\n",
    "Simple masks: Assumes that COVID patients are cohorted and that a single mask is worn for 4 hours by each healthcare worker assigned to the COVID cohort, unless it becomes visibly soiled. 10 changes per patient per day.\n",
    "\n",
    "N95 respirators: Assumes that COVID patients are cohorted and that a single mask is worn for 4 hours by each healthcare worker assigned to the COVID cohort, unless it becomes visibly soiled. N95s are used only by healthcare workers in proximity (3 feet) to COVID patients. 6 changes per patient per day.\n",
    "\n",
    "### Non-ICU Assumptions\n",
    "\n",
    "Gloves: 2 gloves for each of 80 changes per patient per day. This assumes a change with each patient encounter, as per normal practice by all healthcare workers.\n",
    "\n",
    "Gowns: Assumes that COVID patients are cohorted and that a single gown is worn for 4 hours by each healthcare worker assigned to the COVID cohort, unless it becomes visibly soiled. 20 changes per patient per day.\n",
    "\n",
    "Simple masks: Assumes that COVID patients are cohorted and that a single mask is worn for 4 hours by each healthcare worker assigned to the COVID cohort, unless it becomes visibly soiled. 10 changes per patient per day.\n",
    "\n",
    "N95 respirators: Respirators worn only for nebulizer treatments, intubations, and other aerosol-generating procedures. An average of 2.6 changes per patient per day."
   ]
  },
  {
   "cell_type": "markdown",
   "metadata": {
    "slideshow": {
     "slide_type": "subslide"
    }
   },
   "source": [
    "### Daily Burn Rates\n",
    "\n",
    "Let `n` be the number of hospital COVID patients. IHME assumption is that 27% of patients will go to ICU.\n",
    "\n",
    "Gloves (g): \n",
    "\n",
    "`g = (0.27n)(85) + (0.73n)(40) = 52.15 pairs per patient per day`\n",
    "\n",
    "Gowns: (G): \n",
    "\n",
    "`G = 20n = 20 gowns per patient per day`\n",
    "\n",
    "Simple masks (m): \n",
    "\n",
    "`m = 10n = 10 masks per patient per day`\n",
    "\n",
    "N95 Respirators (M): \n",
    "\n",
    "`M = (0.27n)(6) + (0.73n)(2.6) = 3.52 N95 masks per patient per day`"
   ]
  },
  {
   "cell_type": "code",
   "execution_count": 5,
   "metadata": {
    "slideshow": {
     "slide_type": "subslide"
    }
   },
   "outputs": [
    {
     "data": {
      "application/vnd.jupyter.widget-view+json": {
       "model_id": "264a306e041f41cd8741f9b81ce35aff",
       "version_major": 2,
       "version_minor": 0
      },
      "text/plain": [
       "VBox(children=(FloatSlider(value=0.95, continuous_update=False, description='CR', max=0.99, min=0.7, step=0.01…"
      ]
     },
     "metadata": {},
     "output_type": "display_data"
    }
   ],
   "source": [
    "jhu_config = set_config(os.path.join(PATH, 'config/jhu'))\n",
    "jhu_restart = RestartModel(config='jhu', population='dict')\n",
    "jhu_model = jhu_restart.model\n",
    "\n",
    "jhu_epi_df = data.epi_ranges()\n",
    "jhu_epi_df.set_index('Model', drop=True, inplace=True)\n",
    "jhu_epi_df.drop(['CA Projected Non-COVID Patients'], axis=0, inplace=True)\n",
    "\n",
    "# adjusting so it's in terms of population, since we're not doing vents here\n",
    "jhu_epi_df = jhu_epi_df * 4.12\n",
    "jhu_epi_df.columns = ['Population Low', 'Population Mid', 'Population High']\n",
    "jhu_stdev = jhu_epi_df.apply(\n",
    "    lambda row: triangular(\n",
    "        row['Population Mid'],\n",
    "        row['Population Low'], \n",
    "        row['Population High']\n",
    "    ), axis=1\n",
    ")\n",
    "\n",
    "jhu_epi_df['Population Mean'] = jhu_epi_df.mean(axis=1)\n",
    "\n",
    "jhu_epi_df['Population SD'] = jhu_stdev\n",
    "\n",
    "\n",
    "def calc_eoq(df, cr):\n",
    "    Z=norm.ppf(cr)\n",
    "    df['Adjusted Population'] = df['Population Mean'] + (Z * df['Population SD'])\n",
    "    return df\n",
    "\n",
    "def display_jhu_eoq(cr, days):\n",
    "    # calculate the hospitalization EOQ\n",
    "    epi = calc_eoq(jhu_epi_df, cr)\n",
    "    eoq_df = 0.243 * epi\n",
    "    # adjusting the non-COVID patients\n",
    "    eoq_sheet = to_sheet(eoq_df)\n",
    "    display_population(eoq_sheet, round=True)\n",
    "    # calculate stockpile projections\n",
    "    preds_df = Data(\n",
    "        \"demand_by_pop_total_pn_tc\", jhu_config)\n",
    "    preds_df.array = (jhu_model.demand.demand_by_pop_per_person_pn_uc.array.T * jhu_epi_df[\"Adjusted Population\"].to_numpy().T).T\n",
    "    preds_df.array *= days\n",
    "    preds_df.df.rename({'Glove Pairs': 'Gloves'}, axis=1, inplace=True)\n",
    "    preds_sheet = to_sheet(preds_df.df)\n",
    "    chart = generate_group_bar_legend(preds_df.df, scientific_notation=True)\n",
    "    display_population(preds_sheet, round=True)\n",
    "    display(chart)\n",
    "    \n",
    "jhu_burn_sheet = format_population(to_sheet(jhu_model.demand.demand_per_unit_map_dn_um.df))\n",
    "\n",
    "jhu_cr_slider = widgets.FloatSlider(min=0.70,max=0.99,step=0.01,value=0.95, continuous_update=False, description=\"CR\")\n",
    "jhu_day_slider = widgets.IntSlider(min=1, max=120, value=30, continuous_update=False, description=\"Days\")\n",
    "jhu_out = widgets.interactive_output(display_jhu_eoq, {'cr': jhu_cr_slider, 'days': jhu_day_slider})\n",
    "widgets.VBox([jhu_cr_slider, jhu_day_slider, jhu_out])"
   ]
  },
  {
   "cell_type": "markdown",
   "metadata": {
    "slideshow": {
     "slide_type": "slide"
    }
   },
   "source": [
    "Visual summary of all burn-rate assumptions"
   ]
  },
  {
   "cell_type": "code",
   "execution_count": 13,
   "metadata": {
    "scrolled": false,
    "slideshow": {
     "slide_type": "subslide"
    }
   },
   "outputs": [
    {
     "data": {
      "application/vnd.jupyter.widget-view+json": {
       "model_id": "515f99e82f014279be4f3d9ec74e53e4",
       "version_major": 2,
       "version_minor": 0
      },
      "text/plain": [
       "Sheet(cells=(Cell(column_end=0, column_start=0, numeric_format='0,000', read_only=True, row_end=9, row_start=0…"
      ]
     },
     "metadata": {},
     "output_type": "display_data"
    }
   ],
   "source": [
    "# rename so that resource names are consistent\n",
    "jhu_model.demand.demand_per_unit_map_dn_um.df.rename(\n",
    "    {'Glove Pairs': 'Gloves', 'Simple Masks': 'Non ASTM Mask', 'N95 Masks': 'N95 Non-surgical'}, axis=1, inplace=True\n",
    ")\n",
    "model.demand.demand_per_unit_map_dn_um.df.rename(\n",
    "    {'Surgical Masks': 'ASTM 3 Mask', 'N95 Masks': 'N95 Non-surgical'}, axis=1, inplace=True\n",
    ")\n",
    "model.demand.demand_per_unit_map_dn_um.df.drop(['Ventilators', 'PAPR', 'Coveralls'], axis=1, inplace=True)\n",
    "\n",
    "\n",
    "\n",
    "burn_summary_df = pd.concat([\n",
    "    jhu_model.demand.demand_per_unit_map_dn_um.df, \n",
    "    oes_model.demand.demand_per_unit_map_dn_um.df, \n",
    "    model.demand.demand_per_unit_map_dn_um.df\n",
    "])\n",
    "\n",
    "burn_summary_df.fillna(0, inplace=True)\n",
    "\n",
    "burn_summary_sheet = format_population(to_sheet(burn_summary_df))\n",
    "\n",
    "burn_summary_chart_list = generate_separate_bar_list(burn_summary_df)\n",
    "burn_summary_chart_legend = generate_html_legend(burn_summary_df)\n",
    "\n",
    "burn_summary_scatter_list = generate_separate_scatter_list(burn_summary_df)\n",
    "\n",
    "\n",
    "display(burn_summary_sheet)"
   ]
  },
  {
   "cell_type": "code",
   "execution_count": 14,
   "metadata": {
    "slideshow": {
     "slide_type": "subslide"
    }
   },
   "outputs": [
    {
     "data": {
      "application/vnd.jupyter.widget-view+json": {
       "model_id": "5865fc5fe25c46e29c692d096d80c58d",
       "version_major": 2,
       "version_minor": 0
      },
      "text/plain": [
       "Figure(axes=[Axis(scale=OrdinalScale(), side='bottom', tick_style={'font-size': '6'}), Axis(orientation='verti…"
      ]
     },
     "metadata": {},
     "output_type": "display_data"
    },
    {
     "data": {
      "application/vnd.jupyter.widget-view+json": {
       "model_id": "4837788f51c04827a6ff326a75a813b1",
       "version_major": 2,
       "version_minor": 0
      },
      "text/plain": [
       "Figure(axes=[Axis(scale=OrdinalScale(), side='bottom', tick_style={'font-size': '6'}), Axis(orientation='verti…"
      ]
     },
     "metadata": {},
     "output_type": "display_data"
    },
    {
     "data": {
      "application/vnd.jupyter.widget-view+json": {
       "model_id": "366c3a73e1394619b5cd43cc1f33360d",
       "version_major": 2,
       "version_minor": 0
      },
      "text/plain": [
       "HTML(value=\"<div style='font-size:13px; font-family:helvetica'><b style='font-weight:bold'>Demand for Resource…"
      ]
     },
     "metadata": {},
     "output_type": "display_data"
    }
   ],
   "source": [
    "display(burn_summary_chart_list[0], burn_summary_scatter_list[0], burn_summary_chart_legend)"
   ]
  },
  {
   "cell_type": "code",
   "execution_count": 15,
   "metadata": {
    "slideshow": {
     "slide_type": "subslide"
    }
   },
   "outputs": [
    {
     "data": {
      "application/vnd.jupyter.widget-view+json": {
       "model_id": "3041bdb7d87e43ccbcd8e485eb897c3d",
       "version_major": 2,
       "version_minor": 0
      },
      "text/plain": [
       "Figure(axes=[Axis(scale=OrdinalScale(), side='bottom', tick_style={'font-size': '6'}), Axis(orientation='verti…"
      ]
     },
     "metadata": {},
     "output_type": "display_data"
    },
    {
     "data": {
      "application/vnd.jupyter.widget-view+json": {
       "model_id": "781e64b8b49146428ca1ce76a51832b5",
       "version_major": 2,
       "version_minor": 0
      },
      "text/plain": [
       "Figure(axes=[Axis(scale=OrdinalScale(), side='bottom', tick_style={'font-size': '6'}), Axis(orientation='verti…"
      ]
     },
     "metadata": {},
     "output_type": "display_data"
    },
    {
     "data": {
      "application/vnd.jupyter.widget-view+json": {
       "model_id": "366c3a73e1394619b5cd43cc1f33360d",
       "version_major": 2,
       "version_minor": 0
      },
      "text/plain": [
       "HTML(value=\"<div style='font-size:13px; font-family:helvetica'><b style='font-weight:bold'>Demand for Resource…"
      ]
     },
     "metadata": {},
     "output_type": "display_data"
    }
   ],
   "source": [
    "display(burn_summary_chart_list[1], burn_summary_scatter_list[1], burn_summary_chart_legend)"
   ]
  },
  {
   "cell_type": "code",
   "execution_count": 16,
   "metadata": {
    "slideshow": {
     "slide_type": "subslide"
    }
   },
   "outputs": [
    {
     "data": {
      "application/vnd.jupyter.widget-view+json": {
       "model_id": "e272ddf073aa446e8cb4ab2599c3c2ed",
       "version_major": 2,
       "version_minor": 0
      },
      "text/plain": [
       "Figure(axes=[Axis(scale=OrdinalScale(), side='bottom', tick_style={'font-size': '6'}), Axis(orientation='verti…"
      ]
     },
     "metadata": {},
     "output_type": "display_data"
    },
    {
     "data": {
      "application/vnd.jupyter.widget-view+json": {
       "model_id": "fb14af569eee4d2292790a7f541f446b",
       "version_major": 2,
       "version_minor": 0
      },
      "text/plain": [
       "Figure(axes=[Axis(scale=OrdinalScale(), side='bottom', tick_style={'font-size': '6'}), Axis(orientation='verti…"
      ]
     },
     "metadata": {},
     "output_type": "display_data"
    },
    {
     "data": {
      "application/vnd.jupyter.widget-view+json": {
       "model_id": "366c3a73e1394619b5cd43cc1f33360d",
       "version_major": 2,
       "version_minor": 0
      },
      "text/plain": [
       "HTML(value=\"<div style='font-size:13px; font-family:helvetica'><b style='font-weight:bold'>Demand for Resource…"
      ]
     },
     "metadata": {},
     "output_type": "display_data"
    }
   ],
   "source": [
    "display(burn_summary_chart_list[2], burn_summary_scatter_list[2], burn_summary_chart_legend)"
   ]
  },
  {
   "cell_type": "code",
   "execution_count": 17,
   "metadata": {
    "slideshow": {
     "slide_type": "subslide"
    }
   },
   "outputs": [
    {
     "data": {
      "application/vnd.jupyter.widget-view+json": {
       "model_id": "1e738f2859554837befb51b47c3845da",
       "version_major": 2,
       "version_minor": 0
      },
      "text/plain": [
       "Figure(axes=[Axis(scale=OrdinalScale(), side='bottom'), Axis(orientation='vertical', scale=LinearScale(), side…"
      ]
     },
     "metadata": {},
     "output_type": "display_data"
    },
    {
     "data": {
      "application/vnd.jupyter.widget-view+json": {
       "model_id": "81a183fe3e744cb493273fd4e45c0aef",
       "version_major": 2,
       "version_minor": 0
      },
      "text/plain": [
       "Figure(axes=[Axis(scale=OrdinalScale(), side='bottom'), Axis(orientation='vertical', scale=LinearScale(), side…"
      ]
     },
     "metadata": {},
     "output_type": "display_data"
    },
    {
     "data": {
      "application/vnd.jupyter.widget-view+json": {
       "model_id": "366c3a73e1394619b5cd43cc1f33360d",
       "version_major": 2,
       "version_minor": 0
      },
      "text/plain": [
       "HTML(value=\"<div style='font-size:13px; font-family:helvetica'><b style='font-weight:bold'>Demand for Resource…"
      ]
     },
     "metadata": {},
     "output_type": "display_data"
    }
   ],
   "source": [
    "display(burn_summary_chart_list[3], burn_summary_scatter_list[3], burn_summary_chart_legend)"
   ]
  },
  {
   "cell_type": "code",
   "execution_count": 18,
   "metadata": {
    "slideshow": {
     "slide_type": "subslide"
    }
   },
   "outputs": [
    {
     "data": {
      "application/vnd.jupyter.widget-view+json": {
       "model_id": "c24ef82adcbb43c8895ce1d1ee24e0b6",
       "version_major": 2,
       "version_minor": 0
      },
      "text/plain": [
       "Figure(axes=[Axis(scale=OrdinalScale(), side='bottom'), Axis(orientation='vertical', scale=LinearScale(), side…"
      ]
     },
     "metadata": {},
     "output_type": "display_data"
    },
    {
     "data": {
      "application/vnd.jupyter.widget-view+json": {
       "model_id": "22ee209b32b44f3ab522f355066050ba",
       "version_major": 2,
       "version_minor": 0
      },
      "text/plain": [
       "Figure(axes=[Axis(scale=OrdinalScale(), side='bottom'), Axis(orientation='vertical', scale=LinearScale(), side…"
      ]
     },
     "metadata": {},
     "output_type": "display_data"
    },
    {
     "data": {
      "application/vnd.jupyter.widget-view+json": {
       "model_id": "366c3a73e1394619b5cd43cc1f33360d",
       "version_major": 2,
       "version_minor": 0
      },
      "text/plain": [
       "HTML(value=\"<div style='font-size:13px; font-family:helvetica'><b style='font-weight:bold'>Demand for Resource…"
      ]
     },
     "metadata": {},
     "output_type": "display_data"
    }
   ],
   "source": [
    "display(burn_summary_chart_list[5], burn_summary_scatter_list[5], burn_summary_chart_legend)"
   ]
  },
  {
   "cell_type": "code",
   "execution_count": 19,
   "metadata": {
    "slideshow": {
     "slide_type": "subslide"
    }
   },
   "outputs": [
    {
     "data": {
      "application/vnd.jupyter.widget-view+json": {
       "model_id": "f6211c0344c94ad1a4d32a40918c945a",
       "version_major": 2,
       "version_minor": 0
      },
      "text/plain": [
       "Figure(axes=[Axis(scale=OrdinalScale(), side='bottom'), Axis(orientation='vertical', scale=LinearScale(), side…"
      ]
     },
     "metadata": {},
     "output_type": "display_data"
    },
    {
     "data": {
      "application/vnd.jupyter.widget-view+json": {
       "model_id": "ea5f7b7950f840e1832d20d86867d58e",
       "version_major": 2,
       "version_minor": 0
      },
      "text/plain": [
       "Figure(axes=[Axis(scale=OrdinalScale(), side='bottom'), Axis(orientation='vertical', scale=LinearScale(), side…"
      ]
     },
     "metadata": {},
     "output_type": "display_data"
    },
    {
     "data": {
      "application/vnd.jupyter.widget-view+json": {
       "model_id": "366c3a73e1394619b5cd43cc1f33360d",
       "version_major": 2,
       "version_minor": 0
      },
      "text/plain": [
       "HTML(value=\"<div style='font-size:13px; font-family:helvetica'><b style='font-weight:bold'>Demand for Resource…"
      ]
     },
     "metadata": {},
     "output_type": "display_data"
    }
   ],
   "source": [
    "display(burn_summary_chart_list[6], burn_summary_scatter_list[6], burn_summary_chart_legend)"
   ]
  },
  {
   "cell_type": "code",
   "execution_count": 20,
   "metadata": {
    "slideshow": {
     "slide_type": "subslide"
    }
   },
   "outputs": [
    {
     "data": {
      "application/vnd.jupyter.widget-view+json": {
       "model_id": "eb32a539fafa451f817c32bdd8887d89",
       "version_major": 2,
       "version_minor": 0
      },
      "text/plain": [
       "Figure(axes=[Axis(scale=OrdinalScale(), side='bottom', tick_style={'font-size': '6'}), Axis(orientation='verti…"
      ]
     },
     "metadata": {},
     "output_type": "display_data"
    },
    {
     "data": {
      "application/vnd.jupyter.widget-view+json": {
       "model_id": "dea64c655a0e496c92331595868d4dc2",
       "version_major": 2,
       "version_minor": 0
      },
      "text/plain": [
       "Figure(axes=[Axis(scale=OrdinalScale(), side='bottom', tick_style={'font-size': '6'}), Axis(orientation='verti…"
      ]
     },
     "metadata": {},
     "output_type": "display_data"
    },
    {
     "data": {
      "application/vnd.jupyter.widget-view+json": {
       "model_id": "366c3a73e1394619b5cd43cc1f33360d",
       "version_major": 2,
       "version_minor": 0
      },
      "text/plain": [
       "HTML(value=\"<div style='font-size:13px; font-family:helvetica'><b style='font-weight:bold'>Demand for Resource…"
      ]
     },
     "metadata": {},
     "output_type": "display_data"
    }
   ],
   "source": [
    "display(burn_summary_chart_list[7], burn_summary_scatter_list[7], burn_summary_chart_legend)"
   ]
  },
  {
   "cell_type": "code",
   "execution_count": 21,
   "metadata": {
    "slideshow": {
     "slide_type": "subslide"
    }
   },
   "outputs": [
    {
     "data": {
      "application/vnd.jupyter.widget-view+json": {
       "model_id": "2ce77e789bcd4a7db4fe86349b8956d2",
       "version_major": 2,
       "version_minor": 0
      },
      "text/plain": [
       "Figure(axes=[Axis(scale=OrdinalScale(), side='bottom'), Axis(orientation='vertical', scale=LinearScale(), side…"
      ]
     },
     "metadata": {},
     "output_type": "display_data"
    },
    {
     "data": {
      "application/vnd.jupyter.widget-view+json": {
       "model_id": "96b49c958c784d3482c6d515ff84f51a",
       "version_major": 2,
       "version_minor": 0
      },
      "text/plain": [
       "Figure(axes=[Axis(scale=OrdinalScale(), side='bottom'), Axis(orientation='vertical', scale=LinearScale(), side…"
      ]
     },
     "metadata": {},
     "output_type": "display_data"
    },
    {
     "data": {
      "application/vnd.jupyter.widget-view+json": {
       "model_id": "366c3a73e1394619b5cd43cc1f33360d",
       "version_major": 2,
       "version_minor": 0
      },
      "text/plain": [
       "HTML(value=\"<div style='font-size:13px; font-family:helvetica'><b style='font-weight:bold'>Demand for Resource…"
      ]
     },
     "metadata": {},
     "output_type": "display_data"
    }
   ],
   "source": [
    "display(burn_summary_chart_list[8], burn_summary_scatter_list[8], burn_summary_chart_legend)"
   ]
  },
  {
   "cell_type": "code",
   "execution_count": 22,
   "metadata": {
    "scrolled": false,
    "slideshow": {
     "slide_type": "skip"
    }
   },
   "outputs": [
    {
     "data": {
      "application/vnd.jupyter.widget-view+json": {
       "model_id": "3ee3da5bbfef444099f485044fa6b2ba",
       "version_major": 2,
       "version_minor": 0
      },
      "text/plain": [
       "Tabs(children=[Tab(children=['PPE Analysis']), Tab(children=['Population']), Tab(children=['Burn Rates']), Tab…"
      ]
     },
     "metadata": {},
     "output_type": "display_data"
    }
   ],
   "source": [
    "import ipyvuetify as v\n",
    "v.theme.themes.light.primary = 'colors.teal'\n",
    "\n",
    "v.Tabs(_metadata={'mount_id': 'content-main'}, children=[\n",
    "    v.Tab(children=['PPE Analysis']),\n",
    "    v.Tab(children=['Population']),\n",
    "    v.Tab(children=['Burn Rates']),\n",
    "    v.TabItem(children=[\n",
    "        v.Layout(column=True, wrap=True, align_left=True, children=[\n",
    "            v.Card(xs12=True, lg6=True, xl4=True, children=[\n",
    "                v.CardTitle(primary_title=True, class_='headline', children=[\"Covid Incremental Ventilator Requirements\"]),\n",
    "                v.CardText(children=[\n",
    "                    \"Vent + PPE analysis with CA burn rates:\"\n",
    "                ]),\n",
    "                ca_cr_slider, ca_day_slider, ca_out,\n",
    "                v.CardText(children=[\n",
    "                    \"PPE and population analysis with JHU burn rates:\"\n",
    "                ]),\n",
    "                jhu_cr_slider, jhu_day_slider, jhu_out,\n",
    "                v.CardText(children=[\n",
    "                    \"PPE and population analysis with OES population and WA burn rates:\"\n",
    "                ]),\n",
    "                oes_slider, oes_out,\n",
    "            ]),\n",
    "                \n",
    "        ])\n",
    "    ]),\n",
    "    v.TabItem(children=[\n",
    "        v.Layout(column=True, wrap=True, align_left=True, children=[\n",
    "            v.Card(xs12=True, lg6=True, xl4=True, children=[\n",
    "                v.CardTitle(primary_title=True, class_='headline', children=[\"BLS Population with High Granularity\"]),\n",
    "                v.CardText(children=[\n",
    "                    \"OES Population\"\n",
    "                ]),\n",
    "                oes_pop\n",
    "            ])\n",
    "                \n",
    "        ])\n",
    "    ]),\n",
    "    v.TabItem(children=[\n",
    "        v.Layout(column=True, wrap=True, align_left=True, children=[\n",
    "            v.Card(xs12=True, lg6=True, x14=True, children=[\n",
    "                v.CardTitle(primary_title=True, class_='headline', children=[\"Burn Rates\"]),\n",
    "                v.CardSubtitle(children=[\"Per Capita Resource Demand: CA Assumptions\"]),\n",
    "                burn_sheet,\n",
    "                burn_chart,\n",
    "                v.CardSubtitle(children=[\"Per Capita Resource Demand: JHU Assumptions\"]),\n",
    "                jhu_burn_sheet,\n",
    "                v.CardSubtitle(children=[\"Per Capita Resource Demand: WA Assumptions\"]),\n",
    "                wa_burn_sheet,\n",
    "            ])\n",
    "        ])\n",
    "    ])\n",
    "])"
   ]
  }
 ],
 "metadata": {
  "celltoolbar": "Slideshow",
  "kernelspec": {
   "display_name": "Python 3",
   "language": "python",
   "name": "python3"
  },
  "language_info": {
   "codemirror_mode": {
    "name": "ipython",
    "version": 3
   },
   "file_extension": ".py",
   "mimetype": "text/x-python",
   "name": "python",
   "nbconvert_exporter": "python",
   "pygments_lexer": "ipython3",
   "version": "3.8.5"
  }
 },
 "nbformat": 4,
 "nbformat_minor": 4
}
