{
 "cells": [
  {
   "cell_type": "markdown",
   "metadata": {
    "slideshow": {
     "slide_type": "slide"
    }
   },
   "source": [
    "# California PPE Projections"
   ]
  },
  {
   "cell_type": "markdown",
   "metadata": {
    "slideshow": {
     "slide_type": "slide"
    }
   },
   "source": [
    "## California Burn Rates\n",
    "\n",
    "Burn rates extrapolated from CHA memo. For example, CA assumes N95 are single use per covid patient, and 3 staff visits per hour per COVID patient, so (24)(3) = 72 N95 masks per patient per day.\n",
    "\n",
    "Small, reasonable changes in assumption can drastically change burn rates by up to 20X. For example, JHU assumes 6 N95 changes per patient per day for ICU patients, and 2.6 for non-ICU. So with the IHME assumption that 27% of patients go to the ICU, (0.27)(6) + (0.73)(2.6) = 3.52 N95 masks per patient per day."
   ]
  },
  {
   "cell_type": "code",
   "execution_count": 1,
   "metadata": {
    "slideshow": {
     "slide_type": "subslide"
    }
   },
   "outputs": [
    {
     "data": {
      "application/vnd.jupyter.widget-view+json": {
       "model_id": "98cca813490442f688e1a99e9b3dfc64",
       "version_major": 2,
       "version_minor": 0
      },
      "text/plain": [
       "Sheet(cells=(Cell(column_end=0, column_start=0, numeric_format='0,000', read_only=True, row_end=1, row_start=0…"
      ]
     },
     "metadata": {},
     "output_type": "display_data"
    },
    {
     "data": {
      "application/vnd.jupyter.widget-view+json": {
       "model_id": "3d3154002b744d2cb68460aef8d440d5",
       "version_major": 2,
       "version_minor": 0
      },
      "text/plain": [
       "VBox(children=(Figure(axes=[Axis(label='Resource', scale=OrdinalScale()), Axis(orientation='vertical', scale=L…"
      ]
     },
     "metadata": {},
     "output_type": "display_data"
    }
   ],
   "source": [
    "import sys\n",
    "import pandas as pd\n",
    "import numpy as np\n",
    "from restart import RestartModel\n",
    "from restart import Data\n",
    "from restart.util import set_config, to_df, to_sheet, display_population, format_population, format_cells\n",
    "import ipywidgets as widgets\n",
    "import bqplot\n",
    "from bqplot import pyplot as plt\n",
    "\n",
    "config = set_config('../config/ca-vent')\n",
    "restart = RestartModel(config_dir='../config/ca-vent', population='dict')\n",
    "model = restart.model\n",
    "chart_colors = [\"#77AADD\", \"#99DDFF\", \"#44BB99\", \"#BBCC33\", \"#AAAA00\", \"#EEDD88\",\n",
    "                \"#EE8866\", \"#FFAABB\", \"#DDDDDD\", \"#000000\"]\n",
    "\n",
    "def generate_pie_chart(df, title=\"\", show_decimal=False):\n",
    "    fig=plt.figure(title=title)\n",
    "    \n",
    "    pie_chart = plt.pie(sizes=df.values.tolist(),\n",
    "                        labels=df.index.values.tolist(),\n",
    "                        display_labels=\"outside\",\n",
    "                        colors=chart_colors[:df.index.values.size],\n",
    "                        display_values=True)\n",
    "    if not show_decimal:\n",
    "        pie_chart.values_format = \"0\"\n",
    "    return fig\n",
    "\n",
    "def generate_bar(df, title=\"\", scientific_notation=False, small_xlabel=False):\n",
    "    fig = plt.figure(title=title)\n",
    "    \n",
    "    bar_chart = plt.bar(x=df.index.values.tolist(),\n",
    "                        y=df,\n",
    "                        colors = chart_colors[:df.index.values.size])\n",
    "    if small_xlabel:\n",
    "        fig.axes[0].tick_style = {\"font-size\": \"6\"}\n",
    "    if not scientific_notation:\n",
    "        fig.axes[1].tick_format = \"0.0f\"\n",
    "    return fig\n",
    "\n",
    "def generate_group_bar(df, title=\"\", scientific_notation=False):\n",
    "    fig = plt.figure(title=title)\n",
    "    \n",
    "    bar_chart = plt.bar(x=df.columns.values.tolist(),\n",
    "                        y=df,\n",
    "                        labels=df.index.values.tolist(),\n",
    "                        display_legend=False,\n",
    "                        type=\"grouped\",\n",
    "                        colors=chart_colors[:df.index.values.size])\n",
    "    if df.columns.name:\n",
    "        plt.xlabel(df.columns.name.rsplit(\" \", 1)[0])\n",
    "    plt.ylim(0, np.amax(df.values))\n",
    "    if not scientific_notation:\n",
    "        fig.axes[1].tick_format = \"0.0f\"\n",
    "    return fig\n",
    "\n",
    "def generate_stacked_bar(df, title=\"\", scientific_notation=False):\n",
    "    fig = plt.figure(title=title)\n",
    "    \n",
    "    bar_chart = plt.bar(x=df.columns.values.tolist(),\n",
    "                        y=df,\n",
    "                        labels=df.index.values.tolist(),\n",
    "                        display_legend=False,\n",
    "                        type=\"stacked\",\n",
    "                        colors=chart_colors[:df.index.values.size])\n",
    "    if df.columns.name:\n",
    "        plt.xlabel(df.columns.name.rsplit(\" \", 1)[0])\n",
    "    plt.ylim(0, np.amax(df.values))\n",
    "    if not scientific_notation:\n",
    "        fig.axes[1].tick_format = \"0.0f\"\n",
    "    return fig\n",
    "\n",
    "def generate_separate_bar_list(df, scientific_notation=False, small_xlabel=False): #returns list, NOT widget\n",
    "    bar_list = []\n",
    "    for col in df.columns: # .values.tolist()\n",
    "        bar_list.append(generate_bar(df[col], title=col, scientific_notation=scientific_notation, small_xlabel=small_xlabel))\n",
    "    return bar_list\n",
    "\n",
    "def generate_html_legend(df, colors=chart_colors, table=True, font_size=13):\n",
    "    name = df.index.name.rsplit(\" \", 1)[0]\n",
    "    html_string = f\"<div style='font-size:{font_size}px; font-family:helvetica'><b style='font-weight:bold'>{name}</b>\"\n",
    "    indices = df.index.values\n",
    "    if table:\n",
    "        html_string += \"<table><tr>\"\n",
    "        for i in range(0, indices.size):\n",
    "            if i % 2 == 0:\n",
    "                index_num = int(i / 2)\n",
    "            else:\n",
    "                index_num = int(i / 2 + indices.size / 2)\n",
    "            html_string += f\"<td style='padding:0 5px'><span style='color:{colors[index_num]}'>█</span> {indices[index_num]}</td>\"\n",
    "            if i % 2 != 0:\n",
    "                html_string += \"</tr><tr>\"\n",
    "        html_string += \"</tr></table>\"\n",
    "    else:\n",
    "        for_count = 0\n",
    "        for string in indices:\n",
    "            if for_count == 0:\n",
    "                html_string += \"<br>\"\n",
    "            else:\n",
    "                html_string += \"&emsp;\"\n",
    "            html_string += f\"<span style='color:{colors[for_count]}'>█</span> {string}\"\n",
    "            for_count += 1\n",
    "    html_string += \"</div>\"\n",
    "    return widgets.HTML(html_string)\n",
    "\n",
    "def generate_group_bar_legend(df, title=\"\", scientific_notation=False, legend_table=True):\n",
    "    chart = generate_group_bar(df, title=title, scientific_notation=scientific_notation)\n",
    "    legend = generate_html_legend(df, table=legend_table)\n",
    "    return widgets.VBox([chart, legend])\n",
    "\n",
    "def generate_stacked_bar_legend(df, title=\"\", scientific_notation=False, legend_table=True):\n",
    "    chart = generate_stacked_bar(df, title=title, scientific_notation=scientific_notation)\n",
    "    legend = generate_html_legend(df, table=legend_table)\n",
    "    return widgets.VBox([chart, legend])\n",
    "\n",
    "burn_sheet = format_population(to_sheet(model.demand.demand_per_unit_map_dn_um.df))\n",
    "burn_chart = generate_stacked_bar_legend(model.demand.demand_per_unit_map_dn_um.df)\n",
    "display(burn_sheet)\n",
    "display(burn_chart)"
   ]
  },
  {
   "cell_type": "markdown",
   "metadata": {
    "slideshow": {
     "slide_type": "slide"
    }
   },
   "source": [
    "## California Stockpile Projections\n",
    "Based on an ensemble of differing epidemiological models."
   ]
  },
  {
   "cell_type": "code",
   "execution_count": 2,
   "metadata": {
    "scrolled": false,
    "slideshow": {
     "slide_type": "-"
    }
   },
   "outputs": [
    {
     "data": {
      "application/vnd.jupyter.widget-view+json": {
       "model_id": "aa2f678ddba5410ababe7eb9105c17ef",
       "version_major": 2,
       "version_minor": 0
      },
      "text/plain": [
       "VBox(children=(FloatSlider(value=0.95, continuous_update=False, description='CR', max=0.99, min=0.7, step=0.01…"
      ]
     },
     "metadata": {},
     "output_type": "display_data"
    }
   ],
   "source": [
    "import ipywidgets as widgets\n",
    "from scipy.stats import norm\n",
    "import math\n",
    "\n",
    "def triangular(a,b,c):\n",
    "    return math.sqrt( ((a*a + b*b + c*c) - a*b - a*c - b*c) / 18 )\n",
    "\n",
    "ca_epi_df = pd.read_csv('epi_ranges.csv',index_col='Model')\n",
    "# ca_epi_df.drop(['CA Projected Non-COVID Patients'], axis=0, inplace=True)\n",
    "\n",
    "# adjusting so it's in terms of population, since we're not doing vents here\n",
    "ca_epi_df = ca_epi_df * 4.12\n",
    "ca_epi_df.columns = ['Population Low', 'Population Mid', 'Population High']\n",
    "ca_stdev = ca_epi_df.apply(\n",
    "    lambda row: triangular(\n",
    "        row['Population Mid'],\n",
    "        row['Population Low'], \n",
    "        row['Population High']\n",
    "    ), axis=1\n",
    ")\n",
    "\n",
    "ca_epi_df['Population Mean'] = ca_epi_df.mean(axis=1)\n",
    "\n",
    "ca_epi_df['Population SD'] = ca_stdev\n",
    "\n",
    "\n",
    "def calc_eoq(df, cr):\n",
    "    Z=norm.ppf(cr)\n",
    "    df['Adjusted Population'] = df['Population Mean'] + (Z * df['Population SD'])\n",
    "    return df\n",
    "\n",
    "def display_ca_eoq(cr, days):\n",
    "    # calculate the hospitalization EOQ\n",
    "    epi = calc_eoq(ca_epi_df, cr)\n",
    "    eoq_df = 0.243 * epi\n",
    "    # adjusting the non-COVID patients\n",
    "    eoq_sheet = to_sheet(eoq_df)\n",
    "    display_population(eoq_sheet, round=True)\n",
    "    # calculate stockpile projections\n",
    "    preds_df = Data(\n",
    "        \"demand_by_pop_total_pn_tc\", config)\n",
    "    preds_df.array = (model.demand.demand_by_pop_per_person_pn_uc.array.T * ca_epi_df[\"Adjusted Population\"].to_numpy().T).T\n",
    "    preds_df.array *= days\n",
    "    preds_df.df.drop(['Ventilators'], axis=1, inplace=True)\n",
    "    preds_sheet = to_sheet(preds_df.df)\n",
    "    chart = generate_group_bar_legend(preds_df.df, scientific_notation=True)\n",
    "    display_population(preds_sheet, round=True)\n",
    "    display(chart)\n",
    "    \n",
    "ca_burn_sheet = format_population(to_sheet(model.demand.demand_per_unit_map_dn_um.df))\n",
    "\n",
    "ca_cr_slider = widgets.FloatSlider(min=0.70,max=0.99,step=0.01,value=0.95, continuous_update=False, description=\"CR\")\n",
    "ca_day_slider = widgets.IntSlider(min=1, max=120, value=30, continuous_update=False, description=\"Days\")\n",
    "ca_out = widgets.interactive_output(display_ca_eoq, {'cr': ca_cr_slider, 'days': ca_day_slider})\n",
    "widgets.VBox([ca_cr_slider, ca_day_slider, ca_out])"
   ]
  },
  {
   "cell_type": "markdown",
   "metadata": {
    "slideshow": {
     "slide_type": "slide"
    }
   },
   "source": [
    "## OES Projections\n",
    "\n",
    "Using WA tiering system, BLS OES population statistics, and WA burn rate assumptions."
   ]
  },
  {
   "cell_type": "code",
   "execution_count": 3,
   "metadata": {
    "scrolled": false,
    "slideshow": {
     "slide_type": "subslide"
    }
   },
   "outputs": [
    {
     "data": {
      "application/vnd.jupyter.widget-view+json": {
       "model_id": "86333d2ee234450c97cbe3867a040a8b",
       "version_major": 2,
       "version_minor": 0
      },
      "text/plain": [
       "VBox(children=(IntSlider(value=30, continuous_update=False, description='Days', max=120, min=1), Output()))"
      ]
     },
     "metadata": {},
     "output_type": "display_data"
    }
   ],
   "source": [
    "oes_config = set_config('../restart')\n",
    "oes_restart = RestartModel(\n",
    "    config_dir='../restart',\n",
    "    data_dir='../../data/ingestion',\n",
    "    population='oes',\n",
    "    state='California',\n",
    "    subpop='healthcare')\n",
    "oes_model = oes_restart.model\n",
    "oes_model.inventory.set_average_orders_per_period(oes_model.demand.demand_by_popsum1_total_rp1n_tc)\n",
    "\n",
    "oes_slider = widgets.IntSlider(min=1, max=120, value=30, description = \"Days\", continuous_update=False)\n",
    "\n",
    "def dashboard(backstop):\n",
    "    set_stock(backstop)\n",
    "    \n",
    "def display_stock(df):\n",
    "    df_round = df.round()\n",
    "    index_name = \"Population\"\n",
    "    headers = ['Essential', 'Non-Essential']\n",
    "    df_round.insert(loc=0, column=index_name, value=headers)\n",
    "    sheet = to_sheet(df_round)\n",
    "    format_cells(sheet)\n",
    "    sheet.row_headers = False\n",
    "    df_chart = df\n",
    "    df_chart.index = df_chart.index.get_level_values(1)\n",
    "    chart = generate_group_bar_legend(df_chart)\n",
    "    display(sheet)\n",
    "    display(chart)\n",
    "    \n",
    "def set_stock(backstop):\n",
    "    backstop = [backstop]\n",
    "    oes_model.inventory.order(oes_model.inventory.inv_by_popsum1_total_rp1n_tc)\n",
    "    oes_model.inventory.set_min_in_periods(backstop)\n",
    "    display_stock(oes_model.inventory.inv_by_popsum1_total_rp1n_tc.df)\n",
    "    \n",
    "wa_burn_sheet = format_population(to_sheet(oes_model.demand.demand_per_unit_map_dn_um.df))\n",
    "oes_pop = format_population(to_sheet(oes_model.population.population_pP_tr.df))\n",
    "    \n",
    "oes_out = widgets.interactive_output(dashboard, {'backstop': oes_slider})\n",
    "\n",
    "widgets.VBox([oes_slider, oes_out])"
   ]
  },
  {
   "cell_type": "markdown",
   "metadata": {
    "slideshow": {
     "slide_type": "slide"
    }
   },
   "source": [
    "## JHU Burn Rates\n",
    "\n",
    "### ICU Assumptions\n",
    "\n",
    "Gloves: 2 gloves for each of 170 changes per patient per day. This assumes a change with each patient encounter, as per normal practice by all healthcare workers.\n",
    "\n",
    "Gowns: Assumes that COVID patients are cohorted and that a single gown is worn for 4 hours by each healthcare worker assigned to the COVID cohort, unless it becomes visibly soiled. Accounting for all the various healthcare workers involved in the care of an ICU patient, 20 changes per patient per day.\n",
    "\n",
    "Simple masks: Assumes that COVID patients are cohorted and that a single mask is worn for 4 hours by each healthcare worker assigned to the COVID cohort, unless it becomes visibly soiled. 10 changes per patient per day.\n",
    "\n",
    "N95 respirators: Assumes that COVID patients are cohorted and that a single mask is worn for 4 hours by each healthcare worker assigned to the COVID cohort, unless it becomes visibly soiled. N95s are used only by healthcare workers in proximity (3 feet) to COVID patients. 6 changes per patient per day.\n",
    "\n",
    "### Non-ICU Assumptions\n",
    "\n",
    "Gloves: 2 gloves for each of 80 changes per patient per day. This assumes a change with each patient encounter, as per normal practice by all healthcare workers.\n",
    "\n",
    "Gowns: Assumes that COVID patients are cohorted and that a single gown is worn for 4 hours by each healthcare worker assigned to the COVID cohort, unless it becomes visibly soiled. 20 changes per patient per day.\n",
    "\n",
    "Simple masks: Assumes that COVID patients are cohorted and that a single mask is worn for 4 hours by each healthcare worker assigned to the COVID cohort, unless it becomes visibly soiled. 10 changes per patient per day.\n",
    "\n",
    "N95 respirators: Respirators worn only for nebulizer treatments, intubations, and other aerosol-generating procedures. An average of 2.6 changes per patient per day."
   ]
  },
  {
   "cell_type": "markdown",
   "metadata": {
    "slideshow": {
     "slide_type": "subslide"
    }
   },
   "source": [
    "### Daily Burn Rates\n",
    "\n",
    "Let `n` be the number of hospital COVID patients. IHME assumption is that 27% of patients will go to ICU.\n",
    "\n",
    "Gloves (g): \n",
    "\n",
    "`g = (0.27n)(85) + (0.73n)(40) = 52.15 pairs per patient per day`\n",
    "\n",
    "Gowns: (G): \n",
    "\n",
    "`G = 20n = 20 gowns per patient per day`\n",
    "\n",
    "Simple masks (m): \n",
    "\n",
    "`m = 10n = 10 masks per patient per day`\n",
    "\n",
    "N95 Respirators (M): \n",
    "\n",
    "`M = (0.27n)(6) + (0.73n)(2.6) = 3.52 N95 masks per patient per day`"
   ]
  },
  {
   "cell_type": "code",
   "execution_count": 4,
   "metadata": {
    "slideshow": {
     "slide_type": "subslide"
    }
   },
   "outputs": [
    {
     "data": {
      "application/vnd.jupyter.widget-view+json": {
       "model_id": "eeeb96a05a644eb8a0936a0e22a05810",
       "version_major": 2,
       "version_minor": 0
      },
      "text/plain": [
       "VBox(children=(FloatSlider(value=0.95, continuous_update=False, description='CR', max=0.99, min=0.7, step=0.01…"
      ]
     },
     "metadata": {},
     "output_type": "display_data"
    }
   ],
   "source": [
    "jhu_config = set_config('../config/jhu')\n",
    "jhu_restart = RestartModel(config_dir='../config/jhu', population='dict')\n",
    "jhu_model = jhu_restart.model\n",
    "\n",
    "jhu_epi_df = pd.read_csv('epi_ranges.csv',index_col='Model')\n",
    "jhu_epi_df.drop(['CA Projected Non-COVID Patients'], axis=0, inplace=True)\n",
    "\n",
    "# adjusting so it's in terms of population, since we're not doing vents here\n",
    "jhu_epi_df = jhu_epi_df * 4.12\n",
    "jhu_epi_df.columns = ['Population Low', 'Population Mid', 'Population High']\n",
    "jhu_stdev = jhu_epi_df.apply(\n",
    "    lambda row: triangular(\n",
    "        row['Population Mid'],\n",
    "        row['Population Low'], \n",
    "        row['Population High']\n",
    "    ), axis=1\n",
    ")\n",
    "\n",
    "jhu_epi_df['Population Mean'] = jhu_epi_df.mean(axis=1)\n",
    "\n",
    "jhu_epi_df['Population SD'] = jhu_stdev\n",
    "\n",
    "\n",
    "def calc_eoq(df, cr):\n",
    "    Z=norm.ppf(cr)\n",
    "    df['Adjusted Population'] = df['Population Mean'] + (Z * df['Population SD'])\n",
    "    return df\n",
    "\n",
    "def display_jhu_eoq(cr, days):\n",
    "    # calculate the hospitalization EOQ\n",
    "    epi = calc_eoq(jhu_epi_df, cr)\n",
    "    eoq_df = 0.243 * epi\n",
    "    # adjusting the non-COVID patients\n",
    "    eoq_sheet = to_sheet(eoq_df)\n",
    "    display_population(eoq_sheet, round=True)\n",
    "    # calculate stockpile projections\n",
    "    preds_df = Data(\n",
    "        \"demand_by_pop_total_pn_tc\", jhu_config)\n",
    "    preds_df.array = (jhu_model.demand.demand_by_pop_per_person_pn_uc.array.T * jhu_epi_df[\"Adjusted Population\"].to_numpy().T).T\n",
    "    preds_df.array *= days\n",
    "    preds_sheet = to_sheet(preds_df.df)\n",
    "    chart = generate_group_bar_legend(preds_df.df, scientific_notation=True)\n",
    "    display_population(preds_sheet, round=True)\n",
    "    display(chart)\n",
    "    \n",
    "jhu_burn_sheet = format_population(to_sheet(jhu_model.demand.demand_per_unit_map_dn_um.df))\n",
    "\n",
    "jhu_cr_slider = widgets.FloatSlider(min=0.70,max=0.99,step=0.01,value=0.95, continuous_update=False, description=\"CR\")\n",
    "jhu_day_slider = widgets.IntSlider(min=1, max=120, value=30, continuous_update=False, description=\"Days\")\n",
    "jhu_out = widgets.interactive_output(display_jhu_eoq, {'cr': jhu_cr_slider, 'days': jhu_day_slider})\n",
    "widgets.VBox([jhu_cr_slider, jhu_day_slider, jhu_out])"
   ]
  },
  {
   "cell_type": "markdown",
   "metadata": {
    "slideshow": {
     "slide_type": "slide"
    }
   },
   "source": [
    "Visual summary of all burn-rate assumptions"
   ]
  },
  {
   "cell_type": "code",
   "execution_count": 5,
   "metadata": {
    "scrolled": false,
    "slideshow": {
     "slide_type": "subslide"
    }
   },
   "outputs": [
    {
     "data": {
      "application/vnd.jupyter.widget-view+json": {
       "model_id": "a55979a34d52468983f788a8e664b6a1",
       "version_major": 2,
       "version_minor": 0
      },
      "text/plain": [
       "Sheet(cells=(Cell(column_end=0, column_start=0, numeric_format='0,000', read_only=True, row_end=9, row_start=0…"
      ]
     },
     "metadata": {},
     "output_type": "display_data"
    }
   ],
   "source": [
    "burn_summary_df = pd.concat([\n",
    "    jhu_model.demand.demand_per_unit_map_dn_um.df, \n",
    "    oes_model.demand.demand_per_unit_map_dn_um.df, \n",
    "    model.demand.demand_per_unit_map_dn_um.df\n",
    "])\n",
    "\n",
    "burn_summary_df.fillna(0, inplace=True)\n",
    "\n",
    "burn_summary_sheet = format_population(to_sheet(burn_summary_df))\n",
    "burn_summary_chart_list = generate_separate_bar_list(burn_summary_df, small_xlabel=True)\n",
    "burn_summary_chart_legend = generate_html_legend(burn_summary_df)\n",
    "\n",
    "display(burn_summary_sheet)"
   ]
  },
  {
   "cell_type": "code",
   "execution_count": 6,
   "metadata": {
    "slideshow": {
     "slide_type": "subslide"
    }
   },
   "outputs": [
    {
     "data": {
      "application/vnd.jupyter.widget-view+json": {
       "model_id": "388a6ce3f48d43fc9cee65db4ac011c5",
       "version_major": 2,
       "version_minor": 0
      },
      "text/plain": [
       "Figure(axes=[Axis(scale=OrdinalScale(), side='bottom', tick_style={'font-size': '6'}), Axis(orientation='verti…"
      ]
     },
     "metadata": {},
     "output_type": "display_data"
    },
    {
     "data": {
      "application/vnd.jupyter.widget-view+json": {
       "model_id": "ad724d46590c4ffbb04c6ddf74608c6c",
       "version_major": 2,
       "version_minor": 0
      },
      "text/plain": [
       "HTML(value=\"<div style='font-size:13px; font-family:helvetica'><b style='font-weight:bold'>Demand for Resource…"
      ]
     },
     "metadata": {},
     "output_type": "display_data"
    }
   ],
   "source": [
    "display(burn_summary_chart_list[0], burn_summary_chart_legend)"
   ]
  },
  {
   "cell_type": "code",
   "execution_count": 7,
   "metadata": {
    "slideshow": {
     "slide_type": "subslide"
    }
   },
   "outputs": [
    {
     "data": {
      "application/vnd.jupyter.widget-view+json": {
       "model_id": "41c08f7d023645cf964b5ab8f0a516d3",
       "version_major": 2,
       "version_minor": 0
      },
      "text/plain": [
       "Figure(axes=[Axis(scale=OrdinalScale(), side='bottom', tick_style={'font-size': '6'}), Axis(orientation='verti…"
      ]
     },
     "metadata": {},
     "output_type": "display_data"
    },
    {
     "data": {
      "application/vnd.jupyter.widget-view+json": {
       "model_id": "ad724d46590c4ffbb04c6ddf74608c6c",
       "version_major": 2,
       "version_minor": 0
      },
      "text/plain": [
       "HTML(value=\"<div style='font-size:13px; font-family:helvetica'><b style='font-weight:bold'>Demand for Resource…"
      ]
     },
     "metadata": {},
     "output_type": "display_data"
    }
   ],
   "source": [
    "display(burn_summary_chart_list[1], burn_summary_chart_legend)"
   ]
  },
  {
   "cell_type": "code",
   "execution_count": 8,
   "metadata": {
    "slideshow": {
     "slide_type": "subslide"
    }
   },
   "outputs": [
    {
     "data": {
      "application/vnd.jupyter.widget-view+json": {
       "model_id": "50aae171b71c48a48d62fb3bcfa2df4f",
       "version_major": 2,
       "version_minor": 0
      },
      "text/plain": [
       "Figure(axes=[Axis(scale=OrdinalScale(), side='bottom', tick_style={'font-size': '6'}), Axis(orientation='verti…"
      ]
     },
     "metadata": {},
     "output_type": "display_data"
    },
    {
     "data": {
      "application/vnd.jupyter.widget-view+json": {
       "model_id": "ad724d46590c4ffbb04c6ddf74608c6c",
       "version_major": 2,
       "version_minor": 0
      },
      "text/plain": [
       "HTML(value=\"<div style='font-size:13px; font-family:helvetica'><b style='font-weight:bold'>Demand for Resource…"
      ]
     },
     "metadata": {},
     "output_type": "display_data"
    }
   ],
   "source": [
    "display(burn_summary_chart_list[2], burn_summary_chart_legend)"
   ]
  },
  {
   "cell_type": "code",
   "execution_count": 9,
   "metadata": {
    "slideshow": {
     "slide_type": "subslide"
    }
   },
   "outputs": [
    {
     "data": {
      "application/vnd.jupyter.widget-view+json": {
       "model_id": "76dddc8256e84ed4abc24f6c43ec5e91",
       "version_major": 2,
       "version_minor": 0
      },
      "text/plain": [
       "Figure(axes=[Axis(scale=OrdinalScale(), side='bottom', tick_style={'font-size': '6'}), Axis(orientation='verti…"
      ]
     },
     "metadata": {},
     "output_type": "display_data"
    },
    {
     "data": {
      "application/vnd.jupyter.widget-view+json": {
       "model_id": "ad724d46590c4ffbb04c6ddf74608c6c",
       "version_major": 2,
       "version_minor": 0
      },
      "text/plain": [
       "HTML(value=\"<div style='font-size:13px; font-family:helvetica'><b style='font-weight:bold'>Demand for Resource…"
      ]
     },
     "metadata": {},
     "output_type": "display_data"
    }
   ],
   "source": [
    "display(burn_summary_chart_list[3], burn_summary_chart_legend)"
   ]
  },
  {
   "cell_type": "code",
   "execution_count": 10,
   "metadata": {
    "slideshow": {
     "slide_type": "subslide"
    }
   },
   "outputs": [
    {
     "data": {
      "application/vnd.jupyter.widget-view+json": {
       "model_id": "531108c9c2ad4922835e1cfee0093304",
       "version_major": 2,
       "version_minor": 0
      },
      "text/plain": [
       "Figure(axes=[Axis(scale=OrdinalScale(), side='bottom', tick_style={'font-size': '6'}), Axis(orientation='verti…"
      ]
     },
     "metadata": {},
     "output_type": "display_data"
    },
    {
     "data": {
      "application/vnd.jupyter.widget-view+json": {
       "model_id": "ad724d46590c4ffbb04c6ddf74608c6c",
       "version_major": 2,
       "version_minor": 0
      },
      "text/plain": [
       "HTML(value=\"<div style='font-size:13px; font-family:helvetica'><b style='font-weight:bold'>Demand for Resource…"
      ]
     },
     "metadata": {},
     "output_type": "display_data"
    }
   ],
   "source": [
    "display(burn_summary_chart_list[4], burn_summary_chart_legend)"
   ]
  },
  {
   "cell_type": "code",
   "execution_count": 11,
   "metadata": {
    "slideshow": {
     "slide_type": "subslide"
    }
   },
   "outputs": [
    {
     "data": {
      "application/vnd.jupyter.widget-view+json": {
       "model_id": "38a0830a2ab94347a14ef339d4a756e7",
       "version_major": 2,
       "version_minor": 0
      },
      "text/plain": [
       "Figure(axes=[Axis(scale=OrdinalScale(), side='bottom', tick_style={'font-size': '6'}), Axis(orientation='verti…"
      ]
     },
     "metadata": {},
     "output_type": "display_data"
    },
    {
     "data": {
      "application/vnd.jupyter.widget-view+json": {
       "model_id": "ad724d46590c4ffbb04c6ddf74608c6c",
       "version_major": 2,
       "version_minor": 0
      },
      "text/plain": [
       "HTML(value=\"<div style='font-size:13px; font-family:helvetica'><b style='font-weight:bold'>Demand for Resource…"
      ]
     },
     "metadata": {},
     "output_type": "display_data"
    }
   ],
   "source": [
    "display(burn_summary_chart_list[5], burn_summary_chart_legend)"
   ]
  },
  {
   "cell_type": "code",
   "execution_count": 12,
   "metadata": {
    "slideshow": {
     "slide_type": "subslide"
    }
   },
   "outputs": [
    {
     "data": {
      "application/vnd.jupyter.widget-view+json": {
       "model_id": "e9d0998aeb42477d816192cedec9891c",
       "version_major": 2,
       "version_minor": 0
      },
      "text/plain": [
       "Figure(axes=[Axis(scale=OrdinalScale(), side='bottom', tick_style={'font-size': '6'}), Axis(orientation='verti…"
      ]
     },
     "metadata": {},
     "output_type": "display_data"
    },
    {
     "data": {
      "application/vnd.jupyter.widget-view+json": {
       "model_id": "ad724d46590c4ffbb04c6ddf74608c6c",
       "version_major": 2,
       "version_minor": 0
      },
      "text/plain": [
       "HTML(value=\"<div style='font-size:13px; font-family:helvetica'><b style='font-weight:bold'>Demand for Resource…"
      ]
     },
     "metadata": {},
     "output_type": "display_data"
    }
   ],
   "source": [
    "display(burn_summary_chart_list[6], burn_summary_chart_legend)"
   ]
  },
  {
   "cell_type": "code",
   "execution_count": 13,
   "metadata": {
    "slideshow": {
     "slide_type": "subslide"
    }
   },
   "outputs": [
    {
     "data": {
      "application/vnd.jupyter.widget-view+json": {
       "model_id": "f15b8ce5441944158037ea2b08fbe283",
       "version_major": 2,
       "version_minor": 0
      },
      "text/plain": [
       "Figure(axes=[Axis(scale=OrdinalScale(), side='bottom', tick_style={'font-size': '6'}), Axis(orientation='verti…"
      ]
     },
     "metadata": {},
     "output_type": "display_data"
    },
    {
     "data": {
      "application/vnd.jupyter.widget-view+json": {
       "model_id": "ad724d46590c4ffbb04c6ddf74608c6c",
       "version_major": 2,
       "version_minor": 0
      },
      "text/plain": [
       "HTML(value=\"<div style='font-size:13px; font-family:helvetica'><b style='font-weight:bold'>Demand for Resource…"
      ]
     },
     "metadata": {},
     "output_type": "display_data"
    }
   ],
   "source": [
    "display(burn_summary_chart_list[7], burn_summary_chart_legend)"
   ]
  },
  {
   "cell_type": "code",
   "execution_count": 14,
   "metadata": {
    "slideshow": {
     "slide_type": "subslide"
    }
   },
   "outputs": [
    {
     "data": {
      "application/vnd.jupyter.widget-view+json": {
       "model_id": "b56ba9e9292c4251ab3d52bbab5e211d",
       "version_major": 2,
       "version_minor": 0
      },
      "text/plain": [
       "Figure(axes=[Axis(scale=OrdinalScale(), side='bottom', tick_style={'font-size': '6'}), Axis(orientation='verti…"
      ]
     },
     "metadata": {},
     "output_type": "display_data"
    },
    {
     "data": {
      "application/vnd.jupyter.widget-view+json": {
       "model_id": "ad724d46590c4ffbb04c6ddf74608c6c",
       "version_major": 2,
       "version_minor": 0
      },
      "text/plain": [
       "HTML(value=\"<div style='font-size:13px; font-family:helvetica'><b style='font-weight:bold'>Demand for Resource…"
      ]
     },
     "metadata": {},
     "output_type": "display_data"
    }
   ],
   "source": [
    "display(burn_summary_chart_list[8], burn_summary_chart_legend)"
   ]
  },
  {
   "cell_type": "code",
   "execution_count": 15,
   "metadata": {
    "slideshow": {
     "slide_type": "subslide"
    }
   },
   "outputs": [
    {
     "data": {
      "application/vnd.jupyter.widget-view+json": {
       "model_id": "da5d253b7f86457b88fbf1cb93b2bfd2",
       "version_major": 2,
       "version_minor": 0
      },
      "text/plain": [
       "Figure(axes=[Axis(scale=OrdinalScale(), side='bottom', tick_style={'font-size': '6'}), Axis(orientation='verti…"
      ]
     },
     "metadata": {},
     "output_type": "display_data"
    },
    {
     "data": {
      "application/vnd.jupyter.widget-view+json": {
       "model_id": "ad724d46590c4ffbb04c6ddf74608c6c",
       "version_major": 2,
       "version_minor": 0
      },
      "text/plain": [
       "HTML(value=\"<div style='font-size:13px; font-family:helvetica'><b style='font-weight:bold'>Demand for Resource…"
      ]
     },
     "metadata": {},
     "output_type": "display_data"
    }
   ],
   "source": [
    "display(burn_summary_chart_list[9], burn_summary_chart_legend)"
   ]
  },
  {
   "cell_type": "code",
   "execution_count": 16,
   "metadata": {
    "slideshow": {
     "slide_type": "subslide"
    }
   },
   "outputs": [
    {
     "data": {
      "application/vnd.jupyter.widget-view+json": {
       "model_id": "a3f39c925496405bbf176cb76cf3ab45",
       "version_major": 2,
       "version_minor": 0
      },
      "text/plain": [
       "Figure(axes=[Axis(scale=OrdinalScale(), side='bottom', tick_style={'font-size': '6'}), Axis(orientation='verti…"
      ]
     },
     "metadata": {},
     "output_type": "display_data"
    },
    {
     "data": {
      "application/vnd.jupyter.widget-view+json": {
       "model_id": "ad724d46590c4ffbb04c6ddf74608c6c",
       "version_major": 2,
       "version_minor": 0
      },
      "text/plain": [
       "HTML(value=\"<div style='font-size:13px; font-family:helvetica'><b style='font-weight:bold'>Demand for Resource…"
      ]
     },
     "metadata": {},
     "output_type": "display_data"
    }
   ],
   "source": [
    "display(burn_summary_chart_list[10], burn_summary_chart_legend)"
   ]
  },
  {
   "cell_type": "code",
   "execution_count": 17,
   "metadata": {
    "slideshow": {
     "slide_type": "subslide"
    }
   },
   "outputs": [
    {
     "data": {
      "application/vnd.jupyter.widget-view+json": {
       "model_id": "f089a24f81d9423bbe6917348ebc7a83",
       "version_major": 2,
       "version_minor": 0
      },
      "text/plain": [
       "Figure(axes=[Axis(scale=OrdinalScale(), side='bottom', tick_style={'font-size': '6'}), Axis(orientation='verti…"
      ]
     },
     "metadata": {},
     "output_type": "display_data"
    },
    {
     "data": {
      "application/vnd.jupyter.widget-view+json": {
       "model_id": "ad724d46590c4ffbb04c6ddf74608c6c",
       "version_major": 2,
       "version_minor": 0
      },
      "text/plain": [
       "HTML(value=\"<div style='font-size:13px; font-family:helvetica'><b style='font-weight:bold'>Demand for Resource…"
      ]
     },
     "metadata": {},
     "output_type": "display_data"
    }
   ],
   "source": [
    "display(burn_summary_chart_list[11], burn_summary_chart_legend)"
   ]
  },
  {
   "cell_type": "code",
   "execution_count": 18,
   "metadata": {
    "slideshow": {
     "slide_type": "subslide"
    }
   },
   "outputs": [
    {
     "data": {
      "application/vnd.jupyter.widget-view+json": {
       "model_id": "eaecad0335fc42a1b4b82a21a7441ce7",
       "version_major": 2,
       "version_minor": 0
      },
      "text/plain": [
       "Figure(axes=[Axis(scale=OrdinalScale(), side='bottom', tick_style={'font-size': '6'}), Axis(orientation='verti…"
      ]
     },
     "metadata": {},
     "output_type": "display_data"
    },
    {
     "data": {
      "application/vnd.jupyter.widget-view+json": {
       "model_id": "ad724d46590c4ffbb04c6ddf74608c6c",
       "version_major": 2,
       "version_minor": 0
      },
      "text/plain": [
       "HTML(value=\"<div style='font-size:13px; font-family:helvetica'><b style='font-weight:bold'>Demand for Resource…"
      ]
     },
     "metadata": {},
     "output_type": "display_data"
    }
   ],
   "source": [
    "display(burn_summary_chart_list[12], burn_summary_chart_legend)"
   ]
  },
  {
   "cell_type": "code",
   "execution_count": 19,
   "metadata": {
    "slideshow": {
     "slide_type": "subslide"
    }
   },
   "outputs": [
    {
     "data": {
      "application/vnd.jupyter.widget-view+json": {
       "model_id": "c7e0a0587a8f428b8a8f3ed5c7e8ce55",
       "version_major": 2,
       "version_minor": 0
      },
      "text/plain": [
       "Figure(axes=[Axis(scale=OrdinalScale(), side='bottom', tick_style={'font-size': '6'}), Axis(orientation='verti…"
      ]
     },
     "metadata": {},
     "output_type": "display_data"
    },
    {
     "data": {
      "application/vnd.jupyter.widget-view+json": {
       "model_id": "ad724d46590c4ffbb04c6ddf74608c6c",
       "version_major": 2,
       "version_minor": 0
      },
      "text/plain": [
       "HTML(value=\"<div style='font-size:13px; font-family:helvetica'><b style='font-weight:bold'>Demand for Resource…"
      ]
     },
     "metadata": {},
     "output_type": "display_data"
    }
   ],
   "source": [
    "display(burn_summary_chart_list[13], burn_summary_chart_legend)"
   ]
  },
  {
   "cell_type": "code",
   "execution_count": 20,
   "metadata": {
    "slideshow": {
     "slide_type": "subslide"
    }
   },
   "outputs": [
    {
     "data": {
      "application/vnd.jupyter.widget-view+json": {
       "model_id": "5846d6020dfd4e49a3ddfb151907088d",
       "version_major": 2,
       "version_minor": 0
      },
      "text/plain": [
       "Figure(axes=[Axis(scale=OrdinalScale(), side='bottom', tick_style={'font-size': '6'}), Axis(orientation='verti…"
      ]
     },
     "metadata": {},
     "output_type": "display_data"
    },
    {
     "data": {
      "application/vnd.jupyter.widget-view+json": {
       "model_id": "ad724d46590c4ffbb04c6ddf74608c6c",
       "version_major": 2,
       "version_minor": 0
      },
      "text/plain": [
       "HTML(value=\"<div style='font-size:13px; font-family:helvetica'><b style='font-weight:bold'>Demand for Resource…"
      ]
     },
     "metadata": {},
     "output_type": "display_data"
    }
   ],
   "source": [
    "display(burn_summary_chart_list[14], burn_summary_chart_legend)"
   ]
  },
  {
   "cell_type": "code",
   "execution_count": 21,
   "metadata": {
    "slideshow": {
     "slide_type": "subslide"
    }
   },
   "outputs": [
    {
     "data": {
      "application/vnd.jupyter.widget-view+json": {
       "model_id": "dca37af635f84a9baf457e7563b388c8",
       "version_major": 2,
       "version_minor": 0
      },
      "text/plain": [
       "Figure(axes=[Axis(scale=OrdinalScale(), side='bottom', tick_style={'font-size': '6'}), Axis(orientation='verti…"
      ]
     },
     "metadata": {},
     "output_type": "display_data"
    },
    {
     "data": {
      "application/vnd.jupyter.widget-view+json": {
       "model_id": "ad724d46590c4ffbb04c6ddf74608c6c",
       "version_major": 2,
       "version_minor": 0
      },
      "text/plain": [
       "HTML(value=\"<div style='font-size:13px; font-family:helvetica'><b style='font-weight:bold'>Demand for Resource…"
      ]
     },
     "metadata": {},
     "output_type": "display_data"
    }
   ],
   "source": [
    "display(burn_summary_chart_list[15], burn_summary_chart_legend)"
   ]
  },
  {
   "cell_type": "code",
   "execution_count": 22,
   "metadata": {
    "scrolled": false,
    "slideshow": {
     "slide_type": "skip"
    }
   },
   "outputs": [
    {
     "data": {
      "application/vnd.jupyter.widget-view+json": {
       "model_id": "4fd026771fff47a295c6a0f2b3338ab8",
       "version_major": 2,
       "version_minor": 0
      },
      "text/plain": [
       "Tabs(children=[Tab(children=['PPE Analysis']), Tab(children=['Population']), Tab(children=['Burn Rates']), Tab…"
      ]
     },
     "metadata": {},
     "output_type": "display_data"
    }
   ],
   "source": [
    "import ipyvuetify as v\n",
    "v.theme.themes.light.primary = 'colors.teal'\n",
    "\n",
    "v.Tabs(_metadata={'mount_id': 'content-main'}, children=[\n",
    "    v.Tab(children=['PPE Analysis']),\n",
    "    v.Tab(children=['Population']),\n",
    "    v.Tab(children=['Burn Rates']),\n",
    "    v.TabItem(children=[\n",
    "        v.Layout(column=True, wrap=True, align_left=True, children=[\n",
    "            v.Card(xs12=True, lg6=True, xl4=True, children=[\n",
    "                v.CardTitle(primary_title=True, class_='headline', children=[\"Covid Incremental Ventilator Requirements\"]),\n",
    "                v.CardText(children=[\n",
    "                    \"Vent + PPE analysis with CA burn rates:\"\n",
    "                ]),\n",
    "                ca_cr_slider, ca_day_slider, ca_out,\n",
    "                v.CardText(children=[\n",
    "                    \"PPE and population analysis with JHU burn rates:\"\n",
    "                ]),\n",
    "                jhu_cr_slider, jhu_day_slider, jhu_out,\n",
    "                v.CardText(children=[\n",
    "                    \"PPE and population analysis with OES population and WA burn rates:\"\n",
    "                ]),\n",
    "                oes_slider, oes_out,\n",
    "            ]),\n",
    "                \n",
    "        ])\n",
    "    ]),\n",
    "    v.TabItem(children=[\n",
    "        v.Layout(column=True, wrap=True, align_left=True, children=[\n",
    "            v.Card(xs12=True, lg6=True, xl4=True, children=[\n",
    "                v.CardTitle(primary_title=True, class_='headline', children=[\"BLS Population with High Granularity\"]),\n",
    "                v.CardText(children=[\n",
    "                    \"OES Population\"\n",
    "                ]),\n",
    "                oes_pop\n",
    "            ])\n",
    "                \n",
    "        ])\n",
    "    ]),\n",
    "    v.TabItem(children=[\n",
    "        v.Layout(column=True, wrap=True, align_left=True, children=[\n",
    "            v.Card(xs12=True, lg6=True, x14=True, children=[\n",
    "                v.CardTitle(primary_title=True, class_='headline', children=[\"Burn Rates\"]),\n",
    "                v.CardSubtitle(children=[\"Per Capita Resource Demand: CA Assumptions\"]),\n",
    "                burn_sheet,\n",
    "                burn_chart,\n",
    "                v.CardSubtitle(children=[\"Per Capita Resource Demand: JHU Assumptions\"]),\n",
    "                jhu_burn_sheet,\n",
    "                v.CardSubtitle(children=[\"Per Capita Resource Demand: WA Assumptions\"]),\n",
    "                wa_burn_sheet,\n",
    "            ])\n",
    "        ])\n",
    "    ])\n",
    "])"
   ]
  }
 ],
 "metadata": {
  "celltoolbar": "Slideshow",
  "kernelspec": {
   "display_name": "Python 3",
   "language": "python",
   "name": "python3"
  },
  "language_info": {
   "codemirror_mode": {
    "name": "ipython",
    "version": 3
   },
   "file_extension": ".py",
   "mimetype": "text/x-python",
   "name": "python",
   "nbconvert_exporter": "python",
   "pygments_lexer": "ipython3",
   "version": "3.8.5"
  }
 },
 "nbformat": 4,
 "nbformat_minor": 4
}
