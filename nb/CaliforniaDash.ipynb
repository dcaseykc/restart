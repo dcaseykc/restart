{
 "cells": [
  {
   "cell_type": "code",
   "execution_count": 3,
   "metadata": {},
   "outputs": [],
   "source": [
    "import sys\n",
    "import pandas as pd\n",
    "sys.path.append('../src')\n",
    "from restart import NoteCompose\n",
    "from util import set_config, to_df, to_sheet, display_population, format_population\n",
    "\n",
    "config = set_config('../src')\n",
    "restart = NoteCompose(configdir='../src/', population='dict')\n",
    "population = restart.model.population\n",
    "resource = restart.model.resource\n",
    "demand = restart.model.demand\n",
    "inventory=restart.model.inventory"
   ]
  },
  {
   "cell_type": "code",
   "execution_count": 12,
   "metadata": {},
   "outputs": [],
   "source": [
    "# read IHME data into dataframe\n",
    "dfihmen = pd.read_csv('../../data/epidemiological/global/IHME/Reference_Hospitalization_All_Locs.csv')\n",
    "\n",
    "# filter dataframe for California only\n",
    "dfihmen = dfihmen.loc[dfihmen['location_name'] == 'California']\n",
    "\n",
    "# Find maximum forecasted number of covid patients needing ICU beds \n",
    "max_icuIHME = (dfihmen.loc[dfihmen['ICUbed_upper'] == max(dfihmen['ICUbed_upper'])].reset_index())['ICUbed_upper'][0]\n",
    "max_bedIHME = (dfihmen.loc[dfihmen['allbed_upper'] == max(dfihmen['allbed_upper'])].reset_index())['allbed_upper'][0]\n",
    "max_ventIHME = (dfihmen.loc[dfihmen['InvVen_upper'] == max(dfihmen['InvVen_upper'])].reset_index())['InvVen_upper'][0]\n",
    "# print('IHME Max COVID Patients Needing ICU Bed is ' + str(max_icuIHME))\n",
    "# print('IHME Max COVID Patients Needing Hospital Bed is ' +str(max_bedIHME))\n",
    "# print('IHME Max COVID Patients Needing Ventilation is ' + str(max_ventIHME))\n",
    "\n",
    "# read MIT CA data into dataframe\n",
    "dfmit = pd.read_csv('../../data/epidemiological/us/forecasts/MIT/state/hospital/MIT_state_CA_hospitalproj.csv')\n",
    "\n",
    "# Find maximum forecasted number of active ventilated and hospitalized covid patients\n",
    "max_ventMIT = dfmit.loc[dfmit['Active Ventilated'] == max(dfmit['Active Ventilated'])]['Active Ventilated'][0]\n",
    "max_hospMIT = dfmit.loc[dfmit['Active Hospitalized'] == max(dfmit['Active Hospitalized'])]['Active Hospitalized'][0]\n",
    "# print('MIT Max COVID Patients Active Hospitalized is ' + str(max_hospMIT))\n",
    "# print('MIT Max COVID Patients Needing Ventilation is ' + str(max_ventMIT))"
   ]
  },
  {
   "cell_type": "code",
   "execution_count": 5,
   "metadata": {},
   "outputs": [],
   "source": [
    "pop_sheet = format_population(to_sheet(population.population_pP_tr.df), round=True)\n",
    "daily_sheet = format_population(to_sheet(demand.demand_by_pop_total_pn_tc.df), round=True)\n",
    "burn_sheet = format_population(to_sheet(demand.demand_per_unit_map_dn_um.df))"
   ]
  },
  {
   "cell_type": "code",
   "execution_count": 11,
   "metadata": {},
   "outputs": [
    {
     "data": {
      "application/vnd.jupyter.widget-view+json": {
       "model_id": "44ee07dfdf05402e8f8b0e8d5d42fccc",
       "version_major": 2,
       "version_minor": 0
      },
      "text/plain": [
       "Tabs(children=[Tab(children=['Home']), Tab(children=['Projected Patients']), Tab(children=['Daily Demand']), T…"
      ]
     },
     "metadata": {},
     "output_type": "display_data"
    }
   ],
   "source": [
    "import ipyvuetify as v\n",
    "v.theme.themes.light.primary = 'colors.teal'\n",
    "\n",
    "v.Tabs(_metadata={'mount_id': 'content-main'}, children=[\n",
    "    v.Tab(children=['Home']),\n",
    "    v.Tab(children=['Projected Patients']),\n",
    "    v.Tab(children=['Daily Demand']),\n",
    "    v.Tab(children=['Burn Rates']),\n",
    "    v.TabItem(children = [\n",
    "        v.Html(tag='h1', children=['Restart Partners Projection']),\n",
    "        v.Html(tag='p', children=[\n",
    "            \"We project that a purchase of additional ventilators is not necessary. In our stockpile analysis we used several different models, including the CHA PPE projections, IHME COVID surge predictions, and MIT COVID surge predictions. The maximum projected ventilator need we found was 8,289, based on the IHME surge predictions.\"\n",
    "        ])\n",
    "    ]),\n",
    "    v.TabItem(children=[\n",
    "        v.Layout(column=True, wrap=True, align_left=True, children=[\n",
    "            v.Card(xs12=True, lg6=True, xl4=True, children=[\n",
    "                v.CardTitle(primary_title=True, class_='headline', children=[\"Population\"]),\n",
    "                v.CardSubtitle(children=[\"Projected Patients\"]),\n",
    "                pop_sheet\n",
    "            ])\n",
    "        ])\n",
    "    ]),\n",
    "    v.TabItem(children=[\n",
    "        v.Layout(column=True, wrap=True, align_left=True, children=[\n",
    "            v.Card(xs12=True, lg6=True, x14=True, children=[\n",
    "                v.CardTitle(primary_title=True, class_='headline', children=[\"Demand\"]),\n",
    "                v.CardSubtitle(children=[\"Daily Resource Demand\"]),\n",
    "                daily_sheet\n",
    "            ])\n",
    "        ])\n",
    "    ]),\n",
    "    v.TabItem(children=[\n",
    "        v.Layout(column=True, wrap=True, align_left=True, children=[\n",
    "            v.Card(xs12=True, lg6=True, x14=True, children=[\n",
    "                v.CardTitle(primary_title=True, class_='headline', children=[\"Burn Rates\"]),\n",
    "                v.CardSubtitle(children=[\"Per Capita Resource Demand\"]),\n",
    "                burn_sheet\n",
    "            ])\n",
    "        ])\n",
    "    ])\n",
    "])"
   ]
  }
 ],
 "metadata": {
  "kernelspec": {
   "display_name": "Python 3",
   "language": "python",
   "name": "python3"
  },
  "language_info": {
   "codemirror_mode": {
    "name": "ipython",
    "version": 3
   },
   "file_extension": ".py",
   "mimetype": "text/x-python",
   "name": "python",
   "nbconvert_exporter": "python",
   "pygments_lexer": "ipython3",
   "version": "3.8.5"
  }
 },
 "nbformat": 4,
 "nbformat_minor": 4
}
