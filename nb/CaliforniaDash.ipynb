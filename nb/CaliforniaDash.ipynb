{
 "cells": [
  {
   "cell_type": "markdown",
   "metadata": {},
   "source": [
    "# COVID Incremental Ventilator Requirements"
   ]
  },
  {
   "cell_type": "code",
   "execution_count": 1,
   "metadata": {},
   "outputs": [],
   "source": [
    "import sys\n",
    "import pandas as pd\n",
    "sys.path.append('../src')\n",
    "from restart import NoteCompose\n",
    "from util import set_config, to_df, to_sheet, display_population, format_population"
   ]
  },
  {
   "cell_type": "markdown",
   "metadata": {},
   "source": [
    "## Methodology Overview and Assumptions (for Rich to Vet)\n",
    "\n",
    "Code to fetch the IHME and MIT numbers is in `src/extern/data/epidemiological` (written by Ethan). He has mentioned that the MIT projections have a peak in August and are monotically decreasing ever since, so maybe we should drop those. \n",
    "\n",
    "In addition, various RAND and CAN scenarios were pulled manually directly from the CalCat website and placed into the model, using the upper bounds. Some of these should probably be pruned out, as (by design) they are unrealistically high and then we're also taking an upper bound on top of that. We use the hack of representing these demands in our population module. \n",
    "\n",
    "This is a Python implementation of David's range calculations. Change the slider to change the CR."
   ]
  },
  {
   "cell_type": "code",
   "execution_count": 12,
   "metadata": {},
   "outputs": [
    {
     "data": {
      "application/vnd.jupyter.widget-view+json": {
       "model_id": "427b723feda94ffab20ded98761397e7",
       "version_major": 2,
       "version_minor": 0
      },
      "text/plain": [
       "VBox(children=(FloatSlider(value=0.95, continuous_update=False, max=0.99, min=0.7, step=0.01), Output()))"
      ]
     },
     "metadata": {},
     "output_type": "display_data"
    }
   ],
   "source": [
    "import ipyvuetify as v\n",
    "from scipy.stats import norm\n",
    "\n",
    "ranges_df = pd.read_csv('range_model.csv', index_col='Date')\n",
    "ranges_df['Standard Deviation'] = ranges_df.std(axis=1)\n",
    "\n",
    "def calc_eoq(df, cr):\n",
    "    Z=norm.ppf(cr)\n",
    "    df['EOQ'] = df['Mid'] + (Z * df['Standard Deviation'])\n",
    "    return df\n",
    "\n",
    "def display_eoq(cr):\n",
    "    ranges_sheet = to_sheet(calc_eoq(ranges_df, cr))\n",
    "    display(ranges_sheet)\n",
    "    \n",
    "\n",
    "slider = widgets.FloatSlider(min=0.70,max=0.99,step=0.01,value=0.95, continuous_update=False)\n",
    "out = widgets.interactive_output(display_eoq, {'cr': slider})\n",
    "widgets.VBox([slider, out])"
   ]
  },
  {
   "cell_type": "code",
   "execution_count": 13,
   "metadata": {},
   "outputs": [],
   "source": [
    "config = set_config('../src')\n",
    "restart = NoteCompose(configdir='../src/', population='dict')\n",
    "population = restart.model.population\n",
    "resource = restart.model.resource\n",
    "demand = restart.model.demand"
   ]
  },
  {
   "cell_type": "markdown",
   "metadata": {},
   "source": [
    "**These are the burn rates**"
   ]
  },
  {
   "cell_type": "code",
   "execution_count": 14,
   "metadata": {},
   "outputs": [
    {
     "data": {
      "application/vnd.jupyter.widget-view+json": {
       "model_id": "42badbfa40ae424a82b91ef67e2b00f0",
       "version_major": 2,
       "version_minor": 0
      },
      "text/plain": [
       "Sheet(cells=(Cell(choice=[], column_end=0, column_start=0, numeric_format='0,000', read_only=True, row_end=1, …"
      ]
     },
     "metadata": {},
     "output_type": "display_data"
    }
   ],
   "source": [
    "burn_sheet = format_population(to_sheet(demand.demand_per_unit_map_dn_um.df))\n",
    "burn_sheet"
   ]
  },
  {
   "cell_type": "markdown",
   "metadata": {},
   "source": [
    "The only thing not from the CHA memo is the ventilator burn rate, which comes from IHME. They simply estimate ICU demand as 27% of all COVID hospitalizations, and make the assumption that 90% of COVID ICU patients will need to go on vent, so (0.27)(0.9) = 0.243. \n",
    "\n",
    "The rest of the burn rates are derived from the CHA memo (and this model replicates the PPE projections in that memo). I'm a bit uncomfortable with the burn rates - when you scale them to the IHME projections, for example, it's about 2.5 million N95 masks *per day* - that's definitely unrealistic. They *are* pretty much straight from the horse's mouth, but it might be wise for us to be clear about the source so that, as an organization, we're a bit insulated from them.\n",
    "\n",
    "Below are the population estimates we're using, and then also the resulting projections. I've added a range dimension, but not all patient projections contain ranges. In these cases I do the horrible thing of just giving one exponential on either side of the mean. If this assumption is not acceptable, I've also included a version without the range calculations. Note that these are all **daily totals** - we can't simply do a scalar multiply by the number of days we're projecting for since some of these are reusable and some aren't (namely the ventilators). \n",
    "\n",
    "First are the calculations with no ranges, using an upper bound (or if only one number is given, just that one number)."
   ]
  },
  {
   "cell_type": "code",
   "execution_count": 16,
   "metadata": {},
   "outputs": [
    {
     "data": {
      "application/vnd.jupyter.widget-view+json": {
       "model_id": "dd709e58e6574552861be732cadb98b4",
       "version_major": 2,
       "version_minor": 0
      },
      "text/plain": [
       "VBox(children=(Sheet(cells=(Cell(choice=[], column_end=0, column_start=0, numeric_format='0,000', read_only=Tr…"
      ]
     },
     "metadata": {},
     "output_type": "display_data"
    }
   ],
   "source": [
    "import ipywidgets as widgets\n",
    "pop_sheet = format_population(to_sheet(population.population_pP_tr.df), round=True)\n",
    "daily_sheet = format_population(to_sheet(demand.demand_by_pop_total_pn_tc.df), round=True)\n",
    "\n",
    "widgets.VBox([pop_sheet, daily_sheet])"
   ]
  },
  {
   "cell_type": "markdown",
   "metadata": {},
   "source": [
    "Next is the same model but with the added range dimension. Use the slider to adjust the confidence interval, and the projections will automatically update."
   ]
  },
  {
   "cell_type": "markdown",
   "metadata": {},
   "source": [
    "Here is a table of the ranges given by some of the data sources (some are incomplete, and not all of our data sources had ranges)."
   ]
  },
  {
   "cell_type": "code",
   "execution_count": 6,
   "metadata": {},
   "outputs": [
    {
     "data": {
      "application/vnd.jupyter.widget-view+json": {
       "model_id": "3fb748e4cbc54a02a3c655e140106f79",
       "version_major": 2,
       "version_minor": 0
      },
      "text/plain": [
       "Sheet(cells=(Cell(choice=[], column_end=0, column_start=0, numeric_format='0,000', read_only=True, row_start=0…"
      ]
     },
     "metadata": {},
     "output_type": "display_data"
    }
   ],
   "source": [
    "range_df = pd.read_csv('epi_ranges.csv', index_col='Model')\n",
    "display_population(to_sheet(range_df))"
   ]
  },
  {
   "cell_type": "markdown",
   "metadata": {},
   "source": [
    "This is an implementation of David's range calculations."
   ]
  },
  {
   "cell_type": "markdown",
   "metadata": {},
   "source": [
    "And then this is a rough go at a Vuetify UI - I'll make this prettier and we can package the write-up nicely inside here once that's done."
   ]
  },
  {
   "cell_type": "code",
   "execution_count": 8,
   "metadata": {},
   "outputs": [
    {
     "data": {
      "application/vnd.jupyter.widget-view+json": {
       "model_id": "1f148dbe5caa4bb9a3e30c7b4c8eb486",
       "version_major": 2,
       "version_minor": 0
      },
      "text/plain": [
       "Tabs(children=[Tab(children=['Home']), Tab(children=['Projected Patients']), Tab(children=['Daily Demand']), T…"
      ]
     },
     "metadata": {},
     "output_type": "display_data"
    }
   ],
   "source": [
    "import ipyvuetify as v\n",
    "v.theme.themes.light.primary = 'colors.teal'\n",
    "\n",
    "v.Tabs(_metadata={'mount_id': 'content-main'}, children=[\n",
    "    v.Tab(children=['Home']),\n",
    "    v.Tab(children=['Projected Patients']),\n",
    "    v.Tab(children=['Daily Demand']),\n",
    "    v.Tab(children=['Burn Rates']),\n",
    "    v.TabItem(children=[\n",
    "        v.Layout(column=True, wrap=True, align_left=True, children=[\n",
    "            v.Card(xs12=True, lg6=True, xl4=True, children=[\n",
    "                v.CardTitle(primary_title=True, class_='headline', children=[\"Covid Incremental Ventilator Requirements\"]),\n",
    "                v.CardText(children=[\n",
    "                    \"Insert \\\n",
    "                     text here\"\n",
    "                ])\n",
    "            ])\n",
    "        ])\n",
    "    ]),\n",
    "    v.TabItem(children=[\n",
    "        v.Layout(column=True, wrap=True, align_left=True, children=[\n",
    "            v.Card(xs12=True, lg6=True, xl4=True, children=[\n",
    "                v.CardTitle(primary_title=True, class_='headline', children=[\"Population\"]),\n",
    "                v.CardSubtitle(children=[\"Projected Patients\"]),\n",
    "                pop_sheet\n",
    "            ])\n",
    "        ])\n",
    "    ]),\n",
    "    v.TabItem(children=[\n",
    "        v.Layout(column=True, wrap=True, align_left=True, children=[\n",
    "            v.Card(xs12=True, lg6=True, x14=True, children=[\n",
    "                v.CardTitle(primary_title=True, class_='headline', children=[\"Demand\"]),\n",
    "                v.CardSubtitle(children=[\"Daily Resource Demand\"]),\n",
    "                daily_sheet\n",
    "            ])\n",
    "        ])\n",
    "    ]),\n",
    "    v.TabItem(children=[\n",
    "        v.Layout(column=True, wrap=True, align_left=True, children=[\n",
    "            v.Card(xs12=True, lg6=True, x14=True, children=[\n",
    "                v.CardTitle(primary_title=True, class_='headline', children=[\"Burn Rates\"]),\n",
    "                v.CardSubtitle(children=[\"Per Capita Resource Demand\"]),\n",
    "                burn_sheet\n",
    "            ])\n",
    "        ])\n",
    "    ])\n",
    "])"
   ]
  }
 ],
 "metadata": {
  "kernelspec": {
   "display_name": "Python 3",
   "language": "python",
   "name": "python3"
  },
  "language_info": {
   "codemirror_mode": {
    "name": "ipython",
    "version": 3
   },
   "file_extension": ".py",
   "mimetype": "text/x-python",
   "name": "python",
   "nbconvert_exporter": "python",
   "pygments_lexer": "ipython3",
   "version": "3.8.5"
  }
 },
 "nbformat": 4,
 "nbformat_minor": 4
}
