{
 "cells": [
  {
   "cell_type": "markdown",
   "metadata": {},
   "source": [
    "# COVID Incremental Ventilator Requirements"
   ]
  },
  {
   "cell_type": "code",
   "execution_count": 6,
   "metadata": {},
   "outputs": [],
   "source": [
    "import sys\n",
    "import pandas as pd\n",
    "sys.path.append('../src')\n",
    "from restart import NoteCompose\n",
    "from data import Data\n",
    "from util import set_config, to_df, to_sheet, display_population, format_population"
   ]
  },
  {
   "cell_type": "markdown",
   "metadata": {},
   "source": [
    "## Methodology Overview and Assumptions\n",
    "\n",
    "Quick overview of the current state of this document: the notebook code here walks you through the methodology and assumptions made.\n",
    "\n",
    "Code to fetch the IHME and MIT numbers is in `src/extern/data/epidemiological` (written by Ethan@restart.us). We are not using the MIT projections have a peak in August and are monotically decreasing ever since so this does not seem to take into account the fall surge \n",
    "\n",
    "In addition, various RAND and CAN scenarios were pulled from the CalCat and placed into the model. Note we are using the high-band estimate for a more \"conservative case\". The issue is that all these models are very far out in the future and highly speculative because:\n",
    "\n",
    "1. We are modeling human behavior and there is no history. We do not know how the general population will handling masking.\n",
    "2. The fall spread. This is the first time we enter the fall with COVID in the US, so there is no historical data.\n",
    "3. We are layering in more and more speculation. This is quite different than PPE because most PPE estimates are for prophalaxis, but this is trying to model the disease and then estimate the severity. That is much more difficult\n",
    "\n",
    "The net conclusion is that:\n",
    "1. We are not modeling the \"baseline need\" for non-COVID. The flu season typically means that ventilator use and ICU use will increase. We have not found a model that adds these effects in, we do know that in many regions, ICU utilization increases dramatically in the flu season, but the combination of less mobility, more awareness of the flu and the Southern hemisphere experience for flu this year hopefully mean less ICU/ventilator needs.\n",
    "2. For incremental COVID-19 needs for a combination of hospitals plus the state backstop, it looks like 15-25K ventilators total ventilators needed. The 95% uncertainty level for the IMHE and RAND models which do attempt to model this are at 10K, but because they are modeling specific human behaviors, they may break through those statistical measures. For instance, if masking falls dramatically, beyond the initial assumptions, then the need will rise.\n",
    "3. The second problem is that ventilators are not as easily moved, so having them in one county may not help an immediate need in another. And the current treatment regimes and severity levels are changing as well, so these studies use historical ventilator usage and this could be much lower if treatments don't need it or much higher if more disease severity increases.\n",
    "3. This is an early look and based on projections by experts as always this difficult decision has to be made taking into account the worst, worst case on human behavior and the unknown effects of the fall."
   ]
  },
  {
   "cell_type": "code",
   "execution_count": 7,
   "metadata": {},
   "outputs": [],
   "source": [
    "config = set_config('../src')\n",
    "restart = NoteCompose(configdir='../src/', population='dict')\n",
    "population = restart.model.population\n",
    "resource = restart.model.resource\n",
    "demand = restart.model.demand"
   ]
  },
  {
   "cell_type": "markdown",
   "metadata": {},
   "source": [
    "**Burn Rate Estimates (CDPH and IMHE)**"
   ]
  },
  {
   "cell_type": "code",
   "execution_count": 8,
   "metadata": {},
   "outputs": [
    {
     "data": {
      "application/vnd.jupyter.widget-view+json": {
       "model_id": "42ab8dea0b794cb2b89a1493f8e27c13",
       "version_major": 2,
       "version_minor": 0
      },
      "text/plain": [
       "Sheet(cells=(Cell(choice=[], column_end=0, column_start=0, numeric_format='0,000', read_only=True, row_end=1, …"
      ]
     },
     "metadata": {},
     "output_type": "display_data"
    }
   ],
   "source": [
    "burn_sheet = format_population(to_sheet(demand.demand_per_unit_map_dn_um.df))\n",
    "burn_sheet"
   ]
  },
  {
   "cell_type": "markdown",
   "metadata": {},
   "source": [
    "The CHA memo doe not estimate the ventilator burn rate, which comes from IHME. They simply estimate ICU demand as 27% of all COVID hospitalizations, and make the assumption that 90% of COVID ICU patients will need to go on vent, so (0.27)(0.9) = 0.243. We do not know if these assumptions are valid for California or are appropriate going forward\n",
    "\n",
    "The rest of the burn rates are derived from the CHA memo (and this model replicates the PPE projections in that memo). The CHA burn rates are higher than other rates we have estimated based on Washington and other data. However, we have not studied these burn rates very much. \n",
    "\n",
    "Below are the population estimates we're using, and then also the resulting projections. I've added a range dimension, but not all patient projections contain ranges. In these cases we are using a simple exponential to estimate bands and this needs to be validated.\n",
    "\n",
    "First are the calculations with no ranges, using an upper bound (or if only one number is given, just that one number)."
   ]
  },
  {
   "cell_type": "code",
   "execution_count": 9,
   "metadata": {},
   "outputs": [
    {
     "data": {
      "application/vnd.jupyter.widget-view+json": {
       "model_id": "cc4237c7200b47f49e739c24fe64bc7f",
       "version_major": 2,
       "version_minor": 0
      },
      "text/plain": [
       "VBox(children=(Sheet(cells=(Cell(choice=[], column_end=0, column_start=0, numeric_format='0,000', read_only=Tr…"
      ]
     },
     "metadata": {},
     "output_type": "display_data"
    }
   ],
   "source": [
    "import ipywidgets as widgets\n",
    "pop_sheet = format_population(to_sheet(population.population_pP_tr.df), round=True)\n",
    "daily_sheet = format_population(to_sheet(demand.demand_by_pop_total_pn_tc.df), round=True)\n",
    "\n",
    "widgets.VBox([pop_sheet, daily_sheet])"
   ]
  },
  {
   "cell_type": "markdown",
   "metadata": {},
   "source": [
    "Next is the same model but with the added range dimension. Use the slider to adjust the confidence interval, and the projections will automatically update. Note how some of the models give us very high projections for ventilators. This reflects the uncertainty in measurement and means that judgement (which we can't provide) is critical to making this decision"
   ]
  },
  {
   "cell_type": "code",
   "execution_count": 10,
   "metadata": {},
   "outputs": [
    {
     "data": {
      "application/vnd.jupyter.widget-view+json": {
       "model_id": "541b127c38b44122b872d41e6305e942",
       "version_major": 2,
       "version_minor": 0
      },
      "text/plain": [
       "VBox(children=(FloatSlider(value=0.95, continuous_update=False, description='CR', max=0.99, min=0.7, step=0.01…"
      ]
     },
     "metadata": {},
     "output_type": "display_data"
    }
   ],
   "source": [
    "import ipywidgets as widgets\n",
    "from scipy.stats import norm\n",
    "\n",
    "epi_df = pd.read_csv('epi_ranges.csv',index_col='Model')\n",
    "epi_df['Standard Deviation'] = epi_df.std(axis=1)\n",
    "\n",
    "def calc_eoq(df, cr):\n",
    "    Z=norm.ppf(cr)\n",
    "    df['EOQ'] = df['Mean'] + (Z * df['Standard Deviation'])\n",
    "    return df\n",
    "\n",
    "def display_eoq(cr):\n",
    "    # calculate the hospitalization EOQ\n",
    "    epi_sheet = to_sheet(calc_eoq(epi_df, cr))\n",
    "    display_population(epi_sheet, round=True)\n",
    "    # calculate stockpile projections\n",
    "    preds_df = Data(\n",
    "        \"demand_by_pop_total_pn_tc\", config)\n",
    "    preds_df.array = (demand.demand_by_pop_per_person_pn_uc.array.T * epi_df[\"EOQ\"].to_numpy().T).T\n",
    "    preds_sheet = to_sheet(preds_df.df)\n",
    "    display_population(preds_sheet, round=True)\n",
    "\n",
    "slider = widgets.FloatSlider(min=0.70,max=0.99,step=0.01,value=0.95, continuous_update=False, description=\"CR\")\n",
    "out = widgets.interactive_output(display_eoq, {'cr': slider})\n",
    "widgets.VBox([slider, out])"
   ]
  },
  {
   "cell_type": "markdown",
   "metadata": {},
   "source": [
    "And then this is a rough go at a Vuetify UI - I'll make this prettier and we can package the write-up nicely inside here once that's done."
   ]
  },
  {
   "cell_type": "code",
   "execution_count": 11,
   "metadata": {},
   "outputs": [
    {
     "data": {
      "application/vnd.jupyter.widget-view+json": {
       "model_id": "c0b41d90aee648fe8dae7e94ed79c10f",
       "version_major": 2,
       "version_minor": 0
      },
      "text/plain": [
       "Tabs(children=[Tab(children=['Home']), Tab(children=['Projected Patients']), Tab(children=['Burn Rates']), Tab…"
      ]
     },
     "metadata": {},
     "output_type": "display_data"
    }
   ],
   "source": [
    "import ipyvuetify as v\n",
    "v.theme.themes.light.primary = 'colors.teal'\n",
    "\n",
    "v.Tabs(_metadata={'mount_id': 'content-main'}, children=[\n",
    "    v.Tab(children=['Home']),\n",
    "    v.Tab(children=['Projected Patients']),\n",
    "    v.Tab(children=['Burn Rates']),\n",
    "    v.TabItem(children=[\n",
    "        v.Layout(column=True, wrap=True, align_left=True, children=[\n",
    "            v.Card(xs12=True, lg6=True, xl4=True, children=[\n",
    "                v.CardTitle(primary_title=True, class_='headline', children=[\"Covid Incremental Ventilator Requirements\"]),\n",
    "                v.CardText(children=[\n",
    "                    \"Hospitalizations due to COVID at a peak surge were projected using several different models. \\\n",
    "                     From this figure, the number of patients requiring ICU care and an invasive ventilator using \\\n",
    "                     IHME figures. The remaining resources were projected using CHA burn rate assumptions.\" \n",
    "                ])\n",
    "            ]),\n",
    "            slider, out\n",
    "        ])\n",
    "    ]),\n",
    "    v.TabItem(children=[\n",
    "        v.Layout(column=True, wrap=True, align_left=True, children=[\n",
    "            v.Card(xs12=True, lg6=True, xl4=True, children=[\n",
    "                v.CardTitle(primary_title=True, class_='headline', children=[\"Population\"]),\n",
    "                v.CardSubtitle(children=[\"Projected Patients\"]),\n",
    "                pop_sheet\n",
    "            ])\n",
    "        ])\n",
    "    ]),\n",
    "    v.TabItem(children=[\n",
    "        v.Layout(column=True, wrap=True, align_left=True, children=[\n",
    "            v.Card(xs12=True, lg6=True, x14=True, children=[\n",
    "                v.CardTitle(primary_title=True, class_='headline', children=[\"Burn Rates\"]),\n",
    "                v.CardSubtitle(children=[\"Per Capita Resource Demand\"]),\n",
    "                burn_sheet\n",
    "            ])\n",
    "        ])\n",
    "    ])\n",
    "])"
   ]
  }
 ],
 "metadata": {
  "kernelspec": {
   "display_name": "Python 3",
   "language": "python",
   "name": "python3"
  },
  "language_info": {
   "codemirror_mode": {
    "name": "ipython",
    "version": 3
   },
   "file_extension": ".py",
   "mimetype": "text/x-python",
   "name": "python",
   "nbconvert_exporter": "python",
   "pygments_lexer": "ipython3",
   "version": "3.8.5"
  }
 },
 "nbformat": 4,
 "nbformat_minor": 4
}
