{
 "cells": [
  {
   "cell_type": "markdown",
   "metadata": {},
   "source": [
    "# COVID Incremental Ventilator Requirements"
   ]
  },
  {
   "cell_type": "code",
   "execution_count": 1,
   "metadata": {},
   "outputs": [],
   "source": [
    "import sys\n",
    "import pandas as pd\n",
    "sys.path.append('../src')\n",
    "from restart import NoteCompose\n",
    "from data import Data\n",
    "from util import set_config, to_df, to_sheet, display_population, format_population"
   ]
  },
  {
   "cell_type": "markdown",
   "metadata": {},
   "source": [
    "## Methodology Overview and Assumptions (for Rich to Vet)\n",
    "\n",
    "Quick overview of the current state of this document: the notebook code here walks you through the methodology and assumptions made, and then the very last cell is an `ipyvuetify` implementation of everything so it hopefully looks pretty. That might be a good place for you to put the final documentation. Also, if you run `voila` on this notebook with the template `vuetify-default` (you might need to `pip install voila-vuetify`), then it won't display any of the stuff not in that cell. \n",
    "\n",
    "Code to fetch the IHME and MIT numbers is in `src/extern/data/epidemiological` (written by Ethan). He has mentioned that the MIT projections have a peak in August and are monotically decreasing ever since, so maybe we should drop those. \n",
    "\n",
    "In addition, various RAND and CAN scenarios were pulled manually directly from the CalCat website and placed into the model, using the upper bounds. Some of these should probably be pruned out, as (by design) they are unrealistically high and then we're also taking an upper bound on top of that. We use the hack of representing these demands in our population module. \n",
    "\n",
    "Also, I think it might be a good idea to just ditch the California non-COVID projection and burn rates as it causes a few issues:\n",
    "    \n",
    "   1. There's the issue of us not having ventilator burn rates for non-COVID patients, so it's kind of awkward to have a `0` in that spot.\n",
    "   2. There's no upper or lower bounds on it, so it doesn't fit very nicely into the range scheme\n",
    "   3. The CHA burn rate estimates are pretty back of the envelope"
   ]
  },
  {
   "cell_type": "code",
   "execution_count": 10,
   "metadata": {},
   "outputs": [],
   "source": [
    "config = set_config('../config/ca-vent')\n",
    "restart = NoteCompose(configdir='../config/ca-vent', population='dict')\n",
    "population = restart.model.population\n",
    "resource = restart.model.resource\n",
    "demand = restart.model.demand"
   ]
  },
  {
   "cell_type": "markdown",
   "metadata": {},
   "source": [
    "**These are the burn rates**"
   ]
  },
  {
   "cell_type": "code",
   "execution_count": 11,
   "metadata": {},
   "outputs": [
    {
     "data": {
      "application/vnd.jupyter.widget-view+json": {
       "model_id": "eeb811d560a64950ac11529d92536d86",
       "version_major": 2,
       "version_minor": 0
      },
      "text/plain": [
       "Sheet(cells=(Cell(choice=[], column_end=0, column_start=0, numeric_format='0,000', read_only=True, row_end=1, …"
      ]
     },
     "metadata": {},
     "output_type": "display_data"
    }
   ],
   "source": [
    "burn_sheet = format_population(to_sheet(demand.demand_per_unit_map_dn_um.df))\n",
    "burn_sheet"
   ]
  },
  {
   "cell_type": "markdown",
   "metadata": {},
   "source": [
    "The only thing not from the CHA memo is the ventilator burn rate, which comes from IHME. They simply estimate ICU demand as 27% of all COVID hospitalizations, and make the assumption that 90% of COVID ICU patients will need to go on vent, so (0.27)(0.9) = 0.243. \n",
    "\n",
    "The rest of the burn rates are derived from the CHA memo (and this model replicates the PPE projections in that memo). I'm a bit uncomfortable with the burn rates - when you scale them to the IHME projections, for example, it's about 2.5 million N95 masks *per day* - that's definitely unrealistic. They *are* pretty much straight from the horse's mouth, but it might be wise for us to be clear about the source so that, as an organization, we're a bit insulated from them.\n",
    "\n",
    "Below are the population estimates we're using, and then also the resulting projections. I've added a range dimension, but not all patient projections contain ranges. In these cases I do the horrible thing of just giving one exponential on either side of the mean. If this assumption is not acceptable, I've also included a version without the range calculations. Note that these are all **daily totals** - we can't simply do a scalar multiply by the number of days we're projecting for since some of these are reusable and some aren't (namely the ventilators). \n",
    "\n",
    "First are the calculations with no ranges, using an upper bound (or if only one number is given, just that one number)."
   ]
  },
  {
   "cell_type": "code",
   "execution_count": 12,
   "metadata": {
    "scrolled": true
   },
   "outputs": [
    {
     "data": {
      "application/vnd.jupyter.widget-view+json": {
       "model_id": "6d13caf538cc4bef9eca2056844d7847",
       "version_major": 2,
       "version_minor": 0
      },
      "text/plain": [
       "VBox(children=(Sheet(cells=(Cell(choice=[], column_end=0, column_start=0, numeric_format='0,000', read_only=Tr…"
      ]
     },
     "metadata": {},
     "output_type": "display_data"
    }
   ],
   "source": [
    "import ipywidgets as widgets\n",
    "pop_sheet = format_population(to_sheet(population.population_pP_tr.df), round=True)\n",
    "daily_sheet = format_population(to_sheet(demand.demand_by_pop_total_pn_tc.df), round=True)\n",
    "\n",
    "widgets.VBox([pop_sheet, daily_sheet])"
   ]
  },
  {
   "cell_type": "markdown",
   "metadata": {},
   "source": [
    "Next is the same model but with the added range dimension. Use the slider to adjust the confidence interval, and the projections will automatically update. Note how some of the models (with my extremely questionable lower/upper bound assumptions) give us some alarmingly high projections for ventilators."
   ]
  },
  {
   "cell_type": "code",
   "execution_count": 13,
   "metadata": {},
   "outputs": [
    {
     "data": {
      "application/vnd.jupyter.widget-view+json": {
       "model_id": "240aca5a11144c4e83d45956a548e8f9",
       "version_major": 2,
       "version_minor": 0
      },
      "text/plain": [
       "VBox(children=(FloatSlider(value=0.95, continuous_update=False, description='CR', max=0.99, min=0.7, step=0.01…"
      ]
     },
     "metadata": {},
     "output_type": "display_data"
    }
   ],
   "source": [
    "import ipywidgets as widgets\n",
    "from scipy.stats import norm\n",
    "import math\n",
    "\n",
    "def triangular(a,b,c):\n",
    "    return math.sqrt( ((a*a + b*b + c*c) - a*b - a*c - b*c) / 18 )\n",
    "\n",
    "\n",
    "epi_df = pd.read_csv('epi_ranges.csv',index_col='Model')\n",
    "stdev = epi_df.apply(\n",
    "    lambda row: triangular(\n",
    "        row['Vent Mid'],\n",
    "        row['Vent Low'], \n",
    "        row['Vent High']\n",
    "    ), axis=1\n",
    ")\n",
    "\n",
    "epi_df['Vent Mean'] = epi_df.mean(axis=1)\n",
    "\n",
    "epi_df['Vent SD'] = stdev\n",
    "\n",
    "\n",
    "def calc_eoq(df, cr):\n",
    "    Z=norm.ppf(cr)\n",
    "    df['Vent EOQ'] = df['Vent Mean'] + (Z * df['Vent SD'])\n",
    "    return df\n",
    "\n",
    "def display_eoq(cr):\n",
    "    # calculate the hospitalization EOQ\n",
    "    epi = calc_eoq(epi_df, cr)\n",
    "    eoq_df = 0.243 * epi\n",
    "    # adjusting the non-COVID patients\n",
    "    eoq_df.loc['CA Projected Non-COVID Patients', 'Vent EOQ'] = 0\n",
    "    eoq_sheet = to_sheet(eoq_df)\n",
    "    display_population(eoq_sheet, round=True)\n",
    "    # calculate stockpile projections\n",
    "    preds_df = Data(\n",
    "        \"demand_by_pop_total_pn_tc\", config)\n",
    "    preds_df.array = (demand.demand_by_pop_per_person_pn_uc.array.T * epi_df[\"Vent EOQ\"].to_numpy().T).T\n",
    "    preds_df.df.columns = [f\"Vent EOQ at CR={cr}\", 'N95 Masks', 'Surgical Masks', 'PAPR', 'Gowns', 'Coveralls', 'Gloves']\n",
    "    preds_sheet = to_sheet(preds_df.df)\n",
    "    display_population(preds_sheet, round=True)\n",
    "\n",
    "slider = widgets.FloatSlider(min=0.70,max=0.99,step=0.01,value=0.95, continuous_update=False, description=\"CR\")\n",
    "out = widgets.interactive_output(display_eoq, {'cr': slider})\n",
    "widgets.VBox([slider, out])"
   ]
  },
  {
   "cell_type": "markdown",
   "metadata": {},
   "source": [
    "And then this is a rough go at a Vuetify UI - I'll make this prettier and we can package the write-up nicely inside here once that's done."
   ]
  },
  {
   "cell_type": "code",
   "execution_count": 6,
   "metadata": {},
   "outputs": [
    {
     "data": {
      "application/vnd.jupyter.widget-view+json": {
       "model_id": "655ccc22f51345d8bb718613bc149196",
       "version_major": 2,
       "version_minor": 0
      },
      "text/plain": [
       "Tabs(children=[Tab(children=['Home']), Tab(children=['Projected Patients']), Tab(children=['Burn Rates']), Tab…"
      ]
     },
     "metadata": {},
     "output_type": "display_data"
    }
   ],
   "source": [
    "import ipyvuetify as v\n",
    "v.theme.themes.light.primary = 'colors.teal'\n",
    "\n",
    "v.Tabs(_metadata={'mount_id': 'content-main'}, children=[\n",
    "    v.Tab(children=['Home']),\n",
    "    v.Tab(children=['Projected Patients']),\n",
    "    v.Tab(children=['Burn Rates']),\n",
    "    v.TabItem(children=[\n",
    "        v.Layout(column=True, wrap=True, align_left=True, children=[\n",
    "            v.Card(xs12=True, lg6=True, xl4=True, children=[\n",
    "                v.CardTitle(primary_title=True, class_='headline', children=[\"Covid Incremental Ventilator Requirements\"]),\n",
    "                v.CardText(children=[\n",
    "                    \"Hospitalizations due to COVID at a peak surge were projected using several different models. \\\n",
    "                     From this figure, the number of patients requiring ICU care and an invasive ventilator using \\\n",
    "                     IHME figures. The remaining resources were projected using CHA burn rate assumptions.\" \n",
    "                ])\n",
    "            ]),\n",
    "            slider, out\n",
    "        ])\n",
    "    ]),\n",
    "    v.TabItem(children=[\n",
    "        v.Layout(column=True, wrap=True, align_left=True, children=[\n",
    "            v.Card(xs12=True, lg6=True, xl4=True, children=[\n",
    "                v.CardTitle(primary_title=True, class_='headline', children=[\"Population\"]),\n",
    "                v.CardSubtitle(children=[\"Projected Patients\"]),\n",
    "                pop_sheet\n",
    "            ])\n",
    "        ])\n",
    "    ]),\n",
    "    v.TabItem(children=[\n",
    "        v.Layout(column=True, wrap=True, align_left=True, children=[\n",
    "            v.Card(xs12=True, lg6=True, x14=True, children=[\n",
    "                v.CardTitle(primary_title=True, class_='headline', children=[\"Burn Rates\"]),\n",
    "                v.CardSubtitle(children=[\"Per Capita Resource Demand\"]),\n",
    "                burn_sheet\n",
    "            ])\n",
    "        ])\n",
    "    ])\n",
    "])"
   ]
  }
 ],
 "metadata": {
  "kernelspec": {
   "display_name": "Python 3",
   "language": "python",
   "name": "python3"
  },
  "language_info": {
   "codemirror_mode": {
    "name": "ipython",
    "version": 3
   },
   "file_extension": ".py",
   "mimetype": "text/x-python",
   "name": "python",
   "nbconvert_exporter": "python",
   "pygments_lexer": "ipython3",
   "version": "3.8.5"
  }
 },
 "nbformat": 4,
 "nbformat_minor": 4
}
