{
 "cells": [
  {
   "cell_type": "markdown",
   "metadata": {},
   "source": [
    "# Washington Dashboard\n",
    "\n",
    "Custom projections for Washington task force"
   ]
  },
  {
   "cell_type": "code",
   "execution_count": 1,
   "metadata": {},
   "outputs": [],
   "source": [
    "import sys\n",
    "import pandas as pd\n",
    "sys.path.append('../src')\n",
    "from restart import NoteCompose\n",
    "from util import set_config"
   ]
  },
  {
   "cell_type": "markdown",
   "metadata": {},
   "source": [
    "# Filtering Group 2\n",
    "\n",
    "Group 2 is defined as: \n",
    "\n",
    "\"Smaller health care providers and first responders (Hospitals\n",
    "299 beds or less, long-term care providers and nursing homes, behavioral\n",
    "health facilities, dentists, morticians, FQHCs, public health organizations,\n",
    "tribal clinics, independent physician practices, EMTs, police, fire\n",
    "departments)\"\n",
    "\n",
    "Outlined below are various methodologies for tailoring projections towards this specific group.\n",
    "\n",
    "## Option 1: take a percentage of broader categories\n",
    "\n",
    "SOC codes starting with \"29-\", \"31-\", and \"33-\" refer to, respectively, healthcare occupations, healthcare support occupations, and protection services. We could make an estimate of what percentage of healthcare workers or healthcare-support workers fall into the Group 2 category, and simply scale all the numbers by that amount. It seems like a safe assumption that all the protection services would fall into this group. "
   ]
  },
  {
   "cell_type": "code",
   "execution_count": 8,
   "metadata": {},
   "outputs": [],
   "source": [
    "config = set_config('../src')\n",
    "restart = NoteCompose(configdir='../src/', population='oes', demand='washington', subpop='wa_tier2_opt1', state='Washington')\n",
    "population = restart.model.population\n",
    "resource = restart.model.resource\n",
    "demand = restart.model.demand"
   ]
  },
  {
   "cell_type": "code",
   "execution_count": 9,
   "metadata": {},
   "outputs": [
    {
     "data": {
      "application/vnd.jupyter.widget-view+json": {
       "model_id": "96be375ac1af47b3ba6ab1fafd4cb35c",
       "version_major": 2,
       "version_minor": 0
      },
      "text/plain": [
       "interactive(children=(IntSlider(value=30, description='days', max=90, min=-30), Output()), _dom_classes=('widg…"
      ]
     },
     "metadata": {},
     "output_type": "display_data"
    },
    {
     "data": {
      "text/plain": [
       "<function __main__.set_stock(days)>"
      ]
     },
     "execution_count": 9,
     "metadata": {},
     "output_type": "execute_result"
    }
   ],
   "source": [
    "import ipysheet\n",
    "import ipywidgets as widgets\n",
    "\n",
    "# allow for interactively setting the stockpile days\n",
    "def set_stock(days):\n",
    "    resource.demand(resource.inventory_ln_df)\n",
    "    resource.set_inv_min(demand.level_total_demand_ln_df, days)\n",
    "    stockpile = to_sheet(resource.inventory_ln_df)\n",
    "    display(stockpile)\n",
    "\n",
    "def to_sheet(df):\n",
    "    return ipysheet.pandas_loader.from_dataframe(df)\n",
    "    \n",
    "widgets.interact(set_stock, days=30)"
   ]
  },
  {
   "cell_type": "markdown",
   "metadata": {},
   "source": [
    "We'd need to figure out a reasonable number to scale the different categories by - that's an easy one-line addition to the `PopulationOES` class. "
   ]
  },
  {
   "cell_type": "markdown",
   "metadata": {},
   "source": [
    "Pull specifically for dentists and long-term care facilities. Put them 50-50 in WA5 and WA6."
   ]
  },
  {
   "cell_type": "markdown",
   "metadata": {},
   "source": [
    "Recreate vulnerable population numbers in this notebook as well (slide 10)."
   ]
  },
  {
   "cell_type": "markdown",
   "metadata": {},
   "source": [
    "## Option 2: Filter for specific occupations\n",
    "\n",
    "**Preliminary List of Occupations in Group 2**:\n",
    "\n",
    "<ins> OCC Category 29 </ins>\n",
    "\n",
    "Dental Hygienists: 29-1292    \n",
    "\n",
    "EMTs and Paramedics: 29-2040\n",
    "\n",
    "Family Medicine Physicians: 29-1215    \n",
    "\n",
    "Respiratory Therapists: 29-1126\n",
    "\n",
    "Psychiatrists: 29-1223\n",
    "\n",
    "Audiologists: 29-1181\n",
    "\n",
    "Pediatricians: 29-1221   \n",
    "\n",
    "Psychiatric Technicians: 29-2052\n",
    "\n",
    "<ins> OCC Category 31 </ins>\n",
    "\n",
    "Home Health and Personal Care Aides: 31-1120\n",
    "\n",
    "Nursing Assistants: 31-1131   \n",
    "\n",
    "Morticians, Undertakers, and Funeral Arrangers: 39-4031\n",
    "\n",
    "Orderlies: 31-1132\n",
    "\n",
    "Psychiatric Aides: 31-1133  \n",
    "\n",
    "Dental Assistants: 31-9091 \n",
    "\n",
    "<ins> OCC Category 33 and 39 </ins>\n",
    "\n",
    "Firefighters: 33-2011\n",
    "\n",
    "Correctional Officers and Jailers: 33-3012\n",
    "\n",
    "Detectives and Criminal Investigators: 33-3021  \n",
    "\n",
    "Transportation Security Screeners: 33-9093\n",
    "\n",
    "Parking Enforcement Workers: 33-3041   \n",
    "\n",
    "Police and Sheriff’s Patrol officers: 33-3051\n",
    "\n",
    "Transit and Railroad Police: 33-3052\n",
    "\n",
    "Embalmers: 39-4011\n"
   ]
  },
  {
   "cell_type": "code",
   "execution_count": 10,
   "metadata": {},
   "outputs": [
    {
     "data": {
      "application/vnd.jupyter.widget-view+json": {
       "model_id": "b26400bd32cf4681a193a0f01d0d7c24",
       "version_major": 2,
       "version_minor": 0
      },
      "text/plain": [
       "interactive(children=(IntSlider(value=30, description='days', max=90, min=-30), Output()), _dom_classes=('widg…"
      ]
     },
     "metadata": {},
     "output_type": "display_data"
    },
    {
     "data": {
      "text/plain": [
       "<function __main__.set_stock(days)>"
      ]
     },
     "execution_count": 10,
     "metadata": {},
     "output_type": "execute_result"
    }
   ],
   "source": [
    "config = set_config('../src')\n",
    "restart = NoteCompose(configdir='../src/', population='oes', demand='washington', subpop='wa_tier2_opt2', state='Washington')\n",
    "population = restart.model.population\n",
    "resource = restart.model.resource\n",
    "demand = restart.model.demand\n",
    "\n",
    "widgets.interact(set_stock, days=30)"
   ]
  }
 ],
 "metadata": {
  "kernelspec": {
   "display_name": "Python 3",
   "language": "python",
   "name": "python3"
  },
  "language_info": {
   "codemirror_mode": {
    "name": "ipython",
    "version": 3
   },
   "file_extension": ".py",
   "mimetype": "text/x-python",
   "name": "python",
   "nbconvert_exporter": "python",
   "pygments_lexer": "ipython3",
   "version": "3.8.5"
  }
 },
 "nbformat": 4,
 "nbformat_minor": 4
}
