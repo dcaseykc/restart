{
 "cells": [
  {
   "cell_type": "code",
   "execution_count": 136,
   "metadata": {},
   "outputs": [],
   "source": [
    "import pandas as pd\n",
    "import numpy as np\n",
    "import datetime\n",
    "import math\n",
    "\n",
    "# this is so stupid but need to deal with automatic\n",
    "# excel datetime conversion messing up the data\n",
    "def datetime_to_code(date):\n",
    "    if type(date) is datetime.datetime:\n",
    "        return str(date.month) + '-' + str(date.year)\n",
    "    else:\n",
    "        return date\n",
    "\n",
    "def format_df(df):\n",
    "    # redo the indexing and manually select the rows/columns we want\n",
    "    df.columns = df.iloc[2528]\n",
    "    df = df.iloc[2529:3303]\n",
    "    df = df[['Washington SOT', 'SOC', 'Type', 'Level']]\n",
    "\n",
    "    # fix excel's mistakes and drop empty rows\n",
    "    df['SOC'] = df['SOC'].apply(datetime_to_code)\n",
    "    df = df.dropna(axis='rows')\n",
    "    \n",
    "    return df\n",
    "\n",
    "def gen_mappings(df):\n",
    "    # generate mappings\n",
    "    mapping = {}\n",
    "    for i in range(df.shape[0]):\n",
    "        arr = np.zeros(7)\n",
    "        level = df.iloc[i]['Level']\n",
    "        if type(level) is int:\n",
    "            arr[level] = 1\n",
    "        else:\n",
    "            arr[math.floor(level)] = 0.5\n",
    "            arr[math.ceil(level)] = 0.5\n",
    "        mapping[df.iloc[i]['Washington SOT']] = arr.tolist()\n",
    "    return mapping\n",
    "\n",
    "# write to yaml file\n",
    "def create_levels(df, fname):\n",
    "    mapping = gen_mappings(df)\n",
    "    with open(fname, 'w') as yaml_file:\n",
    "        yaml.dump(mapping, yaml_file, default_flow_style=None)\n",
    "    return None\n",
    "\n",
    "df = pd.read_excel('../../../covid-surge-who.xlsx', parse_dates=True)\n",
    "df = format_df(df)\n",
    "create_levels(df, 'levels.yaml')"
   ]
  }
 ],
 "metadata": {
  "kernelspec": {
   "display_name": "Python 3",
   "language": "python",
   "name": "python3"
  },
  "language_info": {
   "codemirror_mode": {
    "name": "ipython",
    "version": 3
   },
   "file_extension": ".py",
   "mimetype": "text/x-python",
   "name": "python",
   "nbconvert_exporter": "python",
   "pygments_lexer": "ipython3",
   "version": "3.8.3"
  }
 },
 "nbformat": 4,
 "nbformat_minor": 4
}
