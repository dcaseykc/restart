{
  "nbformat": 4,
  "nbformat_minor": 0,
  "metadata": {
    "colab": {
      "name": "restart-model-readme-2020-06-24.ipynb",
      "provenance": [],
      "collapsed_sections": [
        "MsdJwfq15v33",
        "H1uq0RMITXy3",
        "MDnksm1MTmV7",
        "38KeztwBajb8",
        "gXxIvzREazRq",
        "7AulXwNtb5yd",
        "GDR12BB4pPd1"
      ],
      "include_colab_link": true
    },
    "kernelspec": {
      "name": "python3",
      "display_name": "Python 3"
    }
  },
  "cells": [
    {
      "cell_type": "markdown",
      "metadata": {
        "id": "view-in-github",
        "colab_type": "text"
      },
      "source": [
        "<a href=\"https://colab.research.google.com/github/restartus/covid-projection/blob/rich-demo/model/restart_model_readme_2020_06_24.ipynb\" target=\"_parent\"><img src=\"https://colab.research.google.com/assets/colab-badge.svg\" alt=\"Open In Colab\"/></a>"
      ]
    },
    {
      "cell_type": "markdown",
      "metadata": {
        "id": "UPP19bJbIKev",
        "colab_type": "text"
      },
      "source": [
        "---\n",
        "\n",
        "_Proprietary and Confidential. Do not distribute without permission._\n",
        "\n",
        "---\n",
        "\n",
        "# Restart Partners   - Sample Memo\n",
        "\n",
        "---\n",
        "_To:_ Jun Amora (Mayors Office, City of New York)  \n",
        "_From:_ Bharat Shyam, Rich Tong (Restart)  \n",
        "_Re:_ Analysis for NYC PPE needs  \n",
        "_Date:_ 20 May 2020  \n",
        "\n",
        "--- \n",
        "\n",
        "New York City needs a 90-day stockpile for the heathcare workers, first responders and congregate care facilities is really important, but coming up with an estimate for this is difficult given the variability of the infection and the uncertainty in the degree of economic recovery and social mobility. Therefore, we are providing another resource model to augment yours that shows that our figures are within 30%-50% of your bottoms estimate. Given that we are happy to:\n",
        "\n",
        "- _Refine healthcare estimates_. All models are heavily dependent on estimates of population involved and usage data. \n",
        "- _Non-healthcare estimates_. For instance, this model does project needs outside of the healthcare area such as small business, vertical industries and vulnerable populations.\n",
        "- _Long-term modeling_. We are extending the model to include test equipment, disinfectant wipes and liquid disinfectants, so happy to add things that you need. Also we will be integrating epi and economic models too and would love to partner with you on that.\n",
        "\n",
        "Given the uncertainties involved, this might help you make the right estimates. What follows next are:\n",
        "\n",
        "1. Disclaimer. This is not a definitive estimate. You should use other sources and information to make your decisions.\n",
        "2. Data Sources. We have included the model source data, how the model is constructed and then results. Feel free to use this data and modify as appropriate, but it serves as documentation for all the assumptions made.\n",
        "3. Model. The way the calculation is done with assumptions and resulting projections\n",
        "4. Outputs. The conclusions we can draw from the projection.\n",
        "\n",
        "## Disclaimer\n",
        "It must be noted that the Restart Partners (\"Restart\") Equipment Model (the \"Model\") is made available for public use free of charge. Determining equipment needs for each jurisdiction, entity or other party (each a \"User\") is a complex and multifaceted decision process. Restart does not does not have the authority or ability to assign empirical risks levels nor make definitive use decisions for any User. Rather, the Model provides one approach to making recommendations that can help Users make decisions about their potential equipment uses by allowing them to calculate their potential requirements. Users are strongly encouraged to consider other sources of information and expressly disclaim any cause of action they may have against Restart arising from or relating to the Model or its analysis. Implementing the equipment levels projected by the Model will not eliminate the risk of COID-19 cases being linked to activites in an economy or workplace. In this context, it is important to note that this equipment alone will not eliminate the risk of infection. All Users should remain informed about and abide by any decisions made by local public health and government authorities regarding specific mitigation efforts, including equipment in the model, as the situation is dynamic."
      ]
    },
    {
      "cell_type": "markdown",
      "metadata": {
        "id": "-Xo1YI-GvU4o",
        "colab_type": "text"
      },
      "source": [
        "\n",
        "# Model Data for New York use Washington Consumption\n",
        "\n",
        "Because we do not have New York City specific data, we used various open data sources to fill in the five major assumptions in the model:\n",
        "\n",
        "1. Usage by Population. This cuts the item usage per person per day. This right now is a series of levels. So we have four levels for civilians and then two levels for healthcare workers.\n",
        "2. Usage per Patient. This is the way Epidemiological models work. That is, given a number of patients, calculate how much they will need. The model currently uses the [WHO Surge Essential Supplies Forecasting Tool v1.2](https://www.who.int/emergencies/diseases/novel-coronavirus-2019/technical-guidance/covid-19-critical-items) and estimates the entire US population use with 1,000 cases and fast transmission and slow response. So this is a very pessimistic scenario. This makes sense when calculating the surge estimates."
      ]
    },
    {
      "cell_type": "markdown",
      "metadata": {
        "id": "DOPqqurOE8-E",
        "colab_type": "text"
      },
      "source": [
        "# Follow-on versions from v2 to v2.x\n",
        "\n",
        "The next steps are a little complicated, but we are converting the entire model into a series of vectorized operations. This documents:\n",
        "\n",
        "## v2. Duplicate the Excel Surge\n",
        "\n",
        "This duplicates the current surge model that is run by the Excel sheets as of v1.4.7. This is meant as a check of formulas and to ensure have duplicated the model.\n",
        "\n",
        "\n",
        "## v2.1 Add patients, more tests and tempos\n",
        "\n",
        "This includes calculations for adding patients counts and test tempos. This assumes that testing is either brought in as a separate module and the patients as well as a function of either SIR data or with some test method such as used by BMGF spreadsheets or WHO. It also adds burn rates by more than just daily per capita.\n",
        "\n",
        "## v2.2. Add ranges of costs\n",
        "\n",
        "In parenthesis are the notes for integrating the new features of v2.x. This includes a time series as the main features\n",
        "\n",
        "## v2.3 Add Time series\n",
        "\n",
        "So we do more than the surge model\n",
        "\n",
        "## v2.4 Think aboiut doing distributions rather than just ranges\n",
        "\n",
        "Would have a range of units increasing the dimensionality again. At this point, we might move to a mean with a sigma instead of many different parameters. This would mean we would have to do distribution math which asusming we have normal distributions is possible. For instance [normal distribution math](https://math.stackexchange.com/questions/2314763/variance-operations-on-the-normal-distribution) shows in [Latex](https://towardsdatascience.com/write-markdown-latex-in-the-jupyter-notebook-10985edb91fd)\n",
        "\n",
        "$$\n",
        "X = N(\\mu, \\sigma^2)\\\\\n",
        "Y = N(\\upsilon, \\tau^2)\\\\\n",
        "aX + bY = N(a\\mu + b\\upsilon, a^2\\sigma^2 +b^2\\tau^2)\n",
        "$$\n",
        "\n",
        "And I'm pretty sure this distribution math is a numpy function somewhere :-). However, the [product of two normal distributions](http://pldml.icm.edu.pl/pldml/element/bwmeta1.element.bwnjournal-article-doi-10_7151_dmps_1146/c/dmps.1146.pdf) is not normal, it is a Bessel function so it might be better just to use ranges which are a little easier to manage. \n",
        "\n",
        "\n",
        "\n"
      ]
    },
    {
      "cell_type": "markdown",
      "metadata": {
        "id": "fQ3osyCnkLWQ",
        "colab_type": "text"
      },
      "source": [
        "# A note on notation\n",
        "We have two sets of notation:\n",
        "\n",
        "- Formulaic notation using Latex that is suitable for math and proofs. It more concise, but derivable from and convertable to the long code names.\n",
        "- Notation for coding in Python. In this we are using some coding conventions as the terms can be confusing. We use snake_case for local variable and suffix each matrix or array with their dimensions. We use unique letters for various dimensions. For instance, we have p populations and n resources, so a matrix which is p rows and n columns would look like `data_pn`\n",
        "\n",
        "## Einstein Summation\n",
        "Besides matrix multiplication and element-wise multiplication, we also make sure of [Einstein Summation](https://mathworld.wolfram.com/EinsteinSummation.html) popularized by Einstein's use in proving his theories, the notation allows axis summation, so that each index indicates what is iterated over and the left hand indicates what is summed or squashed\n",
        "\n",
        "$$\n",
        "P^T_{pn} = P_{pn}\\,PE^T_{tnp}\n",
        "$$\n",
        "\n",
        "This is exactly equivalent to \n",
        "\n",
        "    PT_tpn = np.einsum(\"dpn,np=pn\",P_dpn, T_np)\n",
        "\n",
        "## The use of suffixes and fixed constants for array dimensions\n",
        "- Also for some of these the type is not obvious, so for simplicity there is another suffice for the type where `df` means Pandas DataFrame and `arr` means Numpy Array.\n",
        "- Then we try to be descriptive of the actual variable itself so for instance if we are dealing with consumption or burn rates, then it would be `consumption_pn` means what is the consumption for each population p for every n resource. The longer hand would be `pop_consumption_pn_df` so there are some consistent abbreviations\n",
        "- The use of array variable makes the use of Einstein Summations much clearer, instead of the normal `ij,jk=ik`, it is way more understandable to write `pn,nk=pk` which would be p population rows by k variables\n",
        "\n",
        "## The main class of objects in the model and their relationship to notation\n",
        "\n",
        "The general scheme is that there is a class Model which gets instantiated with all the appropriate labels. This provides the implicit dimenstions of the model.\n",
        "\n",
        "Then each major module can be subclassed from this and your can replace it. The current list of modules are and in the notation, the class name is the major part of the variable\n",
        "\n",
        "- Model. This is the core framework. It holds the dimensions and pointers to all the module component instances.\n",
        "\n",
        "The objects in the world which has a single character $symbol$ or a 3-4 character `_short_name_` name\n",
        "- Population as $P$ or `pop`. This holds the population and details about it \n",
        "- Resource $R$ or `res`. The resources needed\n",
        "- Essentiality $E$ or `ess`. The population summarized by summary levels that are used to restart the economy in phases and stop it the same way\n",
        "\n",
        "How the resources are stored and used:\n",
        "- Demand $D$ or `demand`. This calculates the burn rates or usage of the products. In the surge model these are done per person per day which generates an lxn matrix\n",
        "- Supply $S$ or `supp`. The sources of supply and input of resources\n",
        "- Inventory $I$ or `inv`. What is currenty on hand\n",
        "\n",
        "Finally there are various properties that these objects can have. these are handles as superscripts in the formula notation or as the second word in the code as snake_case.\n",
        "\n",
        "- Cost $C$ or `cost`. The cost per unit\n",
        "- Total $T$ or `total_cost`. The total for an entire population\n",
        "\n",
        "## The names of various arrays that are data sources\n",
        "\n",
        "In formulas, the single letter capitals are data while if there are two letters, it indicates a transformation, so the basic data is as single letter denoting the header and then a subscript on what is being measures. These are all attached to classes\n",
        "\n",
        "- $P_{pd}$ or `Population.pop_df`. Population data where p is the number of populations and can have d details about it like how many \"runs per day\" for an EMT or number of covid patients\n",
        "- $R_{na}$ or `Resource.res_na[n, a]` were Resource data for n items with a attributes (like it's volume and cost), by convention, the first column has a one in it for easy matrix multiplication\n",
        "- $P^R_{pn}$ or `Population.to_res_pn[p, n]`. This is a given populations use of all n resources and is the per capita, per day figure.\n",
        "- $P^T_{pn}$ or `Population.total_pn[p, n]`. This is the total population usage\n",
        "- $E^C_{en}$ or `Essential.cost_en[e, n]`. for every essentiality level, what is the cost for each resource n.\n",
        "- $E^T_{en}$ or `Essential.total_cost_en[e, n]. The total cost for every essential level for each resource\n",
        "\n",
        "## The names of array that convert from one datum to another matrix\n",
        "\n",
        "Then there are conversions between these note that these are two letter variables that denote the source and then the destination that is getting converted. In formulas, we denote the with a superscript$^t$ and with Python we use the `**from**_to_**to**` in the Snake case \n",
        "\n",
        "- $D^{Rt}_{ln}$ or `Demand.for_resource_ln`. This is the conversion from essential levels to items used where l is the number of levels and n is the number of resources. It is the core burn rate analysis\n",
        "- $D^{Ut}_{p,l}$ or `Demand.pop_to_usage_pl[p, l]`. Converts a population into levels of use\n",
        "- $P^{Et}_{p,e}$ or `Population.to_essentiality_pe[p, e]`. This is the transformation of Population to Essential levels\n",
        "\n"
      ]
    },
    {
      "cell_type": "markdown",
      "metadata": {
        "id": "MsdJwfq15v33",
        "colab_type": "text"
      },
      "source": [
        "# The Component architecture of the code classes\n",
        "\n",
        "The architecture of system models the three things happening in the real world which are the relationships between a population at the center. Here are the basic components of the v2 model and the graphical representation is below:\n",
        "\n",
        "1. Population. This contains all the data on the people under study.\n",
        "2. "
      ]
    },
    {
      "cell_type": "code",
      "metadata": {
        "id": "TK0tkgHU5Oaj",
        "colab_type": "code",
        "colab": {
          "base_uri": "https://localhost:8080/",
          "height": 311
        },
        "outputId": "f184224e-b665-4c51-b036-b898f0889f4f"
      },
      "source": [
        "# https://h1ros.github.io/posts/introduction-to-graphviz-in-jupyter-notebook/\n",
        "# https://www.graphviz.org/pdf/dotguide.pdf for directed graphs manual\n",
        "# https://www.graphviz.org/pdf/neatoguide.pdf for undirected manual\n",
        "# https://graphviz.readthedocs.io/en/stable/manual.html\n",
        "from graphviz import Digraph, Graph\n",
        "dot = Digraph('Class Model', node_attr={'shape': 'box'})\n",
        "neato = Graph(engine='neato')\n",
        "\n",
        "# Population superclass using cluster as a special name\n",
        "# Note that name must be a named parameter\n",
        "# https://graphviz.readthedocs.io/en/stable/examples.html#cluster-py\n",
        "with dot.subgraph(name='Pop_class') as c:\n",
        "  c.attr(style='filled')\n",
        "  c.node('P', 'Population, Essentiality')\n",
        "\n",
        "dot.node('D', 'Disease')\n",
        "dot.edge('P', 'D', 'Social Mobility')\n",
        "dot.edge('D', 'P', 'Patients')\n",
        "\n",
        "dot.node('E', 'Economy')\n",
        "dot.edge('P', 'E', 'Stage, Economic Activity')\n",
        "dot.edge('E', 'P', 'GDP, Employment')\n",
        "\n",
        "with dot.subgraph(name=\"Res\") as c:\n",
        "  c.node('R', 'Resource')\n",
        "  c.edge('R', 'P', 'Delivery')\n",
        "  c.edge('P', 'R', 'Demand' )\n",
        "  c.node('I', 'Inventory')\n",
        "  c.edge('R', 'I', 'Fill')\n",
        "  c.edge('I', 'R', 'Use')\n",
        "\n",
        "dot.node('S', 'Supply')\n",
        "dot.edge('R', 'S', 'Sales Order')\n",
        "dot.edge('S', 'R', 'Fulfillment')\n",
        "\n",
        "\n",
        "# now render\n",
        "display(dot)\n"
      ],
      "execution_count": 5,
      "outputs": [
        {
          "output_type": "display_data",
          "data": {
            "text/plain": [
              "<graphviz.dot.Digraph at 0x7f3d47990e80>"
            ],
            "image/svg+xml": "<?xml version=\"1.0\" encoding=\"UTF-8\" standalone=\"no\"?>\n<!DOCTYPE svg PUBLIC \"-//W3C//DTD SVG 1.1//EN\"\n \"http://www.w3.org/Graphics/SVG/1.1/DTD/svg11.dtd\">\n<!-- Generated by graphviz version 2.40.1 (20161225.0304)\n -->\n<!-- Title: Class Model Pages: 1 -->\n<svg width=\"690pt\" height=\"218pt\"\n viewBox=\"0.00 0.00 690.05 218.00\" xmlns=\"http://www.w3.org/2000/svg\" xmlns:xlink=\"http://www.w3.org/1999/xlink\">\n<g id=\"graph0\" class=\"graph\" transform=\"scale(1 1) rotate(0) translate(4 214)\">\n<title>Class Model</title>\n<polygon fill=\"#ffffff\" stroke=\"transparent\" points=\"-4,4 -4,-214 686.0482,-214 686.0482,4 -4,4\"/>\n<!-- P -->\n<g id=\"node1\" class=\"node\">\n<title>P</title>\n<polygon fill=\"none\" stroke=\"#000000\" points=\"345.0482,-210 193.0482,-210 193.0482,-174 345.0482,-174 345.0482,-210\"/>\n<text text-anchor=\"middle\" x=\"269.0482\" y=\"-188.3\" font-family=\"Times,serif\" font-size=\"14.00\" fill=\"#000000\">Population, Essentiality</text>\n</g>\n<!-- D -->\n<g id=\"node2\" class=\"node\">\n<title>D</title>\n<polygon fill=\"none\" stroke=\"#000000\" points=\"80.5482,-123 21.5482,-123 21.5482,-87 80.5482,-87 80.5482,-123\"/>\n<text text-anchor=\"middle\" x=\"51.0482\" y=\"-101.3\" font-family=\"Times,serif\" font-size=\"14.00\" fill=\"#000000\">Disease</text>\n</g>\n<!-- P&#45;&gt;D -->\n<g id=\"edge1\" class=\"edge\">\n<title>P&#45;&gt;D</title>\n<path fill=\"none\" stroke=\"#000000\" d=\"M192.7605,-186.7045C118.9343,-180.7844 16.3983,-170.1412 4.0482,-156 -4.3646,-146.367 2.2952,-135.9479 12.9681,-127.0533\"/>\n<polygon fill=\"#000000\" stroke=\"#000000\" points=\"15.3448,-129.6482 21.2908,-120.8792 11.1741,-124.0262 15.3448,-129.6482\"/>\n<text text-anchor=\"middle\" x=\"49.0482\" y=\"-144.8\" font-family=\"Times,serif\" font-size=\"14.00\" fill=\"#000000\">Social Mobility</text>\n</g>\n<!-- E -->\n<g id=\"node3\" class=\"node\">\n<title>E</title>\n<polygon fill=\"none\" stroke=\"#000000\" points=\"305.5482,-123 232.5482,-123 232.5482,-87 305.5482,-87 305.5482,-123\"/>\n<text text-anchor=\"middle\" x=\"269.0482\" y=\"-101.3\" font-family=\"Times,serif\" font-size=\"14.00\" fill=\"#000000\">Economy</text>\n</g>\n<!-- P&#45;&gt;E -->\n<g id=\"edge3\" class=\"edge\">\n<title>P&#45;&gt;E</title>\n<path fill=\"none\" stroke=\"#000000\" d=\"M202.5278,-173.8926C186.2061,-165.9224 175.7504,-155.1006 185.0482,-141 193.7176,-127.8526 208.2921,-119.4884 222.8894,-114.1748\"/>\n<polygon fill=\"#000000\" stroke=\"#000000\" points=\"223.978,-117.5013 232.4233,-111.1039 221.8318,-110.8384 223.978,-117.5013\"/>\n<text text-anchor=\"middle\" x=\"259.0482\" y=\"-144.8\" font-family=\"Times,serif\" font-size=\"14.00\" fill=\"#000000\">Stage, Economic Activity</text>\n</g>\n<!-- R -->\n<g id=\"node4\" class=\"node\">\n<title>R</title>\n<polygon fill=\"none\" stroke=\"#000000\" points=\"559.5482,-123 490.5482,-123 490.5482,-87 559.5482,-87 559.5482,-123\"/>\n<text text-anchor=\"middle\" x=\"525.0482\" y=\"-101.3\" font-family=\"Times,serif\" font-size=\"14.00\" fill=\"#000000\">Resource</text>\n</g>\n<!-- P&#45;&gt;R -->\n<g id=\"edge6\" class=\"edge\">\n<title>P&#45;&gt;R</title>\n<path fill=\"none\" stroke=\"#000000\" d=\"M345.4738,-183.957C378.8219,-178.6707 417.8124,-170.0267 451.0482,-156 466.8495,-149.3313 482.7246,-138.9866 495.6967,-129.3522\"/>\n<polygon fill=\"#000000\" stroke=\"#000000\" points=\"497.9598,-132.0276 503.7722,-123.1694 493.7044,-126.4696 497.9598,-132.0276\"/>\n<text text-anchor=\"middle\" x=\"501.5482\" y=\"-144.8\" font-family=\"Times,serif\" font-size=\"14.00\" fill=\"#000000\">Demand</text>\n</g>\n<!-- D&#45;&gt;P -->\n<g id=\"edge2\" class=\"edge\">\n<title>D&#45;&gt;P</title>\n<path fill=\"none\" stroke=\"#000000\" d=\"M75.8268,-123.1308C91.565,-133.9427 112.7314,-147.2279 133.0482,-156 148.7937,-162.7984 166.1336,-168.5757 183.0086,-173.3808\"/>\n<polygon fill=\"#000000\" stroke=\"#000000\" points=\"182.3046,-176.8171 192.875,-176.0979 184.1632,-170.0684 182.3046,-176.8171\"/>\n<text text-anchor=\"middle\" x=\"155.5482\" y=\"-144.8\" font-family=\"Times,serif\" font-size=\"14.00\" fill=\"#000000\">Patients</text>\n</g>\n<!-- E&#45;&gt;P -->\n<g id=\"edge4\" class=\"edge\">\n<title>E&#45;&gt;P</title>\n<path fill=\"none\" stroke=\"#000000\" d=\"M305.7808,-117.7103C324.9407,-126.5604 342.5878,-139.6888 333.0482,-156 330.5262,-160.3124 327.2766,-164.1481 323.5813,-167.552\"/>\n<polygon fill=\"#000000\" stroke=\"#000000\" points=\"321.1516,-165.0103 315.4605,-173.9469 325.4823,-170.5098 321.1516,-165.0103\"/>\n<text text-anchor=\"middle\" x=\"391.5482\" y=\"-144.8\" font-family=\"Times,serif\" font-size=\"14.00\" fill=\"#000000\">GDP, Employment</text>\n</g>\n<!-- R&#45;&gt;P -->\n<g id=\"edge5\" class=\"edge\">\n<title>R&#45;&gt;P</title>\n<path fill=\"none\" stroke=\"#000000\" d=\"M537.5984,-123.3758C543.1778,-134.0081 546.9109,-147.0194 539.0482,-156 526.9431,-169.8263 429.9966,-180.1346 355.7002,-186.0997\"/>\n<polygon fill=\"#000000\" stroke=\"#000000\" points=\"355.0725,-182.6382 345.3782,-186.9124 355.6221,-189.6166 355.0725,-182.6382\"/>\n<text text-anchor=\"middle\" x=\"568.0482\" y=\"-144.8\" font-family=\"Times,serif\" font-size=\"14.00\" fill=\"#000000\">Delivery</text>\n</g>\n<!-- I -->\n<g id=\"node5\" class=\"node\">\n<title>I</title>\n<polygon fill=\"none\" stroke=\"#000000\" points=\"497.5482,-36 424.5482,-36 424.5482,0 497.5482,0 497.5482,-36\"/>\n<text text-anchor=\"middle\" x=\"461.0482\" y=\"-14.3\" font-family=\"Times,serif\" font-size=\"14.00\" fill=\"#000000\">Inventory</text>\n</g>\n<!-- R&#45;&gt;I -->\n<g id=\"edge7\" class=\"edge\">\n<title>R&#45;&gt;I</title>\n<path fill=\"none\" stroke=\"#000000\" d=\"M490.3763,-94.0602C478.6336,-88.5107 466.7939,-80.4472 460.0482,-69 456.0468,-62.2096 454.9484,-53.9765 455.2183,-46.1246\"/>\n<polygon fill=\"#000000\" stroke=\"#000000\" points=\"458.7002,-46.4788 456.232,-36.1755 451.7363,-45.7692 458.7002,-46.4788\"/>\n<text text-anchor=\"middle\" x=\"470.0482\" y=\"-57.8\" font-family=\"Times,serif\" font-size=\"14.00\" fill=\"#000000\">Fill</text>\n</g>\n<!-- S -->\n<g id=\"node6\" class=\"node\">\n<title>S</title>\n<polygon fill=\"none\" stroke=\"#000000\" points=\"621.5482,-36 562.5482,-36 562.5482,0 621.5482,0 621.5482,-36\"/>\n<text text-anchor=\"middle\" x=\"592.0482\" y=\"-14.3\" font-family=\"Times,serif\" font-size=\"14.00\" fill=\"#000000\">Supply</text>\n</g>\n<!-- R&#45;&gt;S -->\n<g id=\"edge9\" class=\"edge\">\n<title>R&#45;&gt;S</title>\n<path fill=\"none\" stroke=\"#000000\" d=\"M530.8729,-86.8983C534.7311,-76.6144 540.4811,-63.8644 548.0482,-54 551.0444,-50.0942 554.5432,-46.3439 558.2351,-42.8367\"/>\n<polygon fill=\"#000000\" stroke=\"#000000\" points=\"560.7965,-45.2446 565.9851,-36.0073 556.1685,-39.9928 560.7965,-45.2446\"/>\n<text text-anchor=\"middle\" x=\"581.5482\" y=\"-57.8\" font-family=\"Times,serif\" font-size=\"14.00\" fill=\"#000000\">Sales Order</text>\n</g>\n<!-- I&#45;&gt;R -->\n<g id=\"edge8\" class=\"edge\">\n<title>I&#45;&gt;R</title>\n<path fill=\"none\" stroke=\"#000000\" d=\"M474.2921,-36.0034C483.3843,-48.3631 495.5988,-64.9671 505.7669,-78.7895\"/>\n<polygon fill=\"#000000\" stroke=\"#000000\" points=\"503.0424,-80.9923 511.7874,-86.9735 508.681,-76.8443 503.0424,-80.9923\"/>\n<text text-anchor=\"middle\" x=\"507.0482\" y=\"-57.8\" font-family=\"Times,serif\" font-size=\"14.00\" fill=\"#000000\">Use</text>\n</g>\n<!-- S&#45;&gt;R -->\n<g id=\"edge10\" class=\"edge\">\n<title>S&#45;&gt;R</title>\n<path fill=\"none\" stroke=\"#000000\" d=\"M609.1257,-36.2576C616.4449,-46.3529 621.9094,-58.8659 615.0482,-69 604.7166,-84.2602 586.7555,-93.0522 569.5828,-98.1174\"/>\n<polygon fill=\"#000000\" stroke=\"#000000\" points=\"568.4329,-94.7995 559.6264,-100.6898 570.184,-101.5769 568.4329,-94.7995\"/>\n<text text-anchor=\"middle\" x=\"650.0482\" y=\"-57.8\" font-family=\"Times,serif\" font-size=\"14.00\" fill=\"#000000\">Fulfillment</text>\n</g>\n</g>\n</svg>\n"
          },
          "metadata": {
            "tags": []
          }
        }
      ]
    },
    {
      "cell_type": "markdown",
      "metadata": {
        "id": "Aes2JqzOkk9G",
        "colab_type": "text"
      },
      "source": [
        "\n",
        "\n"
      ]
    },
    {
      "cell_type": "markdown",
      "metadata": {
        "id": "HROEvhCdl7m4",
        "colab_type": "text"
      },
      "source": [
        "# Model Class\n",
        "\n",
        "Where it all begins, this connects the various classes together and does the model logic creating new objects.\n",
        "\n",
        "v2.3. An idea is that when you change this, how does it dynamically recalculate"
      ]
    },
    {
      "cell_type": "markdown",
      "metadata": {
        "id": "zRPqcRMfklXE",
        "colab_type": "text"
      },
      "source": [
        "# Resource Class: `Resource.res(n,1)`, $R_n$\n",
        "\n",
        "This in the simplest form is just a vector of 1s with the labels being the materials.\n",
        "\n",
        "   Resource[n, 1] = np.ones((n, 1))\n",
        "\n",
        "We can handle any arbitrary vector of items, just change the list. Longer term, we will have our own GUID system, but right no rely on unique text strings\n",
        "\n",
        "## A note on handling conservation by amortizing specific items.\n",
        "\n",
        "In the v1.x models, we had a series of calculations indicating which items were reusable and which weren't. With an unlimited number of columns, it is much eaiser to just have dedicated items for:\n",
        "\n",
        "- Cloth masks\n",
        "- Disinfectable N95 respirators\n",
        "\n",
        "Then if an article lasts n days, set their tempo of use to 1/n, so a cloth mask that can be used for 10 days for disposal would be 0.1.\n",
        "\n",
        "This does not quite model the spike and flow, but is a decent approximation for now over many days.\n",
        "\n",
        "# Resource Class: Physical facts about resources, `Resource.res[d, n]`, $R_{dn}$ for v2.2\n",
        "\n",
        "\n",
        "We need to know some physical characteristics about resources. This could also come from Supply but will likely be more static. Some of the key ones are the volume and count\n",
        "\n",
        "    Resource_dn = [ units, square footage, weight, volume \n",
        "\n",
        "The other variables for the resource are physical characteristics like the volume of the package.\n",
        "\n"
      ]
    },
    {
      "cell_type": "markdown",
      "metadata": {
        "id": "ohnMmgU5mANo",
        "colab_type": "text"
      },
      "source": [
        "# Population Class yields `Population.pop_p[p,1]`, $P_{p}$  \n",
        "\n",
        "In the original model, we had p sub-populations. In the simplest model, it was just two populations: non-employees of healthcare companies and employees. With SOC and other codes, there are close to a thousands. So this is a column vector\n",
        "\n",
        "So for example `Population_p = [ [[7400], [435]] ]` which is just about the right numbers for Seattle and is a $[p, 1$ vector \n",
        "\n",
        "## `Population_pa` or $P_{pd}$ in v2.1 and higher\n",
        "v2.1 adds more population details d which can be for instance run rates for EMTs, number of patients so this become `population_pd` $P(p,d)$)\n",
        "\n",
        "\n",
        "\n"
      ]
    },
    {
      "cell_type": "markdown",
      "metadata": {
        "id": "kUrTlN99mCpL",
        "colab_type": "text"
      },
      "source": [
        "# Demand Class: `demand.use_res_ln[l,n]`, $DR^T_{ln}$\n",
        "\n",
        "So first we need the inputs which are the list of usage or protection levels l x the number of resources we are tracking n. So this is an p x n matrix where each entry says for protection level l, we have so many items per capita per day. So the first data list is `demand_to_res_ln[l, n]` and $DR^T_{ln} = l rows x n columns$ or demand_to_res.shape = ( l, n )\n",
        "\n",
        "In Python speak this is `demand_to_res_ln_df` since it is a Panda **D**ata**F**rame. Right now this is a test matrix that is constructed in the Jupyter Notebook, but longer term, it should be pulled from an database with the suitable annotations.\n",
        "\n",
        "## v2. Demand adds a detail level for multiple tempos `demand_res_dln[d, l, n]`, $DR^T_{dln}$\n",
        "v2.1 will add a population detail level so you can have tempos of things other than per capita, for instance, it could be per run or per COVID patient in the population and then it becomes `Usage_to_res_dln $C[d, n, l]` where d are the population Details."
      ]
    },
    {
      "cell_type": "markdown",
      "metadata": {
        "id": "H2CnVk8Zklzg",
        "colab_type": "text"
      },
      "source": [
        "# Population Class: Population spread over different Usage levels of resources: `Population.to_usage_pl`, $PU_{pl}$\n",
        "\n",
        "You can think of this as a one-hot matrix in the most simple form. That is for each population, what level of protection do you need. \n",
        "\n",
        "For example, in the simplest case, if there are six protection levels, then if non-employees get level 1 and healthcare employees get level 6, then the matrix looks so then `Pop_to_usage_pl` is:\n",
        "\n",
        "    0 1 0 0 0 0 0\n",
        "    0 0 0 0 0 0 1\n",
        "\n",
        "While date entry is complicated, this let's you take any given population and give it fractions of protection. For instance, if a healthcare employer typically had 50% of it's workers as office workers at level 2, 25% as customer facing and 10% taking care of non COVID and 15% in direct contact, that vector would look like:\n",
        "\n",
        "    0 0.5 0.25 0 0 0.10 0.15\n",
        "\n",
        "This gives the modeler great flexibility with employers or any population\n",
        "\n",
        "The matrix of usage PU looks like p rows and l columns\n",
        "\n",
        "    Pop_to_usage_pl_arr.shape = [ p, l ]\n",
        "\n",
        "\n",
        "\n"
      ]
    },
    {
      "cell_type": "markdown",
      "metadata": {
        "id": "_IJKgtT_mL9W",
        "colab_type": "text"
      },
      "source": [
        "# Model Class: Each population's required resources per unit: `Population.resource_pn`, $P_R(p, n)$\n",
        "\n",
        "This is the first derived figure taking in the above variables\n",
        "\n",
        "So with this, you can see that with a single operation you can get to the actual equipment levels require per person per day for a given population. Note that there is new Python 3.5 syntax for [matrix multiply](https://docs.python.org/3/whatsnew/3.5.html#whatsnew-pep-465)\n",
        "\n",
        "    $PU x UR = PU[p, l] x UR[l, n] = P_R[p, n]$\n",
        "    # in the new Python 3.5 syntax using ampersand\n",
        "    # np.dot for matrices but not tensors\n",
        "    P^R = PU @ UC\n",
        "    # Which is the same as but in shorter notation\n",
        "    P^R = PU.dot(UC)\n",
        "\n",
        "In Python Numpy speak, we are doing a matrix [multiply](https://www.tutorialexample.com/understand-numpy-np-multiply-np-dot-and-operation-a-beginner-guide-numpy-tutorial/)\n",
        "\n",
        "    # Now you can see the value of the suffix\n",
        "    # It is a quick check because for a matrix multiply to work\n",
        "    # you need the column of the first to match the row of the second\n",
        "    # Note how with a matrix, both the name `use` and the subscript\n",
        "    # `l` must match for this to work properly\n",
        "    Pop_to_res_pn_df = Pop_to_usage_pl_df @ Usage_to_res_ln_df\n",
        "\n",
        "Note that this is still in \"per capita terms\" that is we are getting usage per person and have not gotten to the total population yet.\n",
        "\n",
        "### v2.1 Extend to multiple burn rates $UR_{dln}$ or `Usage_to_res_dln[d, l, n]`\n",
        "In v2.1,  When this is extended with different burn rates this becomes a multi-dimensional array.\n",
        "\n",
        "The key concept is that PU x UR is really an assumption about the per capita rate is 1, so with d=1, it simplifies to just $UR(l, n)$, but in v2.1, you have for each detail as different run rate so the usage matrix has a new dimension UR[d, l, n] or for each detail, there is a different consumption level l for every resource item n.\n",
        "\n",
        "Assuming we have to do the PU[p, l] across then we need to broadcast this multiply across UR[1, p, n], UR[2, p, n],... And then sum it which is easy to do with an einsum:\n",
        "\n",
        "    # v2.1 with details\n",
        "    $PU x UR = PU[p, l] x UR[d, l, n] = P_R[d, p, n]$\n",
        "    # In python this is easiest to do as an einsum\n",
        "    Pop_resource_dpn = np.einsum(\"pl,dln=dln\", Pop_to_usage_pl, Usage_to_res_dln)\n",
        "\n",
        "With UR, you can create specific levels like EMT for instance with different runs and you can have some based on number of EMTs, another d could be number of runs per day handled or number of COVID-19 patients or number of suspected cases. This gives you great flexibility in assignment of run rates. You don't have to convert everything to per capita numbers.\n",
        "\n",
        "Most of these matrices will be very sparse, but it removes so much specific logiv and replaces it with very fast matrix multiplies.\n",
        "\n"
      ]
    },
    {
      "cell_type": "markdown",
      "metadata": {
        "id": "j_So41jQQXVE",
        "colab_type": "text"
      },
      "source": [
        "# Moving Beyond Surge in v2: Social Mobility $SM_t$ and Economic Activity $EA_t$\n",
        "\n",
        "There are four major goals for V2.x:\n",
        "\n",
        "Time series forecast based of what's needed so that all matrices now have a time dimension so you can see things change with time.\n",
        "\n",
        "Explicit utilization models beyond per capita the two major ones are\n",
        "    - per \"run or 911 call\" for things that are incident based. This means that every population is going to have an activity matrix in addition to the population matrix\n",
        "    - per COVID PUD (Patient Under investigation) mainly for testing tempos so there will be a matrix of how many patients there are in a given population\n",
        "\n",
        "The time series particularly for activity is based on social mobility model that is handled off this model, but comes in as a matrix SM[p, t] which is how each social mobility population changes for time indexed on 100% at Feb 7.\n",
        "\n",
        "Time series that is the disease progression from SIR or other Epi model which modeled as DP[p, t] so you can look at various populations with differential infection rates.\n",
        "\n",
        "## The first step extending with an time with Social mobility and Economic Recovery\n",
        "\n",
        "This is first step, the basic strategy is to take the Population needs P[p, n] and add a third dimension PE[t, p, n] where t is the time (arbitrarily we are saying weeks for now, but could be days).\n",
        "\n",
        "So the basic input into this most simplistic model, we assume we get a vector that shows social mobility as a function of time for each population $SM[p, t]$ where each row is a population percentage of recovery, that is if say Feb 7 2020 was 100% activity in a given population, then we see if the first population doesn't start until week 3 and then ramps, mobility would look like if say non-healthcare was row 0 and healthcare workers are row 1\n",
        "\n",
        "    [ [ 0.0, 0.0, 0.3, 0.4 ],\n",
        "      [ 0.4, 0.5, 0.6, 0.7 ]]\n",
        "\n",
        "Generating this social mobility projection is easy backwards looking with things like the IHME social index, the trick is a simple projection forward. \n",
        "\n",
        "In this model, we will by default use a simple [sigmoid](https://en.wikipedia.org/wiki/Sigmoid_function) to model this as a placeholder and start them at different points so the Social Mobility Model Input parameters (thank goodness for [Latex Markdown](https://en.wikibooks.org/wiki/LaTeX/Mathematics), [Medium](https://towardsdatascience.com/latex-for-data-scientists-in-under-6-minutes-3815d973c05c), [Latex4Technics](https://www.latex4technics.com/?note=gw021j)\n",
        "\n",
        "While there are many types of [Sigmoids](https://www.quora.com/Is-there-any-difference-between-sigmoid-logistic-and-tanh-function) like tanh, we will use the logistic since it is commonly used in machine learning. The logistic function originally came from population research and it is theoretically [optimal](https://www.quora.com/q/kvuotomuzenzevuw/Logistic-Softmax-Regression) if we ever apply optimization to the problem\n",
        "\n",
        "So for every population we end with a simple starter S[p, 2] which carries the three parameters a or the maximum height, and b the start offset. This is convenient encapsulated in [Scipy Logistic](https://docs.scipy.org/doc/scipy/reference/generated/scipy.stats.logistic.html)\n",
        "\n",
        "$S(a, b, t) = a \\frac{1}{1 + e^{-t}} + b$\n",
        "\n",
        "From this its easy to generate the actual SM[p, t] = S(a, b, t)\n",
        "\n",
        "Or in real python where a is scale and bj is loc for location\n",
        "\n",
        "    from scipy.stats import logistic\n",
        "    logistic.cdf(t, loc=0, scale=2)\n",
        "\n",
        "With this we can then generate the Essentials Items as E[p, n, t] which is then just that for each slice E[p, n, 0] = E[p, n] * SM[p, 0].values with casting\n",
        "\n",
        "This can be vectorized as well E[p, n] * S[p, t] = ET [p, n, t]as an example with the simplest example of two populations where the non-healthworkers use 500 non-ASTM masks and the healthcare workers use 100 at full surge, \n",
        "\n",
        "    [[ 0, 500],\n",
        "     [ 100, 0 ]]\n",
        "\n",
        "Then if the start sequence looks like the non-healthworker are idle in the first week and then go to 50% in the second, while healthcare workers start at 30% and go to 70%\n",
        "\n",
        "    [ [ 0, 0.5 ],\n",
        "      [ 0.3, 0.7]]\n",
        "\n",
        "The math looks like doing this with a broadcast, so you extend E first with a stack ET[p, n, t ] = E[p, n].stack(t) so you get identical\n",
        "\n",
        "Then you can do element wise math\n",
        "\n",
        "### The Economic recovery\n",
        "\n",
        "Using Fed data, they do model today a U-shaped recession so we can model the amount of economic activity in addition to the amount of social mobility. The social mobility affects the customers coming into stores and demand for social services. The Recovery data gives a sense of the amount of business that a given store will have.\n",
        "\n",
        "## The next step carrying different run rates\n",
        "\n",
        "First we are explicitly going to change the modeling to not just carry Population[p], but actually a bunch of factors including that are for each population, Population[p, a] includes a bunch of attributes and then when you calculate burn rates, you sum across all of the\n",
        "\n",
        "$PR_pn = P_{pa} \\, PR^T_{apn}$\n",
        "\n",
        "    $Population_use_tpn = np.einsum(\"pa,tp\", Population_pa_df, Social_mobility_tp)$\n",
        "\n",
        "So what is in the characteristic C[p, m]\n",
        "  * Number of COVID-19 Patients in a give population for healthcare usage based on patients\n",
        "  * Number of Patients Under Investigation\n",
        "  * Number of Activities by the population which is a different tempo\n",
        "\n",
        "\n"
      ]
    },
    {
      "cell_type": "markdown",
      "metadata": {
        "id": "L-qdjB5KkmMV",
        "colab_type": "text"
      },
      "source": [
        "# Total (per period) required by a population equipment: `Population.total_unit_use_pn[p, n]`, $T^P_{pn}$\n",
        "\n",
        "Now that we have the per-capita requirements, we need to do a scalar multiply by row. As an asside, if you don't want to do the\n",
        "\n",
        "    $T_P(p, n) = P_R(p, n) x P(p, 1)$\n",
        "    # Or in python using broadcasting which extends P out n columns\n",
        "    $T_P = P_R * P$\n",
        "    # in Dataframe, you get scalar multiply by converting to np array values\n",
        "    # Note we are only plucking out the percapita number here.\n",
        "    Total_pop_unit_res_pn_df = Pop_res_pn_df * Population_p.values\n",
        "\n",
        "\n",
        "## v2.2 Adding details to $P^T_{dpn}$ or Population.total_use_dpn[d, p, n]\n",
        "In the case where we have details and run then across, we just extend the details, we now have we extend to details with a broadcast, note that using einsum makes this easy so we don't first have to transpose\n",
        "\n",
        "    $P_T(p, n) = P_R(d,p,n) x P(p,d).T$\n",
        "    Pop_total_res_pn_df = Pop_res_dpn_tf * Population_pd.values.T\n",
        "    # this is equivalent and probably easier to read\n",
        "    Pop_total_res_pn_df = np.einsum(\"dpn,pd=pn\", Pop_res_dpn_tf, Population_pd)\n",
        "\n"
      ]
    },
    {
      "cell_type": "markdown",
      "metadata": {
        "id": "B61cEeUjma-2",
        "colab_type": "text"
      },
      "source": [
        "# Essentiality Class Transform: `Essential.to_pop_ep[e, p]`, $EP^T(e, p)$\n",
        "\n",
        "Many times the subpopulations are going to be too large to understand. For instance when there are 800 job classfied by SOC or where there are 350 employer class by NAICS-6, so for convenience, we define essential levels. You can think of the of this as for each population, where do they fit in where they start. Essential (which has reversed so 0 is the highest since version 1.x) can be thought of as the time period of start. So Essential 0 (like Defcon 1), is the most important and so forth. \n",
        "\n",
        "There are two uses of essentiality. The first is to compress very large populations into something that is understandable. If you have say 800 different classes of workers such as the US Standard Occupational Codes (SOC), then this is too much to display so you might have essential levels like healthcare worker, or blue collar worker. In the v1.x models there were seven levels:\n",
        "\n",
        "- No Protection\n",
        "- Residential\n",
        "- White collar worker (in an office setting)\n",
        "- Customer facing (in contact with many others)\n",
        "- Blue collar worker (manufacturing, construction)\n",
        "- Potential contact healthcare worker\n",
        "- In contact with COVID healthcare worker\n",
        "\n",
        "## v2.2 The other use for stage restart `Essential.time_te` or $T^E_{te}$\n",
        "\n",
        "This extends easily to staged restart, so for the example essentiality levels of non-healthcare employed and heathcare employed, it might look like a simple matrix across 6 start periods as or more analytically E is e rows and t columns.\n",
        "\n",
        "So in the example, it says the first population starts at time 0 and then the second starts in week 6, so in a t, e, at time zero e0 starts and then six weeks late e1 starts\n",
        "\n",
        "    1 0\n",
        "    0 0\n",
        "    0 0\n",
        "    0 0\n",
        "    0 0\n",
        "    0 0\n",
        "    0 1\n",
        "\n",
        "But this system also allows a staged restart, so for example, if you want have the workers to come back in the next period for healthcare employees and this series could even be generated as a lambda with any arbitrary function, so in this example, population 1 starts 50% in week 0, then slows continues. \n",
        "\n",
        "While population 2 doesn't start until week 4 and tails up\n",
        "\n",
        "    0.5 0\n",
        "    0.4 0\n",
        "    0.1 0\n",
        "    0 0\n",
        "    0 0.2\n",
        "    0 0.4\n",
        "    0 0.6\n",
        "\n",
        "The module has to create this. In the test model, these are hard coded, but in reality, this is tied to a government's start plan and needs to pull from a database. Create a new object for each with parameters as needed to get the right.\n",
        "\n",
        "This will let us extend the requirements out in time easily.\n",
        "\n"
      ]
    },
    {
      "cell_type": "markdown",
      "metadata": {
        "id": "MCjHZ9bRmfhL",
        "colab_type": "text"
      },
      "source": [
        "# Population to essentiality `Ess_res_en` $E^R_{en}$\n",
        "\n",
        "In some sense we are doing compression by this, so we are looking at Essential index e is much less than the number of populations p. Or more succinctly e << p and we can get to E with a transpose\n",
        "\n",
        "$EP^T_{ep} * P^R{pn} = e x p * p x n = E^R{en}$\n",
        "\n",
        "    # In python this looks like\n",
        "    E_R = EP^T @ P_R\n",
        "    Ess_res_en_df = Essential_to_pop_ep_df @ Pop_res_pn_df\n",
        "\n",
        "## In v2.1 Population to essentialy over time `Ess_res_ten[t, e, n]` $E^R_{ten}$\n",
        "\n",
        "This is this we are extneding the essentiality over time by stacking\n",
        "\n",
        "    Ess_res_ten_df = Einsum(\"tn, en= ten\", Time_by_ess_tn_df, Ess_res_en_df)"
      ]
    },
    {
      "cell_type": "markdown",
      "metadata": {
        "id": "sqiejks7lR6g",
        "colab_type": "text"
      },
      "source": [
        "# Supply Class: Cost for essential levels for every item: `Supply.cost_essential_en`, $C^E_{en}$\n",
        "\n",
        "For simplicity we can assume that each essential level has different costs. In reality, the costs will actually be more complicate and C[p, n] which is much more complicated we leave out as p can be very large and e is usually a small number of levels usual less than 10.\n",
        "\n",
        "For each item, what is the cost for N95 is $3 and non-surgical is $0.50 for high volume say healthcare workers and then higher costs for the rest of the population so there might be way s=3 scenarios\n",
        "\n",
        "    Cost_essential_en[e, n] = \n",
        "              [[ $3, $0.50 ],\n",
        "               [ $4.5, $1.0]]\n",
        "\n",
        "\n",
        "### v2.1.2 Adding a r range of costs `Supply.cost_essential_ren[r, e, n]`, $C(r, e, n)$\n",
        "Without the time components, if you add a range, you get a range of costs\n",
        "\n",
        "Later on as an example, although this should really use iterators to generate it since this is just 50% more for each\n",
        "see https://djangostars.com/blog/list-comprehensions-and-generator-expressions\n",
        "\n",
        "    $C^E_{ren} = C^{low}_{en}, C^{mid}_{en}, C^{hi}_{en}$\n",
        "\n",
        "    Cost_essetial_ren[r, e, n] = [[[$2, $0.25],\n",
        "                   [$3, $0.50]],\n",
        "                  [[$3, $0.50],\n",
        "                   [$4.5, $1]],\n",
        "                  [[$5, $1]\n",
        "                   [$6, $2]]]\n",
        "\n",
        "### v2.2 Adding time and the supply model 'Supply.cost_essential_tren[t,r,e,n)\n",
        "For the surge model, we just look at the peak required, but in fact we are going to get orders and then a series of prices and quantities over time t so for every time period, we get different costs for each essential level and each resource tiem\n",
        "\n",
        "    Cost_ess_res_tren[r, t, e, n] = The cost at time t for every time\n",
        "\n",
        "## Daily cost calculations $DC^E_{en}$ `Supply.daily_cost_ess_en[e, n]`\n",
        "\n",
        "OK that was the hard stuff, with these matrices reduced to essential levels and the equipment needed for each. If you now have the units needed for each essential level per period (usually day), then there are some other things you want and this is a simple scaler multiply\n",
        "\n",
        "    $DC^E_{en} = C^E_{en} * E^R_{en}$\n",
        "    Daily_cost_ess_en = Cost_essential_en_df * Ess_res_en_df.values\n",
        "\n",
        "So we have $DC^E_{en}$ which is the total units needed, now we need to do the cost analysis assuming we have variable costs\n",
        "\n",
        "### v2.1 Get a range of costs\n",
        "This is basically using casting to get Ed_{en} broadcase across all the Cost range dimension. We need to make sure this broadcast works \n",
        "\n",
        "    # Note we reverse this, assuming that broadcast has to happen\n",
        "    Daily_cost_ess_ren = np.einsum(\"ren,en=ren\", Cost_essential_ren_df * Ess_res_en_df.values\n",
        "\n",
        "### v2.2 Extent this over time\n",
        "\n",
        "    Daily_cost_ess_tren = np.einsum(\"tren,en=tren\", Cost_essential_tren_df * Ess_res_en_df.values\n",
        "\n"
      ]
    },
    {
      "cell_type": "markdown",
      "metadata": {
        "id": "vcQFx6VAlSX5",
        "colab_type": "text"
      },
      "source": [
        "\n",
        "## Model: Stockpile need by essential levels is `Resource.stockpile_en`, $S[e,n]$\n",
        "The second analysis has to do with warehouse needs and sensitivity\n",
        "\n",
        "- Stockpile estimates for say a 30-day stockpile\n",
        "- Volume estimates for daily use\n",
        "\n",
        "So for each essential you need a different stockpile. Usually more essential needs more levels. This is really another tensor.\n",
        "\n",
        "We are doing this to allow a simple Einsum to calculate all of these rather than one at a time. See the sections below for the non-tensor calculation, but the tensor one looks like\n",
        "\n",
        "    S[d, e, n ] = Einsum(\"ed, en = den\", R[e, n], Resources[n, d])\n",
        "    Stockpile needed for d Days = S[e, n] = R[e, n] * SE[e, 1].value\n",
        "\n",
        "This let's you calculate lots of parameters at the same time giving you a cost range, stockpile ranges and volumes for warehouse calculations\n",
        "\n",
        "Obviously you may not want to stock pile for all e Essential levels, so you just select what you want for instance S[0] will give you the stockpile needs for the most essential level 0.\n",
        "\n",
        "## Gross Cost for equipment by level Resource.total_cost_en\n",
        "\n",
        "So both the cross cost and the stockpile are done by level as a element-wide multiplication.\n",
        "\n",
        "    Gross cost for the equipment = RC[e, n] = R[e, n] * C[e, n].value"
      ]
    },
    {
      "cell_type": "markdown",
      "metadata": {
        "id": "_o_lYYWBgOsH",
        "colab_type": "text"
      },
      "source": [
        "# Detail of Model\n",
        "\n",
        "These are the details of the model. It is a good example of the parameters that you will need to add. Make sure that you have good advice from medical authorities when looking over these parameters"
      ]
    },
    {
      "cell_type": "code",
      "metadata": {
        "id": "TU4PflJ5b2zK",
        "colab_type": "code",
        "colab": {}
      },
      "source": [
        "# Get libraries\n",
        "import pandas as pd\n",
        "import numpy as np"
      ],
      "execution_count": null,
      "outputs": []
    },
    {
      "cell_type": "code",
      "metadata": {
        "id": "FPZYjkTlg8CS",
        "colab_type": "code",
        "cellView": "form",
        "colab": {}
      },
      "source": [
        "# https://colab.research.google.com/notebooks/forms.ipynb#scrollTo=ZCEBZPwUDGOg\n",
        "#@title Basic Model Parameters\n",
        "#@markdown ####Enter Model Description here:\n",
        "\n",
        "model_name = 'NYC Surge Forecast'  #@param\n",
        "model_description = 'v1.4 WHO Surge'  #@param {type: \"string\"}\n",
        "recurrence_index = 45  #@param {type: \"slider\", min: 0, max: 100}\n",
        "recovery_index = 62  #@param {type: \"slider\", min: 0, max: 100}\n",
        "revision =   103#@param {type: \"number\"}\n",
        "date = '2020-05-20'  #@param {type: \"date\"}\n",
        "model_type = \"surge\"  #@param ['surge', '3-month', '6-month']\n",
        "\n",
        "#@markdown ---\n",
        "#@markdown ####Daily Usage of Equipment Per Person\n",
        "units = \"10,000\" #@param [\"1,000,000\", \"100,000\", \"10,000\", \"1,000\"] {allow-input: true}\n",
        "\n",
        "#@markdown ---"
      ],
      "execution_count": null,
      "outputs": []
    },
    {
      "cell_type": "markdown",
      "metadata": {
        "id": "yLFSWaOVi7tR",
        "colab_type": "text"
      },
      "source": [
        "## Daily Usage of Equipment __n__ by Protection levels __l__ is D[l, n]"
      ]
    },
    {
      "cell_type": "code",
      "metadata": {
        "id": "1xwe8g08yRbG",
        "colab_type": "code",
        "colab": {
          "base_uri": "https://localhost:8080/",
          "height": 34
        },
        "outputId": "544be766-28ad-4de0-93f0-c47d97063c70"
      },
      "source": [
        "# Eventually we will do this from a database import, but for now, let's use\n",
        "# the data that is normally in the Excel sheet and just recreate \n",
        "# https://colab.research.google.com/drive/1Bcx54NQePYt88RWWmODrRA1pxz-2tnNW?authuser=5#scrollTo=1xwe8g08yRbG\n",
        "\n",
        "# Using PEP https://www.python.org/dev/peps/pep-0008/\n",
        "# For simplicity do as a dictionary\n",
        "Item_name = [\n",
        "              'N95 Surgical Respirator',\n",
        "              'N95 Mask',\n",
        "              'ASTM 3 Surgical Mask',\n",
        "              'ASTM 1-2 Surgical Mask',\n",
        "              'Non-ASTM Mask'\n",
        "              'Reusable Cotton Mask'\n",
        "              'Cotton Mask with Ear Loop',\n",
        "              'Face Shield',\n",
        "              'Goggles'\n",
        "              'Gown',\n",
        "              'Gloves',\n",
        "              'Shoe Covers',\n",
        "              'Test Kits',\n",
        "              'Disinfectant (30ml)',\n",
        "              'Disinfectant wipes'\n",
        "            ]\n",
        "\n",
        "# For this demo, we will just test with two\n",
        "Level_name = [ 'WA0', 'WA1', 'WA2', 'WA3', 'WA4', 'WA5', 'WA6']\n",
        "Item_name = [ 'N95 Surgical', 'non ASTM Mask']\n",
        "print('Item_names', Item_name)\n",
        "Daily_usage_matrix = [\n",
        "                [ 0, 0 ],\n",
        "                [ 0, 1 ],\n",
        "                [ 0, 2 ],\n",
        "                [ 0.1, 3],\n",
        "                [ 0.2, 4],\n",
        "                [ 0.3, 6],\n",
        "                [ 1.18, 0]]"
      ],
      "execution_count": null,
      "outputs": [
        {
          "output_type": "stream",
          "text": [
            "Item_names ['N95 Surgical', 'non ASTM Mask']\n"
          ],
          "name": "stdout"
        }
      ]
    },
    {
      "cell_type": "markdown",
      "metadata": {
        "id": "fFHD-0I8JU8N",
        "colab_type": "text"
      },
      "source": [
        "### Daily Usage Matrix verification and conversion to Dataframe\n"
      ]
    },
    {
      "cell_type": "code",
      "metadata": {
        "id": "2uM7R8IXJTQE",
        "colab_type": "code",
        "colab": {
          "base_uri": "https://localhost:8080/",
          "height": 442
        },
        "outputId": "2bbb7a50-b242-4cb2-f593-6b45a2d3244c"
      },
      "source": [
        "print('Daily_usage_matrix', Daily_usage_matrix)\n",
        "\n",
        "Daily_usage_df = pd.DataFrame(Daily_usage_matrix,\n",
        "                              columns = Item_name,\n",
        "                              index = Level_name)\n",
        "\n",
        "# use these counts to check the matrix vector bugs\n",
        "level_count = Daily_usage_df.shape[0]\n",
        "item_count = Daily_usage_df.shape[1]\n",
        "print('usage_pd shape is ', Daily_usage_df.shape,\n",
        "      'protection level count is ', level_count,\n",
        "      'item count is ', item_count)\n",
        "\n",
        "print('Daily_usage_pd', Daily_usage_df)\n",
        "\n",
        "Daily_N95s_usage = Daily_usage_df['N95 Surgical']\n",
        "print('Daily N95 Surgical Usage', Daily_N95s_usage)\n",
        "\n",
        "# https://stackoverflow.com/questions/13187778/convert-pandas-dataframe-to-numpy-array\n",
        "print('Daily usage value in Dataframe', Daily_usage_df.values)"
      ],
      "execution_count": null,
      "outputs": [
        {
          "output_type": "stream",
          "text": [
            "Daily_usage_matrix [[0, 0], [0, 1], [0, 2], [0.1, 3], [0.2, 4], [0.3, 6], [1.18, 0]]\n",
            "usage_pd shape is  (7, 2) protection level count is  7 item count is  2\n",
            "Daily_usage_pd      N95 Surgical  non ASTM Mask\n",
            "WA0          0.00              0\n",
            "WA1          0.00              1\n",
            "WA2          0.00              2\n",
            "WA3          0.10              3\n",
            "WA4          0.20              4\n",
            "WA5          0.30              6\n",
            "WA6          1.18              0\n",
            "Daily N95 Surgical Usage WA0    0.00\n",
            "WA1    0.00\n",
            "WA2    0.00\n",
            "WA3    0.10\n",
            "WA4    0.20\n",
            "WA5    0.30\n",
            "WA6    1.18\n",
            "Name: N95 Surgical, dtype: float64\n",
            "Daily usage value in Dataframe [[0.   0.  ]\n",
            " [0.   1.  ]\n",
            " [0.   2.  ]\n",
            " [0.1  3.  ]\n",
            " [0.2  4.  ]\n",
            " [0.3  6.  ]\n",
            " [1.18 0.  ]]\n"
          ],
          "name": "stdout"
        }
      ]
    },
    {
      "cell_type": "markdown",
      "metadata": {
        "id": "p4uMRbROcqpf",
        "colab_type": "text"
      },
      "source": [
        "## Population Data by sub-populations p is P[p, 1]\n",
        "\n",
        "Start with the simplest assumption, two populations, one that is `WA6` and one that is `WA2` as an example. But we will insert more data later once we decide the data source."
      ]
    },
    {
      "cell_type": "code",
      "metadata": {
        "id": "odyDmPbkc3l2",
        "colab_type": "code",
        "colab": {
          "base_uri": "https://localhost:8080/",
          "height": 119
        },
        "outputId": "23b47a1b-9c4d-409a-b9e2-a7fc7183f806"
      },
      "source": [
        "# This is a dummy test case, later we will use extraction first form a\n",
        "# spreadsheet and then eventually from a data store that is reliable\n",
        "# And which has revision control\n",
        "\n",
        "Population_name = ['Healthcare employees', 'Non employees of healthcare companies']\n",
        "Population_data = [735.2, 7179.6]\n",
        "\n",
        "print('Population Data', Population_data)\n",
        "\n",
        "Population_df = pd.DataFrame(Population_data, index = Population_name, columns = ['Population'])\n",
        "population_count = Population_df.shape[0]\n",
        "print('population count p', population_count)\n",
        "print(Population_df)\n",
        "\n",
        "# https://note.nkmk.me/en/python-type-isinstance/\n",
        "print('type of Population_name', type(Population_name))"
      ],
      "execution_count": null,
      "outputs": [
        {
          "output_type": "stream",
          "text": [
            "Population Data [735.2, 7179.6]\n",
            "population count p 2\n",
            "                                       Population\n",
            "Healthcare employees                        735.2\n",
            "Non employees of healthcare companies      7179.6\n",
            "type of Population_name <class 'list'>\n"
          ],
          "name": "stdout"
        }
      ]
    },
    {
      "cell_type": "code",
      "metadata": {
        "id": "hqG2MmDelJZs",
        "colab_type": "code",
        "colab": {}
      },
      "source": [
        ""
      ],
      "execution_count": null,
      "outputs": []
    },
    {
      "cell_type": "markdown",
      "metadata": {
        "id": "mxOgyfxTet7N",
        "colab_type": "text"
      },
      "source": [
        "# Usage of PPE by Sub-population p is U[p, l]\n",
        "\n",
        "Now we have a vector which are the population usages and we have a list of needs, so we need to do a matrix multiply of population by needs. Each entry is the percentage of a population at a given level.\n",
        "\n",
        "So in this example, 50% of healthcare workers are level 5 and 50% are at level 6"
      ]
    },
    {
      "cell_type": "code",
      "metadata": {
        "id": "NA65fr95e8w0",
        "colab_type": "code",
        "colab": {
          "base_uri": "https://localhost:8080/",
          "height": 102
        },
        "outputId": "edd86d25-7d12-498f-b261-c7d39353d064"
      },
      "source": [
        "# Now we need a matrix which is the pop_type x usage_type and the coefficient is just how much is needed for each\n",
        "# Do this for simplicity start with a zero matrix, we will actually load the data\n",
        "\n",
        "Usage_by_population_matrix = np.zeros([population_count, level_count])\n",
        "\n",
        "Usage_by_population_matrix[1,1] = 1.0\n",
        "Usage_by_population_matrix[0,6] = Usage_by_population_matrix[0, 5] = 0.5\n",
        "print('Usage_by_population_matrix', Usage_by_population_matrix)\n",
        "\n",
        "# https://www.geeksforgeeks.org/different-ways-to-create-pandas-dataframe/\n",
        "Usage_by_population_df = pd.DataFrame(Usage_by_population_matrix,\n",
        "                                      index = Population_name,\n",
        "                                      columns = Level_name)\n",
        "print(Usage_by_population_df)\n",
        "\n"
      ],
      "execution_count": null,
      "outputs": [
        {
          "output_type": "stream",
          "text": [
            "Usage_by_population_matrix [[0.  0.  0.  0.  0.  0.5 0.5]\n",
            " [0.  1.  0.  0.  0.  0.  0. ]]\n",
            "                                       WA0  WA1  WA2  WA3  WA4  WA5  WA6\n",
            "Healthcare employees                   0.0  0.0  0.0  0.0  0.0  0.5  0.5\n",
            "Non employees of healthcare companies  0.0  1.0  0.0  0.0  0.0  0.0  0.0\n"
          ],
          "name": "stdout"
        }
      ]
    },
    {
      "cell_type": "markdown",
      "metadata": {
        "id": "gGfH93RCkjXk",
        "colab_type": "text"
      },
      "source": [
        "# Required Equipment n per capita per sub-population p per capita is R[p, n]\n",
        "\n",
        "This is the first multiplication where we take the two matrices and multiply them together. So this will give us a matrix. Each row is for the populations and then each column shows the daily usage by population."
      ]
    },
    {
      "cell_type": "code",
      "metadata": {
        "id": "rUb-b6EPlUre",
        "colab_type": "code",
        "colab": {
          "base_uri": "https://localhost:8080/",
          "height": 102
        },
        "outputId": "62664228-007a-4816-c4a9-bc0cfc6b8021"
      },
      "source": [
        "print('Daily_usage_df', Daily_usage_df.shape)\n",
        "print('Usage_by_population_df', Usage_by_population_df.shape)\n",
        "\n",
        "# Note with Panda multiply the index of rows and the columns have to match\n",
        "Required_df = Usage_by_population_df @ Daily_usage_df\n",
        "\n",
        "print('Required_df', Required_df)"
      ],
      "execution_count": null,
      "outputs": [
        {
          "output_type": "stream",
          "text": [
            "Daily_usage_df (7, 2)\n",
            "Usage_by_population_df (2, 7)\n",
            "Required_df                                        N95 Surgical  non ASTM Mask\n",
            "Healthcare employees                           0.74            3.0\n",
            "Non employees of healthcare companies          0.00            1.0\n"
          ],
          "name": "stdout"
        }
      ]
    },
    {
      "cell_type": "markdown",
      "metadata": {
        "id": "EmHR1tXJMYW0",
        "colab_type": "text"
      },
      "source": [
        "# Total Required equipment for each Population T[p, n]\n",
        "\n",
        "We are now just going to case the Population count vector across the required per capita to get the total required across all populations. So we need [element-wise multiplication](https://stackoverflow.com/questions/40034993/how-to-get-element-wise-matrix-multiplication-hadamard-product-in-numpy) which is denoted and this works because of casting, so P is duplicated for each column. Th syntax is different in each variant, for [Dataframes](https:/stackoverflow.com/questions/21022865/pandas-elementwise-multiplication-of-two-dataframes_)\n",
        "\n",
        "    # In Matlab\n",
        "    R .* P \n",
        "    # In Numpy\n",
        "    R * P\n",
        "    # In \n",
        "    R * P.values\n",
        "\n",
        "This is a pretty easy calculation, you just need the element-wise multiplication of the actual population numbers against the per-capita needs. Because of t he way broadcasting works, the vector is spread properly\n",
        "\n",
        "$T[p, n] = R[p, n] * P[p, 1].values$"
      ]
    },
    {
      "cell_type": "code",
      "metadata": {
        "id": "BZn5jauDNHgU",
        "colab_type": "code",
        "colab": {
          "base_uri": "https://localhost:8080/",
          "height": 272
        },
        "outputId": "56da6b0f-906f-4d29-8ab4-7e322041605f"
      },
      "source": [
        "\n",
        "print('Required_df shape', Required_df.shape)\n",
        "print(Required_df)\n",
        "print('Population_df shape', Population_df.shape)\n",
        "print(Population_df)\n",
        "\n",
        "Total_required_df = Required_df * Population_df.values\n",
        "print(Total_required_df)\n",
        "\n",
        "# another formulation\n",
        "Total_items_per_population_df = Required_df * Population_df.values\n",
        "print('Total items for each subpopulation')\n",
        "print(Total_items_per_population_df)"
      ],
      "execution_count": null,
      "outputs": [
        {
          "output_type": "stream",
          "text": [
            "Required_df shape (2, 2)\n",
            "                                       N95 Surgical  non ASTM Mask\n",
            "Healthcare employees                           0.74            3.0\n",
            "Non employees of healthcare companies          0.00            1.0\n",
            "Population_df shape (2, 1)\n",
            "                                       Population\n",
            "Healthcare employees                        735.2\n",
            "Non employees of healthcare companies      7179.6\n",
            "                                       N95 Surgical  non ASTM Mask\n",
            "Healthcare employees                        544.048         2205.6\n",
            "Non employees of healthcare companies         0.000         7179.6\n",
            "Total items for each subpopulation\n",
            "                                       N95 Surgical  non ASTM Mask\n",
            "Healthcare employees                        544.048         2205.6\n",
            "Non employees of healthcare companies         0.000         7179.6\n"
          ],
          "name": "stdout"
        }
      ]
    },
    {
      "cell_type": "markdown",
      "metadata": {
        "id": "QjU4CuZGYi_w",
        "colab_type": "text"
      },
      "source": [
        "# Now convert Population rows into Essential rows with E[e, p]\n",
        "This changes the labels and let's you assign each Population with an Essentiality index. Eventually, the essentiality will represent a time series. So e=0 means start at week 0 (for healthcare) and then e=N means start at week N. \n",
        "\n",
        "We can even do a time series on that too, say have a sigmoid for the starting or some other sort of lambda.\n"
      ]
    },
    {
      "cell_type": "code",
      "metadata": {
        "id": "CvE_lclnbL4q",
        "colab_type": "code",
        "colab": {
          "base_uri": "https://localhost:8080/",
          "height": 68
        },
        "outputId": "cdd6c4e6-cd89-4e11-e736-7891e775bd17"
      },
      "source": [
        "# this is a square inverse as we healthcare works are week 0 and non-healthcare is week 1\n",
        "\n",
        "Essential_name = [ \"Essential\",\n",
        "                   \"Non-essential\"]\n",
        "\n",
        "Essential_by_population_matrix = [\n",
        "                                    [1, 0],\n",
        "                                    [0, 1]                                 \n",
        "                                  ]\n",
        "\n",
        "Essential_by_population_df = pd.DataFrame(Essential_by_population_matrix,\n",
        "                                      index = Essential_name,\n",
        "                                      columns = Population_name)\n",
        "\n",
        "print('Essential by population', Essential_by_population_df)"
      ],
      "execution_count": null,
      "outputs": [
        {
          "output_type": "stream",
          "text": [
            "Essential by population                Healthcare employees  Non employees of healthcare companies\n",
            "Essential                         1                                      0\n",
            "Non-essential                     0                                      1\n"
          ],
          "name": "stdout"
        }
      ]
    },
    {
      "cell_type": "markdown",
      "metadata": {
        "id": "8HzfZeTtbRFY",
        "colab_type": "text"
      },
      "source": [
        "# Now use that matrix to convert Required equipment by population to Required by Essentiality\n",
        "\n",
        "So we that T[p, n] and we convert with another matrix multiple as\n",
        "\n",
        "    RE[e, n] = E[e, p] @ T[p, n] "
      ]
    },
    {
      "cell_type": "code",
      "metadata": {
        "id": "LX2LPIO2clDN",
        "colab_type": "code",
        "colab": {
          "base_uri": "https://localhost:8080/",
          "height": 68
        },
        "outputId": "9b3a339a-7a6d-4f87-99e7-d3615756a979"
      },
      "source": [
        "Required_by_essential_df = Essential_by_population_df @ Total_required_df\n",
        "print('Require by Essential Index', Required_by_essential_df)"
      ],
      "execution_count": null,
      "outputs": [
        {
          "output_type": "stream",
          "text": [
            "Require by Essential Index                N95 Surgical  non ASTM Mask\n",
            "Essential           544.048         2205.6\n",
            "Non-essential         0.000         7179.6\n"
          ],
          "name": "stdout"
        }
      ]
    },
    {
      "cell_type": "markdown",
      "metadata": {
        "id": "2Hj_MLrCc7zZ",
        "colab_type": "text"
      },
      "source": [
        "# Cost matrix is the Cost per item for all items C[e, n]\n",
        "\n",
        "For each row, we get a cost for the item, so for intance, if N95 surgicals are $3 and non-ASTM disposables are $0., the the vector looks like, because of broadcasting, if you just define a single row, it will be copied against all esesential levels\n",
        "\n",
        "    CE[e, n] =[ $3.00, $0.50]\n",
        "\n",
        "This should be the same width as the Product slicing.\n",
        "\n",
        "In this simple case, all costs across all essentials are identical, but in the more sophisticated costs, costs will vary by volume, so cost becomes a different across different essential levels as volumes and purchasing power are different\n",
        "\n",
        "    CE[e, n] = [ [ $3, $0.20 ],\n",
        "                [ $5, $0.50 ]\n",
        "              ]"
      ]
    },
    {
      "cell_type": "code",
      "metadata": {
        "id": "_qpsY-HvdGDf",
        "colab_type": "code",
        "colab": {
          "base_uri": "https://localhost:8080/",
          "height": 68
        },
        "outputId": "52b58639-6a53-4d4e-f556-f791ce22cbf0"
      },
      "source": [
        "# dataframe is a matrix\n",
        "# Assumes the same price for all users\n",
        "# Note that to make the math work, it need to a Numpy Array\n",
        "Cost_per_item_by_essential_matrix = np.array([ 3, 0.5] )\n",
        "\n",
        "# Assumes a different price depending on the essnetial level is 50% more\n",
        "Cost_per_item_by_essential_matrix = [ Cost_per_item_by_essential_matrix, Cost_per_item_by_essential_matrix * 1.5 ]\n",
        "Cost_per_item_by_essential_df = pd.DataFrame(Cost_per_item_by_essential_matrix,\n",
        "                                index = Essential_name,\n",
        "                                columns = Item_name)\n",
        "print('Cost per item',Cost_per_item_by_essential_df)"
      ],
      "execution_count": null,
      "outputs": [
        {
          "output_type": "stream",
          "text": [
            "Cost per item                N95 Surgical  non ASTM Mask\n",
            "Essential               3.0           0.50\n",
            "Non-essential           4.5           0.75\n"
          ],
          "name": "stdout"
        }
      ]
    },
    {
      "cell_type": "markdown",
      "metadata": {
        "id": "AUF3Zt2imJiA",
        "colab_type": "text"
      },
      "source": [
        "# Now calculate the costs based on Requirements and Cost matrix\n",
        "\n",
        "this is just the element-wise multiplication\n",
        "\n",
        "TE[e, n] = RE[e, n] * CE[e, n].value"
      ]
    },
    {
      "cell_type": "code",
      "metadata": {
        "id": "1A-BZeN-pJ-u",
        "colab_type": "code",
        "colab": {
          "base_uri": "https://localhost:8080/",
          "height": 68
        },
        "outputId": "aac88fde-8409-40f0-a62b-80f64d56f362"
      },
      "source": [
        "Total_cost_by_essential_df = Required_by_essential_df * Cost_per_item_by_essential_df.values\n",
        "print('Total cost by essential_df', Total_cost_by_essential_df )"
      ],
      "execution_count": null,
      "outputs": [
        {
          "output_type": "stream",
          "text": [
            "Total cost by essential_df                N95 Surgical  non ASTM Mask\n",
            "Essential          1632.144         1102.8\n",
            "Non-essential         0.000         5384.7\n"
          ],
          "name": "stdout"
        }
      ]
    },
    {
      "cell_type": "markdown",
      "metadata": {
        "id": "6dNjaRk-p87e",
        "colab_type": "text"
      },
      "source": [
        "# Finally use the Stockpile in days per essential to get the Stockpile by essential population\n",
        "\n",
        "This is another element wise multiply\n",
        "\n",
        "S[e, n] = RE[e, n] * DE[1, n].values"
      ]
    },
    {
      "cell_type": "code",
      "metadata": {
        "id": "v0BcGolJqS83",
        "colab_type": "code",
        "colab": {
          "base_uri": "https://localhost:8080/",
          "height": 119
        },
        "outputId": "65da56ce-a1ae-413d-cadc-8bb847c9f110"
      },
      "source": [
        "# how much stockpile per item is needed for each level\n",
        "Day_stockpile_by_essential_matrix = [ [30], \n",
        "                                     [0]]\n",
        "Day_stockpile_by_essential_df = pd.DataFrame(Day_stockpile_by_essential_matrix,\n",
        "                                             index= Essential_name)\n",
        "\n",
        "print('Day_stockpile_by essential', Day_stockpile_by_essential_df,)\n",
        "\n",
        "# use .to_numpy as clearer than .values but this does not work\n",
        "Stockpile_by_essential_df = Required_by_essential_df * Day_stockpile_by_essential_df.values\n",
        "\n",
        "print('Stockpile by essential', Stockpile_by_essential_df)"
      ],
      "execution_count": null,
      "outputs": [
        {
          "output_type": "stream",
          "text": [
            "Day_stockpile_by essential                 0\n",
            "Essential      30\n",
            "Non-essential   0\n",
            "Stockpile by essential                N95 Surgical  non ASTM Mask\n",
            "Essential          16321.44        66168.0\n",
            "Non-essential          0.00            0.0\n"
          ],
          "name": "stdout"
        }
      ]
    },
    {
      "cell_type": "markdown",
      "metadata": {
        "id": "U6tdby_AHdre",
        "colab_type": "text"
      },
      "source": [
        "# Estimating the Behavior over time BM[p, t] by population\n",
        "So this is a flatten matrix for each population, what happens over time. So for instance 1.0 means the same activity level as pre-COVID-19. You can have more than 1.0 if there is a frenzy of activity as an example."
      ]
    },
    {
      "cell_type": "code",
      "metadata": {
        "id": "1QuIZ5y6yesE",
        "colab_type": "code",
        "colab": {
          "base_uri": "https://localhost:8080/",
          "height": 85
        },
        "outputId": "baf460a8-aeef-438c-d466-d22cca760830"
      },
      "source": [
        "# An example of a hard coded matrix without parameters\n",
        "Behavioral_time_by_population_matrix = [ [ 0.5, 1, 1],\n",
        "                                         [ 0, 0, 1]]\n",
        "Period_name = [ 'Week 1', 'Week 2', 'Week 3']\n",
        "Behavioral_time_by_population_df = pd.DataFrame(Behavioral_time_by_population_matrix,\n",
        "                                                index=Population_name,\n",
        "                                                columns=Period_name)\n",
        "print('Behavioral Time Parms')\n",
        "print(Behavioral_time_by_population_df)\n",
        "\n"
      ],
      "execution_count": null,
      "outputs": [
        {
          "output_type": "stream",
          "text": [
            "Behavioral Time Parms\n",
            "                                       Week 1  Week 2  Week 3\n",
            "Healthcare employees                      0.5       1       1\n",
            "Non employees of healthcare companies     0.0       0       1\n"
          ],
          "name": "stdout"
        }
      ]
    },
    {
      "cell_type": "markdown",
      "metadata": {
        "id": "dQPcQVkTVGDd",
        "colab_type": "text"
      },
      "source": [
        "# A matrix approach to stockpile\n",
        "Instead of separate calculations for each we create a details for the Resource is a vector Rd[unit, stockpile-30, stockpile-60, stockpile-90] In this way with a single multiple of Rd[p, d]\n",
        "\n",
        "So to calculate the \n"
      ]
    },
    {
      "cell_type": "markdown",
      "metadata": {
        "id": "jhJXjmqHzBkk",
        "colab_type": "text"
      },
      "source": [
        "# Creating a time series for Resources needed R[p, n] from BM[p, t] to Rtime[p, n, t]\n",
        "\n",
        "You can take any matrix and make it time oriented. So let's take the essential Stockpile and vary it by time.\n",
        "\n",
        "What is easiest to do with the time series feature of is to flatten all the matrices. And then it seems you just need to add a timestamp.\n",
        "\n",
        "The other apporach is to use the so called multiindex which let's you do multi dimensionals in a 2-D way.\n",
        "\n",
        "The use of iterables makes it easy to mix the labels in [multiindexing](https://pandas.pydata.org/pandas-docs/stable/user_guide/advanced.html) but this is really a display thing. You cannot easily take a multidimensional cube and do a multiply. so the plan is to convert the multi-index to a numpy tensor do the math and then put it back.\n",
        "\n",
        "But the easier way is to do this as a pure matrix with numpy thanks to [Stackoverflow](https://stackoverflow.com/questions/40644851/numpy-broadcast-multiplication-over-one-common-axis-of-two-2d-arrays) the key is something called einsum which does give you a simple way to transform\n",
        "\n",
        "    np.einsum('ij, jk -> ijk', A, B)\n",
        "    # this basically extends the A[i,j] into the k dimension which is what we want where i=p, j=n, k=t\n",
        "    # these need to be in alphabetical order \n",
        "    np.einsum('ij,ik -> ijk ', R, BM)\n",
        "\n",
        "The second problem is how to make a multi-dimensional matrix (a tensor) displayable with Pandas, the answer seems to be a [multiIndex](https://stackoverflow.com/questions/43921419/transforming-multiindex-to-row-wise-multi-dimensional-numpy-array) which you create by cleaver reshaping, that is a multi-dimensional is basically a tensor unwrapped to a single vector, so you need to reshape it for a 2-D, it looks like\n",
        "\n",
        "    m,n = len(df.index.levels[0]), len(df.index.levels[1])\n",
        "    arr = df.values.reshape(m,n,-1).swapaxes(1,2)\n",
        "\n",
        "You can see how this becomes completely general as pseudocode where you get the lenght of each index and then reshape it\n",
        "\n",
        "    dimensions = len(df.index.levels)\n",
        "    tensor = df.values.reshape(dimensions,-1).swapaxes(reverse(dimensions))\n",
        "\n",
        "Or even more elegant [stackoverflow](https://stackoverflow.com/questions/35047882/transform-pandas-dataframe-with-n-level-hierarchical-index-into-n-d-numpy-array) points out that if you just create the right shaped numpy array, you can pour it in with flatten and this is real code, note the cool use of the map function\n",
        "\n",
        "    # create an empty array of NaN of the right dimensions\n",
        "    shape = map(len, df.index.levels)\n",
        "    array = np.full(shape, np.nan)\n",
        "    # fill it using Numpy's advanced indexing\n",
        "    array[df.index.labels] = df.values.flat\n",
        "\n",
        "The conversion from numpy array (tensor) to Pandas MultiIndex [stackoverflow](https://stackoverflow.com/questions/43427189/3-dimensional-numpy-array-to-multiindex-pandas-dataframe/48755377) uses the Panel\n",
        "\n",
        "    df = pd.Panel(arr).to_frame()\n",
        "\n",
        "But this is [deprecated](https://pandas.pydata.org/pandas-docs/version/0.23.4/generated/pandas.Panel.html) since a panel only works for 3 dimensionals, but we can use this just to do the conversion easily.\n",
        "\n",
        "The basic strategy seems to be to flatten the numpy array and then create the index as the unrolled names. \n",
        "\n",
        "    df = pd.Series(arr, index=unrolled names)\n",
        "\n",
        "[Stackoverflow](https://riptutorial.com/pandas/example/6439/create-a-sample-dataframe-with-multiindex) explains that multiindex is really just a different index and you just stick it onto a vectors, so the idea is to take the first N-1 dimensions and make them a multi-index and then the last index (the column) can still sit there.\n",
        "\n",
        "    # you can create the index just by giving the labels in two sets\n",
        "    idx = pd.MultiIndex.from_product([['bar', 'baz', 'foo'],['one','two']])\n",
        "    # Then you can have columns which are the data itself\n",
        "    df = pd.DataFrame(np.random.randn(8, 2), index=idx, columns=['A', 'B'])\n",
        "\n",
        "The final piece of the puzzle is using [Pandas Time Series](https://jakevdp.github.io/PythonDataScienceHandbook/03.11-working-with-time-series.html) so you can utter things like this to create an index on time\n",
        "\n",
        "    index = pd.DatetimeIndex(['2014-07-04', '2014-08-04',\n",
        "                          '2015-07-04', '2015-08-04'])\n",
        "    data = pd.Series([0, 1, 2, 3], index=index)\n",
        "\n"
      ]
    },
    {
      "cell_type": "code",
      "metadata": {
        "id": "DThfVZtG4Z7S",
        "colab_type": "code",
        "colab": {
          "base_uri": "https://localhost:8080/",
          "height": 1000
        },
        "outputId": "062ab217-90cb-4d56-8320-f68cc50e7fb0"
      },
      "source": [
        "# https://stackoverflow.com/questions/25440008/python-pandas-flatten-a-dataframe-to-a-list\n",
        "# Not the right approach what we want is a stack of R[p, n]\n",
        "# When R[p, n] * BM[p, 1] => Rt[p, n .* BM[p,1]]\n",
        "R = np.array([[ 0, 100],\n",
        "              [50, 0]])\n",
        "print('Test R', R)\n",
        "BM = np.array ([ [ 0, 1],\n",
        "                 [ 1, 1]])\n",
        "print('Test BM', BM)\n",
        "Rt=np.zeros((2,2,2))\n",
        "Rt1=np.zeros((2,2))\n",
        "print('Rt', Rt)\n",
        "# https://stackoverflow.com/questions/4455076/how-to-access-the-ith-column-of-a-numpy-multidimensional-array\n",
        "# get the column vector for time 0 note that [0] means return a column vector not a row vector\n",
        "BM0=BM[:,[0]]\n",
        "print('BM0', BM0)\n",
        "print('BM0.shape', BM0.shape)\n",
        "\n",
        "# This should broadcast so R is p xn and BM0 is p x 1\n",
        "Rt0 = R * BM0\n",
        "print('Rt[:,:,0]', Rt0)\n",
        "\n",
        "print('Total Resource by population rp x n')\n",
        "print(Total_required_df)\n",
        "print('shape', Total_required_df.shape)\n",
        "\n",
        "print('Behavorial model p x t')\n",
        "print(Behavioral_time_by_population_df)\n",
        "print('shape', Behavioral_time_by_population_df.shape)\n",
        "\n",
        "# Now the magic note the output is in alphabetical order\n",
        "# https://ajcr.net/Basic-guide-to-einsum/\n",
        "# Total_required_df i rows, j columns; Behavorial_time i row, k column\n",
        "ijk=np.einsum('ij, ik -> ijk', Total_required_df, Behavioral_time_by_population_df)\n",
        "print('ijk', ijk.shape, ijk)\n",
        "\n",
        "kji=np.einsum('ij, ik -> kji', Total_required_df, Behavioral_time_by_population_df)\n",
        "print('kji', kji.shape, kji)\n",
        "print('kji[0]', kji[0])\n",
        "\n",
        "kij=np.einsum('ij, ik -> kij', Total_required_df, Behavioral_time_by_population_df)\n",
        "print('kij', kij.shape, kij)\n",
        "print('kij[0]', kij[0])\n",
        "\n",
        "# p = population, n = items, t = time\n",
        "Total_required_by_time_matrix = np.einsum('pn, pt -> tpn', Total_required_df, Behavioral_time_by_population_df)\n",
        "print('Total required over time')\n",
        "print(Total_required_by_time_matrix)\n",
        "\n",
        "# Test conversion to a Pandas MultiIndex\n",
        "# https://pandas.pydata.org/pandas-docs/stable/reference/api/pandas.DataFrame.html\n",
        "# you can create the index just by giving the labels in two sets\n",
        "idx = pd.MultiIndex.from_product([['bar', 'baz', 'foo', 'fob'],['one','two']])\n",
        "print('idx', idx)\n",
        "# Then you can have columns which are the data itself\n",
        "df = pd.DataFrame(np.random.randn(8, 2), index=idx, columns=['A', 'B'])\n",
        "print('df', df)\n",
        "\n",
        "# first create dates\n",
        "# https://pandas.pydata.org/pandas-docs/stable/reference/api/pandas.date_range.html\n",
        "Time_name = pd.date_range(start='6/10/2020', periods=3, freq='W')\n",
        "print('Time', Time_name)\n",
        "print('Population names', type(Population_name), Population_name)\n",
        "Total_required_by_time_index = pd.MultiIndex.from_product([Time_name, Population_name]) \n",
        "print('Indices', Total_required_by_time_index)\n",
        "\n",
        "# flatten out all but the last index\n",
        "last_dim = Total_required_by_time_matrix.shape[-1]\n",
        "print('size of the last dimension', last_dim)\n",
        "print('size of the time total', Total_required_by_time_matrix.size)\n",
        "# Reshape the matrix to be 2D, not you need to force the division to be an\n",
        "# integer\n",
        "Total_required_by_time_2d = Total_required_by_time_matrix.reshape(\n",
        "    (int(Total_required_by_time_matrix.size/last_dim),\n",
        "    last_dim))\n",
        "\n",
        "# Note you cannot pass 3D matrices, so flatten it into 2D\n",
        "Total_required_by_time_df = pd.DataFrame(Total_required_by_time_2d,\n",
        "                                         index=Total_required_by_time_index,\n",
        "                                         columns=Item_name)\n",
        "\n",
        "print('Totel', Total_required_by_time_df)"
      ],
      "execution_count": null,
      "outputs": [
        {
          "output_type": "stream",
          "text": [
            "Test R [[  0 100]\n",
            " [ 50   0]]\n",
            "Test BM [[0 1]\n",
            " [1 1]]\n",
            "Rt [[[0. 0.]\n",
            "  [0. 0.]]\n",
            "\n",
            " [[0. 0.]\n",
            "  [0. 0.]]]\n",
            "BM0 [[0]\n",
            " [1]]\n",
            "BM0.shape (2, 1)\n",
            "Rt[:,:,0] [[ 0  0]\n",
            " [50  0]]\n",
            "Total Resource by population rp x n\n",
            "                                       N95 Surgical  non ASTM Mask\n",
            "Healthcare employees                        544.048         2205.6\n",
            "Non employees of healthcare companies         0.000         7179.6\n",
            "shape (2, 2)\n",
            "Behavorial model p x t\n",
            "                                       Week 1  Week 2  Week 3\n",
            "Healthcare employees                      0.5       1       1\n",
            "Non employees of healthcare companies     0.0       0       1\n",
            "shape (2, 3)\n",
            "ijk (2, 2, 3) [[[ 272.024  544.048  544.048]\n",
            "  [1102.8   2205.6   2205.6  ]]\n",
            "\n",
            " [[   0.       0.       0.   ]\n",
            "  [   0.       0.    7179.6  ]]]\n",
            "kji (3, 2, 2) [[[ 272.024    0.   ]\n",
            "  [1102.8      0.   ]]\n",
            "\n",
            " [[ 544.048    0.   ]\n",
            "  [2205.6      0.   ]]\n",
            "\n",
            " [[ 544.048    0.   ]\n",
            "  [2205.6   7179.6  ]]]\n",
            "kji[0] [[ 272.024    0.   ]\n",
            " [1102.8      0.   ]]\n",
            "kij (3, 2, 2) [[[ 272.024 1102.8  ]\n",
            "  [   0.       0.   ]]\n",
            "\n",
            " [[ 544.048 2205.6  ]\n",
            "  [   0.       0.   ]]\n",
            "\n",
            " [[ 544.048 2205.6  ]\n",
            "  [   0.    7179.6  ]]]\n",
            "kij[0] [[ 272.024 1102.8  ]\n",
            " [   0.       0.   ]]\n",
            "Total required over time\n",
            "[[[ 272.024 1102.8  ]\n",
            "  [   0.       0.   ]]\n",
            "\n",
            " [[ 544.048 2205.6  ]\n",
            "  [   0.       0.   ]]\n",
            "\n",
            " [[ 544.048 2205.6  ]\n",
            "  [   0.    7179.6  ]]]\n",
            "idx MultiIndex([('bar', 'one'),\n",
            "            ('bar', 'two'),\n",
            "            ('baz', 'one'),\n",
            "            ('baz', 'two'),\n",
            "            ('foo', 'one'),\n",
            "            ('foo', 'two'),\n",
            "            ('fob', 'one'),\n",
            "            ('fob', 'two')],\n",
            "           )\n",
            "df                 A         B\n",
            "bar one -1.258613 -0.721850\n",
            "    two -0.136535 -0.383677\n",
            "baz one  1.092880  1.081910\n",
            "    two -0.728594  0.702085\n",
            "foo one  0.167451 -0.548577\n",
            "    two  0.378124  0.256740\n",
            "fob one  0.973577 -1.319174\n",
            "    two  0.707652 -0.403249\n",
            "Time DatetimeIndex(['2020-06-14', '2020-06-21', '2020-06-28'], dtype='datetime64[ns]', freq='W-SUN')\n",
            "Population names <class 'list'> ['Healthcare employees', 'Non employees of healthcare companies']\n",
            "Indices MultiIndex([('2020-06-14',                  'Healthcare employees'),\n",
            "            ('2020-06-14', 'Non employees of healthcare companies'),\n",
            "            ('2020-06-21',                  'Healthcare employees'),\n",
            "            ('2020-06-21', 'Non employees of healthcare companies'),\n",
            "            ('2020-06-28',                  'Healthcare employees'),\n",
            "            ('2020-06-28', 'Non employees of healthcare companies')],\n",
            "           )\n",
            "size of the last dimension 2\n",
            "size of the time total 12\n",
            "Totel                                                   N95 Surgical  non ASTM Mask\n",
            "2020-06-14 Healthcare employees                        272.024         1102.8\n",
            "           Non employees of healthcare companies         0.000            0.0\n",
            "2020-06-21 Healthcare employees                        544.048         2205.6\n",
            "           Non employees of healthcare companies         0.000            0.0\n",
            "2020-06-28 Healthcare employees                        544.048         2205.6\n",
            "           Non employees of healthcare companies         0.000         7179.6\n"
          ],
          "name": "stdout"
        }
      ]
    },
    {
      "cell_type": "markdown",
      "metadata": {
        "id": "Tmzf8K60yA7a",
        "colab_type": "text"
      },
      "source": [
        "# Behavioral modeling BM[p, t] from parameters BMp[p, 2]\n",
        "This long term will be a Python function from a PIP library which will also get instantiated as a REST API so it can be called. (see the section on implementation\n",
        "\n",
        "But this implements the time series of restart across a set of populations. The interface is the Dataframe BM[p, t] which is a factor for how much activitiy there is the Population matrix. So this model says the first population, the non-healthcare workers start 40% in week 2 and then get to 60% by week 3.\n",
        "\n",
        "The healthcare workers start and this is manually encoded.\n",
        "\n",
        "For simplicity, you can use a generator function as well to create this so you don't have to create a gigantic table by hand"
      ]
    },
    {
      "cell_type": "markdown",
      "metadata": {
        "id": "C7NW8qt4SN6U",
        "colab_type": "text"
      },
      "source": [
        "## Using parameters to create the activity matrix\n",
        "This is harder than it looks, but the idea is to use some simple functions and generate a matrix. The main problem here is that you want to do it quickly, so ideally, you would use vector match to create all the matrices automatically as a template\n",
        "\n",
        "The first attempt with numpy.fromfunction sort of works, but you cannot parameterize them very well, so the solution is to use vectorize as a way to get it across an entrie array.\n",
        "\n",
        "But since this varries by row, instead, we use from function for each row and then can concatenate them together"
      ]
    },
    {
      "cell_type": "code",
      "metadata": {
        "id": "ye7uD8BvSWUE",
        "colab_type": "code",
        "colab": {
          "base_uri": "https://localhost:8080/",
          "height": 1000
        },
        "outputId": "8b9c5747-05e3-4e72-e5bf-5b3d2c509e33"
      },
      "source": [
        "# How to create an model automagically with just paramaters\n",
        "# Remember Python doesn't have arrays, it uses lists for that\n",
        "# https://www.programiz.com/python-programming/matrix\n",
        "# And index syntax is completely different from numpy\n",
        "Behavioral_by_population_parameter_matrix = [ ['logistic', 1, 0.7],\n",
        "                                              ['logistic', 0, 1 ] ]\n",
        "Logistic_parameter_name = [ 'function', 'loc', 'scale']\n",
        "\n",
        "Behavioral_by_population_parameter_df = pd.DataFrame(Behavioral_by_population_parameter_matrix,\n",
        "                                                     index=Population_name,\n",
        "                                                     columns=Logistic_parameter_name)\n",
        "\n",
        "print(Behavioral_by_population_parameter_df)\n",
        "print('scipy stats')\n",
        "from scipy.stats import logistic \n",
        "for t in range(1,3):\n",
        "  print(t, logistic.cdf(t, loc=1.4, scale=2.0))\n",
        "\n",
        "# https://numpy.org/doc/stable/reference/generated/numpy.fromfunction.html\n",
        "# Can use a function to create a long list\n",
        "print(type(Behavioral_by_population_parameter_matrix))\n",
        "print(Behavioral_by_population_parameter_matrix)\n",
        "\n",
        "# remember Python matrices index from 0\n",
        "print(Behavioral_by_population_parameter_matrix[0][1],\n",
        "      type(Behavioral_by_population_parameter_matrix[0][2]))\n",
        "\n",
        "# https://stackoverflow.com/questions/9452775/converting-numpy-dtypes-to-native-python-types\n",
        "# need to turn them into real numbers\n",
        "value=Behavioral_by_population_parameter_matrix\n",
        "\n",
        "# Note that From function is not called once per cell, it is called exactly once and not once per cell\n",
        "# You need to use np.vectorize to push the function across all cell elements\n",
        "# https://stackoverflow.com/questions/18702105/parameters-to-numpys-fromfunction\n",
        "\n",
        "# https://stackoverflow.com/questions/50997928/typeerror-only-integer-scalar-arrays-can-be-converted-to-a-scalar-index-with-1d/50997969\n",
        "print(np.fromfunction(lambda p, t : logistic.cdf(t, \n",
        "                                           loc=1.2,\n",
        "                                           scale=2.3\n",
        "                                           ), (2, 3)))\n",
        "\n",
        "# This works, so you can do a lookup from a global variable inside a lambda\n",
        "print(np.fromfunction(lambda p, t : logistic.cdf(t, \n",
        "                                           loc=Behavioral_by_population_parameter_matrix[0][1],\n",
        "                                           scale=Behavioral_by_population_parameter_matrix[0][2]\n",
        "                                           ), (2, 3)))\n",
        "\n",
        "\n",
        "# now try using p and this works fine\n",
        "print(np.fromfunction(lambda p, t : logistic.cdf(t, \n",
        "                                           loc=p,\n",
        "                                           scale=p+1\n",
        "                                           ), (2, 3)))\n",
        "\n",
        "# This does not work, the error is only integer scalar arrays can be converted to a scalar index \n",
        "print('getting just p+t')\n",
        "# This works because you are actually doing array match, p is (2,3) and t is (2, 3)\n",
        "print(np.fromfunction(lambda p, t : p+t, (2, 3)))\n",
        "print('value of p and t')\n",
        "print(np.fromfunction(lambda p, t : p, (2, 3)))\n",
        "print(np.fromfunction(lambda p, t : t, (2, 3)))\n",
        "\n",
        "# https://stackoverflow.com/questions/18702105/parameters-to-numpys-fromfunction\n",
        "# Explains what is going on \n",
        "\n",
        "print('type of p and t')\n",
        "# Unintuitive, what you get is not a scalar in p, but a numpy array when in the above you\n",
        "# just get a scalar, why is this?\n",
        "# The function actually gets an input that is the shape noted so it is (2,3)\n",
        "# https://numpy.org/doc/stable/reference/generated/numpy.fromfunction.html\n",
        "print(np.fromfunction(lambda p, t : type(p), (2, 3)))\n",
        "print(np.fromfunction(lambda p, t : type(t), (2, 3)))\n",
        "\n",
        "# This demonstrates that what you get is every possible point\n",
        "# so p will be all the row numbers which are the same across all the columns\n",
        "# and t will be the column indices which are the same across all columns\n",
        "# which is not what stackoverflow said\n",
        "# So to use this, you need a function which does array math properly\n",
        "def show(p, t):\n",
        "  print('show')\n",
        "  print('called value of p')\n",
        "  print(type(p), p.shape, p)\n",
        "\n",
        "  print('called value of t')\n",
        "  print(type(t), t.shape, t)\n",
        "\n",
        "print(np.fromfunction(show, (3, 3)))\n",
        "\n",
        "print('shapes of p and t')\n",
        "print(np.fromfunction(lambda p, t : p.shape, (2, 3)))\n",
        "print(np.fromfunction(lambda p, t : t.shape, (2, 3)))\n",
        "\n",
        "# This works because logistics handles arrays, so takes all of t and applies it\n",
        "# The problem is that loc and scale need scalars, so you can index it with p, which is a matrix\n",
        "print(np.fromfunction(lambda p, t : logistic.cdf(t, \n",
        "                                           loc=Behavioral_by_population_parameter_matrix[0][1],\n",
        "                                           scale=Behavioral_by_population_parameter_matrix[0][2]\n",
        "                                           ), (2, 3)))\n",
        "\n",
        "# This will not work because you are getting p as an array and t as an array and it expects\n",
        "# a array function\n",
        "# print(np.fromfunction(lambda p, t : logistic.cdf(t, \n",
        "#                                           loc=Behavioral_by_population_parameter_matrix[p][1],\n",
        "#                                           scale=Behavioral_by_population_parameter_matrix[0][2]\n",
        "#                                           ), (2, 3)))\n",
        "\n",
        "# The right approach is to just use the working code above but apply it to each row and then glom the whole thing together\n",
        "# https://www.pluralsight.com/guides/numpy-arrays-iterating\n",
        "# This works because numpy treats a matrix actually as a collection of lists so very elegant\n",
        "print(Behavioral_by_population_parameter_df)\n",
        "print(Behavioral_by_population_parameter_matrix)\n",
        "\n",
        "# Iterating over a 2-D dataframe which is much more complicated than a matrix\n",
        "# https://stackoverflow.com/questions/16476924/how-to-iterate-over-rows-in-a-dataframe-in-pandas\n",
        "# https://www.geeksforgeeks.org/different-ways-to-iterate-over-rows-in-pandas-dataframe/\n",
        "# note that in Dataframes, the rows are actually behind, so it is column major\n",
        "print('iterate over rows in dataframe')\n",
        "for population in Behavioral_by_population_df.index:\n",
        "  print('population', type(population), population)\n",
        "  print(Behavioral_by_population_df['Week 1'][population])\n",
        "\n",
        "print('iterate using iterrows')\n",
        "for index, population in Behavioral_by_population_df.iterrows():\n",
        "  print(index, type(population), population['Week 1'])\n",
        "\n",
        "print('iterate of rows in numpy matrix')\n",
        "for population in Behavioral_by_population_matrix:\n",
        "  # you will get each item overall\n",
        "  print(population)\n",
        "\n",
        "# Another approach is apply_along_axis which is really cool\n",
        "# https://stackoverflow.com/questions/16468717/iterating-over-numpy-matrix-rows-to-apply-a-function-each\n",
        "# \n",
        "\n",
        "# https://stackoverflow.com/questions/40644851/numpy-broadcast-multiplication-over-one-common-axis-of-two-2d-arrays\n",
        "# https://het.as.utexas.edu/HET/Software/Numpy/reference/generated/numpy.outer.html\n",
        "# https://stackoverflow.com/questions/26089893/understanding-numpys-einsum\n",
        "# A completely different approach\n"
      ],
      "execution_count": null,
      "outputs": [
        {
          "output_type": "stream",
          "text": [
            "                                       function  loc  scale\n",
            "Healthcare employees                   logistic    1    0.7\n",
            "Non employees of healthcare companies  logistic    0    1.0\n",
            "scipy stats\n",
            "1 0.45016600268752216\n",
            "2 0.574442516811659\n",
            "<class 'list'>\n",
            "[['logistic', 1, 0.7], ['logistic', 0, 1]]\n",
            "1 <class 'float'>\n",
            "[[0.37244566 0.47827456 0.58609031]\n",
            " [0.37244566 0.47827456 0.58609031]]\n",
            "[[0.19332137 0.5        0.80667863]\n",
            " [0.19332137 0.5        0.80667863]]\n",
            "[[0.5        0.73105858 0.88079708]\n",
            " [0.37754067 0.5        0.62245933]]\n",
            "getting just p+t\n",
            "[[0. 1. 2.]\n",
            " [1. 2. 3.]]\n",
            "value of p and t\n",
            "[[0. 0. 0.]\n",
            " [1. 1. 1.]]\n",
            "[[0. 1. 2.]\n",
            " [0. 1. 2.]]\n",
            "type of p and t\n",
            "<class 'numpy.ndarray'>\n",
            "<class 'numpy.ndarray'>\n",
            "show\n",
            "called value of p\n",
            "<class 'numpy.ndarray'> (3, 3) [[0. 0. 0.]\n",
            " [1. 1. 1.]\n",
            " [2. 2. 2.]]\n",
            "called value of t\n",
            "<class 'numpy.ndarray'> (3, 3) [[0. 1. 2.]\n",
            " [0. 1. 2.]\n",
            " [0. 1. 2.]]\n",
            "None\n",
            "shapes of p and t\n",
            "(2, 3)\n",
            "(2, 3)\n",
            "[[0.19332137 0.5        0.80667863]\n",
            " [0.19332137 0.5        0.80667863]]\n",
            "                                       function  loc  scale\n",
            "Healthcare employees                   logistic    1    0.7\n",
            "Non employees of healthcare companies  logistic    0    1.0\n",
            "[['logistic', 1, 0.7], ['logistic', 0, 1]]\n",
            "iterate over rows in dataframe\n"
          ],
          "name": "stdout"
        },
        {
          "output_type": "error",
          "ename": "NameError",
          "evalue": "ignored",
          "traceback": [
            "\u001b[0;31m---------------------------------------------------------------------------\u001b[0m",
            "\u001b[0;31mNameError\u001b[0m                                 Traceback (most recent call last)",
            "\u001b[0;32m<ipython-input-19-10bf95c33635>\u001b[0m in \u001b[0;36m<module>\u001b[0;34m()\u001b[0m\n\u001b[1;32m    116\u001b[0m \u001b[0;31m# note that in Dataframes, the rows are actually behind, so it is column major\u001b[0m\u001b[0;34m\u001b[0m\u001b[0;34m\u001b[0m\u001b[0;34m\u001b[0m\u001b[0m\n\u001b[1;32m    117\u001b[0m \u001b[0mprint\u001b[0m\u001b[0;34m(\u001b[0m\u001b[0;34m'iterate over rows in dataframe'\u001b[0m\u001b[0;34m)\u001b[0m\u001b[0;34m\u001b[0m\u001b[0;34m\u001b[0m\u001b[0m\n\u001b[0;32m--> 118\u001b[0;31m \u001b[0;32mfor\u001b[0m \u001b[0mpopulation\u001b[0m \u001b[0;32min\u001b[0m \u001b[0mBehavioral_by_population_df\u001b[0m\u001b[0;34m.\u001b[0m\u001b[0mindex\u001b[0m\u001b[0;34m:\u001b[0m\u001b[0;34m\u001b[0m\u001b[0;34m\u001b[0m\u001b[0m\n\u001b[0m\u001b[1;32m    119\u001b[0m   \u001b[0mprint\u001b[0m\u001b[0;34m(\u001b[0m\u001b[0;34m'population'\u001b[0m\u001b[0;34m,\u001b[0m \u001b[0mtype\u001b[0m\u001b[0;34m(\u001b[0m\u001b[0mpopulation\u001b[0m\u001b[0;34m)\u001b[0m\u001b[0;34m,\u001b[0m \u001b[0mpopulation\u001b[0m\u001b[0;34m)\u001b[0m\u001b[0;34m\u001b[0m\u001b[0;34m\u001b[0m\u001b[0m\n\u001b[1;32m    120\u001b[0m   \u001b[0mprint\u001b[0m\u001b[0;34m(\u001b[0m\u001b[0mBehavioral_by_population_df\u001b[0m\u001b[0;34m[\u001b[0m\u001b[0;34m'Week 1'\u001b[0m\u001b[0;34m]\u001b[0m\u001b[0;34m[\u001b[0m\u001b[0mpopulation\u001b[0m\u001b[0;34m]\u001b[0m\u001b[0;34m)\u001b[0m\u001b[0;34m\u001b[0m\u001b[0;34m\u001b[0m\u001b[0m\n",
            "\u001b[0;31mNameError\u001b[0m: name 'Behavioral_by_population_df' is not defined"
          ]
        }
      ]
    },
    {
      "cell_type": "markdown",
      "metadata": {
        "id": "XhXkKFfuW1Gy",
        "colab_type": "text"
      },
      "source": [
        ""
      ]
    },
    {
      "cell_type": "markdown",
      "metadata": {
        "id": "jggktC4lTNrs",
        "colab_type": "text"
      },
      "source": [
        "# Attachment: Test Code\n",
        "\n",
        "Used to test various features of the notebook"
      ]
    },
    {
      "cell_type": "markdown",
      "metadata": {
        "id": "H1uq0RMITXy3",
        "colab_type": "text"
      },
      "source": [
        "## Test of cloning an external Repo\n",
        "\n",
        "NOte that this does a complete clone in the virtual machine, make sure you have enough space. Also you need to reclone when you close a Notebook instance, so this can be slow with lots of data.\n",
        "\n",
        "However, it does allow you checkout particular branches and have a realiable dataset."
      ]
    },
    {
      "cell_type": "code",
      "metadata": {
        "id": "kD9qp04tU9-L",
        "colab_type": "code",
        "colab": {}
      },
      "source": [
        "# Clone the entire repo.\n",
        "!git clone -l -s git://github.com/jakevdp/PythonDataScienceHandbook.git cloned-repo\n",
        "%cd cloned-repo\n",
        "!ls"
      ],
      "execution_count": null,
      "outputs": []
    },
    {
      "cell_type": "markdown",
      "metadata": {
        "id": "MDnksm1MTmV7",
        "colab_type": "text"
      },
      "source": [
        "## Test of copying a single file from a repo\n",
        "\n",
        "This one way to get small datasets, you just point to the raw file and use `!curl` to bring it into the machine."
      ]
    },
    {
      "cell_type": "code",
      "metadata": {
        "id": "Q7eqOYtkU99S",
        "colab_type": "code",
        "colab": {}
      },
      "source": [
        "# Fetch a single <1MB file using the raw GitHub URL.\n",
        "!curl --remote-name \\\n",
        "     -H 'Accept: application/vnd.github.v3.raw' \\\n",
        "     --location https://api.github.com/repos/jakevdp/PythonDataScienceHandbook/contents/notebooks/data/california_cities.csv"
      ],
      "execution_count": null,
      "outputs": []
    },
    {
      "cell_type": "markdown",
      "metadata": {
        "id": "38KeztwBajb8",
        "colab_type": "text"
      },
      "source": [
        "## Test of connecting to Google Drive\n",
        "\n",
        "This we can use if we don't need a repo, but are just loading a static file. We normally want everything from a repo or reliable storage, but this is good for quick analysis. In most cases, you should just check this into a repo and then use the github raw extract instead so you get version control.\n",
        "\n",
        "Note that this does require an authentication everytime you start the Notebook, so the raw extract works better particularly if there it is a public repo."
      ]
    },
    {
      "cell_type": "code",
      "metadata": {
        "id": "pKyKRJeoHtJ_",
        "colab_type": "code",
        "colab": {
          "base_uri": "https://localhost:8080/",
          "height": 34
        },
        "outputId": "161cf9d1-0eda-4bc5-c4ee-9e60bf6a0a36"
      },
      "source": [
        "from google.colab import drive\n",
        "drive.mount('/gdrive')"
      ],
      "execution_count": null,
      "outputs": [
        {
          "output_type": "stream",
          "text": [
            "Drive already mounted at /gdrive; to attempt to forcibly remount, call drive.mount(\"/gdrive\", force_remount=True).\n"
          ],
          "name": "stdout"
        }
      ]
    },
    {
      "cell_type": "code",
      "metadata": {
        "id": "S2ldUhSATDRY",
        "colab_type": "code",
        "colab": {
          "base_uri": "https://localhost:8080/",
          "height": 34
        },
        "outputId": "636d4080-ca9f-4c69-e8bf-1da9c9b5baba"
      },
      "source": [
        "with open('/gdrive/My Drive/foo.txt', 'w') as f:\n",
        "  f.write('Hello Google Drive!')\n",
        "!cat '/gdrive/My Drive/foo.txt'"
      ],
      "execution_count": null,
      "outputs": [
        {
          "output_type": "stream",
          "text": [
            "Hello Google Drive!"
          ],
          "name": "stdout"
        }
      ]
    },
    {
      "cell_type": "markdown",
      "metadata": {
        "id": "gXxIvzREazRq",
        "colab_type": "text"
      },
      "source": [
        "## Connecting two cells together for summaries with Cross-output Communications\n",
        "\n",
        "This is the best method for connecting the longer analysis to a cell that just has the executive summary data. _This does not appear to be working. Need to debug_"
      ]
    },
    {
      "cell_type": "code",
      "metadata": {
        "id": "ndtWkGTjlL70",
        "colab_type": "code",
        "colab": {
          "base_uri": "https://localhost:8080/",
          "height": 17
        },
        "outputId": "97cb1602-94b0-4b95-eaa7-f1cb709686d2"
      },
      "source": [
        "%%javascript\n",
        "const listenerChannel = new BroadcastChannel('channel');\n",
        "listenerChannel.onmessage = (msg) => {\n",
        "  const div = document.createElement('div');\n",
        "  div.textContent = msg.data;\n",
        "  document.body.appendChild(div);\n",
        "};"
      ],
      "execution_count": null,
      "outputs": [
        {
          "output_type": "display_data",
          "data": {
            "application/javascript": [
              "const listenerChannel = new BroadcastChannel('channel');\n",
              "listenerChannel.onmessage = (msg) => {\n",
              "  const div = document.createElement('div');\n",
              "  div.textContent = msg.data;\n",
              "  document.body.appendChild(div);\n",
              "};"
            ],
            "text/plain": [
              "<IPython.core.display.Javascript object>"
            ]
          },
          "metadata": {
            "tags": []
          }
        }
      ]
    },
    {
      "cell_type": "code",
      "metadata": {
        "id": "kmwMtzEslL7J",
        "colab_type": "code",
        "colab": {
          "base_uri": "https://localhost:8080/",
          "height": 17
        },
        "outputId": "a52b20de-e709-41d3-db8b-ef899208045e"
      },
      "source": [
        "%%javascript\n",
        "const senderChannel = new BroadcastChannel('channel');\n",
        "senderChannel.postMessage('Hello world!');"
      ],
      "execution_count": null,
      "outputs": [
        {
          "output_type": "display_data",
          "data": {
            "application/javascript": [
              "const senderChannel = new BroadcastChannel('channel');\n",
              "senderChannel.postMessage('Hello world!');"
            ],
            "text/plain": [
              "<IPython.core.display.Javascript object>"
            ]
          },
          "metadata": {
            "tags": []
          }
        }
      ]
    },
    {
      "cell_type": "markdown",
      "metadata": {
        "id": "7AulXwNtb5yd",
        "colab_type": "text"
      },
      "source": [
        "## Creating forms for entry\n",
        "\n",
        "This is going to be used to parameterize models. This sets global variables that can be used in cells farther down."
      ]
    },
    {
      "cell_type": "code",
      "metadata": {
        "id": "lXWX8aG7lWvD",
        "colab_type": "code",
        "colab": {}
      },
      "source": [
        "#@title Example form fields\n",
        "#@markdown Forms support many types of fields.\n",
        "\n",
        "no_type_checking = ''  #@param\n",
        "string_type = 'example'  #@param {type: \"string\"}\n",
        "slider_value = 142  #@param {type: \"slider\", min: 100, max: 200}\n",
        "number = 102  #@param {type: \"number\"}\n",
        "date = '2010-11-05'  #@param {type: \"date\"}\n",
        "pick_me = \"monday\"  #@param ['monday', 'tuesday', 'wednesday', 'thursday']\n",
        "select_or_input = \"apples\" #@param [\"apples\", \"bananas\", \"oranges\"] {allow-input: true}\n",
        "#@markdown ---\n"
      ],
      "execution_count": null,
      "outputs": []
    },
    {
      "cell_type": "markdown",
      "metadata": {
        "id": "GDR12BB4pPd1",
        "colab_type": "text"
      },
      "source": [
        "## Display Pandas data dataframes use Vega datasets as an example\n",
        "\n",
        "This uses the extension `google.colab.data_table` and there is a default data set called `vega_datasets` where you can extract data. It is not clear where the data is or how to figure out how ot use it. Google-fu does not help although the [source code](https://github.com/googlecolab/colabtools/blob/master/google/colab/data_table.py) tells us that `vega_dataset` has airport data in it.\n",
        "\n",
        "But the hing is in the name Vega which is a visualization package and [Vega Datasets access from Python](https://github.com/jakevdp/vega_datasets) are a standard set of data for visualization testing. The core datasets are kept in [github.io](https://vega.github.io/vega-datasets/)."
      ]
    },
    {
      "cell_type": "code",
      "metadata": {
        "id": "wW43_ntJpdVh",
        "colab_type": "code",
        "colab": {}
      },
      "source": [
        "%load_ext google.colab.data_table"
      ],
      "execution_count": null,
      "outputs": []
    },
    {
      "cell_type": "code",
      "metadata": {
        "id": "knd4KPzcpdUf",
        "colab_type": "code",
        "colab": {
          "base_uri": "https://localhost:8080/",
          "height": 623
        },
        "outputId": "51470f15-5595-4086-affc-1cbaa0e17de1"
      },
      "source": [
        "from vega_datasets import data\n",
        "data.cars()"
      ],
      "execution_count": null,
      "outputs": [
        {
          "output_type": "execute_result",
          "data": {
            "application/vnd.google.colaboratory.module+javascript": "\n      import \"https://ssl.gstatic.com/colaboratory/data_table/a6224c040fa35dcf/data_table.js\";\n\n      window.createDataTable({\n        data: [[{\n            'v': 0,\n            'f': \"0\",\n        },\n\"chevrolet chevelle malibu\",\n{\n            'v': 18.0,\n            'f': \"18.0\",\n        },\n{\n            'v': 8,\n            'f': \"8\",\n        },\n{\n            'v': 307.0,\n            'f': \"307.0\",\n        },\n{\n            'v': 130.0,\n            'f': \"130.0\",\n        },\n{\n            'v': 3504,\n            'f': \"3504\",\n        },\n{\n            'v': 12.0,\n            'f': \"12.0\",\n        },\n\"1970-01-01 00:00:00\",\n\"USA\"],\n [{\n            'v': 1,\n            'f': \"1\",\n        },\n\"buick skylark 320\",\n{\n            'v': 15.0,\n            'f': \"15.0\",\n        },\n{\n            'v': 8,\n            'f': \"8\",\n        },\n{\n            'v': 350.0,\n            'f': \"350.0\",\n        },\n{\n            'v': 165.0,\n            'f': \"165.0\",\n        },\n{\n            'v': 3693,\n            'f': \"3693\",\n        },\n{\n            'v': 11.5,\n            'f': \"11.5\",\n        },\n\"1970-01-01 00:00:00\",\n\"USA\"],\n [{\n            'v': 2,\n            'f': \"2\",\n        },\n\"plymouth satellite\",\n{\n            'v': 18.0,\n            'f': \"18.0\",\n        },\n{\n            'v': 8,\n            'f': \"8\",\n        },\n{\n            'v': 318.0,\n            'f': \"318.0\",\n        },\n{\n            'v': 150.0,\n            'f': \"150.0\",\n        },\n{\n            'v': 3436,\n            'f': \"3436\",\n        },\n{\n            'v': 11.0,\n            'f': \"11.0\",\n        },\n\"1970-01-01 00:00:00\",\n\"USA\"],\n [{\n            'v': 3,\n            'f': \"3\",\n        },\n\"amc rebel sst\",\n{\n            'v': 16.0,\n            'f': \"16.0\",\n        },\n{\n            'v': 8,\n            'f': \"8\",\n        },\n{\n            'v': 304.0,\n            'f': \"304.0\",\n        },\n{\n            'v': 150.0,\n            'f': \"150.0\",\n        },\n{\n            'v': 3433,\n            'f': \"3433\",\n        },\n{\n            'v': 12.0,\n            'f': \"12.0\",\n        },\n\"1970-01-01 00:00:00\",\n\"USA\"],\n [{\n            'v': 4,\n            'f': \"4\",\n        },\n\"ford torino\",\n{\n            'v': 17.0,\n            'f': \"17.0\",\n        },\n{\n            'v': 8,\n            'f': \"8\",\n        },\n{\n            'v': 302.0,\n            'f': \"302.0\",\n        },\n{\n            'v': 140.0,\n            'f': \"140.0\",\n        },\n{\n            'v': 3449,\n            'f': \"3449\",\n        },\n{\n            'v': 10.5,\n            'f': \"10.5\",\n        },\n\"1970-01-01 00:00:00\",\n\"USA\"],\n [{\n            'v': 5,\n            'f': \"5\",\n        },\n\"ford galaxie 500\",\n{\n            'v': 15.0,\n            'f': \"15.0\",\n        },\n{\n            'v': 8,\n            'f': \"8\",\n        },\n{\n            'v': 429.0,\n            'f': \"429.0\",\n        },\n{\n            'v': 198.0,\n            'f': \"198.0\",\n        },\n{\n            'v': 4341,\n            'f': \"4341\",\n        },\n{\n            'v': 10.0,\n            'f': \"10.0\",\n        },\n\"1970-01-01 00:00:00\",\n\"USA\"],\n [{\n            'v': 6,\n            'f': \"6\",\n        },\n\"chevrolet impala\",\n{\n            'v': 14.0,\n            'f': \"14.0\",\n        },\n{\n            'v': 8,\n            'f': \"8\",\n        },\n{\n            'v': 454.0,\n            'f': \"454.0\",\n        },\n{\n            'v': 220.0,\n            'f': \"220.0\",\n        },\n{\n            'v': 4354,\n            'f': \"4354\",\n        },\n{\n            'v': 9.0,\n            'f': \"9.0\",\n        },\n\"1970-01-01 00:00:00\",\n\"USA\"],\n [{\n            'v': 7,\n            'f': \"7\",\n        },\n\"plymouth fury iii\",\n{\n            'v': 14.0,\n            'f': \"14.0\",\n        },\n{\n            'v': 8,\n            'f': \"8\",\n        },\n{\n            'v': 440.0,\n            'f': \"440.0\",\n        },\n{\n            'v': 215.0,\n            'f': \"215.0\",\n        },\n{\n            'v': 4312,\n            'f': \"4312\",\n        },\n{\n            'v': 8.5,\n            'f': \"8.5\",\n        },\n\"1970-01-01 00:00:00\",\n\"USA\"],\n [{\n            'v': 8,\n            'f': \"8\",\n        },\n\"pontiac catalina\",\n{\n            'v': 14.0,\n            'f': \"14.0\",\n        },\n{\n            'v': 8,\n            'f': \"8\",\n        },\n{\n            'v': 455.0,\n            'f': \"455.0\",\n        },\n{\n            'v': 225.0,\n            'f': \"225.0\",\n        },\n{\n            'v': 4425,\n            'f': \"4425\",\n        },\n{\n            'v': 10.0,\n            'f': \"10.0\",\n        },\n\"1970-01-01 00:00:00\",\n\"USA\"],\n [{\n            'v': 9,\n            'f': \"9\",\n        },\n\"amc ambassador dpl\",\n{\n            'v': 15.0,\n            'f': \"15.0\",\n        },\n{\n            'v': 8,\n            'f': \"8\",\n        },\n{\n            'v': 390.0,\n            'f': \"390.0\",\n        },\n{\n            'v': 190.0,\n            'f': \"190.0\",\n        },\n{\n            'v': 3850,\n            'f': \"3850\",\n        },\n{\n            'v': 8.5,\n            'f': \"8.5\",\n        },\n\"1970-01-01 00:00:00\",\n\"USA\"],\n [{\n            'v': 10,\n            'f': \"10\",\n        },\n\"citroen ds-21 pallas\",\n{\n            'v': NaN,\n            'f': \"NaN\",\n        },\n{\n            'v': 4,\n            'f': \"4\",\n        },\n{\n            'v': 133.0,\n            'f': \"133.0\",\n        },\n{\n            'v': 115.0,\n            'f': \"115.0\",\n        },\n{\n            'v': 3090,\n            'f': \"3090\",\n        },\n{\n            'v': 17.5,\n            'f': \"17.5\",\n        },\n\"1970-01-01 00:00:00\",\n\"Europe\"],\n [{\n            'v': 11,\n            'f': \"11\",\n        },\n\"chevrolet chevelle concours (sw)\",\n{\n            'v': NaN,\n            'f': \"NaN\",\n        },\n{\n            'v': 8,\n            'f': \"8\",\n        },\n{\n            'v': 350.0,\n            'f': \"350.0\",\n        },\n{\n            'v': 165.0,\n            'f': \"165.0\",\n        },\n{\n            'v': 4142,\n            'f': \"4142\",\n        },\n{\n            'v': 11.5,\n            'f': \"11.5\",\n        },\n\"1970-01-01 00:00:00\",\n\"USA\"],\n [{\n            'v': 12,\n            'f': \"12\",\n        },\n\"ford torino (sw)\",\n{\n            'v': NaN,\n            'f': \"NaN\",\n        },\n{\n            'v': 8,\n            'f': \"8\",\n        },\n{\n            'v': 351.0,\n            'f': \"351.0\",\n        },\n{\n            'v': 153.0,\n            'f': \"153.0\",\n        },\n{\n            'v': 4034,\n            'f': \"4034\",\n        },\n{\n            'v': 11.0,\n            'f': \"11.0\",\n        },\n\"1970-01-01 00:00:00\",\n\"USA\"],\n [{\n            'v': 13,\n            'f': \"13\",\n        },\n\"plymouth satellite (sw)\",\n{\n            'v': NaN,\n            'f': \"NaN\",\n        },\n{\n            'v': 8,\n            'f': \"8\",\n        },\n{\n            'v': 383.0,\n            'f': \"383.0\",\n        },\n{\n            'v': 175.0,\n            'f': \"175.0\",\n        },\n{\n            'v': 4166,\n            'f': \"4166\",\n        },\n{\n            'v': 10.5,\n            'f': \"10.5\",\n        },\n\"1970-01-01 00:00:00\",\n\"USA\"],\n [{\n            'v': 14,\n            'f': \"14\",\n        },\n\"amc rebel sst (sw)\",\n{\n            'v': NaN,\n            'f': \"NaN\",\n        },\n{\n            'v': 8,\n            'f': \"8\",\n        },\n{\n            'v': 360.0,\n            'f': \"360.0\",\n        },\n{\n            'v': 175.0,\n            'f': \"175.0\",\n        },\n{\n            'v': 3850,\n            'f': \"3850\",\n        },\n{\n            'v': 11.0,\n            'f': \"11.0\",\n        },\n\"1970-01-01 00:00:00\",\n\"USA\"],\n [{\n            'v': 15,\n            'f': \"15\",\n        },\n\"dodge challenger se\",\n{\n            'v': 15.0,\n            'f': \"15.0\",\n        },\n{\n            'v': 8,\n            'f': \"8\",\n        },\n{\n            'v': 383.0,\n            'f': \"383.0\",\n        },\n{\n            'v': 170.0,\n            'f': \"170.0\",\n        },\n{\n            'v': 3563,\n            'f': \"3563\",\n        },\n{\n            'v': 10.0,\n            'f': \"10.0\",\n        },\n\"1970-01-01 00:00:00\",\n\"USA\"],\n [{\n            'v': 16,\n            'f': \"16\",\n        },\n\"plymouth 'cuda 340\",\n{\n            'v': 14.0,\n            'f': \"14.0\",\n        },\n{\n            'v': 8,\n            'f': \"8\",\n        },\n{\n            'v': 340.0,\n            'f': \"340.0\",\n        },\n{\n            'v': 160.0,\n            'f': \"160.0\",\n        },\n{\n            'v': 3609,\n            'f': \"3609\",\n        },\n{\n            'v': 8.0,\n            'f': \"8.0\",\n        },\n\"1970-01-01 00:00:00\",\n\"USA\"],\n [{\n            'v': 17,\n            'f': \"17\",\n        },\n\"ford mustang boss 302\",\n{\n            'v': NaN,\n            'f': \"NaN\",\n        },\n{\n            'v': 8,\n            'f': \"8\",\n        },\n{\n            'v': 302.0,\n            'f': \"302.0\",\n        },\n{\n            'v': 140.0,\n            'f': \"140.0\",\n        },\n{\n            'v': 3353,\n            'f': \"3353\",\n        },\n{\n            'v': 8.0,\n            'f': \"8.0\",\n        },\n\"1970-01-01 00:00:00\",\n\"USA\"],\n [{\n            'v': 18,\n            'f': \"18\",\n        },\n\"chevrolet monte carlo\",\n{\n            'v': 15.0,\n            'f': \"15.0\",\n        },\n{\n            'v': 8,\n            'f': \"8\",\n        },\n{\n            'v': 400.0,\n            'f': \"400.0\",\n        },\n{\n            'v': 150.0,\n            'f': \"150.0\",\n        },\n{\n            'v': 3761,\n            'f': \"3761\",\n        },\n{\n            'v': 9.5,\n            'f': \"9.5\",\n        },\n\"1970-01-01 00:00:00\",\n\"USA\"],\n [{\n            'v': 19,\n            'f': \"19\",\n        },\n\"buick estate wagon (sw)\",\n{\n            'v': 14.0,\n            'f': \"14.0\",\n        },\n{\n            'v': 8,\n            'f': \"8\",\n        },\n{\n            'v': 455.0,\n            'f': \"455.0\",\n        },\n{\n            'v': 225.0,\n            'f': \"225.0\",\n        },\n{\n            'v': 3086,\n            'f': \"3086\",\n        },\n{\n            'v': 10.0,\n            'f': \"10.0\",\n        },\n\"1970-01-01 00:00:00\",\n\"USA\"],\n [{\n            'v': 20,\n            'f': \"20\",\n        },\n\"toyota corona mark ii\",\n{\n            'v': 24.0,\n            'f': \"24.0\",\n        },\n{\n            'v': 4,\n            'f': \"4\",\n        },\n{\n            'v': 113.0,\n            'f': \"113.0\",\n        },\n{\n            'v': 95.0,\n            'f': \"95.0\",\n        },\n{\n            'v': 2372,\n            'f': \"2372\",\n        },\n{\n            'v': 15.0,\n            'f': \"15.0\",\n        },\n\"1970-01-01 00:00:00\",\n\"Japan\"],\n [{\n            'v': 21,\n            'f': \"21\",\n        },\n\"plymouth duster\",\n{\n            'v': 22.0,\n            'f': \"22.0\",\n        },\n{\n            'v': 6,\n            'f': \"6\",\n        },\n{\n            'v': 198.0,\n            'f': \"198.0\",\n        },\n{\n            'v': 95.0,\n            'f': \"95.0\",\n        },\n{\n            'v': 2833,\n            'f': \"2833\",\n        },\n{\n            'v': 15.5,\n            'f': \"15.5\",\n        },\n\"1970-01-01 00:00:00\",\n\"USA\"],\n [{\n            'v': 22,\n            'f': \"22\",\n        },\n\"amc hornet\",\n{\n            'v': 18.0,\n            'f': \"18.0\",\n        },\n{\n            'v': 6,\n            'f': \"6\",\n        },\n{\n            'v': 199.0,\n            'f': \"199.0\",\n        },\n{\n            'v': 97.0,\n            'f': \"97.0\",\n        },\n{\n            'v': 2774,\n            'f': \"2774\",\n        },\n{\n            'v': 15.5,\n            'f': \"15.5\",\n        },\n\"1970-01-01 00:00:00\",\n\"USA\"],\n [{\n            'v': 23,\n            'f': \"23\",\n        },\n\"ford maverick\",\n{\n            'v': 21.0,\n            'f': \"21.0\",\n        },\n{\n            'v': 6,\n            'f': \"6\",\n        },\n{\n            'v': 200.0,\n            'f': \"200.0\",\n        },\n{\n            'v': 85.0,\n            'f': \"85.0\",\n        },\n{\n            'v': 2587,\n            'f': \"2587\",\n        },\n{\n            'v': 16.0,\n            'f': \"16.0\",\n        },\n\"1970-01-01 00:00:00\",\n\"USA\"],\n [{\n            'v': 24,\n            'f': \"24\",\n        },\n\"datsun pl510\",\n{\n            'v': 27.0,\n            'f': \"27.0\",\n        },\n{\n            'v': 4,\n            'f': \"4\",\n        },\n{\n            'v': 97.0,\n            'f': \"97.0\",\n        },\n{\n            'v': 88.0,\n            'f': \"88.0\",\n        },\n{\n            'v': 2130,\n            'f': \"2130\",\n        },\n{\n            'v': 14.5,\n            'f': \"14.5\",\n        },\n\"1970-01-01 00:00:00\",\n\"Japan\"],\n [{\n            'v': 25,\n            'f': \"25\",\n        },\n\"volkswagen 1131 deluxe sedan\",\n{\n            'v': 26.0,\n            'f': \"26.0\",\n        },\n{\n            'v': 4,\n            'f': \"4\",\n        },\n{\n            'v': 97.0,\n            'f': \"97.0\",\n        },\n{\n            'v': 46.0,\n            'f': \"46.0\",\n        },\n{\n            'v': 1835,\n            'f': \"1835\",\n        },\n{\n            'v': 20.5,\n            'f': \"20.5\",\n        },\n\"1970-01-01 00:00:00\",\n\"Europe\"],\n [{\n            'v': 26,\n            'f': \"26\",\n        },\n\"peugeot 504\",\n{\n            'v': 25.0,\n            'f': \"25.0\",\n        },\n{\n            'v': 4,\n            'f': \"4\",\n        },\n{\n            'v': 110.0,\n            'f': \"110.0\",\n        },\n{\n            'v': 87.0,\n            'f': \"87.0\",\n        },\n{\n            'v': 2672,\n            'f': \"2672\",\n        },\n{\n            'v': 17.5,\n            'f': \"17.5\",\n        },\n\"1970-01-01 00:00:00\",\n\"Europe\"],\n [{\n            'v': 27,\n            'f': \"27\",\n        },\n\"audi 100 ls\",\n{\n            'v': 24.0,\n            'f': \"24.0\",\n        },\n{\n            'v': 4,\n            'f': \"4\",\n        },\n{\n            'v': 107.0,\n            'f': \"107.0\",\n        },\n{\n            'v': 90.0,\n            'f': \"90.0\",\n        },\n{\n            'v': 2430,\n            'f': \"2430\",\n        },\n{\n            'v': 14.5,\n            'f': \"14.5\",\n        },\n\"1970-01-01 00:00:00\",\n\"Europe\"],\n [{\n            'v': 28,\n            'f': \"28\",\n        },\n\"saab 99e\",\n{\n            'v': 25.0,\n            'f': \"25.0\",\n        },\n{\n            'v': 4,\n            'f': \"4\",\n        },\n{\n            'v': 104.0,\n            'f': \"104.0\",\n        },\n{\n            'v': 95.0,\n            'f': \"95.0\",\n        },\n{\n            'v': 2375,\n            'f': \"2375\",\n        },\n{\n            'v': 17.5,\n            'f': \"17.5\",\n        },\n\"1970-01-01 00:00:00\",\n\"Europe\"],\n [{\n            'v': 29,\n            'f': \"29\",\n        },\n\"bmw 2002\",\n{\n            'v': 26.0,\n            'f': \"26.0\",\n        },\n{\n            'v': 4,\n            'f': \"4\",\n        },\n{\n            'v': 121.0,\n            'f': \"121.0\",\n        },\n{\n            'v': 113.0,\n            'f': \"113.0\",\n        },\n{\n            'v': 2234,\n            'f': \"2234\",\n        },\n{\n            'v': 12.5,\n            'f': \"12.5\",\n        },\n\"1970-01-01 00:00:00\",\n\"Europe\"],\n [{\n            'v': 30,\n            'f': \"30\",\n        },\n\"amc gremlin\",\n{\n            'v': 21.0,\n            'f': \"21.0\",\n        },\n{\n            'v': 6,\n            'f': \"6\",\n        },\n{\n            'v': 199.0,\n            'f': \"199.0\",\n        },\n{\n            'v': 90.0,\n            'f': \"90.0\",\n        },\n{\n            'v': 2648,\n            'f': \"2648\",\n        },\n{\n            'v': 15.0,\n            'f': \"15.0\",\n        },\n\"1970-01-01 00:00:00\",\n\"USA\"],\n [{\n            'v': 31,\n            'f': \"31\",\n        },\n\"ford f250\",\n{\n            'v': 10.0,\n            'f': \"10.0\",\n        },\n{\n            'v': 8,\n            'f': \"8\",\n        },\n{\n            'v': 360.0,\n            'f': \"360.0\",\n        },\n{\n            'v': 215.0,\n            'f': \"215.0\",\n        },\n{\n            'v': 4615,\n            'f': \"4615\",\n        },\n{\n            'v': 14.0,\n            'f': \"14.0\",\n        },\n\"1970-01-01 00:00:00\",\n\"USA\"],\n [{\n            'v': 32,\n            'f': \"32\",\n        },\n\"chevy c20\",\n{\n            'v': 10.0,\n            'f': \"10.0\",\n        },\n{\n            'v': 8,\n            'f': \"8\",\n        },\n{\n            'v': 307.0,\n            'f': \"307.0\",\n        },\n{\n            'v': 200.0,\n            'f': \"200.0\",\n        },\n{\n            'v': 4376,\n            'f': \"4376\",\n        },\n{\n            'v': 15.0,\n            'f': \"15.0\",\n        },\n\"1970-01-01 00:00:00\",\n\"USA\"],\n [{\n            'v': 33,\n            'f': \"33\",\n        },\n\"dodge d200\",\n{\n            'v': 11.0,\n            'f': \"11.0\",\n        },\n{\n            'v': 8,\n            'f': \"8\",\n        },\n{\n            'v': 318.0,\n            'f': \"318.0\",\n        },\n{\n            'v': 210.0,\n            'f': \"210.0\",\n        },\n{\n            'v': 4382,\n            'f': \"4382\",\n        },\n{\n            'v': 13.5,\n            'f': \"13.5\",\n        },\n\"1970-01-01 00:00:00\",\n\"USA\"],\n [{\n            'v': 34,\n            'f': \"34\",\n        },\n\"hi 1200d\",\n{\n            'v': 9.0,\n            'f': \"9.0\",\n        },\n{\n            'v': 8,\n            'f': \"8\",\n        },\n{\n            'v': 304.0,\n            'f': \"304.0\",\n        },\n{\n            'v': 193.0,\n            'f': \"193.0\",\n        },\n{\n            'v': 4732,\n            'f': \"4732\",\n        },\n{\n            'v': 18.5,\n            'f': \"18.5\",\n        },\n\"1970-01-01 00:00:00\",\n\"USA\"],\n [{\n            'v': 35,\n            'f': \"35\",\n        },\n\"datsun pl510\",\n{\n            'v': 27.0,\n            'f': \"27.0\",\n        },\n{\n            'v': 4,\n            'f': \"4\",\n        },\n{\n            'v': 97.0,\n            'f': \"97.0\",\n        },\n{\n            'v': 88.0,\n            'f': \"88.0\",\n        },\n{\n            'v': 2130,\n            'f': \"2130\",\n        },\n{\n            'v': 14.5,\n            'f': \"14.5\",\n        },\n\"1971-01-01 00:00:00\",\n\"Japan\"],\n [{\n            'v': 36,\n            'f': \"36\",\n        },\n\"chevrolet vega 2300\",\n{\n            'v': 28.0,\n            'f': \"28.0\",\n        },\n{\n            'v': 4,\n            'f': \"4\",\n        },\n{\n            'v': 140.0,\n            'f': \"140.0\",\n        },\n{\n            'v': 90.0,\n            'f': \"90.0\",\n        },\n{\n            'v': 2264,\n            'f': \"2264\",\n        },\n{\n            'v': 15.5,\n            'f': \"15.5\",\n        },\n\"1971-01-01 00:00:00\",\n\"USA\"],\n [{\n            'v': 37,\n            'f': \"37\",\n        },\n\"toyota corona\",\n{\n            'v': 25.0,\n            'f': \"25.0\",\n        },\n{\n            'v': 4,\n            'f': \"4\",\n        },\n{\n            'v': 113.0,\n            'f': \"113.0\",\n        },\n{\n            'v': 95.0,\n            'f': \"95.0\",\n        },\n{\n            'v': 2228,\n            'f': \"2228\",\n        },\n{\n            'v': 14.0,\n            'f': \"14.0\",\n        },\n\"1971-01-01 00:00:00\",\n\"Japan\"],\n [{\n            'v': 38,\n            'f': \"38\",\n        },\n\"ford pinto\",\n{\n            'v': 25.0,\n            'f': \"25.0\",\n        },\n{\n            'v': 4,\n            'f': \"4\",\n        },\n{\n            'v': 98.0,\n            'f': \"98.0\",\n        },\n{\n            'v': NaN,\n            'f': \"NaN\",\n        },\n{\n            'v': 2046,\n            'f': \"2046\",\n        },\n{\n            'v': 19.0,\n            'f': \"19.0\",\n        },\n\"1971-01-01 00:00:00\",\n\"USA\"],\n [{\n            'v': 39,\n            'f': \"39\",\n        },\n\"volkswagen super beetle 117\",\n{\n            'v': NaN,\n            'f': \"NaN\",\n        },\n{\n            'v': 4,\n            'f': \"4\",\n        },\n{\n            'v': 97.0,\n            'f': \"97.0\",\n        },\n{\n            'v': 48.0,\n            'f': \"48.0\",\n        },\n{\n            'v': 1978,\n            'f': \"1978\",\n        },\n{\n            'v': 20.0,\n            'f': \"20.0\",\n        },\n\"1971-01-01 00:00:00\",\n\"Europe\"],\n [{\n            'v': 40,\n            'f': \"40\",\n        },\n\"amc gremlin\",\n{\n            'v': 19.0,\n            'f': \"19.0\",\n        },\n{\n            'v': 6,\n            'f': \"6\",\n        },\n{\n            'v': 232.0,\n            'f': \"232.0\",\n        },\n{\n            'v': 100.0,\n            'f': \"100.0\",\n        },\n{\n            'v': 2634,\n            'f': \"2634\",\n        },\n{\n            'v': 13.0,\n            'f': \"13.0\",\n        },\n\"1971-01-01 00:00:00\",\n\"USA\"],\n [{\n            'v': 41,\n            'f': \"41\",\n        },\n\"plymouth satellite custom\",\n{\n            'v': 16.0,\n            'f': \"16.0\",\n        },\n{\n            'v': 6,\n            'f': \"6\",\n        },\n{\n            'v': 225.0,\n            'f': \"225.0\",\n        },\n{\n            'v': 105.0,\n            'f': \"105.0\",\n        },\n{\n            'v': 3439,\n            'f': \"3439\",\n        },\n{\n            'v': 15.5,\n            'f': \"15.5\",\n        },\n\"1971-01-01 00:00:00\",\n\"USA\"],\n [{\n            'v': 42,\n            'f': \"42\",\n        },\n\"chevrolet chevelle malibu\",\n{\n            'v': 17.0,\n            'f': \"17.0\",\n        },\n{\n            'v': 6,\n            'f': \"6\",\n        },\n{\n            'v': 250.0,\n            'f': \"250.0\",\n        },\n{\n            'v': 100.0,\n            'f': \"100.0\",\n        },\n{\n            'v': 3329,\n            'f': \"3329\",\n        },\n{\n            'v': 15.5,\n            'f': \"15.5\",\n        },\n\"1971-01-01 00:00:00\",\n\"USA\"],\n [{\n            'v': 43,\n            'f': \"43\",\n        },\n\"ford torino 500\",\n{\n            'v': 19.0,\n            'f': \"19.0\",\n        },\n{\n            'v': 6,\n            'f': \"6\",\n        },\n{\n            'v': 250.0,\n            'f': \"250.0\",\n        },\n{\n            'v': 88.0,\n            'f': \"88.0\",\n        },\n{\n            'v': 3302,\n            'f': \"3302\",\n        },\n{\n            'v': 15.5,\n            'f': \"15.5\",\n        },\n\"1971-01-01 00:00:00\",\n\"USA\"],\n [{\n            'v': 44,\n            'f': \"44\",\n        },\n\"amc matador\",\n{\n            'v': 18.0,\n            'f': \"18.0\",\n        },\n{\n            'v': 6,\n            'f': \"6\",\n        },\n{\n            'v': 232.0,\n            'f': \"232.0\",\n        },\n{\n            'v': 100.0,\n            'f': \"100.0\",\n        },\n{\n            'v': 3288,\n            'f': \"3288\",\n        },\n{\n            'v': 15.5,\n            'f': \"15.5\",\n        },\n\"1971-01-01 00:00:00\",\n\"USA\"],\n [{\n            'v': 45,\n            'f': \"45\",\n        },\n\"chevrolet impala\",\n{\n            'v': 14.0,\n            'f': \"14.0\",\n        },\n{\n            'v': 8,\n            'f': \"8\",\n        },\n{\n            'v': 350.0,\n            'f': \"350.0\",\n        },\n{\n            'v': 165.0,\n            'f': \"165.0\",\n        },\n{\n            'v': 4209,\n            'f': \"4209\",\n        },\n{\n            'v': 12.0,\n            'f': \"12.0\",\n        },\n\"1971-01-01 00:00:00\",\n\"USA\"],\n [{\n            'v': 46,\n            'f': \"46\",\n        },\n\"pontiac catalina brougham\",\n{\n            'v': 14.0,\n            'f': \"14.0\",\n        },\n{\n            'v': 8,\n            'f': \"8\",\n        },\n{\n            'v': 400.0,\n            'f': \"400.0\",\n        },\n{\n            'v': 175.0,\n            'f': \"175.0\",\n        },\n{\n            'v': 4464,\n            'f': \"4464\",\n        },\n{\n            'v': 11.5,\n            'f': \"11.5\",\n        },\n\"1971-01-01 00:00:00\",\n\"USA\"],\n [{\n            'v': 47,\n            'f': \"47\",\n        },\n\"ford galaxie 500\",\n{\n            'v': 14.0,\n            'f': \"14.0\",\n        },\n{\n            'v': 8,\n            'f': \"8\",\n        },\n{\n            'v': 351.0,\n            'f': \"351.0\",\n        },\n{\n            'v': 153.0,\n            'f': \"153.0\",\n        },\n{\n            'v': 4154,\n            'f': \"4154\",\n        },\n{\n            'v': 13.5,\n            'f': \"13.5\",\n        },\n\"1971-01-01 00:00:00\",\n\"USA\"],\n [{\n            'v': 48,\n            'f': \"48\",\n        },\n\"plymouth fury iii\",\n{\n            'v': 14.0,\n            'f': \"14.0\",\n        },\n{\n            'v': 8,\n            'f': \"8\",\n        },\n{\n            'v': 318.0,\n            'f': \"318.0\",\n        },\n{\n            'v': 150.0,\n            'f': \"150.0\",\n        },\n{\n            'v': 4096,\n            'f': \"4096\",\n        },\n{\n            'v': 13.0,\n            'f': \"13.0\",\n        },\n\"1971-01-01 00:00:00\",\n\"USA\"],\n [{\n            'v': 49,\n            'f': \"49\",\n        },\n\"dodge monaco (sw)\",\n{\n            'v': 12.0,\n            'f': \"12.0\",\n        },\n{\n            'v': 8,\n            'f': \"8\",\n        },\n{\n            'v': 383.0,\n            'f': \"383.0\",\n        },\n{\n            'v': 180.0,\n            'f': \"180.0\",\n        },\n{\n            'v': 4955,\n            'f': \"4955\",\n        },\n{\n            'v': 11.5,\n            'f': \"11.5\",\n        },\n\"1971-01-01 00:00:00\",\n\"USA\"],\n [{\n            'v': 50,\n            'f': \"50\",\n        },\n\"ford country squire (sw)\",\n{\n            'v': 13.0,\n            'f': \"13.0\",\n        },\n{\n            'v': 8,\n            'f': \"8\",\n        },\n{\n            'v': 400.0,\n            'f': \"400.0\",\n        },\n{\n            'v': 170.0,\n            'f': \"170.0\",\n        },\n{\n            'v': 4746,\n            'f': \"4746\",\n        },\n{\n            'v': 12.0,\n            'f': \"12.0\",\n        },\n\"1971-01-01 00:00:00\",\n\"USA\"],\n [{\n            'v': 51,\n            'f': \"51\",\n        },\n\"pontiac safari (sw)\",\n{\n            'v': 13.0,\n            'f': \"13.0\",\n        },\n{\n            'v': 8,\n            'f': \"8\",\n        },\n{\n            'v': 400.0,\n            'f': \"400.0\",\n        },\n{\n            'v': 175.0,\n            'f': \"175.0\",\n        },\n{\n            'v': 5140,\n            'f': \"5140\",\n        },\n{\n            'v': 12.0,\n            'f': \"12.0\",\n        },\n\"1971-01-01 00:00:00\",\n\"USA\"],\n [{\n            'v': 52,\n            'f': \"52\",\n        },\n\"amc hornet sportabout (sw)\",\n{\n            'v': 18.0,\n            'f': \"18.0\",\n        },\n{\n            'v': 6,\n            'f': \"6\",\n        },\n{\n            'v': 258.0,\n            'f': \"258.0\",\n        },\n{\n            'v': 110.0,\n            'f': \"110.0\",\n        },\n{\n            'v': 2962,\n            'f': \"2962\",\n        },\n{\n            'v': 13.5,\n            'f': \"13.5\",\n        },\n\"1971-01-01 00:00:00\",\n\"USA\"],\n [{\n            'v': 53,\n            'f': \"53\",\n        },\n\"chevrolet vega (sw)\",\n{\n            'v': 22.0,\n            'f': \"22.0\",\n        },\n{\n            'v': 4,\n            'f': \"4\",\n        },\n{\n            'v': 140.0,\n            'f': \"140.0\",\n        },\n{\n            'v': 72.0,\n            'f': \"72.0\",\n        },\n{\n            'v': 2408,\n            'f': \"2408\",\n        },\n{\n            'v': 19.0,\n            'f': \"19.0\",\n        },\n\"1971-01-01 00:00:00\",\n\"USA\"],\n [{\n            'v': 54,\n            'f': \"54\",\n        },\n\"pontiac firebird\",\n{\n            'v': 19.0,\n            'f': \"19.0\",\n        },\n{\n            'v': 6,\n            'f': \"6\",\n        },\n{\n            'v': 250.0,\n            'f': \"250.0\",\n        },\n{\n            'v': 100.0,\n            'f': \"100.0\",\n        },\n{\n            'v': 3282,\n            'f': \"3282\",\n        },\n{\n            'v': 15.0,\n            'f': \"15.0\",\n        },\n\"1971-01-01 00:00:00\",\n\"USA\"],\n [{\n            'v': 55,\n            'f': \"55\",\n        },\n\"ford mustang\",\n{\n            'v': 18.0,\n            'f': \"18.0\",\n        },\n{\n            'v': 6,\n            'f': \"6\",\n        },\n{\n            'v': 250.0,\n            'f': \"250.0\",\n        },\n{\n            'v': 88.0,\n            'f': \"88.0\",\n        },\n{\n            'v': 3139,\n            'f': \"3139\",\n        },\n{\n            'v': 14.5,\n            'f': \"14.5\",\n        },\n\"1971-01-01 00:00:00\",\n\"USA\"],\n [{\n            'v': 56,\n            'f': \"56\",\n        },\n\"mercury capri 2000\",\n{\n            'v': 23.0,\n            'f': \"23.0\",\n        },\n{\n            'v': 4,\n            'f': \"4\",\n        },\n{\n            'v': 122.0,\n            'f': \"122.0\",\n        },\n{\n            'v': 86.0,\n            'f': \"86.0\",\n        },\n{\n            'v': 2220,\n            'f': \"2220\",\n        },\n{\n            'v': 14.0,\n            'f': \"14.0\",\n        },\n\"1971-01-01 00:00:00\",\n\"USA\"],\n [{\n            'v': 57,\n            'f': \"57\",\n        },\n\"opel 1900\",\n{\n            'v': 28.0,\n            'f': \"28.0\",\n        },\n{\n            'v': 4,\n            'f': \"4\",\n        },\n{\n            'v': 116.0,\n            'f': \"116.0\",\n        },\n{\n            'v': 90.0,\n            'f': \"90.0\",\n        },\n{\n            'v': 2123,\n            'f': \"2123\",\n        },\n{\n            'v': 14.0,\n            'f': \"14.0\",\n        },\n\"1971-01-01 00:00:00\",\n\"Europe\"],\n [{\n            'v': 58,\n            'f': \"58\",\n        },\n\"peugeot 304\",\n{\n            'v': 30.0,\n            'f': \"30.0\",\n        },\n{\n            'v': 4,\n            'f': \"4\",\n        },\n{\n            'v': 79.0,\n            'f': \"79.0\",\n        },\n{\n            'v': 70.0,\n            'f': \"70.0\",\n        },\n{\n            'v': 2074,\n            'f': \"2074\",\n        },\n{\n            'v': 19.5,\n            'f': \"19.5\",\n        },\n\"1971-01-01 00:00:00\",\n\"Europe\"],\n [{\n            'v': 59,\n            'f': \"59\",\n        },\n\"fiat 124b\",\n{\n            'v': 30.0,\n            'f': \"30.0\",\n        },\n{\n            'v': 4,\n            'f': \"4\",\n        },\n{\n            'v': 88.0,\n            'f': \"88.0\",\n        },\n{\n            'v': 76.0,\n            'f': \"76.0\",\n        },\n{\n            'v': 2065,\n            'f': \"2065\",\n        },\n{\n            'v': 14.5,\n            'f': \"14.5\",\n        },\n\"1971-01-01 00:00:00\",\n\"Europe\"],\n [{\n            'v': 60,\n            'f': \"60\",\n        },\n\"toyota corolla 1200\",\n{\n            'v': 31.0,\n            'f': \"31.0\",\n        },\n{\n            'v': 4,\n            'f': \"4\",\n        },\n{\n            'v': 71.0,\n            'f': \"71.0\",\n        },\n{\n            'v': 65.0,\n            'f': \"65.0\",\n        },\n{\n            'v': 1773,\n            'f': \"1773\",\n        },\n{\n            'v': 19.0,\n            'f': \"19.0\",\n        },\n\"1971-01-01 00:00:00\",\n\"Japan\"],\n [{\n            'v': 61,\n            'f': \"61\",\n        },\n\"datsun 1200\",\n{\n            'v': 35.0,\n            'f': \"35.0\",\n        },\n{\n            'v': 4,\n            'f': \"4\",\n        },\n{\n            'v': 72.0,\n            'f': \"72.0\",\n        },\n{\n            'v': 69.0,\n            'f': \"69.0\",\n        },\n{\n            'v': 1613,\n            'f': \"1613\",\n        },\n{\n            'v': 18.0,\n            'f': \"18.0\",\n        },\n\"1971-01-01 00:00:00\",\n\"Japan\"],\n [{\n            'v': 62,\n            'f': \"62\",\n        },\n\"volkswagen model 111\",\n{\n            'v': 27.0,\n            'f': \"27.0\",\n        },\n{\n            'v': 4,\n            'f': \"4\",\n        },\n{\n            'v': 97.0,\n            'f': \"97.0\",\n        },\n{\n            'v': 60.0,\n            'f': \"60.0\",\n        },\n{\n            'v': 1834,\n            'f': \"1834\",\n        },\n{\n            'v': 19.0,\n            'f': \"19.0\",\n        },\n\"1971-01-01 00:00:00\",\n\"Europe\"],\n [{\n            'v': 63,\n            'f': \"63\",\n        },\n\"plymouth cricket\",\n{\n            'v': 26.0,\n            'f': \"26.0\",\n        },\n{\n            'v': 4,\n            'f': \"4\",\n        },\n{\n            'v': 91.0,\n            'f': \"91.0\",\n        },\n{\n            'v': 70.0,\n            'f': \"70.0\",\n        },\n{\n            'v': 1955,\n            'f': \"1955\",\n        },\n{\n            'v': 20.5,\n            'f': \"20.5\",\n        },\n\"1971-01-01 00:00:00\",\n\"USA\"],\n [{\n            'v': 64,\n            'f': \"64\",\n        },\n\"toyota corona hardtop\",\n{\n            'v': 24.0,\n            'f': \"24.0\",\n        },\n{\n            'v': 4,\n            'f': \"4\",\n        },\n{\n            'v': 113.0,\n            'f': \"113.0\",\n        },\n{\n            'v': 95.0,\n            'f': \"95.0\",\n        },\n{\n            'v': 2278,\n            'f': \"2278\",\n        },\n{\n            'v': 15.5,\n            'f': \"15.5\",\n        },\n\"1972-01-01 00:00:00\",\n\"Japan\"],\n [{\n            'v': 65,\n            'f': \"65\",\n        },\n\"dodge colt hardtop\",\n{\n            'v': 25.0,\n            'f': \"25.0\",\n        },\n{\n            'v': 4,\n            'f': \"4\",\n        },\n{\n            'v': 97.5,\n            'f': \"97.5\",\n        },\n{\n            'v': 80.0,\n            'f': \"80.0\",\n        },\n{\n            'v': 2126,\n            'f': \"2126\",\n        },\n{\n            'v': 17.0,\n            'f': \"17.0\",\n        },\n\"1972-01-01 00:00:00\",\n\"USA\"],\n [{\n            'v': 66,\n            'f': \"66\",\n        },\n\"volkswagen type 3\",\n{\n            'v': 23.0,\n            'f': \"23.0\",\n        },\n{\n            'v': 4,\n            'f': \"4\",\n        },\n{\n            'v': 97.0,\n            'f': \"97.0\",\n        },\n{\n            'v': 54.0,\n            'f': \"54.0\",\n        },\n{\n            'v': 2254,\n            'f': \"2254\",\n        },\n{\n            'v': 23.5,\n            'f': \"23.5\",\n        },\n\"1972-01-01 00:00:00\",\n\"Europe\"],\n [{\n            'v': 67,\n            'f': \"67\",\n        },\n\"chevrolet vega\",\n{\n            'v': 20.0,\n            'f': \"20.0\",\n        },\n{\n            'v': 4,\n            'f': \"4\",\n        },\n{\n            'v': 140.0,\n            'f': \"140.0\",\n        },\n{\n            'v': 90.0,\n            'f': \"90.0\",\n        },\n{\n            'v': 2408,\n            'f': \"2408\",\n        },\n{\n            'v': 19.5,\n            'f': \"19.5\",\n        },\n\"1972-01-01 00:00:00\",\n\"USA\"],\n [{\n            'v': 68,\n            'f': \"68\",\n        },\n\"ford pinto runabout\",\n{\n            'v': 21.0,\n            'f': \"21.0\",\n        },\n{\n            'v': 4,\n            'f': \"4\",\n        },\n{\n            'v': 122.0,\n            'f': \"122.0\",\n        },\n{\n            'v': 86.0,\n            'f': \"86.0\",\n        },\n{\n            'v': 2226,\n            'f': \"2226\",\n        },\n{\n            'v': 16.5,\n            'f': \"16.5\",\n        },\n\"1972-01-01 00:00:00\",\n\"USA\"],\n [{\n            'v': 69,\n            'f': \"69\",\n        },\n\"chevrolet impala\",\n{\n            'v': 13.0,\n            'f': \"13.0\",\n        },\n{\n            'v': 8,\n            'f': \"8\",\n        },\n{\n            'v': 350.0,\n            'f': \"350.0\",\n        },\n{\n            'v': 165.0,\n            'f': \"165.0\",\n        },\n{\n            'v': 4274,\n            'f': \"4274\",\n        },\n{\n            'v': 12.0,\n            'f': \"12.0\",\n        },\n\"1972-01-01 00:00:00\",\n\"USA\"],\n [{\n            'v': 70,\n            'f': \"70\",\n        },\n\"pontiac catalina\",\n{\n            'v': 14.0,\n            'f': \"14.0\",\n        },\n{\n            'v': 8,\n            'f': \"8\",\n        },\n{\n            'v': 400.0,\n            'f': \"400.0\",\n        },\n{\n            'v': 175.0,\n            'f': \"175.0\",\n        },\n{\n            'v': 4385,\n            'f': \"4385\",\n        },\n{\n            'v': 12.0,\n            'f': \"12.0\",\n        },\n\"1972-01-01 00:00:00\",\n\"USA\"],\n [{\n            'v': 71,\n            'f': \"71\",\n        },\n\"plymouth fury iii\",\n{\n            'v': 15.0,\n            'f': \"15.0\",\n        },\n{\n            'v': 8,\n            'f': \"8\",\n        },\n{\n            'v': 318.0,\n            'f': \"318.0\",\n        },\n{\n            'v': 150.0,\n            'f': \"150.0\",\n        },\n{\n            'v': 4135,\n            'f': \"4135\",\n        },\n{\n            'v': 13.5,\n            'f': \"13.5\",\n        },\n\"1972-01-01 00:00:00\",\n\"USA\"],\n [{\n            'v': 72,\n            'f': \"72\",\n        },\n\"ford galaxie 500\",\n{\n            'v': 14.0,\n            'f': \"14.0\",\n        },\n{\n            'v': 8,\n            'f': \"8\",\n        },\n{\n            'v': 351.0,\n            'f': \"351.0\",\n        },\n{\n            'v': 153.0,\n            'f': \"153.0\",\n        },\n{\n            'v': 4129,\n            'f': \"4129\",\n        },\n{\n            'v': 13.0,\n            'f': \"13.0\",\n        },\n\"1972-01-01 00:00:00\",\n\"USA\"],\n [{\n            'v': 73,\n            'f': \"73\",\n        },\n\"amc ambassador sst\",\n{\n            'v': 17.0,\n            'f': \"17.0\",\n        },\n{\n            'v': 8,\n            'f': \"8\",\n        },\n{\n            'v': 304.0,\n            'f': \"304.0\",\n        },\n{\n            'v': 150.0,\n            'f': \"150.0\",\n        },\n{\n            'v': 3672,\n            'f': \"3672\",\n        },\n{\n            'v': 11.5,\n            'f': \"11.5\",\n        },\n\"1972-01-01 00:00:00\",\n\"USA\"],\n [{\n            'v': 74,\n            'f': \"74\",\n        },\n\"mercury marquis\",\n{\n            'v': 11.0,\n            'f': \"11.0\",\n        },\n{\n            'v': 8,\n            'f': \"8\",\n        },\n{\n            'v': 429.0,\n            'f': \"429.0\",\n        },\n{\n            'v': 208.0,\n            'f': \"208.0\",\n        },\n{\n            'v': 4633,\n            'f': \"4633\",\n        },\n{\n            'v': 11.0,\n            'f': \"11.0\",\n        },\n\"1972-01-01 00:00:00\",\n\"USA\"],\n [{\n            'v': 75,\n            'f': \"75\",\n        },\n\"buick lesabre custom\",\n{\n            'v': 13.0,\n            'f': \"13.0\",\n        },\n{\n            'v': 8,\n            'f': \"8\",\n        },\n{\n            'v': 350.0,\n            'f': \"350.0\",\n        },\n{\n            'v': 155.0,\n            'f': \"155.0\",\n        },\n{\n            'v': 4502,\n            'f': \"4502\",\n        },\n{\n            'v': 13.5,\n            'f': \"13.5\",\n        },\n\"1972-01-01 00:00:00\",\n\"USA\"],\n [{\n            'v': 76,\n            'f': \"76\",\n        },\n\"oldsmobile delta 88 royale\",\n{\n            'v': 12.0,\n            'f': \"12.0\",\n        },\n{\n            'v': 8,\n            'f': \"8\",\n        },\n{\n            'v': 350.0,\n            'f': \"350.0\",\n        },\n{\n            'v': 160.0,\n            'f': \"160.0\",\n        },\n{\n            'v': 4456,\n            'f': \"4456\",\n        },\n{\n            'v': 13.5,\n            'f': \"13.5\",\n        },\n\"1972-01-01 00:00:00\",\n\"USA\"],\n [{\n            'v': 77,\n            'f': \"77\",\n        },\n\"chrysler newport royal\",\n{\n            'v': 13.0,\n            'f': \"13.0\",\n        },\n{\n            'v': 8,\n            'f': \"8\",\n        },\n{\n            'v': 400.0,\n            'f': \"400.0\",\n        },\n{\n            'v': 190.0,\n            'f': \"190.0\",\n        },\n{\n            'v': 4422,\n            'f': \"4422\",\n        },\n{\n            'v': 12.5,\n            'f': \"12.5\",\n        },\n\"1972-01-01 00:00:00\",\n\"USA\"],\n [{\n            'v': 78,\n            'f': \"78\",\n        },\n\"mazda rx2 coupe\",\n{\n            'v': 19.0,\n            'f': \"19.0\",\n        },\n{\n            'v': 3,\n            'f': \"3\",\n        },\n{\n            'v': 70.0,\n            'f': \"70.0\",\n        },\n{\n            'v': 97.0,\n            'f': \"97.0\",\n        },\n{\n            'v': 2330,\n            'f': \"2330\",\n        },\n{\n            'v': 13.5,\n            'f': \"13.5\",\n        },\n\"1972-01-01 00:00:00\",\n\"Japan\"],\n [{\n            'v': 79,\n            'f': \"79\",\n        },\n\"amc matador (sw)\",\n{\n            'v': 15.0,\n            'f': \"15.0\",\n        },\n{\n            'v': 8,\n            'f': \"8\",\n        },\n{\n            'v': 304.0,\n            'f': \"304.0\",\n        },\n{\n            'v': 150.0,\n            'f': \"150.0\",\n        },\n{\n            'v': 3892,\n            'f': \"3892\",\n        },\n{\n            'v': 12.5,\n            'f': \"12.5\",\n        },\n\"1972-01-01 00:00:00\",\n\"USA\"],\n [{\n            'v': 80,\n            'f': \"80\",\n        },\n\"chevrolet chevelle concours (sw)\",\n{\n            'v': 13.0,\n            'f': \"13.0\",\n        },\n{\n            'v': 8,\n            'f': \"8\",\n        },\n{\n            'v': 307.0,\n            'f': \"307.0\",\n        },\n{\n            'v': 130.0,\n            'f': \"130.0\",\n        },\n{\n            'v': 4098,\n            'f': \"4098\",\n        },\n{\n            'v': 14.0,\n            'f': \"14.0\",\n        },\n\"1972-01-01 00:00:00\",\n\"USA\"],\n [{\n            'v': 81,\n            'f': \"81\",\n        },\n\"ford gran torino (sw)\",\n{\n            'v': 13.0,\n            'f': \"13.0\",\n        },\n{\n            'v': 8,\n            'f': \"8\",\n        },\n{\n            'v': 302.0,\n            'f': \"302.0\",\n        },\n{\n            'v': 140.0,\n            'f': \"140.0\",\n        },\n{\n            'v': 4294,\n            'f': \"4294\",\n        },\n{\n            'v': 16.0,\n            'f': \"16.0\",\n        },\n\"1972-01-01 00:00:00\",\n\"USA\"],\n [{\n            'v': 82,\n            'f': \"82\",\n        },\n\"plymouth satellite custom (sw)\",\n{\n            'v': 14.0,\n            'f': \"14.0\",\n        },\n{\n            'v': 8,\n            'f': \"8\",\n        },\n{\n            'v': 318.0,\n            'f': \"318.0\",\n        },\n{\n            'v': 150.0,\n            'f': \"150.0\",\n        },\n{\n            'v': 4077,\n            'f': \"4077\",\n        },\n{\n            'v': 14.0,\n            'f': \"14.0\",\n        },\n\"1972-01-01 00:00:00\",\n\"USA\"],\n [{\n            'v': 83,\n            'f': \"83\",\n        },\n\"volvo 145e (sw)\",\n{\n            'v': 18.0,\n            'f': \"18.0\",\n        },\n{\n            'v': 4,\n            'f': \"4\",\n        },\n{\n            'v': 121.0,\n            'f': \"121.0\",\n        },\n{\n            'v': 112.0,\n            'f': \"112.0\",\n        },\n{\n            'v': 2933,\n            'f': \"2933\",\n        },\n{\n            'v': 14.5,\n            'f': \"14.5\",\n        },\n\"1972-01-01 00:00:00\",\n\"Europe\"],\n [{\n            'v': 84,\n            'f': \"84\",\n        },\n\"volkswagen 411 (sw)\",\n{\n            'v': 22.0,\n            'f': \"22.0\",\n        },\n{\n            'v': 4,\n            'f': \"4\",\n        },\n{\n            'v': 121.0,\n            'f': \"121.0\",\n        },\n{\n            'v': 76.0,\n            'f': \"76.0\",\n        },\n{\n            'v': 2511,\n            'f': \"2511\",\n        },\n{\n            'v': 18.0,\n            'f': \"18.0\",\n        },\n\"1972-01-01 00:00:00\",\n\"Europe\"],\n [{\n            'v': 85,\n            'f': \"85\",\n        },\n\"peugeot 504 (sw)\",\n{\n            'v': 21.0,\n            'f': \"21.0\",\n        },\n{\n            'v': 4,\n            'f': \"4\",\n        },\n{\n            'v': 120.0,\n            'f': \"120.0\",\n        },\n{\n            'v': 87.0,\n            'f': \"87.0\",\n        },\n{\n            'v': 2979,\n            'f': \"2979\",\n        },\n{\n            'v': 19.5,\n            'f': \"19.5\",\n        },\n\"1972-01-01 00:00:00\",\n\"Europe\"],\n [{\n            'v': 86,\n            'f': \"86\",\n        },\n\"renault 12 (sw)\",\n{\n            'v': 26.0,\n            'f': \"26.0\",\n        },\n{\n            'v': 4,\n            'f': \"4\",\n        },\n{\n            'v': 96.0,\n            'f': \"96.0\",\n        },\n{\n            'v': 69.0,\n            'f': \"69.0\",\n        },\n{\n            'v': 2189,\n            'f': \"2189\",\n        },\n{\n            'v': 18.0,\n            'f': \"18.0\",\n        },\n\"1972-01-01 00:00:00\",\n\"Europe\"],\n [{\n            'v': 87,\n            'f': \"87\",\n        },\n\"ford pinto (sw)\",\n{\n            'v': 22.0,\n            'f': \"22.0\",\n        },\n{\n            'v': 4,\n            'f': \"4\",\n        },\n{\n            'v': 122.0,\n            'f': \"122.0\",\n        },\n{\n            'v': 86.0,\n            'f': \"86.0\",\n        },\n{\n            'v': 2395,\n            'f': \"2395\",\n        },\n{\n            'v': 16.0,\n            'f': \"16.0\",\n        },\n\"1972-01-01 00:00:00\",\n\"USA\"],\n [{\n            'v': 88,\n            'f': \"88\",\n        },\n\"datsun 510 (sw)\",\n{\n            'v': 28.0,\n            'f': \"28.0\",\n        },\n{\n            'v': 4,\n            'f': \"4\",\n        },\n{\n            'v': 97.0,\n            'f': \"97.0\",\n        },\n{\n            'v': 92.0,\n            'f': \"92.0\",\n        },\n{\n            'v': 2288,\n            'f': \"2288\",\n        },\n{\n            'v': 17.0,\n            'f': \"17.0\",\n        },\n\"1972-01-01 00:00:00\",\n\"Japan\"],\n [{\n            'v': 89,\n            'f': \"89\",\n        },\n\"toyouta corona mark ii (sw)\",\n{\n            'v': 23.0,\n            'f': \"23.0\",\n        },\n{\n            'v': 4,\n            'f': \"4\",\n        },\n{\n            'v': 120.0,\n            'f': \"120.0\",\n        },\n{\n            'v': 97.0,\n            'f': \"97.0\",\n        },\n{\n            'v': 2506,\n            'f': \"2506\",\n        },\n{\n            'v': 14.5,\n            'f': \"14.5\",\n        },\n\"1972-01-01 00:00:00\",\n\"Japan\"],\n [{\n            'v': 90,\n            'f': \"90\",\n        },\n\"dodge colt (sw)\",\n{\n            'v': 28.0,\n            'f': \"28.0\",\n        },\n{\n            'v': 4,\n            'f': \"4\",\n        },\n{\n            'v': 98.0,\n            'f': \"98.0\",\n        },\n{\n            'v': 80.0,\n            'f': \"80.0\",\n        },\n{\n            'v': 2164,\n            'f': \"2164\",\n        },\n{\n            'v': 15.0,\n            'f': \"15.0\",\n        },\n\"1972-01-01 00:00:00\",\n\"USA\"],\n [{\n            'v': 91,\n            'f': \"91\",\n        },\n\"toyota corolla 1600 (sw)\",\n{\n            'v': 27.0,\n            'f': \"27.0\",\n        },\n{\n            'v': 4,\n            'f': \"4\",\n        },\n{\n            'v': 97.0,\n            'f': \"97.0\",\n        },\n{\n            'v': 88.0,\n            'f': \"88.0\",\n        },\n{\n            'v': 2100,\n            'f': \"2100\",\n        },\n{\n            'v': 16.5,\n            'f': \"16.5\",\n        },\n\"1972-01-01 00:00:00\",\n\"Japan\"],\n [{\n            'v': 92,\n            'f': \"92\",\n        },\n\"buick century 350\",\n{\n            'v': 13.0,\n            'f': \"13.0\",\n        },\n{\n            'v': 8,\n            'f': \"8\",\n        },\n{\n            'v': 350.0,\n            'f': \"350.0\",\n        },\n{\n            'v': 175.0,\n            'f': \"175.0\",\n        },\n{\n            'v': 4100,\n            'f': \"4100\",\n        },\n{\n            'v': 13.0,\n            'f': \"13.0\",\n        },\n\"1973-01-01 00:00:00\",\n\"USA\"],\n [{\n            'v': 93,\n            'f': \"93\",\n        },\n\"amc matador\",\n{\n            'v': 14.0,\n            'f': \"14.0\",\n        },\n{\n            'v': 8,\n            'f': \"8\",\n        },\n{\n            'v': 304.0,\n            'f': \"304.0\",\n        },\n{\n            'v': 150.0,\n            'f': \"150.0\",\n        },\n{\n            'v': 3672,\n            'f': \"3672\",\n        },\n{\n            'v': 11.5,\n            'f': \"11.5\",\n        },\n\"1973-01-01 00:00:00\",\n\"USA\"],\n [{\n            'v': 94,\n            'f': \"94\",\n        },\n\"chevrolet malibu\",\n{\n            'v': 13.0,\n            'f': \"13.0\",\n        },\n{\n            'v': 8,\n            'f': \"8\",\n        },\n{\n            'v': 350.0,\n            'f': \"350.0\",\n        },\n{\n            'v': 145.0,\n            'f': \"145.0\",\n        },\n{\n            'v': 3988,\n            'f': \"3988\",\n        },\n{\n            'v': 13.0,\n            'f': \"13.0\",\n        },\n\"1973-01-01 00:00:00\",\n\"USA\"],\n [{\n            'v': 95,\n            'f': \"95\",\n        },\n\"ford gran torino\",\n{\n            'v': 14.0,\n            'f': \"14.0\",\n        },\n{\n            'v': 8,\n            'f': \"8\",\n        },\n{\n            'v': 302.0,\n            'f': \"302.0\",\n        },\n{\n            'v': 137.0,\n            'f': \"137.0\",\n        },\n{\n            'v': 4042,\n            'f': \"4042\",\n        },\n{\n            'v': 14.5,\n            'f': \"14.5\",\n        },\n\"1973-01-01 00:00:00\",\n\"USA\"],\n [{\n            'v': 96,\n            'f': \"96\",\n        },\n\"dodge coronet custom\",\n{\n            'v': 15.0,\n            'f': \"15.0\",\n        },\n{\n            'v': 8,\n            'f': \"8\",\n        },\n{\n            'v': 318.0,\n            'f': \"318.0\",\n        },\n{\n            'v': 150.0,\n            'f': \"150.0\",\n        },\n{\n            'v': 3777,\n            'f': \"3777\",\n        },\n{\n            'v': 12.5,\n            'f': \"12.5\",\n        },\n\"1973-01-01 00:00:00\",\n\"USA\"],\n [{\n            'v': 97,\n            'f': \"97\",\n        },\n\"mercury marquis brougham\",\n{\n            'v': 12.0,\n            'f': \"12.0\",\n        },\n{\n            'v': 8,\n            'f': \"8\",\n        },\n{\n            'v': 429.0,\n            'f': \"429.0\",\n        },\n{\n            'v': 198.0,\n            'f': \"198.0\",\n        },\n{\n            'v': 4952,\n            'f': \"4952\",\n        },\n{\n            'v': 11.5,\n            'f': \"11.5\",\n        },\n\"1973-01-01 00:00:00\",\n\"USA\"],\n [{\n            'v': 98,\n            'f': \"98\",\n        },\n\"chevrolet caprice classic\",\n{\n            'v': 13.0,\n            'f': \"13.0\",\n        },\n{\n            'v': 8,\n            'f': \"8\",\n        },\n{\n            'v': 400.0,\n            'f': \"400.0\",\n        },\n{\n            'v': 150.0,\n            'f': \"150.0\",\n        },\n{\n            'v': 4464,\n            'f': \"4464\",\n        },\n{\n            'v': 12.0,\n            'f': \"12.0\",\n        },\n\"1973-01-01 00:00:00\",\n\"USA\"],\n [{\n            'v': 99,\n            'f': \"99\",\n        },\n\"ford ltd\",\n{\n            'v': 13.0,\n            'f': \"13.0\",\n        },\n{\n            'v': 8,\n            'f': \"8\",\n        },\n{\n            'v': 351.0,\n            'f': \"351.0\",\n        },\n{\n            'v': 158.0,\n            'f': \"158.0\",\n        },\n{\n            'v': 4363,\n            'f': \"4363\",\n        },\n{\n            'v': 13.0,\n            'f': \"13.0\",\n        },\n\"1973-01-01 00:00:00\",\n\"USA\"],\n [{\n            'v': 100,\n            'f': \"100\",\n        },\n\"plymouth fury gran sedan\",\n{\n            'v': 14.0,\n            'f': \"14.0\",\n        },\n{\n            'v': 8,\n            'f': \"8\",\n        },\n{\n            'v': 318.0,\n            'f': \"318.0\",\n        },\n{\n            'v': 150.0,\n            'f': \"150.0\",\n        },\n{\n            'v': 4237,\n            'f': \"4237\",\n        },\n{\n            'v': 14.5,\n            'f': \"14.5\",\n        },\n\"1973-01-01 00:00:00\",\n\"USA\"],\n [{\n            'v': 101,\n            'f': \"101\",\n        },\n\"chrysler new yorker brougham\",\n{\n            'v': 13.0,\n            'f': \"13.0\",\n        },\n{\n            'v': 8,\n            'f': \"8\",\n        },\n{\n            'v': 440.0,\n            'f': \"440.0\",\n        },\n{\n            'v': 215.0,\n            'f': \"215.0\",\n        },\n{\n            'v': 4735,\n            'f': \"4735\",\n        },\n{\n            'v': 11.0,\n            'f': \"11.0\",\n        },\n\"1973-01-01 00:00:00\",\n\"USA\"],\n [{\n            'v': 102,\n            'f': \"102\",\n        },\n\"buick electra 225 custom\",\n{\n            'v': 12.0,\n            'f': \"12.0\",\n        },\n{\n            'v': 8,\n            'f': \"8\",\n        },\n{\n            'v': 455.0,\n            'f': \"455.0\",\n        },\n{\n            'v': 225.0,\n            'f': \"225.0\",\n        },\n{\n            'v': 4951,\n            'f': \"4951\",\n        },\n{\n            'v': 11.0,\n            'f': \"11.0\",\n        },\n\"1973-01-01 00:00:00\",\n\"USA\"],\n [{\n            'v': 103,\n            'f': \"103\",\n        },\n\"amc ambassador brougham\",\n{\n            'v': 13.0,\n            'f': \"13.0\",\n        },\n{\n            'v': 8,\n            'f': \"8\",\n        },\n{\n            'v': 360.0,\n            'f': \"360.0\",\n        },\n{\n            'v': 175.0,\n            'f': \"175.0\",\n        },\n{\n            'v': 3821,\n            'f': \"3821\",\n        },\n{\n            'v': 11.0,\n            'f': \"11.0\",\n        },\n\"1973-01-01 00:00:00\",\n\"USA\"],\n [{\n            'v': 104,\n            'f': \"104\",\n        },\n\"plymouth valiant\",\n{\n            'v': 18.0,\n            'f': \"18.0\",\n        },\n{\n            'v': 6,\n            'f': \"6\",\n        },\n{\n            'v': 225.0,\n            'f': \"225.0\",\n        },\n{\n            'v': 105.0,\n            'f': \"105.0\",\n        },\n{\n            'v': 3121,\n            'f': \"3121\",\n        },\n{\n            'v': 16.5,\n            'f': \"16.5\",\n        },\n\"1973-01-01 00:00:00\",\n\"USA\"],\n [{\n            'v': 105,\n            'f': \"105\",\n        },\n\"chevrolet nova custom\",\n{\n            'v': 16.0,\n            'f': \"16.0\",\n        },\n{\n            'v': 6,\n            'f': \"6\",\n        },\n{\n            'v': 250.0,\n            'f': \"250.0\",\n        },\n{\n            'v': 100.0,\n            'f': \"100.0\",\n        },\n{\n            'v': 3278,\n            'f': \"3278\",\n        },\n{\n            'v': 18.0,\n            'f': \"18.0\",\n        },\n\"1973-01-01 00:00:00\",\n\"USA\"],\n [{\n            'v': 106,\n            'f': \"106\",\n        },\n\"amc hornet\",\n{\n            'v': 18.0,\n            'f': \"18.0\",\n        },\n{\n            'v': 6,\n            'f': \"6\",\n        },\n{\n            'v': 232.0,\n            'f': \"232.0\",\n        },\n{\n            'v': 100.0,\n            'f': \"100.0\",\n        },\n{\n            'v': 2945,\n            'f': \"2945\",\n        },\n{\n            'v': 16.0,\n            'f': \"16.0\",\n        },\n\"1973-01-01 00:00:00\",\n\"USA\"],\n [{\n            'v': 107,\n            'f': \"107\",\n        },\n\"ford maverick\",\n{\n            'v': 18.0,\n            'f': \"18.0\",\n        },\n{\n            'v': 6,\n            'f': \"6\",\n        },\n{\n            'v': 250.0,\n            'f': \"250.0\",\n        },\n{\n            'v': 88.0,\n            'f': \"88.0\",\n        },\n{\n            'v': 3021,\n            'f': \"3021\",\n        },\n{\n            'v': 16.5,\n            'f': \"16.5\",\n        },\n\"1973-01-01 00:00:00\",\n\"USA\"],\n [{\n            'v': 108,\n            'f': \"108\",\n        },\n\"plymouth duster\",\n{\n            'v': 23.0,\n            'f': \"23.0\",\n        },\n{\n            'v': 6,\n            'f': \"6\",\n        },\n{\n            'v': 198.0,\n            'f': \"198.0\",\n        },\n{\n            'v': 95.0,\n            'f': \"95.0\",\n        },\n{\n            'v': 2904,\n            'f': \"2904\",\n        },\n{\n            'v': 16.0,\n            'f': \"16.0\",\n        },\n\"1973-01-01 00:00:00\",\n\"USA\"],\n [{\n            'v': 109,\n            'f': \"109\",\n        },\n\"volkswagen super beetle\",\n{\n            'v': 26.0,\n            'f': \"26.0\",\n        },\n{\n            'v': 4,\n            'f': \"4\",\n        },\n{\n            'v': 97.0,\n            'f': \"97.0\",\n        },\n{\n            'v': 46.0,\n            'f': \"46.0\",\n        },\n{\n            'v': 1950,\n            'f': \"1950\",\n        },\n{\n            'v': 21.0,\n            'f': \"21.0\",\n        },\n\"1973-01-01 00:00:00\",\n\"Europe\"],\n [{\n            'v': 110,\n            'f': \"110\",\n        },\n\"chevrolet impala\",\n{\n            'v': 11.0,\n            'f': \"11.0\",\n        },\n{\n            'v': 8,\n            'f': \"8\",\n        },\n{\n            'v': 400.0,\n            'f': \"400.0\",\n        },\n{\n            'v': 150.0,\n            'f': \"150.0\",\n        },\n{\n            'v': 4997,\n            'f': \"4997\",\n        },\n{\n            'v': 14.0,\n            'f': \"14.0\",\n        },\n\"1973-01-01 00:00:00\",\n\"USA\"],\n [{\n            'v': 111,\n            'f': \"111\",\n        },\n\"ford country\",\n{\n            'v': 12.0,\n            'f': \"12.0\",\n        },\n{\n            'v': 8,\n            'f': \"8\",\n        },\n{\n            'v': 400.0,\n            'f': \"400.0\",\n        },\n{\n            'v': 167.0,\n            'f': \"167.0\",\n        },\n{\n            'v': 4906,\n            'f': \"4906\",\n        },\n{\n            'v': 12.5,\n            'f': \"12.5\",\n        },\n\"1973-01-01 00:00:00\",\n\"USA\"],\n [{\n            'v': 112,\n            'f': \"112\",\n        },\n\"plymouth custom suburb\",\n{\n            'v': 13.0,\n            'f': \"13.0\",\n        },\n{\n            'v': 8,\n            'f': \"8\",\n        },\n{\n            'v': 360.0,\n            'f': \"360.0\",\n        },\n{\n            'v': 170.0,\n            'f': \"170.0\",\n        },\n{\n            'v': 4654,\n            'f': \"4654\",\n        },\n{\n            'v': 13.0,\n            'f': \"13.0\",\n        },\n\"1973-01-01 00:00:00\",\n\"USA\"],\n [{\n            'v': 113,\n            'f': \"113\",\n        },\n\"oldsmobile vista cruiser\",\n{\n            'v': 12.0,\n            'f': \"12.0\",\n        },\n{\n            'v': 8,\n            'f': \"8\",\n        },\n{\n            'v': 350.0,\n            'f': \"350.0\",\n        },\n{\n            'v': 180.0,\n            'f': \"180.0\",\n        },\n{\n            'v': 4499,\n            'f': \"4499\",\n        },\n{\n            'v': 12.5,\n            'f': \"12.5\",\n        },\n\"1973-01-01 00:00:00\",\n\"USA\"],\n [{\n            'v': 114,\n            'f': \"114\",\n        },\n\"amc gremlin\",\n{\n            'v': 18.0,\n            'f': \"18.0\",\n        },\n{\n            'v': 6,\n            'f': \"6\",\n        },\n{\n            'v': 232.0,\n            'f': \"232.0\",\n        },\n{\n            'v': 100.0,\n            'f': \"100.0\",\n        },\n{\n            'v': 2789,\n            'f': \"2789\",\n        },\n{\n            'v': 15.0,\n            'f': \"15.0\",\n        },\n\"1973-01-01 00:00:00\",\n\"USA\"],\n [{\n            'v': 115,\n            'f': \"115\",\n        },\n\"toyota carina\",\n{\n            'v': 20.0,\n            'f': \"20.0\",\n        },\n{\n            'v': 4,\n            'f': \"4\",\n        },\n{\n            'v': 97.0,\n            'f': \"97.0\",\n        },\n{\n            'v': 88.0,\n            'f': \"88.0\",\n        },\n{\n            'v': 2279,\n            'f': \"2279\",\n        },\n{\n            'v': 19.0,\n            'f': \"19.0\",\n        },\n\"1973-01-01 00:00:00\",\n\"Japan\"],\n [{\n            'v': 116,\n            'f': \"116\",\n        },\n\"chevrolet vega\",\n{\n            'v': 21.0,\n            'f': \"21.0\",\n        },\n{\n            'v': 4,\n            'f': \"4\",\n        },\n{\n            'v': 140.0,\n            'f': \"140.0\",\n        },\n{\n            'v': 72.0,\n            'f': \"72.0\",\n        },\n{\n            'v': 2401,\n            'f': \"2401\",\n        },\n{\n            'v': 19.5,\n            'f': \"19.5\",\n        },\n\"1973-01-01 00:00:00\",\n\"USA\"],\n [{\n            'v': 117,\n            'f': \"117\",\n        },\n\"datsun 610\",\n{\n            'v': 22.0,\n            'f': \"22.0\",\n        },\n{\n            'v': 4,\n            'f': \"4\",\n        },\n{\n            'v': 108.0,\n            'f': \"108.0\",\n        },\n{\n            'v': 94.0,\n            'f': \"94.0\",\n        },\n{\n            'v': 2379,\n            'f': \"2379\",\n        },\n{\n            'v': 16.5,\n            'f': \"16.5\",\n        },\n\"1973-01-01 00:00:00\",\n\"Japan\"],\n [{\n            'v': 118,\n            'f': \"118\",\n        },\n\"maxda rx3\",\n{\n            'v': 18.0,\n            'f': \"18.0\",\n        },\n{\n            'v': 3,\n            'f': \"3\",\n        },\n{\n            'v': 70.0,\n            'f': \"70.0\",\n        },\n{\n            'v': 90.0,\n            'f': \"90.0\",\n        },\n{\n            'v': 2124,\n            'f': \"2124\",\n        },\n{\n            'v': 13.5,\n            'f': \"13.5\",\n        },\n\"1973-01-01 00:00:00\",\n\"Japan\"],\n [{\n            'v': 119,\n            'f': \"119\",\n        },\n\"ford pinto\",\n{\n            'v': 19.0,\n            'f': \"19.0\",\n        },\n{\n            'v': 4,\n            'f': \"4\",\n        },\n{\n            'v': 122.0,\n            'f': \"122.0\",\n        },\n{\n            'v': 85.0,\n            'f': \"85.0\",\n        },\n{\n            'v': 2310,\n            'f': \"2310\",\n        },\n{\n            'v': 18.5,\n            'f': \"18.5\",\n        },\n\"1973-01-01 00:00:00\",\n\"USA\"],\n [{\n            'v': 120,\n            'f': \"120\",\n        },\n\"mercury capri v6\",\n{\n            'v': 21.0,\n            'f': \"21.0\",\n        },\n{\n            'v': 6,\n            'f': \"6\",\n        },\n{\n            'v': 155.0,\n            'f': \"155.0\",\n        },\n{\n            'v': 107.0,\n            'f': \"107.0\",\n        },\n{\n            'v': 2472,\n            'f': \"2472\",\n        },\n{\n            'v': 14.0,\n            'f': \"14.0\",\n        },\n\"1973-01-01 00:00:00\",\n\"USA\"],\n [{\n            'v': 121,\n            'f': \"121\",\n        },\n\"fiat 124 sport coupe\",\n{\n            'v': 26.0,\n            'f': \"26.0\",\n        },\n{\n            'v': 4,\n            'f': \"4\",\n        },\n{\n            'v': 98.0,\n            'f': \"98.0\",\n        },\n{\n            'v': 90.0,\n            'f': \"90.0\",\n        },\n{\n            'v': 2265,\n            'f': \"2265\",\n        },\n{\n            'v': 15.5,\n            'f': \"15.5\",\n        },\n\"1973-01-01 00:00:00\",\n\"Europe\"],\n [{\n            'v': 122,\n            'f': \"122\",\n        },\n\"chevrolet monte carlo s\",\n{\n            'v': 15.0,\n            'f': \"15.0\",\n        },\n{\n            'v': 8,\n            'f': \"8\",\n        },\n{\n            'v': 350.0,\n            'f': \"350.0\",\n        },\n{\n            'v': 145.0,\n            'f': \"145.0\",\n        },\n{\n            'v': 4082,\n            'f': \"4082\",\n        },\n{\n            'v': 13.0,\n            'f': \"13.0\",\n        },\n\"1973-01-01 00:00:00\",\n\"USA\"],\n [{\n            'v': 123,\n            'f': \"123\",\n        },\n\"pontiac grand prix\",\n{\n            'v': 16.0,\n            'f': \"16.0\",\n        },\n{\n            'v': 8,\n            'f': \"8\",\n        },\n{\n            'v': 400.0,\n            'f': \"400.0\",\n        },\n{\n            'v': 230.0,\n            'f': \"230.0\",\n        },\n{\n            'v': 4278,\n            'f': \"4278\",\n        },\n{\n            'v': 9.5,\n            'f': \"9.5\",\n        },\n\"1973-01-01 00:00:00\",\n\"USA\"],\n [{\n            'v': 124,\n            'f': \"124\",\n        },\n\"fiat 128\",\n{\n            'v': 29.0,\n            'f': \"29.0\",\n        },\n{\n            'v': 4,\n            'f': \"4\",\n        },\n{\n            'v': 68.0,\n            'f': \"68.0\",\n        },\n{\n            'v': 49.0,\n            'f': \"49.0\",\n        },\n{\n            'v': 1867,\n            'f': \"1867\",\n        },\n{\n            'v': 19.5,\n            'f': \"19.5\",\n        },\n\"1973-01-01 00:00:00\",\n\"Europe\"],\n [{\n            'v': 125,\n            'f': \"125\",\n        },\n\"opel manta\",\n{\n            'v': 24.0,\n            'f': \"24.0\",\n        },\n{\n            'v': 4,\n            'f': \"4\",\n        },\n{\n            'v': 116.0,\n            'f': \"116.0\",\n        },\n{\n            'v': 75.0,\n            'f': \"75.0\",\n        },\n{\n            'v': 2158,\n            'f': \"2158\",\n        },\n{\n            'v': 15.5,\n            'f': \"15.5\",\n        },\n\"1973-01-01 00:00:00\",\n\"Europe\"],\n [{\n            'v': 126,\n            'f': \"126\",\n        },\n\"audi 100ls\",\n{\n            'v': 20.0,\n            'f': \"20.0\",\n        },\n{\n            'v': 4,\n            'f': \"4\",\n        },\n{\n            'v': 114.0,\n            'f': \"114.0\",\n        },\n{\n            'v': 91.0,\n            'f': \"91.0\",\n        },\n{\n            'v': 2582,\n            'f': \"2582\",\n        },\n{\n            'v': 14.0,\n            'f': \"14.0\",\n        },\n\"1973-01-01 00:00:00\",\n\"Europe\"],\n [{\n            'v': 127,\n            'f': \"127\",\n        },\n\"volvo 144ea\",\n{\n            'v': 19.0,\n            'f': \"19.0\",\n        },\n{\n            'v': 4,\n            'f': \"4\",\n        },\n{\n            'v': 121.0,\n            'f': \"121.0\",\n        },\n{\n            'v': 112.0,\n            'f': \"112.0\",\n        },\n{\n            'v': 2868,\n            'f': \"2868\",\n        },\n{\n            'v': 15.5,\n            'f': \"15.5\",\n        },\n\"1973-01-01 00:00:00\",\n\"Europe\"],\n [{\n            'v': 128,\n            'f': \"128\",\n        },\n\"dodge dart custom\",\n{\n            'v': 15.0,\n            'f': \"15.0\",\n        },\n{\n            'v': 8,\n            'f': \"8\",\n        },\n{\n            'v': 318.0,\n            'f': \"318.0\",\n        },\n{\n            'v': 150.0,\n            'f': \"150.0\",\n        },\n{\n            'v': 3399,\n            'f': \"3399\",\n        },\n{\n            'v': 11.0,\n            'f': \"11.0\",\n        },\n\"1973-01-01 00:00:00\",\n\"USA\"],\n [{\n            'v': 129,\n            'f': \"129\",\n        },\n\"saab 99le\",\n{\n            'v': 24.0,\n            'f': \"24.0\",\n        },\n{\n            'v': 4,\n            'f': \"4\",\n        },\n{\n            'v': 121.0,\n            'f': \"121.0\",\n        },\n{\n            'v': 110.0,\n            'f': \"110.0\",\n        },\n{\n            'v': 2660,\n            'f': \"2660\",\n        },\n{\n            'v': 14.0,\n            'f': \"14.0\",\n        },\n\"1973-01-01 00:00:00\",\n\"Europe\"],\n [{\n            'v': 130,\n            'f': \"130\",\n        },\n\"toyota mark ii\",\n{\n            'v': 20.0,\n            'f': \"20.0\",\n        },\n{\n            'v': 6,\n            'f': \"6\",\n        },\n{\n            'v': 156.0,\n            'f': \"156.0\",\n        },\n{\n            'v': 122.0,\n            'f': \"122.0\",\n        },\n{\n            'v': 2807,\n            'f': \"2807\",\n        },\n{\n            'v': 13.5,\n            'f': \"13.5\",\n        },\n\"1973-01-01 00:00:00\",\n\"Japan\"],\n [{\n            'v': 131,\n            'f': \"131\",\n        },\n\"oldsmobile omega\",\n{\n            'v': 11.0,\n            'f': \"11.0\",\n        },\n{\n            'v': 8,\n            'f': \"8\",\n        },\n{\n            'v': 350.0,\n            'f': \"350.0\",\n        },\n{\n            'v': 180.0,\n            'f': \"180.0\",\n        },\n{\n            'v': 3664,\n            'f': \"3664\",\n        },\n{\n            'v': 11.0,\n            'f': \"11.0\",\n        },\n\"1973-01-01 00:00:00\",\n\"USA\"],\n [{\n            'v': 132,\n            'f': \"132\",\n        },\n\"plymouth duster\",\n{\n            'v': 20.0,\n            'f': \"20.0\",\n        },\n{\n            'v': 6,\n            'f': \"6\",\n        },\n{\n            'v': 198.0,\n            'f': \"198.0\",\n        },\n{\n            'v': 95.0,\n            'f': \"95.0\",\n        },\n{\n            'v': 3102,\n            'f': \"3102\",\n        },\n{\n            'v': 16.5,\n            'f': \"16.5\",\n        },\n\"1974-01-01 00:00:00\",\n\"USA\"],\n [{\n            'v': 133,\n            'f': \"133\",\n        },\n\"ford maverick\",\n{\n            'v': 21.0,\n            'f': \"21.0\",\n        },\n{\n            'v': 6,\n            'f': \"6\",\n        },\n{\n            'v': 200.0,\n            'f': \"200.0\",\n        },\n{\n            'v': NaN,\n            'f': \"NaN\",\n        },\n{\n            'v': 2875,\n            'f': \"2875\",\n        },\n{\n            'v': 17.0,\n            'f': \"17.0\",\n        },\n\"1974-01-01 00:00:00\",\n\"USA\"],\n [{\n            'v': 134,\n            'f': \"134\",\n        },\n\"amc hornet\",\n{\n            'v': 19.0,\n            'f': \"19.0\",\n        },\n{\n            'v': 6,\n            'f': \"6\",\n        },\n{\n            'v': 232.0,\n            'f': \"232.0\",\n        },\n{\n            'v': 100.0,\n            'f': \"100.0\",\n        },\n{\n            'v': 2901,\n            'f': \"2901\",\n        },\n{\n            'v': 16.0,\n            'f': \"16.0\",\n        },\n\"1974-01-01 00:00:00\",\n\"USA\"],\n [{\n            'v': 135,\n            'f': \"135\",\n        },\n\"chevrolet nova\",\n{\n            'v': 15.0,\n            'f': \"15.0\",\n        },\n{\n            'v': 6,\n            'f': \"6\",\n        },\n{\n            'v': 250.0,\n            'f': \"250.0\",\n        },\n{\n            'v': 100.0,\n            'f': \"100.0\",\n        },\n{\n            'v': 3336,\n            'f': \"3336\",\n        },\n{\n            'v': 17.0,\n            'f': \"17.0\",\n        },\n\"1974-01-01 00:00:00\",\n\"USA\"],\n [{\n            'v': 136,\n            'f': \"136\",\n        },\n\"datsun b210\",\n{\n            'v': 31.0,\n            'f': \"31.0\",\n        },\n{\n            'v': 4,\n            'f': \"4\",\n        },\n{\n            'v': 79.0,\n            'f': \"79.0\",\n        },\n{\n            'v': 67.0,\n            'f': \"67.0\",\n        },\n{\n            'v': 1950,\n            'f': \"1950\",\n        },\n{\n            'v': 19.0,\n            'f': \"19.0\",\n        },\n\"1974-01-01 00:00:00\",\n\"Japan\"],\n [{\n            'v': 137,\n            'f': \"137\",\n        },\n\"ford pinto\",\n{\n            'v': 26.0,\n            'f': \"26.0\",\n        },\n{\n            'v': 4,\n            'f': \"4\",\n        },\n{\n            'v': 122.0,\n            'f': \"122.0\",\n        },\n{\n            'v': 80.0,\n            'f': \"80.0\",\n        },\n{\n            'v': 2451,\n            'f': \"2451\",\n        },\n{\n            'v': 16.5,\n            'f': \"16.5\",\n        },\n\"1974-01-01 00:00:00\",\n\"USA\"],\n [{\n            'v': 138,\n            'f': \"138\",\n        },\n\"toyota corolla 1200\",\n{\n            'v': 32.0,\n            'f': \"32.0\",\n        },\n{\n            'v': 4,\n            'f': \"4\",\n        },\n{\n            'v': 71.0,\n            'f': \"71.0\",\n        },\n{\n            'v': 65.0,\n            'f': \"65.0\",\n        },\n{\n            'v': 1836,\n            'f': \"1836\",\n        },\n{\n            'v': 21.0,\n            'f': \"21.0\",\n        },\n\"1974-01-01 00:00:00\",\n\"Japan\"],\n [{\n            'v': 139,\n            'f': \"139\",\n        },\n\"chevrolet vega\",\n{\n            'v': 25.0,\n            'f': \"25.0\",\n        },\n{\n            'v': 4,\n            'f': \"4\",\n        },\n{\n            'v': 140.0,\n            'f': \"140.0\",\n        },\n{\n            'v': 75.0,\n            'f': \"75.0\",\n        },\n{\n            'v': 2542,\n            'f': \"2542\",\n        },\n{\n            'v': 17.0,\n            'f': \"17.0\",\n        },\n\"1974-01-01 00:00:00\",\n\"USA\"],\n [{\n            'v': 140,\n            'f': \"140\",\n        },\n\"chevrolet chevelle malibu classic\",\n{\n            'v': 16.0,\n            'f': \"16.0\",\n        },\n{\n            'v': 6,\n            'f': \"6\",\n        },\n{\n            'v': 250.0,\n            'f': \"250.0\",\n        },\n{\n            'v': 100.0,\n            'f': \"100.0\",\n        },\n{\n            'v': 3781,\n            'f': \"3781\",\n        },\n{\n            'v': 17.0,\n            'f': \"17.0\",\n        },\n\"1974-01-01 00:00:00\",\n\"USA\"],\n [{\n            'v': 141,\n            'f': \"141\",\n        },\n\"amc matador\",\n{\n            'v': 16.0,\n            'f': \"16.0\",\n        },\n{\n            'v': 6,\n            'f': \"6\",\n        },\n{\n            'v': 258.0,\n            'f': \"258.0\",\n        },\n{\n            'v': 110.0,\n            'f': \"110.0\",\n        },\n{\n            'v': 3632,\n            'f': \"3632\",\n        },\n{\n            'v': 18.0,\n            'f': \"18.0\",\n        },\n\"1974-01-01 00:00:00\",\n\"USA\"],\n [{\n            'v': 142,\n            'f': \"142\",\n        },\n\"plymouth satellite sebring\",\n{\n            'v': 18.0,\n            'f': \"18.0\",\n        },\n{\n            'v': 6,\n            'f': \"6\",\n        },\n{\n            'v': 225.0,\n            'f': \"225.0\",\n        },\n{\n            'v': 105.0,\n            'f': \"105.0\",\n        },\n{\n            'v': 3613,\n            'f': \"3613\",\n        },\n{\n            'v': 16.5,\n            'f': \"16.5\",\n        },\n\"1974-01-01 00:00:00\",\n\"USA\"],\n [{\n            'v': 143,\n            'f': \"143\",\n        },\n\"ford gran torino\",\n{\n            'v': 16.0,\n            'f': \"16.0\",\n        },\n{\n            'v': 8,\n            'f': \"8\",\n        },\n{\n            'v': 302.0,\n            'f': \"302.0\",\n        },\n{\n            'v': 140.0,\n            'f': \"140.0\",\n        },\n{\n            'v': 4141,\n            'f': \"4141\",\n        },\n{\n            'v': 14.0,\n            'f': \"14.0\",\n        },\n\"1974-01-01 00:00:00\",\n\"USA\"],\n [{\n            'v': 144,\n            'f': \"144\",\n        },\n\"buick century luxus (sw)\",\n{\n            'v': 13.0,\n            'f': \"13.0\",\n        },\n{\n            'v': 8,\n            'f': \"8\",\n        },\n{\n            'v': 350.0,\n            'f': \"350.0\",\n        },\n{\n            'v': 150.0,\n            'f': \"150.0\",\n        },\n{\n            'v': 4699,\n            'f': \"4699\",\n        },\n{\n            'v': 14.5,\n            'f': \"14.5\",\n        },\n\"1974-01-01 00:00:00\",\n\"USA\"],\n [{\n            'v': 145,\n            'f': \"145\",\n        },\n\"dodge coronet custom (sw)\",\n{\n            'v': 14.0,\n            'f': \"14.0\",\n        },\n{\n            'v': 8,\n            'f': \"8\",\n        },\n{\n            'v': 318.0,\n            'f': \"318.0\",\n        },\n{\n            'v': 150.0,\n            'f': \"150.0\",\n        },\n{\n            'v': 4457,\n            'f': \"4457\",\n        },\n{\n            'v': 13.5,\n            'f': \"13.5\",\n        },\n\"1974-01-01 00:00:00\",\n\"USA\"],\n [{\n            'v': 146,\n            'f': \"146\",\n        },\n\"ford gran torino (sw)\",\n{\n            'v': 14.0,\n            'f': \"14.0\",\n        },\n{\n            'v': 8,\n            'f': \"8\",\n        },\n{\n            'v': 302.0,\n            'f': \"302.0\",\n        },\n{\n            'v': 140.0,\n            'f': \"140.0\",\n        },\n{\n            'v': 4638,\n            'f': \"4638\",\n        },\n{\n            'v': 16.0,\n            'f': \"16.0\",\n        },\n\"1974-01-01 00:00:00\",\n\"USA\"],\n [{\n            'v': 147,\n            'f': \"147\",\n        },\n\"amc matador (sw)\",\n{\n            'v': 14.0,\n            'f': \"14.0\",\n        },\n{\n            'v': 8,\n            'f': \"8\",\n        },\n{\n            'v': 304.0,\n            'f': \"304.0\",\n        },\n{\n            'v': 150.0,\n            'f': \"150.0\",\n        },\n{\n            'v': 4257,\n            'f': \"4257\",\n        },\n{\n            'v': 15.5,\n            'f': \"15.5\",\n        },\n\"1974-01-01 00:00:00\",\n\"USA\"],\n [{\n            'v': 148,\n            'f': \"148\",\n        },\n\"audi fox\",\n{\n            'v': 29.0,\n            'f': \"29.0\",\n        },\n{\n            'v': 4,\n            'f': \"4\",\n        },\n{\n            'v': 98.0,\n            'f': \"98.0\",\n        },\n{\n            'v': 83.0,\n            'f': \"83.0\",\n        },\n{\n            'v': 2219,\n            'f': \"2219\",\n        },\n{\n            'v': 16.5,\n            'f': \"16.5\",\n        },\n\"1974-01-01 00:00:00\",\n\"Europe\"],\n [{\n            'v': 149,\n            'f': \"149\",\n        },\n\"volkswagen dasher\",\n{\n            'v': 26.0,\n            'f': \"26.0\",\n        },\n{\n            'v': 4,\n            'f': \"4\",\n        },\n{\n            'v': 79.0,\n            'f': \"79.0\",\n        },\n{\n            'v': 67.0,\n            'f': \"67.0\",\n        },\n{\n            'v': 1963,\n            'f': \"1963\",\n        },\n{\n            'v': 15.5,\n            'f': \"15.5\",\n        },\n\"1974-01-01 00:00:00\",\n\"Europe\"],\n [{\n            'v': 150,\n            'f': \"150\",\n        },\n\"opel manta\",\n{\n            'v': 26.0,\n            'f': \"26.0\",\n        },\n{\n            'v': 4,\n            'f': \"4\",\n        },\n{\n            'v': 97.0,\n            'f': \"97.0\",\n        },\n{\n            'v': 78.0,\n            'f': \"78.0\",\n        },\n{\n            'v': 2300,\n            'f': \"2300\",\n        },\n{\n            'v': 14.5,\n            'f': \"14.5\",\n        },\n\"1974-01-01 00:00:00\",\n\"Europe\"],\n [{\n            'v': 151,\n            'f': \"151\",\n        },\n\"toyota corona\",\n{\n            'v': 31.0,\n            'f': \"31.0\",\n        },\n{\n            'v': 4,\n            'f': \"4\",\n        },\n{\n            'v': 76.0,\n            'f': \"76.0\",\n        },\n{\n            'v': 52.0,\n            'f': \"52.0\",\n        },\n{\n            'v': 1649,\n            'f': \"1649\",\n        },\n{\n            'v': 16.5,\n            'f': \"16.5\",\n        },\n\"1974-01-01 00:00:00\",\n\"Japan\"],\n [{\n            'v': 152,\n            'f': \"152\",\n        },\n\"datsun 710\",\n{\n            'v': 32.0,\n            'f': \"32.0\",\n        },\n{\n            'v': 4,\n            'f': \"4\",\n        },\n{\n            'v': 83.0,\n            'f': \"83.0\",\n        },\n{\n            'v': 61.0,\n            'f': \"61.0\",\n        },\n{\n            'v': 2003,\n            'f': \"2003\",\n        },\n{\n            'v': 19.0,\n            'f': \"19.0\",\n        },\n\"1974-01-01 00:00:00\",\n\"Japan\"],\n [{\n            'v': 153,\n            'f': \"153\",\n        },\n\"dodge colt\",\n{\n            'v': 28.0,\n            'f': \"28.0\",\n        },\n{\n            'v': 4,\n            'f': \"4\",\n        },\n{\n            'v': 90.0,\n            'f': \"90.0\",\n        },\n{\n            'v': 75.0,\n            'f': \"75.0\",\n        },\n{\n            'v': 2125,\n            'f': \"2125\",\n        },\n{\n            'v': 14.5,\n            'f': \"14.5\",\n        },\n\"1974-01-01 00:00:00\",\n\"USA\"],\n [{\n            'v': 154,\n            'f': \"154\",\n        },\n\"fiat 128\",\n{\n            'v': 24.0,\n            'f': \"24.0\",\n        },\n{\n            'v': 4,\n            'f': \"4\",\n        },\n{\n            'v': 90.0,\n            'f': \"90.0\",\n        },\n{\n            'v': 75.0,\n            'f': \"75.0\",\n        },\n{\n            'v': 2108,\n            'f': \"2108\",\n        },\n{\n            'v': 15.5,\n            'f': \"15.5\",\n        },\n\"1974-01-01 00:00:00\",\n\"Europe\"],\n [{\n            'v': 155,\n            'f': \"155\",\n        },\n\"fiat 124 tc\",\n{\n            'v': 26.0,\n            'f': \"26.0\",\n        },\n{\n            'v': 4,\n            'f': \"4\",\n        },\n{\n            'v': 116.0,\n            'f': \"116.0\",\n        },\n{\n            'v': 75.0,\n            'f': \"75.0\",\n        },\n{\n            'v': 2246,\n            'f': \"2246\",\n        },\n{\n            'v': 14.0,\n            'f': \"14.0\",\n        },\n\"1974-01-01 00:00:00\",\n\"Europe\"],\n [{\n            'v': 156,\n            'f': \"156\",\n        },\n\"honda civic\",\n{\n            'v': 24.0,\n            'f': \"24.0\",\n        },\n{\n            'v': 4,\n            'f': \"4\",\n        },\n{\n            'v': 120.0,\n            'f': \"120.0\",\n        },\n{\n            'v': 97.0,\n            'f': \"97.0\",\n        },\n{\n            'v': 2489,\n            'f': \"2489\",\n        },\n{\n            'v': 15.0,\n            'f': \"15.0\",\n        },\n\"1974-01-01 00:00:00\",\n\"Japan\"],\n [{\n            'v': 157,\n            'f': \"157\",\n        },\n\"subaru\",\n{\n            'v': 26.0,\n            'f': \"26.0\",\n        },\n{\n            'v': 4,\n            'f': \"4\",\n        },\n{\n            'v': 108.0,\n            'f': \"108.0\",\n        },\n{\n            'v': 93.0,\n            'f': \"93.0\",\n        },\n{\n            'v': 2391,\n            'f': \"2391\",\n        },\n{\n            'v': 15.5,\n            'f': \"15.5\",\n        },\n\"1974-01-01 00:00:00\",\n\"Japan\"],\n [{\n            'v': 158,\n            'f': \"158\",\n        },\n\"fiat x1.9\",\n{\n            'v': 31.0,\n            'f': \"31.0\",\n        },\n{\n            'v': 4,\n            'f': \"4\",\n        },\n{\n            'v': 79.0,\n            'f': \"79.0\",\n        },\n{\n            'v': 67.0,\n            'f': \"67.0\",\n        },\n{\n            'v': 2000,\n            'f': \"2000\",\n        },\n{\n            'v': 16.0,\n            'f': \"16.0\",\n        },\n\"1974-01-01 00:00:00\",\n\"Europe\"],\n [{\n            'v': 159,\n            'f': \"159\",\n        },\n\"plymouth valiant custom\",\n{\n            'v': 19.0,\n            'f': \"19.0\",\n        },\n{\n            'v': 6,\n            'f': \"6\",\n        },\n{\n            'v': 225.0,\n            'f': \"225.0\",\n        },\n{\n            'v': 95.0,\n            'f': \"95.0\",\n        },\n{\n            'v': 3264,\n            'f': \"3264\",\n        },\n{\n            'v': 16.0,\n            'f': \"16.0\",\n        },\n\"1975-01-01 00:00:00\",\n\"USA\"],\n [{\n            'v': 160,\n            'f': \"160\",\n        },\n\"chevrolet nova\",\n{\n            'v': 18.0,\n            'f': \"18.0\",\n        },\n{\n            'v': 6,\n            'f': \"6\",\n        },\n{\n            'v': 250.0,\n            'f': \"250.0\",\n        },\n{\n            'v': 105.0,\n            'f': \"105.0\",\n        },\n{\n            'v': 3459,\n            'f': \"3459\",\n        },\n{\n            'v': 16.0,\n            'f': \"16.0\",\n        },\n\"1975-01-01 00:00:00\",\n\"USA\"],\n [{\n            'v': 161,\n            'f': \"161\",\n        },\n\"mercury monarch\",\n{\n            'v': 15.0,\n            'f': \"15.0\",\n        },\n{\n            'v': 6,\n            'f': \"6\",\n        },\n{\n            'v': 250.0,\n            'f': \"250.0\",\n        },\n{\n            'v': 72.0,\n            'f': \"72.0\",\n        },\n{\n            'v': 3432,\n            'f': \"3432\",\n        },\n{\n            'v': 21.0,\n            'f': \"21.0\",\n        },\n\"1975-01-01 00:00:00\",\n\"USA\"],\n [{\n            'v': 162,\n            'f': \"162\",\n        },\n\"ford maverick\",\n{\n            'v': 15.0,\n            'f': \"15.0\",\n        },\n{\n            'v': 6,\n            'f': \"6\",\n        },\n{\n            'v': 250.0,\n            'f': \"250.0\",\n        },\n{\n            'v': 72.0,\n            'f': \"72.0\",\n        },\n{\n            'v': 3158,\n            'f': \"3158\",\n        },\n{\n            'v': 19.5,\n            'f': \"19.5\",\n        },\n\"1975-01-01 00:00:00\",\n\"USA\"],\n [{\n            'v': 163,\n            'f': \"163\",\n        },\n\"pontiac catalina\",\n{\n            'v': 16.0,\n            'f': \"16.0\",\n        },\n{\n            'v': 8,\n            'f': \"8\",\n        },\n{\n            'v': 400.0,\n            'f': \"400.0\",\n        },\n{\n            'v': 170.0,\n            'f': \"170.0\",\n        },\n{\n            'v': 4668,\n            'f': \"4668\",\n        },\n{\n            'v': 11.5,\n            'f': \"11.5\",\n        },\n\"1975-01-01 00:00:00\",\n\"USA\"],\n [{\n            'v': 164,\n            'f': \"164\",\n        },\n\"chevrolet bel air\",\n{\n            'v': 15.0,\n            'f': \"15.0\",\n        },\n{\n            'v': 8,\n            'f': \"8\",\n        },\n{\n            'v': 350.0,\n            'f': \"350.0\",\n        },\n{\n            'v': 145.0,\n            'f': \"145.0\",\n        },\n{\n            'v': 4440,\n            'f': \"4440\",\n        },\n{\n            'v': 14.0,\n            'f': \"14.0\",\n        },\n\"1975-01-01 00:00:00\",\n\"USA\"],\n [{\n            'v': 165,\n            'f': \"165\",\n        },\n\"plymouth grand fury\",\n{\n            'v': 16.0,\n            'f': \"16.0\",\n        },\n{\n            'v': 8,\n            'f': \"8\",\n        },\n{\n            'v': 318.0,\n            'f': \"318.0\",\n        },\n{\n            'v': 150.0,\n            'f': \"150.0\",\n        },\n{\n            'v': 4498,\n            'f': \"4498\",\n        },\n{\n            'v': 14.5,\n            'f': \"14.5\",\n        },\n\"1975-01-01 00:00:00\",\n\"USA\"],\n [{\n            'v': 166,\n            'f': \"166\",\n        },\n\"ford ltd\",\n{\n            'v': 14.0,\n            'f': \"14.0\",\n        },\n{\n            'v': 8,\n            'f': \"8\",\n        },\n{\n            'v': 351.0,\n            'f': \"351.0\",\n        },\n{\n            'v': 148.0,\n            'f': \"148.0\",\n        },\n{\n            'v': 4657,\n            'f': \"4657\",\n        },\n{\n            'v': 13.5,\n            'f': \"13.5\",\n        },\n\"1975-01-01 00:00:00\",\n\"USA\"],\n [{\n            'v': 167,\n            'f': \"167\",\n        },\n\"buick century\",\n{\n            'v': 17.0,\n            'f': \"17.0\",\n        },\n{\n            'v': 6,\n            'f': \"6\",\n        },\n{\n            'v': 231.0,\n            'f': \"231.0\",\n        },\n{\n            'v': 110.0,\n            'f': \"110.0\",\n        },\n{\n            'v': 3907,\n            'f': \"3907\",\n        },\n{\n            'v': 21.0,\n            'f': \"21.0\",\n        },\n\"1975-01-01 00:00:00\",\n\"USA\"],\n [{\n            'v': 168,\n            'f': \"168\",\n        },\n\"chevroelt chevelle malibu\",\n{\n            'v': 16.0,\n            'f': \"16.0\",\n        },\n{\n            'v': 6,\n            'f': \"6\",\n        },\n{\n            'v': 250.0,\n            'f': \"250.0\",\n        },\n{\n            'v': 105.0,\n            'f': \"105.0\",\n        },\n{\n            'v': 3897,\n            'f': \"3897\",\n        },\n{\n            'v': 18.5,\n            'f': \"18.5\",\n        },\n\"1975-01-01 00:00:00\",\n\"USA\"],\n [{\n            'v': 169,\n            'f': \"169\",\n        },\n\"amc matador\",\n{\n            'v': 15.0,\n            'f': \"15.0\",\n        },\n{\n            'v': 6,\n            'f': \"6\",\n        },\n{\n            'v': 258.0,\n            'f': \"258.0\",\n        },\n{\n            'v': 110.0,\n            'f': \"110.0\",\n        },\n{\n            'v': 3730,\n            'f': \"3730\",\n        },\n{\n            'v': 19.0,\n            'f': \"19.0\",\n        },\n\"1975-01-01 00:00:00\",\n\"USA\"],\n [{\n            'v': 170,\n            'f': \"170\",\n        },\n\"plymouth fury\",\n{\n            'v': 18.0,\n            'f': \"18.0\",\n        },\n{\n            'v': 6,\n            'f': \"6\",\n        },\n{\n            'v': 225.0,\n            'f': \"225.0\",\n        },\n{\n            'v': 95.0,\n            'f': \"95.0\",\n        },\n{\n            'v': 3785,\n            'f': \"3785\",\n        },\n{\n            'v': 19.0,\n            'f': \"19.0\",\n        },\n\"1975-01-01 00:00:00\",\n\"USA\"],\n [{\n            'v': 171,\n            'f': \"171\",\n        },\n\"buick skyhawk\",\n{\n            'v': 21.0,\n            'f': \"21.0\",\n        },\n{\n            'v': 6,\n            'f': \"6\",\n        },\n{\n            'v': 231.0,\n            'f': \"231.0\",\n        },\n{\n            'v': 110.0,\n            'f': \"110.0\",\n        },\n{\n            'v': 3039,\n            'f': \"3039\",\n        },\n{\n            'v': 15.0,\n            'f': \"15.0\",\n        },\n\"1975-01-01 00:00:00\",\n\"USA\"],\n [{\n            'v': 172,\n            'f': \"172\",\n        },\n\"chevrolet monza 2+2\",\n{\n            'v': 20.0,\n            'f': \"20.0\",\n        },\n{\n            'v': 8,\n            'f': \"8\",\n        },\n{\n            'v': 262.0,\n            'f': \"262.0\",\n        },\n{\n            'v': 110.0,\n            'f': \"110.0\",\n        },\n{\n            'v': 3221,\n            'f': \"3221\",\n        },\n{\n            'v': 13.5,\n            'f': \"13.5\",\n        },\n\"1975-01-01 00:00:00\",\n\"USA\"],\n [{\n            'v': 173,\n            'f': \"173\",\n        },\n\"ford mustang ii\",\n{\n            'v': 13.0,\n            'f': \"13.0\",\n        },\n{\n            'v': 8,\n            'f': \"8\",\n        },\n{\n            'v': 302.0,\n            'f': \"302.0\",\n        },\n{\n            'v': 129.0,\n            'f': \"129.0\",\n        },\n{\n            'v': 3169,\n            'f': \"3169\",\n        },\n{\n            'v': 12.0,\n            'f': \"12.0\",\n        },\n\"1975-01-01 00:00:00\",\n\"USA\"],\n [{\n            'v': 174,\n            'f': \"174\",\n        },\n\"toyota corolla\",\n{\n            'v': 29.0,\n            'f': \"29.0\",\n        },\n{\n            'v': 4,\n            'f': \"4\",\n        },\n{\n            'v': 97.0,\n            'f': \"97.0\",\n        },\n{\n            'v': 75.0,\n            'f': \"75.0\",\n        },\n{\n            'v': 2171,\n            'f': \"2171\",\n        },\n{\n            'v': 16.0,\n            'f': \"16.0\",\n        },\n\"1975-01-01 00:00:00\",\n\"Japan\"],\n [{\n            'v': 175,\n            'f': \"175\",\n        },\n\"ford pinto\",\n{\n            'v': 23.0,\n            'f': \"23.0\",\n        },\n{\n            'v': 4,\n            'f': \"4\",\n        },\n{\n            'v': 140.0,\n            'f': \"140.0\",\n        },\n{\n            'v': 83.0,\n            'f': \"83.0\",\n        },\n{\n            'v': 2639,\n            'f': \"2639\",\n        },\n{\n            'v': 17.0,\n            'f': \"17.0\",\n        },\n\"1975-01-01 00:00:00\",\n\"USA\"],\n [{\n            'v': 176,\n            'f': \"176\",\n        },\n\"amc gremlin\",\n{\n            'v': 20.0,\n            'f': \"20.0\",\n        },\n{\n            'v': 6,\n            'f': \"6\",\n        },\n{\n            'v': 232.0,\n            'f': \"232.0\",\n        },\n{\n            'v': 100.0,\n            'f': \"100.0\",\n        },\n{\n            'v': 2914,\n            'f': \"2914\",\n        },\n{\n            'v': 16.0,\n            'f': \"16.0\",\n        },\n\"1975-01-01 00:00:00\",\n\"USA\"],\n [{\n            'v': 177,\n            'f': \"177\",\n        },\n\"pontiac astro\",\n{\n            'v': 23.0,\n            'f': \"23.0\",\n        },\n{\n            'v': 4,\n            'f': \"4\",\n        },\n{\n            'v': 140.0,\n            'f': \"140.0\",\n        },\n{\n            'v': 78.0,\n            'f': \"78.0\",\n        },\n{\n            'v': 2592,\n            'f': \"2592\",\n        },\n{\n            'v': 18.5,\n            'f': \"18.5\",\n        },\n\"1975-01-01 00:00:00\",\n\"USA\"],\n [{\n            'v': 178,\n            'f': \"178\",\n        },\n\"toyota corona\",\n{\n            'v': 24.0,\n            'f': \"24.0\",\n        },\n{\n            'v': 4,\n            'f': \"4\",\n        },\n{\n            'v': 134.0,\n            'f': \"134.0\",\n        },\n{\n            'v': 96.0,\n            'f': \"96.0\",\n        },\n{\n            'v': 2702,\n            'f': \"2702\",\n        },\n{\n            'v': 13.5,\n            'f': \"13.5\",\n        },\n\"1975-01-01 00:00:00\",\n\"Japan\"],\n [{\n            'v': 179,\n            'f': \"179\",\n        },\n\"volkswagen dasher\",\n{\n            'v': 25.0,\n            'f': \"25.0\",\n        },\n{\n            'v': 4,\n            'f': \"4\",\n        },\n{\n            'v': 90.0,\n            'f': \"90.0\",\n        },\n{\n            'v': 71.0,\n            'f': \"71.0\",\n        },\n{\n            'v': 2223,\n            'f': \"2223\",\n        },\n{\n            'v': 16.5,\n            'f': \"16.5\",\n        },\n\"1975-01-01 00:00:00\",\n\"Europe\"],\n [{\n            'v': 180,\n            'f': \"180\",\n        },\n\"datsun 710\",\n{\n            'v': 24.0,\n            'f': \"24.0\",\n        },\n{\n            'v': 4,\n            'f': \"4\",\n        },\n{\n            'v': 119.0,\n            'f': \"119.0\",\n        },\n{\n            'v': 97.0,\n            'f': \"97.0\",\n        },\n{\n            'v': 2545,\n            'f': \"2545\",\n        },\n{\n            'v': 17.0,\n            'f': \"17.0\",\n        },\n\"1975-01-01 00:00:00\",\n\"Japan\"],\n [{\n            'v': 181,\n            'f': \"181\",\n        },\n\"ford pinto\",\n{\n            'v': 18.0,\n            'f': \"18.0\",\n        },\n{\n            'v': 6,\n            'f': \"6\",\n        },\n{\n            'v': 171.0,\n            'f': \"171.0\",\n        },\n{\n            'v': 97.0,\n            'f': \"97.0\",\n        },\n{\n            'v': 2984,\n            'f': \"2984\",\n        },\n{\n            'v': 14.5,\n            'f': \"14.5\",\n        },\n\"1975-01-01 00:00:00\",\n\"USA\"],\n [{\n            'v': 182,\n            'f': \"182\",\n        },\n\"volkswagen rabbit\",\n{\n            'v': 29.0,\n            'f': \"29.0\",\n        },\n{\n            'v': 4,\n            'f': \"4\",\n        },\n{\n            'v': 90.0,\n            'f': \"90.0\",\n        },\n{\n            'v': 70.0,\n            'f': \"70.0\",\n        },\n{\n            'v': 1937,\n            'f': \"1937\",\n        },\n{\n            'v': 14.0,\n            'f': \"14.0\",\n        },\n\"1975-01-01 00:00:00\",\n\"Europe\"],\n [{\n            'v': 183,\n            'f': \"183\",\n        },\n\"amc pacer\",\n{\n            'v': 19.0,\n            'f': \"19.0\",\n        },\n{\n            'v': 6,\n            'f': \"6\",\n        },\n{\n            'v': 232.0,\n            'f': \"232.0\",\n        },\n{\n            'v': 90.0,\n            'f': \"90.0\",\n        },\n{\n            'v': 3211,\n            'f': \"3211\",\n        },\n{\n            'v': 17.0,\n            'f': \"17.0\",\n        },\n\"1975-01-01 00:00:00\",\n\"USA\"],\n [{\n            'v': 184,\n            'f': \"184\",\n        },\n\"audi 100ls\",\n{\n            'v': 23.0,\n            'f': \"23.0\",\n        },\n{\n            'v': 4,\n            'f': \"4\",\n        },\n{\n            'v': 115.0,\n            'f': \"115.0\",\n        },\n{\n            'v': 95.0,\n            'f': \"95.0\",\n        },\n{\n            'v': 2694,\n            'f': \"2694\",\n        },\n{\n            'v': 15.0,\n            'f': \"15.0\",\n        },\n\"1975-01-01 00:00:00\",\n\"Europe\"],\n [{\n            'v': 185,\n            'f': \"185\",\n        },\n\"peugeot 504\",\n{\n            'v': 23.0,\n            'f': \"23.0\",\n        },\n{\n            'v': 4,\n            'f': \"4\",\n        },\n{\n            'v': 120.0,\n            'f': \"120.0\",\n        },\n{\n            'v': 88.0,\n            'f': \"88.0\",\n        },\n{\n            'v': 2957,\n            'f': \"2957\",\n        },\n{\n            'v': 17.0,\n            'f': \"17.0\",\n        },\n\"1975-01-01 00:00:00\",\n\"Europe\"],\n [{\n            'v': 186,\n            'f': \"186\",\n        },\n\"volvo 244dl\",\n{\n            'v': 22.0,\n            'f': \"22.0\",\n        },\n{\n            'v': 4,\n            'f': \"4\",\n        },\n{\n            'v': 121.0,\n            'f': \"121.0\",\n        },\n{\n            'v': 98.0,\n            'f': \"98.0\",\n        },\n{\n            'v': 2945,\n            'f': \"2945\",\n        },\n{\n            'v': 14.5,\n            'f': \"14.5\",\n        },\n\"1975-01-01 00:00:00\",\n\"Europe\"],\n [{\n            'v': 187,\n            'f': \"187\",\n        },\n\"saab 99le\",\n{\n            'v': 25.0,\n            'f': \"25.0\",\n        },\n{\n            'v': 4,\n            'f': \"4\",\n        },\n{\n            'v': 121.0,\n            'f': \"121.0\",\n        },\n{\n            'v': 115.0,\n            'f': \"115.0\",\n        },\n{\n            'v': 2671,\n            'f': \"2671\",\n        },\n{\n            'v': 13.5,\n            'f': \"13.5\",\n        },\n\"1975-01-01 00:00:00\",\n\"Europe\"],\n [{\n            'v': 188,\n            'f': \"188\",\n        },\n\"honda civic cvcc\",\n{\n            'v': 33.0,\n            'f': \"33.0\",\n        },\n{\n            'v': 4,\n            'f': \"4\",\n        },\n{\n            'v': 91.0,\n            'f': \"91.0\",\n        },\n{\n            'v': 53.0,\n            'f': \"53.0\",\n        },\n{\n            'v': 1795,\n            'f': \"1795\",\n        },\n{\n            'v': 17.5,\n            'f': \"17.5\",\n        },\n\"1975-01-01 00:00:00\",\n\"Japan\"],\n [{\n            'v': 189,\n            'f': \"189\",\n        },\n\"fiat 131\",\n{\n            'v': 28.0,\n            'f': \"28.0\",\n        },\n{\n            'v': 4,\n            'f': \"4\",\n        },\n{\n            'v': 107.0,\n            'f': \"107.0\",\n        },\n{\n            'v': 86.0,\n            'f': \"86.0\",\n        },\n{\n            'v': 2464,\n            'f': \"2464\",\n        },\n{\n            'v': 15.5,\n            'f': \"15.5\",\n        },\n\"1976-01-01 00:00:00\",\n\"Europe\"],\n [{\n            'v': 190,\n            'f': \"190\",\n        },\n\"opel 1900\",\n{\n            'v': 25.0,\n            'f': \"25.0\",\n        },\n{\n            'v': 4,\n            'f': \"4\",\n        },\n{\n            'v': 116.0,\n            'f': \"116.0\",\n        },\n{\n            'v': 81.0,\n            'f': \"81.0\",\n        },\n{\n            'v': 2220,\n            'f': \"2220\",\n        },\n{\n            'v': 16.9,\n            'f': \"16.9\",\n        },\n\"1976-01-01 00:00:00\",\n\"Europe\"],\n [{\n            'v': 191,\n            'f': \"191\",\n        },\n\"capri ii\",\n{\n            'v': 25.0,\n            'f': \"25.0\",\n        },\n{\n            'v': 4,\n            'f': \"4\",\n        },\n{\n            'v': 140.0,\n            'f': \"140.0\",\n        },\n{\n            'v': 92.0,\n            'f': \"92.0\",\n        },\n{\n            'v': 2572,\n            'f': \"2572\",\n        },\n{\n            'v': 14.9,\n            'f': \"14.9\",\n        },\n\"1976-01-01 00:00:00\",\n\"USA\"],\n [{\n            'v': 192,\n            'f': \"192\",\n        },\n\"dodge colt\",\n{\n            'v': 26.0,\n            'f': \"26.0\",\n        },\n{\n            'v': 4,\n            'f': \"4\",\n        },\n{\n            'v': 98.0,\n            'f': \"98.0\",\n        },\n{\n            'v': 79.0,\n            'f': \"79.0\",\n        },\n{\n            'v': 2255,\n            'f': \"2255\",\n        },\n{\n            'v': 17.7,\n            'f': \"17.7\",\n        },\n\"1976-01-01 00:00:00\",\n\"USA\"],\n [{\n            'v': 193,\n            'f': \"193\",\n        },\n\"renault 12tl\",\n{\n            'v': 27.0,\n            'f': \"27.0\",\n        },\n{\n            'v': 4,\n            'f': \"4\",\n        },\n{\n            'v': 101.0,\n            'f': \"101.0\",\n        },\n{\n            'v': 83.0,\n            'f': \"83.0\",\n        },\n{\n            'v': 2202,\n            'f': \"2202\",\n        },\n{\n            'v': 15.3,\n            'f': \"15.3\",\n        },\n\"1976-01-01 00:00:00\",\n\"Europe\"],\n [{\n            'v': 194,\n            'f': \"194\",\n        },\n\"chevrolet chevelle malibu classic\",\n{\n            'v': 17.5,\n            'f': \"17.5\",\n        },\n{\n            'v': 8,\n            'f': \"8\",\n        },\n{\n            'v': 305.0,\n            'f': \"305.0\",\n        },\n{\n            'v': 140.0,\n            'f': \"140.0\",\n        },\n{\n            'v': 4215,\n            'f': \"4215\",\n        },\n{\n            'v': 13.0,\n            'f': \"13.0\",\n        },\n\"1976-01-01 00:00:00\",\n\"USA\"],\n [{\n            'v': 195,\n            'f': \"195\",\n        },\n\"dodge coronet brougham\",\n{\n            'v': 16.0,\n            'f': \"16.0\",\n        },\n{\n            'v': 8,\n            'f': \"8\",\n        },\n{\n            'v': 318.0,\n            'f': \"318.0\",\n        },\n{\n            'v': 150.0,\n            'f': \"150.0\",\n        },\n{\n            'v': 4190,\n            'f': \"4190\",\n        },\n{\n            'v': 13.0,\n            'f': \"13.0\",\n        },\n\"1976-01-01 00:00:00\",\n\"USA\"],\n [{\n            'v': 196,\n            'f': \"196\",\n        },\n\"amc matador\",\n{\n            'v': 15.5,\n            'f': \"15.5\",\n        },\n{\n            'v': 8,\n            'f': \"8\",\n        },\n{\n            'v': 304.0,\n            'f': \"304.0\",\n        },\n{\n            'v': 120.0,\n            'f': \"120.0\",\n        },\n{\n            'v': 3962,\n            'f': \"3962\",\n        },\n{\n            'v': 13.9,\n            'f': \"13.9\",\n        },\n\"1976-01-01 00:00:00\",\n\"USA\"],\n [{\n            'v': 197,\n            'f': \"197\",\n        },\n\"ford gran torino\",\n{\n            'v': 14.5,\n            'f': \"14.5\",\n        },\n{\n            'v': 8,\n            'f': \"8\",\n        },\n{\n            'v': 351.0,\n            'f': \"351.0\",\n        },\n{\n            'v': 152.0,\n            'f': \"152.0\",\n        },\n{\n            'v': 4215,\n            'f': \"4215\",\n        },\n{\n            'v': 12.8,\n            'f': \"12.8\",\n        },\n\"1976-01-01 00:00:00\",\n\"USA\"],\n [{\n            'v': 198,\n            'f': \"198\",\n        },\n\"plymouth valiant\",\n{\n            'v': 22.0,\n            'f': \"22.0\",\n        },\n{\n            'v': 6,\n            'f': \"6\",\n        },\n{\n            'v': 225.0,\n            'f': \"225.0\",\n        },\n{\n            'v': 100.0,\n            'f': \"100.0\",\n        },\n{\n            'v': 3233,\n            'f': \"3233\",\n        },\n{\n            'v': 15.4,\n            'f': \"15.4\",\n        },\n\"1976-01-01 00:00:00\",\n\"USA\"],\n [{\n            'v': 199,\n            'f': \"199\",\n        },\n\"chevrolet nova\",\n{\n            'v': 22.0,\n            'f': \"22.0\",\n        },\n{\n            'v': 6,\n            'f': \"6\",\n        },\n{\n            'v': 250.0,\n            'f': \"250.0\",\n        },\n{\n            'v': 105.0,\n            'f': \"105.0\",\n        },\n{\n            'v': 3353,\n            'f': \"3353\",\n        },\n{\n            'v': 14.5,\n            'f': \"14.5\",\n        },\n\"1976-01-01 00:00:00\",\n\"USA\"],\n [{\n            'v': 200,\n            'f': \"200\",\n        },\n\"ford maverick\",\n{\n            'v': 24.0,\n            'f': \"24.0\",\n        },\n{\n            'v': 6,\n            'f': \"6\",\n        },\n{\n            'v': 200.0,\n            'f': \"200.0\",\n        },\n{\n            'v': 81.0,\n            'f': \"81.0\",\n        },\n{\n            'v': 3012,\n            'f': \"3012\",\n        },\n{\n            'v': 17.6,\n            'f': \"17.6\",\n        },\n\"1976-01-01 00:00:00\",\n\"USA\"],\n [{\n            'v': 201,\n            'f': \"201\",\n        },\n\"amc hornet\",\n{\n            'v': 22.5,\n            'f': \"22.5\",\n        },\n{\n            'v': 6,\n            'f': \"6\",\n        },\n{\n            'v': 232.0,\n            'f': \"232.0\",\n        },\n{\n            'v': 90.0,\n            'f': \"90.0\",\n        },\n{\n            'v': 3085,\n            'f': \"3085\",\n        },\n{\n            'v': 17.6,\n            'f': \"17.6\",\n        },\n\"1976-01-01 00:00:00\",\n\"USA\"],\n [{\n            'v': 202,\n            'f': \"202\",\n        },\n\"chevrolet chevette\",\n{\n            'v': 29.0,\n            'f': \"29.0\",\n        },\n{\n            'v': 4,\n            'f': \"4\",\n        },\n{\n            'v': 85.0,\n            'f': \"85.0\",\n        },\n{\n            'v': 52.0,\n            'f': \"52.0\",\n        },\n{\n            'v': 2035,\n            'f': \"2035\",\n        },\n{\n            'v': 22.2,\n            'f': \"22.2\",\n        },\n\"1976-01-01 00:00:00\",\n\"USA\"],\n [{\n            'v': 203,\n            'f': \"203\",\n        },\n\"chevrolet woody\",\n{\n            'v': 24.5,\n            'f': \"24.5\",\n        },\n{\n            'v': 4,\n            'f': \"4\",\n        },\n{\n            'v': 98.0,\n            'f': \"98.0\",\n        },\n{\n            'v': 60.0,\n            'f': \"60.0\",\n        },\n{\n            'v': 2164,\n            'f': \"2164\",\n        },\n{\n            'v': 22.1,\n            'f': \"22.1\",\n        },\n\"1976-01-01 00:00:00\",\n\"USA\"],\n [{\n            'v': 204,\n            'f': \"204\",\n        },\n\"vw rabbit\",\n{\n            'v': 29.0,\n            'f': \"29.0\",\n        },\n{\n            'v': 4,\n            'f': \"4\",\n        },\n{\n            'v': 90.0,\n            'f': \"90.0\",\n        },\n{\n            'v': 70.0,\n            'f': \"70.0\",\n        },\n{\n            'v': 1937,\n            'f': \"1937\",\n        },\n{\n            'v': 14.2,\n            'f': \"14.2\",\n        },\n\"1976-01-01 00:00:00\",\n\"Europe\"],\n [{\n            'v': 205,\n            'f': \"205\",\n        },\n\"honda civic\",\n{\n            'v': 33.0,\n            'f': \"33.0\",\n        },\n{\n            'v': 4,\n            'f': \"4\",\n        },\n{\n            'v': 91.0,\n            'f': \"91.0\",\n        },\n{\n            'v': 53.0,\n            'f': \"53.0\",\n        },\n{\n            'v': 1795,\n            'f': \"1795\",\n        },\n{\n            'v': 17.4,\n            'f': \"17.4\",\n        },\n\"1976-01-01 00:00:00\",\n\"Japan\"],\n [{\n            'v': 206,\n            'f': \"206\",\n        },\n\"dodge aspen se\",\n{\n            'v': 20.0,\n            'f': \"20.0\",\n        },\n{\n            'v': 6,\n            'f': \"6\",\n        },\n{\n            'v': 225.0,\n            'f': \"225.0\",\n        },\n{\n            'v': 100.0,\n            'f': \"100.0\",\n        },\n{\n            'v': 3651,\n            'f': \"3651\",\n        },\n{\n            'v': 17.7,\n            'f': \"17.7\",\n        },\n\"1976-01-01 00:00:00\",\n\"USA\"],\n [{\n            'v': 207,\n            'f': \"207\",\n        },\n\"ford granada ghia\",\n{\n            'v': 18.0,\n            'f': \"18.0\",\n        },\n{\n            'v': 6,\n            'f': \"6\",\n        },\n{\n            'v': 250.0,\n            'f': \"250.0\",\n        },\n{\n            'v': 78.0,\n            'f': \"78.0\",\n        },\n{\n            'v': 3574,\n            'f': \"3574\",\n        },\n{\n            'v': 21.0,\n            'f': \"21.0\",\n        },\n\"1976-01-01 00:00:00\",\n\"USA\"],\n [{\n            'v': 208,\n            'f': \"208\",\n        },\n\"pontiac ventura sj\",\n{\n            'v': 18.5,\n            'f': \"18.5\",\n        },\n{\n            'v': 6,\n            'f': \"6\",\n        },\n{\n            'v': 250.0,\n            'f': \"250.0\",\n        },\n{\n            'v': 110.0,\n            'f': \"110.0\",\n        },\n{\n            'v': 3645,\n            'f': \"3645\",\n        },\n{\n            'v': 16.2,\n            'f': \"16.2\",\n        },\n\"1976-01-01 00:00:00\",\n\"USA\"],\n [{\n            'v': 209,\n            'f': \"209\",\n        },\n\"amc pacer d/l\",\n{\n            'v': 17.5,\n            'f': \"17.5\",\n        },\n{\n            'v': 6,\n            'f': \"6\",\n        },\n{\n            'v': 258.0,\n            'f': \"258.0\",\n        },\n{\n            'v': 95.0,\n            'f': \"95.0\",\n        },\n{\n            'v': 3193,\n            'f': \"3193\",\n        },\n{\n            'v': 17.8,\n            'f': \"17.8\",\n        },\n\"1976-01-01 00:00:00\",\n\"USA\"],\n [{\n            'v': 210,\n            'f': \"210\",\n        },\n\"volkswagen rabbit\",\n{\n            'v': 29.5,\n            'f': \"29.5\",\n        },\n{\n            'v': 4,\n            'f': \"4\",\n        },\n{\n            'v': 97.0,\n            'f': \"97.0\",\n        },\n{\n            'v': 71.0,\n            'f': \"71.0\",\n        },\n{\n            'v': 1825,\n            'f': \"1825\",\n        },\n{\n            'v': 12.2,\n            'f': \"12.2\",\n        },\n\"1976-01-01 00:00:00\",\n\"Europe\"],\n [{\n            'v': 211,\n            'f': \"211\",\n        },\n\"datsun b-210\",\n{\n            'v': 32.0,\n            'f': \"32.0\",\n        },\n{\n            'v': 4,\n            'f': \"4\",\n        },\n{\n            'v': 85.0,\n            'f': \"85.0\",\n        },\n{\n            'v': 70.0,\n            'f': \"70.0\",\n        },\n{\n            'v': 1990,\n            'f': \"1990\",\n        },\n{\n            'v': 17.0,\n            'f': \"17.0\",\n        },\n\"1976-01-01 00:00:00\",\n\"Japan\"],\n [{\n            'v': 212,\n            'f': \"212\",\n        },\n\"toyota corolla\",\n{\n            'v': 28.0,\n            'f': \"28.0\",\n        },\n{\n            'v': 4,\n            'f': \"4\",\n        },\n{\n            'v': 97.0,\n            'f': \"97.0\",\n        },\n{\n            'v': 75.0,\n            'f': \"75.0\",\n        },\n{\n            'v': 2155,\n            'f': \"2155\",\n        },\n{\n            'v': 16.4,\n            'f': \"16.4\",\n        },\n\"1976-01-01 00:00:00\",\n\"Japan\"],\n [{\n            'v': 213,\n            'f': \"213\",\n        },\n\"ford pinto\",\n{\n            'v': 26.5,\n            'f': \"26.5\",\n        },\n{\n            'v': 4,\n            'f': \"4\",\n        },\n{\n            'v': 140.0,\n            'f': \"140.0\",\n        },\n{\n            'v': 72.0,\n            'f': \"72.0\",\n        },\n{\n            'v': 2565,\n            'f': \"2565\",\n        },\n{\n            'v': 13.6,\n            'f': \"13.6\",\n        },\n\"1976-01-01 00:00:00\",\n\"USA\"],\n [{\n            'v': 214,\n            'f': \"214\",\n        },\n\"volvo 245\",\n{\n            'v': 20.0,\n            'f': \"20.0\",\n        },\n{\n            'v': 4,\n            'f': \"4\",\n        },\n{\n            'v': 130.0,\n            'f': \"130.0\",\n        },\n{\n            'v': 102.0,\n            'f': \"102.0\",\n        },\n{\n            'v': 3150,\n            'f': \"3150\",\n        },\n{\n            'v': 15.7,\n            'f': \"15.7\",\n        },\n\"1976-01-01 00:00:00\",\n\"Europe\"],\n [{\n            'v': 215,\n            'f': \"215\",\n        },\n\"plymouth volare premier v8\",\n{\n            'v': 13.0,\n            'f': \"13.0\",\n        },\n{\n            'v': 8,\n            'f': \"8\",\n        },\n{\n            'v': 318.0,\n            'f': \"318.0\",\n        },\n{\n            'v': 150.0,\n            'f': \"150.0\",\n        },\n{\n            'v': 3940,\n            'f': \"3940\",\n        },\n{\n            'v': 13.2,\n            'f': \"13.2\",\n        },\n\"1976-01-01 00:00:00\",\n\"USA\"],\n [{\n            'v': 216,\n            'f': \"216\",\n        },\n\"peugeot 504\",\n{\n            'v': 19.0,\n            'f': \"19.0\",\n        },\n{\n            'v': 4,\n            'f': \"4\",\n        },\n{\n            'v': 120.0,\n            'f': \"120.0\",\n        },\n{\n            'v': 88.0,\n            'f': \"88.0\",\n        },\n{\n            'v': 3270,\n            'f': \"3270\",\n        },\n{\n            'v': 21.9,\n            'f': \"21.9\",\n        },\n\"1976-01-01 00:00:00\",\n\"Europe\"],\n [{\n            'v': 217,\n            'f': \"217\",\n        },\n\"toyota mark ii\",\n{\n            'v': 19.0,\n            'f': \"19.0\",\n        },\n{\n            'v': 6,\n            'f': \"6\",\n        },\n{\n            'v': 156.0,\n            'f': \"156.0\",\n        },\n{\n            'v': 108.0,\n            'f': \"108.0\",\n        },\n{\n            'v': 2930,\n            'f': \"2930\",\n        },\n{\n            'v': 15.5,\n            'f': \"15.5\",\n        },\n\"1976-01-01 00:00:00\",\n\"Japan\"],\n [{\n            'v': 218,\n            'f': \"218\",\n        },\n\"mercedes-benz 280s\",\n{\n            'v': 16.5,\n            'f': \"16.5\",\n        },\n{\n            'v': 6,\n            'f': \"6\",\n        },\n{\n            'v': 168.0,\n            'f': \"168.0\",\n        },\n{\n            'v': 120.0,\n            'f': \"120.0\",\n        },\n{\n            'v': 3820,\n            'f': \"3820\",\n        },\n{\n            'v': 16.7,\n            'f': \"16.7\",\n        },\n\"1976-01-01 00:00:00\",\n\"Europe\"],\n [{\n            'v': 219,\n            'f': \"219\",\n        },\n\"cadillac seville\",\n{\n            'v': 16.5,\n            'f': \"16.5\",\n        },\n{\n            'v': 8,\n            'f': \"8\",\n        },\n{\n            'v': 350.0,\n            'f': \"350.0\",\n        },\n{\n            'v': 180.0,\n            'f': \"180.0\",\n        },\n{\n            'v': 4380,\n            'f': \"4380\",\n        },\n{\n            'v': 12.1,\n            'f': \"12.1\",\n        },\n\"1976-01-01 00:00:00\",\n\"USA\"],\n [{\n            'v': 220,\n            'f': \"220\",\n        },\n\"chevy c10\",\n{\n            'v': 13.0,\n            'f': \"13.0\",\n        },\n{\n            'v': 8,\n            'f': \"8\",\n        },\n{\n            'v': 350.0,\n            'f': \"350.0\",\n        },\n{\n            'v': 145.0,\n            'f': \"145.0\",\n        },\n{\n            'v': 4055,\n            'f': \"4055\",\n        },\n{\n            'v': 12.0,\n            'f': \"12.0\",\n        },\n\"1976-01-01 00:00:00\",\n\"USA\"],\n [{\n            'v': 221,\n            'f': \"221\",\n        },\n\"ford f108\",\n{\n            'v': 13.0,\n            'f': \"13.0\",\n        },\n{\n            'v': 8,\n            'f': \"8\",\n        },\n{\n            'v': 302.0,\n            'f': \"302.0\",\n        },\n{\n            'v': 130.0,\n            'f': \"130.0\",\n        },\n{\n            'v': 3870,\n            'f': \"3870\",\n        },\n{\n            'v': 15.0,\n            'f': \"15.0\",\n        },\n\"1976-01-01 00:00:00\",\n\"USA\"],\n [{\n            'v': 222,\n            'f': \"222\",\n        },\n\"dodge d100\",\n{\n            'v': 13.0,\n            'f': \"13.0\",\n        },\n{\n            'v': 8,\n            'f': \"8\",\n        },\n{\n            'v': 318.0,\n            'f': \"318.0\",\n        },\n{\n            'v': 150.0,\n            'f': \"150.0\",\n        },\n{\n            'v': 3755,\n            'f': \"3755\",\n        },\n{\n            'v': 14.0,\n            'f': \"14.0\",\n        },\n\"1976-01-01 00:00:00\",\n\"USA\"],\n [{\n            'v': 223,\n            'f': \"223\",\n        },\n\"honda Accelerationord cvcc\",\n{\n            'v': 31.5,\n            'f': \"31.5\",\n        },\n{\n            'v': 4,\n            'f': \"4\",\n        },\n{\n            'v': 98.0,\n            'f': \"98.0\",\n        },\n{\n            'v': 68.0,\n            'f': \"68.0\",\n        },\n{\n            'v': 2045,\n            'f': \"2045\",\n        },\n{\n            'v': 18.5,\n            'f': \"18.5\",\n        },\n\"1977-01-01 00:00:00\",\n\"Japan\"],\n [{\n            'v': 224,\n            'f': \"224\",\n        },\n\"buick opel isuzu deluxe\",\n{\n            'v': 30.0,\n            'f': \"30.0\",\n        },\n{\n            'v': 4,\n            'f': \"4\",\n        },\n{\n            'v': 111.0,\n            'f': \"111.0\",\n        },\n{\n            'v': 80.0,\n            'f': \"80.0\",\n        },\n{\n            'v': 2155,\n            'f': \"2155\",\n        },\n{\n            'v': 14.8,\n            'f': \"14.8\",\n        },\n\"1977-01-01 00:00:00\",\n\"USA\"],\n [{\n            'v': 225,\n            'f': \"225\",\n        },\n\"renault 5 gtl\",\n{\n            'v': 36.0,\n            'f': \"36.0\",\n        },\n{\n            'v': 4,\n            'f': \"4\",\n        },\n{\n            'v': 79.0,\n            'f': \"79.0\",\n        },\n{\n            'v': 58.0,\n            'f': \"58.0\",\n        },\n{\n            'v': 1825,\n            'f': \"1825\",\n        },\n{\n            'v': 18.6,\n            'f': \"18.6\",\n        },\n\"1977-01-01 00:00:00\",\n\"Europe\"],\n [{\n            'v': 226,\n            'f': \"226\",\n        },\n\"plymouth arrow gs\",\n{\n            'v': 25.5,\n            'f': \"25.5\",\n        },\n{\n            'v': 4,\n            'f': \"4\",\n        },\n{\n            'v': 122.0,\n            'f': \"122.0\",\n        },\n{\n            'v': 96.0,\n            'f': \"96.0\",\n        },\n{\n            'v': 2300,\n            'f': \"2300\",\n        },\n{\n            'v': 15.5,\n            'f': \"15.5\",\n        },\n\"1977-01-01 00:00:00\",\n\"USA\"],\n [{\n            'v': 227,\n            'f': \"227\",\n        },\n\"datsun f-10 hatchback\",\n{\n            'v': 33.5,\n            'f': \"33.5\",\n        },\n{\n            'v': 4,\n            'f': \"4\",\n        },\n{\n            'v': 85.0,\n            'f': \"85.0\",\n        },\n{\n            'v': 70.0,\n            'f': \"70.0\",\n        },\n{\n            'v': 1945,\n            'f': \"1945\",\n        },\n{\n            'v': 16.8,\n            'f': \"16.8\",\n        },\n\"1977-01-01 00:00:00\",\n\"Japan\"],\n [{\n            'v': 228,\n            'f': \"228\",\n        },\n\"chevrolet caprice classic\",\n{\n            'v': 17.5,\n            'f': \"17.5\",\n        },\n{\n            'v': 8,\n            'f': \"8\",\n        },\n{\n            'v': 305.0,\n            'f': \"305.0\",\n        },\n{\n            'v': 145.0,\n            'f': \"145.0\",\n        },\n{\n            'v': 3880,\n            'f': \"3880\",\n        },\n{\n            'v': 12.5,\n            'f': \"12.5\",\n        },\n\"1977-01-01 00:00:00\",\n\"USA\"],\n [{\n            'v': 229,\n            'f': \"229\",\n        },\n\"oldsmobile cutlass supreme\",\n{\n            'v': 17.0,\n            'f': \"17.0\",\n        },\n{\n            'v': 8,\n            'f': \"8\",\n        },\n{\n            'v': 260.0,\n            'f': \"260.0\",\n        },\n{\n            'v': 110.0,\n            'f': \"110.0\",\n        },\n{\n            'v': 4060,\n            'f': \"4060\",\n        },\n{\n            'v': 19.0,\n            'f': \"19.0\",\n        },\n\"1977-01-01 00:00:00\",\n\"USA\"],\n [{\n            'v': 230,\n            'f': \"230\",\n        },\n\"dodge monaco brougham\",\n{\n            'v': 15.5,\n            'f': \"15.5\",\n        },\n{\n            'v': 8,\n            'f': \"8\",\n        },\n{\n            'v': 318.0,\n            'f': \"318.0\",\n        },\n{\n            'v': 145.0,\n            'f': \"145.0\",\n        },\n{\n            'v': 4140,\n            'f': \"4140\",\n        },\n{\n            'v': 13.7,\n            'f': \"13.7\",\n        },\n\"1977-01-01 00:00:00\",\n\"USA\"],\n [{\n            'v': 231,\n            'f': \"231\",\n        },\n\"mercury cougar brougham\",\n{\n            'v': 15.0,\n            'f': \"15.0\",\n        },\n{\n            'v': 8,\n            'f': \"8\",\n        },\n{\n            'v': 302.0,\n            'f': \"302.0\",\n        },\n{\n            'v': 130.0,\n            'f': \"130.0\",\n        },\n{\n            'v': 4295,\n            'f': \"4295\",\n        },\n{\n            'v': 14.9,\n            'f': \"14.9\",\n        },\n\"1977-01-01 00:00:00\",\n\"USA\"],\n [{\n            'v': 232,\n            'f': \"232\",\n        },\n\"chevrolet concours\",\n{\n            'v': 17.5,\n            'f': \"17.5\",\n        },\n{\n            'v': 6,\n            'f': \"6\",\n        },\n{\n            'v': 250.0,\n            'f': \"250.0\",\n        },\n{\n            'v': 110.0,\n            'f': \"110.0\",\n        },\n{\n            'v': 3520,\n            'f': \"3520\",\n        },\n{\n            'v': 16.4,\n            'f': \"16.4\",\n        },\n\"1977-01-01 00:00:00\",\n\"USA\"],\n [{\n            'v': 233,\n            'f': \"233\",\n        },\n\"buick skylark\",\n{\n            'v': 20.5,\n            'f': \"20.5\",\n        },\n{\n            'v': 6,\n            'f': \"6\",\n        },\n{\n            'v': 231.0,\n            'f': \"231.0\",\n        },\n{\n            'v': 105.0,\n            'f': \"105.0\",\n        },\n{\n            'v': 3425,\n            'f': \"3425\",\n        },\n{\n            'v': 16.9,\n            'f': \"16.9\",\n        },\n\"1977-01-01 00:00:00\",\n\"USA\"],\n [{\n            'v': 234,\n            'f': \"234\",\n        },\n\"plymouth volare custom\",\n{\n            'v': 19.0,\n            'f': \"19.0\",\n        },\n{\n            'v': 6,\n            'f': \"6\",\n        },\n{\n            'v': 225.0,\n            'f': \"225.0\",\n        },\n{\n            'v': 100.0,\n            'f': \"100.0\",\n        },\n{\n            'v': 3630,\n            'f': \"3630\",\n        },\n{\n            'v': 17.7,\n            'f': \"17.7\",\n        },\n\"1977-01-01 00:00:00\",\n\"USA\"],\n [{\n            'v': 235,\n            'f': \"235\",\n        },\n\"ford granada\",\n{\n            'v': 18.5,\n            'f': \"18.5\",\n        },\n{\n            'v': 6,\n            'f': \"6\",\n        },\n{\n            'v': 250.0,\n            'f': \"250.0\",\n        },\n{\n            'v': 98.0,\n            'f': \"98.0\",\n        },\n{\n            'v': 3525,\n            'f': \"3525\",\n        },\n{\n            'v': 19.0,\n            'f': \"19.0\",\n        },\n\"1977-01-01 00:00:00\",\n\"USA\"],\n [{\n            'v': 236,\n            'f': \"236\",\n        },\n\"pontiac grand prix lj\",\n{\n            'v': 16.0,\n            'f': \"16.0\",\n        },\n{\n            'v': 8,\n            'f': \"8\",\n        },\n{\n            'v': 400.0,\n            'f': \"400.0\",\n        },\n{\n            'v': 180.0,\n            'f': \"180.0\",\n        },\n{\n            'v': 4220,\n            'f': \"4220\",\n        },\n{\n            'v': 11.1,\n            'f': \"11.1\",\n        },\n\"1977-01-01 00:00:00\",\n\"USA\"],\n [{\n            'v': 237,\n            'f': \"237\",\n        },\n\"chevrolet monte carlo landau\",\n{\n            'v': 15.5,\n            'f': \"15.5\",\n        },\n{\n            'v': 8,\n            'f': \"8\",\n        },\n{\n            'v': 350.0,\n            'f': \"350.0\",\n        },\n{\n            'v': 170.0,\n            'f': \"170.0\",\n        },\n{\n            'v': 4165,\n            'f': \"4165\",\n        },\n{\n            'v': 11.4,\n            'f': \"11.4\",\n        },\n\"1977-01-01 00:00:00\",\n\"USA\"],\n [{\n            'v': 238,\n            'f': \"238\",\n        },\n\"chrysler cordoba\",\n{\n            'v': 15.5,\n            'f': \"15.5\",\n        },\n{\n            'v': 8,\n            'f': \"8\",\n        },\n{\n            'v': 400.0,\n            'f': \"400.0\",\n        },\n{\n            'v': 190.0,\n            'f': \"190.0\",\n        },\n{\n            'v': 4325,\n            'f': \"4325\",\n        },\n{\n            'v': 12.2,\n            'f': \"12.2\",\n        },\n\"1977-01-01 00:00:00\",\n\"USA\"],\n [{\n            'v': 239,\n            'f': \"239\",\n        },\n\"ford thunderbird\",\n{\n            'v': 16.0,\n            'f': \"16.0\",\n        },\n{\n            'v': 8,\n            'f': \"8\",\n        },\n{\n            'v': 351.0,\n            'f': \"351.0\",\n        },\n{\n            'v': 149.0,\n            'f': \"149.0\",\n        },\n{\n            'v': 4335,\n            'f': \"4335\",\n        },\n{\n            'v': 14.5,\n            'f': \"14.5\",\n        },\n\"1977-01-01 00:00:00\",\n\"USA\"],\n [{\n            'v': 240,\n            'f': \"240\",\n        },\n\"volkswagen rabbit custom\",\n{\n            'v': 29.0,\n            'f': \"29.0\",\n        },\n{\n            'v': 4,\n            'f': \"4\",\n        },\n{\n            'v': 97.0,\n            'f': \"97.0\",\n        },\n{\n            'v': 78.0,\n            'f': \"78.0\",\n        },\n{\n            'v': 1940,\n            'f': \"1940\",\n        },\n{\n            'v': 14.5,\n            'f': \"14.5\",\n        },\n\"1977-01-01 00:00:00\",\n\"Europe\"],\n [{\n            'v': 241,\n            'f': \"241\",\n        },\n\"pontiac sunbird coupe\",\n{\n            'v': 24.5,\n            'f': \"24.5\",\n        },\n{\n            'v': 4,\n            'f': \"4\",\n        },\n{\n            'v': 151.0,\n            'f': \"151.0\",\n        },\n{\n            'v': 88.0,\n            'f': \"88.0\",\n        },\n{\n            'v': 2740,\n            'f': \"2740\",\n        },\n{\n            'v': 16.0,\n            'f': \"16.0\",\n        },\n\"1977-01-01 00:00:00\",\n\"USA\"],\n [{\n            'v': 242,\n            'f': \"242\",\n        },\n\"toyota corolla liftback\",\n{\n            'v': 26.0,\n            'f': \"26.0\",\n        },\n{\n            'v': 4,\n            'f': \"4\",\n        },\n{\n            'v': 97.0,\n            'f': \"97.0\",\n        },\n{\n            'v': 75.0,\n            'f': \"75.0\",\n        },\n{\n            'v': 2265,\n            'f': \"2265\",\n        },\n{\n            'v': 18.2,\n            'f': \"18.2\",\n        },\n\"1977-01-01 00:00:00\",\n\"Japan\"],\n [{\n            'v': 243,\n            'f': \"243\",\n        },\n\"ford mustang ii 2+2\",\n{\n            'v': 25.5,\n            'f': \"25.5\",\n        },\n{\n            'v': 4,\n            'f': \"4\",\n        },\n{\n            'v': 140.0,\n            'f': \"140.0\",\n        },\n{\n            'v': 89.0,\n            'f': \"89.0\",\n        },\n{\n            'v': 2755,\n            'f': \"2755\",\n        },\n{\n            'v': 15.8,\n            'f': \"15.8\",\n        },\n\"1977-01-01 00:00:00\",\n\"USA\"],\n [{\n            'v': 244,\n            'f': \"244\",\n        },\n\"chevrolet chevette\",\n{\n            'v': 30.5,\n            'f': \"30.5\",\n        },\n{\n            'v': 4,\n            'f': \"4\",\n        },\n{\n            'v': 98.0,\n            'f': \"98.0\",\n        },\n{\n            'v': 63.0,\n            'f': \"63.0\",\n        },\n{\n            'v': 2051,\n            'f': \"2051\",\n        },\n{\n            'v': 17.0,\n            'f': \"17.0\",\n        },\n\"1977-01-01 00:00:00\",\n\"USA\"],\n [{\n            'v': 245,\n            'f': \"245\",\n        },\n\"dodge colt m/m\",\n{\n            'v': 33.5,\n            'f': \"33.5\",\n        },\n{\n            'v': 4,\n            'f': \"4\",\n        },\n{\n            'v': 98.0,\n            'f': \"98.0\",\n        },\n{\n            'v': 83.0,\n            'f': \"83.0\",\n        },\n{\n            'v': 2075,\n            'f': \"2075\",\n        },\n{\n            'v': 15.9,\n            'f': \"15.9\",\n        },\n\"1977-01-01 00:00:00\",\n\"USA\"],\n [{\n            'v': 246,\n            'f': \"246\",\n        },\n\"subaru dl\",\n{\n            'v': 30.0,\n            'f': \"30.0\",\n        },\n{\n            'v': 4,\n            'f': \"4\",\n        },\n{\n            'v': 97.0,\n            'f': \"97.0\",\n        },\n{\n            'v': 67.0,\n            'f': \"67.0\",\n        },\n{\n            'v': 1985,\n            'f': \"1985\",\n        },\n{\n            'v': 16.4,\n            'f': \"16.4\",\n        },\n\"1977-01-01 00:00:00\",\n\"Japan\"],\n [{\n            'v': 247,\n            'f': \"247\",\n        },\n\"volkswagen dasher\",\n{\n            'v': 30.5,\n            'f': \"30.5\",\n        },\n{\n            'v': 4,\n            'f': \"4\",\n        },\n{\n            'v': 97.0,\n            'f': \"97.0\",\n        },\n{\n            'v': 78.0,\n            'f': \"78.0\",\n        },\n{\n            'v': 2190,\n            'f': \"2190\",\n        },\n{\n            'v': 14.1,\n            'f': \"14.1\",\n        },\n\"1977-01-01 00:00:00\",\n\"Europe\"],\n [{\n            'v': 248,\n            'f': \"248\",\n        },\n\"datsun 810\",\n{\n            'v': 22.0,\n            'f': \"22.0\",\n        },\n{\n            'v': 6,\n            'f': \"6\",\n        },\n{\n            'v': 146.0,\n            'f': \"146.0\",\n        },\n{\n            'v': 97.0,\n            'f': \"97.0\",\n        },\n{\n            'v': 2815,\n            'f': \"2815\",\n        },\n{\n            'v': 14.5,\n            'f': \"14.5\",\n        },\n\"1977-01-01 00:00:00\",\n\"Japan\"],\n [{\n            'v': 249,\n            'f': \"249\",\n        },\n\"bmw 320i\",\n{\n            'v': 21.5,\n            'f': \"21.5\",\n        },\n{\n            'v': 4,\n            'f': \"4\",\n        },\n{\n            'v': 121.0,\n            'f': \"121.0\",\n        },\n{\n            'v': 110.0,\n            'f': \"110.0\",\n        },\n{\n            'v': 2600,\n            'f': \"2600\",\n        },\n{\n            'v': 12.8,\n            'f': \"12.8\",\n        },\n\"1977-01-01 00:00:00\",\n\"Europe\"],\n [{\n            'v': 250,\n            'f': \"250\",\n        },\n\"mazda rx-4\",\n{\n            'v': 21.5,\n            'f': \"21.5\",\n        },\n{\n            'v': 3,\n            'f': \"3\",\n        },\n{\n            'v': 80.0,\n            'f': \"80.0\",\n        },\n{\n            'v': 110.0,\n            'f': \"110.0\",\n        },\n{\n            'v': 2720,\n            'f': \"2720\",\n        },\n{\n            'v': 13.5,\n            'f': \"13.5\",\n        },\n\"1977-01-01 00:00:00\",\n\"Japan\"],\n [{\n            'v': 251,\n            'f': \"251\",\n        },\n\"volkswagen rabbit custom diesel\",\n{\n            'v': 43.1,\n            'f': \"43.1\",\n        },\n{\n            'v': 4,\n            'f': \"4\",\n        },\n{\n            'v': 90.0,\n            'f': \"90.0\",\n        },\n{\n            'v': 48.0,\n            'f': \"48.0\",\n        },\n{\n            'v': 1985,\n            'f': \"1985\",\n        },\n{\n            'v': 21.5,\n            'f': \"21.5\",\n        },\n\"1978-01-01 00:00:00\",\n\"Europe\"],\n [{\n            'v': 252,\n            'f': \"252\",\n        },\n\"ford fiesta\",\n{\n            'v': 36.1,\n            'f': \"36.1\",\n        },\n{\n            'v': 4,\n            'f': \"4\",\n        },\n{\n            'v': 98.0,\n            'f': \"98.0\",\n        },\n{\n            'v': 66.0,\n            'f': \"66.0\",\n        },\n{\n            'v': 1800,\n            'f': \"1800\",\n        },\n{\n            'v': 14.4,\n            'f': \"14.4\",\n        },\n\"1978-01-01 00:00:00\",\n\"USA\"],\n [{\n            'v': 253,\n            'f': \"253\",\n        },\n\"mazda glc deluxe\",\n{\n            'v': 32.8,\n            'f': \"32.8\",\n        },\n{\n            'v': 4,\n            'f': \"4\",\n        },\n{\n            'v': 78.0,\n            'f': \"78.0\",\n        },\n{\n            'v': 52.0,\n            'f': \"52.0\",\n        },\n{\n            'v': 1985,\n            'f': \"1985\",\n        },\n{\n            'v': 19.4,\n            'f': \"19.4\",\n        },\n\"1978-01-01 00:00:00\",\n\"Japan\"],\n [{\n            'v': 254,\n            'f': \"254\",\n        },\n\"datsun b210 gx\",\n{\n            'v': 39.4,\n            'f': \"39.4\",\n        },\n{\n            'v': 4,\n            'f': \"4\",\n        },\n{\n            'v': 85.0,\n            'f': \"85.0\",\n        },\n{\n            'v': 70.0,\n            'f': \"70.0\",\n        },\n{\n            'v': 2070,\n            'f': \"2070\",\n        },\n{\n            'v': 18.6,\n            'f': \"18.6\",\n        },\n\"1978-01-01 00:00:00\",\n\"Japan\"],\n [{\n            'v': 255,\n            'f': \"255\",\n        },\n\"honda civic cvcc\",\n{\n            'v': 36.1,\n            'f': \"36.1\",\n        },\n{\n            'v': 4,\n            'f': \"4\",\n        },\n{\n            'v': 91.0,\n            'f': \"91.0\",\n        },\n{\n            'v': 60.0,\n            'f': \"60.0\",\n        },\n{\n            'v': 1800,\n            'f': \"1800\",\n        },\n{\n            'v': 16.4,\n            'f': \"16.4\",\n        },\n\"1978-01-01 00:00:00\",\n\"Japan\"],\n [{\n            'v': 256,\n            'f': \"256\",\n        },\n\"oldsmobile cutlass salon brougham\",\n{\n            'v': 19.9,\n            'f': \"19.9\",\n        },\n{\n            'v': 8,\n            'f': \"8\",\n        },\n{\n            'v': 260.0,\n            'f': \"260.0\",\n        },\n{\n            'v': 110.0,\n            'f': \"110.0\",\n        },\n{\n            'v': 3365,\n            'f': \"3365\",\n        },\n{\n            'v': 15.5,\n            'f': \"15.5\",\n        },\n\"1978-01-01 00:00:00\",\n\"USA\"],\n [{\n            'v': 257,\n            'f': \"257\",\n        },\n\"dodge diplomat\",\n{\n            'v': 19.4,\n            'f': \"19.4\",\n        },\n{\n            'v': 8,\n            'f': \"8\",\n        },\n{\n            'v': 318.0,\n            'f': \"318.0\",\n        },\n{\n            'v': 140.0,\n            'f': \"140.0\",\n        },\n{\n            'v': 3735,\n            'f': \"3735\",\n        },\n{\n            'v': 13.2,\n            'f': \"13.2\",\n        },\n\"1978-01-01 00:00:00\",\n\"USA\"],\n [{\n            'v': 258,\n            'f': \"258\",\n        },\n\"mercury monarch ghia\",\n{\n            'v': 20.2,\n            'f': \"20.2\",\n        },\n{\n            'v': 8,\n            'f': \"8\",\n        },\n{\n            'v': 302.0,\n            'f': \"302.0\",\n        },\n{\n            'v': 139.0,\n            'f': \"139.0\",\n        },\n{\n            'v': 3570,\n            'f': \"3570\",\n        },\n{\n            'v': 12.8,\n            'f': \"12.8\",\n        },\n\"1978-01-01 00:00:00\",\n\"USA\"],\n [{\n            'v': 259,\n            'f': \"259\",\n        },\n\"pontiac phoenix lj\",\n{\n            'v': 19.2,\n            'f': \"19.2\",\n        },\n{\n            'v': 6,\n            'f': \"6\",\n        },\n{\n            'v': 231.0,\n            'f': \"231.0\",\n        },\n{\n            'v': 105.0,\n            'f': \"105.0\",\n        },\n{\n            'v': 3535,\n            'f': \"3535\",\n        },\n{\n            'v': 19.2,\n            'f': \"19.2\",\n        },\n\"1978-01-01 00:00:00\",\n\"USA\"],\n [{\n            'v': 260,\n            'f': \"260\",\n        },\n\"chevrolet malibu\",\n{\n            'v': 20.5,\n            'f': \"20.5\",\n        },\n{\n            'v': 6,\n            'f': \"6\",\n        },\n{\n            'v': 200.0,\n            'f': \"200.0\",\n        },\n{\n            'v': 95.0,\n            'f': \"95.0\",\n        },\n{\n            'v': 3155,\n            'f': \"3155\",\n        },\n{\n            'v': 18.2,\n            'f': \"18.2\",\n        },\n\"1978-01-01 00:00:00\",\n\"USA\"],\n [{\n            'v': 261,\n            'f': \"261\",\n        },\n\"ford fairmont (auto)\",\n{\n            'v': 20.2,\n            'f': \"20.2\",\n        },\n{\n            'v': 6,\n            'f': \"6\",\n        },\n{\n            'v': 200.0,\n            'f': \"200.0\",\n        },\n{\n            'v': 85.0,\n            'f': \"85.0\",\n        },\n{\n            'v': 2965,\n            'f': \"2965\",\n        },\n{\n            'v': 15.8,\n            'f': \"15.8\",\n        },\n\"1978-01-01 00:00:00\",\n\"USA\"],\n [{\n            'v': 262,\n            'f': \"262\",\n        },\n\"ford fairmont (man)\",\n{\n            'v': 25.1,\n            'f': \"25.1\",\n        },\n{\n            'v': 4,\n            'f': \"4\",\n        },\n{\n            'v': 140.0,\n            'f': \"140.0\",\n        },\n{\n            'v': 88.0,\n            'f': \"88.0\",\n        },\n{\n            'v': 2720,\n            'f': \"2720\",\n        },\n{\n            'v': 15.4,\n            'f': \"15.4\",\n        },\n\"1978-01-01 00:00:00\",\n\"USA\"],\n [{\n            'v': 263,\n            'f': \"263\",\n        },\n\"plymouth volare\",\n{\n            'v': 20.5,\n            'f': \"20.5\",\n        },\n{\n            'v': 6,\n            'f': \"6\",\n        },\n{\n            'v': 225.0,\n            'f': \"225.0\",\n        },\n{\n            'v': 100.0,\n            'f': \"100.0\",\n        },\n{\n            'v': 3430,\n            'f': \"3430\",\n        },\n{\n            'v': 17.2,\n            'f': \"17.2\",\n        },\n\"1978-01-01 00:00:00\",\n\"USA\"],\n [{\n            'v': 264,\n            'f': \"264\",\n        },\n\"amc concord\",\n{\n            'v': 19.4,\n            'f': \"19.4\",\n        },\n{\n            'v': 6,\n            'f': \"6\",\n        },\n{\n            'v': 232.0,\n            'f': \"232.0\",\n        },\n{\n            'v': 90.0,\n            'f': \"90.0\",\n        },\n{\n            'v': 3210,\n            'f': \"3210\",\n        },\n{\n            'v': 17.2,\n            'f': \"17.2\",\n        },\n\"1978-01-01 00:00:00\",\n\"USA\"],\n [{\n            'v': 265,\n            'f': \"265\",\n        },\n\"buick century special\",\n{\n            'v': 20.6,\n            'f': \"20.6\",\n        },\n{\n            'v': 6,\n            'f': \"6\",\n        },\n{\n            'v': 231.0,\n            'f': \"231.0\",\n        },\n{\n            'v': 105.0,\n            'f': \"105.0\",\n        },\n{\n            'v': 3380,\n            'f': \"3380\",\n        },\n{\n            'v': 15.8,\n            'f': \"15.8\",\n        },\n\"1978-01-01 00:00:00\",\n\"USA\"],\n [{\n            'v': 266,\n            'f': \"266\",\n        },\n\"mercury zephyr\",\n{\n            'v': 20.8,\n            'f': \"20.8\",\n        },\n{\n            'v': 6,\n            'f': \"6\",\n        },\n{\n            'v': 200.0,\n            'f': \"200.0\",\n        },\n{\n            'v': 85.0,\n            'f': \"85.0\",\n        },\n{\n            'v': 3070,\n            'f': \"3070\",\n        },\n{\n            'v': 16.7,\n            'f': \"16.7\",\n        },\n\"1978-01-01 00:00:00\",\n\"USA\"],\n [{\n            'v': 267,\n            'f': \"267\",\n        },\n\"dodge aspen\",\n{\n            'v': 18.6,\n            'f': \"18.6\",\n        },\n{\n            'v': 6,\n            'f': \"6\",\n        },\n{\n            'v': 225.0,\n            'f': \"225.0\",\n        },\n{\n            'v': 110.0,\n            'f': \"110.0\",\n        },\n{\n            'v': 3620,\n            'f': \"3620\",\n        },\n{\n            'v': 18.7,\n            'f': \"18.7\",\n        },\n\"1978-01-01 00:00:00\",\n\"USA\"],\n [{\n            'v': 268,\n            'f': \"268\",\n        },\n\"amc concord d/l\",\n{\n            'v': 18.1,\n            'f': \"18.1\",\n        },\n{\n            'v': 6,\n            'f': \"6\",\n        },\n{\n            'v': 258.0,\n            'f': \"258.0\",\n        },\n{\n            'v': 120.0,\n            'f': \"120.0\",\n        },\n{\n            'v': 3410,\n            'f': \"3410\",\n        },\n{\n            'v': 15.1,\n            'f': \"15.1\",\n        },\n\"1978-01-01 00:00:00\",\n\"USA\"],\n [{\n            'v': 269,\n            'f': \"269\",\n        },\n\"chevrolet monte carlo landau\",\n{\n            'v': 19.2,\n            'f': \"19.2\",\n        },\n{\n            'v': 8,\n            'f': \"8\",\n        },\n{\n            'v': 305.0,\n            'f': \"305.0\",\n        },\n{\n            'v': 145.0,\n            'f': \"145.0\",\n        },\n{\n            'v': 3425,\n            'f': \"3425\",\n        },\n{\n            'v': 13.2,\n            'f': \"13.2\",\n        },\n\"1978-01-01 00:00:00\",\n\"USA\"],\n [{\n            'v': 270,\n            'f': \"270\",\n        },\n\"buick regal sport coupe (turbo)\",\n{\n            'v': 17.7,\n            'f': \"17.7\",\n        },\n{\n            'v': 6,\n            'f': \"6\",\n        },\n{\n            'v': 231.0,\n            'f': \"231.0\",\n        },\n{\n            'v': 165.0,\n            'f': \"165.0\",\n        },\n{\n            'v': 3445,\n            'f': \"3445\",\n        },\n{\n            'v': 13.4,\n            'f': \"13.4\",\n        },\n\"1978-01-01 00:00:00\",\n\"USA\"],\n [{\n            'v': 271,\n            'f': \"271\",\n        },\n\"ford futura\",\n{\n            'v': 18.1,\n            'f': \"18.1\",\n        },\n{\n            'v': 8,\n            'f': \"8\",\n        },\n{\n            'v': 302.0,\n            'f': \"302.0\",\n        },\n{\n            'v': 139.0,\n            'f': \"139.0\",\n        },\n{\n            'v': 3205,\n            'f': \"3205\",\n        },\n{\n            'v': 11.2,\n            'f': \"11.2\",\n        },\n\"1978-01-01 00:00:00\",\n\"USA\"],\n [{\n            'v': 272,\n            'f': \"272\",\n        },\n\"dodge magnum xe\",\n{\n            'v': 17.5,\n            'f': \"17.5\",\n        },\n{\n            'v': 8,\n            'f': \"8\",\n        },\n{\n            'v': 318.0,\n            'f': \"318.0\",\n        },\n{\n            'v': 140.0,\n            'f': \"140.0\",\n        },\n{\n            'v': 4080,\n            'f': \"4080\",\n        },\n{\n            'v': 13.7,\n            'f': \"13.7\",\n        },\n\"1978-01-01 00:00:00\",\n\"USA\"],\n [{\n            'v': 273,\n            'f': \"273\",\n        },\n\"chevrolet chevette\",\n{\n            'v': 30.0,\n            'f': \"30.0\",\n        },\n{\n            'v': 4,\n            'f': \"4\",\n        },\n{\n            'v': 98.0,\n            'f': \"98.0\",\n        },\n{\n            'v': 68.0,\n            'f': \"68.0\",\n        },\n{\n            'v': 2155,\n            'f': \"2155\",\n        },\n{\n            'v': 16.5,\n            'f': \"16.5\",\n        },\n\"1978-01-01 00:00:00\",\n\"USA\"],\n [{\n            'v': 274,\n            'f': \"274\",\n        },\n\"toyota corona\",\n{\n            'v': 27.5,\n            'f': \"27.5\",\n        },\n{\n            'v': 4,\n            'f': \"4\",\n        },\n{\n            'v': 134.0,\n            'f': \"134.0\",\n        },\n{\n            'v': 95.0,\n            'f': \"95.0\",\n        },\n{\n            'v': 2560,\n            'f': \"2560\",\n        },\n{\n            'v': 14.2,\n            'f': \"14.2\",\n        },\n\"1978-01-01 00:00:00\",\n\"Japan\"],\n [{\n            'v': 275,\n            'f': \"275\",\n        },\n\"datsun 510\",\n{\n            'v': 27.2,\n            'f': \"27.2\",\n        },\n{\n            'v': 4,\n            'f': \"4\",\n        },\n{\n            'v': 119.0,\n            'f': \"119.0\",\n        },\n{\n            'v': 97.0,\n            'f': \"97.0\",\n        },\n{\n            'v': 2300,\n            'f': \"2300\",\n        },\n{\n            'v': 14.7,\n            'f': \"14.7\",\n        },\n\"1978-01-01 00:00:00\",\n\"Japan\"],\n [{\n            'v': 276,\n            'f': \"276\",\n        },\n\"dodge omni\",\n{\n            'v': 30.9,\n            'f': \"30.9\",\n        },\n{\n            'v': 4,\n            'f': \"4\",\n        },\n{\n            'v': 105.0,\n            'f': \"105.0\",\n        },\n{\n            'v': 75.0,\n            'f': \"75.0\",\n        },\n{\n            'v': 2230,\n            'f': \"2230\",\n        },\n{\n            'v': 14.5,\n            'f': \"14.5\",\n        },\n\"1978-01-01 00:00:00\",\n\"USA\"],\n [{\n            'v': 277,\n            'f': \"277\",\n        },\n\"toyota celica gt liftback\",\n{\n            'v': 21.1,\n            'f': \"21.1\",\n        },\n{\n            'v': 4,\n            'f': \"4\",\n        },\n{\n            'v': 134.0,\n            'f': \"134.0\",\n        },\n{\n            'v': 95.0,\n            'f': \"95.0\",\n        },\n{\n            'v': 2515,\n            'f': \"2515\",\n        },\n{\n            'v': 14.8,\n            'f': \"14.8\",\n        },\n\"1978-01-01 00:00:00\",\n\"Japan\"],\n [{\n            'v': 278,\n            'f': \"278\",\n        },\n\"plymouth sapporo\",\n{\n            'v': 23.2,\n            'f': \"23.2\",\n        },\n{\n            'v': 4,\n            'f': \"4\",\n        },\n{\n            'v': 156.0,\n            'f': \"156.0\",\n        },\n{\n            'v': 105.0,\n            'f': \"105.0\",\n        },\n{\n            'v': 2745,\n            'f': \"2745\",\n        },\n{\n            'v': 16.7,\n            'f': \"16.7\",\n        },\n\"1978-01-01 00:00:00\",\n\"USA\"],\n [{\n            'v': 279,\n            'f': \"279\",\n        },\n\"oldsmobile starfire sx\",\n{\n            'v': 23.8,\n            'f': \"23.8\",\n        },\n{\n            'v': 4,\n            'f': \"4\",\n        },\n{\n            'v': 151.0,\n            'f': \"151.0\",\n        },\n{\n            'v': 85.0,\n            'f': \"85.0\",\n        },\n{\n            'v': 2855,\n            'f': \"2855\",\n        },\n{\n            'v': 17.6,\n            'f': \"17.6\",\n        },\n\"1978-01-01 00:00:00\",\n\"USA\"],\n [{\n            'v': 280,\n            'f': \"280\",\n        },\n\"datsun 200-sx\",\n{\n            'v': 23.9,\n            'f': \"23.9\",\n        },\n{\n            'v': 4,\n            'f': \"4\",\n        },\n{\n            'v': 119.0,\n            'f': \"119.0\",\n        },\n{\n            'v': 97.0,\n            'f': \"97.0\",\n        },\n{\n            'v': 2405,\n            'f': \"2405\",\n        },\n{\n            'v': 14.9,\n            'f': \"14.9\",\n        },\n\"1978-01-01 00:00:00\",\n\"Japan\"],\n [{\n            'v': 281,\n            'f': \"281\",\n        },\n\"audi 5000\",\n{\n            'v': 20.3,\n            'f': \"20.3\",\n        },\n{\n            'v': 5,\n            'f': \"5\",\n        },\n{\n            'v': 131.0,\n            'f': \"131.0\",\n        },\n{\n            'v': 103.0,\n            'f': \"103.0\",\n        },\n{\n            'v': 2830,\n            'f': \"2830\",\n        },\n{\n            'v': 15.9,\n            'f': \"15.9\",\n        },\n\"1978-01-01 00:00:00\",\n\"Europe\"],\n [{\n            'v': 282,\n            'f': \"282\",\n        },\n\"volvo 264gl\",\n{\n            'v': 17.0,\n            'f': \"17.0\",\n        },\n{\n            'v': 6,\n            'f': \"6\",\n        },\n{\n            'v': 163.0,\n            'f': \"163.0\",\n        },\n{\n            'v': 125.0,\n            'f': \"125.0\",\n        },\n{\n            'v': 3140,\n            'f': \"3140\",\n        },\n{\n            'v': 13.6,\n            'f': \"13.6\",\n        },\n\"1978-01-01 00:00:00\",\n\"Europe\"],\n [{\n            'v': 283,\n            'f': \"283\",\n        },\n\"saab 99gle\",\n{\n            'v': 21.6,\n            'f': \"21.6\",\n        },\n{\n            'v': 4,\n            'f': \"4\",\n        },\n{\n            'v': 121.0,\n            'f': \"121.0\",\n        },\n{\n            'v': 115.0,\n            'f': \"115.0\",\n        },\n{\n            'v': 2795,\n            'f': \"2795\",\n        },\n{\n            'v': 15.7,\n            'f': \"15.7\",\n        },\n\"1978-01-01 00:00:00\",\n\"Europe\"],\n [{\n            'v': 284,\n            'f': \"284\",\n        },\n\"peugeot 604sl\",\n{\n            'v': 16.2,\n            'f': \"16.2\",\n        },\n{\n            'v': 6,\n            'f': \"6\",\n        },\n{\n            'v': 163.0,\n            'f': \"163.0\",\n        },\n{\n            'v': 133.0,\n            'f': \"133.0\",\n        },\n{\n            'v': 3410,\n            'f': \"3410\",\n        },\n{\n            'v': 15.8,\n            'f': \"15.8\",\n        },\n\"1978-01-01 00:00:00\",\n\"Europe\"],\n [{\n            'v': 285,\n            'f': \"285\",\n        },\n\"volkswagen scirocco\",\n{\n            'v': 31.5,\n            'f': \"31.5\",\n        },\n{\n            'v': 4,\n            'f': \"4\",\n        },\n{\n            'v': 89.0,\n            'f': \"89.0\",\n        },\n{\n            'v': 71.0,\n            'f': \"71.0\",\n        },\n{\n            'v': 1990,\n            'f': \"1990\",\n        },\n{\n            'v': 14.9,\n            'f': \"14.9\",\n        },\n\"1978-01-01 00:00:00\",\n\"Europe\"],\n [{\n            'v': 286,\n            'f': \"286\",\n        },\n\"honda Accelerationord lx\",\n{\n            'v': 29.5,\n            'f': \"29.5\",\n        },\n{\n            'v': 4,\n            'f': \"4\",\n        },\n{\n            'v': 98.0,\n            'f': \"98.0\",\n        },\n{\n            'v': 68.0,\n            'f': \"68.0\",\n        },\n{\n            'v': 2135,\n            'f': \"2135\",\n        },\n{\n            'v': 16.6,\n            'f': \"16.6\",\n        },\n\"1978-01-01 00:00:00\",\n\"Japan\"],\n [{\n            'v': 287,\n            'f': \"287\",\n        },\n\"pontiac lemans v6\",\n{\n            'v': 21.5,\n            'f': \"21.5\",\n        },\n{\n            'v': 6,\n            'f': \"6\",\n        },\n{\n            'v': 231.0,\n            'f': \"231.0\",\n        },\n{\n            'v': 115.0,\n            'f': \"115.0\",\n        },\n{\n            'v': 3245,\n            'f': \"3245\",\n        },\n{\n            'v': 15.4,\n            'f': \"15.4\",\n        },\n\"1979-01-01 00:00:00\",\n\"USA\"],\n [{\n            'v': 288,\n            'f': \"288\",\n        },\n\"mercury zephyr 6\",\n{\n            'v': 19.8,\n            'f': \"19.8\",\n        },\n{\n            'v': 6,\n            'f': \"6\",\n        },\n{\n            'v': 200.0,\n            'f': \"200.0\",\n        },\n{\n            'v': 85.0,\n            'f': \"85.0\",\n        },\n{\n            'v': 2990,\n            'f': \"2990\",\n        },\n{\n            'v': 18.2,\n            'f': \"18.2\",\n        },\n\"1979-01-01 00:00:00\",\n\"USA\"],\n [{\n            'v': 289,\n            'f': \"289\",\n        },\n\"ford fairmont 4\",\n{\n            'v': 22.3,\n            'f': \"22.3\",\n        },\n{\n            'v': 4,\n            'f': \"4\",\n        },\n{\n            'v': 140.0,\n            'f': \"140.0\",\n        },\n{\n            'v': 88.0,\n            'f': \"88.0\",\n        },\n{\n            'v': 2890,\n            'f': \"2890\",\n        },\n{\n            'v': 17.3,\n            'f': \"17.3\",\n        },\n\"1979-01-01 00:00:00\",\n\"USA\"],\n [{\n            'v': 290,\n            'f': \"290\",\n        },\n\"amc concord dl 6\",\n{\n            'v': 20.2,\n            'f': \"20.2\",\n        },\n{\n            'v': 6,\n            'f': \"6\",\n        },\n{\n            'v': 232.0,\n            'f': \"232.0\",\n        },\n{\n            'v': 90.0,\n            'f': \"90.0\",\n        },\n{\n            'v': 3265,\n            'f': \"3265\",\n        },\n{\n            'v': 18.2,\n            'f': \"18.2\",\n        },\n\"1979-01-01 00:00:00\",\n\"USA\"],\n [{\n            'v': 291,\n            'f': \"291\",\n        },\n\"dodge aspen 6\",\n{\n            'v': 20.6,\n            'f': \"20.6\",\n        },\n{\n            'v': 6,\n            'f': \"6\",\n        },\n{\n            'v': 225.0,\n            'f': \"225.0\",\n        },\n{\n            'v': 110.0,\n            'f': \"110.0\",\n        },\n{\n            'v': 3360,\n            'f': \"3360\",\n        },\n{\n            'v': 16.6,\n            'f': \"16.6\",\n        },\n\"1979-01-01 00:00:00\",\n\"USA\"],\n [{\n            'v': 292,\n            'f': \"292\",\n        },\n\"chevrolet caprice classic\",\n{\n            'v': 17.0,\n            'f': \"17.0\",\n        },\n{\n            'v': 8,\n            'f': \"8\",\n        },\n{\n            'v': 305.0,\n            'f': \"305.0\",\n        },\n{\n            'v': 130.0,\n            'f': \"130.0\",\n        },\n{\n            'v': 3840,\n            'f': \"3840\",\n        },\n{\n            'v': 15.4,\n            'f': \"15.4\",\n        },\n\"1979-01-01 00:00:00\",\n\"USA\"],\n [{\n            'v': 293,\n            'f': \"293\",\n        },\n\"ford ltd landau\",\n{\n            'v': 17.6,\n            'f': \"17.6\",\n        },\n{\n            'v': 8,\n            'f': \"8\",\n        },\n{\n            'v': 302.0,\n            'f': \"302.0\",\n        },\n{\n            'v': 129.0,\n            'f': \"129.0\",\n        },\n{\n            'v': 3725,\n            'f': \"3725\",\n        },\n{\n            'v': 13.4,\n            'f': \"13.4\",\n        },\n\"1979-01-01 00:00:00\",\n\"USA\"],\n [{\n            'v': 294,\n            'f': \"294\",\n        },\n\"mercury grand marquis\",\n{\n            'v': 16.5,\n            'f': \"16.5\",\n        },\n{\n            'v': 8,\n            'f': \"8\",\n        },\n{\n            'v': 351.0,\n            'f': \"351.0\",\n        },\n{\n            'v': 138.0,\n            'f': \"138.0\",\n        },\n{\n            'v': 3955,\n            'f': \"3955\",\n        },\n{\n            'v': 13.2,\n            'f': \"13.2\",\n        },\n\"1979-01-01 00:00:00\",\n\"USA\"],\n [{\n            'v': 295,\n            'f': \"295\",\n        },\n\"dodge st. regis\",\n{\n            'v': 18.2,\n            'f': \"18.2\",\n        },\n{\n            'v': 8,\n            'f': \"8\",\n        },\n{\n            'v': 318.0,\n            'f': \"318.0\",\n        },\n{\n            'v': 135.0,\n            'f': \"135.0\",\n        },\n{\n            'v': 3830,\n            'f': \"3830\",\n        },\n{\n            'v': 15.2,\n            'f': \"15.2\",\n        },\n\"1979-01-01 00:00:00\",\n\"USA\"],\n [{\n            'v': 296,\n            'f': \"296\",\n        },\n\"buick estate wagon (sw)\",\n{\n            'v': 16.9,\n            'f': \"16.9\",\n        },\n{\n            'v': 8,\n            'f': \"8\",\n        },\n{\n            'v': 350.0,\n            'f': \"350.0\",\n        },\n{\n            'v': 155.0,\n            'f': \"155.0\",\n        },\n{\n            'v': 4360,\n            'f': \"4360\",\n        },\n{\n            'v': 14.9,\n            'f': \"14.9\",\n        },\n\"1979-01-01 00:00:00\",\n\"USA\"],\n [{\n            'v': 297,\n            'f': \"297\",\n        },\n\"ford country squire (sw)\",\n{\n            'v': 15.5,\n            'f': \"15.5\",\n        },\n{\n            'v': 8,\n            'f': \"8\",\n        },\n{\n            'v': 351.0,\n            'f': \"351.0\",\n        },\n{\n            'v': 142.0,\n            'f': \"142.0\",\n        },\n{\n            'v': 4054,\n            'f': \"4054\",\n        },\n{\n            'v': 14.3,\n            'f': \"14.3\",\n        },\n\"1979-01-01 00:00:00\",\n\"USA\"],\n [{\n            'v': 298,\n            'f': \"298\",\n        },\n\"chevrolet malibu classic (sw)\",\n{\n            'v': 19.2,\n            'f': \"19.2\",\n        },\n{\n            'v': 8,\n            'f': \"8\",\n        },\n{\n            'v': 267.0,\n            'f': \"267.0\",\n        },\n{\n            'v': 125.0,\n            'f': \"125.0\",\n        },\n{\n            'v': 3605,\n            'f': \"3605\",\n        },\n{\n            'v': 15.0,\n            'f': \"15.0\",\n        },\n\"1979-01-01 00:00:00\",\n\"USA\"],\n [{\n            'v': 299,\n            'f': \"299\",\n        },\n\"chrysler lebaron town @ country (sw)\",\n{\n            'v': 18.5,\n            'f': \"18.5\",\n        },\n{\n            'v': 8,\n            'f': \"8\",\n        },\n{\n            'v': 360.0,\n            'f': \"360.0\",\n        },\n{\n            'v': 150.0,\n            'f': \"150.0\",\n        },\n{\n            'v': 3940,\n            'f': \"3940\",\n        },\n{\n            'v': 13.0,\n            'f': \"13.0\",\n        },\n\"1979-01-01 00:00:00\",\n\"USA\"],\n [{\n            'v': 300,\n            'f': \"300\",\n        },\n\"vw rabbit custom\",\n{\n            'v': 31.9,\n            'f': \"31.9\",\n        },\n{\n            'v': 4,\n            'f': \"4\",\n        },\n{\n            'v': 89.0,\n            'f': \"89.0\",\n        },\n{\n            'v': 71.0,\n            'f': \"71.0\",\n        },\n{\n            'v': 1925,\n            'f': \"1925\",\n        },\n{\n            'v': 14.0,\n            'f': \"14.0\",\n        },\n\"1979-01-01 00:00:00\",\n\"Europe\"],\n [{\n            'v': 301,\n            'f': \"301\",\n        },\n\"maxda glc deluxe\",\n{\n            'v': 34.1,\n            'f': \"34.1\",\n        },\n{\n            'v': 4,\n            'f': \"4\",\n        },\n{\n            'v': 86.0,\n            'f': \"86.0\",\n        },\n{\n            'v': 65.0,\n            'f': \"65.0\",\n        },\n{\n            'v': 1975,\n            'f': \"1975\",\n        },\n{\n            'v': 15.2,\n            'f': \"15.2\",\n        },\n\"1979-01-01 00:00:00\",\n\"Japan\"],\n [{\n            'v': 302,\n            'f': \"302\",\n        },\n\"dodge colt hatchback custom\",\n{\n            'v': 35.7,\n            'f': \"35.7\",\n        },\n{\n            'v': 4,\n            'f': \"4\",\n        },\n{\n            'v': 98.0,\n            'f': \"98.0\",\n        },\n{\n            'v': 80.0,\n            'f': \"80.0\",\n        },\n{\n            'v': 1915,\n            'f': \"1915\",\n        },\n{\n            'v': 14.4,\n            'f': \"14.4\",\n        },\n\"1979-01-01 00:00:00\",\n\"USA\"],\n [{\n            'v': 303,\n            'f': \"303\",\n        },\n\"amc spirit dl\",\n{\n            'v': 27.4,\n            'f': \"27.4\",\n        },\n{\n            'v': 4,\n            'f': \"4\",\n        },\n{\n            'v': 121.0,\n            'f': \"121.0\",\n        },\n{\n            'v': 80.0,\n            'f': \"80.0\",\n        },\n{\n            'v': 2670,\n            'f': \"2670\",\n        },\n{\n            'v': 15.0,\n            'f': \"15.0\",\n        },\n\"1979-01-01 00:00:00\",\n\"USA\"],\n [{\n            'v': 304,\n            'f': \"304\",\n        },\n\"mercedes benz 300d\",\n{\n            'v': 25.4,\n            'f': \"25.4\",\n        },\n{\n            'v': 5,\n            'f': \"5\",\n        },\n{\n            'v': 183.0,\n            'f': \"183.0\",\n        },\n{\n            'v': 77.0,\n            'f': \"77.0\",\n        },\n{\n            'v': 3530,\n            'f': \"3530\",\n        },\n{\n            'v': 20.1,\n            'f': \"20.1\",\n        },\n\"1979-01-01 00:00:00\",\n\"Europe\"],\n [{\n            'v': 305,\n            'f': \"305\",\n        },\n\"cadillac eldorado\",\n{\n            'v': 23.0,\n            'f': \"23.0\",\n        },\n{\n            'v': 8,\n            'f': \"8\",\n        },\n{\n            'v': 350.0,\n            'f': \"350.0\",\n        },\n{\n            'v': 125.0,\n            'f': \"125.0\",\n        },\n{\n            'v': 3900,\n            'f': \"3900\",\n        },\n{\n            'v': 17.4,\n            'f': \"17.4\",\n        },\n\"1979-01-01 00:00:00\",\n\"USA\"],\n [{\n            'v': 306,\n            'f': \"306\",\n        },\n\"peugeot 504\",\n{\n            'v': 27.2,\n            'f': \"27.2\",\n        },\n{\n            'v': 4,\n            'f': \"4\",\n        },\n{\n            'v': 141.0,\n            'f': \"141.0\",\n        },\n{\n            'v': 71.0,\n            'f': \"71.0\",\n        },\n{\n            'v': 3190,\n            'f': \"3190\",\n        },\n{\n            'v': 24.8,\n            'f': \"24.8\",\n        },\n\"1979-01-01 00:00:00\",\n\"Europe\"],\n [{\n            'v': 307,\n            'f': \"307\",\n        },\n\"oldsmobile cutlass salon brougham\",\n{\n            'v': 23.9,\n            'f': \"23.9\",\n        },\n{\n            'v': 8,\n            'f': \"8\",\n        },\n{\n            'v': 260.0,\n            'f': \"260.0\",\n        },\n{\n            'v': 90.0,\n            'f': \"90.0\",\n        },\n{\n            'v': 3420,\n            'f': \"3420\",\n        },\n{\n            'v': 22.2,\n            'f': \"22.2\",\n        },\n\"1979-01-01 00:00:00\",\n\"USA\"],\n [{\n            'v': 308,\n            'f': \"308\",\n        },\n\"plymouth horizon\",\n{\n            'v': 34.2,\n            'f': \"34.2\",\n        },\n{\n            'v': 4,\n            'f': \"4\",\n        },\n{\n            'v': 105.0,\n            'f': \"105.0\",\n        },\n{\n            'v': 70.0,\n            'f': \"70.0\",\n        },\n{\n            'v': 2200,\n            'f': \"2200\",\n        },\n{\n            'v': 13.2,\n            'f': \"13.2\",\n        },\n\"1979-01-01 00:00:00\",\n\"USA\"],\n [{\n            'v': 309,\n            'f': \"309\",\n        },\n\"plymouth horizon tc3\",\n{\n            'v': 34.5,\n            'f': \"34.5\",\n        },\n{\n            'v': 4,\n            'f': \"4\",\n        },\n{\n            'v': 105.0,\n            'f': \"105.0\",\n        },\n{\n            'v': 70.0,\n            'f': \"70.0\",\n        },\n{\n            'v': 2150,\n            'f': \"2150\",\n        },\n{\n            'v': 14.9,\n            'f': \"14.9\",\n        },\n\"1979-01-01 00:00:00\",\n\"USA\"],\n [{\n            'v': 310,\n            'f': \"310\",\n        },\n\"datsun 210\",\n{\n            'v': 31.8,\n            'f': \"31.8\",\n        },\n{\n            'v': 4,\n            'f': \"4\",\n        },\n{\n            'v': 85.0,\n            'f': \"85.0\",\n        },\n{\n            'v': 65.0,\n            'f': \"65.0\",\n        },\n{\n            'v': 2020,\n            'f': \"2020\",\n        },\n{\n            'v': 19.2,\n            'f': \"19.2\",\n        },\n\"1979-01-01 00:00:00\",\n\"Japan\"],\n [{\n            'v': 311,\n            'f': \"311\",\n        },\n\"fiat strada custom\",\n{\n            'v': 37.3,\n            'f': \"37.3\",\n        },\n{\n            'v': 4,\n            'f': \"4\",\n        },\n{\n            'v': 91.0,\n            'f': \"91.0\",\n        },\n{\n            'v': 69.0,\n            'f': \"69.0\",\n        },\n{\n            'v': 2130,\n            'f': \"2130\",\n        },\n{\n            'v': 14.7,\n            'f': \"14.7\",\n        },\n\"1979-01-01 00:00:00\",\n\"Europe\"],\n [{\n            'v': 312,\n            'f': \"312\",\n        },\n\"buick skylark limited\",\n{\n            'v': 28.4,\n            'f': \"28.4\",\n        },\n{\n            'v': 4,\n            'f': \"4\",\n        },\n{\n            'v': 151.0,\n            'f': \"151.0\",\n        },\n{\n            'v': 90.0,\n            'f': \"90.0\",\n        },\n{\n            'v': 2670,\n            'f': \"2670\",\n        },\n{\n            'v': 16.0,\n            'f': \"16.0\",\n        },\n\"1979-01-01 00:00:00\",\n\"USA\"],\n [{\n            'v': 313,\n            'f': \"313\",\n        },\n\"chevrolet citation\",\n{\n            'v': 28.8,\n            'f': \"28.8\",\n        },\n{\n            'v': 6,\n            'f': \"6\",\n        },\n{\n            'v': 173.0,\n            'f': \"173.0\",\n        },\n{\n            'v': 115.0,\n            'f': \"115.0\",\n        },\n{\n            'v': 2595,\n            'f': \"2595\",\n        },\n{\n            'v': 11.3,\n            'f': \"11.3\",\n        },\n\"1979-01-01 00:00:00\",\n\"USA\"],\n [{\n            'v': 314,\n            'f': \"314\",\n        },\n\"oldsmobile omega brougham\",\n{\n            'v': 26.8,\n            'f': \"26.8\",\n        },\n{\n            'v': 6,\n            'f': \"6\",\n        },\n{\n            'v': 173.0,\n            'f': \"173.0\",\n        },\n{\n            'v': 115.0,\n            'f': \"115.0\",\n        },\n{\n            'v': 2700,\n            'f': \"2700\",\n        },\n{\n            'v': 12.9,\n            'f': \"12.9\",\n        },\n\"1979-01-01 00:00:00\",\n\"USA\"],\n [{\n            'v': 315,\n            'f': \"315\",\n        },\n\"pontiac phoenix\",\n{\n            'v': 33.5,\n            'f': \"33.5\",\n        },\n{\n            'v': 4,\n            'f': \"4\",\n        },\n{\n            'v': 151.0,\n            'f': \"151.0\",\n        },\n{\n            'v': 90.0,\n            'f': \"90.0\",\n        },\n{\n            'v': 2556,\n            'f': \"2556\",\n        },\n{\n            'v': 13.2,\n            'f': \"13.2\",\n        },\n\"1979-01-01 00:00:00\",\n\"USA\"],\n [{\n            'v': 316,\n            'f': \"316\",\n        },\n\"vw rabbit\",\n{\n            'v': 41.5,\n            'f': \"41.5\",\n        },\n{\n            'v': 4,\n            'f': \"4\",\n        },\n{\n            'v': 98.0,\n            'f': \"98.0\",\n        },\n{\n            'v': 76.0,\n            'f': \"76.0\",\n        },\n{\n            'v': 2144,\n            'f': \"2144\",\n        },\n{\n            'v': 14.7,\n            'f': \"14.7\",\n        },\n\"1980-01-01 00:00:00\",\n\"Europe\"],\n [{\n            'v': 317,\n            'f': \"317\",\n        },\n\"toyota corolla tercel\",\n{\n            'v': 38.1,\n            'f': \"38.1\",\n        },\n{\n            'v': 4,\n            'f': \"4\",\n        },\n{\n            'v': 89.0,\n            'f': \"89.0\",\n        },\n{\n            'v': 60.0,\n            'f': \"60.0\",\n        },\n{\n            'v': 1968,\n            'f': \"1968\",\n        },\n{\n            'v': 18.8,\n            'f': \"18.8\",\n        },\n\"1980-01-01 00:00:00\",\n\"Japan\"],\n [{\n            'v': 318,\n            'f': \"318\",\n        },\n\"chevrolet chevette\",\n{\n            'v': 32.1,\n            'f': \"32.1\",\n        },\n{\n            'v': 4,\n            'f': \"4\",\n        },\n{\n            'v': 98.0,\n            'f': \"98.0\",\n        },\n{\n            'v': 70.0,\n            'f': \"70.0\",\n        },\n{\n            'v': 2120,\n            'f': \"2120\",\n        },\n{\n            'v': 15.5,\n            'f': \"15.5\",\n        },\n\"1980-01-01 00:00:00\",\n\"USA\"],\n [{\n            'v': 319,\n            'f': \"319\",\n        },\n\"datsun 310\",\n{\n            'v': 37.2,\n            'f': \"37.2\",\n        },\n{\n            'v': 4,\n            'f': \"4\",\n        },\n{\n            'v': 86.0,\n            'f': \"86.0\",\n        },\n{\n            'v': 65.0,\n            'f': \"65.0\",\n        },\n{\n            'v': 2019,\n            'f': \"2019\",\n        },\n{\n            'v': 16.4,\n            'f': \"16.4\",\n        },\n\"1980-01-01 00:00:00\",\n\"Japan\"],\n [{\n            'v': 320,\n            'f': \"320\",\n        },\n\"chevrolet citation\",\n{\n            'v': 28.0,\n            'f': \"28.0\",\n        },\n{\n            'v': 4,\n            'f': \"4\",\n        },\n{\n            'v': 151.0,\n            'f': \"151.0\",\n        },\n{\n            'v': 90.0,\n            'f': \"90.0\",\n        },\n{\n            'v': 2678,\n            'f': \"2678\",\n        },\n{\n            'v': 16.5,\n            'f': \"16.5\",\n        },\n\"1980-01-01 00:00:00\",\n\"USA\"],\n [{\n            'v': 321,\n            'f': \"321\",\n        },\n\"ford fairmont\",\n{\n            'v': 26.4,\n            'f': \"26.4\",\n        },\n{\n            'v': 4,\n            'f': \"4\",\n        },\n{\n            'v': 140.0,\n            'f': \"140.0\",\n        },\n{\n            'v': 88.0,\n            'f': \"88.0\",\n        },\n{\n            'v': 2870,\n            'f': \"2870\",\n        },\n{\n            'v': 18.1,\n            'f': \"18.1\",\n        },\n\"1980-01-01 00:00:00\",\n\"USA\"],\n [{\n            'v': 322,\n            'f': \"322\",\n        },\n\"amc concord\",\n{\n            'v': 24.3,\n            'f': \"24.3\",\n        },\n{\n            'v': 4,\n            'f': \"4\",\n        },\n{\n            'v': 151.0,\n            'f': \"151.0\",\n        },\n{\n            'v': 90.0,\n            'f': \"90.0\",\n        },\n{\n            'v': 3003,\n            'f': \"3003\",\n        },\n{\n            'v': 20.1,\n            'f': \"20.1\",\n        },\n\"1980-01-01 00:00:00\",\n\"USA\"],\n [{\n            'v': 323,\n            'f': \"323\",\n        },\n\"dodge aspen\",\n{\n            'v': 19.1,\n            'f': \"19.1\",\n        },\n{\n            'v': 6,\n            'f': \"6\",\n        },\n{\n            'v': 225.0,\n            'f': \"225.0\",\n        },\n{\n            'v': 90.0,\n            'f': \"90.0\",\n        },\n{\n            'v': 3381,\n            'f': \"3381\",\n        },\n{\n            'v': 18.7,\n            'f': \"18.7\",\n        },\n\"1980-01-01 00:00:00\",\n\"USA\"],\n [{\n            'v': 324,\n            'f': \"324\",\n        },\n\"audi 4000\",\n{\n            'v': 34.3,\n            'f': \"34.3\",\n        },\n{\n            'v': 4,\n            'f': \"4\",\n        },\n{\n            'v': 97.0,\n            'f': \"97.0\",\n        },\n{\n            'v': 78.0,\n            'f': \"78.0\",\n        },\n{\n            'v': 2188,\n            'f': \"2188\",\n        },\n{\n            'v': 15.8,\n            'f': \"15.8\",\n        },\n\"1980-01-01 00:00:00\",\n\"Europe\"],\n [{\n            'v': 325,\n            'f': \"325\",\n        },\n\"toyota corona liftback\",\n{\n            'v': 29.8,\n            'f': \"29.8\",\n        },\n{\n            'v': 4,\n            'f': \"4\",\n        },\n{\n            'v': 134.0,\n            'f': \"134.0\",\n        },\n{\n            'v': 90.0,\n            'f': \"90.0\",\n        },\n{\n            'v': 2711,\n            'f': \"2711\",\n        },\n{\n            'v': 15.5,\n            'f': \"15.5\",\n        },\n\"1980-01-01 00:00:00\",\n\"Japan\"],\n [{\n            'v': 326,\n            'f': \"326\",\n        },\n\"mazda 626\",\n{\n            'v': 31.3,\n            'f': \"31.3\",\n        },\n{\n            'v': 4,\n            'f': \"4\",\n        },\n{\n            'v': 120.0,\n            'f': \"120.0\",\n        },\n{\n            'v': 75.0,\n            'f': \"75.0\",\n        },\n{\n            'v': 2542,\n            'f': \"2542\",\n        },\n{\n            'v': 17.5,\n            'f': \"17.5\",\n        },\n\"1980-01-01 00:00:00\",\n\"Japan\"],\n [{\n            'v': 327,\n            'f': \"327\",\n        },\n\"datsun 510 hatchback\",\n{\n            'v': 37.0,\n            'f': \"37.0\",\n        },\n{\n            'v': 4,\n            'f': \"4\",\n        },\n{\n            'v': 119.0,\n            'f': \"119.0\",\n        },\n{\n            'v': 92.0,\n            'f': \"92.0\",\n        },\n{\n            'v': 2434,\n            'f': \"2434\",\n        },\n{\n            'v': 15.0,\n            'f': \"15.0\",\n        },\n\"1980-01-01 00:00:00\",\n\"Japan\"],\n [{\n            'v': 328,\n            'f': \"328\",\n        },\n\"toyota corolla\",\n{\n            'v': 32.2,\n            'f': \"32.2\",\n        },\n{\n            'v': 4,\n            'f': \"4\",\n        },\n{\n            'v': 108.0,\n            'f': \"108.0\",\n        },\n{\n            'v': 75.0,\n            'f': \"75.0\",\n        },\n{\n            'v': 2265,\n            'f': \"2265\",\n        },\n{\n            'v': 15.2,\n            'f': \"15.2\",\n        },\n\"1980-01-01 00:00:00\",\n\"Japan\"],\n [{\n            'v': 329,\n            'f': \"329\",\n        },\n\"mazda glc\",\n{\n            'v': 46.6,\n            'f': \"46.6\",\n        },\n{\n            'v': 4,\n            'f': \"4\",\n        },\n{\n            'v': 86.0,\n            'f': \"86.0\",\n        },\n{\n            'v': 65.0,\n            'f': \"65.0\",\n        },\n{\n            'v': 2110,\n            'f': \"2110\",\n        },\n{\n            'v': 17.9,\n            'f': \"17.9\",\n        },\n\"1980-01-01 00:00:00\",\n\"Japan\"],\n [{\n            'v': 330,\n            'f': \"330\",\n        },\n\"dodge colt\",\n{\n            'v': 27.9,\n            'f': \"27.9\",\n        },\n{\n            'v': 4,\n            'f': \"4\",\n        },\n{\n            'v': 156.0,\n            'f': \"156.0\",\n        },\n{\n            'v': 105.0,\n            'f': \"105.0\",\n        },\n{\n            'v': 2800,\n            'f': \"2800\",\n        },\n{\n            'v': 14.4,\n            'f': \"14.4\",\n        },\n\"1980-01-01 00:00:00\",\n\"USA\"],\n [{\n            'v': 331,\n            'f': \"331\",\n        },\n\"datsun 210\",\n{\n            'v': 40.8,\n            'f': \"40.8\",\n        },\n{\n            'v': 4,\n            'f': \"4\",\n        },\n{\n            'v': 85.0,\n            'f': \"85.0\",\n        },\n{\n            'v': 65.0,\n            'f': \"65.0\",\n        },\n{\n            'v': 2110,\n            'f': \"2110\",\n        },\n{\n            'v': 19.2,\n            'f': \"19.2\",\n        },\n\"1980-01-01 00:00:00\",\n\"Japan\"],\n [{\n            'v': 332,\n            'f': \"332\",\n        },\n\"vw rabbit c (diesel)\",\n{\n            'v': 44.3,\n            'f': \"44.3\",\n        },\n{\n            'v': 4,\n            'f': \"4\",\n        },\n{\n            'v': 90.0,\n            'f': \"90.0\",\n        },\n{\n            'v': 48.0,\n            'f': \"48.0\",\n        },\n{\n            'v': 2085,\n            'f': \"2085\",\n        },\n{\n            'v': 21.7,\n            'f': \"21.7\",\n        },\n\"1980-01-01 00:00:00\",\n\"Europe\"],\n [{\n            'v': 333,\n            'f': \"333\",\n        },\n\"vw dasher (diesel)\",\n{\n            'v': 43.4,\n            'f': \"43.4\",\n        },\n{\n            'v': 4,\n            'f': \"4\",\n        },\n{\n            'v': 90.0,\n            'f': \"90.0\",\n        },\n{\n            'v': 48.0,\n            'f': \"48.0\",\n        },\n{\n            'v': 2335,\n            'f': \"2335\",\n        },\n{\n            'v': 23.7,\n            'f': \"23.7\",\n        },\n\"1980-01-01 00:00:00\",\n\"Europe\"],\n [{\n            'v': 334,\n            'f': \"334\",\n        },\n\"audi 5000s (diesel)\",\n{\n            'v': 36.4,\n            'f': \"36.4\",\n        },\n{\n            'v': 5,\n            'f': \"5\",\n        },\n{\n            'v': 121.0,\n            'f': \"121.0\",\n        },\n{\n            'v': 67.0,\n            'f': \"67.0\",\n        },\n{\n            'v': 2950,\n            'f': \"2950\",\n        },\n{\n            'v': 19.9,\n            'f': \"19.9\",\n        },\n\"1980-01-01 00:00:00\",\n\"Europe\"],\n [{\n            'v': 335,\n            'f': \"335\",\n        },\n\"mercedes-benz 240d\",\n{\n            'v': 30.0,\n            'f': \"30.0\",\n        },\n{\n            'v': 4,\n            'f': \"4\",\n        },\n{\n            'v': 146.0,\n            'f': \"146.0\",\n        },\n{\n            'v': 67.0,\n            'f': \"67.0\",\n        },\n{\n            'v': 3250,\n            'f': \"3250\",\n        },\n{\n            'v': 21.8,\n            'f': \"21.8\",\n        },\n\"1980-01-01 00:00:00\",\n\"Europe\"],\n [{\n            'v': 336,\n            'f': \"336\",\n        },\n\"honda civic 1500 gl\",\n{\n            'v': 44.6,\n            'f': \"44.6\",\n        },\n{\n            'v': 4,\n            'f': \"4\",\n        },\n{\n            'v': 91.0,\n            'f': \"91.0\",\n        },\n{\n            'v': 67.0,\n            'f': \"67.0\",\n        },\n{\n            'v': 1850,\n            'f': \"1850\",\n        },\n{\n            'v': 13.8,\n            'f': \"13.8\",\n        },\n\"1980-01-01 00:00:00\",\n\"Japan\"],\n [{\n            'v': 337,\n            'f': \"337\",\n        },\n\"renault lecar deluxe\",\n{\n            'v': 40.9,\n            'f': \"40.9\",\n        },\n{\n            'v': 4,\n            'f': \"4\",\n        },\n{\n            'v': 85.0,\n            'f': \"85.0\",\n        },\n{\n            'v': NaN,\n            'f': \"NaN\",\n        },\n{\n            'v': 1835,\n            'f': \"1835\",\n        },\n{\n            'v': 17.3,\n            'f': \"17.3\",\n        },\n\"1980-01-01 00:00:00\",\n\"Europe\"],\n [{\n            'v': 338,\n            'f': \"338\",\n        },\n\"subaru dl\",\n{\n            'v': 33.8,\n            'f': \"33.8\",\n        },\n{\n            'v': 4,\n            'f': \"4\",\n        },\n{\n            'v': 97.0,\n            'f': \"97.0\",\n        },\n{\n            'v': 67.0,\n            'f': \"67.0\",\n        },\n{\n            'v': 2145,\n            'f': \"2145\",\n        },\n{\n            'v': 18.0,\n            'f': \"18.0\",\n        },\n\"1980-01-01 00:00:00\",\n\"Japan\"],\n [{\n            'v': 339,\n            'f': \"339\",\n        },\n\"vokswagen rabbit\",\n{\n            'v': 29.8,\n            'f': \"29.8\",\n        },\n{\n            'v': 4,\n            'f': \"4\",\n        },\n{\n            'v': 89.0,\n            'f': \"89.0\",\n        },\n{\n            'v': 62.0,\n            'f': \"62.0\",\n        },\n{\n            'v': 1845,\n            'f': \"1845\",\n        },\n{\n            'v': 15.3,\n            'f': \"15.3\",\n        },\n\"1980-01-01 00:00:00\",\n\"Europe\"],\n [{\n            'v': 340,\n            'f': \"340\",\n        },\n\"datsun 280-zx\",\n{\n            'v': 32.7,\n            'f': \"32.7\",\n        },\n{\n            'v': 6,\n            'f': \"6\",\n        },\n{\n            'v': 168.0,\n            'f': \"168.0\",\n        },\n{\n            'v': 132.0,\n            'f': \"132.0\",\n        },\n{\n            'v': 2910,\n            'f': \"2910\",\n        },\n{\n            'v': 11.4,\n            'f': \"11.4\",\n        },\n\"1980-01-01 00:00:00\",\n\"Japan\"],\n [{\n            'v': 341,\n            'f': \"341\",\n        },\n\"mazda rx-7 gs\",\n{\n            'v': 23.7,\n            'f': \"23.7\",\n        },\n{\n            'v': 3,\n            'f': \"3\",\n        },\n{\n            'v': 70.0,\n            'f': \"70.0\",\n        },\n{\n            'v': 100.0,\n            'f': \"100.0\",\n        },\n{\n            'v': 2420,\n            'f': \"2420\",\n        },\n{\n            'v': 12.5,\n            'f': \"12.5\",\n        },\n\"1980-01-01 00:00:00\",\n\"Japan\"],\n [{\n            'v': 342,\n            'f': \"342\",\n        },\n\"triumph tr7 coupe\",\n{\n            'v': 35.0,\n            'f': \"35.0\",\n        },\n{\n            'v': 4,\n            'f': \"4\",\n        },\n{\n            'v': 122.0,\n            'f': \"122.0\",\n        },\n{\n            'v': 88.0,\n            'f': \"88.0\",\n        },\n{\n            'v': 2500,\n            'f': \"2500\",\n        },\n{\n            'v': 15.1,\n            'f': \"15.1\",\n        },\n\"1980-01-01 00:00:00\",\n\"Europe\"],\n [{\n            'v': 343,\n            'f': \"343\",\n        },\n\"ford mustang cobra\",\n{\n            'v': 23.6,\n            'f': \"23.6\",\n        },\n{\n            'v': 4,\n            'f': \"4\",\n        },\n{\n            'v': 140.0,\n            'f': \"140.0\",\n        },\n{\n            'v': NaN,\n            'f': \"NaN\",\n        },\n{\n            'v': 2905,\n            'f': \"2905\",\n        },\n{\n            'v': 14.3,\n            'f': \"14.3\",\n        },\n\"1980-01-01 00:00:00\",\n\"USA\"],\n [{\n            'v': 344,\n            'f': \"344\",\n        },\n\"honda Accelerationord\",\n{\n            'v': 32.4,\n            'f': \"32.4\",\n        },\n{\n            'v': 4,\n            'f': \"4\",\n        },\n{\n            'v': 107.0,\n            'f': \"107.0\",\n        },\n{\n            'v': 72.0,\n            'f': \"72.0\",\n        },\n{\n            'v': 2290,\n            'f': \"2290\",\n        },\n{\n            'v': 17.0,\n            'f': \"17.0\",\n        },\n\"1980-01-01 00:00:00\",\n\"Japan\"],\n [{\n            'v': 345,\n            'f': \"345\",\n        },\n\"plymouth reliant\",\n{\n            'v': 27.2,\n            'f': \"27.2\",\n        },\n{\n            'v': 4,\n            'f': \"4\",\n        },\n{\n            'v': 135.0,\n            'f': \"135.0\",\n        },\n{\n            'v': 84.0,\n            'f': \"84.0\",\n        },\n{\n            'v': 2490,\n            'f': \"2490\",\n        },\n{\n            'v': 15.7,\n            'f': \"15.7\",\n        },\n\"1982-01-01 00:00:00\",\n\"USA\"],\n [{\n            'v': 346,\n            'f': \"346\",\n        },\n\"buick skylark\",\n{\n            'v': 26.6,\n            'f': \"26.6\",\n        },\n{\n            'v': 4,\n            'f': \"4\",\n        },\n{\n            'v': 151.0,\n            'f': \"151.0\",\n        },\n{\n            'v': 84.0,\n            'f': \"84.0\",\n        },\n{\n            'v': 2635,\n            'f': \"2635\",\n        },\n{\n            'v': 16.4,\n            'f': \"16.4\",\n        },\n\"1982-01-01 00:00:00\",\n\"USA\"],\n [{\n            'v': 347,\n            'f': \"347\",\n        },\n\"dodge aries wagon (sw)\",\n{\n            'v': 25.8,\n            'f': \"25.8\",\n        },\n{\n            'v': 4,\n            'f': \"4\",\n        },\n{\n            'v': 156.0,\n            'f': \"156.0\",\n        },\n{\n            'v': 92.0,\n            'f': \"92.0\",\n        },\n{\n            'v': 2620,\n            'f': \"2620\",\n        },\n{\n            'v': 14.4,\n            'f': \"14.4\",\n        },\n\"1982-01-01 00:00:00\",\n\"USA\"],\n [{\n            'v': 348,\n            'f': \"348\",\n        },\n\"chevrolet citation\",\n{\n            'v': 23.5,\n            'f': \"23.5\",\n        },\n{\n            'v': 6,\n            'f': \"6\",\n        },\n{\n            'v': 173.0,\n            'f': \"173.0\",\n        },\n{\n            'v': 110.0,\n            'f': \"110.0\",\n        },\n{\n            'v': 2725,\n            'f': \"2725\",\n        },\n{\n            'v': 12.6,\n            'f': \"12.6\",\n        },\n\"1982-01-01 00:00:00\",\n\"USA\"],\n [{\n            'v': 349,\n            'f': \"349\",\n        },\n\"plymouth reliant\",\n{\n            'v': 30.0,\n            'f': \"30.0\",\n        },\n{\n            'v': 4,\n            'f': \"4\",\n        },\n{\n            'v': 135.0,\n            'f': \"135.0\",\n        },\n{\n            'v': 84.0,\n            'f': \"84.0\",\n        },\n{\n            'v': 2385,\n            'f': \"2385\",\n        },\n{\n            'v': 12.9,\n            'f': \"12.9\",\n        },\n\"1982-01-01 00:00:00\",\n\"USA\"],\n [{\n            'v': 350,\n            'f': \"350\",\n        },\n\"toyota starlet\",\n{\n            'v': 39.1,\n            'f': \"39.1\",\n        },\n{\n            'v': 4,\n            'f': \"4\",\n        },\n{\n            'v': 79.0,\n            'f': \"79.0\",\n        },\n{\n            'v': 58.0,\n            'f': \"58.0\",\n        },\n{\n            'v': 1755,\n            'f': \"1755\",\n        },\n{\n            'v': 16.9,\n            'f': \"16.9\",\n        },\n\"1982-01-01 00:00:00\",\n\"Japan\"],\n [{\n            'v': 351,\n            'f': \"351\",\n        },\n\"plymouth champ\",\n{\n            'v': 39.0,\n            'f': \"39.0\",\n        },\n{\n            'v': 4,\n            'f': \"4\",\n        },\n{\n            'v': 86.0,\n            'f': \"86.0\",\n        },\n{\n            'v': 64.0,\n            'f': \"64.0\",\n        },\n{\n            'v': 1875,\n            'f': \"1875\",\n        },\n{\n            'v': 16.4,\n            'f': \"16.4\",\n        },\n\"1982-01-01 00:00:00\",\n\"USA\"],\n [{\n            'v': 352,\n            'f': \"352\",\n        },\n\"honda civic 1300\",\n{\n            'v': 35.1,\n            'f': \"35.1\",\n        },\n{\n            'v': 4,\n            'f': \"4\",\n        },\n{\n            'v': 81.0,\n            'f': \"81.0\",\n        },\n{\n            'v': 60.0,\n            'f': \"60.0\",\n        },\n{\n            'v': 1760,\n            'f': \"1760\",\n        },\n{\n            'v': 16.1,\n            'f': \"16.1\",\n        },\n\"1982-01-01 00:00:00\",\n\"Japan\"],\n [{\n            'v': 353,\n            'f': \"353\",\n        },\n\"subaru\",\n{\n            'v': 32.3,\n            'f': \"32.3\",\n        },\n{\n            'v': 4,\n            'f': \"4\",\n        },\n{\n            'v': 97.0,\n            'f': \"97.0\",\n        },\n{\n            'v': 67.0,\n            'f': \"67.0\",\n        },\n{\n            'v': 2065,\n            'f': \"2065\",\n        },\n{\n            'v': 17.8,\n            'f': \"17.8\",\n        },\n\"1982-01-01 00:00:00\",\n\"Japan\"],\n [{\n            'v': 354,\n            'f': \"354\",\n        },\n\"datsun 210\",\n{\n            'v': 37.0,\n            'f': \"37.0\",\n        },\n{\n            'v': 4,\n            'f': \"4\",\n        },\n{\n            'v': 85.0,\n            'f': \"85.0\",\n        },\n{\n            'v': 65.0,\n            'f': \"65.0\",\n        },\n{\n            'v': 1975,\n            'f': \"1975\",\n        },\n{\n            'v': 19.4,\n            'f': \"19.4\",\n        },\n\"1982-01-01 00:00:00\",\n\"Japan\"],\n [{\n            'v': 355,\n            'f': \"355\",\n        },\n\"toyota tercel\",\n{\n            'v': 37.7,\n            'f': \"37.7\",\n        },\n{\n            'v': 4,\n            'f': \"4\",\n        },\n{\n            'v': 89.0,\n            'f': \"89.0\",\n        },\n{\n            'v': 62.0,\n            'f': \"62.0\",\n        },\n{\n            'v': 2050,\n            'f': \"2050\",\n        },\n{\n            'v': 17.3,\n            'f': \"17.3\",\n        },\n\"1982-01-01 00:00:00\",\n\"Japan\"],\n [{\n            'v': 356,\n            'f': \"356\",\n        },\n\"mazda glc 4\",\n{\n            'v': 34.1,\n            'f': \"34.1\",\n        },\n{\n            'v': 4,\n            'f': \"4\",\n        },\n{\n            'v': 91.0,\n            'f': \"91.0\",\n        },\n{\n            'v': 68.0,\n            'f': \"68.0\",\n        },\n{\n            'v': 1985,\n            'f': \"1985\",\n        },\n{\n            'v': 16.0,\n            'f': \"16.0\",\n        },\n\"1982-01-01 00:00:00\",\n\"Japan\"],\n [{\n            'v': 357,\n            'f': \"357\",\n        },\n\"plymouth horizon 4\",\n{\n            'v': 34.7,\n            'f': \"34.7\",\n        },\n{\n            'v': 4,\n            'f': \"4\",\n        },\n{\n            'v': 105.0,\n            'f': \"105.0\",\n        },\n{\n            'v': 63.0,\n            'f': \"63.0\",\n        },\n{\n            'v': 2215,\n            'f': \"2215\",\n        },\n{\n            'v': 14.9,\n            'f': \"14.9\",\n        },\n\"1982-01-01 00:00:00\",\n\"USA\"],\n [{\n            'v': 358,\n            'f': \"358\",\n        },\n\"ford escort 4w\",\n{\n            'v': 34.4,\n            'f': \"34.4\",\n        },\n{\n            'v': 4,\n            'f': \"4\",\n        },\n{\n            'v': 98.0,\n            'f': \"98.0\",\n        },\n{\n            'v': 65.0,\n            'f': \"65.0\",\n        },\n{\n            'v': 2045,\n            'f': \"2045\",\n        },\n{\n            'v': 16.2,\n            'f': \"16.2\",\n        },\n\"1982-01-01 00:00:00\",\n\"USA\"],\n [{\n            'v': 359,\n            'f': \"359\",\n        },\n\"ford escort 2h\",\n{\n            'v': 29.9,\n            'f': \"29.9\",\n        },\n{\n            'v': 4,\n            'f': \"4\",\n        },\n{\n            'v': 98.0,\n            'f': \"98.0\",\n        },\n{\n            'v': 65.0,\n            'f': \"65.0\",\n        },\n{\n            'v': 2380,\n            'f': \"2380\",\n        },\n{\n            'v': 20.7,\n            'f': \"20.7\",\n        },\n\"1982-01-01 00:00:00\",\n\"USA\"],\n [{\n            'v': 360,\n            'f': \"360\",\n        },\n\"volkswagen jetta\",\n{\n            'v': 33.0,\n            'f': \"33.0\",\n        },\n{\n            'v': 4,\n            'f': \"4\",\n        },\n{\n            'v': 105.0,\n            'f': \"105.0\",\n        },\n{\n            'v': 74.0,\n            'f': \"74.0\",\n        },\n{\n            'v': 2190,\n            'f': \"2190\",\n        },\n{\n            'v': 14.2,\n            'f': \"14.2\",\n        },\n\"1982-01-01 00:00:00\",\n\"Europe\"],\n [{\n            'v': 361,\n            'f': \"361\",\n        },\n\"renault 18i\",\n{\n            'v': 34.5,\n            'f': \"34.5\",\n        },\n{\n            'v': 4,\n            'f': \"4\",\n        },\n{\n            'v': 100.0,\n            'f': \"100.0\",\n        },\n{\n            'v': NaN,\n            'f': \"NaN\",\n        },\n{\n            'v': 2320,\n            'f': \"2320\",\n        },\n{\n            'v': 15.8,\n            'f': \"15.8\",\n        },\n\"1982-01-01 00:00:00\",\n\"Europe\"],\n [{\n            'v': 362,\n            'f': \"362\",\n        },\n\"honda prelude\",\n{\n            'v': 33.7,\n            'f': \"33.7\",\n        },\n{\n            'v': 4,\n            'f': \"4\",\n        },\n{\n            'v': 107.0,\n            'f': \"107.0\",\n        },\n{\n            'v': 75.0,\n            'f': \"75.0\",\n        },\n{\n            'v': 2210,\n            'f': \"2210\",\n        },\n{\n            'v': 14.4,\n            'f': \"14.4\",\n        },\n\"1982-01-01 00:00:00\",\n\"Japan\"],\n [{\n            'v': 363,\n            'f': \"363\",\n        },\n\"toyota corolla\",\n{\n            'v': 32.4,\n            'f': \"32.4\",\n        },\n{\n            'v': 4,\n            'f': \"4\",\n        },\n{\n            'v': 108.0,\n            'f': \"108.0\",\n        },\n{\n            'v': 75.0,\n            'f': \"75.0\",\n        },\n{\n            'v': 2350,\n            'f': \"2350\",\n        },\n{\n            'v': 16.8,\n            'f': \"16.8\",\n        },\n\"1982-01-01 00:00:00\",\n\"Japan\"],\n [{\n            'v': 364,\n            'f': \"364\",\n        },\n\"datsun 200sx\",\n{\n            'v': 32.9,\n            'f': \"32.9\",\n        },\n{\n            'v': 4,\n            'f': \"4\",\n        },\n{\n            'v': 119.0,\n            'f': \"119.0\",\n        },\n{\n            'v': 100.0,\n            'f': \"100.0\",\n        },\n{\n            'v': 2615,\n            'f': \"2615\",\n        },\n{\n            'v': 14.8,\n            'f': \"14.8\",\n        },\n\"1982-01-01 00:00:00\",\n\"Japan\"],\n [{\n            'v': 365,\n            'f': \"365\",\n        },\n\"mazda 626\",\n{\n            'v': 31.6,\n            'f': \"31.6\",\n        },\n{\n            'v': 4,\n            'f': \"4\",\n        },\n{\n            'v': 120.0,\n            'f': \"120.0\",\n        },\n{\n            'v': 74.0,\n            'f': \"74.0\",\n        },\n{\n            'v': 2635,\n            'f': \"2635\",\n        },\n{\n            'v': 18.3,\n            'f': \"18.3\",\n        },\n\"1982-01-01 00:00:00\",\n\"Japan\"],\n [{\n            'v': 366,\n            'f': \"366\",\n        },\n\"peugeot 505s turbo diesel\",\n{\n            'v': 28.1,\n            'f': \"28.1\",\n        },\n{\n            'v': 4,\n            'f': \"4\",\n        },\n{\n            'v': 141.0,\n            'f': \"141.0\",\n        },\n{\n            'v': 80.0,\n            'f': \"80.0\",\n        },\n{\n            'v': 3230,\n            'f': \"3230\",\n        },\n{\n            'v': 20.4,\n            'f': \"20.4\",\n        },\n\"1982-01-01 00:00:00\",\n\"Europe\"],\n [{\n            'v': 367,\n            'f': \"367\",\n        },\n\"saab 900s\",\n{\n            'v': NaN,\n            'f': \"NaN\",\n        },\n{\n            'v': 4,\n            'f': \"4\",\n        },\n{\n            'v': 121.0,\n            'f': \"121.0\",\n        },\n{\n            'v': 110.0,\n            'f': \"110.0\",\n        },\n{\n            'v': 2800,\n            'f': \"2800\",\n        },\n{\n            'v': 15.4,\n            'f': \"15.4\",\n        },\n\"1982-01-01 00:00:00\",\n\"Europe\"],\n [{\n            'v': 368,\n            'f': \"368\",\n        },\n\"volvo diesel\",\n{\n            'v': 30.7,\n            'f': \"30.7\",\n        },\n{\n            'v': 6,\n            'f': \"6\",\n        },\n{\n            'v': 145.0,\n            'f': \"145.0\",\n        },\n{\n            'v': 76.0,\n            'f': \"76.0\",\n        },\n{\n            'v': 3160,\n            'f': \"3160\",\n        },\n{\n            'v': 19.6,\n            'f': \"19.6\",\n        },\n\"1982-01-01 00:00:00\",\n\"Europe\"],\n [{\n            'v': 369,\n            'f': \"369\",\n        },\n\"toyota cressida\",\n{\n            'v': 25.4,\n            'f': \"25.4\",\n        },\n{\n            'v': 6,\n            'f': \"6\",\n        },\n{\n            'v': 168.0,\n            'f': \"168.0\",\n        },\n{\n            'v': 116.0,\n            'f': \"116.0\",\n        },\n{\n            'v': 2900,\n            'f': \"2900\",\n        },\n{\n            'v': 12.6,\n            'f': \"12.6\",\n        },\n\"1982-01-01 00:00:00\",\n\"Japan\"],\n [{\n            'v': 370,\n            'f': \"370\",\n        },\n\"datsun 810 maxima\",\n{\n            'v': 24.2,\n            'f': \"24.2\",\n        },\n{\n            'v': 6,\n            'f': \"6\",\n        },\n{\n            'v': 146.0,\n            'f': \"146.0\",\n        },\n{\n            'v': 120.0,\n            'f': \"120.0\",\n        },\n{\n            'v': 2930,\n            'f': \"2930\",\n        },\n{\n            'v': 13.8,\n            'f': \"13.8\",\n        },\n\"1982-01-01 00:00:00\",\n\"Japan\"],\n [{\n            'v': 371,\n            'f': \"371\",\n        },\n\"buick century\",\n{\n            'v': 22.4,\n            'f': \"22.4\",\n        },\n{\n            'v': 6,\n            'f': \"6\",\n        },\n{\n            'v': 231.0,\n            'f': \"231.0\",\n        },\n{\n            'v': 110.0,\n            'f': \"110.0\",\n        },\n{\n            'v': 3415,\n            'f': \"3415\",\n        },\n{\n            'v': 15.8,\n            'f': \"15.8\",\n        },\n\"1982-01-01 00:00:00\",\n\"USA\"],\n [{\n            'v': 372,\n            'f': \"372\",\n        },\n\"oldsmobile cutlass ls\",\n{\n            'v': 26.6,\n            'f': \"26.6\",\n        },\n{\n            'v': 8,\n            'f': \"8\",\n        },\n{\n            'v': 350.0,\n            'f': \"350.0\",\n        },\n{\n            'v': 105.0,\n            'f': \"105.0\",\n        },\n{\n            'v': 3725,\n            'f': \"3725\",\n        },\n{\n            'v': 19.0,\n            'f': \"19.0\",\n        },\n\"1982-01-01 00:00:00\",\n\"USA\"],\n [{\n            'v': 373,\n            'f': \"373\",\n        },\n\"ford granada gl\",\n{\n            'v': 20.2,\n            'f': \"20.2\",\n        },\n{\n            'v': 6,\n            'f': \"6\",\n        },\n{\n            'v': 200.0,\n            'f': \"200.0\",\n        },\n{\n            'v': 88.0,\n            'f': \"88.0\",\n        },\n{\n            'v': 3060,\n            'f': \"3060\",\n        },\n{\n            'v': 17.1,\n            'f': \"17.1\",\n        },\n\"1982-01-01 00:00:00\",\n\"USA\"],\n [{\n            'v': 374,\n            'f': \"374\",\n        },\n\"chrysler lebaron salon\",\n{\n            'v': 17.6,\n            'f': \"17.6\",\n        },\n{\n            'v': 6,\n            'f': \"6\",\n        },\n{\n            'v': 225.0,\n            'f': \"225.0\",\n        },\n{\n            'v': 85.0,\n            'f': \"85.0\",\n        },\n{\n            'v': 3465,\n            'f': \"3465\",\n        },\n{\n            'v': 16.6,\n            'f': \"16.6\",\n        },\n\"1982-01-01 00:00:00\",\n\"USA\"],\n [{\n            'v': 375,\n            'f': \"375\",\n        },\n\"chevrolet cavalier\",\n{\n            'v': 28.0,\n            'f': \"28.0\",\n        },\n{\n            'v': 4,\n            'f': \"4\",\n        },\n{\n            'v': 112.0,\n            'f': \"112.0\",\n        },\n{\n            'v': 88.0,\n            'f': \"88.0\",\n        },\n{\n            'v': 2605,\n            'f': \"2605\",\n        },\n{\n            'v': 19.6,\n            'f': \"19.6\",\n        },\n\"1982-01-01 00:00:00\",\n\"USA\"],\n [{\n            'v': 376,\n            'f': \"376\",\n        },\n\"chevrolet cavalier wagon\",\n{\n            'v': 27.0,\n            'f': \"27.0\",\n        },\n{\n            'v': 4,\n            'f': \"4\",\n        },\n{\n            'v': 112.0,\n            'f': \"112.0\",\n        },\n{\n            'v': 88.0,\n            'f': \"88.0\",\n        },\n{\n            'v': 2640,\n            'f': \"2640\",\n        },\n{\n            'v': 18.6,\n            'f': \"18.6\",\n        },\n\"1982-01-01 00:00:00\",\n\"USA\"],\n [{\n            'v': 377,\n            'f': \"377\",\n        },\n\"chevrolet cavalier 2-door\",\n{\n            'v': 34.0,\n            'f': \"34.0\",\n        },\n{\n            'v': 4,\n            'f': \"4\",\n        },\n{\n            'v': 112.0,\n            'f': \"112.0\",\n        },\n{\n            'v': 88.0,\n            'f': \"88.0\",\n        },\n{\n            'v': 2395,\n            'f': \"2395\",\n        },\n{\n            'v': 18.0,\n            'f': \"18.0\",\n        },\n\"1982-01-01 00:00:00\",\n\"USA\"],\n [{\n            'v': 378,\n            'f': \"378\",\n        },\n\"pontiac j2000 se hatchback\",\n{\n            'v': 31.0,\n            'f': \"31.0\",\n        },\n{\n            'v': 4,\n            'f': \"4\",\n        },\n{\n            'v': 112.0,\n            'f': \"112.0\",\n        },\n{\n            'v': 85.0,\n            'f': \"85.0\",\n        },\n{\n            'v': 2575,\n            'f': \"2575\",\n        },\n{\n            'v': 16.2,\n            'f': \"16.2\",\n        },\n\"1982-01-01 00:00:00\",\n\"USA\"],\n [{\n            'v': 379,\n            'f': \"379\",\n        },\n\"dodge aries se\",\n{\n            'v': 29.0,\n            'f': \"29.0\",\n        },\n{\n            'v': 4,\n            'f': \"4\",\n        },\n{\n            'v': 135.0,\n            'f': \"135.0\",\n        },\n{\n            'v': 84.0,\n            'f': \"84.0\",\n        },\n{\n            'v': 2525,\n            'f': \"2525\",\n        },\n{\n            'v': 16.0,\n            'f': \"16.0\",\n        },\n\"1982-01-01 00:00:00\",\n\"USA\"],\n [{\n            'v': 380,\n            'f': \"380\",\n        },\n\"pontiac phoenix\",\n{\n            'v': 27.0,\n            'f': \"27.0\",\n        },\n{\n            'v': 4,\n            'f': \"4\",\n        },\n{\n            'v': 151.0,\n            'f': \"151.0\",\n        },\n{\n            'v': 90.0,\n            'f': \"90.0\",\n        },\n{\n            'v': 2735,\n            'f': \"2735\",\n        },\n{\n            'v': 18.0,\n            'f': \"18.0\",\n        },\n\"1982-01-01 00:00:00\",\n\"USA\"],\n [{\n            'v': 381,\n            'f': \"381\",\n        },\n\"ford fairmont futura\",\n{\n            'v': 24.0,\n            'f': \"24.0\",\n        },\n{\n            'v': 4,\n            'f': \"4\",\n        },\n{\n            'v': 140.0,\n            'f': \"140.0\",\n        },\n{\n            'v': 92.0,\n            'f': \"92.0\",\n        },\n{\n            'v': 2865,\n            'f': \"2865\",\n        },\n{\n            'v': 16.4,\n            'f': \"16.4\",\n        },\n\"1982-01-01 00:00:00\",\n\"USA\"],\n [{\n            'v': 382,\n            'f': \"382\",\n        },\n\"amc concord dl\",\n{\n            'v': 23.0,\n            'f': \"23.0\",\n        },\n{\n            'v': 4,\n            'f': \"4\",\n        },\n{\n            'v': 151.0,\n            'f': \"151.0\",\n        },\n{\n            'v': NaN,\n            'f': \"NaN\",\n        },\n{\n            'v': 3035,\n            'f': \"3035\",\n        },\n{\n            'v': 20.5,\n            'f': \"20.5\",\n        },\n\"1982-01-01 00:00:00\",\n\"USA\"],\n [{\n            'v': 383,\n            'f': \"383\",\n        },\n\"volkswagen rabbit l\",\n{\n            'v': 36.0,\n            'f': \"36.0\",\n        },\n{\n            'v': 4,\n            'f': \"4\",\n        },\n{\n            'v': 105.0,\n            'f': \"105.0\",\n        },\n{\n            'v': 74.0,\n            'f': \"74.0\",\n        },\n{\n            'v': 1980,\n            'f': \"1980\",\n        },\n{\n            'v': 15.3,\n            'f': \"15.3\",\n        },\n\"1982-01-01 00:00:00\",\n\"Europe\"],\n [{\n            'v': 384,\n            'f': \"384\",\n        },\n\"mazda glc custom l\",\n{\n            'v': 37.0,\n            'f': \"37.0\",\n        },\n{\n            'v': 4,\n            'f': \"4\",\n        },\n{\n            'v': 91.0,\n            'f': \"91.0\",\n        },\n{\n            'v': 68.0,\n            'f': \"68.0\",\n        },\n{\n            'v': 2025,\n            'f': \"2025\",\n        },\n{\n            'v': 18.2,\n            'f': \"18.2\",\n        },\n\"1982-01-01 00:00:00\",\n\"Japan\"],\n [{\n            'v': 385,\n            'f': \"385\",\n        },\n\"mazda glc custom\",\n{\n            'v': 31.0,\n            'f': \"31.0\",\n        },\n{\n            'v': 4,\n            'f': \"4\",\n        },\n{\n            'v': 91.0,\n            'f': \"91.0\",\n        },\n{\n            'v': 68.0,\n            'f': \"68.0\",\n        },\n{\n            'v': 1970,\n            'f': \"1970\",\n        },\n{\n            'v': 17.6,\n            'f': \"17.6\",\n        },\n\"1982-01-01 00:00:00\",\n\"Japan\"],\n [{\n            'v': 386,\n            'f': \"386\",\n        },\n\"plymouth horizon miser\",\n{\n            'v': 38.0,\n            'f': \"38.0\",\n        },\n{\n            'v': 4,\n            'f': \"4\",\n        },\n{\n            'v': 105.0,\n            'f': \"105.0\",\n        },\n{\n            'v': 63.0,\n            'f': \"63.0\",\n        },\n{\n            'v': 2125,\n            'f': \"2125\",\n        },\n{\n            'v': 14.7,\n            'f': \"14.7\",\n        },\n\"1982-01-01 00:00:00\",\n\"USA\"],\n [{\n            'v': 387,\n            'f': \"387\",\n        },\n\"mercury lynx l\",\n{\n            'v': 36.0,\n            'f': \"36.0\",\n        },\n{\n            'v': 4,\n            'f': \"4\",\n        },\n{\n            'v': 98.0,\n            'f': \"98.0\",\n        },\n{\n            'v': 70.0,\n            'f': \"70.0\",\n        },\n{\n            'v': 2125,\n            'f': \"2125\",\n        },\n{\n            'v': 17.3,\n            'f': \"17.3\",\n        },\n\"1982-01-01 00:00:00\",\n\"USA\"],\n [{\n            'v': 388,\n            'f': \"388\",\n        },\n\"nissan stanza xe\",\n{\n            'v': 36.0,\n            'f': \"36.0\",\n        },\n{\n            'v': 4,\n            'f': \"4\",\n        },\n{\n            'v': 120.0,\n            'f': \"120.0\",\n        },\n{\n            'v': 88.0,\n            'f': \"88.0\",\n        },\n{\n            'v': 2160,\n            'f': \"2160\",\n        },\n{\n            'v': 14.5,\n            'f': \"14.5\",\n        },\n\"1982-01-01 00:00:00\",\n\"Japan\"],\n [{\n            'v': 389,\n            'f': \"389\",\n        },\n\"honda Accelerationord\",\n{\n            'v': 36.0,\n            'f': \"36.0\",\n        },\n{\n            'v': 4,\n            'f': \"4\",\n        },\n{\n            'v': 107.0,\n            'f': \"107.0\",\n        },\n{\n            'v': 75.0,\n            'f': \"75.0\",\n        },\n{\n            'v': 2205,\n            'f': \"2205\",\n        },\n{\n            'v': 14.5,\n            'f': \"14.5\",\n        },\n\"1982-01-01 00:00:00\",\n\"Japan\"],\n [{\n            'v': 390,\n            'f': \"390\",\n        },\n\"toyota corolla\",\n{\n            'v': 34.0,\n            'f': \"34.0\",\n        },\n{\n            'v': 4,\n            'f': \"4\",\n        },\n{\n            'v': 108.0,\n            'f': \"108.0\",\n        },\n{\n            'v': 70.0,\n            'f': \"70.0\",\n        },\n{\n            'v': 2245,\n            'f': \"2245\",\n        },\n{\n            'v': 16.9,\n            'f': \"16.9\",\n        },\n\"1982-01-01 00:00:00\",\n\"Japan\"],\n [{\n            'v': 391,\n            'f': \"391\",\n        },\n\"honda civic\",\n{\n            'v': 38.0,\n            'f': \"38.0\",\n        },\n{\n            'v': 4,\n            'f': \"4\",\n        },\n{\n            'v': 91.0,\n            'f': \"91.0\",\n        },\n{\n            'v': 67.0,\n            'f': \"67.0\",\n        },\n{\n            'v': 1965,\n            'f': \"1965\",\n        },\n{\n            'v': 15.0,\n            'f': \"15.0\",\n        },\n\"1982-01-01 00:00:00\",\n\"Japan\"],\n [{\n            'v': 392,\n            'f': \"392\",\n        },\n\"honda civic (auto)\",\n{\n            'v': 32.0,\n            'f': \"32.0\",\n        },\n{\n            'v': 4,\n            'f': \"4\",\n        },\n{\n            'v': 91.0,\n            'f': \"91.0\",\n        },\n{\n            'v': 67.0,\n            'f': \"67.0\",\n        },\n{\n            'v': 1965,\n            'f': \"1965\",\n        },\n{\n            'v': 15.7,\n            'f': \"15.7\",\n        },\n\"1982-01-01 00:00:00\",\n\"Japan\"],\n [{\n            'v': 393,\n            'f': \"393\",\n        },\n\"datsun 310 gx\",\n{\n            'v': 38.0,\n            'f': \"38.0\",\n        },\n{\n            'v': 4,\n            'f': \"4\",\n        },\n{\n            'v': 91.0,\n            'f': \"91.0\",\n        },\n{\n            'v': 67.0,\n            'f': \"67.0\",\n        },\n{\n            'v': 1995,\n            'f': \"1995\",\n        },\n{\n            'v': 16.2,\n            'f': \"16.2\",\n        },\n\"1982-01-01 00:00:00\",\n\"Japan\"],\n [{\n            'v': 394,\n            'f': \"394\",\n        },\n\"buick century limited\",\n{\n            'v': 25.0,\n            'f': \"25.0\",\n        },\n{\n            'v': 6,\n            'f': \"6\",\n        },\n{\n            'v': 181.0,\n            'f': \"181.0\",\n        },\n{\n            'v': 110.0,\n            'f': \"110.0\",\n        },\n{\n            'v': 2945,\n            'f': \"2945\",\n        },\n{\n            'v': 16.4,\n            'f': \"16.4\",\n        },\n\"1982-01-01 00:00:00\",\n\"USA\"],\n [{\n            'v': 395,\n            'f': \"395\",\n        },\n\"oldsmobile cutlass ciera (diesel)\",\n{\n            'v': 38.0,\n            'f': \"38.0\",\n        },\n{\n            'v': 6,\n            'f': \"6\",\n        },\n{\n            'v': 262.0,\n            'f': \"262.0\",\n        },\n{\n            'v': 85.0,\n            'f': \"85.0\",\n        },\n{\n            'v': 3015,\n            'f': \"3015\",\n        },\n{\n            'v': 17.0,\n            'f': \"17.0\",\n        },\n\"1982-01-01 00:00:00\",\n\"USA\"],\n [{\n            'v': 396,\n            'f': \"396\",\n        },\n\"chrysler lebaron medallion\",\n{\n            'v': 26.0,\n            'f': \"26.0\",\n        },\n{\n            'v': 4,\n            'f': \"4\",\n        },\n{\n            'v': 156.0,\n            'f': \"156.0\",\n        },\n{\n            'v': 92.0,\n            'f': \"92.0\",\n        },\n{\n            'v': 2585,\n            'f': \"2585\",\n        },\n{\n            'v': 14.5,\n            'f': \"14.5\",\n        },\n\"1982-01-01 00:00:00\",\n\"USA\"],\n [{\n            'v': 397,\n            'f': \"397\",\n        },\n\"ford granada l\",\n{\n            'v': 22.0,\n            'f': \"22.0\",\n        },\n{\n            'v': 6,\n            'f': \"6\",\n        },\n{\n            'v': 232.0,\n            'f': \"232.0\",\n        },\n{\n            'v': 112.0,\n            'f': \"112.0\",\n        },\n{\n            'v': 2835,\n            'f': \"2835\",\n        },\n{\n            'v': 14.7,\n            'f': \"14.7\",\n        },\n\"1982-01-01 00:00:00\",\n\"USA\"],\n [{\n            'v': 398,\n            'f': \"398\",\n        },\n\"toyota celica gt\",\n{\n            'v': 32.0,\n            'f': \"32.0\",\n        },\n{\n            'v': 4,\n            'f': \"4\",\n        },\n{\n            'v': 144.0,\n            'f': \"144.0\",\n        },\n{\n            'v': 96.0,\n            'f': \"96.0\",\n        },\n{\n            'v': 2665,\n            'f': \"2665\",\n        },\n{\n            'v': 13.9,\n            'f': \"13.9\",\n        },\n\"1982-01-01 00:00:00\",\n\"Japan\"],\n [{\n            'v': 399,\n            'f': \"399\",\n        },\n\"dodge charger 2.2\",\n{\n            'v': 36.0,\n            'f': \"36.0\",\n        },\n{\n            'v': 4,\n            'f': \"4\",\n        },\n{\n            'v': 135.0,\n            'f': \"135.0\",\n        },\n{\n            'v': 84.0,\n            'f': \"84.0\",\n        },\n{\n            'v': 2370,\n            'f': \"2370\",\n        },\n{\n            'v': 13.0,\n            'f': \"13.0\",\n        },\n\"1982-01-01 00:00:00\",\n\"USA\"],\n [{\n            'v': 400,\n            'f': \"400\",\n        },\n\"chevrolet camaro\",\n{\n            'v': 27.0,\n            'f': \"27.0\",\n        },\n{\n            'v': 4,\n            'f': \"4\",\n        },\n{\n            'v': 151.0,\n            'f': \"151.0\",\n        },\n{\n            'v': 90.0,\n            'f': \"90.0\",\n        },\n{\n            'v': 2950,\n            'f': \"2950\",\n        },\n{\n            'v': 17.3,\n            'f': \"17.3\",\n        },\n\"1982-01-01 00:00:00\",\n\"USA\"],\n [{\n            'v': 401,\n            'f': \"401\",\n        },\n\"ford mustang gl\",\n{\n            'v': 27.0,\n            'f': \"27.0\",\n        },\n{\n            'v': 4,\n            'f': \"4\",\n        },\n{\n            'v': 140.0,\n            'f': \"140.0\",\n        },\n{\n            'v': 86.0,\n            'f': \"86.0\",\n        },\n{\n            'v': 2790,\n            'f': \"2790\",\n        },\n{\n            'v': 15.6,\n            'f': \"15.6\",\n        },\n\"1982-01-01 00:00:00\",\n\"USA\"],\n [{\n            'v': 402,\n            'f': \"402\",\n        },\n\"vw pickup\",\n{\n            'v': 44.0,\n            'f': \"44.0\",\n        },\n{\n            'v': 4,\n            'f': \"4\",\n        },\n{\n            'v': 97.0,\n            'f': \"97.0\",\n        },\n{\n            'v': 52.0,\n            'f': \"52.0\",\n        },\n{\n            'v': 2130,\n            'f': \"2130\",\n        },\n{\n            'v': 24.6,\n            'f': \"24.6\",\n        },\n\"1982-01-01 00:00:00\",\n\"Europe\"],\n [{\n            'v': 403,\n            'f': \"403\",\n        },\n\"dodge rampage\",\n{\n            'v': 32.0,\n            'f': \"32.0\",\n        },\n{\n            'v': 4,\n            'f': \"4\",\n        },\n{\n            'v': 135.0,\n            'f': \"135.0\",\n        },\n{\n            'v': 84.0,\n            'f': \"84.0\",\n        },\n{\n            'v': 2295,\n            'f': \"2295\",\n        },\n{\n            'v': 11.6,\n            'f': \"11.6\",\n        },\n\"1982-01-01 00:00:00\",\n\"USA\"],\n [{\n            'v': 404,\n            'f': \"404\",\n        },\n\"ford ranger\",\n{\n            'v': 28.0,\n            'f': \"28.0\",\n        },\n{\n            'v': 4,\n            'f': \"4\",\n        },\n{\n            'v': 120.0,\n            'f': \"120.0\",\n        },\n{\n            'v': 79.0,\n            'f': \"79.0\",\n        },\n{\n            'v': 2625,\n            'f': \"2625\",\n        },\n{\n            'v': 18.6,\n            'f': \"18.6\",\n        },\n\"1982-01-01 00:00:00\",\n\"USA\"],\n [{\n            'v': 405,\n            'f': \"405\",\n        },\n\"chevy s-10\",\n{\n            'v': 31.0,\n            'f': \"31.0\",\n        },\n{\n            'v': 4,\n            'f': \"4\",\n        },\n{\n            'v': 119.0,\n            'f': \"119.0\",\n        },\n{\n            'v': 82.0,\n            'f': \"82.0\",\n        },\n{\n            'v': 2720,\n            'f': \"2720\",\n        },\n{\n            'v': 19.4,\n            'f': \"19.4\",\n        },\n\"1982-01-01 00:00:00\",\n\"USA\"]],\n        columns: [[\"number\", \"index\"], [\"string\", \"Name\"], [\"number\", \"Miles_per_Gallon\"], [\"number\", \"Cylinders\"], [\"number\", \"Displacement\"], [\"number\", \"Horsepower\"], [\"number\", \"Weight_in_lbs\"], [\"number\", \"Acceleration\"], [\"string\", \"Year\"], [\"string\", \"Origin\"]],\n        columnOptions: [{\"width\": \"1px\", \"className\": \"index_column\"}],\n        rowsPerPage: 25,\n        helpUrl: \"https://colab.research.google.com/notebooks/data_table.ipynb\",\n        suppressOutputScrolling: true,\n        minimumWidth: undefined,\n      });\n    ",
            "text/html": [
              "<div>\n",
              "<style scoped>\n",
              "    .dataframe tbody tr th:only-of-type {\n",
              "        vertical-align: middle;\n",
              "    }\n",
              "\n",
              "    .dataframe tbody tr th {\n",
              "        vertical-align: top;\n",
              "    }\n",
              "\n",
              "    .dataframe thead th {\n",
              "        text-align: right;\n",
              "    }\n",
              "</style>\n",
              "<table border=\"1\" class=\"dataframe\">\n",
              "  <thead>\n",
              "    <tr style=\"text-align: right;\">\n",
              "      <th></th>\n",
              "      <th>Name</th>\n",
              "      <th>Miles_per_Gallon</th>\n",
              "      <th>Cylinders</th>\n",
              "      <th>Displacement</th>\n",
              "      <th>Horsepower</th>\n",
              "      <th>Weight_in_lbs</th>\n",
              "      <th>Acceleration</th>\n",
              "      <th>Year</th>\n",
              "      <th>Origin</th>\n",
              "    </tr>\n",
              "  </thead>\n",
              "  <tbody>\n",
              "    <tr>\n",
              "      <th>0</th>\n",
              "      <td>chevrolet chevelle malibu</td>\n",
              "      <td>18.0</td>\n",
              "      <td>8</td>\n",
              "      <td>307.0</td>\n",
              "      <td>130.0</td>\n",
              "      <td>3504</td>\n",
              "      <td>12.0</td>\n",
              "      <td>1970-01-01</td>\n",
              "      <td>USA</td>\n",
              "    </tr>\n",
              "    <tr>\n",
              "      <th>1</th>\n",
              "      <td>buick skylark 320</td>\n",
              "      <td>15.0</td>\n",
              "      <td>8</td>\n",
              "      <td>350.0</td>\n",
              "      <td>165.0</td>\n",
              "      <td>3693</td>\n",
              "      <td>11.5</td>\n",
              "      <td>1970-01-01</td>\n",
              "      <td>USA</td>\n",
              "    </tr>\n",
              "    <tr>\n",
              "      <th>2</th>\n",
              "      <td>plymouth satellite</td>\n",
              "      <td>18.0</td>\n",
              "      <td>8</td>\n",
              "      <td>318.0</td>\n",
              "      <td>150.0</td>\n",
              "      <td>3436</td>\n",
              "      <td>11.0</td>\n",
              "      <td>1970-01-01</td>\n",
              "      <td>USA</td>\n",
              "    </tr>\n",
              "    <tr>\n",
              "      <th>3</th>\n",
              "      <td>amc rebel sst</td>\n",
              "      <td>16.0</td>\n",
              "      <td>8</td>\n",
              "      <td>304.0</td>\n",
              "      <td>150.0</td>\n",
              "      <td>3433</td>\n",
              "      <td>12.0</td>\n",
              "      <td>1970-01-01</td>\n",
              "      <td>USA</td>\n",
              "    </tr>\n",
              "    <tr>\n",
              "      <th>4</th>\n",
              "      <td>ford torino</td>\n",
              "      <td>17.0</td>\n",
              "      <td>8</td>\n",
              "      <td>302.0</td>\n",
              "      <td>140.0</td>\n",
              "      <td>3449</td>\n",
              "      <td>10.5</td>\n",
              "      <td>1970-01-01</td>\n",
              "      <td>USA</td>\n",
              "    </tr>\n",
              "    <tr>\n",
              "      <th>...</th>\n",
              "      <td>...</td>\n",
              "      <td>...</td>\n",
              "      <td>...</td>\n",
              "      <td>...</td>\n",
              "      <td>...</td>\n",
              "      <td>...</td>\n",
              "      <td>...</td>\n",
              "      <td>...</td>\n",
              "      <td>...</td>\n",
              "    </tr>\n",
              "    <tr>\n",
              "      <th>401</th>\n",
              "      <td>ford mustang gl</td>\n",
              "      <td>27.0</td>\n",
              "      <td>4</td>\n",
              "      <td>140.0</td>\n",
              "      <td>86.0</td>\n",
              "      <td>2790</td>\n",
              "      <td>15.6</td>\n",
              "      <td>1982-01-01</td>\n",
              "      <td>USA</td>\n",
              "    </tr>\n",
              "    <tr>\n",
              "      <th>402</th>\n",
              "      <td>vw pickup</td>\n",
              "      <td>44.0</td>\n",
              "      <td>4</td>\n",
              "      <td>97.0</td>\n",
              "      <td>52.0</td>\n",
              "      <td>2130</td>\n",
              "      <td>24.6</td>\n",
              "      <td>1982-01-01</td>\n",
              "      <td>Europe</td>\n",
              "    </tr>\n",
              "    <tr>\n",
              "      <th>403</th>\n",
              "      <td>dodge rampage</td>\n",
              "      <td>32.0</td>\n",
              "      <td>4</td>\n",
              "      <td>135.0</td>\n",
              "      <td>84.0</td>\n",
              "      <td>2295</td>\n",
              "      <td>11.6</td>\n",
              "      <td>1982-01-01</td>\n",
              "      <td>USA</td>\n",
              "    </tr>\n",
              "    <tr>\n",
              "      <th>404</th>\n",
              "      <td>ford ranger</td>\n",
              "      <td>28.0</td>\n",
              "      <td>4</td>\n",
              "      <td>120.0</td>\n",
              "      <td>79.0</td>\n",
              "      <td>2625</td>\n",
              "      <td>18.6</td>\n",
              "      <td>1982-01-01</td>\n",
              "      <td>USA</td>\n",
              "    </tr>\n",
              "    <tr>\n",
              "      <th>405</th>\n",
              "      <td>chevy s-10</td>\n",
              "      <td>31.0</td>\n",
              "      <td>4</td>\n",
              "      <td>119.0</td>\n",
              "      <td>82.0</td>\n",
              "      <td>2720</td>\n",
              "      <td>19.4</td>\n",
              "      <td>1982-01-01</td>\n",
              "      <td>USA</td>\n",
              "    </tr>\n",
              "  </tbody>\n",
              "</table>\n",
              "<p>406 rows × 9 columns</p>\n",
              "</div>"
            ],
            "text/plain": [
              "                          Name  Miles_per_Gallon  ...       Year  Origin\n",
              "0    chevrolet chevelle malibu              18.0  ... 1970-01-01     USA\n",
              "1            buick skylark 320              15.0  ... 1970-01-01     USA\n",
              "2           plymouth satellite              18.0  ... 1970-01-01     USA\n",
              "3                amc rebel sst              16.0  ... 1970-01-01     USA\n",
              "4                  ford torino              17.0  ... 1970-01-01     USA\n",
              "..                         ...               ...  ...        ...     ...\n",
              "401            ford mustang gl              27.0  ... 1982-01-01     USA\n",
              "402                  vw pickup              44.0  ... 1982-01-01  Europe\n",
              "403              dodge rampage              32.0  ... 1982-01-01     USA\n",
              "404                ford ranger              28.0  ... 1982-01-01     USA\n",
              "405                 chevy s-10              31.0  ... 1982-01-01     USA\n",
              "\n",
              "[406 rows x 9 columns]"
            ]
          },
          "metadata": {
            "tags": []
          },
          "execution_count": 27
        }
      ]
    },
    {
      "cell_type": "code",
      "metadata": {
        "id": "KwkagE3vpdTY",
        "colab_type": "code",
        "colab": {}
      },
      "source": [
        "%unload_ext google.colab.data_table"
      ],
      "execution_count": null,
      "outputs": []
    },
    {
      "cell_type": "markdown",
      "metadata": {
        "id": "OKvLbYFyy8J-",
        "colab_type": "text"
      },
      "source": [
        ""
      ]
    },
    {
      "cell_type": "code",
      "metadata": {
        "id": "kgrbax2npdRf",
        "colab_type": "code",
        "colab": {
          "base_uri": "https://localhost:8080/",
          "height": 623
        },
        "outputId": "dc2a8470-1228-417a-b29a-982a50d56c5f"
      },
      "source": [
        "data.stocks()"
      ],
      "execution_count": null,
      "outputs": [
        {
          "output_type": "execute_result",
          "data": {
            "application/vnd.google.colaboratory.module+javascript": "\n      import \"https://ssl.gstatic.com/colaboratory/data_table/a6224c040fa35dcf/data_table.js\";\n\n      window.createDataTable({\n        data: [[{\n            'v': 0,\n            'f': \"0\",\n        },\n\"MSFT\",\n\"2000-01-01 00:00:00\",\n{\n            'v': 39.81,\n            'f': \"39.81\",\n        }],\n [{\n            'v': 1,\n            'f': \"1\",\n        },\n\"MSFT\",\n\"2000-02-01 00:00:00\",\n{\n            'v': 36.35,\n            'f': \"36.35\",\n        }],\n [{\n            'v': 2,\n            'f': \"2\",\n        },\n\"MSFT\",\n\"2000-03-01 00:00:00\",\n{\n            'v': 43.22,\n            'f': \"43.22\",\n        }],\n [{\n            'v': 3,\n            'f': \"3\",\n        },\n\"MSFT\",\n\"2000-04-01 00:00:00\",\n{\n            'v': 28.37,\n            'f': \"28.37\",\n        }],\n [{\n            'v': 4,\n            'f': \"4\",\n        },\n\"MSFT\",\n\"2000-05-01 00:00:00\",\n{\n            'v': 25.45,\n            'f': \"25.45\",\n        }],\n [{\n            'v': 5,\n            'f': \"5\",\n        },\n\"MSFT\",\n\"2000-06-01 00:00:00\",\n{\n            'v': 32.54,\n            'f': \"32.54\",\n        }],\n [{\n            'v': 6,\n            'f': \"6\",\n        },\n\"MSFT\",\n\"2000-07-01 00:00:00\",\n{\n            'v': 28.4,\n            'f': \"28.4\",\n        }],\n [{\n            'v': 7,\n            'f': \"7\",\n        },\n\"MSFT\",\n\"2000-08-01 00:00:00\",\n{\n            'v': 28.4,\n            'f': \"28.4\",\n        }],\n [{\n            'v': 8,\n            'f': \"8\",\n        },\n\"MSFT\",\n\"2000-09-01 00:00:00\",\n{\n            'v': 24.53,\n            'f': \"24.53\",\n        }],\n [{\n            'v': 9,\n            'f': \"9\",\n        },\n\"MSFT\",\n\"2000-10-01 00:00:00\",\n{\n            'v': 28.02,\n            'f': \"28.02\",\n        }],\n [{\n            'v': 10,\n            'f': \"10\",\n        },\n\"MSFT\",\n\"2000-11-01 00:00:00\",\n{\n            'v': 23.34,\n            'f': \"23.34\",\n        }],\n [{\n            'v': 11,\n            'f': \"11\",\n        },\n\"MSFT\",\n\"2000-12-01 00:00:00\",\n{\n            'v': 17.65,\n            'f': \"17.65\",\n        }],\n [{\n            'v': 12,\n            'f': \"12\",\n        },\n\"MSFT\",\n\"2001-01-01 00:00:00\",\n{\n            'v': 24.84,\n            'f': \"24.84\",\n        }],\n [{\n            'v': 13,\n            'f': \"13\",\n        },\n\"MSFT\",\n\"2001-02-01 00:00:00\",\n{\n            'v': 24.0,\n            'f': \"24.0\",\n        }],\n [{\n            'v': 14,\n            'f': \"14\",\n        },\n\"MSFT\",\n\"2001-03-01 00:00:00\",\n{\n            'v': 22.25,\n            'f': \"22.25\",\n        }],\n [{\n            'v': 15,\n            'f': \"15\",\n        },\n\"MSFT\",\n\"2001-04-01 00:00:00\",\n{\n            'v': 27.56,\n            'f': \"27.56\",\n        }],\n [{\n            'v': 16,\n            'f': \"16\",\n        },\n\"MSFT\",\n\"2001-05-01 00:00:00\",\n{\n            'v': 28.14,\n            'f': \"28.14\",\n        }],\n [{\n            'v': 17,\n            'f': \"17\",\n        },\n\"MSFT\",\n\"2001-06-01 00:00:00\",\n{\n            'v': 29.7,\n            'f': \"29.7\",\n        }],\n [{\n            'v': 18,\n            'f': \"18\",\n        },\n\"MSFT\",\n\"2001-07-01 00:00:00\",\n{\n            'v': 26.93,\n            'f': \"26.93\",\n        }],\n [{\n            'v': 19,\n            'f': \"19\",\n        },\n\"MSFT\",\n\"2001-08-01 00:00:00\",\n{\n            'v': 23.21,\n            'f': \"23.21\",\n        }],\n [{\n            'v': 20,\n            'f': \"20\",\n        },\n\"MSFT\",\n\"2001-09-01 00:00:00\",\n{\n            'v': 20.82,\n            'f': \"20.82\",\n        }],\n [{\n            'v': 21,\n            'f': \"21\",\n        },\n\"MSFT\",\n\"2001-10-01 00:00:00\",\n{\n            'v': 23.65,\n            'f': \"23.65\",\n        }],\n [{\n            'v': 22,\n            'f': \"22\",\n        },\n\"MSFT\",\n\"2001-11-01 00:00:00\",\n{\n            'v': 26.12,\n            'f': \"26.12\",\n        }],\n [{\n            'v': 23,\n            'f': \"23\",\n        },\n\"MSFT\",\n\"2001-12-01 00:00:00\",\n{\n            'v': 26.95,\n            'f': \"26.95\",\n        }],\n [{\n            'v': 24,\n            'f': \"24\",\n        },\n\"MSFT\",\n\"2002-01-01 00:00:00\",\n{\n            'v': 25.92,\n            'f': \"25.92\",\n        }],\n [{\n            'v': 25,\n            'f': \"25\",\n        },\n\"MSFT\",\n\"2002-02-01 00:00:00\",\n{\n            'v': 23.73,\n            'f': \"23.73\",\n        }],\n [{\n            'v': 26,\n            'f': \"26\",\n        },\n\"MSFT\",\n\"2002-03-01 00:00:00\",\n{\n            'v': 24.53,\n            'f': \"24.53\",\n        }],\n [{\n            'v': 27,\n            'f': \"27\",\n        },\n\"MSFT\",\n\"2002-04-01 00:00:00\",\n{\n            'v': 21.26,\n            'f': \"21.26\",\n        }],\n [{\n            'v': 28,\n            'f': \"28\",\n        },\n\"MSFT\",\n\"2002-05-01 00:00:00\",\n{\n            'v': 20.71,\n            'f': \"20.71\",\n        }],\n [{\n            'v': 29,\n            'f': \"29\",\n        },\n\"MSFT\",\n\"2002-06-01 00:00:00\",\n{\n            'v': 22.25,\n            'f': \"22.25\",\n        }],\n [{\n            'v': 30,\n            'f': \"30\",\n        },\n\"MSFT\",\n\"2002-07-01 00:00:00\",\n{\n            'v': 19.52,\n            'f': \"19.52\",\n        }],\n [{\n            'v': 31,\n            'f': \"31\",\n        },\n\"MSFT\",\n\"2002-08-01 00:00:00\",\n{\n            'v': 19.97,\n            'f': \"19.97\",\n        }],\n [{\n            'v': 32,\n            'f': \"32\",\n        },\n\"MSFT\",\n\"2002-09-01 00:00:00\",\n{\n            'v': 17.79,\n            'f': \"17.79\",\n        }],\n [{\n            'v': 33,\n            'f': \"33\",\n        },\n\"MSFT\",\n\"2002-10-01 00:00:00\",\n{\n            'v': 21.75,\n            'f': \"21.75\",\n        }],\n [{\n            'v': 34,\n            'f': \"34\",\n        },\n\"MSFT\",\n\"2002-11-01 00:00:00\",\n{\n            'v': 23.46,\n            'f': \"23.46\",\n        }],\n [{\n            'v': 35,\n            'f': \"35\",\n        },\n\"MSFT\",\n\"2002-12-01 00:00:00\",\n{\n            'v': 21.03,\n            'f': \"21.03\",\n        }],\n [{\n            'v': 36,\n            'f': \"36\",\n        },\n\"MSFT\",\n\"2003-01-01 00:00:00\",\n{\n            'v': 19.31,\n            'f': \"19.31\",\n        }],\n [{\n            'v': 37,\n            'f': \"37\",\n        },\n\"MSFT\",\n\"2003-02-01 00:00:00\",\n{\n            'v': 19.34,\n            'f': \"19.34\",\n        }],\n [{\n            'v': 38,\n            'f': \"38\",\n        },\n\"MSFT\",\n\"2003-03-01 00:00:00\",\n{\n            'v': 19.76,\n            'f': \"19.76\",\n        }],\n [{\n            'v': 39,\n            'f': \"39\",\n        },\n\"MSFT\",\n\"2003-04-01 00:00:00\",\n{\n            'v': 20.87,\n            'f': \"20.87\",\n        }],\n [{\n            'v': 40,\n            'f': \"40\",\n        },\n\"MSFT\",\n\"2003-05-01 00:00:00\",\n{\n            'v': 20.09,\n            'f': \"20.09\",\n        }],\n [{\n            'v': 41,\n            'f': \"41\",\n        },\n\"MSFT\",\n\"2003-06-01 00:00:00\",\n{\n            'v': 20.93,\n            'f': \"20.93\",\n        }],\n [{\n            'v': 42,\n            'f': \"42\",\n        },\n\"MSFT\",\n\"2003-07-01 00:00:00\",\n{\n            'v': 21.56,\n            'f': \"21.56\",\n        }],\n [{\n            'v': 43,\n            'f': \"43\",\n        },\n\"MSFT\",\n\"2003-08-01 00:00:00\",\n{\n            'v': 21.65,\n            'f': \"21.65\",\n        }],\n [{\n            'v': 44,\n            'f': \"44\",\n        },\n\"MSFT\",\n\"2003-09-01 00:00:00\",\n{\n            'v': 22.69,\n            'f': \"22.69\",\n        }],\n [{\n            'v': 45,\n            'f': \"45\",\n        },\n\"MSFT\",\n\"2003-10-01 00:00:00\",\n{\n            'v': 21.45,\n            'f': \"21.45\",\n        }],\n [{\n            'v': 46,\n            'f': \"46\",\n        },\n\"MSFT\",\n\"2003-11-01 00:00:00\",\n{\n            'v': 21.1,\n            'f': \"21.1\",\n        }],\n [{\n            'v': 47,\n            'f': \"47\",\n        },\n\"MSFT\",\n\"2003-12-01 00:00:00\",\n{\n            'v': 22.46,\n            'f': \"22.46\",\n        }],\n [{\n            'v': 48,\n            'f': \"48\",\n        },\n\"MSFT\",\n\"2004-01-01 00:00:00\",\n{\n            'v': 22.69,\n            'f': \"22.69\",\n        }],\n [{\n            'v': 49,\n            'f': \"49\",\n        },\n\"MSFT\",\n\"2004-02-01 00:00:00\",\n{\n            'v': 21.77,\n            'f': \"21.77\",\n        }],\n [{\n            'v': 50,\n            'f': \"50\",\n        },\n\"MSFT\",\n\"2004-03-01 00:00:00\",\n{\n            'v': 20.46,\n            'f': \"20.46\",\n        }],\n [{\n            'v': 51,\n            'f': \"51\",\n        },\n\"MSFT\",\n\"2004-04-01 00:00:00\",\n{\n            'v': 21.45,\n            'f': \"21.45\",\n        }],\n [{\n            'v': 52,\n            'f': \"52\",\n        },\n\"MSFT\",\n\"2004-05-01 00:00:00\",\n{\n            'v': 21.53,\n            'f': \"21.53\",\n        }],\n [{\n            'v': 53,\n            'f': \"53\",\n        },\n\"MSFT\",\n\"2004-06-01 00:00:00\",\n{\n            'v': 23.44,\n            'f': \"23.44\",\n        }],\n [{\n            'v': 54,\n            'f': \"54\",\n        },\n\"MSFT\",\n\"2004-07-01 00:00:00\",\n{\n            'v': 23.38,\n            'f': \"23.38\",\n        }],\n [{\n            'v': 55,\n            'f': \"55\",\n        },\n\"MSFT\",\n\"2004-08-01 00:00:00\",\n{\n            'v': 22.47,\n            'f': \"22.47\",\n        }],\n [{\n            'v': 56,\n            'f': \"56\",\n        },\n\"MSFT\",\n\"2004-09-01 00:00:00\",\n{\n            'v': 22.76,\n            'f': \"22.76\",\n        }],\n [{\n            'v': 57,\n            'f': \"57\",\n        },\n\"MSFT\",\n\"2004-10-01 00:00:00\",\n{\n            'v': 23.02,\n            'f': \"23.02\",\n        }],\n [{\n            'v': 58,\n            'f': \"58\",\n        },\n\"MSFT\",\n\"2004-11-01 00:00:00\",\n{\n            'v': 24.6,\n            'f': \"24.6\",\n        }],\n [{\n            'v': 59,\n            'f': \"59\",\n        },\n\"MSFT\",\n\"2004-12-01 00:00:00\",\n{\n            'v': 24.52,\n            'f': \"24.52\",\n        }],\n [{\n            'v': 60,\n            'f': \"60\",\n        },\n\"MSFT\",\n\"2005-01-01 00:00:00\",\n{\n            'v': 24.11,\n            'f': \"24.11\",\n        }],\n [{\n            'v': 61,\n            'f': \"61\",\n        },\n\"MSFT\",\n\"2005-02-01 00:00:00\",\n{\n            'v': 23.15,\n            'f': \"23.15\",\n        }],\n [{\n            'v': 62,\n            'f': \"62\",\n        },\n\"MSFT\",\n\"2005-03-01 00:00:00\",\n{\n            'v': 22.24,\n            'f': \"22.24\",\n        }],\n [{\n            'v': 63,\n            'f': \"63\",\n        },\n\"MSFT\",\n\"2005-04-01 00:00:00\",\n{\n            'v': 23.28,\n            'f': \"23.28\",\n        }],\n [{\n            'v': 64,\n            'f': \"64\",\n        },\n\"MSFT\",\n\"2005-05-01 00:00:00\",\n{\n            'v': 23.82,\n            'f': \"23.82\",\n        }],\n [{\n            'v': 65,\n            'f': \"65\",\n        },\n\"MSFT\",\n\"2005-06-01 00:00:00\",\n{\n            'v': 22.93,\n            'f': \"22.93\",\n        }],\n [{\n            'v': 66,\n            'f': \"66\",\n        },\n\"MSFT\",\n\"2005-07-01 00:00:00\",\n{\n            'v': 23.64,\n            'f': \"23.64\",\n        }],\n [{\n            'v': 67,\n            'f': \"67\",\n        },\n\"MSFT\",\n\"2005-08-01 00:00:00\",\n{\n            'v': 25.35,\n            'f': \"25.35\",\n        }],\n [{\n            'v': 68,\n            'f': \"68\",\n        },\n\"MSFT\",\n\"2005-09-01 00:00:00\",\n{\n            'v': 23.83,\n            'f': \"23.83\",\n        }],\n [{\n            'v': 69,\n            'f': \"69\",\n        },\n\"MSFT\",\n\"2005-10-01 00:00:00\",\n{\n            'v': 23.8,\n            'f': \"23.8\",\n        }],\n [{\n            'v': 70,\n            'f': \"70\",\n        },\n\"MSFT\",\n\"2005-11-01 00:00:00\",\n{\n            'v': 25.71,\n            'f': \"25.71\",\n        }],\n [{\n            'v': 71,\n            'f': \"71\",\n        },\n\"MSFT\",\n\"2005-12-01 00:00:00\",\n{\n            'v': 24.29,\n            'f': \"24.29\",\n        }],\n [{\n            'v': 72,\n            'f': \"72\",\n        },\n\"MSFT\",\n\"2006-01-01 00:00:00\",\n{\n            'v': 26.14,\n            'f': \"26.14\",\n        }],\n [{\n            'v': 73,\n            'f': \"73\",\n        },\n\"MSFT\",\n\"2006-02-01 00:00:00\",\n{\n            'v': 25.04,\n            'f': \"25.04\",\n        }],\n [{\n            'v': 74,\n            'f': \"74\",\n        },\n\"MSFT\",\n\"2006-03-01 00:00:00\",\n{\n            'v': 25.36,\n            'f': \"25.36\",\n        }],\n [{\n            'v': 75,\n            'f': \"75\",\n        },\n\"MSFT\",\n\"2006-04-01 00:00:00\",\n{\n            'v': 22.5,\n            'f': \"22.5\",\n        }],\n [{\n            'v': 76,\n            'f': \"76\",\n        },\n\"MSFT\",\n\"2006-05-01 00:00:00\",\n{\n            'v': 21.19,\n            'f': \"21.19\",\n        }],\n [{\n            'v': 77,\n            'f': \"77\",\n        },\n\"MSFT\",\n\"2006-06-01 00:00:00\",\n{\n            'v': 21.8,\n            'f': \"21.8\",\n        }],\n [{\n            'v': 78,\n            'f': \"78\",\n        },\n\"MSFT\",\n\"2006-07-01 00:00:00\",\n{\n            'v': 22.51,\n            'f': \"22.51\",\n        }],\n [{\n            'v': 79,\n            'f': \"79\",\n        },\n\"MSFT\",\n\"2006-08-01 00:00:00\",\n{\n            'v': 24.13,\n            'f': \"24.13\",\n        }],\n [{\n            'v': 80,\n            'f': \"80\",\n        },\n\"MSFT\",\n\"2006-09-01 00:00:00\",\n{\n            'v': 25.68,\n            'f': \"25.68\",\n        }],\n [{\n            'v': 81,\n            'f': \"81\",\n        },\n\"MSFT\",\n\"2006-10-01 00:00:00\",\n{\n            'v': 26.96,\n            'f': \"26.96\",\n        }],\n [{\n            'v': 82,\n            'f': \"82\",\n        },\n\"MSFT\",\n\"2006-11-01 00:00:00\",\n{\n            'v': 27.66,\n            'f': \"27.66\",\n        }],\n [{\n            'v': 83,\n            'f': \"83\",\n        },\n\"MSFT\",\n\"2006-12-01 00:00:00\",\n{\n            'v': 28.13,\n            'f': \"28.13\",\n        }],\n [{\n            'v': 84,\n            'f': \"84\",\n        },\n\"MSFT\",\n\"2007-01-01 00:00:00\",\n{\n            'v': 29.07,\n            'f': \"29.07\",\n        }],\n [{\n            'v': 85,\n            'f': \"85\",\n        },\n\"MSFT\",\n\"2007-02-01 00:00:00\",\n{\n            'v': 26.63,\n            'f': \"26.63\",\n        }],\n [{\n            'v': 86,\n            'f': \"86\",\n        },\n\"MSFT\",\n\"2007-03-01 00:00:00\",\n{\n            'v': 26.35,\n            'f': \"26.35\",\n        }],\n [{\n            'v': 87,\n            'f': \"87\",\n        },\n\"MSFT\",\n\"2007-04-01 00:00:00\",\n{\n            'v': 28.3,\n            'f': \"28.3\",\n        }],\n [{\n            'v': 88,\n            'f': \"88\",\n        },\n\"MSFT\",\n\"2007-05-01 00:00:00\",\n{\n            'v': 29.11,\n            'f': \"29.11\",\n        }],\n [{\n            'v': 89,\n            'f': \"89\",\n        },\n\"MSFT\",\n\"2007-06-01 00:00:00\",\n{\n            'v': 27.95,\n            'f': \"27.95\",\n        }],\n [{\n            'v': 90,\n            'f': \"90\",\n        },\n\"MSFT\",\n\"2007-07-01 00:00:00\",\n{\n            'v': 27.5,\n            'f': \"27.5\",\n        }],\n [{\n            'v': 91,\n            'f': \"91\",\n        },\n\"MSFT\",\n\"2007-08-01 00:00:00\",\n{\n            'v': 27.34,\n            'f': \"27.34\",\n        }],\n [{\n            'v': 92,\n            'f': \"92\",\n        },\n\"MSFT\",\n\"2007-09-01 00:00:00\",\n{\n            'v': 28.04,\n            'f': \"28.04\",\n        }],\n [{\n            'v': 93,\n            'f': \"93\",\n        },\n\"MSFT\",\n\"2007-10-01 00:00:00\",\n{\n            'v': 35.03,\n            'f': \"35.03\",\n        }],\n [{\n            'v': 94,\n            'f': \"94\",\n        },\n\"MSFT\",\n\"2007-11-01 00:00:00\",\n{\n            'v': 32.09,\n            'f': \"32.09\",\n        }],\n [{\n            'v': 95,\n            'f': \"95\",\n        },\n\"MSFT\",\n\"2007-12-01 00:00:00\",\n{\n            'v': 34.0,\n            'f': \"34.0\",\n        }],\n [{\n            'v': 96,\n            'f': \"96\",\n        },\n\"MSFT\",\n\"2008-01-01 00:00:00\",\n{\n            'v': 31.13,\n            'f': \"31.13\",\n        }],\n [{\n            'v': 97,\n            'f': \"97\",\n        },\n\"MSFT\",\n\"2008-02-01 00:00:00\",\n{\n            'v': 26.07,\n            'f': \"26.07\",\n        }],\n [{\n            'v': 98,\n            'f': \"98\",\n        },\n\"MSFT\",\n\"2008-03-01 00:00:00\",\n{\n            'v': 27.21,\n            'f': \"27.21\",\n        }],\n [{\n            'v': 99,\n            'f': \"99\",\n        },\n\"MSFT\",\n\"2008-04-01 00:00:00\",\n{\n            'v': 27.34,\n            'f': \"27.34\",\n        }],\n [{\n            'v': 100,\n            'f': \"100\",\n        },\n\"MSFT\",\n\"2008-05-01 00:00:00\",\n{\n            'v': 27.25,\n            'f': \"27.25\",\n        }],\n [{\n            'v': 101,\n            'f': \"101\",\n        },\n\"MSFT\",\n\"2008-06-01 00:00:00\",\n{\n            'v': 26.47,\n            'f': \"26.47\",\n        }],\n [{\n            'v': 102,\n            'f': \"102\",\n        },\n\"MSFT\",\n\"2008-07-01 00:00:00\",\n{\n            'v': 24.75,\n            'f': \"24.75\",\n        }],\n [{\n            'v': 103,\n            'f': \"103\",\n        },\n\"MSFT\",\n\"2008-08-01 00:00:00\",\n{\n            'v': 26.36,\n            'f': \"26.36\",\n        }],\n [{\n            'v': 104,\n            'f': \"104\",\n        },\n\"MSFT\",\n\"2008-09-01 00:00:00\",\n{\n            'v': 25.78,\n            'f': \"25.78\",\n        }],\n [{\n            'v': 105,\n            'f': \"105\",\n        },\n\"MSFT\",\n\"2008-10-01 00:00:00\",\n{\n            'v': 21.57,\n            'f': \"21.57\",\n        }],\n [{\n            'v': 106,\n            'f': \"106\",\n        },\n\"MSFT\",\n\"2008-11-01 00:00:00\",\n{\n            'v': 19.66,\n            'f': \"19.66\",\n        }],\n [{\n            'v': 107,\n            'f': \"107\",\n        },\n\"MSFT\",\n\"2008-12-01 00:00:00\",\n{\n            'v': 18.91,\n            'f': \"18.91\",\n        }],\n [{\n            'v': 108,\n            'f': \"108\",\n        },\n\"MSFT\",\n\"2009-01-01 00:00:00\",\n{\n            'v': 16.63,\n            'f': \"16.63\",\n        }],\n [{\n            'v': 109,\n            'f': \"109\",\n        },\n\"MSFT\",\n\"2009-02-01 00:00:00\",\n{\n            'v': 15.81,\n            'f': \"15.81\",\n        }],\n [{\n            'v': 110,\n            'f': \"110\",\n        },\n\"MSFT\",\n\"2009-03-01 00:00:00\",\n{\n            'v': 17.99,\n            'f': \"17.99\",\n        }],\n [{\n            'v': 111,\n            'f': \"111\",\n        },\n\"MSFT\",\n\"2009-04-01 00:00:00\",\n{\n            'v': 19.84,\n            'f': \"19.84\",\n        }],\n [{\n            'v': 112,\n            'f': \"112\",\n        },\n\"MSFT\",\n\"2009-05-01 00:00:00\",\n{\n            'v': 20.59,\n            'f': \"20.59\",\n        }],\n [{\n            'v': 113,\n            'f': \"113\",\n        },\n\"MSFT\",\n\"2009-06-01 00:00:00\",\n{\n            'v': 23.42,\n            'f': \"23.42\",\n        }],\n [{\n            'v': 114,\n            'f': \"114\",\n        },\n\"MSFT\",\n\"2009-07-01 00:00:00\",\n{\n            'v': 23.18,\n            'f': \"23.18\",\n        }],\n [{\n            'v': 115,\n            'f': \"115\",\n        },\n\"MSFT\",\n\"2009-08-01 00:00:00\",\n{\n            'v': 24.43,\n            'f': \"24.43\",\n        }],\n [{\n            'v': 116,\n            'f': \"116\",\n        },\n\"MSFT\",\n\"2009-09-01 00:00:00\",\n{\n            'v': 25.49,\n            'f': \"25.49\",\n        }],\n [{\n            'v': 117,\n            'f': \"117\",\n        },\n\"MSFT\",\n\"2009-10-01 00:00:00\",\n{\n            'v': 27.48,\n            'f': \"27.48\",\n        }],\n [{\n            'v': 118,\n            'f': \"118\",\n        },\n\"MSFT\",\n\"2009-11-01 00:00:00\",\n{\n            'v': 29.27,\n            'f': \"29.27\",\n        }],\n [{\n            'v': 119,\n            'f': \"119\",\n        },\n\"MSFT\",\n\"2009-12-01 00:00:00\",\n{\n            'v': 30.34,\n            'f': \"30.34\",\n        }],\n [{\n            'v': 120,\n            'f': \"120\",\n        },\n\"MSFT\",\n\"2010-01-01 00:00:00\",\n{\n            'v': 28.05,\n            'f': \"28.05\",\n        }],\n [{\n            'v': 121,\n            'f': \"121\",\n        },\n\"MSFT\",\n\"2010-02-01 00:00:00\",\n{\n            'v': 28.67,\n            'f': \"28.67\",\n        }],\n [{\n            'v': 122,\n            'f': \"122\",\n        },\n\"MSFT\",\n\"2010-03-01 00:00:00\",\n{\n            'v': 28.8,\n            'f': \"28.8\",\n        }],\n [{\n            'v': 123,\n            'f': \"123\",\n        },\n\"AMZN\",\n\"2000-01-01 00:00:00\",\n{\n            'v': 64.56,\n            'f': \"64.56\",\n        }],\n [{\n            'v': 124,\n            'f': \"124\",\n        },\n\"AMZN\",\n\"2000-02-01 00:00:00\",\n{\n            'v': 68.87,\n            'f': \"68.87\",\n        }],\n [{\n            'v': 125,\n            'f': \"125\",\n        },\n\"AMZN\",\n\"2000-03-01 00:00:00\",\n{\n            'v': 67.0,\n            'f': \"67.0\",\n        }],\n [{\n            'v': 126,\n            'f': \"126\",\n        },\n\"AMZN\",\n\"2000-04-01 00:00:00\",\n{\n            'v': 55.19,\n            'f': \"55.19\",\n        }],\n [{\n            'v': 127,\n            'f': \"127\",\n        },\n\"AMZN\",\n\"2000-05-01 00:00:00\",\n{\n            'v': 48.31,\n            'f': \"48.31\",\n        }],\n [{\n            'v': 128,\n            'f': \"128\",\n        },\n\"AMZN\",\n\"2000-06-01 00:00:00\",\n{\n            'v': 36.31,\n            'f': \"36.31\",\n        }],\n [{\n            'v': 129,\n            'f': \"129\",\n        },\n\"AMZN\",\n\"2000-07-01 00:00:00\",\n{\n            'v': 30.12,\n            'f': \"30.12\",\n        }],\n [{\n            'v': 130,\n            'f': \"130\",\n        },\n\"AMZN\",\n\"2000-08-01 00:00:00\",\n{\n            'v': 41.5,\n            'f': \"41.5\",\n        }],\n [{\n            'v': 131,\n            'f': \"131\",\n        },\n\"AMZN\",\n\"2000-09-01 00:00:00\",\n{\n            'v': 38.44,\n            'f': \"38.44\",\n        }],\n [{\n            'v': 132,\n            'f': \"132\",\n        },\n\"AMZN\",\n\"2000-10-01 00:00:00\",\n{\n            'v': 36.62,\n            'f': \"36.62\",\n        }],\n [{\n            'v': 133,\n            'f': \"133\",\n        },\n\"AMZN\",\n\"2000-11-01 00:00:00\",\n{\n            'v': 24.69,\n            'f': \"24.69\",\n        }],\n [{\n            'v': 134,\n            'f': \"134\",\n        },\n\"AMZN\",\n\"2000-12-01 00:00:00\",\n{\n            'v': 15.56,\n            'f': \"15.56\",\n        }],\n [{\n            'v': 135,\n            'f': \"135\",\n        },\n\"AMZN\",\n\"2001-01-01 00:00:00\",\n{\n            'v': 17.31,\n            'f': \"17.31\",\n        }],\n [{\n            'v': 136,\n            'f': \"136\",\n        },\n\"AMZN\",\n\"2001-02-01 00:00:00\",\n{\n            'v': 10.19,\n            'f': \"10.19\",\n        }],\n [{\n            'v': 137,\n            'f': \"137\",\n        },\n\"AMZN\",\n\"2001-03-01 00:00:00\",\n{\n            'v': 10.23,\n            'f': \"10.23\",\n        }],\n [{\n            'v': 138,\n            'f': \"138\",\n        },\n\"AMZN\",\n\"2001-04-01 00:00:00\",\n{\n            'v': 15.78,\n            'f': \"15.78\",\n        }],\n [{\n            'v': 139,\n            'f': \"139\",\n        },\n\"AMZN\",\n\"2001-05-01 00:00:00\",\n{\n            'v': 16.69,\n            'f': \"16.69\",\n        }],\n [{\n            'v': 140,\n            'f': \"140\",\n        },\n\"AMZN\",\n\"2001-06-01 00:00:00\",\n{\n            'v': 14.15,\n            'f': \"14.15\",\n        }],\n [{\n            'v': 141,\n            'f': \"141\",\n        },\n\"AMZN\",\n\"2001-07-01 00:00:00\",\n{\n            'v': 12.49,\n            'f': \"12.49\",\n        }],\n [{\n            'v': 142,\n            'f': \"142\",\n        },\n\"AMZN\",\n\"2001-08-01 00:00:00\",\n{\n            'v': 8.94,\n            'f': \"8.94\",\n        }],\n [{\n            'v': 143,\n            'f': \"143\",\n        },\n\"AMZN\",\n\"2001-09-01 00:00:00\",\n{\n            'v': 5.97,\n            'f': \"5.97\",\n        }],\n [{\n            'v': 144,\n            'f': \"144\",\n        },\n\"AMZN\",\n\"2001-10-01 00:00:00\",\n{\n            'v': 6.98,\n            'f': \"6.98\",\n        }],\n [{\n            'v': 145,\n            'f': \"145\",\n        },\n\"AMZN\",\n\"2001-11-01 00:00:00\",\n{\n            'v': 11.32,\n            'f': \"11.32\",\n        }],\n [{\n            'v': 146,\n            'f': \"146\",\n        },\n\"AMZN\",\n\"2001-12-01 00:00:00\",\n{\n            'v': 10.82,\n            'f': \"10.82\",\n        }],\n [{\n            'v': 147,\n            'f': \"147\",\n        },\n\"AMZN\",\n\"2002-01-01 00:00:00\",\n{\n            'v': 14.19,\n            'f': \"14.19\",\n        }],\n [{\n            'v': 148,\n            'f': \"148\",\n        },\n\"AMZN\",\n\"2002-02-01 00:00:00\",\n{\n            'v': 14.1,\n            'f': \"14.1\",\n        }],\n [{\n            'v': 149,\n            'f': \"149\",\n        },\n\"AMZN\",\n\"2002-03-01 00:00:00\",\n{\n            'v': 14.3,\n            'f': \"14.3\",\n        }],\n [{\n            'v': 150,\n            'f': \"150\",\n        },\n\"AMZN\",\n\"2002-04-01 00:00:00\",\n{\n            'v': 16.69,\n            'f': \"16.69\",\n        }],\n [{\n            'v': 151,\n            'f': \"151\",\n        },\n\"AMZN\",\n\"2002-05-01 00:00:00\",\n{\n            'v': 18.23,\n            'f': \"18.23\",\n        }],\n [{\n            'v': 152,\n            'f': \"152\",\n        },\n\"AMZN\",\n\"2002-06-01 00:00:00\",\n{\n            'v': 16.25,\n            'f': \"16.25\",\n        }],\n [{\n            'v': 153,\n            'f': \"153\",\n        },\n\"AMZN\",\n\"2002-07-01 00:00:00\",\n{\n            'v': 14.45,\n            'f': \"14.45\",\n        }],\n [{\n            'v': 154,\n            'f': \"154\",\n        },\n\"AMZN\",\n\"2002-08-01 00:00:00\",\n{\n            'v': 14.94,\n            'f': \"14.94\",\n        }],\n [{\n            'v': 155,\n            'f': \"155\",\n        },\n\"AMZN\",\n\"2002-09-01 00:00:00\",\n{\n            'v': 15.93,\n            'f': \"15.93\",\n        }],\n [{\n            'v': 156,\n            'f': \"156\",\n        },\n\"AMZN\",\n\"2002-10-01 00:00:00\",\n{\n            'v': 19.36,\n            'f': \"19.36\",\n        }],\n [{\n            'v': 157,\n            'f': \"157\",\n        },\n\"AMZN\",\n\"2002-11-01 00:00:00\",\n{\n            'v': 23.35,\n            'f': \"23.35\",\n        }],\n [{\n            'v': 158,\n            'f': \"158\",\n        },\n\"AMZN\",\n\"2002-12-01 00:00:00\",\n{\n            'v': 18.89,\n            'f': \"18.89\",\n        }],\n [{\n            'v': 159,\n            'f': \"159\",\n        },\n\"AMZN\",\n\"2003-01-01 00:00:00\",\n{\n            'v': 21.85,\n            'f': \"21.85\",\n        }],\n [{\n            'v': 160,\n            'f': \"160\",\n        },\n\"AMZN\",\n\"2003-02-01 00:00:00\",\n{\n            'v': 22.01,\n            'f': \"22.01\",\n        }],\n [{\n            'v': 161,\n            'f': \"161\",\n        },\n\"AMZN\",\n\"2003-03-01 00:00:00\",\n{\n            'v': 26.03,\n            'f': \"26.03\",\n        }],\n [{\n            'v': 162,\n            'f': \"162\",\n        },\n\"AMZN\",\n\"2003-04-01 00:00:00\",\n{\n            'v': 28.69,\n            'f': \"28.69\",\n        }],\n [{\n            'v': 163,\n            'f': \"163\",\n        },\n\"AMZN\",\n\"2003-05-01 00:00:00\",\n{\n            'v': 35.89,\n            'f': \"35.89\",\n        }],\n [{\n            'v': 164,\n            'f': \"164\",\n        },\n\"AMZN\",\n\"2003-06-01 00:00:00\",\n{\n            'v': 36.32,\n            'f': \"36.32\",\n        }],\n [{\n            'v': 165,\n            'f': \"165\",\n        },\n\"AMZN\",\n\"2003-07-01 00:00:00\",\n{\n            'v': 41.64,\n            'f': \"41.64\",\n        }],\n [{\n            'v': 166,\n            'f': \"166\",\n        },\n\"AMZN\",\n\"2003-08-01 00:00:00\",\n{\n            'v': 46.32,\n            'f': \"46.32\",\n        }],\n [{\n            'v': 167,\n            'f': \"167\",\n        },\n\"AMZN\",\n\"2003-09-01 00:00:00\",\n{\n            'v': 48.43,\n            'f': \"48.43\",\n        }],\n [{\n            'v': 168,\n            'f': \"168\",\n        },\n\"AMZN\",\n\"2003-10-01 00:00:00\",\n{\n            'v': 54.43,\n            'f': \"54.43\",\n        }],\n [{\n            'v': 169,\n            'f': \"169\",\n        },\n\"AMZN\",\n\"2003-11-01 00:00:00\",\n{\n            'v': 53.97,\n            'f': \"53.97\",\n        }],\n [{\n            'v': 170,\n            'f': \"170\",\n        },\n\"AMZN\",\n\"2003-12-01 00:00:00\",\n{\n            'v': 52.62,\n            'f': \"52.62\",\n        }],\n [{\n            'v': 171,\n            'f': \"171\",\n        },\n\"AMZN\",\n\"2004-01-01 00:00:00\",\n{\n            'v': 50.4,\n            'f': \"50.4\",\n        }],\n [{\n            'v': 172,\n            'f': \"172\",\n        },\n\"AMZN\",\n\"2004-02-01 00:00:00\",\n{\n            'v': 43.01,\n            'f': \"43.01\",\n        }],\n [{\n            'v': 173,\n            'f': \"173\",\n        },\n\"AMZN\",\n\"2004-03-01 00:00:00\",\n{\n            'v': 43.28,\n            'f': \"43.28\",\n        }],\n [{\n            'v': 174,\n            'f': \"174\",\n        },\n\"AMZN\",\n\"2004-04-01 00:00:00\",\n{\n            'v': 43.6,\n            'f': \"43.6\",\n        }],\n [{\n            'v': 175,\n            'f': \"175\",\n        },\n\"AMZN\",\n\"2004-05-01 00:00:00\",\n{\n            'v': 48.5,\n            'f': \"48.5\",\n        }],\n [{\n            'v': 176,\n            'f': \"176\",\n        },\n\"AMZN\",\n\"2004-06-01 00:00:00\",\n{\n            'v': 54.4,\n            'f': \"54.4\",\n        }],\n [{\n            'v': 177,\n            'f': \"177\",\n        },\n\"AMZN\",\n\"2004-07-01 00:00:00\",\n{\n            'v': 38.92,\n            'f': \"38.92\",\n        }],\n [{\n            'v': 178,\n            'f': \"178\",\n        },\n\"AMZN\",\n\"2004-08-01 00:00:00\",\n{\n            'v': 38.14,\n            'f': \"38.14\",\n        }],\n [{\n            'v': 179,\n            'f': \"179\",\n        },\n\"AMZN\",\n\"2004-09-01 00:00:00\",\n{\n            'v': 40.86,\n            'f': \"40.86\",\n        }],\n [{\n            'v': 180,\n            'f': \"180\",\n        },\n\"AMZN\",\n\"2004-10-01 00:00:00\",\n{\n            'v': 34.13,\n            'f': \"34.13\",\n        }],\n [{\n            'v': 181,\n            'f': \"181\",\n        },\n\"AMZN\",\n\"2004-11-01 00:00:00\",\n{\n            'v': 39.68,\n            'f': \"39.68\",\n        }],\n [{\n            'v': 182,\n            'f': \"182\",\n        },\n\"AMZN\",\n\"2004-12-01 00:00:00\",\n{\n            'v': 44.29,\n            'f': \"44.29\",\n        }],\n [{\n            'v': 183,\n            'f': \"183\",\n        },\n\"AMZN\",\n\"2005-01-01 00:00:00\",\n{\n            'v': 43.22,\n            'f': \"43.22\",\n        }],\n [{\n            'v': 184,\n            'f': \"184\",\n        },\n\"AMZN\",\n\"2005-02-01 00:00:00\",\n{\n            'v': 35.18,\n            'f': \"35.18\",\n        }],\n [{\n            'v': 185,\n            'f': \"185\",\n        },\n\"AMZN\",\n\"2005-03-01 00:00:00\",\n{\n            'v': 34.27,\n            'f': \"34.27\",\n        }],\n [{\n            'v': 186,\n            'f': \"186\",\n        },\n\"AMZN\",\n\"2005-04-01 00:00:00\",\n{\n            'v': 32.36,\n            'f': \"32.36\",\n        }],\n [{\n            'v': 187,\n            'f': \"187\",\n        },\n\"AMZN\",\n\"2005-05-01 00:00:00\",\n{\n            'v': 35.51,\n            'f': \"35.51\",\n        }],\n [{\n            'v': 188,\n            'f': \"188\",\n        },\n\"AMZN\",\n\"2005-06-01 00:00:00\",\n{\n            'v': 33.09,\n            'f': \"33.09\",\n        }],\n [{\n            'v': 189,\n            'f': \"189\",\n        },\n\"AMZN\",\n\"2005-07-01 00:00:00\",\n{\n            'v': 45.15,\n            'f': \"45.15\",\n        }],\n [{\n            'v': 190,\n            'f': \"190\",\n        },\n\"AMZN\",\n\"2005-08-01 00:00:00\",\n{\n            'v': 42.7,\n            'f': \"42.7\",\n        }],\n [{\n            'v': 191,\n            'f': \"191\",\n        },\n\"AMZN\",\n\"2005-09-01 00:00:00\",\n{\n            'v': 45.3,\n            'f': \"45.3\",\n        }],\n [{\n            'v': 192,\n            'f': \"192\",\n        },\n\"AMZN\",\n\"2005-10-01 00:00:00\",\n{\n            'v': 39.86,\n            'f': \"39.86\",\n        }],\n [{\n            'v': 193,\n            'f': \"193\",\n        },\n\"AMZN\",\n\"2005-11-01 00:00:00\",\n{\n            'v': 48.46,\n            'f': \"48.46\",\n        }],\n [{\n            'v': 194,\n            'f': \"194\",\n        },\n\"AMZN\",\n\"2005-12-01 00:00:00\",\n{\n            'v': 47.15,\n            'f': \"47.15\",\n        }],\n [{\n            'v': 195,\n            'f': \"195\",\n        },\n\"AMZN\",\n\"2006-01-01 00:00:00\",\n{\n            'v': 44.82,\n            'f': \"44.82\",\n        }],\n [{\n            'v': 196,\n            'f': \"196\",\n        },\n\"AMZN\",\n\"2006-02-01 00:00:00\",\n{\n            'v': 37.44,\n            'f': \"37.44\",\n        }],\n [{\n            'v': 197,\n            'f': \"197\",\n        },\n\"AMZN\",\n\"2006-03-01 00:00:00\",\n{\n            'v': 36.53,\n            'f': \"36.53\",\n        }],\n [{\n            'v': 198,\n            'f': \"198\",\n        },\n\"AMZN\",\n\"2006-04-01 00:00:00\",\n{\n            'v': 35.21,\n            'f': \"35.21\",\n        }],\n [{\n            'v': 199,\n            'f': \"199\",\n        },\n\"AMZN\",\n\"2006-05-01 00:00:00\",\n{\n            'v': 34.61,\n            'f': \"34.61\",\n        }],\n [{\n            'v': 200,\n            'f': \"200\",\n        },\n\"AMZN\",\n\"2006-06-01 00:00:00\",\n{\n            'v': 38.68,\n            'f': \"38.68\",\n        }],\n [{\n            'v': 201,\n            'f': \"201\",\n        },\n\"AMZN\",\n\"2006-07-01 00:00:00\",\n{\n            'v': 26.89,\n            'f': \"26.89\",\n        }],\n [{\n            'v': 202,\n            'f': \"202\",\n        },\n\"AMZN\",\n\"2006-08-01 00:00:00\",\n{\n            'v': 30.83,\n            'f': \"30.83\",\n        }],\n [{\n            'v': 203,\n            'f': \"203\",\n        },\n\"AMZN\",\n\"2006-09-01 00:00:00\",\n{\n            'v': 32.12,\n            'f': \"32.12\",\n        }],\n [{\n            'v': 204,\n            'f': \"204\",\n        },\n\"AMZN\",\n\"2006-10-01 00:00:00\",\n{\n            'v': 38.09,\n            'f': \"38.09\",\n        }],\n [{\n            'v': 205,\n            'f': \"205\",\n        },\n\"AMZN\",\n\"2006-11-01 00:00:00\",\n{\n            'v': 40.34,\n            'f': \"40.34\",\n        }],\n [{\n            'v': 206,\n            'f': \"206\",\n        },\n\"AMZN\",\n\"2006-12-01 00:00:00\",\n{\n            'v': 39.46,\n            'f': \"39.46\",\n        }],\n [{\n            'v': 207,\n            'f': \"207\",\n        },\n\"AMZN\",\n\"2007-01-01 00:00:00\",\n{\n            'v': 37.67,\n            'f': \"37.67\",\n        }],\n [{\n            'v': 208,\n            'f': \"208\",\n        },\n\"AMZN\",\n\"2007-02-01 00:00:00\",\n{\n            'v': 39.14,\n            'f': \"39.14\",\n        }],\n [{\n            'v': 209,\n            'f': \"209\",\n        },\n\"AMZN\",\n\"2007-03-01 00:00:00\",\n{\n            'v': 39.79,\n            'f': \"39.79\",\n        }],\n [{\n            'v': 210,\n            'f': \"210\",\n        },\n\"AMZN\",\n\"2007-04-01 00:00:00\",\n{\n            'v': 61.33,\n            'f': \"61.33\",\n        }],\n [{\n            'v': 211,\n            'f': \"211\",\n        },\n\"AMZN\",\n\"2007-05-01 00:00:00\",\n{\n            'v': 69.14,\n            'f': \"69.14\",\n        }],\n [{\n            'v': 212,\n            'f': \"212\",\n        },\n\"AMZN\",\n\"2007-06-01 00:00:00\",\n{\n            'v': 68.41,\n            'f': \"68.41\",\n        }],\n [{\n            'v': 213,\n            'f': \"213\",\n        },\n\"AMZN\",\n\"2007-07-01 00:00:00\",\n{\n            'v': 78.54,\n            'f': \"78.54\",\n        }],\n [{\n            'v': 214,\n            'f': \"214\",\n        },\n\"AMZN\",\n\"2007-08-01 00:00:00\",\n{\n            'v': 79.91,\n            'f': \"79.91\",\n        }],\n [{\n            'v': 215,\n            'f': \"215\",\n        },\n\"AMZN\",\n\"2007-09-01 00:00:00\",\n{\n            'v': 93.15,\n            'f': \"93.15\",\n        }],\n [{\n            'v': 216,\n            'f': \"216\",\n        },\n\"AMZN\",\n\"2007-10-01 00:00:00\",\n{\n            'v': 89.15,\n            'f': \"89.15\",\n        }],\n [{\n            'v': 217,\n            'f': \"217\",\n        },\n\"AMZN\",\n\"2007-11-01 00:00:00\",\n{\n            'v': 90.56,\n            'f': \"90.56\",\n        }],\n [{\n            'v': 218,\n            'f': \"218\",\n        },\n\"AMZN\",\n\"2007-12-01 00:00:00\",\n{\n            'v': 92.64,\n            'f': \"92.64\",\n        }],\n [{\n            'v': 219,\n            'f': \"219\",\n        },\n\"AMZN\",\n\"2008-01-01 00:00:00\",\n{\n            'v': 77.7,\n            'f': \"77.7\",\n        }],\n [{\n            'v': 220,\n            'f': \"220\",\n        },\n\"AMZN\",\n\"2008-02-01 00:00:00\",\n{\n            'v': 64.47,\n            'f': \"64.47\",\n        }],\n [{\n            'v': 221,\n            'f': \"221\",\n        },\n\"AMZN\",\n\"2008-03-01 00:00:00\",\n{\n            'v': 71.3,\n            'f': \"71.3\",\n        }],\n [{\n            'v': 222,\n            'f': \"222\",\n        },\n\"AMZN\",\n\"2008-04-01 00:00:00\",\n{\n            'v': 78.63,\n            'f': \"78.63\",\n        }],\n [{\n            'v': 223,\n            'f': \"223\",\n        },\n\"AMZN\",\n\"2008-05-01 00:00:00\",\n{\n            'v': 81.62,\n            'f': \"81.62\",\n        }],\n [{\n            'v': 224,\n            'f': \"224\",\n        },\n\"AMZN\",\n\"2008-06-01 00:00:00\",\n{\n            'v': 73.33,\n            'f': \"73.33\",\n        }],\n [{\n            'v': 225,\n            'f': \"225\",\n        },\n\"AMZN\",\n\"2008-07-01 00:00:00\",\n{\n            'v': 76.34,\n            'f': \"76.34\",\n        }],\n [{\n            'v': 226,\n            'f': \"226\",\n        },\n\"AMZN\",\n\"2008-08-01 00:00:00\",\n{\n            'v': 80.81,\n            'f': \"80.81\",\n        }],\n [{\n            'v': 227,\n            'f': \"227\",\n        },\n\"AMZN\",\n\"2008-09-01 00:00:00\",\n{\n            'v': 72.76,\n            'f': \"72.76\",\n        }],\n [{\n            'v': 228,\n            'f': \"228\",\n        },\n\"AMZN\",\n\"2008-10-01 00:00:00\",\n{\n            'v': 57.24,\n            'f': \"57.24\",\n        }],\n [{\n            'v': 229,\n            'f': \"229\",\n        },\n\"AMZN\",\n\"2008-11-01 00:00:00\",\n{\n            'v': 42.7,\n            'f': \"42.7\",\n        }],\n [{\n            'v': 230,\n            'f': \"230\",\n        },\n\"AMZN\",\n\"2008-12-01 00:00:00\",\n{\n            'v': 51.28,\n            'f': \"51.28\",\n        }],\n [{\n            'v': 231,\n            'f': \"231\",\n        },\n\"AMZN\",\n\"2009-01-01 00:00:00\",\n{\n            'v': 58.82,\n            'f': \"58.82\",\n        }],\n [{\n            'v': 232,\n            'f': \"232\",\n        },\n\"AMZN\",\n\"2009-02-01 00:00:00\",\n{\n            'v': 64.79,\n            'f': \"64.79\",\n        }],\n [{\n            'v': 233,\n            'f': \"233\",\n        },\n\"AMZN\",\n\"2009-03-01 00:00:00\",\n{\n            'v': 73.44,\n            'f': \"73.44\",\n        }],\n [{\n            'v': 234,\n            'f': \"234\",\n        },\n\"AMZN\",\n\"2009-04-01 00:00:00\",\n{\n            'v': 80.52,\n            'f': \"80.52\",\n        }],\n [{\n            'v': 235,\n            'f': \"235\",\n        },\n\"AMZN\",\n\"2009-05-01 00:00:00\",\n{\n            'v': 77.99,\n            'f': \"77.99\",\n        }],\n [{\n            'v': 236,\n            'f': \"236\",\n        },\n\"AMZN\",\n\"2009-06-01 00:00:00\",\n{\n            'v': 83.66,\n            'f': \"83.66\",\n        }],\n [{\n            'v': 237,\n            'f': \"237\",\n        },\n\"AMZN\",\n\"2009-07-01 00:00:00\",\n{\n            'v': 85.76,\n            'f': \"85.76\",\n        }],\n [{\n            'v': 238,\n            'f': \"238\",\n        },\n\"AMZN\",\n\"2009-08-01 00:00:00\",\n{\n            'v': 81.19,\n            'f': \"81.19\",\n        }],\n [{\n            'v': 239,\n            'f': \"239\",\n        },\n\"AMZN\",\n\"2009-09-01 00:00:00\",\n{\n            'v': 93.36,\n            'f': \"93.36\",\n        }],\n [{\n            'v': 240,\n            'f': \"240\",\n        },\n\"AMZN\",\n\"2009-10-01 00:00:00\",\n{\n            'v': 118.81,\n            'f': \"118.81\",\n        }],\n [{\n            'v': 241,\n            'f': \"241\",\n        },\n\"AMZN\",\n\"2009-11-01 00:00:00\",\n{\n            'v': 135.91,\n            'f': \"135.91\",\n        }],\n [{\n            'v': 242,\n            'f': \"242\",\n        },\n\"AMZN\",\n\"2009-12-01 00:00:00\",\n{\n            'v': 134.52,\n            'f': \"134.52\",\n        }],\n [{\n            'v': 243,\n            'f': \"243\",\n        },\n\"AMZN\",\n\"2010-01-01 00:00:00\",\n{\n            'v': 125.41,\n            'f': \"125.41\",\n        }],\n [{\n            'v': 244,\n            'f': \"244\",\n        },\n\"AMZN\",\n\"2010-02-01 00:00:00\",\n{\n            'v': 118.4,\n            'f': \"118.4\",\n        }],\n [{\n            'v': 245,\n            'f': \"245\",\n        },\n\"AMZN\",\n\"2010-03-01 00:00:00\",\n{\n            'v': 128.82,\n            'f': \"128.82\",\n        }],\n [{\n            'v': 246,\n            'f': \"246\",\n        },\n\"IBM\",\n\"2000-01-01 00:00:00\",\n{\n            'v': 100.52,\n            'f': \"100.52\",\n        }],\n [{\n            'v': 247,\n            'f': \"247\",\n        },\n\"IBM\",\n\"2000-02-01 00:00:00\",\n{\n            'v': 92.11,\n            'f': \"92.11\",\n        }],\n [{\n            'v': 248,\n            'f': \"248\",\n        },\n\"IBM\",\n\"2000-03-01 00:00:00\",\n{\n            'v': 106.11,\n            'f': \"106.11\",\n        }],\n [{\n            'v': 249,\n            'f': \"249\",\n        },\n\"IBM\",\n\"2000-04-01 00:00:00\",\n{\n            'v': 99.95,\n            'f': \"99.95\",\n        }],\n [{\n            'v': 250,\n            'f': \"250\",\n        },\n\"IBM\",\n\"2000-05-01 00:00:00\",\n{\n            'v': 96.31,\n            'f': \"96.31\",\n        }],\n [{\n            'v': 251,\n            'f': \"251\",\n        },\n\"IBM\",\n\"2000-06-01 00:00:00\",\n{\n            'v': 98.33,\n            'f': \"98.33\",\n        }],\n [{\n            'v': 252,\n            'f': \"252\",\n        },\n\"IBM\",\n\"2000-07-01 00:00:00\",\n{\n            'v': 100.74,\n            'f': \"100.74\",\n        }],\n [{\n            'v': 253,\n            'f': \"253\",\n        },\n\"IBM\",\n\"2000-08-01 00:00:00\",\n{\n            'v': 118.62,\n            'f': \"118.62\",\n        }],\n [{\n            'v': 254,\n            'f': \"254\",\n        },\n\"IBM\",\n\"2000-09-01 00:00:00\",\n{\n            'v': 101.19,\n            'f': \"101.19\",\n        }],\n [{\n            'v': 255,\n            'f': \"255\",\n        },\n\"IBM\",\n\"2000-10-01 00:00:00\",\n{\n            'v': 88.5,\n            'f': \"88.5\",\n        }],\n [{\n            'v': 256,\n            'f': \"256\",\n        },\n\"IBM\",\n\"2000-11-01 00:00:00\",\n{\n            'v': 84.12,\n            'f': \"84.12\",\n        }],\n [{\n            'v': 257,\n            'f': \"257\",\n        },\n\"IBM\",\n\"2000-12-01 00:00:00\",\n{\n            'v': 76.47,\n            'f': \"76.47\",\n        }],\n [{\n            'v': 258,\n            'f': \"258\",\n        },\n\"IBM\",\n\"2001-01-01 00:00:00\",\n{\n            'v': 100.76,\n            'f': \"100.76\",\n        }],\n [{\n            'v': 259,\n            'f': \"259\",\n        },\n\"IBM\",\n\"2001-02-01 00:00:00\",\n{\n            'v': 89.98,\n            'f': \"89.98\",\n        }],\n [{\n            'v': 260,\n            'f': \"260\",\n        },\n\"IBM\",\n\"2001-03-01 00:00:00\",\n{\n            'v': 86.63,\n            'f': \"86.63\",\n        }],\n [{\n            'v': 261,\n            'f': \"261\",\n        },\n\"IBM\",\n\"2001-04-01 00:00:00\",\n{\n            'v': 103.7,\n            'f': \"103.7\",\n        }],\n [{\n            'v': 262,\n            'f': \"262\",\n        },\n\"IBM\",\n\"2001-05-01 00:00:00\",\n{\n            'v': 100.82,\n            'f': \"100.82\",\n        }],\n [{\n            'v': 263,\n            'f': \"263\",\n        },\n\"IBM\",\n\"2001-06-01 00:00:00\",\n{\n            'v': 102.35,\n            'f': \"102.35\",\n        }],\n [{\n            'v': 264,\n            'f': \"264\",\n        },\n\"IBM\",\n\"2001-07-01 00:00:00\",\n{\n            'v': 94.87,\n            'f': \"94.87\",\n        }],\n [{\n            'v': 265,\n            'f': \"265\",\n        },\n\"IBM\",\n\"2001-08-01 00:00:00\",\n{\n            'v': 90.25,\n            'f': \"90.25\",\n        }],\n [{\n            'v': 266,\n            'f': \"266\",\n        },\n\"IBM\",\n\"2001-09-01 00:00:00\",\n{\n            'v': 82.82,\n            'f': \"82.82\",\n        }],\n [{\n            'v': 267,\n            'f': \"267\",\n        },\n\"IBM\",\n\"2001-10-01 00:00:00\",\n{\n            'v': 97.58,\n            'f': \"97.58\",\n        }],\n [{\n            'v': 268,\n            'f': \"268\",\n        },\n\"IBM\",\n\"2001-11-01 00:00:00\",\n{\n            'v': 104.5,\n            'f': \"104.5\",\n        }],\n [{\n            'v': 269,\n            'f': \"269\",\n        },\n\"IBM\",\n\"2001-12-01 00:00:00\",\n{\n            'v': 109.36,\n            'f': \"109.36\",\n        }],\n [{\n            'v': 270,\n            'f': \"270\",\n        },\n\"IBM\",\n\"2002-01-01 00:00:00\",\n{\n            'v': 97.54,\n            'f': \"97.54\",\n        }],\n [{\n            'v': 271,\n            'f': \"271\",\n        },\n\"IBM\",\n\"2002-02-01 00:00:00\",\n{\n            'v': 88.82,\n            'f': \"88.82\",\n        }],\n [{\n            'v': 272,\n            'f': \"272\",\n        },\n\"IBM\",\n\"2002-03-01 00:00:00\",\n{\n            'v': 94.15,\n            'f': \"94.15\",\n        }],\n [{\n            'v': 273,\n            'f': \"273\",\n        },\n\"IBM\",\n\"2002-04-01 00:00:00\",\n{\n            'v': 75.82,\n            'f': \"75.82\",\n        }],\n [{\n            'v': 274,\n            'f': \"274\",\n        },\n\"IBM\",\n\"2002-05-01 00:00:00\",\n{\n            'v': 72.97,\n            'f': \"72.97\",\n        }],\n [{\n            'v': 275,\n            'f': \"275\",\n        },\n\"IBM\",\n\"2002-06-01 00:00:00\",\n{\n            'v': 65.31,\n            'f': \"65.31\",\n        }],\n [{\n            'v': 276,\n            'f': \"276\",\n        },\n\"IBM\",\n\"2002-07-01 00:00:00\",\n{\n            'v': 63.86,\n            'f': \"63.86\",\n        }],\n [{\n            'v': 277,\n            'f': \"277\",\n        },\n\"IBM\",\n\"2002-08-01 00:00:00\",\n{\n            'v': 68.52,\n            'f': \"68.52\",\n        }],\n [{\n            'v': 278,\n            'f': \"278\",\n        },\n\"IBM\",\n\"2002-09-01 00:00:00\",\n{\n            'v': 53.01,\n            'f': \"53.01\",\n        }],\n [{\n            'v': 279,\n            'f': \"279\",\n        },\n\"IBM\",\n\"2002-10-01 00:00:00\",\n{\n            'v': 71.76,\n            'f': \"71.76\",\n        }],\n [{\n            'v': 280,\n            'f': \"280\",\n        },\n\"IBM\",\n\"2002-11-01 00:00:00\",\n{\n            'v': 79.16,\n            'f': \"79.16\",\n        }],\n [{\n            'v': 281,\n            'f': \"281\",\n        },\n\"IBM\",\n\"2002-12-01 00:00:00\",\n{\n            'v': 70.58,\n            'f': \"70.58\",\n        }],\n [{\n            'v': 282,\n            'f': \"282\",\n        },\n\"IBM\",\n\"2003-01-01 00:00:00\",\n{\n            'v': 71.22,\n            'f': \"71.22\",\n        }],\n [{\n            'v': 283,\n            'f': \"283\",\n        },\n\"IBM\",\n\"2003-02-01 00:00:00\",\n{\n            'v': 71.13,\n            'f': \"71.13\",\n        }],\n [{\n            'v': 284,\n            'f': \"284\",\n        },\n\"IBM\",\n\"2003-03-01 00:00:00\",\n{\n            'v': 71.57,\n            'f': \"71.57\",\n        }],\n [{\n            'v': 285,\n            'f': \"285\",\n        },\n\"IBM\",\n\"2003-04-01 00:00:00\",\n{\n            'v': 77.47,\n            'f': \"77.47\",\n        }],\n [{\n            'v': 286,\n            'f': \"286\",\n        },\n\"IBM\",\n\"2003-05-01 00:00:00\",\n{\n            'v': 80.48,\n            'f': \"80.48\",\n        }],\n [{\n            'v': 287,\n            'f': \"287\",\n        },\n\"IBM\",\n\"2003-06-01 00:00:00\",\n{\n            'v': 75.42,\n            'f': \"75.42\",\n        }],\n [{\n            'v': 288,\n            'f': \"288\",\n        },\n\"IBM\",\n\"2003-07-01 00:00:00\",\n{\n            'v': 74.28,\n            'f': \"74.28\",\n        }],\n [{\n            'v': 289,\n            'f': \"289\",\n        },\n\"IBM\",\n\"2003-08-01 00:00:00\",\n{\n            'v': 75.12,\n            'f': \"75.12\",\n        }],\n [{\n            'v': 290,\n            'f': \"290\",\n        },\n\"IBM\",\n\"2003-09-01 00:00:00\",\n{\n            'v': 80.91,\n            'f': \"80.91\",\n        }],\n [{\n            'v': 291,\n            'f': \"291\",\n        },\n\"IBM\",\n\"2003-10-01 00:00:00\",\n{\n            'v': 81.96,\n            'f': \"81.96\",\n        }],\n [{\n            'v': 292,\n            'f': \"292\",\n        },\n\"IBM\",\n\"2003-11-01 00:00:00\",\n{\n            'v': 83.08,\n            'f': \"83.08\",\n        }],\n [{\n            'v': 293,\n            'f': \"293\",\n        },\n\"IBM\",\n\"2003-12-01 00:00:00\",\n{\n            'v': 85.05,\n            'f': \"85.05\",\n        }],\n [{\n            'v': 294,\n            'f': \"294\",\n        },\n\"IBM\",\n\"2004-01-01 00:00:00\",\n{\n            'v': 91.06,\n            'f': \"91.06\",\n        }],\n [{\n            'v': 295,\n            'f': \"295\",\n        },\n\"IBM\",\n\"2004-02-01 00:00:00\",\n{\n            'v': 88.7,\n            'f': \"88.7\",\n        }],\n [{\n            'v': 296,\n            'f': \"296\",\n        },\n\"IBM\",\n\"2004-03-01 00:00:00\",\n{\n            'v': 84.41,\n            'f': \"84.41\",\n        }],\n [{\n            'v': 297,\n            'f': \"297\",\n        },\n\"IBM\",\n\"2004-04-01 00:00:00\",\n{\n            'v': 81.04,\n            'f': \"81.04\",\n        }],\n [{\n            'v': 298,\n            'f': \"298\",\n        },\n\"IBM\",\n\"2004-05-01 00:00:00\",\n{\n            'v': 81.59,\n            'f': \"81.59\",\n        }],\n [{\n            'v': 299,\n            'f': \"299\",\n        },\n\"IBM\",\n\"2004-06-01 00:00:00\",\n{\n            'v': 81.19,\n            'f': \"81.19\",\n        }],\n [{\n            'v': 300,\n            'f': \"300\",\n        },\n\"IBM\",\n\"2004-07-01 00:00:00\",\n{\n            'v': 80.19,\n            'f': \"80.19\",\n        }],\n [{\n            'v': 301,\n            'f': \"301\",\n        },\n\"IBM\",\n\"2004-08-01 00:00:00\",\n{\n            'v': 78.17,\n            'f': \"78.17\",\n        }],\n [{\n            'v': 302,\n            'f': \"302\",\n        },\n\"IBM\",\n\"2004-09-01 00:00:00\",\n{\n            'v': 79.13,\n            'f': \"79.13\",\n        }],\n [{\n            'v': 303,\n            'f': \"303\",\n        },\n\"IBM\",\n\"2004-10-01 00:00:00\",\n{\n            'v': 82.84,\n            'f': \"82.84\",\n        }],\n [{\n            'v': 304,\n            'f': \"304\",\n        },\n\"IBM\",\n\"2004-11-01 00:00:00\",\n{\n            'v': 87.15,\n            'f': \"87.15\",\n        }],\n [{\n            'v': 305,\n            'f': \"305\",\n        },\n\"IBM\",\n\"2004-12-01 00:00:00\",\n{\n            'v': 91.16,\n            'f': \"91.16\",\n        }],\n [{\n            'v': 306,\n            'f': \"306\",\n        },\n\"IBM\",\n\"2005-01-01 00:00:00\",\n{\n            'v': 86.39,\n            'f': \"86.39\",\n        }],\n [{\n            'v': 307,\n            'f': \"307\",\n        },\n\"IBM\",\n\"2005-02-01 00:00:00\",\n{\n            'v': 85.78,\n            'f': \"85.78\",\n        }],\n [{\n            'v': 308,\n            'f': \"308\",\n        },\n\"IBM\",\n\"2005-03-01 00:00:00\",\n{\n            'v': 84.66,\n            'f': \"84.66\",\n        }],\n [{\n            'v': 309,\n            'f': \"309\",\n        },\n\"IBM\",\n\"2005-04-01 00:00:00\",\n{\n            'v': 70.77,\n            'f': \"70.77\",\n        }],\n [{\n            'v': 310,\n            'f': \"310\",\n        },\n\"IBM\",\n\"2005-05-01 00:00:00\",\n{\n            'v': 70.18,\n            'f': \"70.18\",\n        }],\n [{\n            'v': 311,\n            'f': \"311\",\n        },\n\"IBM\",\n\"2005-06-01 00:00:00\",\n{\n            'v': 68.93,\n            'f': \"68.93\",\n        }],\n [{\n            'v': 312,\n            'f': \"312\",\n        },\n\"IBM\",\n\"2005-07-01 00:00:00\",\n{\n            'v': 77.53,\n            'f': \"77.53\",\n        }],\n [{\n            'v': 313,\n            'f': \"313\",\n        },\n\"IBM\",\n\"2005-08-01 00:00:00\",\n{\n            'v': 75.07,\n            'f': \"75.07\",\n        }],\n [{\n            'v': 314,\n            'f': \"314\",\n        },\n\"IBM\",\n\"2005-09-01 00:00:00\",\n{\n            'v': 74.7,\n            'f': \"74.7\",\n        }],\n [{\n            'v': 315,\n            'f': \"315\",\n        },\n\"IBM\",\n\"2005-10-01 00:00:00\",\n{\n            'v': 76.25,\n            'f': \"76.25\",\n        }],\n [{\n            'v': 316,\n            'f': \"316\",\n        },\n\"IBM\",\n\"2005-11-01 00:00:00\",\n{\n            'v': 82.98,\n            'f': \"82.98\",\n        }],\n [{\n            'v': 317,\n            'f': \"317\",\n        },\n\"IBM\",\n\"2005-12-01 00:00:00\",\n{\n            'v': 76.73,\n            'f': \"76.73\",\n        }],\n [{\n            'v': 318,\n            'f': \"318\",\n        },\n\"IBM\",\n\"2006-01-01 00:00:00\",\n{\n            'v': 75.89,\n            'f': \"75.89\",\n        }],\n [{\n            'v': 319,\n            'f': \"319\",\n        },\n\"IBM\",\n\"2006-02-01 00:00:00\",\n{\n            'v': 75.09,\n            'f': \"75.09\",\n        }],\n [{\n            'v': 320,\n            'f': \"320\",\n        },\n\"IBM\",\n\"2006-03-01 00:00:00\",\n{\n            'v': 77.17,\n            'f': \"77.17\",\n        }],\n [{\n            'v': 321,\n            'f': \"321\",\n        },\n\"IBM\",\n\"2006-04-01 00:00:00\",\n{\n            'v': 77.05,\n            'f': \"77.05\",\n        }],\n [{\n            'v': 322,\n            'f': \"322\",\n        },\n\"IBM\",\n\"2006-05-01 00:00:00\",\n{\n            'v': 75.04,\n            'f': \"75.04\",\n        }],\n [{\n            'v': 323,\n            'f': \"323\",\n        },\n\"IBM\",\n\"2006-06-01 00:00:00\",\n{\n            'v': 72.15,\n            'f': \"72.15\",\n        }],\n [{\n            'v': 324,\n            'f': \"324\",\n        },\n\"IBM\",\n\"2006-07-01 00:00:00\",\n{\n            'v': 72.7,\n            'f': \"72.7\",\n        }],\n [{\n            'v': 325,\n            'f': \"325\",\n        },\n\"IBM\",\n\"2006-08-01 00:00:00\",\n{\n            'v': 76.35,\n            'f': \"76.35\",\n        }],\n [{\n            'v': 326,\n            'f': \"326\",\n        },\n\"IBM\",\n\"2006-09-01 00:00:00\",\n{\n            'v': 77.26,\n            'f': \"77.26\",\n        }],\n [{\n            'v': 327,\n            'f': \"327\",\n        },\n\"IBM\",\n\"2006-10-01 00:00:00\",\n{\n            'v': 87.06,\n            'f': \"87.06\",\n        }],\n [{\n            'v': 328,\n            'f': \"328\",\n        },\n\"IBM\",\n\"2006-11-01 00:00:00\",\n{\n            'v': 86.95,\n            'f': \"86.95\",\n        }],\n [{\n            'v': 329,\n            'f': \"329\",\n        },\n\"IBM\",\n\"2006-12-01 00:00:00\",\n{\n            'v': 91.9,\n            'f': \"91.9\",\n        }],\n [{\n            'v': 330,\n            'f': \"330\",\n        },\n\"IBM\",\n\"2007-01-01 00:00:00\",\n{\n            'v': 93.79,\n            'f': \"93.79\",\n        }],\n [{\n            'v': 331,\n            'f': \"331\",\n        },\n\"IBM\",\n\"2007-02-01 00:00:00\",\n{\n            'v': 88.18,\n            'f': \"88.18\",\n        }],\n [{\n            'v': 332,\n            'f': \"332\",\n        },\n\"IBM\",\n\"2007-03-01 00:00:00\",\n{\n            'v': 89.44,\n            'f': \"89.44\",\n        }],\n [{\n            'v': 333,\n            'f': \"333\",\n        },\n\"IBM\",\n\"2007-04-01 00:00:00\",\n{\n            'v': 96.98,\n            'f': \"96.98\",\n        }],\n [{\n            'v': 334,\n            'f': \"334\",\n        },\n\"IBM\",\n\"2007-05-01 00:00:00\",\n{\n            'v': 101.54,\n            'f': \"101.54\",\n        }],\n [{\n            'v': 335,\n            'f': \"335\",\n        },\n\"IBM\",\n\"2007-06-01 00:00:00\",\n{\n            'v': 100.25,\n            'f': \"100.25\",\n        }],\n [{\n            'v': 336,\n            'f': \"336\",\n        },\n\"IBM\",\n\"2007-07-01 00:00:00\",\n{\n            'v': 105.4,\n            'f': \"105.4\",\n        }],\n [{\n            'v': 337,\n            'f': \"337\",\n        },\n\"IBM\",\n\"2007-08-01 00:00:00\",\n{\n            'v': 111.54,\n            'f': \"111.54\",\n        }],\n [{\n            'v': 338,\n            'f': \"338\",\n        },\n\"IBM\",\n\"2007-09-01 00:00:00\",\n{\n            'v': 112.6,\n            'f': \"112.6\",\n        }],\n [{\n            'v': 339,\n            'f': \"339\",\n        },\n\"IBM\",\n\"2007-10-01 00:00:00\",\n{\n            'v': 111.0,\n            'f': \"111.0\",\n        }],\n [{\n            'v': 340,\n            'f': \"340\",\n        },\n\"IBM\",\n\"2007-11-01 00:00:00\",\n{\n            'v': 100.9,\n            'f': \"100.9\",\n        }],\n [{\n            'v': 341,\n            'f': \"341\",\n        },\n\"IBM\",\n\"2007-12-01 00:00:00\",\n{\n            'v': 103.7,\n            'f': \"103.7\",\n        }],\n [{\n            'v': 342,\n            'f': \"342\",\n        },\n\"IBM\",\n\"2008-01-01 00:00:00\",\n{\n            'v': 102.75,\n            'f': \"102.75\",\n        }],\n [{\n            'v': 343,\n            'f': \"343\",\n        },\n\"IBM\",\n\"2008-02-01 00:00:00\",\n{\n            'v': 109.64,\n            'f': \"109.64\",\n        }],\n [{\n            'v': 344,\n            'f': \"344\",\n        },\n\"IBM\",\n\"2008-03-01 00:00:00\",\n{\n            'v': 110.87,\n            'f': \"110.87\",\n        }],\n [{\n            'v': 345,\n            'f': \"345\",\n        },\n\"IBM\",\n\"2008-04-01 00:00:00\",\n{\n            'v': 116.23,\n            'f': \"116.23\",\n        }],\n [{\n            'v': 346,\n            'f': \"346\",\n        },\n\"IBM\",\n\"2008-05-01 00:00:00\",\n{\n            'v': 125.14,\n            'f': \"125.14\",\n        }],\n [{\n            'v': 347,\n            'f': \"347\",\n        },\n\"IBM\",\n\"2008-06-01 00:00:00\",\n{\n            'v': 114.6,\n            'f': \"114.6\",\n        }],\n [{\n            'v': 348,\n            'f': \"348\",\n        },\n\"IBM\",\n\"2008-07-01 00:00:00\",\n{\n            'v': 123.74,\n            'f': \"123.74\",\n        }],\n [{\n            'v': 349,\n            'f': \"349\",\n        },\n\"IBM\",\n\"2008-08-01 00:00:00\",\n{\n            'v': 118.16,\n            'f': \"118.16\",\n        }],\n [{\n            'v': 350,\n            'f': \"350\",\n        },\n\"IBM\",\n\"2008-09-01 00:00:00\",\n{\n            'v': 113.53,\n            'f': \"113.53\",\n        }],\n [{\n            'v': 351,\n            'f': \"351\",\n        },\n\"IBM\",\n\"2008-10-01 00:00:00\",\n{\n            'v': 90.24,\n            'f': \"90.24\",\n        }],\n [{\n            'v': 352,\n            'f': \"352\",\n        },\n\"IBM\",\n\"2008-11-01 00:00:00\",\n{\n            'v': 79.65,\n            'f': \"79.65\",\n        }],\n [{\n            'v': 353,\n            'f': \"353\",\n        },\n\"IBM\",\n\"2008-12-01 00:00:00\",\n{\n            'v': 82.15,\n            'f': \"82.15\",\n        }],\n [{\n            'v': 354,\n            'f': \"354\",\n        },\n\"IBM\",\n\"2009-01-01 00:00:00\",\n{\n            'v': 89.46,\n            'f': \"89.46\",\n        }],\n [{\n            'v': 355,\n            'f': \"355\",\n        },\n\"IBM\",\n\"2009-02-01 00:00:00\",\n{\n            'v': 90.32,\n            'f': \"90.32\",\n        }],\n [{\n            'v': 356,\n            'f': \"356\",\n        },\n\"IBM\",\n\"2009-03-01 00:00:00\",\n{\n            'v': 95.09,\n            'f': \"95.09\",\n        }],\n [{\n            'v': 357,\n            'f': \"357\",\n        },\n\"IBM\",\n\"2009-04-01 00:00:00\",\n{\n            'v': 101.29,\n            'f': \"101.29\",\n        }],\n [{\n            'v': 358,\n            'f': \"358\",\n        },\n\"IBM\",\n\"2009-05-01 00:00:00\",\n{\n            'v': 104.85,\n            'f': \"104.85\",\n        }],\n [{\n            'v': 359,\n            'f': \"359\",\n        },\n\"IBM\",\n\"2009-06-01 00:00:00\",\n{\n            'v': 103.01,\n            'f': \"103.01\",\n        }],\n [{\n            'v': 360,\n            'f': \"360\",\n        },\n\"IBM\",\n\"2009-07-01 00:00:00\",\n{\n            'v': 116.34,\n            'f': \"116.34\",\n        }],\n [{\n            'v': 361,\n            'f': \"361\",\n        },\n\"IBM\",\n\"2009-08-01 00:00:00\",\n{\n            'v': 117.0,\n            'f': \"117.0\",\n        }],\n [{\n            'v': 362,\n            'f': \"362\",\n        },\n\"IBM\",\n\"2009-09-01 00:00:00\",\n{\n            'v': 118.55,\n            'f': \"118.55\",\n        }],\n [{\n            'v': 363,\n            'f': \"363\",\n        },\n\"IBM\",\n\"2009-10-01 00:00:00\",\n{\n            'v': 119.54,\n            'f': \"119.54\",\n        }],\n [{\n            'v': 364,\n            'f': \"364\",\n        },\n\"IBM\",\n\"2009-11-01 00:00:00\",\n{\n            'v': 125.79,\n            'f': \"125.79\",\n        }],\n [{\n            'v': 365,\n            'f': \"365\",\n        },\n\"IBM\",\n\"2009-12-01 00:00:00\",\n{\n            'v': 130.32,\n            'f': \"130.32\",\n        }],\n [{\n            'v': 366,\n            'f': \"366\",\n        },\n\"IBM\",\n\"2010-01-01 00:00:00\",\n{\n            'v': 121.85,\n            'f': \"121.85\",\n        }],\n [{\n            'v': 367,\n            'f': \"367\",\n        },\n\"IBM\",\n\"2010-02-01 00:00:00\",\n{\n            'v': 127.16,\n            'f': \"127.16\",\n        }],\n [{\n            'v': 368,\n            'f': \"368\",\n        },\n\"IBM\",\n\"2010-03-01 00:00:00\",\n{\n            'v': 125.55,\n            'f': \"125.55\",\n        }],\n [{\n            'v': 369,\n            'f': \"369\",\n        },\n\"GOOG\",\n\"2004-08-01 00:00:00\",\n{\n            'v': 102.37,\n            'f': \"102.37\",\n        }],\n [{\n            'v': 370,\n            'f': \"370\",\n        },\n\"GOOG\",\n\"2004-09-01 00:00:00\",\n{\n            'v': 129.6,\n            'f': \"129.6\",\n        }],\n [{\n            'v': 371,\n            'f': \"371\",\n        },\n\"GOOG\",\n\"2004-10-01 00:00:00\",\n{\n            'v': 190.64,\n            'f': \"190.64\",\n        }],\n [{\n            'v': 372,\n            'f': \"372\",\n        },\n\"GOOG\",\n\"2004-11-01 00:00:00\",\n{\n            'v': 181.98,\n            'f': \"181.98\",\n        }],\n [{\n            'v': 373,\n            'f': \"373\",\n        },\n\"GOOG\",\n\"2004-12-01 00:00:00\",\n{\n            'v': 192.79,\n            'f': \"192.79\",\n        }],\n [{\n            'v': 374,\n            'f': \"374\",\n        },\n\"GOOG\",\n\"2005-01-01 00:00:00\",\n{\n            'v': 195.62,\n            'f': \"195.62\",\n        }],\n [{\n            'v': 375,\n            'f': \"375\",\n        },\n\"GOOG\",\n\"2005-02-01 00:00:00\",\n{\n            'v': 187.99,\n            'f': \"187.99\",\n        }],\n [{\n            'v': 376,\n            'f': \"376\",\n        },\n\"GOOG\",\n\"2005-03-01 00:00:00\",\n{\n            'v': 180.51,\n            'f': \"180.51\",\n        }],\n [{\n            'v': 377,\n            'f': \"377\",\n        },\n\"GOOG\",\n\"2005-04-01 00:00:00\",\n{\n            'v': 220.0,\n            'f': \"220.0\",\n        }],\n [{\n            'v': 378,\n            'f': \"378\",\n        },\n\"GOOG\",\n\"2005-05-01 00:00:00\",\n{\n            'v': 277.27,\n            'f': \"277.27\",\n        }],\n [{\n            'v': 379,\n            'f': \"379\",\n        },\n\"GOOG\",\n\"2005-06-01 00:00:00\",\n{\n            'v': 294.15,\n            'f': \"294.15\",\n        }],\n [{\n            'v': 380,\n            'f': \"380\",\n        },\n\"GOOG\",\n\"2005-07-01 00:00:00\",\n{\n            'v': 287.76,\n            'f': \"287.76\",\n        }],\n [{\n            'v': 381,\n            'f': \"381\",\n        },\n\"GOOG\",\n\"2005-08-01 00:00:00\",\n{\n            'v': 286.0,\n            'f': \"286.0\",\n        }],\n [{\n            'v': 382,\n            'f': \"382\",\n        },\n\"GOOG\",\n\"2005-09-01 00:00:00\",\n{\n            'v': 316.46,\n            'f': \"316.46\",\n        }],\n [{\n            'v': 383,\n            'f': \"383\",\n        },\n\"GOOG\",\n\"2005-10-01 00:00:00\",\n{\n            'v': 372.14,\n            'f': \"372.14\",\n        }],\n [{\n            'v': 384,\n            'f': \"384\",\n        },\n\"GOOG\",\n\"2005-11-01 00:00:00\",\n{\n            'v': 404.91,\n            'f': \"404.91\",\n        }],\n [{\n            'v': 385,\n            'f': \"385\",\n        },\n\"GOOG\",\n\"2005-12-01 00:00:00\",\n{\n            'v': 414.86,\n            'f': \"414.86\",\n        }],\n [{\n            'v': 386,\n            'f': \"386\",\n        },\n\"GOOG\",\n\"2006-01-01 00:00:00\",\n{\n            'v': 432.66,\n            'f': \"432.66\",\n        }],\n [{\n            'v': 387,\n            'f': \"387\",\n        },\n\"GOOG\",\n\"2006-02-01 00:00:00\",\n{\n            'v': 362.62,\n            'f': \"362.62\",\n        }],\n [{\n            'v': 388,\n            'f': \"388\",\n        },\n\"GOOG\",\n\"2006-03-01 00:00:00\",\n{\n            'v': 390.0,\n            'f': \"390.0\",\n        }],\n [{\n            'v': 389,\n            'f': \"389\",\n        },\n\"GOOG\",\n\"2006-04-01 00:00:00\",\n{\n            'v': 417.94,\n            'f': \"417.94\",\n        }],\n [{\n            'v': 390,\n            'f': \"390\",\n        },\n\"GOOG\",\n\"2006-05-01 00:00:00\",\n{\n            'v': 371.82,\n            'f': \"371.82\",\n        }],\n [{\n            'v': 391,\n            'f': \"391\",\n        },\n\"GOOG\",\n\"2006-06-01 00:00:00\",\n{\n            'v': 419.33,\n            'f': \"419.33\",\n        }],\n [{\n            'v': 392,\n            'f': \"392\",\n        },\n\"GOOG\",\n\"2006-07-01 00:00:00\",\n{\n            'v': 386.6,\n            'f': \"386.6\",\n        }],\n [{\n            'v': 393,\n            'f': \"393\",\n        },\n\"GOOG\",\n\"2006-08-01 00:00:00\",\n{\n            'v': 378.53,\n            'f': \"378.53\",\n        }],\n [{\n            'v': 394,\n            'f': \"394\",\n        },\n\"GOOG\",\n\"2006-09-01 00:00:00\",\n{\n            'v': 401.9,\n            'f': \"401.9\",\n        }],\n [{\n            'v': 395,\n            'f': \"395\",\n        },\n\"GOOG\",\n\"2006-10-01 00:00:00\",\n{\n            'v': 476.39,\n            'f': \"476.39\",\n        }],\n [{\n            'v': 396,\n            'f': \"396\",\n        },\n\"GOOG\",\n\"2006-11-01 00:00:00\",\n{\n            'v': 484.81,\n            'f': \"484.81\",\n        }],\n [{\n            'v': 397,\n            'f': \"397\",\n        },\n\"GOOG\",\n\"2006-12-01 00:00:00\",\n{\n            'v': 460.48,\n            'f': \"460.48\",\n        }],\n [{\n            'v': 398,\n            'f': \"398\",\n        },\n\"GOOG\",\n\"2007-01-01 00:00:00\",\n{\n            'v': 501.5,\n            'f': \"501.5\",\n        }],\n [{\n            'v': 399,\n            'f': \"399\",\n        },\n\"GOOG\",\n\"2007-02-01 00:00:00\",\n{\n            'v': 449.45,\n            'f': \"449.45\",\n        }],\n [{\n            'v': 400,\n            'f': \"400\",\n        },\n\"GOOG\",\n\"2007-03-01 00:00:00\",\n{\n            'v': 458.16,\n            'f': \"458.16\",\n        }],\n [{\n            'v': 401,\n            'f': \"401\",\n        },\n\"GOOG\",\n\"2007-04-01 00:00:00\",\n{\n            'v': 471.38,\n            'f': \"471.38\",\n        }],\n [{\n            'v': 402,\n            'f': \"402\",\n        },\n\"GOOG\",\n\"2007-05-01 00:00:00\",\n{\n            'v': 497.91,\n            'f': \"497.91\",\n        }],\n [{\n            'v': 403,\n            'f': \"403\",\n        },\n\"GOOG\",\n\"2007-06-01 00:00:00\",\n{\n            'v': 522.7,\n            'f': \"522.7\",\n        }],\n [{\n            'v': 404,\n            'f': \"404\",\n        },\n\"GOOG\",\n\"2007-07-01 00:00:00\",\n{\n            'v': 510.0,\n            'f': \"510.0\",\n        }],\n [{\n            'v': 405,\n            'f': \"405\",\n        },\n\"GOOG\",\n\"2007-08-01 00:00:00\",\n{\n            'v': 515.25,\n            'f': \"515.25\",\n        }],\n [{\n            'v': 406,\n            'f': \"406\",\n        },\n\"GOOG\",\n\"2007-09-01 00:00:00\",\n{\n            'v': 567.27,\n            'f': \"567.27\",\n        }],\n [{\n            'v': 407,\n            'f': \"407\",\n        },\n\"GOOG\",\n\"2007-10-01 00:00:00\",\n{\n            'v': 707.0,\n            'f': \"707.0\",\n        }],\n [{\n            'v': 408,\n            'f': \"408\",\n        },\n\"GOOG\",\n\"2007-11-01 00:00:00\",\n{\n            'v': 693.0,\n            'f': \"693.0\",\n        }],\n [{\n            'v': 409,\n            'f': \"409\",\n        },\n\"GOOG\",\n\"2007-12-01 00:00:00\",\n{\n            'v': 691.48,\n            'f': \"691.48\",\n        }],\n [{\n            'v': 410,\n            'f': \"410\",\n        },\n\"GOOG\",\n\"2008-01-01 00:00:00\",\n{\n            'v': 564.3,\n            'f': \"564.3\",\n        }],\n [{\n            'v': 411,\n            'f': \"411\",\n        },\n\"GOOG\",\n\"2008-02-01 00:00:00\",\n{\n            'v': 471.18,\n            'f': \"471.18\",\n        }],\n [{\n            'v': 412,\n            'f': \"412\",\n        },\n\"GOOG\",\n\"2008-03-01 00:00:00\",\n{\n            'v': 440.47,\n            'f': \"440.47\",\n        }],\n [{\n            'v': 413,\n            'f': \"413\",\n        },\n\"GOOG\",\n\"2008-04-01 00:00:00\",\n{\n            'v': 574.29,\n            'f': \"574.29\",\n        }],\n [{\n            'v': 414,\n            'f': \"414\",\n        },\n\"GOOG\",\n\"2008-05-01 00:00:00\",\n{\n            'v': 585.8,\n            'f': \"585.8\",\n        }],\n [{\n            'v': 415,\n            'f': \"415\",\n        },\n\"GOOG\",\n\"2008-06-01 00:00:00\",\n{\n            'v': 526.42,\n            'f': \"526.42\",\n        }],\n [{\n            'v': 416,\n            'f': \"416\",\n        },\n\"GOOG\",\n\"2008-07-01 00:00:00\",\n{\n            'v': 473.75,\n            'f': \"473.75\",\n        }],\n [{\n            'v': 417,\n            'f': \"417\",\n        },\n\"GOOG\",\n\"2008-08-01 00:00:00\",\n{\n            'v': 463.29,\n            'f': \"463.29\",\n        }],\n [{\n            'v': 418,\n            'f': \"418\",\n        },\n\"GOOG\",\n\"2008-09-01 00:00:00\",\n{\n            'v': 400.52,\n            'f': \"400.52\",\n        }],\n [{\n            'v': 419,\n            'f': \"419\",\n        },\n\"GOOG\",\n\"2008-10-01 00:00:00\",\n{\n            'v': 359.36,\n            'f': \"359.36\",\n        }],\n [{\n            'v': 420,\n            'f': \"420\",\n        },\n\"GOOG\",\n\"2008-11-01 00:00:00\",\n{\n            'v': 292.96,\n            'f': \"292.96\",\n        }],\n [{\n            'v': 421,\n            'f': \"421\",\n        },\n\"GOOG\",\n\"2008-12-01 00:00:00\",\n{\n            'v': 307.65,\n            'f': \"307.65\",\n        }],\n [{\n            'v': 422,\n            'f': \"422\",\n        },\n\"GOOG\",\n\"2009-01-01 00:00:00\",\n{\n            'v': 338.53,\n            'f': \"338.53\",\n        }],\n [{\n            'v': 423,\n            'f': \"423\",\n        },\n\"GOOG\",\n\"2009-02-01 00:00:00\",\n{\n            'v': 337.99,\n            'f': \"337.99\",\n        }],\n [{\n            'v': 424,\n            'f': \"424\",\n        },\n\"GOOG\",\n\"2009-03-01 00:00:00\",\n{\n            'v': 348.06,\n            'f': \"348.06\",\n        }],\n [{\n            'v': 425,\n            'f': \"425\",\n        },\n\"GOOG\",\n\"2009-04-01 00:00:00\",\n{\n            'v': 395.97,\n            'f': \"395.97\",\n        }],\n [{\n            'v': 426,\n            'f': \"426\",\n        },\n\"GOOG\",\n\"2009-05-01 00:00:00\",\n{\n            'v': 417.23,\n            'f': \"417.23\",\n        }],\n [{\n            'v': 427,\n            'f': \"427\",\n        },\n\"GOOG\",\n\"2009-06-01 00:00:00\",\n{\n            'v': 421.59,\n            'f': \"421.59\",\n        }],\n [{\n            'v': 428,\n            'f': \"428\",\n        },\n\"GOOG\",\n\"2009-07-01 00:00:00\",\n{\n            'v': 443.05,\n            'f': \"443.05\",\n        }],\n [{\n            'v': 429,\n            'f': \"429\",\n        },\n\"GOOG\",\n\"2009-08-01 00:00:00\",\n{\n            'v': 461.67,\n            'f': \"461.67\",\n        }],\n [{\n            'v': 430,\n            'f': \"430\",\n        },\n\"GOOG\",\n\"2009-09-01 00:00:00\",\n{\n            'v': 495.85,\n            'f': \"495.85\",\n        }],\n [{\n            'v': 431,\n            'f': \"431\",\n        },\n\"GOOG\",\n\"2009-10-01 00:00:00\",\n{\n            'v': 536.12,\n            'f': \"536.12\",\n        }],\n [{\n            'v': 432,\n            'f': \"432\",\n        },\n\"GOOG\",\n\"2009-11-01 00:00:00\",\n{\n            'v': 583.0,\n            'f': \"583.0\",\n        }],\n [{\n            'v': 433,\n            'f': \"433\",\n        },\n\"GOOG\",\n\"2009-12-01 00:00:00\",\n{\n            'v': 619.98,\n            'f': \"619.98\",\n        }],\n [{\n            'v': 434,\n            'f': \"434\",\n        },\n\"GOOG\",\n\"2010-01-01 00:00:00\",\n{\n            'v': 529.94,\n            'f': \"529.94\",\n        }],\n [{\n            'v': 435,\n            'f': \"435\",\n        },\n\"GOOG\",\n\"2010-02-01 00:00:00\",\n{\n            'v': 526.8,\n            'f': \"526.8\",\n        }],\n [{\n            'v': 436,\n            'f': \"436\",\n        },\n\"GOOG\",\n\"2010-03-01 00:00:00\",\n{\n            'v': 560.19,\n            'f': \"560.19\",\n        }],\n [{\n            'v': 437,\n            'f': \"437\",\n        },\n\"AAPL\",\n\"2000-01-01 00:00:00\",\n{\n            'v': 25.94,\n            'f': \"25.94\",\n        }],\n [{\n            'v': 438,\n            'f': \"438\",\n        },\n\"AAPL\",\n\"2000-02-01 00:00:00\",\n{\n            'v': 28.66,\n            'f': \"28.66\",\n        }],\n [{\n            'v': 439,\n            'f': \"439\",\n        },\n\"AAPL\",\n\"2000-03-01 00:00:00\",\n{\n            'v': 33.95,\n            'f': \"33.95\",\n        }],\n [{\n            'v': 440,\n            'f': \"440\",\n        },\n\"AAPL\",\n\"2000-04-01 00:00:00\",\n{\n            'v': 31.01,\n            'f': \"31.01\",\n        }],\n [{\n            'v': 441,\n            'f': \"441\",\n        },\n\"AAPL\",\n\"2000-05-01 00:00:00\",\n{\n            'v': 21.0,\n            'f': \"21.0\",\n        }],\n [{\n            'v': 442,\n            'f': \"442\",\n        },\n\"AAPL\",\n\"2000-06-01 00:00:00\",\n{\n            'v': 26.19,\n            'f': \"26.19\",\n        }],\n [{\n            'v': 443,\n            'f': \"443\",\n        },\n\"AAPL\",\n\"2000-07-01 00:00:00\",\n{\n            'v': 25.41,\n            'f': \"25.41\",\n        }],\n [{\n            'v': 444,\n            'f': \"444\",\n        },\n\"AAPL\",\n\"2000-08-01 00:00:00\",\n{\n            'v': 30.47,\n            'f': \"30.47\",\n        }],\n [{\n            'v': 445,\n            'f': \"445\",\n        },\n\"AAPL\",\n\"2000-09-01 00:00:00\",\n{\n            'v': 12.88,\n            'f': \"12.88\",\n        }],\n [{\n            'v': 446,\n            'f': \"446\",\n        },\n\"AAPL\",\n\"2000-10-01 00:00:00\",\n{\n            'v': 9.78,\n            'f': \"9.78\",\n        }],\n [{\n            'v': 447,\n            'f': \"447\",\n        },\n\"AAPL\",\n\"2000-11-01 00:00:00\",\n{\n            'v': 8.25,\n            'f': \"8.25\",\n        }],\n [{\n            'v': 448,\n            'f': \"448\",\n        },\n\"AAPL\",\n\"2000-12-01 00:00:00\",\n{\n            'v': 7.44,\n            'f': \"7.44\",\n        }],\n [{\n            'v': 449,\n            'f': \"449\",\n        },\n\"AAPL\",\n\"2001-01-01 00:00:00\",\n{\n            'v': 10.81,\n            'f': \"10.81\",\n        }],\n [{\n            'v': 450,\n            'f': \"450\",\n        },\n\"AAPL\",\n\"2001-02-01 00:00:00\",\n{\n            'v': 9.12,\n            'f': \"9.12\",\n        }],\n [{\n            'v': 451,\n            'f': \"451\",\n        },\n\"AAPL\",\n\"2001-03-01 00:00:00\",\n{\n            'v': 11.03,\n            'f': \"11.03\",\n        }],\n [{\n            'v': 452,\n            'f': \"452\",\n        },\n\"AAPL\",\n\"2001-04-01 00:00:00\",\n{\n            'v': 12.74,\n            'f': \"12.74\",\n        }],\n [{\n            'v': 453,\n            'f': \"453\",\n        },\n\"AAPL\",\n\"2001-05-01 00:00:00\",\n{\n            'v': 9.98,\n            'f': \"9.98\",\n        }],\n [{\n            'v': 454,\n            'f': \"454\",\n        },\n\"AAPL\",\n\"2001-06-01 00:00:00\",\n{\n            'v': 11.62,\n            'f': \"11.62\",\n        }],\n [{\n            'v': 455,\n            'f': \"455\",\n        },\n\"AAPL\",\n\"2001-07-01 00:00:00\",\n{\n            'v': 9.4,\n            'f': \"9.4\",\n        }],\n [{\n            'v': 456,\n            'f': \"456\",\n        },\n\"AAPL\",\n\"2001-08-01 00:00:00\",\n{\n            'v': 9.27,\n            'f': \"9.27\",\n        }],\n [{\n            'v': 457,\n            'f': \"457\",\n        },\n\"AAPL\",\n\"2001-09-01 00:00:00\",\n{\n            'v': 7.76,\n            'f': \"7.76\",\n        }],\n [{\n            'v': 458,\n            'f': \"458\",\n        },\n\"AAPL\",\n\"2001-10-01 00:00:00\",\n{\n            'v': 8.78,\n            'f': \"8.78\",\n        }],\n [{\n            'v': 459,\n            'f': \"459\",\n        },\n\"AAPL\",\n\"2001-11-01 00:00:00\",\n{\n            'v': 10.65,\n            'f': \"10.65\",\n        }],\n [{\n            'v': 460,\n            'f': \"460\",\n        },\n\"AAPL\",\n\"2001-12-01 00:00:00\",\n{\n            'v': 10.95,\n            'f': \"10.95\",\n        }],\n [{\n            'v': 461,\n            'f': \"461\",\n        },\n\"AAPL\",\n\"2002-01-01 00:00:00\",\n{\n            'v': 12.36,\n            'f': \"12.36\",\n        }],\n [{\n            'v': 462,\n            'f': \"462\",\n        },\n\"AAPL\",\n\"2002-02-01 00:00:00\",\n{\n            'v': 10.85,\n            'f': \"10.85\",\n        }],\n [{\n            'v': 463,\n            'f': \"463\",\n        },\n\"AAPL\",\n\"2002-03-01 00:00:00\",\n{\n            'v': 11.84,\n            'f': \"11.84\",\n        }],\n [{\n            'v': 464,\n            'f': \"464\",\n        },\n\"AAPL\",\n\"2002-04-01 00:00:00\",\n{\n            'v': 12.14,\n            'f': \"12.14\",\n        }],\n [{\n            'v': 465,\n            'f': \"465\",\n        },\n\"AAPL\",\n\"2002-05-01 00:00:00\",\n{\n            'v': 11.65,\n            'f': \"11.65\",\n        }],\n [{\n            'v': 466,\n            'f': \"466\",\n        },\n\"AAPL\",\n\"2002-06-01 00:00:00\",\n{\n            'v': 8.86,\n            'f': \"8.86\",\n        }],\n [{\n            'v': 467,\n            'f': \"467\",\n        },\n\"AAPL\",\n\"2002-07-01 00:00:00\",\n{\n            'v': 7.63,\n            'f': \"7.63\",\n        }],\n [{\n            'v': 468,\n            'f': \"468\",\n        },\n\"AAPL\",\n\"2002-08-01 00:00:00\",\n{\n            'v': 7.38,\n            'f': \"7.38\",\n        }],\n [{\n            'v': 469,\n            'f': \"469\",\n        },\n\"AAPL\",\n\"2002-09-01 00:00:00\",\n{\n            'v': 7.25,\n            'f': \"7.25\",\n        }],\n [{\n            'v': 470,\n            'f': \"470\",\n        },\n\"AAPL\",\n\"2002-10-01 00:00:00\",\n{\n            'v': 8.03,\n            'f': \"8.03\",\n        }],\n [{\n            'v': 471,\n            'f': \"471\",\n        },\n\"AAPL\",\n\"2002-11-01 00:00:00\",\n{\n            'v': 7.75,\n            'f': \"7.75\",\n        }],\n [{\n            'v': 472,\n            'f': \"472\",\n        },\n\"AAPL\",\n\"2002-12-01 00:00:00\",\n{\n            'v': 7.16,\n            'f': \"7.16\",\n        }],\n [{\n            'v': 473,\n            'f': \"473\",\n        },\n\"AAPL\",\n\"2003-01-01 00:00:00\",\n{\n            'v': 7.18,\n            'f': \"7.18\",\n        }],\n [{\n            'v': 474,\n            'f': \"474\",\n        },\n\"AAPL\",\n\"2003-02-01 00:00:00\",\n{\n            'v': 7.51,\n            'f': \"7.51\",\n        }],\n [{\n            'v': 475,\n            'f': \"475\",\n        },\n\"AAPL\",\n\"2003-03-01 00:00:00\",\n{\n            'v': 7.07,\n            'f': \"7.07\",\n        }],\n [{\n            'v': 476,\n            'f': \"476\",\n        },\n\"AAPL\",\n\"2003-04-01 00:00:00\",\n{\n            'v': 7.11,\n            'f': \"7.11\",\n        }],\n [{\n            'v': 477,\n            'f': \"477\",\n        },\n\"AAPL\",\n\"2003-05-01 00:00:00\",\n{\n            'v': 8.98,\n            'f': \"8.98\",\n        }],\n [{\n            'v': 478,\n            'f': \"478\",\n        },\n\"AAPL\",\n\"2003-06-01 00:00:00\",\n{\n            'v': 9.53,\n            'f': \"9.53\",\n        }],\n [{\n            'v': 479,\n            'f': \"479\",\n        },\n\"AAPL\",\n\"2003-07-01 00:00:00\",\n{\n            'v': 10.54,\n            'f': \"10.54\",\n        }],\n [{\n            'v': 480,\n            'f': \"480\",\n        },\n\"AAPL\",\n\"2003-08-01 00:00:00\",\n{\n            'v': 11.31,\n            'f': \"11.31\",\n        }],\n [{\n            'v': 481,\n            'f': \"481\",\n        },\n\"AAPL\",\n\"2003-09-01 00:00:00\",\n{\n            'v': 10.36,\n            'f': \"10.36\",\n        }],\n [{\n            'v': 482,\n            'f': \"482\",\n        },\n\"AAPL\",\n\"2003-10-01 00:00:00\",\n{\n            'v': 11.44,\n            'f': \"11.44\",\n        }],\n [{\n            'v': 483,\n            'f': \"483\",\n        },\n\"AAPL\",\n\"2003-11-01 00:00:00\",\n{\n            'v': 10.45,\n            'f': \"10.45\",\n        }],\n [{\n            'v': 484,\n            'f': \"484\",\n        },\n\"AAPL\",\n\"2003-12-01 00:00:00\",\n{\n            'v': 10.69,\n            'f': \"10.69\",\n        }],\n [{\n            'v': 485,\n            'f': \"485\",\n        },\n\"AAPL\",\n\"2004-01-01 00:00:00\",\n{\n            'v': 11.28,\n            'f': \"11.28\",\n        }],\n [{\n            'v': 486,\n            'f': \"486\",\n        },\n\"AAPL\",\n\"2004-02-01 00:00:00\",\n{\n            'v': 11.96,\n            'f': \"11.96\",\n        }],\n [{\n            'v': 487,\n            'f': \"487\",\n        },\n\"AAPL\",\n\"2004-03-01 00:00:00\",\n{\n            'v': 13.52,\n            'f': \"13.52\",\n        }],\n [{\n            'v': 488,\n            'f': \"488\",\n        },\n\"AAPL\",\n\"2004-04-01 00:00:00\",\n{\n            'v': 12.89,\n            'f': \"12.89\",\n        }],\n [{\n            'v': 489,\n            'f': \"489\",\n        },\n\"AAPL\",\n\"2004-05-01 00:00:00\",\n{\n            'v': 14.03,\n            'f': \"14.03\",\n        }],\n [{\n            'v': 490,\n            'f': \"490\",\n        },\n\"AAPL\",\n\"2004-06-01 00:00:00\",\n{\n            'v': 16.27,\n            'f': \"16.27\",\n        }],\n [{\n            'v': 491,\n            'f': \"491\",\n        },\n\"AAPL\",\n\"2004-07-01 00:00:00\",\n{\n            'v': 16.17,\n            'f': \"16.17\",\n        }],\n [{\n            'v': 492,\n            'f': \"492\",\n        },\n\"AAPL\",\n\"2004-08-01 00:00:00\",\n{\n            'v': 17.25,\n            'f': \"17.25\",\n        }],\n [{\n            'v': 493,\n            'f': \"493\",\n        },\n\"AAPL\",\n\"2004-09-01 00:00:00\",\n{\n            'v': 19.38,\n            'f': \"19.38\",\n        }],\n [{\n            'v': 494,\n            'f': \"494\",\n        },\n\"AAPL\",\n\"2004-10-01 00:00:00\",\n{\n            'v': 26.2,\n            'f': \"26.2\",\n        }],\n [{\n            'v': 495,\n            'f': \"495\",\n        },\n\"AAPL\",\n\"2004-11-01 00:00:00\",\n{\n            'v': 33.53,\n            'f': \"33.53\",\n        }],\n [{\n            'v': 496,\n            'f': \"496\",\n        },\n\"AAPL\",\n\"2004-12-01 00:00:00\",\n{\n            'v': 32.2,\n            'f': \"32.2\",\n        }],\n [{\n            'v': 497,\n            'f': \"497\",\n        },\n\"AAPL\",\n\"2005-01-01 00:00:00\",\n{\n            'v': 38.45,\n            'f': \"38.45\",\n        }],\n [{\n            'v': 498,\n            'f': \"498\",\n        },\n\"AAPL\",\n\"2005-02-01 00:00:00\",\n{\n            'v': 44.86,\n            'f': \"44.86\",\n        }],\n [{\n            'v': 499,\n            'f': \"499\",\n        },\n\"AAPL\",\n\"2005-03-01 00:00:00\",\n{\n            'v': 41.67,\n            'f': \"41.67\",\n        }],\n [{\n            'v': 500,\n            'f': \"500\",\n        },\n\"AAPL\",\n\"2005-04-01 00:00:00\",\n{\n            'v': 36.06,\n            'f': \"36.06\",\n        }],\n [{\n            'v': 501,\n            'f': \"501\",\n        },\n\"AAPL\",\n\"2005-05-01 00:00:00\",\n{\n            'v': 39.76,\n            'f': \"39.76\",\n        }],\n [{\n            'v': 502,\n            'f': \"502\",\n        },\n\"AAPL\",\n\"2005-06-01 00:00:00\",\n{\n            'v': 36.81,\n            'f': \"36.81\",\n        }],\n [{\n            'v': 503,\n            'f': \"503\",\n        },\n\"AAPL\",\n\"2005-07-01 00:00:00\",\n{\n            'v': 42.65,\n            'f': \"42.65\",\n        }],\n [{\n            'v': 504,\n            'f': \"504\",\n        },\n\"AAPL\",\n\"2005-08-01 00:00:00\",\n{\n            'v': 46.89,\n            'f': \"46.89\",\n        }],\n [{\n            'v': 505,\n            'f': \"505\",\n        },\n\"AAPL\",\n\"2005-09-01 00:00:00\",\n{\n            'v': 53.61,\n            'f': \"53.61\",\n        }],\n [{\n            'v': 506,\n            'f': \"506\",\n        },\n\"AAPL\",\n\"2005-10-01 00:00:00\",\n{\n            'v': 57.59,\n            'f': \"57.59\",\n        }],\n [{\n            'v': 507,\n            'f': \"507\",\n        },\n\"AAPL\",\n\"2005-11-01 00:00:00\",\n{\n            'v': 67.82,\n            'f': \"67.82\",\n        }],\n [{\n            'v': 508,\n            'f': \"508\",\n        },\n\"AAPL\",\n\"2005-12-01 00:00:00\",\n{\n            'v': 71.89,\n            'f': \"71.89\",\n        }],\n [{\n            'v': 509,\n            'f': \"509\",\n        },\n\"AAPL\",\n\"2006-01-01 00:00:00\",\n{\n            'v': 75.51,\n            'f': \"75.51\",\n        }],\n [{\n            'v': 510,\n            'f': \"510\",\n        },\n\"AAPL\",\n\"2006-02-01 00:00:00\",\n{\n            'v': 68.49,\n            'f': \"68.49\",\n        }],\n [{\n            'v': 511,\n            'f': \"511\",\n        },\n\"AAPL\",\n\"2006-03-01 00:00:00\",\n{\n            'v': 62.72,\n            'f': \"62.72\",\n        }],\n [{\n            'v': 512,\n            'f': \"512\",\n        },\n\"AAPL\",\n\"2006-04-01 00:00:00\",\n{\n            'v': 70.39,\n            'f': \"70.39\",\n        }],\n [{\n            'v': 513,\n            'f': \"513\",\n        },\n\"AAPL\",\n\"2006-05-01 00:00:00\",\n{\n            'v': 59.77,\n            'f': \"59.77\",\n        }],\n [{\n            'v': 514,\n            'f': \"514\",\n        },\n\"AAPL\",\n\"2006-06-01 00:00:00\",\n{\n            'v': 57.27,\n            'f': \"57.27\",\n        }],\n [{\n            'v': 515,\n            'f': \"515\",\n        },\n\"AAPL\",\n\"2006-07-01 00:00:00\",\n{\n            'v': 67.96,\n            'f': \"67.96\",\n        }],\n [{\n            'v': 516,\n            'f': \"516\",\n        },\n\"AAPL\",\n\"2006-08-01 00:00:00\",\n{\n            'v': 67.85,\n            'f': \"67.85\",\n        }],\n [{\n            'v': 517,\n            'f': \"517\",\n        },\n\"AAPL\",\n\"2006-09-01 00:00:00\",\n{\n            'v': 76.98,\n            'f': \"76.98\",\n        }],\n [{\n            'v': 518,\n            'f': \"518\",\n        },\n\"AAPL\",\n\"2006-10-01 00:00:00\",\n{\n            'v': 81.08,\n            'f': \"81.08\",\n        }],\n [{\n            'v': 519,\n            'f': \"519\",\n        },\n\"AAPL\",\n\"2006-11-01 00:00:00\",\n{\n            'v': 91.66,\n            'f': \"91.66\",\n        }],\n [{\n            'v': 520,\n            'f': \"520\",\n        },\n\"AAPL\",\n\"2006-12-01 00:00:00\",\n{\n            'v': 84.84,\n            'f': \"84.84\",\n        }],\n [{\n            'v': 521,\n            'f': \"521\",\n        },\n\"AAPL\",\n\"2007-01-01 00:00:00\",\n{\n            'v': 85.73,\n            'f': \"85.73\",\n        }],\n [{\n            'v': 522,\n            'f': \"522\",\n        },\n\"AAPL\",\n\"2007-02-01 00:00:00\",\n{\n            'v': 84.61,\n            'f': \"84.61\",\n        }],\n [{\n            'v': 523,\n            'f': \"523\",\n        },\n\"AAPL\",\n\"2007-03-01 00:00:00\",\n{\n            'v': 92.91,\n            'f': \"92.91\",\n        }],\n [{\n            'v': 524,\n            'f': \"524\",\n        },\n\"AAPL\",\n\"2007-04-01 00:00:00\",\n{\n            'v': 99.8,\n            'f': \"99.8\",\n        }],\n [{\n            'v': 525,\n            'f': \"525\",\n        },\n\"AAPL\",\n\"2007-05-01 00:00:00\",\n{\n            'v': 121.19,\n            'f': \"121.19\",\n        }],\n [{\n            'v': 526,\n            'f': \"526\",\n        },\n\"AAPL\",\n\"2007-06-01 00:00:00\",\n{\n            'v': 122.04,\n            'f': \"122.04\",\n        }],\n [{\n            'v': 527,\n            'f': \"527\",\n        },\n\"AAPL\",\n\"2007-07-01 00:00:00\",\n{\n            'v': 131.76,\n            'f': \"131.76\",\n        }],\n [{\n            'v': 528,\n            'f': \"528\",\n        },\n\"AAPL\",\n\"2007-08-01 00:00:00\",\n{\n            'v': 138.48,\n            'f': \"138.48\",\n        }],\n [{\n            'v': 529,\n            'f': \"529\",\n        },\n\"AAPL\",\n\"2007-09-01 00:00:00\",\n{\n            'v': 153.47,\n            'f': \"153.47\",\n        }],\n [{\n            'v': 530,\n            'f': \"530\",\n        },\n\"AAPL\",\n\"2007-10-01 00:00:00\",\n{\n            'v': 189.95,\n            'f': \"189.95\",\n        }],\n [{\n            'v': 531,\n            'f': \"531\",\n        },\n\"AAPL\",\n\"2007-11-01 00:00:00\",\n{\n            'v': 182.22,\n            'f': \"182.22\",\n        }],\n [{\n            'v': 532,\n            'f': \"532\",\n        },\n\"AAPL\",\n\"2007-12-01 00:00:00\",\n{\n            'v': 198.08,\n            'f': \"198.08\",\n        }],\n [{\n            'v': 533,\n            'f': \"533\",\n        },\n\"AAPL\",\n\"2008-01-01 00:00:00\",\n{\n            'v': 135.36,\n            'f': \"135.36\",\n        }],\n [{\n            'v': 534,\n            'f': \"534\",\n        },\n\"AAPL\",\n\"2008-02-01 00:00:00\",\n{\n            'v': 125.02,\n            'f': \"125.02\",\n        }],\n [{\n            'v': 535,\n            'f': \"535\",\n        },\n\"AAPL\",\n\"2008-03-01 00:00:00\",\n{\n            'v': 143.5,\n            'f': \"143.5\",\n        }],\n [{\n            'v': 536,\n            'f': \"536\",\n        },\n\"AAPL\",\n\"2008-04-01 00:00:00\",\n{\n            'v': 173.95,\n            'f': \"173.95\",\n        }],\n [{\n            'v': 537,\n            'f': \"537\",\n        },\n\"AAPL\",\n\"2008-05-01 00:00:00\",\n{\n            'v': 188.75,\n            'f': \"188.75\",\n        }],\n [{\n            'v': 538,\n            'f': \"538\",\n        },\n\"AAPL\",\n\"2008-06-01 00:00:00\",\n{\n            'v': 167.44,\n            'f': \"167.44\",\n        }],\n [{\n            'v': 539,\n            'f': \"539\",\n        },\n\"AAPL\",\n\"2008-07-01 00:00:00\",\n{\n            'v': 158.95,\n            'f': \"158.95\",\n        }],\n [{\n            'v': 540,\n            'f': \"540\",\n        },\n\"AAPL\",\n\"2008-08-01 00:00:00\",\n{\n            'v': 169.53,\n            'f': \"169.53\",\n        }],\n [{\n            'v': 541,\n            'f': \"541\",\n        },\n\"AAPL\",\n\"2008-09-01 00:00:00\",\n{\n            'v': 113.66,\n            'f': \"113.66\",\n        }],\n [{\n            'v': 542,\n            'f': \"542\",\n        },\n\"AAPL\",\n\"2008-10-01 00:00:00\",\n{\n            'v': 107.59,\n            'f': \"107.59\",\n        }],\n [{\n            'v': 543,\n            'f': \"543\",\n        },\n\"AAPL\",\n\"2008-11-01 00:00:00\",\n{\n            'v': 92.67,\n            'f': \"92.67\",\n        }],\n [{\n            'v': 544,\n            'f': \"544\",\n        },\n\"AAPL\",\n\"2008-12-01 00:00:00\",\n{\n            'v': 85.35,\n            'f': \"85.35\",\n        }],\n [{\n            'v': 545,\n            'f': \"545\",\n        },\n\"AAPL\",\n\"2009-01-01 00:00:00\",\n{\n            'v': 90.13,\n            'f': \"90.13\",\n        }],\n [{\n            'v': 546,\n            'f': \"546\",\n        },\n\"AAPL\",\n\"2009-02-01 00:00:00\",\n{\n            'v': 89.31,\n            'f': \"89.31\",\n        }],\n [{\n            'v': 547,\n            'f': \"547\",\n        },\n\"AAPL\",\n\"2009-03-01 00:00:00\",\n{\n            'v': 105.12,\n            'f': \"105.12\",\n        }],\n [{\n            'v': 548,\n            'f': \"548\",\n        },\n\"AAPL\",\n\"2009-04-01 00:00:00\",\n{\n            'v': 125.83,\n            'f': \"125.83\",\n        }],\n [{\n            'v': 549,\n            'f': \"549\",\n        },\n\"AAPL\",\n\"2009-05-01 00:00:00\",\n{\n            'v': 135.81,\n            'f': \"135.81\",\n        }],\n [{\n            'v': 550,\n            'f': \"550\",\n        },\n\"AAPL\",\n\"2009-06-01 00:00:00\",\n{\n            'v': 142.43,\n            'f': \"142.43\",\n        }],\n [{\n            'v': 551,\n            'f': \"551\",\n        },\n\"AAPL\",\n\"2009-07-01 00:00:00\",\n{\n            'v': 163.39,\n            'f': \"163.39\",\n        }],\n [{\n            'v': 552,\n            'f': \"552\",\n        },\n\"AAPL\",\n\"2009-08-01 00:00:00\",\n{\n            'v': 168.21,\n            'f': \"168.21\",\n        }],\n [{\n            'v': 553,\n            'f': \"553\",\n        },\n\"AAPL\",\n\"2009-09-01 00:00:00\",\n{\n            'v': 185.35,\n            'f': \"185.35\",\n        }],\n [{\n            'v': 554,\n            'f': \"554\",\n        },\n\"AAPL\",\n\"2009-10-01 00:00:00\",\n{\n            'v': 188.5,\n            'f': \"188.5\",\n        }],\n [{\n            'v': 555,\n            'f': \"555\",\n        },\n\"AAPL\",\n\"2009-11-01 00:00:00\",\n{\n            'v': 199.91,\n            'f': \"199.91\",\n        }],\n [{\n            'v': 556,\n            'f': \"556\",\n        },\n\"AAPL\",\n\"2009-12-01 00:00:00\",\n{\n            'v': 210.73,\n            'f': \"210.73\",\n        }],\n [{\n            'v': 557,\n            'f': \"557\",\n        },\n\"AAPL\",\n\"2010-01-01 00:00:00\",\n{\n            'v': 192.06,\n            'f': \"192.06\",\n        }],\n [{\n            'v': 558,\n            'f': \"558\",\n        },\n\"AAPL\",\n\"2010-02-01 00:00:00\",\n{\n            'v': 204.62,\n            'f': \"204.62\",\n        }],\n [{\n            'v': 559,\n            'f': \"559\",\n        },\n\"AAPL\",\n\"2010-03-01 00:00:00\",\n{\n            'v': 223.02,\n            'f': \"223.02\",\n        }]],\n        columns: [[\"number\", \"index\"], [\"string\", \"symbol\"], [\"string\", \"date\"], [\"number\", \"price\"]],\n        columnOptions: [{\"width\": \"1px\", \"className\": \"index_column\"}],\n        rowsPerPage: 25,\n        helpUrl: \"https://colab.research.google.com/notebooks/data_table.ipynb\",\n        suppressOutputScrolling: true,\n        minimumWidth: undefined,\n      });\n    ",
            "text/html": [
              "<div>\n",
              "<style scoped>\n",
              "    .dataframe tbody tr th:only-of-type {\n",
              "        vertical-align: middle;\n",
              "    }\n",
              "\n",
              "    .dataframe tbody tr th {\n",
              "        vertical-align: top;\n",
              "    }\n",
              "\n",
              "    .dataframe thead th {\n",
              "        text-align: right;\n",
              "    }\n",
              "</style>\n",
              "<table border=\"1\" class=\"dataframe\">\n",
              "  <thead>\n",
              "    <tr style=\"text-align: right;\">\n",
              "      <th></th>\n",
              "      <th>symbol</th>\n",
              "      <th>date</th>\n",
              "      <th>price</th>\n",
              "    </tr>\n",
              "  </thead>\n",
              "  <tbody>\n",
              "    <tr>\n",
              "      <th>0</th>\n",
              "      <td>MSFT</td>\n",
              "      <td>2000-01-01</td>\n",
              "      <td>39.81</td>\n",
              "    </tr>\n",
              "    <tr>\n",
              "      <th>1</th>\n",
              "      <td>MSFT</td>\n",
              "      <td>2000-02-01</td>\n",
              "      <td>36.35</td>\n",
              "    </tr>\n",
              "    <tr>\n",
              "      <th>2</th>\n",
              "      <td>MSFT</td>\n",
              "      <td>2000-03-01</td>\n",
              "      <td>43.22</td>\n",
              "    </tr>\n",
              "    <tr>\n",
              "      <th>3</th>\n",
              "      <td>MSFT</td>\n",
              "      <td>2000-04-01</td>\n",
              "      <td>28.37</td>\n",
              "    </tr>\n",
              "    <tr>\n",
              "      <th>4</th>\n",
              "      <td>MSFT</td>\n",
              "      <td>2000-05-01</td>\n",
              "      <td>25.45</td>\n",
              "    </tr>\n",
              "    <tr>\n",
              "      <th>...</th>\n",
              "      <td>...</td>\n",
              "      <td>...</td>\n",
              "      <td>...</td>\n",
              "    </tr>\n",
              "    <tr>\n",
              "      <th>555</th>\n",
              "      <td>AAPL</td>\n",
              "      <td>2009-11-01</td>\n",
              "      <td>199.91</td>\n",
              "    </tr>\n",
              "    <tr>\n",
              "      <th>556</th>\n",
              "      <td>AAPL</td>\n",
              "      <td>2009-12-01</td>\n",
              "      <td>210.73</td>\n",
              "    </tr>\n",
              "    <tr>\n",
              "      <th>557</th>\n",
              "      <td>AAPL</td>\n",
              "      <td>2010-01-01</td>\n",
              "      <td>192.06</td>\n",
              "    </tr>\n",
              "    <tr>\n",
              "      <th>558</th>\n",
              "      <td>AAPL</td>\n",
              "      <td>2010-02-01</td>\n",
              "      <td>204.62</td>\n",
              "    </tr>\n",
              "    <tr>\n",
              "      <th>559</th>\n",
              "      <td>AAPL</td>\n",
              "      <td>2010-03-01</td>\n",
              "      <td>223.02</td>\n",
              "    </tr>\n",
              "  </tbody>\n",
              "</table>\n",
              "<p>560 rows × 3 columns</p>\n",
              "</div>"
            ],
            "text/plain": [
              "    symbol       date   price\n",
              "0     MSFT 2000-01-01   39.81\n",
              "1     MSFT 2000-02-01   36.35\n",
              "2     MSFT 2000-03-01   43.22\n",
              "3     MSFT 2000-04-01   28.37\n",
              "4     MSFT 2000-05-01   25.45\n",
              "..     ...        ...     ...\n",
              "555   AAPL 2009-11-01  199.91\n",
              "556   AAPL 2009-12-01  210.73\n",
              "557   AAPL 2010-01-01  192.06\n",
              "558   AAPL 2010-02-01  204.62\n",
              "559   AAPL 2010-03-01  223.02\n",
              "\n",
              "[560 rows x 3 columns]"
            ]
          },
          "metadata": {
            "tags": []
          },
          "execution_count": 28
        }
      ]
    },
    {
      "cell_type": "markdown",
      "metadata": {
        "id": "8evpmsNgsOaF",
        "colab_type": "text"
      },
      "source": [
        "## Github Rendering of Jupyter\n",
        "\n",
        "This is pretty cool, but [Github](https://help.github.com/en/github/managing-files-in-a-repository/working-with-jupyter-notebook-files-on-github) actually renders the Jupyter notebooks as statis HTML when you browse it. That means just clicking on a `.ipynb` will give you something reasonable. It is not interactive nor is anything running behind it, but it does mean that documents produced by use are easily readable."
      ]
    },
    {
      "cell_type": "markdown",
      "metadata": {
        "id": "-RV8Y3kpyklo",
        "colab_type": "text"
      },
      "source": [
        " "
      ]
    }
  ]
}
